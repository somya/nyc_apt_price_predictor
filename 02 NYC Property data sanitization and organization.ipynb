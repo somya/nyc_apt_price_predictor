{
 "cells": [
  {
   "cell_type": "markdown",
   "metadata": {},
   "source": [
    "# Step 2. Clean up the data and arrange it for analysis"
   ]
  },
  {
   "cell_type": "code",
   "execution_count": 1,
   "metadata": {},
   "outputs": [],
   "source": [
    "import numpy as np\n",
    "import pandas as pd\n",
    "import datetime\n",
    "\n",
    "from datascience import *\n",
    "from datetime import timedelta\n",
    "from datetime import date\n",
    "from datetime import datetime\n",
    "\n",
    "%matplotlib inline\n",
    "import matplotlib.pyplot as plots\n",
    "plots.style.use('fivethirtyeight')\n",
    "\n",
    "import locale"
   ]
  },
  {
   "cell_type": "code",
   "execution_count": 2,
   "metadata": {},
   "outputs": [],
   "source": [
    "# Helpers Functions\n",
    "\n",
    "def print_stats(data): \n",
    "    '''Prints common stats for a data array'''\n",
    "    \n",
    "    data_mean = np.mean(data)\n",
    "    data_std = np.std(data)\n",
    "    data_min = min(data)\n",
    "    data_max = max(data)\n",
    "\n",
    "    percent_5 = percentile(5, data)\n",
    "    percent_95 = percentile(95, data)\n",
    "    percent_1 = percentile(1, data)\n",
    "    percent_99 = percentile(99, data)\n",
    "    \n",
    "    percent_25 = percentile(25, data)\n",
    "    percent_50 = percentile(50, data)\n",
    "    percent_75 = percentile(75, data)\n",
    "\n",
    "    print(\"Avg:\", data_mean, \"\\tStd:\", data_std, \"\\tMin:\", data_min, \"\\tMax:\", data_max)\n",
    "    print(\" 5%:\", percent_5, \"\\t95%:\", percent_95)\n",
    "    print(\" 1%:\", percent_1, \"\\t99%:\", percent_99)\n",
    "    print(\"25%:\", percent_25, \"\\t50%:\", percent_50, '\\t75%', percent_75)\n",
    "    \n",
    "\n",
    "def print_col_stats(table, col_name):\n",
    "    ''' Print the stats For column named'''\n",
    "    \n",
    "    print(col_name + \"Stats\")\n",
    "    data = table.column(col_name)\n",
    "    print_stats(data)\n",
    "    \n",
    "def draw_hist(table : Table, col_name, offset_percent=0):\n",
    "    ''' Draw a histogram for table with an additional offset percent'''\n",
    "    data = table.column(col_name)\n",
    "    offset_start = percentile(offset_percent, data)\n",
    "    offset_end = percentile(100-offset_percent, data)\n",
    "    table.hist(col_name, bins=np.arange(offset_start, offset_end, (offset_end-offset_start)/20))\n",
    "               \n",
    "def col_stats(table, col_name):\n",
    "    ''' Prints state for a column in table'''\n",
    "    print_col_stats(table, col_name)\n",
    "    draw_hist(table, col_name)\n",
    "               \n",
    "\n",
    "   "
   ]
  },
  {
   "cell_type": "code",
   "execution_count": 3,
   "metadata": {},
   "outputs": [],
   "source": [
    "# helpers\n",
    "\n",
    "def standard_units(any_numbers):\n",
    "    \"Convert any array of numbers to standard units.\"\n",
    "    return (any_numbers - np.mean(any_numbers))/np.std(any_numbers)  \n",
    "\n",
    "def correlation(t, x, y):\n",
    "    return np.mean(standard_units(t.column(x))*standard_units(t.column(y)))\n",
    "\n",
    "def slope(table, x, y):\n",
    "    r = correlation(table, x, y)\n",
    "    return r * np.std(table.column(y))/np.std(table.column(x))\n",
    "\n",
    "def intercept(table, x, y):\n",
    "    a = slope(table, x, y)\n",
    "    return np.mean(table.column(y)) - a * np.mean(table.column(x))\n",
    "\n",
    "def fit(table, x, y):\n",
    "    a = slope(table, x, y)\n",
    "    b = intercept(table, x, y)\n",
    "    return a * table.column(x) + b\n",
    "\n",
    "def residual(table, x, y):\n",
    "    return table.column(y) - fit(table, x, y)\n",
    "\n",
    "def scatter_fit(table, x, y):\n",
    "    plots.scatter(table.column(x), table.column(y), s=20)\n",
    "    plots.plot(table.column(x), fit(table, x, y), lw=2, color='gold')\n",
    "    plots.xlabel(x)\n",
    "    plots.ylabel(y)"
   ]
  },
  {
   "cell_type": "code",
   "execution_count": 4,
   "metadata": {},
   "outputs": [],
   "source": [
    "# Import CSV\n",
    "csv_directory = \"data/csv/\"\n",
    "\n",
    "all_sales_data = Table.read_table(csv_directory+'manhattan.csv', low_memory=False)\n"
   ]
  },
  {
   "cell_type": "code",
   "execution_count": 5,
   "metadata": {},
   "outputs": [],
   "source": [
    "# remove and sales less than $10,000 they are likely to be a property transfer rather than an actual sale\n",
    "\n",
    "all_sales_data = all_sales_data.where('SALE PRICE', are.above(10000))"
   ]
  },
  {
   "cell_type": "code",
   "execution_count": 6,
   "metadata": {},
   "outputs": [],
   "source": [
    "# Declare column names to allow for auto completion :)\n",
    "\n",
    "COL_SALE_DATE = 'SALE DATE'\n",
    "\n",
    "COL_FIRST_SALE_DATE = 'FIRST SALE'\n",
    "COL_LAST_SALE_DATE = 'LAST SALE'\n",
    "COL_FIRST_SALE_PRICE = 'FIRST PRICE'\n",
    "COL_LAST_SALE_PRICE = 'LAST PRICE'\n",
    "COL_FULL_ADDRESS = 'FULL ADDRESS'\n",
    "COL_PRICE_CHANGE = 'PRICE CHANGE'\n",
    "COL_PERIOD = 'PERIOD'\n",
    "\n",
    "COL_SALE_YEAR = 'SALE_YEAR'\n",
    "COL_SALE_MONTH = 'SALE_MONTH'\n",
    "COL_SALE_PRICE = 'SALE PRICE'"
   ]
  },
  {
   "cell_type": "code",
   "execution_count": 7,
   "metadata": {},
   "outputs": [],
   "source": [
    "# Convert sale date from a string to datetime type\n",
    "\n",
    "dates = [ datetime.strptime(d, '%Y-%m-%d') for d in all_sales_data.column(COL_SALE_DATE) ]\n",
    "\n",
    "# Drop string sale date column\n",
    "all_sales_data = all_sales_data.drop(COL_SALE_DATE)\n",
    "# Add the sales as type datetime\n",
    "all_sales_data = all_sales_data.with_column(COL_SALE_DATE, dates)\n",
    "# Move sale date to the first column\n",
    "all_sales_data = all_sales_data.move_to_start(COL_SALE_DATE)\n"
   ]
  },
  {
   "cell_type": "code",
   "execution_count": 8,
   "metadata": {},
   "outputs": [
    {
     "data": {
      "text/html": [
       "<table border=\"1\" class=\"dataframe\">\n",
       "    <thead>\n",
       "        <tr>\n",
       "            <th>SALE DATE</th> <th>Unnamed: 0</th> <th>ADDRESS</th> <th>APARTMENT NUMBER</th> <th>BLOCK</th> <th>BOROUGH</th> <th>BUILDING CLASS AS OF FINAL ROLL 17/18</th> <th>BUILDING CLASS AT PRESENT</th> <th>BUILDING CLASS AT TIME OF SALE</th> <th>BUILDING CLASS CATEGORY</th> <th>COMMERCIAL UNITS</th> <th>EASE-MENT</th> <th>GROSS SQUARE FEET</th> <th>LAND SQUARE FEET</th> <th>LOT</th> <th>NEIGHBORHOOD</th> <th>RESIDENTIAL UNITS</th> <th>SALE PRICE</th> <th>TAX CLASS AS OF FINAL ROLL 17/18</th> <th>TAX CLASS AT PRESENT</th> <th>TAX CLASS AT TIME OF SALE</th> <th>TOTAL UNITS</th> <th>YEAR BUILT</th> <th>ZIP CODE</th>\n",
       "        </tr>\n",
       "    </thead>\n",
       "    <tbody>\n",
       "        <tr>\n",
       "            <td>2004-06-02 00:00:00</td> <td>13333     </td> <td>870 7 AVENUE                             </td> <td>1614            </td> <td>1027 </td> <td>1      </td> <td>nan                                  </td> <td>R5                       </td> <td>R5                            </td> <td>28  COMMERCIAL CONDOS                       </td> <td>1               </td> <td>         </td> <td>0                </td> <td>0               </td> <td>1322</td> <td>MIDTOWN WEST             </td> <td>0                </td> <td>10007     </td> <td>nan                             </td> <td>4                   </td> <td>4                        </td> <td>1          </td> <td>0         </td> <td>10019   </td>\n",
       "        </tr>\n",
       "        <tr>\n",
       "            <td>2004-06-18 00:00:00</td> <td>13428     </td> <td>870 7 AVENUE                             </td> <td>1511            </td> <td>1027 </td> <td>1      </td> <td>nan                                  </td> <td>R5                       </td> <td>R5                            </td> <td>28  COMMERCIAL CONDOS                       </td> <td>1               </td> <td>         </td> <td>0                </td> <td>0               </td> <td>1338</td> <td>MIDTOWN WEST             </td> <td>0                </td> <td>10007     </td> <td>nan                             </td> <td>4                   </td> <td>4                        </td> <td>1          </td> <td>0         </td> <td>10019   </td>\n",
       "        </tr>\n",
       "        <tr>\n",
       "            <td>2003-04-21 00:00:00</td> <td>19770     </td> <td>220                                      </td> <td>104             </td> <td>1171 </td> <td>1      </td> <td>nan                                  </td> <td>R5                       </td> <td>R5                            </td> <td>28  COMMERCIAL CONDOS                       </td> <td>1               </td> <td>         </td> <td>0                </td> <td>0               </td> <td>1917</td> <td>UPPER WEST SIDE (59-79)  </td> <td>0                </td> <td>10020     </td> <td>nan                             </td> <td>4                   </td> <td>4                        </td> <td>1          </td> <td>0         </td> <td>10069   </td>\n",
       "        </tr>\n",
       "        <tr>\n",
       "            <td>2011-06-09 00:00:00</td> <td>11902     </td> <td>200 WEST 56TH   STREET                   </td> <td>                </td> <td>1027 </td> <td>1      </td> <td>nan                                  </td> <td>R5                       </td> <td>R5                            </td> <td>28  COMMERCIAL CONDOS                       </td> <td>1               </td> <td>         </td> <td>0                </td> <td>0               </td> <td>1199</td> <td>MIDTOWN WEST             </td> <td>0                </td> <td>10035     </td> <td>nan                             </td> <td>4                   </td> <td>4                        </td> <td>1          </td> <td>0         </td> <td>10019   </td>\n",
       "        </tr>\n",
       "        <tr>\n",
       "            <td>2011-03-03 00:00:00</td> <td>11956     </td> <td>200 WEST 56TH   STREET                   </td> <td>                </td> <td>1027 </td> <td>1      </td> <td>nan                                  </td> <td>R5                       </td> <td>R5                            </td> <td>28  COMMERCIAL CONDOS                       </td> <td>1               </td> <td>         </td> <td>0                </td> <td>0               </td> <td>1208</td> <td>MIDTOWN WEST             </td> <td>0                </td> <td>10035     </td> <td>nan                             </td> <td>4                   </td> <td>4                        </td> <td>1          </td> <td>0         </td> <td>10019   </td>\n",
       "        </tr>\n",
       "        <tr>\n",
       "            <td>2011-12-21 00:00:00</td> <td>12903     </td> <td>870 7 AVENUE                             </td> <td>220             </td> <td>1027 </td> <td>1      </td> <td>nan                                  </td> <td>R5                       </td> <td>R5                            </td> <td>28  COMMERCIAL CONDOS                       </td> <td>1               </td> <td>         </td> <td>0                </td> <td>0               </td> <td>1721</td> <td>MIDTOWN WEST             </td> <td>0                </td> <td>10035     </td> <td>nan                             </td> <td>4                   </td> <td>4                        </td> <td>1          </td> <td>1925      </td> <td>10019   </td>\n",
       "        </tr>\n",
       "        <tr>\n",
       "            <td>2011-10-19 00:00:00</td> <td>12904     </td> <td>870 7 AVENUE                             </td> <td>220             </td> <td>1027 </td> <td>1      </td> <td>nan                                  </td> <td>R5                       </td> <td>R5                            </td> <td>28  COMMERCIAL CONDOS                       </td> <td>1               </td> <td>         </td> <td>0                </td> <td>0               </td> <td>1721</td> <td>MIDTOWN WEST             </td> <td>0                </td> <td>10035     </td> <td>nan                             </td> <td>4                   </td> <td>4                        </td> <td>1          </td> <td>1925      </td> <td>10019   </td>\n",
       "        </tr>\n",
       "        <tr>\n",
       "            <td>2011-08-24 00:00:00</td> <td>12908     </td> <td>870 7 AVENUE                             </td> <td>220             </td> <td>1027 </td> <td>1      </td> <td>nan                                  </td> <td>R5                       </td> <td>R5                            </td> <td>28  COMMERCIAL CONDOS                       </td> <td>1               </td> <td>         </td> <td>0                </td> <td>0               </td> <td>1721</td> <td>MIDTOWN WEST             </td> <td>0                </td> <td>10035     </td> <td>nan                             </td> <td>4                   </td> <td>4                        </td> <td>1          </td> <td>1925      </td> <td>10019   </td>\n",
       "        </tr>\n",
       "        <tr>\n",
       "            <td>2011-02-23 00:00:00</td> <td>12922     </td> <td>870 7 AVENUE                             </td> <td>221             </td> <td>1027 </td> <td>1      </td> <td>nan                                  </td> <td>R5                       </td> <td>R5                            </td> <td>28  COMMERCIAL CONDOS                       </td> <td>1               </td> <td>         </td> <td>0                </td> <td>0               </td> <td>1722</td> <td>MIDTOWN WEST             </td> <td>0                </td> <td>10035     </td> <td>nan                             </td> <td>4                   </td> <td>4                        </td> <td>1          </td> <td>1925      </td> <td>10019   </td>\n",
       "        </tr>\n",
       "        <tr>\n",
       "            <td>2011-09-14 00:00:00</td> <td>12940     </td> <td>870 7 AVENUE                             </td> <td>223             </td> <td>1027 </td> <td>1      </td> <td>nan                                  </td> <td>R5                       </td> <td>R5                            </td> <td>28  COMMERCIAL CONDOS                       </td> <td>1               </td> <td>         </td> <td>0                </td> <td>0               </td> <td>1724</td> <td>MIDTOWN WEST             </td> <td>0                </td> <td>10035     </td> <td>nan                             </td> <td>4                   </td> <td>4                        </td> <td>1          </td> <td>1925      </td> <td>10019   </td>\n",
       "        </tr>\n",
       "    </tbody>\n",
       "</table>\n",
       "<p>... (280630 rows omitted)</p>"
      ],
      "text/plain": [
       "<IPython.core.display.HTML object>"
      ]
     },
     "metadata": {},
     "output_type": "display_data"
    },
    {
     "data": {
      "text/plain": [
       "('SALE DATE',\n",
       " 'Unnamed: 0',\n",
       " 'ADDRESS',\n",
       " 'APARTMENT NUMBER',\n",
       " 'BLOCK',\n",
       " 'BOROUGH',\n",
       " 'BUILDING CLASS AS OF FINAL ROLL 17/18',\n",
       " 'BUILDING CLASS AT PRESENT',\n",
       " 'BUILDING CLASS AT TIME OF SALE',\n",
       " 'BUILDING CLASS CATEGORY',\n",
       " 'COMMERCIAL UNITS',\n",
       " 'EASE-MENT',\n",
       " 'GROSS SQUARE FEET',\n",
       " 'LAND SQUARE FEET',\n",
       " 'LOT',\n",
       " 'NEIGHBORHOOD',\n",
       " 'RESIDENTIAL UNITS',\n",
       " 'SALE PRICE',\n",
       " 'TAX CLASS AS OF FINAL ROLL 17/18',\n",
       " 'TAX CLASS AT PRESENT',\n",
       " 'TAX CLASS AT TIME OF SALE',\n",
       " 'TOTAL UNITS',\n",
       " 'YEAR BUILT',\n",
       " 'ZIP CODE')"
      ]
     },
     "execution_count": 8,
     "metadata": {},
     "output_type": "execute_result"
    }
   ],
   "source": [
    "# SPOT CHECK: Understand the data lables we might be interested in\n",
    "\n",
    "all_sales_data.sort(\"SALE PRICE\").show(10)\n",
    "all_sales_data.labels"
   ]
  },
  {
   "cell_type": "code",
   "execution_count": 9,
   "metadata": {},
   "outputs": [],
   "source": [
    "# Remove columns we don't actually need. e.g. lot, block etc\n",
    "\n",
    "all_sales_data = all_sales_data.select(['SALE DATE', 'SALE PRICE', 'ADDRESS','APARTMENT NUMBER', 'YEAR BUILT', 'NEIGHBORHOOD', 'ZIP CODE', 'BUILDING CLASS AT TIME OF SALE', 'BUILDING CLASS CATEGORY'])"
   ]
  },
  {
   "cell_type": "code",
   "execution_count": 10,
   "metadata": {},
   "outputs": [
    {
     "name": "stderr",
     "output_type": "stream",
     "text": [
      "/Users/somya/Library/Python/3.7/lib/python/site-packages/datascience/tables.py:361: FutureWarning: column lists are deprecated; pass each as an argument\n",
      "  \"column lists are deprecated; pass each as an argument\", FutureWarning)\n"
     ]
    }
   ],
   "source": [
    "# Combine the Address and Apt No. The data here seems a little messy. Sometime the address itself contains the apt no,\n",
    "# other times it's seperated. Let's create a full address column that combines them into a single address\n",
    "\n",
    "def combine_address(address, aptNo):\n",
    "    \"\"\"Combine the address and Apartment into a single result\"\"\"\n",
    "    temp = address.strip()\n",
    "    if len(aptNo.strip()) > 0:\n",
    "        temp = temp + ', ' + aptNo.strip()\n",
    "    return temp\n",
    "\n",
    "full_address = all_sales_data.apply(combine_address, ['ADDRESS', 'APARTMENT NUMBER'])\n",
    "\n",
    "# Add a Full Address column\n",
    "all_sales_data =  all_sales_data.with_column(COL_FULL_ADDRESS, full_address)"
   ]
  },
  {
   "cell_type": "code",
   "execution_count": 11,
   "metadata": {},
   "outputs": [
    {
     "data": {
      "text/html": [
       "<table border=\"1\" class=\"dataframe\">\n",
       "    <thead>\n",
       "        <tr>\n",
       "            <th>BUILDING CLASS AT TIME OF SALE</th> <th>BUILDING CLASS CATEGORY</th> <th>count</th>\n",
       "        </tr>\n",
       "    </thead>\n",
       "    <tbody>\n",
       "        <tr>\n",
       "            <td>R4                            </td> <td>13  CONDOS - ELEVATOR APARTMENTS            </td> <td>90128</td>\n",
       "        </tr>\n",
       "        <tr>\n",
       "            <td>D4                            </td> <td>10  COOPS - ELEVATOR APARTMENTS             </td> <td>83556</td>\n",
       "        </tr>\n",
       "        <tr>\n",
       "            <td>R5                            </td> <td>28  COMMERCIAL CONDOS                       </td> <td>15569</td>\n",
       "        </tr>\n",
       "        <tr>\n",
       "            <td>R4                            </td> <td>13 CONDOS - ELEVATOR APARTMENTS             </td> <td>10856</td>\n",
       "        </tr>\n",
       "        <tr>\n",
       "            <td>C6                            </td> <td>09  COOPS - WALKUP APARTMENTS               </td> <td>10413</td>\n",
       "        </tr>\n",
       "        <tr>\n",
       "            <td>D4                            </td> <td>10 COOPS - ELEVATOR APARTMENTS              </td> <td>10325</td>\n",
       "        </tr>\n",
       "        <tr>\n",
       "            <td>R9                            </td> <td>17  CONDOPS                                 </td> <td>10097</td>\n",
       "        </tr>\n",
       "        <tr>\n",
       "            <td>H2                            </td> <td>25  LUXURY HOTELS                           </td> <td>6204 </td>\n",
       "        </tr>\n",
       "        <tr>\n",
       "            <td>R9                            </td> <td>17  CONDO COOPS                             </td> <td>4148 </td>\n",
       "        </tr>\n",
       "        <tr>\n",
       "            <td>RH                            </td> <td>45  CONDO HOTELS                            </td> <td>4011 </td>\n",
       "        </tr>\n",
       "        <tr>\n",
       "            <td>D0                            </td> <td>10  COOPS - ELEVATOR APARTMENTS             </td> <td>3324 </td>\n",
       "        </tr>\n",
       "        <tr>\n",
       "            <td>R1                            </td> <td>15  CONDOS - 2-10 UNIT RESIDENTIAL          </td> <td>3250 </td>\n",
       "        </tr>\n",
       "        <tr>\n",
       "            <td>C7                            </td> <td>07  RENTALS - WALKUP APARTMENTS             </td> <td>1900 </td>\n",
       "        </tr>\n",
       "        <tr>\n",
       "            <td>R9                            </td> <td>17 CONDO COOPS                              </td> <td>1645 </td>\n",
       "        </tr>\n",
       "        <tr>\n",
       "            <td>C5                            </td> <td>07  RENTALS - WALKUP APARTMENTS             </td> <td>1473 </td>\n",
       "        </tr>\n",
       "        <tr>\n",
       "            <td>C1                            </td> <td>07  RENTALS - WALKUP APARTMENTS             </td> <td>1414 </td>\n",
       "        </tr>\n",
       "        <tr>\n",
       "            <td>C6                            </td> <td>09 COOPS - WALKUP APARTMENTS                </td> <td>1373 </td>\n",
       "        </tr>\n",
       "        <tr>\n",
       "            <td>R2                            </td> <td>12  CONDOS - WALKUP APARTMENTS              </td> <td>1278 </td>\n",
       "        </tr>\n",
       "        <tr>\n",
       "            <td>C4                            </td> <td>07  RENTALS - WALKUP APARTMENTS             </td> <td>1172 </td>\n",
       "        </tr>\n",
       "        <tr>\n",
       "            <td>H3                            </td> <td>26  OTHER HOTELS                            </td> <td>1052 </td>\n",
       "        </tr>\n",
       "    </tbody>\n",
       "</table>\n",
       "<p>... (298 rows omitted)</p>"
      ],
      "text/plain": [
       "<IPython.core.display.HTML object>"
      ]
     },
     "metadata": {},
     "output_type": "display_data"
    }
   ],
   "source": [
    "# Try to understand Building Class Codes. What are the most common Codes?\n",
    "\n",
    "all_sales_data.group(['BUILDING CLASS AT TIME OF SALE', 'BUILDING CLASS CATEGORY']).sort('count', descending=True).show(20)\n",
    "\n",
    "# Ok mostly condos and co-ops as expected\n",
    "\n",
    "# Question what's R5 -  COMMERCIAL CONDOS? ignoring for now"
   ]
  },
  {
   "cell_type": "markdown",
   "metadata": {},
   "source": [
    "Let's pick out the condos for now. \n",
    "Reference Data: [NYC Building Codes](https://www1.nyc.gov/assets/finance/jump/hlpbldgcode.html) "
   ]
  },
  {
   "cell_type": "code",
   "execution_count": 12,
   "metadata": {},
   "outputs": [
    {
     "data": {
      "text/html": [
       "<table border=\"1\" class=\"dataframe\">\n",
       "    <thead>\n",
       "        <tr>\n",
       "            <th>SALE DATE</th> <th>SALE PRICE</th> <th>ADDRESS</th> <th>APARTMENT NUMBER</th> <th>YEAR BUILT</th> <th>NEIGHBORHOOD</th> <th>ZIP CODE</th> <th>BUILDING CLASS AT TIME OF SALE</th> <th>BUILDING CLASS CATEGORY</th> <th>FULL ADDRESS</th>\n",
       "        </tr>\n",
       "    </thead>\n",
       "    <tbody>\n",
       "        <tr>\n",
       "            <td>2012-11-29 00:00:00</td> <td>1776000   </td> <td>343 EAST 30TH   STREET                   </td> <td>19-C            </td> <td>1962      </td> <td>KIPS BAY                 </td> <td>10016   </td> <td>R4                            </td> <td>13  CONDOS - ELEVATOR APARTMENTS            </td> <td>343 EAST 30TH   STREET, 19-C   </td>\n",
       "        </tr>\n",
       "        <tr>\n",
       "            <td>2015-07-14 00:00:00</td> <td>1205000   </td> <td>225 EAST 34TH   STREET                   </td> <td>3K              </td> <td>0         </td> <td>MURRAY HILL              </td> <td>10016   </td> <td>R4                            </td> <td>13  CONDOS - ELEVATOR APARTMENTS            </td> <td>225 EAST 34TH   STREET, 3K     </td>\n",
       "        </tr>\n",
       "        <tr>\n",
       "            <td>2008-10-27 00:00:00</td> <td>988788    </td> <td>200 EAST 66TH   STREET                   </td> <td>A1506           </td> <td>1951      </td> <td>UPPER EAST SIDE (59-79)  </td> <td>10065   </td> <td>R4                            </td> <td>13  CONDOS - ELEVATOR APARTMENTS            </td> <td>200 EAST 66TH   STREET, A1506  </td>\n",
       "        </tr>\n",
       "        <tr>\n",
       "            <td>2015-12-08 00:00:00</td> <td>451230    </td> <td>156-08 RIVERSIDE DRIVE WEST              </td> <td>5K              </td> <td>1920      </td> <td>WASHINGTON HEIGHTS LOWER </td> <td>10032   </td> <td>R4                            </td> <td>13  CONDOS - ELEVATOR APARTMENTS            </td> <td>156-08 RIVERSIDE DRIVE WEST, 5K</td>\n",
       "        </tr>\n",
       "        <tr>\n",
       "            <td>2015-11-03 00:00:00</td> <td>1445915   </td> <td>175 WEST 95TH STREET                     </td> <td>17G             </td> <td>1971      </td> <td>UPPER WEST SIDE (79-96)  </td> <td>10025   </td> <td>R4                            </td> <td>13  CONDOS - ELEVATOR APARTMENTS            </td> <td>175 WEST 95TH STREET, 17G      </td>\n",
       "        </tr>\n",
       "        <tr>\n",
       "            <td>2011-11-02 00:00:00</td> <td>1372410   </td> <td>38 DELANCEY STREET                       </td> <td>12D             </td> <td>2005      </td> <td>LOWER EAST SIDE          </td> <td>10002   </td> <td>R4                            </td> <td>13  CONDOS - ELEVATOR APARTMENTS            </td> <td>38 DELANCEY STREET, 12D        </td>\n",
       "        </tr>\n",
       "        <tr>\n",
       "            <td>2011-05-24 00:00:00</td> <td>677136    </td> <td>123 3 AVENUE                             </td> <td>4B              </td> <td>2009      </td> <td>EAST VILLAGE             </td> <td>10003   </td> <td>R4                            </td> <td>13  CONDOS - ELEVATOR APARTMENTS            </td> <td>123 3 AVENUE, 4B               </td>\n",
       "        </tr>\n",
       "        <tr>\n",
       "            <td>2014-08-25 00:00:00</td> <td>1735000   </td> <td>121 EAST 23RD STREET                     </td> <td>6D              </td> <td>2004      </td> <td>GRAMERCY                 </td> <td>10010   </td> <td>R4                            </td> <td>13  CONDOS - ELEVATOR APARTMENTS            </td> <td>121 EAST 23RD STREET, 6D       </td>\n",
       "        </tr>\n",
       "        <tr>\n",
       "            <td>2017-12-29 00:00:00</td> <td>925000    </td> <td>235 EAST 40TH   STREET                   </td> <td>3D              </td> <td>1986      </td> <td>MIDTOWN EAST             </td> <td>10016   </td> <td>R4                            </td> <td>13 CONDOS - ELEVATOR APARTMENTS             </td> <td>235 EAST 40TH   STREET, 3D     </td>\n",
       "        </tr>\n",
       "        <tr>\n",
       "            <td>2017-01-31 00:00:00</td> <td>2050000   </td> <td>15 BROAD STREET                          </td> <td>1916            </td> <td>1914      </td> <td>FINANCIAL                </td> <td>10005   </td> <td>R4                            </td> <td>13 CONDOS - ELEVATOR APARTMENTS             </td> <td>15 BROAD STREET, 1916          </td>\n",
       "        </tr>\n",
       "    </tbody>\n",
       "</table>"
      ],
      "text/plain": [
       "SALE DATE           | SALE PRICE | ADDRESS                                   | APARTMENT NUMBER | YEAR BUILT | NEIGHBORHOOD              | ZIP CODE | BUILDING CLASS AT TIME OF SALE | BUILDING CLASS CATEGORY                      | FULL ADDRESS\n",
       "2012-11-29 00:00:00 | 1776000    | 343 EAST 30TH   STREET                    | 19-C             | 1962       | KIPS BAY                  | 10016    | R4                             | 13  CONDOS - ELEVATOR APARTMENTS             | 343 EAST 30TH   STREET, 19-C\n",
       "2015-07-14 00:00:00 | 1205000    | 225 EAST 34TH   STREET                    | 3K               | 0          | MURRAY HILL               | 10016    | R4                             | 13  CONDOS - ELEVATOR APARTMENTS             | 225 EAST 34TH   STREET, 3K\n",
       "2008-10-27 00:00:00 | 988788     | 200 EAST 66TH   STREET                    | A1506            | 1951       | UPPER EAST SIDE (59-79)   | 10065    | R4                             | 13  CONDOS - ELEVATOR APARTMENTS             | 200 EAST 66TH   STREET, A1506\n",
       "2015-12-08 00:00:00 | 451230     | 156-08 RIVERSIDE DRIVE WEST               | 5K               | 1920       | WASHINGTON HEIGHTS LOWER  | 10032    | R4                             | 13  CONDOS - ELEVATOR APARTMENTS             | 156-08 RIVERSIDE DRIVE WEST, 5K\n",
       "2015-11-03 00:00:00 | 1445915    | 175 WEST 95TH STREET                      | 17G              | 1971       | UPPER WEST SIDE (79-96)   | 10025    | R4                             | 13  CONDOS - ELEVATOR APARTMENTS             | 175 WEST 95TH STREET, 17G\n",
       "2011-11-02 00:00:00 | 1372410    | 38 DELANCEY STREET                        | 12D              | 2005       | LOWER EAST SIDE           | 10002    | R4                             | 13  CONDOS - ELEVATOR APARTMENTS             | 38 DELANCEY STREET, 12D\n",
       "2011-05-24 00:00:00 | 677136     | 123 3 AVENUE                              | 4B               | 2009       | EAST VILLAGE              | 10003    | R4                             | 13  CONDOS - ELEVATOR APARTMENTS             | 123 3 AVENUE, 4B\n",
       "2014-08-25 00:00:00 | 1735000    | 121 EAST 23RD STREET                      | 6D               | 2004       | GRAMERCY                  | 10010    | R4                             | 13  CONDOS - ELEVATOR APARTMENTS             | 121 EAST 23RD STREET, 6D\n",
       "2017-12-29 00:00:00 | 925000     | 235 EAST 40TH   STREET                    | 3D               | 1986       | MIDTOWN EAST              | 10016    | R4                             | 13 CONDOS - ELEVATOR APARTMENTS              | 235 EAST 40TH   STREET, 3D\n",
       "2017-01-31 00:00:00 | 2050000    | 15 BROAD STREET                           | 1916             | 1914       | FINANCIAL                 | 10005    | R4                             | 13 CONDOS - ELEVATOR APARTMENTS              | 15 BROAD STREET, 1916"
      ]
     },
     "execution_count": 12,
     "metadata": {},
     "output_type": "execute_result"
    }
   ],
   "source": [
    "\n",
    "condos = all_sales_data.where('BUILDING CLASS AT TIME OF SALE', are.contained_in(\"R1R2R3R4R6\"))\n",
    "\n",
    "# Spot Check condo data\n",
    "condos.sample(10)"
   ]
  },
  {
   "cell_type": "markdown",
   "metadata": {},
   "source": [
    "Let's find condos with multiple sales"
   ]
  },
  {
   "cell_type": "code",
   "execution_count": 13,
   "metadata": {},
   "outputs": [
    {
     "data": {
      "text/html": [
       "<table border=\"1\" class=\"dataframe\">\n",
       "    <thead>\n",
       "        <tr>\n",
       "            <th>FULL ADDRESS</th> <th>count</th>\n",
       "        </tr>\n",
       "    </thead>\n",
       "    <tbody>\n",
       "        <tr>\n",
       "            <td>1 WEST END AVENUE        </td> <td>136  </td>\n",
       "        </tr>\n",
       "        <tr>\n",
       "            <td>45 EAST 22ND   STREET    </td> <td>51   </td>\n",
       "        </tr>\n",
       "        <tr>\n",
       "            <td>245 WEST 99TH STREET     </td> <td>50   </td>\n",
       "        </tr>\n",
       "        <tr>\n",
       "            <td>171 WEST 131 STREET      </td> <td>44   </td>\n",
       "        </tr>\n",
       "        <tr>\n",
       "            <td>959 1 AVENUE             </td> <td>42   </td>\n",
       "        </tr>\n",
       "        <tr>\n",
       "            <td>416 WEST 52ND STREET     </td> <td>39   </td>\n",
       "        </tr>\n",
       "        <tr>\n",
       "            <td>245 WEST 99TH   STREET   </td> <td>37   </td>\n",
       "        </tr>\n",
       "        <tr>\n",
       "            <td>2094 FREDRICK DOUGLASS BL</td> <td>35   </td>\n",
       "        </tr>\n",
       "        <tr>\n",
       "            <td>172 MADISON AVENUE       </td> <td>35   </td>\n",
       "        </tr>\n",
       "        <tr>\n",
       "            <td>360 EAST 89TH   STREET   </td> <td>23   </td>\n",
       "        </tr>\n",
       "    </tbody>\n",
       "</table>\n",
       "<p>... (85928 rows omitted)</p>"
      ],
      "text/plain": [
       "FULL ADDRESS              | count\n",
       "1 WEST END AVENUE         | 136\n",
       "45 EAST 22ND   STREET     | 51\n",
       "245 WEST 99TH STREET      | 50\n",
       "171 WEST 131 STREET       | 44\n",
       "959 1 AVENUE              | 42\n",
       "416 WEST 52ND STREET      | 39\n",
       "245 WEST 99TH   STREET    | 37\n",
       "2094 FREDRICK DOUGLASS BL | 35\n",
       "172 MADISON AVENUE        | 35\n",
       "360 EAST 89TH   STREET    | 23\n",
       "... (85928 rows omitted)"
      ]
     },
     "execution_count": 13,
     "metadata": {},
     "output_type": "execute_result"
    }
   ],
   "source": [
    "condos.group(COL_FULL_ADDRESS).sort(1, descending=True)"
   ]
  },
  {
   "cell_type": "markdown",
   "metadata": {},
   "source": [
    "It looks like apt numbers are missing for most of the top sales. In order to focus on manhattan apartments let's ignore anything without an apt number. i.e. anything without a ',' (comma) in the Full Address"
   ]
  },
  {
   "cell_type": "code",
   "execution_count": 14,
   "metadata": {},
   "outputs": [
    {
     "data": {
      "text/html": [
       "<table border=\"1\" class=\"dataframe\">\n",
       "    <thead>\n",
       "        <tr>\n",
       "            <th>FULL ADDRESS</th> <th>count</th>\n",
       "        </tr>\n",
       "    </thead>\n",
       "    <tbody>\n",
       "        <tr>\n",
       "            <td>2 EAST 55 STREET, 835    </td> <td>8    </td>\n",
       "        </tr>\n",
       "        <tr>\n",
       "            <td>2 EAST 55TH   STREET, 935</td> <td>7    </td>\n",
       "        </tr>\n",
       "        <tr>\n",
       "            <td>2 EAST 55 STREET, 921    </td> <td>7    </td>\n",
       "        </tr>\n",
       "        <tr>\n",
       "            <td>2 EAST 55 STREET, 936    </td> <td>6    </td>\n",
       "        </tr>\n",
       "        <tr>\n",
       "            <td>2 EAST 55 STREET, 903    </td> <td>6    </td>\n",
       "        </tr>\n",
       "        <tr>\n",
       "            <td>1420 YORK AVENUE, 5M     </td> <td>6    </td>\n",
       "        </tr>\n",
       "        <tr>\n",
       "            <td>140 7 AVENUE, 6A         </td> <td>6    </td>\n",
       "        </tr>\n",
       "        <tr>\n",
       "            <td>900 PARK AVENUE, 8E      </td> <td>5    </td>\n",
       "        </tr>\n",
       "        <tr>\n",
       "            <td>900 PARK AVENUE, 27E     </td> <td>5    </td>\n",
       "        </tr>\n",
       "        <tr>\n",
       "            <td>90 WILLIAM STREET, 2A    </td> <td>5    </td>\n",
       "        </tr>\n",
       "    </tbody>\n",
       "</table>\n",
       "<p>... (16177 rows omitted)</p>"
      ],
      "text/plain": [
       "FULL ADDRESS              | count\n",
       "2 EAST 55 STREET, 835     | 8\n",
       "2 EAST 55TH   STREET, 935 | 7\n",
       "2 EAST 55 STREET, 921     | 7\n",
       "2 EAST 55 STREET, 936     | 6\n",
       "2 EAST 55 STREET, 903     | 6\n",
       "1420 YORK AVENUE, 5M      | 6\n",
       "140 7 AVENUE, 6A          | 6\n",
       "900 PARK AVENUE, 8E       | 5\n",
       "900 PARK AVENUE, 27E      | 5\n",
       "90 WILLIAM STREET, 2A     | 5\n",
       "... (16177 rows omitted)"
      ]
     },
     "execution_count": 14,
     "metadata": {},
     "output_type": "execute_result"
    }
   ],
   "source": [
    "\n",
    "multi_sale_condos = condos.where('FULL ADDRESS', are.containing(',')).group('FULL ADDRESS').sort(1, descending=True).where('count', are.above(1))\n",
    "multi_sale_condos\n",
    "\n"
   ]
  },
  {
   "cell_type": "markdown",
   "metadata": {},
   "source": [
    "There are a lot less records with apt numbers, but still roughly 16K records enough to proceed."
   ]
  },
  {
   "cell_type": "code",
   "execution_count": 15,
   "metadata": {},
   "outputs": [
    {
     "data": {
      "text/html": [
       "<table border=\"1\" class=\"dataframe\">\n",
       "    <thead>\n",
       "        <tr>\n",
       "            <th>FULL ADDRESS</th> <th>count</th> <th>SALE DATE</th> <th>SALE PRICE</th> <th>ADDRESS</th> <th>APARTMENT NUMBER</th> <th>YEAR BUILT</th> <th>NEIGHBORHOOD</th> <th>ZIP CODE</th> <th>BUILDING CLASS AT TIME OF SALE</th> <th>BUILDING CLASS CATEGORY</th>\n",
       "        </tr>\n",
       "    </thead>\n",
       "    <tbody>\n",
       "        <tr>\n",
       "            <td>1 BOND STREET, 2B</td> <td>2    </td> <td>2004-08-04 00:00:00</td> <td>31000     </td> <td>1 BOND STREET                            </td> <td>2B              </td> <td>0         </td> <td>GREENWICH VILLAGE-CENTRAL</td> <td>10012   </td> <td>R4                            </td> <td>13  CONDOS - ELEVATOR APARTMENTS            </td>\n",
       "        </tr>\n",
       "        <tr>\n",
       "            <td>1 BOND STREET, 2B</td> <td>2    </td> <td>2009-08-20 00:00:00</td> <td>1591000   </td> <td>1 BOND STREET                            </td> <td>2B              </td> <td>0         </td> <td>GREENWICH VILLAGE-CENTRAL</td> <td>10012   </td> <td>R4                            </td> <td>13  CONDOS - ELEVATOR APARTMENTS            </td>\n",
       "        </tr>\n",
       "        <tr>\n",
       "            <td>1 BOND STREET, 2C</td> <td>2    </td> <td>2017-08-18 00:00:00</td> <td>5640000   </td> <td>1 BOND STREET                            </td> <td>2C              </td> <td>0         </td> <td>GREENWICH VILLAGE-CENTRAL</td> <td>10012   </td> <td>R4                            </td> <td>13 CONDOS - ELEVATOR APARTMENTS             </td>\n",
       "        </tr>\n",
       "        <tr>\n",
       "            <td>1 BOND STREET, 2C</td> <td>2    </td> <td>2010-12-15 00:00:00</td> <td>600000    </td> <td>1 BOND STREET                            </td> <td>2C              </td> <td>0         </td> <td>GREENWICH VILLAGE-CENTRAL</td> <td>10012   </td> <td>R4                            </td> <td>13  CONDOS - ELEVATOR APARTMENTS            </td>\n",
       "        </tr>\n",
       "        <tr>\n",
       "            <td>1 BOND STREET, 2D</td> <td>2    </td> <td>2009-04-24 00:00:00</td> <td>1195000   </td> <td>1 BOND STREET                            </td> <td>2D              </td> <td>0         </td> <td>GREENWICH VILLAGE-CENTRAL</td> <td>10012   </td> <td>R4                            </td> <td>13  CONDOS - ELEVATOR APARTMENTS            </td>\n",
       "        </tr>\n",
       "        <tr>\n",
       "            <td>1 BOND STREET, 2D</td> <td>2    </td> <td>2014-01-07 00:00:00</td> <td>1925000   </td> <td>1 BOND STREET                            </td> <td>2D              </td> <td>0         </td> <td>GREENWICH VILLAGE-CENTRAL</td> <td>10012   </td> <td>R4                            </td> <td>13  CONDOS - ELEVATOR APARTMENTS            </td>\n",
       "        </tr>\n",
       "        <tr>\n",
       "            <td>1 BOND STREET, 3A</td> <td>2    </td> <td>2013-06-14 00:00:00</td> <td>7200000   </td> <td>1 BOND STREET                            </td> <td>3A              </td> <td>0         </td> <td>GREENWICH VILLAGE-CENTRAL</td> <td>10012   </td> <td>R4                            </td> <td>13  CONDOS - ELEVATOR APARTMENTS            </td>\n",
       "        </tr>\n",
       "        <tr>\n",
       "            <td>1 BOND STREET, 3A</td> <td>2    </td> <td>2008-06-06 00:00:00</td> <td>5030000   </td> <td>1 BOND STREET                            </td> <td>3A              </td> <td>0         </td> <td>GREENWICH VILLAGE-CENTRAL</td> <td>10012   </td> <td>R4                            </td> <td>13  CONDOS - ELEVATOR APARTMENTS            </td>\n",
       "        </tr>\n",
       "        <tr>\n",
       "            <td>1 BOND STREET, 4D</td> <td>2    </td> <td>2006-08-30 00:00:00</td> <td>1565000   </td> <td>1 BOND STREET                            </td> <td>4D              </td> <td>0         </td> <td>GREENWICH VILLAGE-CENTRAL</td> <td>10012   </td> <td>R4                            </td> <td>13  CONDOS - ELEVATOR APARTMENTS            </td>\n",
       "        </tr>\n",
       "        <tr>\n",
       "            <td>1 BOND STREET, 4D</td> <td>2    </td> <td>2013-08-20 00:00:00</td> <td>2415000   </td> <td>1 BOND STREET                            </td> <td>4D              </td> <td>0         </td> <td>GREENWICH VILLAGE-CENTRAL</td> <td>10012   </td> <td>R4                            </td> <td>13  CONDOS - ELEVATOR APARTMENTS            </td>\n",
       "        </tr>\n",
       "    </tbody>\n",
       "</table>\n",
       "<p>... (35415 rows omitted)</p>"
      ],
      "text/plain": [
       "FULL ADDRESS      | count | SALE DATE           | SALE PRICE | ADDRESS                                   | APARTMENT NUMBER | YEAR BUILT | NEIGHBORHOOD              | ZIP CODE | BUILDING CLASS AT TIME OF SALE | BUILDING CLASS CATEGORY\n",
       "1 BOND STREET, 2B | 2     | 2004-08-04 00:00:00 | 31000      | 1 BOND STREET                             | 2B               | 0          | GREENWICH VILLAGE-CENTRAL | 10012    | R4                             | 13  CONDOS - ELEVATOR APARTMENTS\n",
       "1 BOND STREET, 2B | 2     | 2009-08-20 00:00:00 | 1591000    | 1 BOND STREET                             | 2B               | 0          | GREENWICH VILLAGE-CENTRAL | 10012    | R4                             | 13  CONDOS - ELEVATOR APARTMENTS\n",
       "1 BOND STREET, 2C | 2     | 2017-08-18 00:00:00 | 5640000    | 1 BOND STREET                             | 2C               | 0          | GREENWICH VILLAGE-CENTRAL | 10012    | R4                             | 13 CONDOS - ELEVATOR APARTMENTS\n",
       "1 BOND STREET, 2C | 2     | 2010-12-15 00:00:00 | 600000     | 1 BOND STREET                             | 2C               | 0          | GREENWICH VILLAGE-CENTRAL | 10012    | R4                             | 13  CONDOS - ELEVATOR APARTMENTS\n",
       "1 BOND STREET, 2D | 2     | 2009-04-24 00:00:00 | 1195000    | 1 BOND STREET                             | 2D               | 0          | GREENWICH VILLAGE-CENTRAL | 10012    | R4                             | 13  CONDOS - ELEVATOR APARTMENTS\n",
       "1 BOND STREET, 2D | 2     | 2014-01-07 00:00:00 | 1925000    | 1 BOND STREET                             | 2D               | 0          | GREENWICH VILLAGE-CENTRAL | 10012    | R4                             | 13  CONDOS - ELEVATOR APARTMENTS\n",
       "1 BOND STREET, 3A | 2     | 2013-06-14 00:00:00 | 7200000    | 1 BOND STREET                             | 3A               | 0          | GREENWICH VILLAGE-CENTRAL | 10012    | R4                             | 13  CONDOS - ELEVATOR APARTMENTS\n",
       "1 BOND STREET, 3A | 2     | 2008-06-06 00:00:00 | 5030000    | 1 BOND STREET                             | 3A               | 0          | GREENWICH VILLAGE-CENTRAL | 10012    | R4                             | 13  CONDOS - ELEVATOR APARTMENTS\n",
       "1 BOND STREET, 4D | 2     | 2006-08-30 00:00:00 | 1565000    | 1 BOND STREET                             | 4D               | 0          | GREENWICH VILLAGE-CENTRAL | 10012    | R4                             | 13  CONDOS - ELEVATOR APARTMENTS\n",
       "1 BOND STREET, 4D | 2     | 2013-08-20 00:00:00 | 2415000    | 1 BOND STREET                             | 4D               | 0          | GREENWICH VILLAGE-CENTRAL | 10012    | R4                             | 13  CONDOS - ELEVATOR APARTMENTS\n",
       "... (35415 rows omitted)"
      ]
     },
     "execution_count": 15,
     "metadata": {},
     "output_type": "execute_result"
    }
   ],
   "source": [
    "# Define a new table for condos with multiple sales. \n",
    "\n",
    "multi_sale_condos = multi_sale_condos.join(COL_FULL_ADDRESS, condos)\n",
    "multi_sale_condos.sort(0)"
   ]
  },
  {
   "cell_type": "markdown",
   "metadata": {},
   "source": [
    "## Find the first and last sale date for each condo"
   ]
  },
  {
   "cell_type": "code",
   "execution_count": 16,
   "metadata": {},
   "outputs": [
    {
     "data": {
      "text/html": [
       "<table border=\"1\" class=\"dataframe\">\n",
       "    <thead>\n",
       "        <tr>\n",
       "            <th>FULL ADDRESS</th> <th>SALE DATE min</th>\n",
       "        </tr>\n",
       "    </thead>\n",
       "    <tbody>\n",
       "        <tr>\n",
       "            <td>1 BOND STREET, 2B</td> <td>2004-08-04 00:00:00</td>\n",
       "        </tr>\n",
       "        <tr>\n",
       "            <td>1 BOND STREET, 2C</td> <td>2010-12-15 00:00:00</td>\n",
       "        </tr>\n",
       "        <tr>\n",
       "            <td>1 BOND STREET, 2D</td> <td>2009-04-24 00:00:00</td>\n",
       "        </tr>\n",
       "        <tr>\n",
       "            <td>1 BOND STREET, 3A</td> <td>2008-06-06 00:00:00</td>\n",
       "        </tr>\n",
       "        <tr>\n",
       "            <td>1 BOND STREET, 4D</td> <td>2006-08-30 00:00:00</td>\n",
       "        </tr>\n",
       "    </tbody>\n",
       "</table>\n",
       "<p>... (16182 rows omitted)</p>"
      ],
      "text/plain": [
       "<IPython.core.display.HTML object>"
      ]
     },
     "metadata": {},
     "output_type": "display_data"
    },
    {
     "data": {
      "text/html": [
       "<table border=\"1\" class=\"dataframe\">\n",
       "    <thead>\n",
       "        <tr>\n",
       "            <th>FULL ADDRESS</th> <th>SALE DATE max</th>\n",
       "        </tr>\n",
       "    </thead>\n",
       "    <tbody>\n",
       "        <tr>\n",
       "            <td>1 BOND STREET, 2B</td> <td>2009-08-20 00:00:00</td>\n",
       "        </tr>\n",
       "        <tr>\n",
       "            <td>1 BOND STREET, 2C</td> <td>2017-08-18 00:00:00</td>\n",
       "        </tr>\n",
       "        <tr>\n",
       "            <td>1 BOND STREET, 2D</td> <td>2014-01-07 00:00:00</td>\n",
       "        </tr>\n",
       "        <tr>\n",
       "            <td>1 BOND STREET, 3A</td> <td>2013-06-14 00:00:00</td>\n",
       "        </tr>\n",
       "        <tr>\n",
       "            <td>1 BOND STREET, 4D</td> <td>2013-08-20 00:00:00</td>\n",
       "        </tr>\n",
       "    </tbody>\n",
       "</table>\n",
       "<p>... (16182 rows omitted)</p>"
      ],
      "text/plain": [
       "<IPython.core.display.HTML object>"
      ]
     },
     "metadata": {},
     "output_type": "display_data"
    }
   ],
   "source": [
    "first_sale_dates = multi_sale_condos.select(0, 2).group([0], min)\n",
    "last_sale_dates = multi_sale_condos.select(0, 2).group([0], max)\n",
    "\n",
    "# Spot check data\n",
    "first_sale_dates.show(5)\n",
    "last_sale_dates.show(5)"
   ]
  },
  {
   "cell_type": "code",
   "execution_count": 17,
   "metadata": {},
   "outputs": [],
   "source": [
    "# Update Labels\n",
    "\n",
    "first_sale_dates = first_sale_dates.relabel(1, COL_FIRST_SALE_DATE)\n",
    "last_sale_dates = last_sale_dates.relabel(1, COL_LAST_SALE_DATE)"
   ]
  },
  {
   "cell_type": "code",
   "execution_count": 18,
   "metadata": {},
   "outputs": [],
   "source": [
    "# Join with Condos to get the sale price\n",
    "first_sale_dates = first_sale_dates.join(COL_FULL_ADDRESS, condos, 'FULL ADDRESS').where('SALE DATE', are.equal_to, 'FIRST SALE')\n",
    "first_sale_dates = first_sale_dates.select(COL_FULL_ADDRESS, 'FIRST SALE', 'SALE PRICE')\n",
    "\n",
    "\n",
    "last_sale_dates = last_sale_dates.join(COL_FULL_ADDRESS, condos, 'FULL ADDRESS').where('SALE DATE', are.equal_to, 'LAST SALE')\n",
    "last_sale_dates = last_sale_dates.select(COL_FULL_ADDRESS, 'LAST SALE', 'SALE PRICE')"
   ]
  },
  {
   "cell_type": "code",
   "execution_count": 19,
   "metadata": {},
   "outputs": [
    {
     "data": {
      "text/html": [
       "<table border=\"1\" class=\"dataframe\">\n",
       "    <thead>\n",
       "        <tr>\n",
       "            <th>FULL ADDRESS</th> <th>FIRST SALE</th> <th>SALE PRICE</th>\n",
       "        </tr>\n",
       "    </thead>\n",
       "    <tbody>\n",
       "        <tr>\n",
       "            <td>1 BOND STREET, 2B</td> <td>2004-08-04 00:00:00</td> <td>31000     </td>\n",
       "        </tr>\n",
       "        <tr>\n",
       "            <td>1 BOND STREET, 2C</td> <td>2010-12-15 00:00:00</td> <td>600000    </td>\n",
       "        </tr>\n",
       "        <tr>\n",
       "            <td>1 BOND STREET, 2D</td> <td>2009-04-24 00:00:00</td> <td>1195000   </td>\n",
       "        </tr>\n",
       "        <tr>\n",
       "            <td>1 BOND STREET, 3A</td> <td>2008-06-06 00:00:00</td> <td>5030000   </td>\n",
       "        </tr>\n",
       "        <tr>\n",
       "            <td>1 BOND STREET, 4D</td> <td>2006-08-30 00:00:00</td> <td>1565000   </td>\n",
       "        </tr>\n",
       "    </tbody>\n",
       "</table>\n",
       "<p>... (17342 rows omitted)</p>"
      ],
      "text/plain": [
       "<IPython.core.display.HTML object>"
      ]
     },
     "metadata": {},
     "output_type": "display_data"
    },
    {
     "data": {
      "text/html": [
       "<table border=\"1\" class=\"dataframe\">\n",
       "    <thead>\n",
       "        <tr>\n",
       "            <th>FULL ADDRESS</th> <th>LAST SALE</th> <th>SALE PRICE</th>\n",
       "        </tr>\n",
       "    </thead>\n",
       "    <tbody>\n",
       "        <tr>\n",
       "            <td>1 BOND STREET, 2B</td> <td>2009-08-20 00:00:00</td> <td>1591000   </td>\n",
       "        </tr>\n",
       "        <tr>\n",
       "            <td>1 BOND STREET, 2C</td> <td>2017-08-18 00:00:00</td> <td>5640000   </td>\n",
       "        </tr>\n",
       "        <tr>\n",
       "            <td>1 BOND STREET, 2D</td> <td>2014-01-07 00:00:00</td> <td>1925000   </td>\n",
       "        </tr>\n",
       "        <tr>\n",
       "            <td>1 BOND STREET, 3A</td> <td>2013-06-14 00:00:00</td> <td>7200000   </td>\n",
       "        </tr>\n",
       "        <tr>\n",
       "            <td>1 BOND STREET, 4D</td> <td>2013-08-20 00:00:00</td> <td>2415000   </td>\n",
       "        </tr>\n",
       "    </tbody>\n",
       "</table>\n",
       "<p>... (17843 rows omitted)</p>"
      ],
      "text/plain": [
       "<IPython.core.display.HTML object>"
      ]
     },
     "metadata": {},
     "output_type": "display_data"
    }
   ],
   "source": [
    "first_sale_dates.show(5)\n",
    "last_sale_dates.show(5)\n",
    "\n",
    "# Hmm earlier we had 16187 now we have more! Could we have multiple sale records for the same date??"
   ]
  },
  {
   "cell_type": "code",
   "execution_count": 40,
   "metadata": {},
   "outputs": [
    {
     "data": {
      "text/html": [
       "<table border=\"1\" class=\"dataframe\">\n",
       "    <thead>\n",
       "        <tr>\n",
       "            <th>FULL ADDRESS</th> <th>FIRST SALE</th> <th>count</th>\n",
       "        </tr>\n",
       "    </thead>\n",
       "    <tbody>\n",
       "        <tr>\n",
       "            <td>ONE WALL STREET COURT, 807</td> <td>2006-11-14 00:00:00</td> <td>1    </td>\n",
       "        </tr>\n",
       "        <tr>\n",
       "            <td>993 LEXINGTON AVENUE, 3S  </td> <td>2013-10-30 00:00:00</td> <td>1    </td>\n",
       "        </tr>\n",
       "        <tr>\n",
       "            <td>99 READE STREET, 5W       </td> <td>2011-04-11 00:00:00</td> <td>1    </td>\n",
       "        </tr>\n",
       "        <tr>\n",
       "            <td>99 READE STREET, 5F       </td> <td>2006-04-03 00:00:00</td> <td>1    </td>\n",
       "        </tr>\n",
       "        <tr>\n",
       "            <td>99 READE STREET, 3W       </td> <td>2003-11-03 00:00:00</td> <td>1    </td>\n",
       "        </tr>\n",
       "        <tr>\n",
       "            <td>99 READE STREET, 3F       </td> <td>2007-02-07 00:00:00</td> <td>1    </td>\n",
       "        </tr>\n",
       "        <tr>\n",
       "            <td>99 JOHN STREET, PH10      </td> <td>2012-04-24 00:00:00</td> <td>1    </td>\n",
       "        </tr>\n",
       "        <tr>\n",
       "            <td>99 JOHN STREET, PH04      </td> <td>2011-02-18 00:00:00</td> <td>1    </td>\n",
       "        </tr>\n",
       "        <tr>\n",
       "            <td>99 JOHN STREET, PH03      </td> <td>2011-04-20 00:00:00</td> <td>1    </td>\n",
       "        </tr>\n",
       "        <tr>\n",
       "            <td>99 JOHN STREET, 926       </td> <td>2010-06-11 00:00:00</td> <td>1    </td>\n",
       "        </tr>\n",
       "    </tbody>\n",
       "</table>\n",
       "<p>... (16177 rows omitted)</p>"
      ],
      "text/plain": [
       "FULL ADDRESS               | FIRST SALE          | count\n",
       "ONE WALL STREET COURT, 807 | 2006-11-14 00:00:00 | 1\n",
       "993 LEXINGTON AVENUE, 3S   | 2013-10-30 00:00:00 | 1\n",
       "99 READE STREET, 5W        | 2011-04-11 00:00:00 | 1\n",
       "99 READE STREET, 5F        | 2006-04-03 00:00:00 | 1\n",
       "99 READE STREET, 3W        | 2003-11-03 00:00:00 | 1\n",
       "99 READE STREET, 3F        | 2007-02-07 00:00:00 | 1\n",
       "99 JOHN STREET, PH10       | 2012-04-24 00:00:00 | 1\n",
       "99 JOHN STREET, PH04       | 2011-02-18 00:00:00 | 1\n",
       "99 JOHN STREET, PH03       | 2011-04-20 00:00:00 | 1\n",
       "99 JOHN STREET, 926        | 2010-06-11 00:00:00 | 1\n",
       "... (16177 rows omitted)"
      ]
     },
     "execution_count": 40,
     "metadata": {},
     "output_type": "execute_result"
    }
   ],
   "source": [
    "# Yep duplicate sales on the same day wtf!\n",
    "\n",
    "first_sale_dates.groups([0,1]).sort(2, descending=True).where(2, are.above(1))"
   ]
  },
  {
   "cell_type": "code",
   "execution_count": 21,
   "metadata": {},
   "outputs": [
    {
     "data": {
      "text/html": [
       "<table border=\"1\" class=\"dataframe\">\n",
       "    <thead>\n",
       "        <tr>\n",
       "            <th>SALE DATE</th> <th>SALE PRICE</th> <th>ADDRESS</th> <th>APARTMENT NUMBER</th> <th>YEAR BUILT</th> <th>NEIGHBORHOOD</th> <th>ZIP CODE</th> <th>BUILDING CLASS AT TIME OF SALE</th> <th>BUILDING CLASS CATEGORY</th> <th>FULL ADDRESS</th>\n",
       "        </tr>\n",
       "    </thead>\n",
       "    <tbody>\n",
       "        <tr>\n",
       "            <td>2006-10-09 00:00:00</td> <td>467251    </td> <td>2 EAST 55 STREET                         </td> <td>921             </td> <td>1903      </td> <td>MIDTOWN CBD              </td> <td>10022   </td> <td>R4                            </td> <td>13  CONDOS - ELEVATOR APARTMENTS            </td> <td>2 EAST 55 STREET, 921</td>\n",
       "        </tr>\n",
       "        <tr>\n",
       "            <td>2006-10-09 00:00:00</td> <td>403977    </td> <td>2 EAST 55 STREET                         </td> <td>921             </td> <td>1903      </td> <td>MIDTOWN CBD              </td> <td>10022   </td> <td>R4                            </td> <td>13  CONDOS - ELEVATOR APARTMENTS            </td> <td>2 EAST 55 STREET, 921</td>\n",
       "        </tr>\n",
       "        <tr>\n",
       "            <td>2006-09-05 00:00:00</td> <td>451230    </td> <td>2 EAST 55 STREET                         </td> <td>921             </td> <td>1903      </td> <td>MIDTOWN CBD              </td> <td>10022   </td> <td>R4                            </td> <td>13  CONDOS - ELEVATOR APARTMENTS            </td> <td>2 EAST 55 STREET, 921</td>\n",
       "        </tr>\n",
       "        <tr>\n",
       "            <td>2006-08-22 00:00:00</td> <td>486720    </td> <td>2 EAST 55 STREET                         </td> <td>921             </td> <td>1903      </td> <td>MIDTOWN CBD              </td> <td>10022   </td> <td>R4                            </td> <td>13  CONDOS - ELEVATOR APARTMENTS            </td> <td>2 EAST 55 STREET, 921</td>\n",
       "        </tr>\n",
       "        <tr>\n",
       "            <td>2006-08-22 00:00:00</td> <td>496860    </td> <td>2 EAST 55 STREET                         </td> <td>921             </td> <td>1903      </td> <td>MIDTOWN CBD              </td> <td>10022   </td> <td>R4                            </td> <td>13  CONDOS - ELEVATOR APARTMENTS            </td> <td>2 EAST 55 STREET, 921</td>\n",
       "        </tr>\n",
       "        <tr>\n",
       "            <td>2006-08-22 00:00:00</td> <td>486922    </td> <td>2 EAST 55 STREET                         </td> <td>921             </td> <td>1903      </td> <td>MIDTOWN CBD              </td> <td>10022   </td> <td>R4                            </td> <td>13  CONDOS - ELEVATOR APARTMENTS            </td> <td>2 EAST 55 STREET, 921</td>\n",
       "        </tr>\n",
       "        <tr>\n",
       "            <td>2006-08-22 00:00:00</td> <td>412393    </td> <td>2 EAST 55 STREET                         </td> <td>921             </td> <td>1903      </td> <td>MIDTOWN CBD              </td> <td>10022   </td> <td>R4                            </td> <td>13  CONDOS - ELEVATOR APARTMENTS            </td> <td>2 EAST 55 STREET, 921</td>\n",
       "        </tr>\n",
       "    </tbody>\n",
       "</table>"
      ],
      "text/plain": [
       "<IPython.core.display.HTML object>"
      ]
     },
     "metadata": {},
     "output_type": "display_data"
    },
    {
     "data": {
      "text/html": [
       "<table border=\"1\" class=\"dataframe\">\n",
       "    <thead>\n",
       "        <tr>\n",
       "            <th>FULL ADDRESS</th> <th>FIRST SALE</th> <th>SALE PRICE</th>\n",
       "        </tr>\n",
       "    </thead>\n",
       "    <tbody>\n",
       "    </tbody>\n",
       "</table>"
      ],
      "text/plain": [
       "FULL ADDRESS | FIRST SALE | SALE PRICE"
      ]
     },
     "execution_count": 21,
     "metadata": {},
     "output_type": "execute_result"
    }
   ],
   "source": [
    "# Spot check some duplicate addresses to understand what's going on\n",
    "condos.where('FULL ADDRESS', are.equal_to('2 EAST 55 STREET, 921')).show()\n",
    "first_sale_dates.where('FULL ADDRESS', are.containing('201 WEST 17TH'))"
   ]
  },
  {
   "cell_type": "code",
   "execution_count": 22,
   "metadata": {},
   "outputs": [],
   "source": [
    "# It's not really clear what might be going on. Let's just take the corresponding min and max value to keep moving along\n",
    "\n",
    "first_sale_dates = first_sale_dates.group([0,1], min)\n",
    "last_sale_dates = last_sale_dates.group([0,1], max)"
   ]
  },
  {
   "cell_type": "code",
   "execution_count": 23,
   "metadata": {},
   "outputs": [
    {
     "data": {
      "text/html": [
       "<table border=\"1\" class=\"dataframe\">\n",
       "    <thead>\n",
       "        <tr>\n",
       "            <th>FULL ADDRESS</th> <th>FIRST SALE</th> <th>FIRST PRICE</th> <th>LAST SALE</th> <th>LAST PRICE</th>\n",
       "        </tr>\n",
       "    </thead>\n",
       "    <tbody>\n",
       "        <tr>\n",
       "            <td>1 BOND STREET, 2B         </td> <td>2004-08-04 00:00:00</td> <td>31000      </td> <td>2009-08-20 00:00:00</td> <td>1591000   </td>\n",
       "        </tr>\n",
       "        <tr>\n",
       "            <td>1 BOND STREET, 2C         </td> <td>2010-12-15 00:00:00</td> <td>600000     </td> <td>2017-08-18 00:00:00</td> <td>5640000   </td>\n",
       "        </tr>\n",
       "        <tr>\n",
       "            <td>1 BOND STREET, 2D         </td> <td>2009-04-24 00:00:00</td> <td>1195000    </td> <td>2014-01-07 00:00:00</td> <td>1925000   </td>\n",
       "        </tr>\n",
       "        <tr>\n",
       "            <td>1 BOND STREET, 3A         </td> <td>2008-06-06 00:00:00</td> <td>5030000    </td> <td>2013-06-14 00:00:00</td> <td>7200000   </td>\n",
       "        </tr>\n",
       "        <tr>\n",
       "            <td>1 BOND STREET, 4D         </td> <td>2006-08-30 00:00:00</td> <td>1565000    </td> <td>2013-08-20 00:00:00</td> <td>2415000   </td>\n",
       "        </tr>\n",
       "        <tr>\n",
       "            <td>1 BOND STREET, 6A         </td> <td>2012-12-12 00:00:00</td> <td>3600000    </td> <td>2017-09-06 00:00:00</td> <td>5250000   </td>\n",
       "        </tr>\n",
       "        <tr>\n",
       "            <td>1 BOND STREET, 6B         </td> <td>2004-12-01 00:00:00</td> <td>2996000    </td> <td>2016-05-20 00:00:00</td> <td>4350000   </td>\n",
       "        </tr>\n",
       "        <tr>\n",
       "            <td>1 CENTRAL PARK SOUTH, 2002</td> <td>2010-12-01 00:00:00</td> <td>4600000    </td> <td>2018-06-22 00:00:00</td> <td>4750000   </td>\n",
       "        </tr>\n",
       "        <tr>\n",
       "            <td>1 CENTRAL PARK SOUTH, 503 </td> <td>2012-12-18 00:00:00</td> <td>7995000    </td> <td>2017-02-24 00:00:00</td> <td>10150000  </td>\n",
       "        </tr>\n",
       "        <tr>\n",
       "            <td>1 CENTRAL PARK WEST, 23B  </td> <td>2008-04-03 00:00:00</td> <td>5580000    </td> <td>2012-06-28 00:00:00</td> <td>6200000   </td>\n",
       "        </tr>\n",
       "    </tbody>\n",
       "</table>\n",
       "<p>... (16177 rows omitted)</p>"
      ],
      "text/plain": [
       "FULL ADDRESS               | FIRST SALE          | FIRST PRICE | LAST SALE           | LAST PRICE\n",
       "1 BOND STREET, 2B          | 2004-08-04 00:00:00 | 31000       | 2009-08-20 00:00:00 | 1591000\n",
       "1 BOND STREET, 2C          | 2010-12-15 00:00:00 | 600000      | 2017-08-18 00:00:00 | 5640000\n",
       "1 BOND STREET, 2D          | 2009-04-24 00:00:00 | 1195000     | 2014-01-07 00:00:00 | 1925000\n",
       "1 BOND STREET, 3A          | 2008-06-06 00:00:00 | 5030000     | 2013-06-14 00:00:00 | 7200000\n",
       "1 BOND STREET, 4D          | 2006-08-30 00:00:00 | 1565000     | 2013-08-20 00:00:00 | 2415000\n",
       "1 BOND STREET, 6A          | 2012-12-12 00:00:00 | 3600000     | 2017-09-06 00:00:00 | 5250000\n",
       "1 BOND STREET, 6B          | 2004-12-01 00:00:00 | 2996000     | 2016-05-20 00:00:00 | 4350000\n",
       "1 CENTRAL PARK SOUTH, 2002 | 2010-12-01 00:00:00 | 4600000     | 2018-06-22 00:00:00 | 4750000\n",
       "1 CENTRAL PARK SOUTH, 503  | 2012-12-18 00:00:00 | 7995000     | 2017-02-24 00:00:00 | 10150000\n",
       "1 CENTRAL PARK WEST, 23B   | 2008-04-03 00:00:00 | 5580000     | 2012-06-28 00:00:00 | 6200000\n",
       "... (16177 rows omitted)"
      ]
     },
     "execution_count": 23,
     "metadata": {},
     "output_type": "execute_result"
    }
   ],
   "source": [
    "# Relabel and join the first and last sale tables to create a new condo sales table\n",
    "\n",
    "first_sale_dates = first_sale_dates.relabel(2, COL_FIRST_SALE_PRICE)\n",
    "last_sale_dates = last_sale_dates.relabel(2, COL_LAST_SALE_PRICE)\n",
    "\n",
    "\n",
    "condo_sales = first_sale_dates.join(COL_FULL_ADDRESS, last_sale_dates, COL_FULL_ADDRESS)\n",
    "condo_sales"
   ]
  },
  {
   "cell_type": "code",
   "execution_count": 24,
   "metadata": {},
   "outputs": [
    {
     "data": {
      "text/html": [
       "<table border=\"1\" class=\"dataframe\">\n",
       "    <thead>\n",
       "        <tr>\n",
       "            <th>FULL ADDRESS</th> <th>FIRST SALE</th> <th>FIRST PRICE</th> <th>LAST SALE</th> <th>LAST PRICE</th> <th>PRICE CHANGE</th> <th>PERIOD</th>\n",
       "        </tr>\n",
       "    </thead>\n",
       "    <tbody>\n",
       "        <tr>\n",
       "            <td>1 BOND STREET, 2B         </td> <td>2004-08-04 00:00:00</td> <td>31000      </td> <td>2009-08-20 00:00:00</td> <td>1591000   </td> <td>1,560,000   </td> <td>1842  </td>\n",
       "        </tr>\n",
       "        <tr>\n",
       "            <td>1 BOND STREET, 2C         </td> <td>2010-12-15 00:00:00</td> <td>600000     </td> <td>2017-08-18 00:00:00</td> <td>5640000   </td> <td>5,040,000   </td> <td>2438  </td>\n",
       "        </tr>\n",
       "        <tr>\n",
       "            <td>1 BOND STREET, 2D         </td> <td>2009-04-24 00:00:00</td> <td>1195000    </td> <td>2014-01-07 00:00:00</td> <td>1925000   </td> <td>730,000     </td> <td>1719  </td>\n",
       "        </tr>\n",
       "        <tr>\n",
       "            <td>1 BOND STREET, 3A         </td> <td>2008-06-06 00:00:00</td> <td>5030000    </td> <td>2013-06-14 00:00:00</td> <td>7200000   </td> <td>2,170,000   </td> <td>1834  </td>\n",
       "        </tr>\n",
       "        <tr>\n",
       "            <td>1 BOND STREET, 4D         </td> <td>2006-08-30 00:00:00</td> <td>1565000    </td> <td>2013-08-20 00:00:00</td> <td>2415000   </td> <td>850,000     </td> <td>2547  </td>\n",
       "        </tr>\n",
       "        <tr>\n",
       "            <td>1 BOND STREET, 6A         </td> <td>2012-12-12 00:00:00</td> <td>3600000    </td> <td>2017-09-06 00:00:00</td> <td>5250000   </td> <td>1,650,000   </td> <td>1729  </td>\n",
       "        </tr>\n",
       "        <tr>\n",
       "            <td>1 BOND STREET, 6B         </td> <td>2004-12-01 00:00:00</td> <td>2996000    </td> <td>2016-05-20 00:00:00</td> <td>4350000   </td> <td>1,354,000   </td> <td>4188  </td>\n",
       "        </tr>\n",
       "        <tr>\n",
       "            <td>1 CENTRAL PARK SOUTH, 2002</td> <td>2010-12-01 00:00:00</td> <td>4600000    </td> <td>2018-06-22 00:00:00</td> <td>4750000   </td> <td>150,000     </td> <td>2760  </td>\n",
       "        </tr>\n",
       "        <tr>\n",
       "            <td>1 CENTRAL PARK SOUTH, 503 </td> <td>2012-12-18 00:00:00</td> <td>7995000    </td> <td>2017-02-24 00:00:00</td> <td>10150000  </td> <td>2,155,000   </td> <td>1529  </td>\n",
       "        </tr>\n",
       "        <tr>\n",
       "            <td>1 CENTRAL PARK WEST, 23B  </td> <td>2008-04-03 00:00:00</td> <td>5580000    </td> <td>2012-06-28 00:00:00</td> <td>6200000   </td> <td>620,000     </td> <td>1547  </td>\n",
       "        </tr>\n",
       "    </tbody>\n",
       "</table>\n",
       "<p>... (16177 rows omitted)</p>"
      ],
      "text/plain": [
       "FULL ADDRESS               | FIRST SALE          | FIRST PRICE | LAST SALE           | LAST PRICE | PRICE CHANGE | PERIOD\n",
       "1 BOND STREET, 2B          | 2004-08-04 00:00:00 | 31000       | 2009-08-20 00:00:00 | 1591000    | 1,560,000    | 1842\n",
       "1 BOND STREET, 2C          | 2010-12-15 00:00:00 | 600000      | 2017-08-18 00:00:00 | 5640000    | 5,040,000    | 2438\n",
       "1 BOND STREET, 2D          | 2009-04-24 00:00:00 | 1195000     | 2014-01-07 00:00:00 | 1925000    | 730,000      | 1719\n",
       "1 BOND STREET, 3A          | 2008-06-06 00:00:00 | 5030000     | 2013-06-14 00:00:00 | 7200000    | 2,170,000    | 1834\n",
       "1 BOND STREET, 4D          | 2006-08-30 00:00:00 | 1565000     | 2013-08-20 00:00:00 | 2415000    | 850,000      | 2547\n",
       "1 BOND STREET, 6A          | 2012-12-12 00:00:00 | 3600000     | 2017-09-06 00:00:00 | 5250000    | 1,650,000    | 1729\n",
       "1 BOND STREET, 6B          | 2004-12-01 00:00:00 | 2996000     | 2016-05-20 00:00:00 | 4350000    | 1,354,000    | 4188\n",
       "1 CENTRAL PARK SOUTH, 2002 | 2010-12-01 00:00:00 | 4600000     | 2018-06-22 00:00:00 | 4750000    | 150,000      | 2760\n",
       "1 CENTRAL PARK SOUTH, 503  | 2012-12-18 00:00:00 | 7995000     | 2017-02-24 00:00:00 | 10150000   | 2,155,000    | 1529\n",
       "1 CENTRAL PARK WEST, 23B   | 2008-04-03 00:00:00 | 5580000     | 2012-06-28 00:00:00 | 6200000    | 620,000      | 1547\n",
       "... (16177 rows omitted)"
      ]
     },
     "execution_count": 24,
     "metadata": {},
     "output_type": "execute_result"
    }
   ],
   "source": [
    "# Calculate Price and date Diffs\n",
    "\n",
    "price_diffs = condo_sales.column('LAST PRICE') - condo_sales.column('FIRST PRICE')\n",
    "date_diffs = condo_sales.column('LAST SALE') - condo_sales.column('FIRST SALE')\n",
    "\n",
    "date_diffs = [ d.days for d in date_diffs ]\n",
    "\n",
    "\n",
    "condo_sales = condo_sales.with_column( COL_PRICE_CHANGE, price_diffs, COL_PERIOD, date_diffs)\n",
    "condo_sales.set_format(COL_PRICE_CHANGE, NumberFormatter())"
   ]
  },
  {
   "cell_type": "code",
   "execution_count": 25,
   "metadata": {},
   "outputs": [
    {
     "name": "stdout",
     "output_type": "stream",
     "text": [
      "PRICE CHANGEStats\n",
      "Avg: 385685.6324828566 \tStd: 2520627.5306744017 \tMin: -183014844 \tMax: 44312249\n",
      " 5%: -157712 \t95%: 1850000\n",
      " 1%: -1424528 \t99%: 5079780\n",
      "25%: 54540 \t50%: 235000 \t75% 547500\n"
     ]
    },
    {
     "data": {
      "image/png": "[encoded data removed]",
      "text/plain": [
       "<Figure size 432x288 with 1 Axes>"
      ]
     },
     "metadata": {},
     "output_type": "display_data"
    }
   ],
   "source": [
    "# Understand price difference data\n",
    "col_stats(condo_sales, COL_PRICE_CHANGE)\n"
   ]
  },
  {
   "cell_type": "markdown",
   "metadata": {},
   "source": [
    "There look to be some signifiant outliers here. The 99 percentile is $5 but the max is $44 MM a significant. The min value is -$$183MM, a $183 million dollor loss! \n",
    "\n",
    "Let's remove outliers so they dont imapact pricing analysis, but we definitely need to come back and look into what happened here. "
   ]
  },
  {
   "cell_type": "code",
   "execution_count": 26,
   "metadata": {},
   "outputs": [
    {
     "name": "stdout",
     "output_type": "stream",
     "text": [
      "PRICE CHANGEStats\n",
      "Avg: 420234.0630988401 \tStd: 670605.5475993928 \tMin: -1424528 \tMax: 5069645\n",
      " 5%: -119748 \t95%: 1669925\n",
      " 1%: -581575 \t99%: 3433275\n",
      "25%: 58040 \t50%: 234975 \t75% 535000\n"
     ]
    },
    {
     "data": {
      "image/png": "[encoded data removed]",
      "text/plain": [
       "<Figure size 432x288 with 1 Axes>"
      ]
     },
     "metadata": {},
     "output_type": "display_data"
    }
   ],
   "source": [
    "# strip out the Price chnage outliers . \n",
    "percent_1 = percentile(1, price_diffs)\n",
    "percent_99 = percentile(99, price_diffs)\n",
    "\n",
    "condo_sales = condo_sales.where(COL_PRICE_CHANGE, are.between(percent_1, percent_99))\n",
    "col_stats(condo_sales, COL_PRICE_CHANGE)"
   ]
  },
  {
   "cell_type": "markdown",
   "metadata": {},
   "source": [
    "The data looks a look cleaner now to work with"
   ]
  },
  {
   "cell_type": "code",
   "execution_count": 27,
   "metadata": {},
   "outputs": [
    {
     "data": {
      "text/html": [
       "<table border=\"1\" class=\"dataframe\">\n",
       "    <thead>\n",
       "        <tr>\n",
       "            <th>FULL ADDRESS</th> <th>FIRST SALE</th> <th>FIRST PRICE</th> <th>LAST SALE</th> <th>LAST PRICE</th> <th>PRICE CHANGE</th> <th>PERIOD</th>\n",
       "        </tr>\n",
       "    </thead>\n",
       "    <tbody>\n",
       "        <tr>\n",
       "            <td>1 IRVING PLACE, G27B      </td> <td>2017-12-14 00:00:00</td> <td>1950000    </td> <td>2017-12-14 00:00:00</td> <td>1950000   </td> <td>0           </td> <td>0     </td>\n",
       "        </tr>\n",
       "        <tr>\n",
       "            <td>1 IRVING PLACE, G9B       </td> <td>2017-12-14 00:00:00</td> <td>1362500    </td> <td>2017-12-14 00:00:00</td> <td>1362500   </td> <td>0           </td> <td>0     </td>\n",
       "        </tr>\n",
       "        <tr>\n",
       "            <td>1 MOUNT MORRIS PARK WE, 1C</td> <td>2017-09-26 00:00:00</td> <td>1227000    </td> <td>2017-09-26 00:00:00</td> <td>1227000   </td> <td>0           </td> <td>0     </td>\n",
       "        </tr>\n",
       "        <tr>\n",
       "            <td>1 RIVER TERRACE, 4S       </td> <td>2017-12-06 00:00:00</td> <td>2790000    </td> <td>2017-12-06 00:00:00</td> <td>2790000   </td> <td>0           </td> <td>0     </td>\n",
       "        </tr>\n",
       "        <tr>\n",
       "            <td>1 WALL STREET COURT, 201  </td> <td>2017-09-13 00:00:00</td> <td>1160000    </td> <td>2017-09-13 00:00:00</td> <td>1160000   </td> <td>0           </td> <td>0     </td>\n",
       "        </tr>\n",
       "        <tr>\n",
       "            <td>10 LITTLE WEST STREET, 24E</td> <td>2017-11-14 00:00:00</td> <td>2700000    </td> <td>2017-11-14 00:00:00</td> <td>2700000   </td> <td>0           </td> <td>0     </td>\n",
       "        </tr>\n",
       "        <tr>\n",
       "            <td>10 MADISON SQUARE WEST, 4F</td> <td>2017-12-18 00:00:00</td> <td>6950000    </td> <td>2017-12-18 00:00:00</td> <td>6950000   </td> <td>0           </td> <td>0     </td>\n",
       "        </tr>\n",
       "        <tr>\n",
       "            <td>100 11TH AVENUE, 12B      </td> <td>2017-12-15 00:00:00</td> <td>4300000    </td> <td>2017-12-15 00:00:00</td> <td>4300000   </td> <td>0           </td> <td>0     </td>\n",
       "        </tr>\n",
       "        <tr>\n",
       "            <td>100 CENTRAL PARK SOUTH, 4B</td> <td>2017-11-14 00:00:00</td> <td>2350000    </td> <td>2017-11-14 00:00:00</td> <td>2350000   </td> <td>0           </td> <td>0     </td>\n",
       "        </tr>\n",
       "        <tr>\n",
       "            <td>100 CENTRAL PARK SOUTH, 6A</td> <td>2017-12-14 00:00:00</td> <td>2025000    </td> <td>2017-12-14 00:00:00</td> <td>2025000   </td> <td>0           </td> <td>0     </td>\n",
       "        </tr>\n",
       "    </tbody>\n",
       "</table>\n",
       "<p>... (1093 rows omitted)</p>"
      ],
      "text/plain": [
       "FULL ADDRESS               | FIRST SALE          | FIRST PRICE | LAST SALE           | LAST PRICE | PRICE CHANGE | PERIOD\n",
       "1 IRVING PLACE, G27B       | 2017-12-14 00:00:00 | 1950000     | 2017-12-14 00:00:00 | 1950000    | 0            | 0\n",
       "1 IRVING PLACE, G9B        | 2017-12-14 00:00:00 | 1362500     | 2017-12-14 00:00:00 | 1362500    | 0            | 0\n",
       "1 MOUNT MORRIS PARK WE, 1C | 2017-09-26 00:00:00 | 1227000     | 2017-09-26 00:00:00 | 1227000    | 0            | 0\n",
       "1 RIVER TERRACE, 4S        | 2017-12-06 00:00:00 | 2790000     | 2017-12-06 00:00:00 | 2790000    | 0            | 0\n",
       "1 WALL STREET COURT, 201   | 2017-09-13 00:00:00 | 1160000     | 2017-09-13 00:00:00 | 1160000    | 0            | 0\n",
       "10 LITTLE WEST STREET, 24E | 2017-11-14 00:00:00 | 2700000     | 2017-11-14 00:00:00 | 2700000    | 0            | 0\n",
       "10 MADISON SQUARE WEST, 4F | 2017-12-18 00:00:00 | 6950000     | 2017-12-18 00:00:00 | 6950000    | 0            | 0\n",
       "100 11TH AVENUE, 12B       | 2017-12-15 00:00:00 | 4300000     | 2017-12-15 00:00:00 | 4300000    | 0            | 0\n",
       "100 CENTRAL PARK SOUTH, 4B | 2017-11-14 00:00:00 | 2350000     | 2017-11-14 00:00:00 | 2350000    | 0            | 0\n",
       "100 CENTRAL PARK SOUTH, 6A | 2017-12-14 00:00:00 | 2025000     | 2017-12-14 00:00:00 | 2025000    | 0            | 0\n",
       "... (1093 rows omitted)"
      ]
     },
     "execution_count": 27,
     "metadata": {},
     "output_type": "execute_result"
    }
   ],
   "source": [
    "# Some sales are on recorded twice for the same date!\n",
    "\n",
    "\n",
    "condo_sales.where( COL_FIRST_SALE_DATE, are.equal_to, COL_LAST_SALE_DATE )\n",
    "\n"
   ]
  },
  {
   "cell_type": "code",
   "execution_count": 28,
   "metadata": {},
   "outputs": [
    {
     "data": {
      "text/html": [
       "<table border=\"1\" class=\"dataframe\">\n",
       "    <thead>\n",
       "        <tr>\n",
       "            <th>SALE DATE</th> <th>SALE PRICE</th> <th>ADDRESS</th> <th>APARTMENT NUMBER</th> <th>YEAR BUILT</th> <th>NEIGHBORHOOD</th> <th>ZIP CODE</th> <th>BUILDING CLASS AT TIME OF SALE</th> <th>BUILDING CLASS CATEGORY</th> <th>FULL ADDRESS</th>\n",
       "        </tr>\n",
       "    </thead>\n",
       "    <tbody>\n",
       "        <tr>\n",
       "            <td>2016-02-05 00:00:00</td> <td>2925000   </td> <td>101 LEONARD STREET                       </td> <td>3D              </td> <td>1920      </td> <td>CHINATOWN                </td> <td>10013   </td> <td>R4                            </td> <td>13  CONDOS - ELEVATOR APARTMENTS            </td> <td>101 LEONARD STREET, 3D</td>\n",
       "        </tr>\n",
       "        <tr>\n",
       "            <td>2016-02-05 00:00:00</td> <td>1812000   </td> <td>101 LEONARD STREET                       </td> <td>3D              </td> <td>1920      </td> <td>CHINATOWN                </td> <td>10013   </td> <td>R4                            </td> <td>13  CONDOS - ELEVATOR APARTMENTS            </td> <td>101 LEONARD STREET, 3D</td>\n",
       "        </tr>\n",
       "    </tbody>\n",
       "</table>"
      ],
      "text/plain": [
       "SALE DATE           | SALE PRICE | ADDRESS                                   | APARTMENT NUMBER | YEAR BUILT | NEIGHBORHOOD              | ZIP CODE | BUILDING CLASS AT TIME OF SALE | BUILDING CLASS CATEGORY                      | FULL ADDRESS\n",
       "2016-02-05 00:00:00 | 2925000    | 101 LEONARD STREET                        | 3D               | 1920       | CHINATOWN                 | 10013    | R4                             | 13  CONDOS - ELEVATOR APARTMENTS             | 101 LEONARD STREET, 3D\n",
       "2016-02-05 00:00:00 | 1812000    | 101 LEONARD STREET                        | 3D               | 1920       | CHINATOWN                 | 10013    | R4                             | 13  CONDOS - ELEVATOR APARTMENTS             | 101 LEONARD STREET, 3D"
      ]
     },
     "execution_count": 28,
     "metadata": {},
     "output_type": "execute_result"
    }
   ],
   "source": [
    "# Let's spot check these\n",
    "\n",
    "all_sales_data.where(COL_FULL_ADDRESS, are.equal_to('101 LEONARD STREET, 3D')).sort(0)\n",
    "\n",
    "# Hmm something strange going no. Let's ignore for now"
   ]
  },
  {
   "cell_type": "code",
   "execution_count": 29,
   "metadata": {},
   "outputs": [],
   "source": [
    "# Ignore multiple sales on same date\n",
    "\n",
    "condo_sales = condo_sales.where( COL_FIRST_SALE_DATE, are.not_equal_to, COL_LAST_SALE_DATE )\n",
    "\n",
    "\n"
   ]
  },
  {
   "cell_type": "markdown",
   "metadata": {},
   "source": [
    "## Issues with time between sales\n",
    "\n",
    "Looking into the time between 2 sales for the same apartment we find some unusal data"
   ]
  },
  {
   "cell_type": "code",
   "execution_count": 30,
   "metadata": {},
   "outputs": [
    {
     "data": {
      "text/html": [
       "<table border=\"1\" class=\"dataframe\">\n",
       "    <thead>\n",
       "        <tr>\n",
       "            <th>FULL ADDRESS</th> <th>FIRST SALE</th> <th>FIRST PRICE</th> <th>LAST SALE</th> <th>LAST PRICE</th> <th>PRICE CHANGE</th> <th>PERIOD</th>\n",
       "        </tr>\n",
       "    </thead>\n",
       "    <tbody>\n",
       "        <tr>\n",
       "            <td>2 EAST 55TH ST, 835        </td> <td>2006-08-15 00:00:00</td> <td>554946     </td> <td>2006-08-16 00:00:00</td> <td>486720    </td> <td>-68,226     </td> <td>1     </td>\n",
       "        </tr>\n",
       "        <tr>\n",
       "            <td>212 EAST 70TH   STREET, 2D </td> <td>2017-03-23 00:00:00</td> <td>312500     </td> <td>2017-03-24 00:00:00</td> <td>725000    </td> <td>412,500     </td> <td>1     </td>\n",
       "        </tr>\n",
       "        <tr>\n",
       "            <td>95 CHARLES STREET, 5       </td> <td>2016-03-25 00:00:00</td> <td>850000     </td> <td>2016-03-26 00:00:00</td> <td>850000    </td> <td>0           </td> <td>1     </td>\n",
       "        </tr>\n",
       "        <tr>\n",
       "            <td>203-05 WEST 112 STREET, 1W </td> <td>2003-12-17 00:00:00</td> <td>967338     </td> <td>2003-12-19 00:00:00</td> <td>967338    </td> <td>0           </td> <td>2     </td>\n",
       "        </tr>\n",
       "        <tr>\n",
       "            <td>238 EAST 47 STREET, 22D    </td> <td>2004-07-14 00:00:00</td> <td>105000     </td> <td>2004-07-16 00:00:00</td> <td>1100000   </td> <td>995,000     </td> <td>2     </td>\n",
       "        </tr>\n",
       "        <tr>\n",
       "            <td>227 EAST 111 STREET, 5B    </td> <td>2005-03-28 00:00:00</td> <td>540881     </td> <td>2005-03-31 00:00:00</td> <td>995000    </td> <td>454,119     </td> <td>3     </td>\n",
       "        </tr>\n",
       "        <tr>\n",
       "            <td>879-87 8 AVENUE, 2J        </td> <td>2003-11-13 00:00:00</td> <td>620000     </td> <td>2003-11-16 00:00:00</td> <td>620000    </td> <td>0           </td> <td>3     </td>\n",
       "        </tr>\n",
       "        <tr>\n",
       "            <td>157 WEST 111 STREET, 4E    </td> <td>2007-03-09 00:00:00</td> <td>776925     </td> <td>2007-03-13 00:00:00</td> <td>834965    </td> <td>58,040      </td> <td>4     </td>\n",
       "        </tr>\n",
       "        <tr>\n",
       "            <td>500 WEST 43RD   STREET, 24F</td> <td>2014-01-03 00:00:00</td> <td>800350     </td> <td>2014-01-07 00:00:00</td> <td>800350    </td> <td>0           </td> <td>4     </td>\n",
       "        </tr>\n",
       "        <tr>\n",
       "            <td>10 EAST 14TH ST, 2         </td> <td>2007-01-04 00:00:00</td> <td>1483300    </td> <td>2007-01-09 00:00:00</td> <td>2698362   </td> <td>1,215,062   </td> <td>5     </td>\n",
       "        </tr>\n",
       "    </tbody>\n",
       "</table>\n",
       "<p>... (14751 rows omitted)</p>"
      ],
      "text/plain": [
       "FULL ADDRESS                | FIRST SALE          | FIRST PRICE | LAST SALE           | LAST PRICE | PRICE CHANGE | PERIOD\n",
       "2 EAST 55TH ST, 835         | 2006-08-15 00:00:00 | 554946      | 2006-08-16 00:00:00 | 486720     | -68,226      | 1\n",
       "212 EAST 70TH   STREET, 2D  | 2017-03-23 00:00:00 | 312500      | 2017-03-24 00:00:00 | 725000     | 412,500      | 1\n",
       "95 CHARLES STREET, 5        | 2016-03-25 00:00:00 | 850000      | 2016-03-26 00:00:00 | 850000     | 0            | 1\n",
       "203-05 WEST 112 STREET, 1W  | 2003-12-17 00:00:00 | 967338      | 2003-12-19 00:00:00 | 967338     | 0            | 2\n",
       "238 EAST 47 STREET, 22D     | 2004-07-14 00:00:00 | 105000      | 2004-07-16 00:00:00 | 1100000    | 995,000      | 2\n",
       "227 EAST 111 STREET, 5B     | 2005-03-28 00:00:00 | 540881      | 2005-03-31 00:00:00 | 995000     | 454,119      | 3\n",
       "879-87 8 AVENUE, 2J         | 2003-11-13 00:00:00 | 620000      | 2003-11-16 00:00:00 | 620000     | 0            | 3\n",
       "157 WEST 111 STREET, 4E     | 2007-03-09 00:00:00 | 776925      | 2007-03-13 00:00:00 | 834965     | 58,040       | 4\n",
       "500 WEST 43RD   STREET, 24F | 2014-01-03 00:00:00 | 800350      | 2014-01-07 00:00:00 | 800350     | 0            | 4\n",
       "10 EAST 14TH ST, 2          | 2007-01-04 00:00:00 | 1483300     | 2007-01-09 00:00:00 | 2698362    | 1,215,062    | 5\n",
       "... (14751 rows omitted)"
      ]
     },
     "execution_count": 30,
     "metadata": {},
     "output_type": "execute_result"
    }
   ],
   "source": [
    "condo_sales.sort(COL_PERIOD)"
   ]
  },
  {
   "cell_type": "markdown",
   "metadata": {},
   "source": [
    "Still Looks like there is some strange data where the sale dates are a few days apart, for most regular sale cycles we expect a gap of atleast 60-90 days. \n",
    "Let's ignore anything less that 3 months apart i.e. 90 days. \n"
   ]
  },
  {
   "cell_type": "code",
   "execution_count": 31,
   "metadata": {},
   "outputs": [],
   "source": [
    "condo_sales = condo_sales.where( COL_PERIOD, are.above(90) )"
   ]
  },
  {
   "cell_type": "code",
   "execution_count": 32,
   "metadata": {},
   "outputs": [
    {
     "name": "stdout",
     "output_type": "stream",
     "text": [
      "PERIODStats\n",
      "Avg: 2046.175500103114 \tStd: 1203.5303794386243 \tMin: 91 \tMax: 5688\n",
      " 5%: 314 \t95%: 4194\n",
      " 1%: 136 \t99%: 4964\n",
      "25%: 1057 \t50%: 1918 \t75% 2896\n"
     ]
    },
    {
     "data": {
      "image/png": "[encoded data removed]",
      "text/plain": [
       "<Figure size 432x288 with 1 Axes>"
      ]
     },
     "metadata": {},
     "output_type": "display_data"
    }
   ],
   "source": [
    "# Understaing the distribution of time between sales\n",
    "\n",
    "col_stats(condo_sales, COL_PERIOD)\n"
   ]
  },
  {
   "cell_type": "code",
   "execution_count": 33,
   "metadata": {},
   "outputs": [
    {
     "data": {
      "text/html": [
       "<table border=\"1\" class=\"dataframe\">\n",
       "    <thead>\n",
       "        <tr>\n",
       "            <th>FULL ADDRESS</th> <th>FIRST SALE</th> <th>FIRST PRICE</th> <th>LAST SALE</th> <th>LAST PRICE</th> <th>PRICE CHANGE</th> <th>PERIOD</th>\n",
       "        </tr>\n",
       "    </thead>\n",
       "    <tbody>\n",
       "        <tr>\n",
       "            <td>25 COLUMBUS CIRCLE, ST57D</td> <td>2003-12-26 00:00:00</td> <td>4130355    </td> <td>2016-09-01 00:00:00</td> <td>9200000   </td> <td>5,069,645   </td> <td>4633  </td>\n",
       "        </tr>\n",
       "        <tr>\n",
       "            <td>15 CENTRAL PARK WEST, 12L</td> <td>2007-12-06 00:00:00</td> <td>4439570    </td> <td>2014-08-01 00:00:00</td> <td>9500000   </td> <td>5,060,430   </td> <td>2430  </td>\n",
       "        </tr>\n",
       "        <tr>\n",
       "            <td>25 COLUMBUS CIRCLE, ST68E</td> <td>2004-03-12 00:00:00</td> <td>2448769    </td> <td>2015-12-15 00:00:00</td> <td>7500000   </td> <td>5,051,231   </td> <td>4295  </td>\n",
       "        </tr>\n",
       "        <tr>\n",
       "            <td>1 BOND STREET, 2C        </td> <td>2010-12-15 00:00:00</td> <td>600000     </td> <td>2017-08-18 00:00:00</td> <td>5640000   </td> <td>5,040,000   </td> <td>2438  </td>\n",
       "        </tr>\n",
       "        <tr>\n",
       "            <td>95 CHARLES STREET, 3     </td> <td>2012-09-11 00:00:00</td> <td>915180     </td> <td>2013-10-15 00:00:00</td> <td>5950000   </td> <td>5,034,820   </td> <td>399   </td>\n",
       "        </tr>\n",
       "        <tr>\n",
       "            <td>80 COLUMBUS CIRCLE, NT69A</td> <td>2004-02-27 00:00:00</td> <td>3920263    </td> <td>2016-10-24 00:00:00</td> <td>8950000   </td> <td>5,029,737   </td> <td>4623  </td>\n",
       "        </tr>\n",
       "        <tr>\n",
       "            <td>15 CENTRAL PARK WEST, 6E </td> <td>2007-11-12 00:00:00</td> <td>5243987    </td> <td>2015-09-03 00:00:00</td> <td>10200000  </td> <td>4,956,013   </td> <td>2852  </td>\n",
       "        </tr>\n",
       "        <tr>\n",
       "            <td>99 JANE STREET, 10B      </td> <td>2004-11-17 00:00:00</td> <td>2950000    </td> <td>2014-08-12 00:00:00</td> <td>7900000   </td> <td>4,950,000   </td> <td>3555  </td>\n",
       "        </tr>\n",
       "        <tr>\n",
       "            <td>432 PARK AVENUE, 53A     </td> <td>2016-03-01 00:00:00</td> <td>6006511    </td> <td>2018-05-02 00:00:00</td> <td>10950000  </td> <td>4,943,489   </td> <td>792   </td>\n",
       "        </tr>\n",
       "        <tr>\n",
       "            <td>15 CENTRAL PARK WEST, 36B</td> <td>2008-04-28 00:00:00</td> <td>7473955    </td> <td>2008-09-03 00:00:00</td> <td>12400000  </td> <td>4,926,045   </td> <td>128   </td>\n",
       "        </tr>\n",
       "    </tbody>\n",
       "</table>\n",
       "<p>... (14537 rows omitted)</p>"
      ],
      "text/plain": [
       "FULL ADDRESS              | FIRST SALE          | FIRST PRICE | LAST SALE           | LAST PRICE | PRICE CHANGE | PERIOD\n",
       "25 COLUMBUS CIRCLE, ST57D | 2003-12-26 00:00:00 | 4130355     | 2016-09-01 00:00:00 | 9200000    | 5,069,645    | 4633\n",
       "15 CENTRAL PARK WEST, 12L | 2007-12-06 00:00:00 | 4439570     | 2014-08-01 00:00:00 | 9500000    | 5,060,430    | 2430\n",
       "25 COLUMBUS CIRCLE, ST68E | 2004-03-12 00:00:00 | 2448769     | 2015-12-15 00:00:00 | 7500000    | 5,051,231    | 4295\n",
       "1 BOND STREET, 2C         | 2010-12-15 00:00:00 | 600000      | 2017-08-18 00:00:00 | 5640000    | 5,040,000    | 2438\n",
       "95 CHARLES STREET, 3      | 2012-09-11 00:00:00 | 915180      | 2013-10-15 00:00:00 | 5950000    | 5,034,820    | 399\n",
       "80 COLUMBUS CIRCLE, NT69A | 2004-02-27 00:00:00 | 3920263     | 2016-10-24 00:00:00 | 8950000    | 5,029,737    | 4623\n",
       "15 CENTRAL PARK WEST, 6E  | 2007-11-12 00:00:00 | 5243987     | 2015-09-03 00:00:00 | 10200000   | 4,956,013    | 2852\n",
       "99 JANE STREET, 10B       | 2004-11-17 00:00:00 | 2950000     | 2014-08-12 00:00:00 | 7900000    | 4,950,000    | 3555\n",
       "432 PARK AVENUE, 53A      | 2016-03-01 00:00:00 | 6006511     | 2018-05-02 00:00:00 | 10950000   | 4,943,489    | 792\n",
       "15 CENTRAL PARK WEST, 36B | 2008-04-28 00:00:00 | 7473955     | 2008-09-03 00:00:00 | 12400000   | 4,926,045    | 128\n",
       "... (14537 rows omitted)"
      ]
     },
     "execution_count": 33,
     "metadata": {},
     "output_type": "execute_result"
    }
   ],
   "source": [
    "# Let's try to see if there is anything strange gonig going on with large price chnages\n",
    "\n",
    "condo_sales.sort(COL_PRICE_CHANGE, descending=True)\n",
    "\n"
   ]
  },
  {
   "cell_type": "markdown",
   "metadata": {},
   "source": [
    "## Average Daily Price Change\n",
    "\n",
    "Let's calulate the average daily price change to spot any other odd data. "
   ]
  },
  {
   "cell_type": "code",
   "execution_count": 34,
   "metadata": {},
   "outputs": [
    {
     "data": {
      "text/html": [
       "<table border=\"1\" class=\"dataframe\">\n",
       "    <thead>\n",
       "        <tr>\n",
       "            <th>FULL ADDRESS</th> <th>FIRST SALE</th> <th>FIRST PRICE</th> <th>LAST SALE</th> <th>LAST PRICE</th> <th>PRICE CHANGE</th> <th>PERIOD</th> <th>DAILY PRICE CHANGE</th>\n",
       "        </tr>\n",
       "    </thead>\n",
       "    <tbody>\n",
       "        <tr>\n",
       "            <td>15 CENTRAL PARK WEST, 36B  </td> <td>2008-04-28 00:00:00</td> <td>7473955    </td> <td>2008-09-03 00:00:00</td> <td>12400000  </td> <td>4,926,045   </td> <td>128   </td> <td>38484.7           </td>\n",
       "        </tr>\n",
       "        <tr>\n",
       "            <td>56 LEONARD STREET, PH55    </td> <td>2017-03-02 00:00:00</td> <td>21814384   </td> <td>2017-08-04 00:00:00</td> <td>26500000  </td> <td>4,685,616   </td> <td>155   </td> <td>30229.8           </td>\n",
       "        </tr>\n",
       "        <tr>\n",
       "            <td>151 EAST 58 STREET, PH55E  </td> <td>2005-08-16 00:00:00</td> <td>9622462    </td> <td>2005-12-15 00:00:00</td> <td>13000000  </td> <td>3,377,538   </td> <td>121   </td> <td>27913.5           </td>\n",
       "        </tr>\n",
       "        <tr>\n",
       "            <td>157 WEST 57TH   STREET, 58A</td> <td>2014-05-01 00:00:00</td> <td>30551000   </td> <td>2014-10-02 00:00:00</td> <td>34000000  </td> <td>3,449,000   </td> <td>154   </td> <td>22396.1           </td>\n",
       "        </tr>\n",
       "        <tr>\n",
       "            <td>201 EAST 80TH STREET, 9A   </td> <td>2016-08-19 00:00:00</td> <td>657401     </td> <td>2016-12-07 00:00:00</td> <td>2995000   </td> <td>2,337,599   </td> <td>110   </td> <td>21250.9           </td>\n",
       "        </tr>\n",
       "        <tr>\n",
       "            <td>19 BEACH STREET, 6         </td> <td>2018-02-28 00:00:00</td> <td>2410796    </td> <td>2018-07-31 00:00:00</td> <td>5500000   </td> <td>3,089,204   </td> <td>153   </td> <td>20190.9           </td>\n",
       "        </tr>\n",
       "        <tr>\n",
       "            <td>250 WEST STREET, 7A        </td> <td>2013-03-18 00:00:00</td> <td>6379336    </td> <td>2013-06-24 00:00:00</td> <td>8200000   </td> <td>1,820,664   </td> <td>98    </td> <td>18578.2           </td>\n",
       "        </tr>\n",
       "        <tr>\n",
       "            <td>212 WEST 18TH   STREET, 18C</td> <td>2014-12-23 00:00:00</td> <td>5718750    </td> <td>2015-09-10 00:00:00</td> <td>10414000  </td> <td>4,695,250   </td> <td>261   </td> <td>17989.5           </td>\n",
       "        </tr>\n",
       "        <tr>\n",
       "            <td>554 BROOME ST, R6          </td> <td>2006-03-30 00:00:00</td> <td>380250     </td> <td>2006-08-16 00:00:00</td> <td>2850000   </td> <td>2,469,750   </td> <td>139   </td> <td>17768             </td>\n",
       "        </tr>\n",
       "        <tr>\n",
       "            <td>101 WEST 87TH   STREET, PH </td> <td>2014-07-01 00:00:00</td> <td>7764156    </td> <td>2014-11-05 00:00:00</td> <td>10000000  </td> <td>2,235,844   </td> <td>127   </td> <td>17605.1           </td>\n",
       "        </tr>\n",
       "    </tbody>\n",
       "</table>\n",
       "<p>... (14537 rows omitted)</p>"
      ],
      "text/plain": [
       "FULL ADDRESS                | FIRST SALE          | FIRST PRICE | LAST SALE           | LAST PRICE | PRICE CHANGE | PERIOD | DAILY PRICE CHANGE\n",
       "15 CENTRAL PARK WEST, 36B   | 2008-04-28 00:00:00 | 7473955     | 2008-09-03 00:00:00 | 12400000   | 4,926,045    | 128    | 38484.7\n",
       "56 LEONARD STREET, PH55     | 2017-03-02 00:00:00 | 21814384    | 2017-08-04 00:00:00 | 26500000   | 4,685,616    | 155    | 30229.8\n",
       "151 EAST 58 STREET, PH55E   | 2005-08-16 00:00:00 | 9622462     | 2005-12-15 00:00:00 | 13000000   | 3,377,538    | 121    | 27913.5\n",
       "157 WEST 57TH   STREET, 58A | 2014-05-01 00:00:00 | 30551000    | 2014-10-02 00:00:00 | 34000000   | 3,449,000    | 154    | 22396.1\n",
       "201 EAST 80TH STREET, 9A    | 2016-08-19 00:00:00 | 657401      | 2016-12-07 00:00:00 | 2995000    | 2,337,599    | 110    | 21250.9\n",
       "19 BEACH STREET, 6          | 2018-02-28 00:00:00 | 2410796     | 2018-07-31 00:00:00 | 5500000    | 3,089,204    | 153    | 20190.9\n",
       "250 WEST STREET, 7A         | 2013-03-18 00:00:00 | 6379336     | 2013-06-24 00:00:00 | 8200000    | 1,820,664    | 98     | 18578.2\n",
       "212 WEST 18TH   STREET, 18C | 2014-12-23 00:00:00 | 5718750     | 2015-09-10 00:00:00 | 10414000   | 4,695,250    | 261    | 17989.5\n",
       "554 BROOME ST, R6           | 2006-03-30 00:00:00 | 380250      | 2006-08-16 00:00:00 | 2850000    | 2,469,750    | 139    | 17768\n",
       "101 WEST 87TH   STREET, PH  | 2014-07-01 00:00:00 | 7764156     | 2014-11-05 00:00:00 | 10000000   | 2,235,844    | 127    | 17605.1\n",
       "... (14537 rows omitted)"
      ]
     },
     "execution_count": 34,
     "metadata": {},
     "output_type": "execute_result"
    }
   ],
   "source": [
    "daily_change = condo_sales.column(COL_PRICE_CHANGE) / condo_sales.column(COL_PERIOD) \n",
    "\n",
    "# Daily price change column name\n",
    "COL_DAILY_PRICE_CHANGE = 'DAILY PRICE CHANGE'\n",
    "\n",
    "condo_sales = condo_sales.with_column(COL_DAILY_PRICE_CHANGE , daily_change ).sort(COL_DAILY_PRICE_CHANGE, descending=True)\n",
    "condo_sales\n"
   ]
  },
  {
   "cell_type": "code",
   "execution_count": 35,
   "metadata": {},
   "outputs": [
    {
     "name": "stdout",
     "output_type": "stream",
     "text": [
      "DAILY PRICE CHANGEStats\n",
      "Avg: 345.57870328916573 \tStd: 1006.5882882351979 \tMin: -13128.990566037735 \tMax: 38484.7265625\n",
      " 5%: -94.5934693877551 \t95%: 1315.7894736842106\n",
      " 1%: -576.700557103064 \t99%: 3543.111455108359\n",
      "25%: 50.51221849544801 \t50%: 149.44649446494466 \t75% 363.8253638253638\n"
     ]
    },
    {
     "data": {
      "image/png": "[encoded data removed]",
      "text/plain": [
       "<Figure size 432x288 with 1 Axes>"
      ]
     },
     "metadata": {},
     "output_type": "display_data"
    },
    {
     "data": {
      "image/png": "[encoded data removed]",
      "text/plain": [
       "<Figure size 432x288 with 1 Axes>"
      ]
     },
     "metadata": {},
     "output_type": "display_data"
    }
   ],
   "source": [
    "col_stats(condo_sales, COL_DAILY_PRICE_CHANGE)\n",
    "draw_hist(condo_sales, COL_DAILY_PRICE_CHANGE, 1)\n",
    "\n",
    "## Looks like there are some significant outliers but most of the data  1%"
   ]
  },
  {
   "cell_type": "markdown",
   "metadata": {},
   "source": [
    "My suspicion is that properties with a high daily price change were underpriced for the first sale and then corrected later. Again I'd love to discover these ahead of time, but let's ignore the outliers for now. "
   ]
  },
  {
   "cell_type": "code",
   "execution_count": 36,
   "metadata": {},
   "outputs": [],
   "source": [
    "# strip out the Dailys Price change outliers. \n",
    "\n",
    "price_change_diffs = condo_sales.column(COL_DAILY_PRICE_CHANGE)\n",
    "\n",
    "percent_1 = percentile(1, price_change_diffs)\n",
    "percent_99 = percentile(99, price_change_diffs)\n",
    "\n",
    "condo_sales = condo_sales.where(COL_DAILY_PRICE_CHANGE, are.between(percent_1, percent_99))\n"
   ]
  },
  {
   "cell_type": "markdown",
   "metadata": {},
   "source": [
    "# Save the Condo data\n"
   ]
  },
  {
   "cell_type": "code",
   "execution_count": 41,
   "metadata": {},
   "outputs": [],
   "source": [
    "# save to csv\n",
    "condos.to_csv(csv_directory+\"condos.csv\")\n",
    "\n",
    "condo_sales.to_csv(csv_directory+\"condo_sales.csv\")"
   ]
  },
  {
   "cell_type": "code",
   "execution_count": null,
   "metadata": {},
   "outputs": [],
   "source": []
  }
 ],
 "metadata": {
  "kernelspec": {
   "display_name": "Python 3",
   "language": "python",
   "name": "python3"
  },
  "language_info": {
   "codemirror_mode": {
    "name": "ipython",
    "version": 3
   },
   "file_extension": ".py",
   "mimetype": "text/x-python",
   "name": "python",
   "nbconvert_exporter": "python",
   "pygments_lexer": "ipython3",
   "version": "3.7.0"
  }
 },
 "nbformat": 4,
 "nbformat_minor": 1
}
