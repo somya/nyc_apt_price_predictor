{
 "cells": [
  {
   "cell_type": "markdown",
   "metadata": {},
   "source": [
    "# Predicting NYC apartment's value with open data\n",
    "\n",
    "**tldr;** Boldly predict a NYC apartments market value using only public / open data. Check out the [Price Predictor](#Price-Predictor).\n",
    "\n",
    "\n",
    "Any good brokers in NYC will use a variety of factors to determine the value of your apartment, including:\n",
    "\n",
    "1. Recent sales in your building / Neighbourhood\n",
    "2. Square footage\n",
    "3. Renovation status\n",
    "4. View, closeness to subway, # of bedrooms etc. \n",
    "\n",
    "Unfortunately this data, is not easily available for the purposes of analysis. Note: it's available on Streeteasy and other REBNY memebers but not easily available for data analysis.\n",
    "\n",
    "Here I present an alternative approach to pricing NYC apartments with only public data from [NYC Open Data](https://opendata.cityofnewyork.us/). \n"
   ]
  },
  {
   "cell_type": "code",
   "execution_count": 1,
   "metadata": {},
   "outputs": [],
   "source": [
    "import numpy as np\n",
    "import pandas as pd\n",
    "import datetime\n",
    "from scipy.spatial import distance\n",
    "\n",
    "import ipywidgets as widgets\n",
    "from ipywidgets import IntSlider\n",
    "\n",
    "from datascience import *\n",
    "from datetime import timedelta\n",
    "from datetime import date\n",
    "from datetime import datetime\n",
    "import time\n",
    "\n",
    "from IPython.display import display\n",
    "from IPython.display import HTML\n",
    "\n",
    "# from __future__ import print_function\n",
    "from ipywidgets import interact, interactive, fixed, interact_manual\n",
    "import ipywidgets as widgets\n",
    "\n",
    "%matplotlib inline\n",
    "import matplotlib.pyplot as plots\n",
    "plots.style.use('fivethirtyeight')\n",
    "\n",
    "\n",
    "import locale\n",
    "%load_ext line_profiler\n",
    "import os\n",
    "import xlrd as xlrd"
   ]
  },
  {
   "cell_type": "markdown",
   "metadata": {},
   "source": [
    "# Constants\n",
    "\n",
    "Let's define some constants to help make our code more readable"
   ]
  },
  {
   "cell_type": "code",
   "execution_count": 2,
   "metadata": {},
   "outputs": [],
   "source": [
    "\n",
    "\n",
    "# Constants\n",
    "raw_directory = \"input/\"\n",
    "\n",
    "\n",
    "# Declare column names to allow for auto completion :)\n",
    "\n",
    "COL_SALE_DATE = 'SALE DATE'\n",
    "\n",
    "COL_PURCHASE_DATE = 'PURCHASE DATE'\n",
    "COL_SOLD_DATE = 'SOLD DATE'\n",
    "COL_PURCHASE_PRICE = 'PURCHASE PRICE'\n",
    "COL_SOLD_PRICE = 'SOLD PRICE'\n",
    "COL_FULL_ADDRESS = 'FULL ADDRESS'\n",
    "COL_PRICE_CHANGE = 'PRICE CHANGE'\n",
    "COL_PERIOD = 'PERIOD'\n",
    "\n",
    "COL_SALE_YEAR = 'SALE_YEAR'\n",
    "COL_SALE_MONTH = 'SALE_MONTH'\n",
    "COL_SALE_PRICE = 'SALE PRICE'\n",
    "\n",
    "\n",
    "# Daily price change column name\n",
    "COL_DAILY_PRICE_CHANGE = 'DAILY PRICE CHANGE'\n",
    "\n",
    "COL_PURCHASE_DATE_SU = 'PURCHASE DATE SU'\n",
    "COL_PURCHASE_PRICE_SU = 'PURCHASE PRICE SU'\n",
    "COL_SOLD_DATE_SU = 'SOLD DATE SU'\n",
    "\n",
    "\n"
   ]
  },
  {
   "cell_type": "markdown",
   "metadata": {},
   "source": [
    "# Functions\n",
    "\n",
    "Also lets define some functions to assist in our analysis"
   ]
  },
  {
   "cell_type": "code",
   "execution_count": 3,
   "metadata": {},
   "outputs": [],
   "source": [
    "# def original_value(original_values, sd_value ):\n",
    "#     '''convert a standard unit value to it's original value'''\n",
    "\n",
    "def standard_units(any_numbers):\n",
    "    \"Convert any array of numbers to standard units.\"\n",
    "    return (any_numbers - np.mean(any_numbers)) / np.std(any_numbers)\n",
    "\n",
    "\n",
    "def correlation(t, x, y):\n",
    "    return np.mean(standard_units(t.column(x)) * standard_units(t.column(y)))\n",
    "\n",
    "\n",
    "def slope(table, x, y):\n",
    "    r = correlation(table, x, y)\n",
    "    return r * np.std(table.column(y)) / np.std(table.column(x))\n",
    "\n",
    "\n",
    "def intercept(table, x, y):\n",
    "    a = slope(table, x, y)\n",
    "    return np.mean(table.column(y)) - a * np.mean(table.column(x))\n",
    "\n",
    "\n",
    "def fit(table, x, y):\n",
    "    a = slope(table, x, y)\n",
    "    b = intercept(table, x, y)\n",
    "    return a * table.column(x) + b\n",
    "\n",
    "\n",
    "def residual(table, x, y):\n",
    "    return table.column(y) - fit(table, x, y)\n",
    "\n",
    "\n",
    "def scatter_fit(table, x, y):\n",
    "    plots.scatter(table.column(x), table.column(y), s=20)\n",
    "    plots.plot(table.column(x), fit(table, x, y), lw=2, color='gold')\n",
    "    plots.xlabel(x)\n",
    "    plots.ylabel(y)\n",
    "\n",
    "\n",
    "# Helpers Functions\n",
    "\n",
    "def print_stats(data):\n",
    "    '''Prints common stats for a data array'''\n",
    "\n",
    "    data_mean = np.mean(data)\n",
    "    data_std = np.std(data)\n",
    "    data_min = min(data)\n",
    "    data_max = max(data)\n",
    "\n",
    "    percent_5 = percentile(5, data)\n",
    "    percent_95 = percentile(95, data)\n",
    "    percent_1 = percentile(1, data)\n",
    "    percent_99 = percentile(99, data)\n",
    "\n",
    "    percent_25 = percentile(25, data)\n",
    "    percent_50 = percentile(50, data)\n",
    "    percent_75 = percentile(75, data)\n",
    "\n",
    "    print(\"Avg:\", data_mean, \"\\tStd:\", data_std, \"\\tMin:\", data_min, \"\\tMax:\", data_max)\n",
    "    print(\" 5%:\", percent_5, \"\\t95%:\", percent_95)\n",
    "    print(\" 1%:\", percent_1, \"\\t99%:\", percent_99)\n",
    "    print(\"25%:\", percent_25, \"\\t50%:\", percent_50, '\\t75%', percent_75)\n",
    "\n",
    "\n",
    "def print_col_stats(table, col_name):\n",
    "    ''' Print the stats For column named'''\n",
    "\n",
    "    print(col_name, \"Stats\")\n",
    "    data = table.column(col_name)\n",
    "    print_stats(data)\n",
    "\n",
    "\n",
    "def draw_hist(table: Table, col_name, offset_percent=0):\n",
    "    ''' Draw a histogram for table with an additional offset percent'''\n",
    "    data = table.column(col_name)\n",
    "    offset_start = percentile(offset_percent, data)\n",
    "    offset_end = percentile(100 - offset_percent, data)\n",
    "    table.hist(col_name, bins=np.arange(offset_start, offset_end, (offset_end - offset_start) / 20))\n",
    "\n",
    "\n",
    "def col_stats(table, col_name):\n",
    "    ''' Prints state for a column in table'''\n",
    "    print_col_stats(table, col_name)\n",
    "    draw_hist(table, col_name)\n"
   ]
  },
  {
   "cell_type": "markdown",
   "metadata": {},
   "source": [
    "# Step 1: Import data\n",
    "\n",
    "Sources\n",
    "1. [Annualized Sales Data](https://www1.nyc.gov/site/finance/taxes/property-annualized-sales-update.page)\n",
    "2. [Rolling Sale data](https://www1.nyc.gov/site/finance/taxes/property-rolling-sales-data.page)"
   ]
  },
  {
   "cell_type": "code",
   "execution_count": 4,
   "metadata": {},
   "outputs": [],
   "source": [
    "# List data files and directories in current directory\n",
    "excel_files = os.listdir(raw_directory)\n",
    "\n",
    "# Select only tje xls files\n",
    "excel_files = [k for k in excel_files if '.xls' in k]"
   ]
  },
  {
   "cell_type": "code",
   "execution_count": 5,
   "metadata": {},
   "outputs": [
    {
     "data": {
      "text/plain": [
       "['2015_manhattan.xls',\n",
       " '2011_manhattan.xls',\n",
       " '2016_manhattan.xls',\n",
       " '2012_manhattan.xls',\n",
       " 'rollingsales_manhattan.xls',\n",
       " 'sales_manhattan_03.xls',\n",
       " 'sales_manhattan_06.xls',\n",
       " 'sales_manhattan_04.xls',\n",
       " 'sales_2007_manhattan.xls',\n",
       " 'sales_manhattan_05.xls',\n",
       " '2009_manhattan.xls',\n",
       " '2013_manhattan.xls',\n",
       " '2017_manhattan.xls',\n",
       " 'sales_2008_manhattan.xls',\n",
       " '2010_manhattan.xls',\n",
       " '2014_manhattan.xls']"
      ]
     },
     "execution_count": 5,
     "metadata": {},
     "output_type": "execute_result"
    }
   ],
   "source": [
    "excel_files[:len(excel_files)]"
   ]
  },
  {
   "cell_type": "markdown",
   "metadata": {},
   "source": [
    "Unfortunately not all files are formatted the same way. Some have the header in row 4, others in row 5. We can check by making sure 'BOROUGH' is the first column in the imported dataset "
   ]
  },
  {
   "cell_type": "code",
   "execution_count": 6,
   "metadata": {},
   "outputs": [
    {
     "name": "stdout",
     "output_type": "stream",
     "text": [
      "2015_manhattan.xls\n",
      "2011_manhattan.xls\n",
      "2016_manhattan.xls\n",
      "2012_manhattan.xls\n",
      "rollingsales_manhattan.xls\n",
      "sales_manhattan_03.xls\n",
      "sales_manhattan_06.xls\n",
      "sales_manhattan_04.xls\n",
      "sales_2007_manhattan.xls\n",
      "sales_manhattan_05.xls\n",
      "2009_manhattan.xls\n",
      "2013_manhattan.xls\n",
      "2017_manhattan.xls\n"
     ]
    },
    {
     "name": "stderr",
     "output_type": "stream",
     "text": [
      "/Users/somya/Library/Python/3.7/lib/python/site-packages/pandas/core/frame.py:6211: FutureWarning: Sorting because non-concatenation axis is not aligned. A future version\n",
      "of pandas will change to not sort by default.\n",
      "\n",
      "To accept the future behavior, pass 'sort=False'.\n",
      "\n",
      "To retain the current behavior and silence the warning, pass 'sort=True'.\n",
      "\n",
      "  sort=sort)\n"
     ]
    },
    {
     "name": "stdout",
     "output_type": "stream",
     "text": [
      "sales_2008_manhattan.xls\n",
      "2010_manhattan.xls\n",
      "2014_manhattan.xls\n"
     ]
    }
   ],
   "source": [
    "\n",
    "# Create an data store\n",
    "all_sales_data = pd.DataFrame()\n",
    "\n",
    "# Load individual excel files. \n",
    "for excel_file in excel_files:\n",
    "    print(excel_file)\n",
    "    \n",
    "    # Read excel, Note the headers could in row 4 or row 5 (index=3 or 4). \n",
    "    yearly_sales_data = pd.read_excel(raw_directory+excel_file, header=3, encoding='sys.getfilesystemencoding()')\n",
    "   \n",
    "    # Check if the first column is \"BOROUGH\"\n",
    "    if not yearly_sales_data.columns[0].startswith('BOROUGH'):\n",
    "        # Otherwise the data starts from row 5.\n",
    "         yearly_sales_data = pd.read_excel(raw_directory+excel_file, header=4, encoding='sys.getfilesystemencoding()')\n",
    "    \n",
    "#     print(yearly_sales_data.shape)\n",
    "    \n",
    "    yearly_sales_data.rename(columns=lambda x: x.strip(), inplace=True)\n",
    "    \n",
    "    all_sales_data = all_sales_data.append(yearly_sales_data)\n",
    "    \n",
    "#     print(all_sales_data.shape)"
   ]
  },
  {
   "cell_type": "markdown",
   "metadata": {},
   "source": [
    "Spot check to verify data"
   ]
  },
  {
   "cell_type": "code",
   "execution_count": 7,
   "metadata": {},
   "outputs": [
    {
     "data": {
      "text/html": [
       "<div>\n",
       "<style scoped>\n",
       "    .dataframe tbody tr th:only-of-type {\n",
       "        vertical-align: middle;\n",
       "    }\n",
       "\n",
       "    .dataframe tbody tr th {\n",
       "        vertical-align: top;\n",
       "    }\n",
       "\n",
       "    .dataframe thead th {\n",
       "        text-align: right;\n",
       "    }\n",
       "</style>\n",
       "<table border=\"1\" class=\"dataframe\">\n",
       "  <thead>\n",
       "    <tr style=\"text-align: right;\">\n",
       "      <th></th>\n",
       "      <th>ADDRESS</th>\n",
       "      <th>APARTMENT NUMBER</th>\n",
       "      <th>BLOCK</th>\n",
       "      <th>BOROUGH</th>\n",
       "      <th>BUILDING CLASS AS OF FINAL ROLL 17/18</th>\n",
       "      <th>BUILDING CLASS AT PRESENT</th>\n",
       "      <th>BUILDING CLASS AT TIME OF SALE</th>\n",
       "      <th>BUILDING CLASS CATEGORY</th>\n",
       "      <th>COMMERCIAL UNITS</th>\n",
       "      <th>EASE-MENT</th>\n",
       "      <th>...</th>\n",
       "      <th>NEIGHBORHOOD</th>\n",
       "      <th>RESIDENTIAL UNITS</th>\n",
       "      <th>SALE DATE</th>\n",
       "      <th>SALE PRICE</th>\n",
       "      <th>TAX CLASS AS OF FINAL ROLL 17/18</th>\n",
       "      <th>TAX CLASS AT PRESENT</th>\n",
       "      <th>TAX CLASS AT TIME OF SALE</th>\n",
       "      <th>TOTAL UNITS</th>\n",
       "      <th>YEAR BUILT</th>\n",
       "      <th>ZIP CODE</th>\n",
       "    </tr>\n",
       "  </thead>\n",
       "  <tbody>\n",
       "    <tr>\n",
       "      <th>9966</th>\n",
       "      <td>310 LEXINGTON AVENUE, PHB</td>\n",
       "      <td></td>\n",
       "      <td>893</td>\n",
       "      <td>1</td>\n",
       "      <td>D4</td>\n",
       "      <td>NaN</td>\n",
       "      <td>D4</td>\n",
       "      <td>10 COOPS - ELEVATOR APARTMENTS</td>\n",
       "      <td>0</td>\n",
       "      <td></td>\n",
       "      <td>...</td>\n",
       "      <td>MURRAY HILL</td>\n",
       "      <td>0</td>\n",
       "      <td>2017-11-14</td>\n",
       "      <td>980000</td>\n",
       "      <td>2</td>\n",
       "      <td>NaN</td>\n",
       "      <td>2</td>\n",
       "      <td>0</td>\n",
       "      <td>1959</td>\n",
       "      <td>10016</td>\n",
       "    </tr>\n",
       "    <tr>\n",
       "      <th>14533</th>\n",
       "      <td>1335 6 AVENUE</td>\n",
       "      <td>TIMES</td>\n",
       "      <td>1006</td>\n",
       "      <td>1</td>\n",
       "      <td>NaN</td>\n",
       "      <td>R5</td>\n",
       "      <td>R5</td>\n",
       "      <td>28  COMMERCIAL CONDOS</td>\n",
       "      <td>1</td>\n",
       "      <td></td>\n",
       "      <td>...</td>\n",
       "      <td>MIDTOWN WEST</td>\n",
       "      <td>0</td>\n",
       "      <td>2007-11-29</td>\n",
       "      <td>0</td>\n",
       "      <td>NaN</td>\n",
       "      <td>4</td>\n",
       "      <td>4</td>\n",
       "      <td>1</td>\n",
       "      <td>0</td>\n",
       "      <td>10019</td>\n",
       "    </tr>\n",
       "    <tr>\n",
       "      <th>6979</th>\n",
       "      <td>303 EAST 57TH STREET, 16K</td>\n",
       "      <td></td>\n",
       "      <td>1350</td>\n",
       "      <td>1</td>\n",
       "      <td>NaN</td>\n",
       "      <td>D4</td>\n",
       "      <td>D4</td>\n",
       "      <td>10 COOPS - ELEVATOR APARTMENTS</td>\n",
       "      <td>0</td>\n",
       "      <td></td>\n",
       "      <td>...</td>\n",
       "      <td>MIDTOWN EAST</td>\n",
       "      <td>0</td>\n",
       "      <td>2018-05-22</td>\n",
       "      <td>442500</td>\n",
       "      <td>NaN</td>\n",
       "      <td>2</td>\n",
       "      <td>2</td>\n",
       "      <td>0</td>\n",
       "      <td>1968</td>\n",
       "      <td>10022</td>\n",
       "    </tr>\n",
       "    <tr>\n",
       "      <th>10297</th>\n",
       "      <td>212 EAST 57 STREET</td>\n",
       "      <td>9A</td>\n",
       "      <td>1330</td>\n",
       "      <td>1</td>\n",
       "      <td>NaN</td>\n",
       "      <td>R4</td>\n",
       "      <td>R4</td>\n",
       "      <td>13  CONDOS - ELEVATOR APARTMENTS</td>\n",
       "      <td>0</td>\n",
       "      <td></td>\n",
       "      <td>...</td>\n",
       "      <td>MIDTOWN EAST</td>\n",
       "      <td>1</td>\n",
       "      <td>2006-07-20</td>\n",
       "      <td>1718296</td>\n",
       "      <td>NaN</td>\n",
       "      <td>2</td>\n",
       "      <td>2</td>\n",
       "      <td>1</td>\n",
       "      <td>2004</td>\n",
       "      <td>10022</td>\n",
       "    </tr>\n",
       "    <tr>\n",
       "      <th>5431</th>\n",
       "      <td>88 MORNINGSIDE AVENUE, 2E</td>\n",
       "      <td></td>\n",
       "      <td>1948</td>\n",
       "      <td>1</td>\n",
       "      <td>R9</td>\n",
       "      <td>NaN</td>\n",
       "      <td>R9</td>\n",
       "      <td>17 CONDO COOPS</td>\n",
       "      <td>0</td>\n",
       "      <td></td>\n",
       "      <td>...</td>\n",
       "      <td>HARLEM-CENTRAL</td>\n",
       "      <td>0</td>\n",
       "      <td>2017-08-15</td>\n",
       "      <td>750000</td>\n",
       "      <td>2</td>\n",
       "      <td>NaN</td>\n",
       "      <td>2</td>\n",
       "      <td>0</td>\n",
       "      <td>2011</td>\n",
       "      <td>10027</td>\n",
       "    </tr>\n",
       "    <tr>\n",
       "      <th>8066</th>\n",
       "      <td>455 CENTRAL PARK WEST</td>\n",
       "      <td>22C</td>\n",
       "      <td>1841</td>\n",
       "      <td>1</td>\n",
       "      <td>NaN</td>\n",
       "      <td>R4</td>\n",
       "      <td>R4</td>\n",
       "      <td>13  CONDOS - ELEVATOR APARTMENTS</td>\n",
       "      <td>0</td>\n",
       "      <td></td>\n",
       "      <td>...</td>\n",
       "      <td>MANHATTAN VALLEY</td>\n",
       "      <td>1</td>\n",
       "      <td>2015-03-23</td>\n",
       "      <td>4350000</td>\n",
       "      <td>NaN</td>\n",
       "      <td>2</td>\n",
       "      <td>2</td>\n",
       "      <td>1</td>\n",
       "      <td>2002</td>\n",
       "      <td>10025</td>\n",
       "    </tr>\n",
       "    <tr>\n",
       "      <th>16105</th>\n",
       "      <td>255 WEST 108TH STREET, 3C</td>\n",
       "      <td></td>\n",
       "      <td>1880</td>\n",
       "      <td>1</td>\n",
       "      <td>NaN</td>\n",
       "      <td>D4</td>\n",
       "      <td>D4</td>\n",
       "      <td>10 COOPS - ELEVATOR APARTMENTS</td>\n",
       "      <td>0</td>\n",
       "      <td></td>\n",
       "      <td>...</td>\n",
       "      <td>UPPER WEST SIDE (96-116)</td>\n",
       "      <td>0</td>\n",
       "      <td>2018-07-19</td>\n",
       "      <td>482500</td>\n",
       "      <td>NaN</td>\n",
       "      <td>2</td>\n",
       "      <td>2</td>\n",
       "      <td>0</td>\n",
       "      <td>1910</td>\n",
       "      <td>10025</td>\n",
       "    </tr>\n",
       "    <tr>\n",
       "      <th>4504</th>\n",
       "      <td>302 WEST 12TH   STREET</td>\n",
       "      <td>1C</td>\n",
       "      <td>624</td>\n",
       "      <td>1</td>\n",
       "      <td>R4</td>\n",
       "      <td>NaN</td>\n",
       "      <td>R4</td>\n",
       "      <td>13 CONDOS - ELEVATOR APARTMENTS</td>\n",
       "      <td>0</td>\n",
       "      <td></td>\n",
       "      <td>...</td>\n",
       "      <td>GREENWICH VILLAGE-WEST</td>\n",
       "      <td>1</td>\n",
       "      <td>2017-02-07</td>\n",
       "      <td>0</td>\n",
       "      <td>2</td>\n",
       "      <td>NaN</td>\n",
       "      <td>2</td>\n",
       "      <td>1</td>\n",
       "      <td>1910</td>\n",
       "      <td>10014</td>\n",
       "    </tr>\n",
       "    <tr>\n",
       "      <th>4557</th>\n",
       "      <td>130 EAST 18 STREET, 9V</td>\n",
       "      <td></td>\n",
       "      <td>873</td>\n",
       "      <td>1</td>\n",
       "      <td>NaN</td>\n",
       "      <td>D4</td>\n",
       "      <td>D4</td>\n",
       "      <td>10  COOPS - ELEVATOR APARTMENTS</td>\n",
       "      <td>0</td>\n",
       "      <td></td>\n",
       "      <td>...</td>\n",
       "      <td>GRAMERCY</td>\n",
       "      <td>0</td>\n",
       "      <td>2008-07-09</td>\n",
       "      <td>710000</td>\n",
       "      <td>NaN</td>\n",
       "      <td>2</td>\n",
       "      <td>2</td>\n",
       "      <td>0</td>\n",
       "      <td>1962</td>\n",
       "      <td>10003</td>\n",
       "    </tr>\n",
       "    <tr>\n",
       "      <th>4411</th>\n",
       "      <td>157 EAST 18 STREET, RES</td>\n",
       "      <td></td>\n",
       "      <td>874</td>\n",
       "      <td>1</td>\n",
       "      <td>NaN</td>\n",
       "      <td>R9</td>\n",
       "      <td>R9</td>\n",
       "      <td>17  CONDOPS</td>\n",
       "      <td>0</td>\n",
       "      <td></td>\n",
       "      <td>...</td>\n",
       "      <td>GRAMERCY</td>\n",
       "      <td>0</td>\n",
       "      <td>2006-01-05</td>\n",
       "      <td>684488</td>\n",
       "      <td>NaN</td>\n",
       "      <td>2</td>\n",
       "      <td>2</td>\n",
       "      <td>0</td>\n",
       "      <td>0</td>\n",
       "      <td>10003</td>\n",
       "    </tr>\n",
       "  </tbody>\n",
       "</table>\n",
       "<p>10 rows × 23 columns</p>\n",
       "</div>"
      ],
      "text/plain": [
       "                                         ADDRESS APARTMENT NUMBER  BLOCK  \\\n",
       "9966                   310 LEXINGTON AVENUE, PHB                     893   \n",
       "14533  1335 6 AVENUE                                 TIMES          1006   \n",
       "6979                   303 EAST 57TH STREET, 16K                    1350   \n",
       "10297  212 EAST 57 STREET                            9A             1330   \n",
       "5431                   88 MORNINGSIDE AVENUE, 2E                    1948   \n",
       "8066   455 CENTRAL PARK WEST                         22C            1841   \n",
       "16105                  255 WEST 108TH STREET, 3C                    1880   \n",
       "4504                      302 WEST 12TH   STREET               1C    624   \n",
       "4557   130 EAST 18 STREET, 9V                                        873   \n",
       "4411   157 EAST 18 STREET, RES                                       874   \n",
       "\n",
       "       BOROUGH BUILDING CLASS AS OF FINAL ROLL 17/18  \\\n",
       "9966         1                                    D4   \n",
       "14533        1                                   NaN   \n",
       "6979         1                                   NaN   \n",
       "10297        1                                   NaN   \n",
       "5431         1                                    R9   \n",
       "8066         1                                   NaN   \n",
       "16105        1                                   NaN   \n",
       "4504         1                                    R4   \n",
       "4557         1                                   NaN   \n",
       "4411         1                                   NaN   \n",
       "\n",
       "      BUILDING CLASS AT PRESENT BUILDING CLASS AT TIME OF SALE  \\\n",
       "9966                        NaN                             D4   \n",
       "14533                        R5                             R5   \n",
       "6979                         D4                             D4   \n",
       "10297                        R4                             R4   \n",
       "5431                        NaN                             R9   \n",
       "8066                         R4                             R4   \n",
       "16105                        D4                             D4   \n",
       "4504                        NaN                             R4   \n",
       "4557                         D4                             D4   \n",
       "4411                         R9                             R9   \n",
       "\n",
       "                            BUILDING CLASS CATEGORY  COMMERCIAL UNITS  \\\n",
       "9966    10 COOPS - ELEVATOR APARTMENTS                              0   \n",
       "14533  28  COMMERCIAL CONDOS                                        1   \n",
       "6979    10 COOPS - ELEVATOR APARTMENTS                              0   \n",
       "10297  13  CONDOS - ELEVATOR APARTMENTS                             0   \n",
       "5431    17 CONDO COOPS                                              0   \n",
       "8066   13  CONDOS - ELEVATOR APARTMENTS                             0   \n",
       "16105   10 COOPS - ELEVATOR APARTMENTS                              0   \n",
       "4504    13 CONDOS - ELEVATOR APARTMENTS                             0   \n",
       "4557   10  COOPS - ELEVATOR APARTMENTS                              0   \n",
       "4411   17  CONDOPS                                                  0   \n",
       "\n",
       "      EASE-MENT    ...                  NEIGHBORHOOD  RESIDENTIAL UNITS  \\\n",
       "9966               ...                   MURRAY HILL                  0   \n",
       "14533              ...     MIDTOWN WEST                               0   \n",
       "6979               ...                  MIDTOWN EAST                  0   \n",
       "10297              ...     MIDTOWN EAST                               1   \n",
       "5431               ...                HARLEM-CENTRAL                  0   \n",
       "8066               ...     MANHATTAN VALLEY                           1   \n",
       "16105              ...      UPPER WEST SIDE (96-116)                  0   \n",
       "4504               ...        GREENWICH VILLAGE-WEST                  1   \n",
       "4557               ...     GRAMERCY                                   0   \n",
       "4411               ...     GRAMERCY                                   0   \n",
       "\n",
       "       SALE DATE SALE PRICE  TAX CLASS AS OF FINAL ROLL 17/18  \\\n",
       "9966  2017-11-14     980000                                 2   \n",
       "14533 2007-11-29          0                               NaN   \n",
       "6979  2018-05-22     442500                               NaN   \n",
       "10297 2006-07-20    1718296                               NaN   \n",
       "5431  2017-08-15     750000                                 2   \n",
       "8066  2015-03-23    4350000                               NaN   \n",
       "16105 2018-07-19     482500                               NaN   \n",
       "4504  2017-02-07          0                                 2   \n",
       "4557  2008-07-09     710000                               NaN   \n",
       "4411  2006-01-05     684488                               NaN   \n",
       "\n",
       "      TAX CLASS AT PRESENT  TAX CLASS AT TIME OF SALE TOTAL UNITS YEAR BUILT  \\\n",
       "9966                   NaN                          2           0       1959   \n",
       "14533                    4                          4           1          0   \n",
       "6979                     2                          2           0       1968   \n",
       "10297                    2                          2           1       2004   \n",
       "5431                   NaN                          2           0       2011   \n",
       "8066                     2                          2           1       2002   \n",
       "16105                    2                          2           0       1910   \n",
       "4504                   NaN                          2           1       1910   \n",
       "4557                     2                          2           0       1962   \n",
       "4411                     2                          2           0          0   \n",
       "\n",
       "       ZIP CODE  \n",
       "9966      10016  \n",
       "14533     10019  \n",
       "6979      10022  \n",
       "10297     10022  \n",
       "5431      10027  \n",
       "8066      10025  \n",
       "16105     10025  \n",
       "4504      10014  \n",
       "4557      10003  \n",
       "4411      10003  \n",
       "\n",
       "[10 rows x 23 columns]"
      ]
     },
     "execution_count": 7,
     "metadata": {},
     "output_type": "execute_result"
    }
   ],
   "source": [
    "\n",
    "all_sales_data.sample(10)\n"
   ]
  },
  {
   "cell_type": "code",
   "execution_count": 8,
   "metadata": {},
   "outputs": [
    {
     "data": {
      "text/plain": [
       "16156"
      ]
     },
     "execution_count": 8,
     "metadata": {},
     "output_type": "execute_result"
    }
   ],
   "source": [
    "# Check for duplicate entries\n",
    "sum(all_sales_data.duplicated(all_sales_data.columns))"
   ]
  },
  {
   "cell_type": "code",
   "execution_count": 9,
   "metadata": {},
   "outputs": [
    {
     "data": {
      "text/plain": [
       "0"
      ]
     },
     "execution_count": 9,
     "metadata": {},
     "output_type": "execute_result"
    }
   ],
   "source": [
    "#Delete the duplicates and check that it worked\n",
    "all_sales_data = all_sales_data.drop_duplicates(all_sales_data.columns, keep='last')\n",
    "sum(all_sales_data.duplicated(all_sales_data.columns))"
   ]
  },
  {
   "cell_type": "markdown",
   "metadata": {},
   "source": [
    "# Step 2. Clean up the data and arrange for analysis"
   ]
  },
  {
   "cell_type": "code",
   "execution_count": 10,
   "metadata": {},
   "outputs": [],
   "source": [
    "#SALE DATE is object but should be datetime\n",
    "all_sales_data[COL_SALE_DATE] = pd.to_datetime(all_sales_data[COL_SALE_DATE], errors='coerce')\n",
    "all_sales_data['APARTMENT NUMBER'] = all_sales_data['APARTMENT NUMBER'].astype(str)\n",
    "\n",
    "# remove additional whitespace in strings\n",
    "all_sales_data = all_sales_data.applymap(lambda x: x.strip() if type(x) is str else x)"
   ]
  },
  {
   "cell_type": "code",
   "execution_count": 11,
   "metadata": {},
   "outputs": [],
   "source": [
    "# Convert to Table for analysis\n",
    "all_sales_data = Table.from_df(all_sales_data)"
   ]
  },
  {
   "cell_type": "code",
   "execution_count": 12,
   "metadata": {},
   "outputs": [],
   "source": [
    "# remove and sales less than $10,000 they are likely to be a property transfer rather than an actual sale\n",
    "all_sales_data = all_sales_data.where(COL_SALE_PRICE, are.above(10000))"
   ]
  },
  {
   "cell_type": "code",
   "execution_count": 13,
   "metadata": {},
   "outputs": [
    {
     "data": {
      "text/plain": [
       "('ADDRESS',\n",
       " 'APARTMENT NUMBER',\n",
       " 'BLOCK',\n",
       " 'BOROUGH',\n",
       " 'BUILDING CLASS AS OF FINAL ROLL 17/18',\n",
       " 'BUILDING CLASS AT PRESENT',\n",
       " 'BUILDING CLASS AT TIME OF SALE',\n",
       " 'BUILDING CLASS CATEGORY',\n",
       " 'COMMERCIAL UNITS',\n",
       " 'EASE-MENT',\n",
       " 'GROSS SQUARE FEET',\n",
       " 'LAND SQUARE FEET',\n",
       " 'LOT',\n",
       " 'NEIGHBORHOOD',\n",
       " 'RESIDENTIAL UNITS',\n",
       " 'SALE DATE',\n",
       " 'SALE PRICE',\n",
       " 'TAX CLASS AS OF FINAL ROLL 17/18',\n",
       " 'TAX CLASS AT PRESENT',\n",
       " 'TAX CLASS AT TIME OF SALE',\n",
       " 'TOTAL UNITS',\n",
       " 'YEAR BUILT',\n",
       " 'ZIP CODE')"
      ]
     },
     "execution_count": 13,
     "metadata": {},
     "output_type": "execute_result"
    }
   ],
   "source": [
    "# SPOT CHECK: Understand the data labels we might be interested in\n",
    "all_sales_data.labels"
   ]
  },
  {
   "cell_type": "code",
   "execution_count": 14,
   "metadata": {},
   "outputs": [],
   "source": [
    "# Remove columns we don't actually need. e.g. lot, block etc\n",
    "\n",
    "all_sales_data = all_sales_data.select(['SALE DATE', 'SALE PRICE', 'ADDRESS','APARTMENT NUMBER', 'YEAR BUILT', 'NEIGHBORHOOD', 'ZIP CODE', 'BUILDING CLASS AT TIME OF SALE', 'BUILDING CLASS CATEGORY'])"
   ]
  },
  {
   "cell_type": "code",
   "execution_count": 15,
   "metadata": {},
   "outputs": [
    {
     "name": "stderr",
     "output_type": "stream",
     "text": [
      "/Users/somya/Library/Python/3.7/lib/python/site-packages/datascience/tables.py:361: FutureWarning: column lists are deprecated; pass each as an argument\n",
      "  \"column lists are deprecated; pass each as an argument\", FutureWarning)\n"
     ]
    }
   ],
   "source": [
    "# Combine the Address and Apt No. The data here seems a little messy. Sometime the address itself contains the apt no,\n",
    "# other times it's seperated. Let's create a full address column that combines them into a single address\n",
    "\n",
    "def combine_address(address, aptNo):\n",
    "    \"\"\"Combine the address and Apartment into a single result\"\"\"\n",
    "    temp = address.strip()\n",
    "    if len(aptNo.strip()) > 0:\n",
    "        temp = temp + ', ' + aptNo.strip()\n",
    "    return temp\n",
    "\n",
    "full_address = all_sales_data.apply(combine_address, ['ADDRESS', 'APARTMENT NUMBER'])\n",
    "\n",
    "# Add a Full Address column\n",
    "all_sales_data =  all_sales_data.with_column(COL_FULL_ADDRESS, full_address)"
   ]
  },
  {
   "cell_type": "code",
   "execution_count": 16,
   "metadata": {},
   "outputs": [
    {
     "data": {
      "text/html": [
       "<table border=\"1\" class=\"dataframe\">\n",
       "    <thead>\n",
       "        <tr>\n",
       "            <th>BUILDING CLASS AT TIME OF SALE</th> <th>BUILDING CLASS CATEGORY</th> <th>count</th>\n",
       "        </tr>\n",
       "    </thead>\n",
       "    <tbody>\n",
       "        <tr>\n",
       "            <td>R4                            </td> <td>13  CONDOS - ELEVATOR APARTMENTS  </td> <td>90128</td>\n",
       "        </tr>\n",
       "        <tr>\n",
       "            <td>D4                            </td> <td>10  COOPS - ELEVATOR APARTMENTS   </td> <td>83556</td>\n",
       "        </tr>\n",
       "        <tr>\n",
       "            <td>R5                            </td> <td>28  COMMERCIAL CONDOS             </td> <td>15569</td>\n",
       "        </tr>\n",
       "        <tr>\n",
       "            <td>R4                            </td> <td>13 CONDOS - ELEVATOR APARTMENTS   </td> <td>10777</td>\n",
       "        </tr>\n",
       "        <tr>\n",
       "            <td>C6                            </td> <td>09  COOPS - WALKUP APARTMENTS     </td> <td>10413</td>\n",
       "        </tr>\n",
       "        <tr>\n",
       "            <td>D4                            </td> <td>10 COOPS - ELEVATOR APARTMENTS    </td> <td>10319</td>\n",
       "        </tr>\n",
       "        <tr>\n",
       "            <td>R9                            </td> <td>17  CONDOPS                       </td> <td>10097</td>\n",
       "        </tr>\n",
       "        <tr>\n",
       "            <td>H2                            </td> <td>25  LUXURY HOTELS                 </td> <td>6204 </td>\n",
       "        </tr>\n",
       "        <tr>\n",
       "            <td>R9                            </td> <td>17  CONDO COOPS                   </td> <td>4148 </td>\n",
       "        </tr>\n",
       "        <tr>\n",
       "            <td>RH                            </td> <td>45  CONDO HOTELS                  </td> <td>4011 </td>\n",
       "        </tr>\n",
       "        <tr>\n",
       "            <td>D0                            </td> <td>10  COOPS - ELEVATOR APARTMENTS   </td> <td>3324 </td>\n",
       "        </tr>\n",
       "        <tr>\n",
       "            <td>R1                            </td> <td>15  CONDOS - 2-10 UNIT RESIDENTIAL</td> <td>3250 </td>\n",
       "        </tr>\n",
       "        <tr>\n",
       "            <td>C7                            </td> <td>07  RENTALS - WALKUP APARTMENTS   </td> <td>1900 </td>\n",
       "        </tr>\n",
       "        <tr>\n",
       "            <td>R9                            </td> <td>17 CONDO COOPS                    </td> <td>1621 </td>\n",
       "        </tr>\n",
       "        <tr>\n",
       "            <td>C5                            </td> <td>07  RENTALS - WALKUP APARTMENTS   </td> <td>1473 </td>\n",
       "        </tr>\n",
       "        <tr>\n",
       "            <td>C1                            </td> <td>07  RENTALS - WALKUP APARTMENTS   </td> <td>1414 </td>\n",
       "        </tr>\n",
       "        <tr>\n",
       "            <td>C6                            </td> <td>09 COOPS - WALKUP APARTMENTS      </td> <td>1376 </td>\n",
       "        </tr>\n",
       "        <tr>\n",
       "            <td>R2                            </td> <td>12  CONDOS - WALKUP APARTMENTS    </td> <td>1278 </td>\n",
       "        </tr>\n",
       "        <tr>\n",
       "            <td>C4                            </td> <td>07  RENTALS - WALKUP APARTMENTS   </td> <td>1172 </td>\n",
       "        </tr>\n",
       "        <tr>\n",
       "            <td>H3                            </td> <td>26  OTHER HOTELS                  </td> <td>1052 </td>\n",
       "        </tr>\n",
       "    </tbody>\n",
       "</table>\n",
       "<p>... (302 rows omitted)</p>"
      ],
      "text/plain": [
       "<IPython.core.display.HTML object>"
      ]
     },
     "metadata": {},
     "output_type": "display_data"
    }
   ],
   "source": [
    "# Try to understand Building Class Codes. What are the most common Codes?\n",
    "\n",
    "all_sales_data.group(['BUILDING CLASS AT TIME OF SALE', 'BUILDING CLASS CATEGORY']).sort('count', descending=True).show(20)\n",
    "\n",
    "# Ok mostly condos and co-ops as expected\n",
    "\n",
    "# Question what's R5 -  COMMERCIAL CONDOS? ignoring for now"
   ]
  },
  {
   "cell_type": "markdown",
   "metadata": {},
   "source": [
    "Let's pick out the condos for now. \n",
    "Reference Data: [NYC Building Codes](https://www1.nyc.gov/assets/finance/jump/hlpbldgcode.html) "
   ]
  },
  {
   "cell_type": "code",
   "execution_count": 17,
   "metadata": {},
   "outputs": [
    {
     "data": {
      "text/html": [
       "<table border=\"1\" class=\"dataframe\">\n",
       "    <thead>\n",
       "        <tr>\n",
       "            <th>SALE DATE</th> <th>SALE PRICE</th> <th>ADDRESS</th> <th>APARTMENT NUMBER</th> <th>YEAR BUILT</th> <th>NEIGHBORHOOD</th> <th>ZIP CODE</th> <th>BUILDING CLASS AT TIME OF SALE</th> <th>BUILDING CLASS CATEGORY</th> <th>FULL ADDRESS</th>\n",
       "        </tr>\n",
       "    </thead>\n",
       "    <tbody>\n",
       "        <tr>\n",
       "            <td>2017-03-06 00:00:00</td> <td>1935000   </td> <td>140 WEST STREET        </td> <td>11J             </td> <td>1930      </td> <td>TRIBECA                </td> <td>10007   </td> <td>R4                            </td> <td>13 CONDOS - ELEVATOR APARTMENTS </td> <td>140 WEST STREET, 11J          </td>\n",
       "        </tr>\n",
       "        <tr>\n",
       "            <td>2010-05-28 00:00:00</td> <td>949000    </td> <td>425 CENTRAL PARK WEST  </td> <td>5D              </td> <td>1941      </td> <td>MANHATTAN VALLEY       </td> <td>10025   </td> <td>R4                            </td> <td>13  CONDOS - ELEVATOR APARTMENTS</td> <td>425 CENTRAL PARK WEST, 5D     </td>\n",
       "        </tr>\n",
       "        <tr>\n",
       "            <td>2017-05-10 00:00:00</td> <td>1900000   </td> <td>15 WILLIAM STREET      </td> <td>26A             </td> <td>2005      </td> <td>FINANCIAL              </td> <td>10005   </td> <td>R4                            </td> <td>13 CONDOS - ELEVATOR APARTMENTS </td> <td>15 WILLIAM STREET, 26A        </td>\n",
       "        </tr>\n",
       "        <tr>\n",
       "            <td>2006-07-12 00:00:00</td> <td>802000    </td> <td>11 PRINCE STREET       </td> <td>5A              </td> <td>0         </td> <td>LITTLE ITALY           </td> <td>10012   </td> <td>R4                            </td> <td>13  CONDOS - ELEVATOR APARTMENTS</td> <td>11 PRINCE STREET, 5A          </td>\n",
       "        </tr>\n",
       "        <tr>\n",
       "            <td>2005-08-05 00:00:00</td> <td>1883762   </td> <td>425 FIFTH AVE          </td> <td>54A             </td> <td>0         </td> <td>MURRAY HILL            </td> <td>10016   </td> <td>R4                            </td> <td>13  CONDOS - ELEVATOR APARTMENTS</td> <td>425 FIFTH AVE, 54A            </td>\n",
       "        </tr>\n",
       "        <tr>\n",
       "            <td>2011-03-10 00:00:00</td> <td>595000    </td> <td>2109 BROADWAY          </td> <td>6-102           </td> <td>0         </td> <td>UPPER WEST SIDE (59-79)</td> <td>10023   </td> <td>R4                            </td> <td>13  CONDOS - ELEVATOR APARTMENTS</td> <td>2109 BROADWAY, 6-102          </td>\n",
       "        </tr>\n",
       "        <tr>\n",
       "            <td>2003-09-29 00:00:00</td> <td>350000    </td> <td>418 CENTRAL PARK WEST  </td> <td>80              </td> <td>1902      </td> <td>MANHATTAN VALLEY       </td> <td>10025   </td> <td>R4                            </td> <td>13  CONDOS - ELEVATOR APARTMENTS</td> <td>418 CENTRAL PARK WEST, 80     </td>\n",
       "        </tr>\n",
       "        <tr>\n",
       "            <td>2006-04-11 00:00:00</td> <td>2300000   </td> <td>240 RIVERSIDE BOULEVARD</td> <td>10D-T           </td> <td>0         </td> <td>UPPER WEST SIDE (59-79)</td> <td>10069   </td> <td>R4                            </td> <td>13  CONDOS - ELEVATOR APARTMENTS</td> <td>240 RIVERSIDE BOULEVARD, 10D-T</td>\n",
       "        </tr>\n",
       "        <tr>\n",
       "            <td>2007-01-17 00:00:00</td> <td>950000    </td> <td>345 EAST 80TH   STREET </td> <td>30F             </td> <td>1973      </td> <td>UPPER EAST SIDE (79-96)</td> <td>10021   </td> <td>R4                            </td> <td>13  CONDOS - ELEVATOR APARTMENTS</td> <td>345 EAST 80TH   STREET, 30F   </td>\n",
       "        </tr>\n",
       "        <tr>\n",
       "            <td>2008-02-08 00:00:00</td> <td>680180    </td> <td>464 WEST 44TH   STREET </td> <td>2E              </td> <td>2006      </td> <td>CLINTON                </td> <td>10036   </td> <td>R4                            </td> <td>13  CONDOS - ELEVATOR APARTMENTS</td> <td>464 WEST 44TH   STREET, 2E    </td>\n",
       "        </tr>\n",
       "    </tbody>\n",
       "</table>"
      ],
      "text/plain": [
       "SALE DATE           | SALE PRICE | ADDRESS                 | APARTMENT NUMBER | YEAR BUILT | NEIGHBORHOOD            | ZIP CODE | BUILDING CLASS AT TIME OF SALE | BUILDING CLASS CATEGORY          | FULL ADDRESS\n",
       "2017-03-06 00:00:00 | 1935000    | 140 WEST STREET         | 11J              | 1930       | TRIBECA                 | 10007    | R4                             | 13 CONDOS - ELEVATOR APARTMENTS  | 140 WEST STREET, 11J\n",
       "2010-05-28 00:00:00 | 949000     | 425 CENTRAL PARK WEST   | 5D               | 1941       | MANHATTAN VALLEY        | 10025    | R4                             | 13  CONDOS - ELEVATOR APARTMENTS | 425 CENTRAL PARK WEST, 5D\n",
       "2017-05-10 00:00:00 | 1900000    | 15 WILLIAM STREET       | 26A              | 2005       | FINANCIAL               | 10005    | R4                             | 13 CONDOS - ELEVATOR APARTMENTS  | 15 WILLIAM STREET, 26A\n",
       "2006-07-12 00:00:00 | 802000     | 11 PRINCE STREET        | 5A               | 0          | LITTLE ITALY            | 10012    | R4                             | 13  CONDOS - ELEVATOR APARTMENTS | 11 PRINCE STREET, 5A\n",
       "2005-08-05 00:00:00 | 1883762    | 425 FIFTH AVE           | 54A              | 0          | MURRAY HILL             | 10016    | R4                             | 13  CONDOS - ELEVATOR APARTMENTS | 425 FIFTH AVE, 54A\n",
       "2011-03-10 00:00:00 | 595000     | 2109 BROADWAY           | 6-102            | 0          | UPPER WEST SIDE (59-79) | 10023    | R4                             | 13  CONDOS - ELEVATOR APARTMENTS | 2109 BROADWAY, 6-102\n",
       "2003-09-29 00:00:00 | 350000     | 418 CENTRAL PARK WEST   | 80               | 1902       | MANHATTAN VALLEY        | 10025    | R4                             | 13  CONDOS - ELEVATOR APARTMENTS | 418 CENTRAL PARK WEST, 80\n",
       "2006-04-11 00:00:00 | 2300000    | 240 RIVERSIDE BOULEVARD | 10D-T            | 0          | UPPER WEST SIDE (59-79) | 10069    | R4                             | 13  CONDOS - ELEVATOR APARTMENTS | 240 RIVERSIDE BOULEVARD, 10D-T\n",
       "2007-01-17 00:00:00 | 950000     | 345 EAST 80TH   STREET  | 30F              | 1973       | UPPER EAST SIDE (79-96) | 10021    | R4                             | 13  CONDOS - ELEVATOR APARTMENTS | 345 EAST 80TH   STREET, 30F\n",
       "2008-02-08 00:00:00 | 680180     | 464 WEST 44TH   STREET  | 2E               | 2006       | CLINTON                 | 10036    | R4                             | 13  CONDOS - ELEVATOR APARTMENTS | 464 WEST 44TH   STREET, 2E"
      ]
     },
     "execution_count": 17,
     "metadata": {},
     "output_type": "execute_result"
    }
   ],
   "source": [
    "condos = all_sales_data.where('BUILDING CLASS AT TIME OF SALE', are.contained_in(\"R1R2R3R4R6\"))\n",
    "\n",
    "# Spot Check condo data\n",
    "condos.sample(10)"
   ]
  },
  {
   "cell_type": "markdown",
   "metadata": {},
   "source": [
    "Let's find condos with multiple sales"
   ]
  },
  {
   "cell_type": "code",
   "execution_count": 18,
   "metadata": {},
   "outputs": [
    {
     "data": {
      "text/html": [
       "<table border=\"1\" class=\"dataframe\">\n",
       "    <thead>\n",
       "        <tr>\n",
       "            <th>FULL ADDRESS</th> <th>count</th>\n",
       "        </tr>\n",
       "    </thead>\n",
       "    <tbody>\n",
       "        <tr>\n",
       "            <td>1 WEST END AVENUE        </td> <td>136  </td>\n",
       "        </tr>\n",
       "        <tr>\n",
       "            <td>45 EAST 22ND   STREET    </td> <td>51   </td>\n",
       "        </tr>\n",
       "        <tr>\n",
       "            <td>245 WEST 99TH STREET     </td> <td>51   </td>\n",
       "        </tr>\n",
       "        <tr>\n",
       "            <td>171 WEST 131 STREET      </td> <td>44   </td>\n",
       "        </tr>\n",
       "        <tr>\n",
       "            <td>959 1 AVENUE             </td> <td>42   </td>\n",
       "        </tr>\n",
       "        <tr>\n",
       "            <td>416 WEST 52ND STREET     </td> <td>39   </td>\n",
       "        </tr>\n",
       "        <tr>\n",
       "            <td>245 WEST 99TH   STREET   </td> <td>37   </td>\n",
       "        </tr>\n",
       "        <tr>\n",
       "            <td>2094 FREDRICK DOUGLASS BL</td> <td>35   </td>\n",
       "        </tr>\n",
       "        <tr>\n",
       "            <td>172 MADISON AVENUE       </td> <td>35   </td>\n",
       "        </tr>\n",
       "        <tr>\n",
       "            <td>360 EAST 89TH   STREET   </td> <td>23   </td>\n",
       "        </tr>\n",
       "    </tbody>\n",
       "</table>\n",
       "<p>... (86376 rows omitted)</p>"
      ],
      "text/plain": [
       "FULL ADDRESS              | count\n",
       "1 WEST END AVENUE         | 136\n",
       "45 EAST 22ND   STREET     | 51\n",
       "245 WEST 99TH STREET      | 51\n",
       "171 WEST 131 STREET       | 44\n",
       "959 1 AVENUE              | 42\n",
       "416 WEST 52ND STREET      | 39\n",
       "245 WEST 99TH   STREET    | 37\n",
       "2094 FREDRICK DOUGLASS BL | 35\n",
       "172 MADISON AVENUE        | 35\n",
       "360 EAST 89TH   STREET    | 23\n",
       "... (86376 rows omitted)"
      ]
     },
     "execution_count": 18,
     "metadata": {},
     "output_type": "execute_result"
    }
   ],
   "source": [
    "condos.group(COL_FULL_ADDRESS).sort(1, descending=True)"
   ]
  },
  {
   "cell_type": "markdown",
   "metadata": {},
   "source": [
    "It looks like apt numbers are missing for most of the top sales. In order to focus on manhattan apartments let's ignore anything without an apt number. i.e. anything without a ',' (comma) in the Full Address"
   ]
  },
  {
   "cell_type": "code",
   "execution_count": 19,
   "metadata": {},
   "outputs": [
    {
     "data": {
      "text/html": [
       "<table border=\"1\" class=\"dataframe\">\n",
       "    <thead>\n",
       "        <tr>\n",
       "            <th>FULL ADDRESS</th> <th>count</th>\n",
       "        </tr>\n",
       "    </thead>\n",
       "    <tbody>\n",
       "        <tr>\n",
       "            <td>2 EAST 55 STREET, 835        </td> <td>8    </td>\n",
       "        </tr>\n",
       "        <tr>\n",
       "            <td>2 EAST 55TH   STREET, 935    </td> <td>7    </td>\n",
       "        </tr>\n",
       "        <tr>\n",
       "            <td>2 EAST 55 STREET, 921        </td> <td>7    </td>\n",
       "        </tr>\n",
       "        <tr>\n",
       "            <td>2 EAST 55 STREET, 936        </td> <td>6    </td>\n",
       "        </tr>\n",
       "        <tr>\n",
       "            <td>2 EAST 55 STREET, 903        </td> <td>6    </td>\n",
       "        </tr>\n",
       "        <tr>\n",
       "            <td>1420 YORK AVENUE, 5M         </td> <td>6    </td>\n",
       "        </tr>\n",
       "        <tr>\n",
       "            <td>140 7 AVENUE, 6A             </td> <td>6    </td>\n",
       "        </tr>\n",
       "        <tr>\n",
       "            <td>900 PARK AVENUE, 27E         </td> <td>5    </td>\n",
       "        </tr>\n",
       "        <tr>\n",
       "            <td>90 WILLIAM STREET, 2A        </td> <td>5    </td>\n",
       "        </tr>\n",
       "        <tr>\n",
       "            <td>845 UNITED NATIONS PLAZA, 24F</td> <td>5    </td>\n",
       "        </tr>\n",
       "    </tbody>\n",
       "</table>\n",
       "<p>... (15861 rows omitted)</p>"
      ],
      "text/plain": [
       "FULL ADDRESS                  | count\n",
       "2 EAST 55 STREET, 835         | 8\n",
       "2 EAST 55TH   STREET, 935     | 7\n",
       "2 EAST 55 STREET, 921         | 7\n",
       "2 EAST 55 STREET, 936         | 6\n",
       "2 EAST 55 STREET, 903         | 6\n",
       "1420 YORK AVENUE, 5M          | 6\n",
       "140 7 AVENUE, 6A              | 6\n",
       "900 PARK AVENUE, 27E          | 5\n",
       "90 WILLIAM STREET, 2A         | 5\n",
       "845 UNITED NATIONS PLAZA, 24F | 5\n",
       "... (15861 rows omitted)"
      ]
     },
     "execution_count": 19,
     "metadata": {},
     "output_type": "execute_result"
    }
   ],
   "source": [
    "multi_sale_condos = condos.where(COL_FULL_ADDRESS, are.containing(',')).group(COL_FULL_ADDRESS).sort(1, descending=True).where('count', are.above(1))\n",
    "multi_sale_condos"
   ]
  },
  {
   "cell_type": "markdown",
   "metadata": {},
   "source": [
    "There are a lot less records with apt numbers, but still roughly 16K records enough to proceed."
   ]
  },
  {
   "cell_type": "code",
   "execution_count": 20,
   "metadata": {},
   "outputs": [
    {
     "data": {
      "text/html": [
       "<table border=\"1\" class=\"dataframe\">\n",
       "    <thead>\n",
       "        <tr>\n",
       "            <th>FULL ADDRESS</th> <th>count</th> <th>SALE DATE</th> <th>SALE PRICE</th> <th>ADDRESS</th> <th>APARTMENT NUMBER</th> <th>YEAR BUILT</th> <th>NEIGHBORHOOD</th> <th>ZIP CODE</th> <th>BUILDING CLASS AT TIME OF SALE</th> <th>BUILDING CLASS CATEGORY</th>\n",
       "        </tr>\n",
       "    </thead>\n",
       "    <tbody>\n",
       "        <tr>\n",
       "            <td>1 BOND STREET, 2B</td> <td>2    </td> <td>2004-08-04 00:00:00</td> <td>31000     </td> <td>1 BOND STREET</td> <td>2B              </td> <td>0         </td> <td>GREENWICH VILLAGE-CENTRAL</td> <td>10012   </td> <td>R4                            </td> <td>13  CONDOS - ELEVATOR APARTMENTS</td>\n",
       "        </tr>\n",
       "        <tr>\n",
       "            <td>1 BOND STREET, 2B</td> <td>2    </td> <td>2009-08-20 00:00:00</td> <td>1591000   </td> <td>1 BOND STREET</td> <td>2B              </td> <td>0         </td> <td>GREENWICH VILLAGE-CENTRAL</td> <td>10012   </td> <td>R4                            </td> <td>13  CONDOS - ELEVATOR APARTMENTS</td>\n",
       "        </tr>\n",
       "        <tr>\n",
       "            <td>1 BOND STREET, 2C</td> <td>2    </td> <td>2017-08-18 00:00:00</td> <td>5640000   </td> <td>1 BOND STREET</td> <td>2C              </td> <td>0         </td> <td>GREENWICH VILLAGE-CENTRAL</td> <td>10012   </td> <td>R4                            </td> <td>13 CONDOS - ELEVATOR APARTMENTS </td>\n",
       "        </tr>\n",
       "        <tr>\n",
       "            <td>1 BOND STREET, 2C</td> <td>2    </td> <td>2010-12-15 00:00:00</td> <td>600000    </td> <td>1 BOND STREET</td> <td>2C              </td> <td>0         </td> <td>GREENWICH VILLAGE-CENTRAL</td> <td>10012   </td> <td>R4                            </td> <td>13  CONDOS - ELEVATOR APARTMENTS</td>\n",
       "        </tr>\n",
       "        <tr>\n",
       "            <td>1 BOND STREET, 2D</td> <td>2    </td> <td>2009-04-24 00:00:00</td> <td>1195000   </td> <td>1 BOND STREET</td> <td>2D              </td> <td>0         </td> <td>GREENWICH VILLAGE-CENTRAL</td> <td>10012   </td> <td>R4                            </td> <td>13  CONDOS - ELEVATOR APARTMENTS</td>\n",
       "        </tr>\n",
       "        <tr>\n",
       "            <td>1 BOND STREET, 2D</td> <td>2    </td> <td>2014-01-07 00:00:00</td> <td>1925000   </td> <td>1 BOND STREET</td> <td>2D              </td> <td>0         </td> <td>GREENWICH VILLAGE-CENTRAL</td> <td>10012   </td> <td>R4                            </td> <td>13  CONDOS - ELEVATOR APARTMENTS</td>\n",
       "        </tr>\n",
       "        <tr>\n",
       "            <td>1 BOND STREET, 3A</td> <td>2    </td> <td>2013-06-14 00:00:00</td> <td>7200000   </td> <td>1 BOND STREET</td> <td>3A              </td> <td>0         </td> <td>GREENWICH VILLAGE-CENTRAL</td> <td>10012   </td> <td>R4                            </td> <td>13  CONDOS - ELEVATOR APARTMENTS</td>\n",
       "        </tr>\n",
       "        <tr>\n",
       "            <td>1 BOND STREET, 3A</td> <td>2    </td> <td>2008-06-06 00:00:00</td> <td>5030000   </td> <td>1 BOND STREET</td> <td>3A              </td> <td>0         </td> <td>GREENWICH VILLAGE-CENTRAL</td> <td>10012   </td> <td>R4                            </td> <td>13  CONDOS - ELEVATOR APARTMENTS</td>\n",
       "        </tr>\n",
       "        <tr>\n",
       "            <td>1 BOND STREET, 4D</td> <td>2    </td> <td>2006-08-30 00:00:00</td> <td>1565000   </td> <td>1 BOND STREET</td> <td>4D              </td> <td>0         </td> <td>GREENWICH VILLAGE-CENTRAL</td> <td>10012   </td> <td>R4                            </td> <td>13  CONDOS - ELEVATOR APARTMENTS</td>\n",
       "        </tr>\n",
       "        <tr>\n",
       "            <td>1 BOND STREET, 4D</td> <td>2    </td> <td>2013-08-20 00:00:00</td> <td>2415000   </td> <td>1 BOND STREET</td> <td>4D              </td> <td>0         </td> <td>GREENWICH VILLAGE-CENTRAL</td> <td>10012   </td> <td>R4                            </td> <td>13  CONDOS - ELEVATOR APARTMENTS</td>\n",
       "        </tr>\n",
       "    </tbody>\n",
       "</table>\n",
       "<p>... (34577 rows omitted)</p>"
      ],
      "text/plain": [
       "FULL ADDRESS      | count | SALE DATE           | SALE PRICE | ADDRESS       | APARTMENT NUMBER | YEAR BUILT | NEIGHBORHOOD              | ZIP CODE | BUILDING CLASS AT TIME OF SALE | BUILDING CLASS CATEGORY\n",
       "1 BOND STREET, 2B | 2     | 2004-08-04 00:00:00 | 31000      | 1 BOND STREET | 2B               | 0          | GREENWICH VILLAGE-CENTRAL | 10012    | R4                             | 13  CONDOS - ELEVATOR APARTMENTS\n",
       "1 BOND STREET, 2B | 2     | 2009-08-20 00:00:00 | 1591000    | 1 BOND STREET | 2B               | 0          | GREENWICH VILLAGE-CENTRAL | 10012    | R4                             | 13  CONDOS - ELEVATOR APARTMENTS\n",
       "1 BOND STREET, 2C | 2     | 2017-08-18 00:00:00 | 5640000    | 1 BOND STREET | 2C               | 0          | GREENWICH VILLAGE-CENTRAL | 10012    | R4                             | 13 CONDOS - ELEVATOR APARTMENTS\n",
       "1 BOND STREET, 2C | 2     | 2010-12-15 00:00:00 | 600000     | 1 BOND STREET | 2C               | 0          | GREENWICH VILLAGE-CENTRAL | 10012    | R4                             | 13  CONDOS - ELEVATOR APARTMENTS\n",
       "1 BOND STREET, 2D | 2     | 2009-04-24 00:00:00 | 1195000    | 1 BOND STREET | 2D               | 0          | GREENWICH VILLAGE-CENTRAL | 10012    | R4                             | 13  CONDOS - ELEVATOR APARTMENTS\n",
       "1 BOND STREET, 2D | 2     | 2014-01-07 00:00:00 | 1925000    | 1 BOND STREET | 2D               | 0          | GREENWICH VILLAGE-CENTRAL | 10012    | R4                             | 13  CONDOS - ELEVATOR APARTMENTS\n",
       "1 BOND STREET, 3A | 2     | 2013-06-14 00:00:00 | 7200000    | 1 BOND STREET | 3A               | 0          | GREENWICH VILLAGE-CENTRAL | 10012    | R4                             | 13  CONDOS - ELEVATOR APARTMENTS\n",
       "1 BOND STREET, 3A | 2     | 2008-06-06 00:00:00 | 5030000    | 1 BOND STREET | 3A               | 0          | GREENWICH VILLAGE-CENTRAL | 10012    | R4                             | 13  CONDOS - ELEVATOR APARTMENTS\n",
       "1 BOND STREET, 4D | 2     | 2006-08-30 00:00:00 | 1565000    | 1 BOND STREET | 4D               | 0          | GREENWICH VILLAGE-CENTRAL | 10012    | R4                             | 13  CONDOS - ELEVATOR APARTMENTS\n",
       "1 BOND STREET, 4D | 2     | 2013-08-20 00:00:00 | 2415000    | 1 BOND STREET | 4D               | 0          | GREENWICH VILLAGE-CENTRAL | 10012    | R4                             | 13  CONDOS - ELEVATOR APARTMENTS\n",
       "... (34577 rows omitted)"
      ]
     },
     "execution_count": 20,
     "metadata": {},
     "output_type": "execute_result"
    }
   ],
   "source": [
    "# Define a new table for condos with multiple sales. \n",
    "\n",
    "multi_sale_condos = multi_sale_condos.join(COL_FULL_ADDRESS, condos)\n",
    "multi_sale_condos.sort(0)"
   ]
  },
  {
   "cell_type": "markdown",
   "metadata": {},
   "source": [
    "## Find the first and last sale date for each condo"
   ]
  },
  {
   "cell_type": "code",
   "execution_count": 21,
   "metadata": {},
   "outputs": [
    {
     "data": {
      "text/html": [
       "<table border=\"1\" class=\"dataframe\">\n",
       "    <thead>\n",
       "        <tr>\n",
       "            <th>FULL ADDRESS</th> <th>SALE DATE min</th>\n",
       "        </tr>\n",
       "    </thead>\n",
       "    <tbody>\n",
       "        <tr>\n",
       "            <td>1 BOND STREET, 2B</td> <td>2004-08-04 00:00:00</td>\n",
       "        </tr>\n",
       "        <tr>\n",
       "            <td>1 BOND STREET, 2C</td> <td>2010-12-15 00:00:00</td>\n",
       "        </tr>\n",
       "        <tr>\n",
       "            <td>1 BOND STREET, 2D</td> <td>2009-04-24 00:00:00</td>\n",
       "        </tr>\n",
       "        <tr>\n",
       "            <td>1 BOND STREET, 3A</td> <td>2008-06-06 00:00:00</td>\n",
       "        </tr>\n",
       "        <tr>\n",
       "            <td>1 BOND STREET, 4D</td> <td>2006-08-30 00:00:00</td>\n",
       "        </tr>\n",
       "    </tbody>\n",
       "</table>\n",
       "<p>... (15866 rows omitted)</p>"
      ],
      "text/plain": [
       "<IPython.core.display.HTML object>"
      ]
     },
     "metadata": {},
     "output_type": "display_data"
    },
    {
     "data": {
      "text/html": [
       "<table border=\"1\" class=\"dataframe\">\n",
       "    <thead>\n",
       "        <tr>\n",
       "            <th>FULL ADDRESS</th> <th>SALE DATE max</th>\n",
       "        </tr>\n",
       "    </thead>\n",
       "    <tbody>\n",
       "        <tr>\n",
       "            <td>1 BOND STREET, 2B</td> <td>2009-08-20 00:00:00</td>\n",
       "        </tr>\n",
       "        <tr>\n",
       "            <td>1 BOND STREET, 2C</td> <td>2017-08-18 00:00:00</td>\n",
       "        </tr>\n",
       "        <tr>\n",
       "            <td>1 BOND STREET, 2D</td> <td>2014-01-07 00:00:00</td>\n",
       "        </tr>\n",
       "        <tr>\n",
       "            <td>1 BOND STREET, 3A</td> <td>2013-06-14 00:00:00</td>\n",
       "        </tr>\n",
       "        <tr>\n",
       "            <td>1 BOND STREET, 4D</td> <td>2013-08-20 00:00:00</td>\n",
       "        </tr>\n",
       "    </tbody>\n",
       "</table>\n",
       "<p>... (15866 rows omitted)</p>"
      ],
      "text/plain": [
       "<IPython.core.display.HTML object>"
      ]
     },
     "metadata": {},
     "output_type": "display_data"
    }
   ],
   "source": [
    "purchase_dates = multi_sale_condos.select(COL_FULL_ADDRESS, COL_SALE_DATE).group([0], min)\n",
    "sold_dates = multi_sale_condos.select(COL_FULL_ADDRESS, COL_SALE_DATE).group([0], max)\n",
    "\n",
    "# Note for the purposes of this analysis, we can ignore any additnal sales between min and max dates\n",
    "\n",
    "# Spot check data\n",
    "purchase_dates.show(5)\n",
    "sold_dates.show(5)"
   ]
  },
  {
   "cell_type": "code",
   "execution_count": 22,
   "metadata": {},
   "outputs": [],
   "source": [
    "# Update Labels\n",
    "\n",
    "purchase_dates = purchase_dates.relabel(1, COL_PURCHASE_DATE)\n",
    "sold_dates = sold_dates.relabel(1, COL_SOLD_DATE)"
   ]
  },
  {
   "cell_type": "code",
   "execution_count": 23,
   "metadata": {},
   "outputs": [],
   "source": [
    "# Join with Condos to get the sale price\n",
    "purchase_dates = purchase_dates.join(COL_FULL_ADDRESS, condos, COL_FULL_ADDRESS).where(COL_SALE_DATE, are.equal_to, COL_PURCHASE_DATE)\n",
    "purchase_dates = purchase_dates.select( COL_FULL_ADDRESS, COL_PURCHASE_DATE, COL_SALE_PRICE)\n",
    "\n",
    "\n",
    "sold_dates = sold_dates.join(COL_FULL_ADDRESS, condos, COL_FULL_ADDRESS).where(COL_SALE_DATE, are.equal_to, COL_SOLD_DATE)\n",
    "sold_dates = sold_dates.select( COL_FULL_ADDRESS, COL_SOLD_DATE, COL_SALE_PRICE)\n"
   ]
  },
  {
   "cell_type": "code",
   "execution_count": 24,
   "metadata": {},
   "outputs": [
    {
     "data": {
      "text/html": [
       "<table border=\"1\" class=\"dataframe\">\n",
       "    <thead>\n",
       "        <tr>\n",
       "            <th>FULL ADDRESS</th> <th>PURCHASE DATE</th> <th>SALE PRICE</th>\n",
       "        </tr>\n",
       "    </thead>\n",
       "    <tbody>\n",
       "        <tr>\n",
       "            <td>1 BOND STREET, 2B</td> <td>2004-08-04 00:00:00</td> <td>31000     </td>\n",
       "        </tr>\n",
       "        <tr>\n",
       "            <td>1 BOND STREET, 2C</td> <td>2010-12-15 00:00:00</td> <td>600000    </td>\n",
       "        </tr>\n",
       "        <tr>\n",
       "            <td>1 BOND STREET, 2D</td> <td>2009-04-24 00:00:00</td> <td>1195000   </td>\n",
       "        </tr>\n",
       "        <tr>\n",
       "            <td>1 BOND STREET, 3A</td> <td>2008-06-06 00:00:00</td> <td>5030000   </td>\n",
       "        </tr>\n",
       "        <tr>\n",
       "            <td>1 BOND STREET, 4D</td> <td>2006-08-30 00:00:00</td> <td>1565000   </td>\n",
       "        </tr>\n",
       "    </tbody>\n",
       "</table>\n",
       "<p>... (16511 rows omitted)</p>"
      ],
      "text/plain": [
       "<IPython.core.display.HTML object>"
      ]
     },
     "metadata": {},
     "output_type": "display_data"
    },
    {
     "data": {
      "text/html": [
       "<table border=\"1\" class=\"dataframe\">\n",
       "    <thead>\n",
       "        <tr>\n",
       "            <th>FULL ADDRESS</th> <th>SOLD DATE</th> <th>SALE PRICE</th>\n",
       "        </tr>\n",
       "    </thead>\n",
       "    <tbody>\n",
       "        <tr>\n",
       "            <td>1 BOND STREET, 2B</td> <td>2009-08-20 00:00:00</td> <td>1591000   </td>\n",
       "        </tr>\n",
       "        <tr>\n",
       "            <td>1 BOND STREET, 2C</td> <td>2017-08-18 00:00:00</td> <td>5640000   </td>\n",
       "        </tr>\n",
       "        <tr>\n",
       "            <td>1 BOND STREET, 2D</td> <td>2014-01-07 00:00:00</td> <td>1925000   </td>\n",
       "        </tr>\n",
       "        <tr>\n",
       "            <td>1 BOND STREET, 3A</td> <td>2013-06-14 00:00:00</td> <td>7200000   </td>\n",
       "        </tr>\n",
       "        <tr>\n",
       "            <td>1 BOND STREET, 4D</td> <td>2013-08-20 00:00:00</td> <td>2415000   </td>\n",
       "        </tr>\n",
       "    </tbody>\n",
       "</table>\n",
       "<p>... (16775 rows omitted)</p>"
      ],
      "text/plain": [
       "<IPython.core.display.HTML object>"
      ]
     },
     "metadata": {},
     "output_type": "display_data"
    }
   ],
   "source": [
    "purchase_dates.show(5)\n",
    "sold_dates.show(5)\n",
    "\n",
    "# Hmm earlier we had 16187 now we have more! Could we have multiple sale records for the same date??"
   ]
  },
  {
   "cell_type": "code",
   "execution_count": 25,
   "metadata": {},
   "outputs": [
    {
     "data": {
      "text/html": [
       "<table border=\"1\" class=\"dataframe\">\n",
       "    <thead>\n",
       "        <tr>\n",
       "            <th>FULL ADDRESS</th> <th>PURCHASE DATE</th> <th>count</th>\n",
       "        </tr>\n",
       "    </thead>\n",
       "    <tbody>\n",
       "        <tr>\n",
       "            <td>2 EAST 55 STREET, 921 </td> <td>2006-08-22 00:00:00</td> <td>4    </td>\n",
       "        </tr>\n",
       "        <tr>\n",
       "            <td>99 BATTERY PLACE, 20-D</td> <td>2017-12-15 00:00:00</td> <td>2    </td>\n",
       "        </tr>\n",
       "        <tr>\n",
       "            <td>959 FIRST AVENUE, 16B </td> <td>2017-11-20 00:00:00</td> <td>2    </td>\n",
       "        </tr>\n",
       "        <tr>\n",
       "            <td>959 1ST AVENUE, 5F    </td> <td>2017-11-07 00:00:00</td> <td>2    </td>\n",
       "        </tr>\n",
       "        <tr>\n",
       "            <td>959 1ST AVENUE, 2B    </td> <td>2017-12-19 00:00:00</td> <td>2    </td>\n",
       "        </tr>\n",
       "        <tr>\n",
       "            <td>959 1 AVENUE, 8P      </td> <td>2017-11-14 00:00:00</td> <td>2    </td>\n",
       "        </tr>\n",
       "        <tr>\n",
       "            <td>959 1 AVENUE, 5A      </td> <td>2017-12-21 00:00:00</td> <td>2    </td>\n",
       "        </tr>\n",
       "        <tr>\n",
       "            <td>959 1 AVENUE, 4G      </td> <td>2017-12-21 00:00:00</td> <td>2    </td>\n",
       "        </tr>\n",
       "        <tr>\n",
       "            <td>959 1 AVENUE, 4B      </td> <td>2017-11-07 00:00:00</td> <td>2    </td>\n",
       "        </tr>\n",
       "        <tr>\n",
       "            <td>959 1 AVENUE, 2E      </td> <td>2017-11-07 00:00:00</td> <td>2    </td>\n",
       "        </tr>\n",
       "    </tbody>\n",
       "</table>\n",
       "<p>... (633 rows omitted)</p>"
      ],
      "text/plain": [
       "FULL ADDRESS           | PURCHASE DATE       | count\n",
       "2 EAST 55 STREET, 921  | 2006-08-22 00:00:00 | 4\n",
       "99 BATTERY PLACE, 20-D | 2017-12-15 00:00:00 | 2\n",
       "959 FIRST AVENUE, 16B  | 2017-11-20 00:00:00 | 2\n",
       "959 1ST AVENUE, 5F     | 2017-11-07 00:00:00 | 2\n",
       "959 1ST AVENUE, 2B     | 2017-12-19 00:00:00 | 2\n",
       "959 1 AVENUE, 8P       | 2017-11-14 00:00:00 | 2\n",
       "959 1 AVENUE, 5A       | 2017-12-21 00:00:00 | 2\n",
       "959 1 AVENUE, 4G       | 2017-12-21 00:00:00 | 2\n",
       "959 1 AVENUE, 4B       | 2017-11-07 00:00:00 | 2\n",
       "959 1 AVENUE, 2E       | 2017-11-07 00:00:00 | 2\n",
       "... (633 rows omitted)"
      ]
     },
     "execution_count": 25,
     "metadata": {},
     "output_type": "execute_result"
    }
   ],
   "source": [
    "# Yep duplicate sales on the same day!\n",
    "\n",
    "purchase_dates.groups([COL_FULL_ADDRESS, COL_PURCHASE_DATE]).sort(2, descending=True).where(2, are.above(1))"
   ]
  },
  {
   "cell_type": "code",
   "execution_count": 26,
   "metadata": {},
   "outputs": [
    {
     "data": {
      "text/html": [
       "<table border=\"1\" class=\"dataframe\">\n",
       "    <thead>\n",
       "        <tr>\n",
       "            <th>SALE DATE</th> <th>SALE PRICE</th> <th>ADDRESS</th> <th>APARTMENT NUMBER</th> <th>YEAR BUILT</th> <th>NEIGHBORHOOD</th> <th>ZIP CODE</th> <th>BUILDING CLASS AT TIME OF SALE</th> <th>BUILDING CLASS CATEGORY</th> <th>FULL ADDRESS</th>\n",
       "        </tr>\n",
       "    </thead>\n",
       "    <tbody>\n",
       "        <tr>\n",
       "            <td>2006-10-09 00:00:00</td> <td>467251    </td> <td>2 EAST 55 STREET</td> <td>921             </td> <td>1903      </td> <td>MIDTOWN CBD </td> <td>10022   </td> <td>R4                            </td> <td>13  CONDOS - ELEVATOR APARTMENTS</td> <td>2 EAST 55 STREET, 921</td>\n",
       "        </tr>\n",
       "        <tr>\n",
       "            <td>2006-10-09 00:00:00</td> <td>403977    </td> <td>2 EAST 55 STREET</td> <td>921             </td> <td>1903      </td> <td>MIDTOWN CBD </td> <td>10022   </td> <td>R4                            </td> <td>13  CONDOS - ELEVATOR APARTMENTS</td> <td>2 EAST 55 STREET, 921</td>\n",
       "        </tr>\n",
       "        <tr>\n",
       "            <td>2006-09-05 00:00:00</td> <td>451230    </td> <td>2 EAST 55 STREET</td> <td>921             </td> <td>1903      </td> <td>MIDTOWN CBD </td> <td>10022   </td> <td>R4                            </td> <td>13  CONDOS - ELEVATOR APARTMENTS</td> <td>2 EAST 55 STREET, 921</td>\n",
       "        </tr>\n",
       "        <tr>\n",
       "            <td>2006-08-22 00:00:00</td> <td>486720    </td> <td>2 EAST 55 STREET</td> <td>921             </td> <td>1903      </td> <td>MIDTOWN CBD </td> <td>10022   </td> <td>R4                            </td> <td>13  CONDOS - ELEVATOR APARTMENTS</td> <td>2 EAST 55 STREET, 921</td>\n",
       "        </tr>\n",
       "        <tr>\n",
       "            <td>2006-08-22 00:00:00</td> <td>496860    </td> <td>2 EAST 55 STREET</td> <td>921             </td> <td>1903      </td> <td>MIDTOWN CBD </td> <td>10022   </td> <td>R4                            </td> <td>13  CONDOS - ELEVATOR APARTMENTS</td> <td>2 EAST 55 STREET, 921</td>\n",
       "        </tr>\n",
       "        <tr>\n",
       "            <td>2006-08-22 00:00:00</td> <td>486922    </td> <td>2 EAST 55 STREET</td> <td>921             </td> <td>1903      </td> <td>MIDTOWN CBD </td> <td>10022   </td> <td>R4                            </td> <td>13  CONDOS - ELEVATOR APARTMENTS</td> <td>2 EAST 55 STREET, 921</td>\n",
       "        </tr>\n",
       "        <tr>\n",
       "            <td>2006-08-22 00:00:00</td> <td>412393    </td> <td>2 EAST 55 STREET</td> <td>921             </td> <td>1903      </td> <td>MIDTOWN CBD </td> <td>10022   </td> <td>R4                            </td> <td>13  CONDOS - ELEVATOR APARTMENTS</td> <td>2 EAST 55 STREET, 921</td>\n",
       "        </tr>\n",
       "    </tbody>\n",
       "</table>"
      ],
      "text/plain": [
       "SALE DATE           | SALE PRICE | ADDRESS          | APARTMENT NUMBER | YEAR BUILT | NEIGHBORHOOD | ZIP CODE | BUILDING CLASS AT TIME OF SALE | BUILDING CLASS CATEGORY          | FULL ADDRESS\n",
       "2006-10-09 00:00:00 | 467251     | 2 EAST 55 STREET | 921              | 1903       | MIDTOWN CBD  | 10022    | R4                             | 13  CONDOS - ELEVATOR APARTMENTS | 2 EAST 55 STREET, 921\n",
       "2006-10-09 00:00:00 | 403977     | 2 EAST 55 STREET | 921              | 1903       | MIDTOWN CBD  | 10022    | R4                             | 13  CONDOS - ELEVATOR APARTMENTS | 2 EAST 55 STREET, 921\n",
       "2006-09-05 00:00:00 | 451230     | 2 EAST 55 STREET | 921              | 1903       | MIDTOWN CBD  | 10022    | R4                             | 13  CONDOS - ELEVATOR APARTMENTS | 2 EAST 55 STREET, 921\n",
       "2006-08-22 00:00:00 | 486720     | 2 EAST 55 STREET | 921              | 1903       | MIDTOWN CBD  | 10022    | R4                             | 13  CONDOS - ELEVATOR APARTMENTS | 2 EAST 55 STREET, 921\n",
       "2006-08-22 00:00:00 | 496860     | 2 EAST 55 STREET | 921              | 1903       | MIDTOWN CBD  | 10022    | R4                             | 13  CONDOS - ELEVATOR APARTMENTS | 2 EAST 55 STREET, 921\n",
       "2006-08-22 00:00:00 | 486922     | 2 EAST 55 STREET | 921              | 1903       | MIDTOWN CBD  | 10022    | R4                             | 13  CONDOS - ELEVATOR APARTMENTS | 2 EAST 55 STREET, 921\n",
       "2006-08-22 00:00:00 | 412393     | 2 EAST 55 STREET | 921              | 1903       | MIDTOWN CBD  | 10022    | R4                             | 13  CONDOS - ELEVATOR APARTMENTS | 2 EAST 55 STREET, 921"
      ]
     },
     "execution_count": 26,
     "metadata": {},
     "output_type": "execute_result"
    }
   ],
   "source": [
    "# Spot check some duplicate addresses to understand what's going on\n",
    "condos.where(COL_FULL_ADDRESS, are.equal_to('2 EAST 55 STREET, 921'))"
   ]
  },
  {
   "cell_type": "code",
   "execution_count": 27,
   "metadata": {},
   "outputs": [],
   "source": [
    "# It's not really clear what might be going on. Let's just take the corresponding min and max value to keep moving along\n",
    "\n",
    "purchase_dates = purchase_dates.group([COL_FULL_ADDRESS, COL_PURCHASE_DATE], min)\n",
    "sold_dates = sold_dates.group([COL_FULL_ADDRESS, COL_SOLD_DATE], max)\n"
   ]
  },
  {
   "cell_type": "code",
   "execution_count": 28,
   "metadata": {},
   "outputs": [
    {
     "data": {
      "text/html": [
       "<table border=\"1\" class=\"dataframe\">\n",
       "    <thead>\n",
       "        <tr>\n",
       "            <th>FULL ADDRESS</th> <th>PURCHASE DATE</th> <th>PURCHASE PRICE</th> <th>SOLD DATE</th> <th>SOLD PRICE</th>\n",
       "        </tr>\n",
       "    </thead>\n",
       "    <tbody>\n",
       "        <tr>\n",
       "            <td>1 BOND STREET, 2B         </td> <td>2004-08-04 00:00:00</td> <td>31000         </td> <td>2009-08-20 00:00:00</td> <td>1591000   </td>\n",
       "        </tr>\n",
       "        <tr>\n",
       "            <td>1 BOND STREET, 2C         </td> <td>2010-12-15 00:00:00</td> <td>600000        </td> <td>2017-08-18 00:00:00</td> <td>5640000   </td>\n",
       "        </tr>\n",
       "        <tr>\n",
       "            <td>1 BOND STREET, 2D         </td> <td>2009-04-24 00:00:00</td> <td>1195000       </td> <td>2014-01-07 00:00:00</td> <td>1925000   </td>\n",
       "        </tr>\n",
       "        <tr>\n",
       "            <td>1 BOND STREET, 3A         </td> <td>2008-06-06 00:00:00</td> <td>5030000       </td> <td>2013-06-14 00:00:00</td> <td>7200000   </td>\n",
       "        </tr>\n",
       "        <tr>\n",
       "            <td>1 BOND STREET, 4D         </td> <td>2006-08-30 00:00:00</td> <td>1565000       </td> <td>2013-08-20 00:00:00</td> <td>2415000   </td>\n",
       "        </tr>\n",
       "        <tr>\n",
       "            <td>1 BOND STREET, 6A         </td> <td>2012-12-12 00:00:00</td> <td>3600000       </td> <td>2017-09-06 00:00:00</td> <td>5250000   </td>\n",
       "        </tr>\n",
       "        <tr>\n",
       "            <td>1 BOND STREET, 6B         </td> <td>2004-12-01 00:00:00</td> <td>2996000       </td> <td>2016-05-20 00:00:00</td> <td>4350000   </td>\n",
       "        </tr>\n",
       "        <tr>\n",
       "            <td>1 CENTRAL PARK SOUTH, 2002</td> <td>2010-12-01 00:00:00</td> <td>4600000       </td> <td>2018-06-22 00:00:00</td> <td>4750000   </td>\n",
       "        </tr>\n",
       "        <tr>\n",
       "            <td>1 CENTRAL PARK SOUTH, 503 </td> <td>2012-12-18 00:00:00</td> <td>7995000       </td> <td>2017-02-24 00:00:00</td> <td>10150000  </td>\n",
       "        </tr>\n",
       "        <tr>\n",
       "            <td>1 CENTRAL PARK WEST, 23B  </td> <td>2008-04-03 00:00:00</td> <td>5580000       </td> <td>2012-06-28 00:00:00</td> <td>6200000   </td>\n",
       "        </tr>\n",
       "    </tbody>\n",
       "</table>\n",
       "<p>... (15861 rows omitted)</p>"
      ],
      "text/plain": [
       "FULL ADDRESS               | PURCHASE DATE       | PURCHASE PRICE | SOLD DATE           | SOLD PRICE\n",
       "1 BOND STREET, 2B          | 2004-08-04 00:00:00 | 31000          | 2009-08-20 00:00:00 | 1591000\n",
       "1 BOND STREET, 2C          | 2010-12-15 00:00:00 | 600000         | 2017-08-18 00:00:00 | 5640000\n",
       "1 BOND STREET, 2D          | 2009-04-24 00:00:00 | 1195000        | 2014-01-07 00:00:00 | 1925000\n",
       "1 BOND STREET, 3A          | 2008-06-06 00:00:00 | 5030000        | 2013-06-14 00:00:00 | 7200000\n",
       "1 BOND STREET, 4D          | 2006-08-30 00:00:00 | 1565000        | 2013-08-20 00:00:00 | 2415000\n",
       "1 BOND STREET, 6A          | 2012-12-12 00:00:00 | 3600000        | 2017-09-06 00:00:00 | 5250000\n",
       "1 BOND STREET, 6B          | 2004-12-01 00:00:00 | 2996000        | 2016-05-20 00:00:00 | 4350000\n",
       "1 CENTRAL PARK SOUTH, 2002 | 2010-12-01 00:00:00 | 4600000        | 2018-06-22 00:00:00 | 4750000\n",
       "1 CENTRAL PARK SOUTH, 503  | 2012-12-18 00:00:00 | 7995000        | 2017-02-24 00:00:00 | 10150000\n",
       "1 CENTRAL PARK WEST, 23B   | 2008-04-03 00:00:00 | 5580000        | 2012-06-28 00:00:00 | 6200000\n",
       "... (15861 rows omitted)"
      ]
     },
     "execution_count": 28,
     "metadata": {},
     "output_type": "execute_result"
    }
   ],
   "source": [
    "# Relabel and join the first and last sale tables to create a new condo sales table\n",
    "\n",
    "purchase_dates = purchase_dates.relabel(2, COL_PURCHASE_PRICE)\n",
    "sold_dates = sold_dates.relabel(2, COL_SOLD_PRICE)\n",
    "\n",
    "\n",
    "condo_sales = purchase_dates.join(COL_FULL_ADDRESS, sold_dates, COL_FULL_ADDRESS)\n",
    "condo_sales"
   ]
  },
  {
   "cell_type": "code",
   "execution_count": 29,
   "metadata": {},
   "outputs": [
    {
     "data": {
      "text/html": [
       "<table border=\"1\" class=\"dataframe\">\n",
       "    <thead>\n",
       "        <tr>\n",
       "            <th>FULL ADDRESS</th> <th>PURCHASE DATE</th> <th>PURCHASE PRICE</th> <th>SOLD DATE</th> <th>SOLD PRICE</th> <th>PRICE CHANGE</th> <th>PERIOD</th>\n",
       "        </tr>\n",
       "    </thead>\n",
       "    <tbody>\n",
       "        <tr>\n",
       "            <td>1 BOND STREET, 2B         </td> <td>2004-08-04 00:00:00</td> <td>31000         </td> <td>2009-08-20 00:00:00</td> <td>1591000   </td> <td>1,560,000   </td> <td>1842  </td>\n",
       "        </tr>\n",
       "        <tr>\n",
       "            <td>1 BOND STREET, 2C         </td> <td>2010-12-15 00:00:00</td> <td>600000        </td> <td>2017-08-18 00:00:00</td> <td>5640000   </td> <td>5,040,000   </td> <td>2438  </td>\n",
       "        </tr>\n",
       "        <tr>\n",
       "            <td>1 BOND STREET, 2D         </td> <td>2009-04-24 00:00:00</td> <td>1195000       </td> <td>2014-01-07 00:00:00</td> <td>1925000   </td> <td>730,000     </td> <td>1719  </td>\n",
       "        </tr>\n",
       "        <tr>\n",
       "            <td>1 BOND STREET, 3A         </td> <td>2008-06-06 00:00:00</td> <td>5030000       </td> <td>2013-06-14 00:00:00</td> <td>7200000   </td> <td>2,170,000   </td> <td>1834  </td>\n",
       "        </tr>\n",
       "        <tr>\n",
       "            <td>1 BOND STREET, 4D         </td> <td>2006-08-30 00:00:00</td> <td>1565000       </td> <td>2013-08-20 00:00:00</td> <td>2415000   </td> <td>850,000     </td> <td>2547  </td>\n",
       "        </tr>\n",
       "        <tr>\n",
       "            <td>1 BOND STREET, 6A         </td> <td>2012-12-12 00:00:00</td> <td>3600000       </td> <td>2017-09-06 00:00:00</td> <td>5250000   </td> <td>1,650,000   </td> <td>1729  </td>\n",
       "        </tr>\n",
       "        <tr>\n",
       "            <td>1 BOND STREET, 6B         </td> <td>2004-12-01 00:00:00</td> <td>2996000       </td> <td>2016-05-20 00:00:00</td> <td>4350000   </td> <td>1,354,000   </td> <td>4188  </td>\n",
       "        </tr>\n",
       "        <tr>\n",
       "            <td>1 CENTRAL PARK SOUTH, 2002</td> <td>2010-12-01 00:00:00</td> <td>4600000       </td> <td>2018-06-22 00:00:00</td> <td>4750000   </td> <td>150,000     </td> <td>2760  </td>\n",
       "        </tr>\n",
       "        <tr>\n",
       "            <td>1 CENTRAL PARK SOUTH, 503 </td> <td>2012-12-18 00:00:00</td> <td>7995000       </td> <td>2017-02-24 00:00:00</td> <td>10150000  </td> <td>2,155,000   </td> <td>1529  </td>\n",
       "        </tr>\n",
       "        <tr>\n",
       "            <td>1 CENTRAL PARK WEST, 23B  </td> <td>2008-04-03 00:00:00</td> <td>5580000       </td> <td>2012-06-28 00:00:00</td> <td>6200000   </td> <td>620,000     </td> <td>1547  </td>\n",
       "        </tr>\n",
       "    </tbody>\n",
       "</table>\n",
       "<p>... (15861 rows omitted)</p>"
      ],
      "text/plain": [
       "FULL ADDRESS               | PURCHASE DATE       | PURCHASE PRICE | SOLD DATE           | SOLD PRICE | PRICE CHANGE | PERIOD\n",
       "1 BOND STREET, 2B          | 2004-08-04 00:00:00 | 31000          | 2009-08-20 00:00:00 | 1591000    | 1,560,000    | 1842\n",
       "1 BOND STREET, 2C          | 2010-12-15 00:00:00 | 600000         | 2017-08-18 00:00:00 | 5640000    | 5,040,000    | 2438\n",
       "1 BOND STREET, 2D          | 2009-04-24 00:00:00 | 1195000        | 2014-01-07 00:00:00 | 1925000    | 730,000      | 1719\n",
       "1 BOND STREET, 3A          | 2008-06-06 00:00:00 | 5030000        | 2013-06-14 00:00:00 | 7200000    | 2,170,000    | 1834\n",
       "1 BOND STREET, 4D          | 2006-08-30 00:00:00 | 1565000        | 2013-08-20 00:00:00 | 2415000    | 850,000      | 2547\n",
       "1 BOND STREET, 6A          | 2012-12-12 00:00:00 | 3600000        | 2017-09-06 00:00:00 | 5250000    | 1,650,000    | 1729\n",
       "1 BOND STREET, 6B          | 2004-12-01 00:00:00 | 2996000        | 2016-05-20 00:00:00 | 4350000    | 1,354,000    | 4188\n",
       "1 CENTRAL PARK SOUTH, 2002 | 2010-12-01 00:00:00 | 4600000        | 2018-06-22 00:00:00 | 4750000    | 150,000      | 2760\n",
       "1 CENTRAL PARK SOUTH, 503  | 2012-12-18 00:00:00 | 7995000        | 2017-02-24 00:00:00 | 10150000   | 2,155,000    | 1529\n",
       "1 CENTRAL PARK WEST, 23B   | 2008-04-03 00:00:00 | 5580000        | 2012-06-28 00:00:00 | 6200000    | 620,000      | 1547\n",
       "... (15861 rows omitted)"
      ]
     },
     "execution_count": 29,
     "metadata": {},
     "output_type": "execute_result"
    }
   ],
   "source": [
    "# Calculate Price and date Diffs\n",
    "\n",
    "price_diffs = condo_sales.column(COL_SOLD_PRICE) - condo_sales.column(COL_PURCHASE_PRICE)\n",
    "date_diffs = condo_sales.column(COL_SOLD_DATE) - condo_sales.column(COL_PURCHASE_DATE)\n",
    "\n",
    "date_diffs = [ d.days for d in date_diffs ]\n",
    "\n",
    "\n",
    "condo_sales = condo_sales.with_column( COL_PRICE_CHANGE, price_diffs, COL_PERIOD, date_diffs)\n",
    "condo_sales.set_format(COL_PRICE_CHANGE, NumberFormatter())"
   ]
  },
  {
   "cell_type": "code",
   "execution_count": 30,
   "metadata": {},
   "outputs": [
    {
     "name": "stdout",
     "output_type": "stream",
     "text": [
      "PRICE CHANGE Stats\n",
      "Avg: 400569.3485602671 \tStd: 2550923.242919874 \tMin: -183014844 \tMax: 44312249\n",
      " 5%: -170000 \t95%: 1900000\n",
      " 1%: -1464207 \t99%: 5215563\n",
      "25%: 74707 \t50%: 250000 \t75% 562500\n"
     ]
    },
    {
     "data": {
      "image/png": "[encoded data removed]",
      "text/plain": [
       "<Figure size 432x288 with 1 Axes>"
      ]
     },
     "metadata": {},
     "output_type": "display_data"
    }
   ],
   "source": [
    "# Understand price difference data\n",
    "col_stats(condo_sales, COL_PRICE_CHANGE)\n"
   ]
  },
  {
   "cell_type": "markdown",
   "metadata": {},
   "source": [
    "There look to be some signifiant outliers here. The 99 percentile is 5 but the max is 44 MM a significant. The min value is -183MM, a 183 million dollor loss! \n",
    "\n",
    "Let's remove outliers so they dont imapact pricing analysis, but we definitely need to come back and look into what happened here. "
   ]
  },
  {
   "cell_type": "code",
   "execution_count": 31,
   "metadata": {},
   "outputs": [
    {
     "name": "stdout",
     "output_type": "stream",
     "text": [
      "PRICE CHANGE Stats\n",
      "Avg: 435745.7962581972 \tStd: 684695.3983396527 \tMin: -1464207 \tMax: 5201740\n",
      " 5%: -125093 \t95%: 1703275\n",
      " 1%: -623218 \t99%: 3500000\n",
      "25%: 77317 \t50%: 250000 \t75% 551000\n"
     ]
    },
    {
     "data": {
      "image/png": "[encoded data removed]",
      "text/plain": [
       "<Figure size 432x288 with 1 Axes>"
      ]
     },
     "metadata": {},
     "output_type": "display_data"
    }
   ],
   "source": [
    "# strip out the Price chnage outliers . \n",
    "percent_1 = percentile(1, price_diffs)\n",
    "percent_99 = percentile(99, price_diffs)\n",
    "\n",
    "largest_losses = condo_sales.where(COL_PRICE_CHANGE, are.below_or_equal_to(percent_1))\n",
    "largest_gains = condo_sales.where(COL_PRICE_CHANGE, are.above_or_equal_to(percent_99))\n",
    "\n",
    "condo_sales = condo_sales.where(COL_PRICE_CHANGE, are.between(percent_1, percent_99))\n",
    "col_stats(condo_sales, COL_PRICE_CHANGE)"
   ]
  },
  {
   "cell_type": "markdown",
   "metadata": {},
   "source": [
    "The data is starting to look like a normal distribution"
   ]
  },
  {
   "cell_type": "code",
   "execution_count": 32,
   "metadata": {},
   "outputs": [
    {
     "data": {
      "text/html": [
       "<table border=\"1\" class=\"dataframe\">\n",
       "    <thead>\n",
       "        <tr>\n",
       "            <th>FULL ADDRESS</th> <th>PURCHASE DATE</th> <th>PURCHASE PRICE</th> <th>SOLD DATE</th> <th>SOLD PRICE</th> <th>PRICE CHANGE</th> <th>PERIOD</th>\n",
       "        </tr>\n",
       "    </thead>\n",
       "    <tbody>\n",
       "        <tr>\n",
       "            <td>1 IRVING PLACE, G27B         </td> <td>2017-12-14 00:00:00</td> <td>1950000       </td> <td>2017-12-14 00:00:00</td> <td>1950000   </td> <td>0           </td> <td>0     </td>\n",
       "        </tr>\n",
       "        <tr>\n",
       "            <td>1 IRVING PLACE, G9B          </td> <td>2017-12-14 00:00:00</td> <td>1362500       </td> <td>2017-12-14 00:00:00</td> <td>1362500   </td> <td>0           </td> <td>0     </td>\n",
       "        </tr>\n",
       "        <tr>\n",
       "            <td>1 RIVER TERRACE, 4S          </td> <td>2017-12-06 00:00:00</td> <td>2790000       </td> <td>2017-12-06 00:00:00</td> <td>2790000   </td> <td>0           </td> <td>0     </td>\n",
       "        </tr>\n",
       "        <tr>\n",
       "            <td>10 LITTLE WEST STREET, 24E   </td> <td>2017-11-14 00:00:00</td> <td>2700000       </td> <td>2017-11-14 00:00:00</td> <td>2700000   </td> <td>0           </td> <td>0     </td>\n",
       "        </tr>\n",
       "        <tr>\n",
       "            <td>10 MADISON SQUARE WEST, 4F   </td> <td>2017-12-18 00:00:00</td> <td>6950000       </td> <td>2017-12-18 00:00:00</td> <td>6950000   </td> <td>0           </td> <td>0     </td>\n",
       "        </tr>\n",
       "        <tr>\n",
       "            <td>100 11TH AVENUE, 12B         </td> <td>2017-12-15 00:00:00</td> <td>4300000       </td> <td>2017-12-15 00:00:00</td> <td>4300000   </td> <td>0           </td> <td>0     </td>\n",
       "        </tr>\n",
       "        <tr>\n",
       "            <td>100 CENTRAL PARK SOUTH, 4B   </td> <td>2017-11-14 00:00:00</td> <td>2350000       </td> <td>2017-11-14 00:00:00</td> <td>2350000   </td> <td>0           </td> <td>0     </td>\n",
       "        </tr>\n",
       "        <tr>\n",
       "            <td>100 CENTRAL PARK SOUTH, 6A   </td> <td>2017-12-14 00:00:00</td> <td>2025000       </td> <td>2017-12-14 00:00:00</td> <td>2025000   </td> <td>0           </td> <td>0     </td>\n",
       "        </tr>\n",
       "        <tr>\n",
       "            <td>100 RIVERSIDE BOULEVARD, 4A  </td> <td>2017-11-22 00:00:00</td> <td>1180000       </td> <td>2017-11-22 00:00:00</td> <td>1180000   </td> <td>0           </td> <td>0     </td>\n",
       "        </tr>\n",
       "        <tr>\n",
       "            <td>100 UNITED NATIONS PLAZA, 15D</td> <td>2017-11-08 00:00:00</td> <td>925000        </td> <td>2017-11-08 00:00:00</td> <td>925000    </td> <td>0           </td> <td>0     </td>\n",
       "        </tr>\n",
       "    </tbody>\n",
       "</table>\n",
       "<p>... (586 rows omitted)</p>"
      ],
      "text/plain": [
       "FULL ADDRESS                  | PURCHASE DATE       | PURCHASE PRICE | SOLD DATE           | SOLD PRICE | PRICE CHANGE | PERIOD\n",
       "1 IRVING PLACE, G27B          | 2017-12-14 00:00:00 | 1950000        | 2017-12-14 00:00:00 | 1950000    | 0            | 0\n",
       "1 IRVING PLACE, G9B           | 2017-12-14 00:00:00 | 1362500        | 2017-12-14 00:00:00 | 1362500    | 0            | 0\n",
       "1 RIVER TERRACE, 4S           | 2017-12-06 00:00:00 | 2790000        | 2017-12-06 00:00:00 | 2790000    | 0            | 0\n",
       "10 LITTLE WEST STREET, 24E    | 2017-11-14 00:00:00 | 2700000        | 2017-11-14 00:00:00 | 2700000    | 0            | 0\n",
       "10 MADISON SQUARE WEST, 4F    | 2017-12-18 00:00:00 | 6950000        | 2017-12-18 00:00:00 | 6950000    | 0            | 0\n",
       "100 11TH AVENUE, 12B          | 2017-12-15 00:00:00 | 4300000        | 2017-12-15 00:00:00 | 4300000    | 0            | 0\n",
       "100 CENTRAL PARK SOUTH, 4B    | 2017-11-14 00:00:00 | 2350000        | 2017-11-14 00:00:00 | 2350000    | 0            | 0\n",
       "100 CENTRAL PARK SOUTH, 6A    | 2017-12-14 00:00:00 | 2025000        | 2017-12-14 00:00:00 | 2025000    | 0            | 0\n",
       "100 RIVERSIDE BOULEVARD, 4A   | 2017-11-22 00:00:00 | 1180000        | 2017-11-22 00:00:00 | 1180000    | 0            | 0\n",
       "100 UNITED NATIONS PLAZA, 15D | 2017-11-08 00:00:00 | 925000         | 2017-11-08 00:00:00 | 925000     | 0            | 0\n",
       "... (586 rows omitted)"
      ]
     },
     "execution_count": 32,
     "metadata": {},
     "output_type": "execute_result"
    }
   ],
   "source": [
    "# Some sales are on recorded twice for the same date!\n",
    "\n",
    "condo_sales.where( COL_PURCHASE_DATE, are.equal_to, COL_SOLD_DATE )\n"
   ]
  },
  {
   "cell_type": "code",
   "execution_count": 33,
   "metadata": {},
   "outputs": [
    {
     "data": {
      "text/html": [
       "<table border=\"1\" class=\"dataframe\">\n",
       "    <thead>\n",
       "        <tr>\n",
       "            <th>SALE DATE</th> <th>SALE PRICE</th> <th>ADDRESS</th> <th>APARTMENT NUMBER</th> <th>YEAR BUILT</th> <th>NEIGHBORHOOD</th> <th>ZIP CODE</th> <th>BUILDING CLASS AT TIME OF SALE</th> <th>BUILDING CLASS CATEGORY</th> <th>FULL ADDRESS</th>\n",
       "        </tr>\n",
       "    </thead>\n",
       "    <tbody>\n",
       "        <tr>\n",
       "            <td>2017-11-14 00:00:00</td> <td>2350000   </td> <td>100 CENTRAL PARK SOUTH</td> <td>4B              </td> <td>0         </td> <td>MIDTOWN WEST</td> <td>10019   </td> <td>R4                            </td> <td>13 CONDOS - ELEVATOR APARTMENTS</td> <td>100 CENTRAL PARK SOUTH, 4B</td>\n",
       "        </tr>\n",
       "        <tr>\n",
       "            <td>2017-11-14 00:00:00</td> <td>2350000   </td> <td>100 CENTRAL PARK SOUTH</td> <td>4B              </td> <td>0         </td> <td>MIDTOWN WEST</td> <td>10019   </td> <td>R4                            </td> <td>13 CONDOS - ELEVATOR APARTMENTS</td> <td>100 CENTRAL PARK SOUTH, 4B</td>\n",
       "        </tr>\n",
       "    </tbody>\n",
       "</table>"
      ],
      "text/plain": [
       "SALE DATE           | SALE PRICE | ADDRESS                | APARTMENT NUMBER | YEAR BUILT | NEIGHBORHOOD | ZIP CODE | BUILDING CLASS AT TIME OF SALE | BUILDING CLASS CATEGORY         | FULL ADDRESS\n",
       "2017-11-14 00:00:00 | 2350000    | 100 CENTRAL PARK SOUTH | 4B               | 0          | MIDTOWN WEST | 10019    | R4                             | 13 CONDOS - ELEVATOR APARTMENTS | 100 CENTRAL PARK SOUTH, 4B\n",
       "2017-11-14 00:00:00 | 2350000    | 100 CENTRAL PARK SOUTH | 4B               | 0          | MIDTOWN WEST | 10019    | R4                             | 13 CONDOS - ELEVATOR APARTMENTS | 100 CENTRAL PARK SOUTH, 4B"
      ]
     },
     "execution_count": 33,
     "metadata": {},
     "output_type": "execute_result"
    }
   ],
   "source": [
    "# Let's spot check these\n",
    "\n",
    "all_sales_data.where(COL_FULL_ADDRESS, are.equal_to('100 CENTRAL PARK SOUTH, 4B')).sort(0)\n",
    "\n",
    "# These look to be duplicate records, Let's ignore for now"
   ]
  },
  {
   "cell_type": "code",
   "execution_count": 34,
   "metadata": {},
   "outputs": [],
   "source": [
    "# Ignore multiple sales on same date\n",
    "\n",
    "condo_sales = condo_sales.where( COL_PURCHASE_DATE, are.not_equal_to, COL_SOLD_DATE )\n",
    "\n"
   ]
  },
  {
   "cell_type": "markdown",
   "metadata": {},
   "source": [
    "## Issues with time between sales\n",
    "\n",
    "Looking into the time between 2 sales for the same apartment we find some unusal data"
   ]
  },
  {
   "cell_type": "code",
   "execution_count": 35,
   "metadata": {},
   "outputs": [
    {
     "data": {
      "text/html": [
       "<table border=\"1\" class=\"dataframe\">\n",
       "    <thead>\n",
       "        <tr>\n",
       "            <th>FULL ADDRESS</th> <th>PURCHASE DATE</th> <th>PURCHASE PRICE</th> <th>SOLD DATE</th> <th>SOLD PRICE</th> <th>PRICE CHANGE</th> <th>PERIOD</th>\n",
       "        </tr>\n",
       "    </thead>\n",
       "    <tbody>\n",
       "        <tr>\n",
       "            <td>2 EAST 55TH ST, 835        </td> <td>2006-08-15 00:00:00</td> <td>554946        </td> <td>2006-08-16 00:00:00</td> <td>486720    </td> <td>-68,226     </td> <td>1     </td>\n",
       "        </tr>\n",
       "        <tr>\n",
       "            <td>212 EAST 70TH   STREET, 2D </td> <td>2017-03-23 00:00:00</td> <td>312500        </td> <td>2017-03-24 00:00:00</td> <td>725000    </td> <td>412,500     </td> <td>1     </td>\n",
       "        </tr>\n",
       "        <tr>\n",
       "            <td>95 CHARLES STREET, 5       </td> <td>2016-03-25 00:00:00</td> <td>850000        </td> <td>2016-03-26 00:00:00</td> <td>850000    </td> <td>0           </td> <td>1     </td>\n",
       "        </tr>\n",
       "        <tr>\n",
       "            <td>203-05 WEST 112 STREET, 1W </td> <td>2003-12-17 00:00:00</td> <td>967338        </td> <td>2003-12-19 00:00:00</td> <td>967338    </td> <td>0           </td> <td>2     </td>\n",
       "        </tr>\n",
       "        <tr>\n",
       "            <td>238 EAST 47 STREET, 22D    </td> <td>2004-07-14 00:00:00</td> <td>105000        </td> <td>2004-07-16 00:00:00</td> <td>1100000   </td> <td>995,000     </td> <td>2     </td>\n",
       "        </tr>\n",
       "        <tr>\n",
       "            <td>227 EAST 111 STREET, 5B    </td> <td>2005-03-28 00:00:00</td> <td>540881        </td> <td>2005-03-31 00:00:00</td> <td>995000    </td> <td>454,119     </td> <td>3     </td>\n",
       "        </tr>\n",
       "        <tr>\n",
       "            <td>879-87 8 AVENUE, 2J        </td> <td>2003-11-13 00:00:00</td> <td>620000        </td> <td>2003-11-16 00:00:00</td> <td>620000    </td> <td>0           </td> <td>3     </td>\n",
       "        </tr>\n",
       "        <tr>\n",
       "            <td>157 WEST 111 STREET, 4E    </td> <td>2007-03-09 00:00:00</td> <td>776925        </td> <td>2007-03-13 00:00:00</td> <td>834965    </td> <td>58,040      </td> <td>4     </td>\n",
       "        </tr>\n",
       "        <tr>\n",
       "            <td>500 WEST 43RD   STREET, 24F</td> <td>2014-01-03 00:00:00</td> <td>800350        </td> <td>2014-01-07 00:00:00</td> <td>800350    </td> <td>0           </td> <td>4     </td>\n",
       "        </tr>\n",
       "        <tr>\n",
       "            <td>10 EAST 14TH ST, 2         </td> <td>2007-01-04 00:00:00</td> <td>1483300       </td> <td>2007-01-09 00:00:00</td> <td>2698362   </td> <td>1,215,062   </td> <td>5     </td>\n",
       "        </tr>\n",
       "    </tbody>\n",
       "</table>\n",
       "<p>... (14948 rows omitted)</p>"
      ],
      "text/plain": [
       "FULL ADDRESS                | PURCHASE DATE       | PURCHASE PRICE | SOLD DATE           | SOLD PRICE | PRICE CHANGE | PERIOD\n",
       "2 EAST 55TH ST, 835         | 2006-08-15 00:00:00 | 554946         | 2006-08-16 00:00:00 | 486720     | -68,226      | 1\n",
       "212 EAST 70TH   STREET, 2D  | 2017-03-23 00:00:00 | 312500         | 2017-03-24 00:00:00 | 725000     | 412,500      | 1\n",
       "95 CHARLES STREET, 5        | 2016-03-25 00:00:00 | 850000         | 2016-03-26 00:00:00 | 850000     | 0            | 1\n",
       "203-05 WEST 112 STREET, 1W  | 2003-12-17 00:00:00 | 967338         | 2003-12-19 00:00:00 | 967338     | 0            | 2\n",
       "238 EAST 47 STREET, 22D     | 2004-07-14 00:00:00 | 105000         | 2004-07-16 00:00:00 | 1100000    | 995,000      | 2\n",
       "227 EAST 111 STREET, 5B     | 2005-03-28 00:00:00 | 540881         | 2005-03-31 00:00:00 | 995000     | 454,119      | 3\n",
       "879-87 8 AVENUE, 2J         | 2003-11-13 00:00:00 | 620000         | 2003-11-16 00:00:00 | 620000     | 0            | 3\n",
       "157 WEST 111 STREET, 4E     | 2007-03-09 00:00:00 | 776925         | 2007-03-13 00:00:00 | 834965     | 58,040       | 4\n",
       "500 WEST 43RD   STREET, 24F | 2014-01-03 00:00:00 | 800350         | 2014-01-07 00:00:00 | 800350     | 0            | 4\n",
       "10 EAST 14TH ST, 2          | 2007-01-04 00:00:00 | 1483300        | 2007-01-09 00:00:00 | 2698362    | 1,215,062    | 5\n",
       "... (14948 rows omitted)"
      ]
     },
     "execution_count": 35,
     "metadata": {},
     "output_type": "execute_result"
    }
   ],
   "source": [
    "condo_sales.sort(COL_PERIOD)"
   ]
  },
  {
   "cell_type": "markdown",
   "metadata": {},
   "source": [
    "Still Looks like there is some strange data where the sale dates are a few days apart, for most regular sale cycles we expect a gap of atleast 60-90 days. \n",
    "Let's ignore anything less that 3 months apart i.e. 90 days. \n"
   ]
  },
  {
   "cell_type": "code",
   "execution_count": 36,
   "metadata": {},
   "outputs": [],
   "source": [
    "condo_sales = condo_sales.where( COL_PERIOD, are.above(90) )"
   ]
  },
  {
   "cell_type": "markdown",
   "metadata": {},
   "source": [
    "## Time between sales"
   ]
  },
  {
   "cell_type": "code",
   "execution_count": 37,
   "metadata": {},
   "outputs": [
    {
     "name": "stdout",
     "output_type": "stream",
     "text": [
      "PERIOD Stats\n",
      "Avg: 2064.855544252289 \tStd: 1214.606011565302 \tMin: 91 \tMax: 5688\n",
      " 5%: 316 \t95%: 4237\n",
      " 1%: 136 \t99%: 5009\n",
      "25%: 1069 \t50%: 1932 \t75% 2913\n"
     ]
    },
    {
     "data": {
      "image/png": "[encoded data removed]",
      "text/plain": [
       "<Figure size 432x288 with 1 Axes>"
      ]
     },
     "metadata": {},
     "output_type": "display_data"
    }
   ],
   "source": [
    "col_stats(condo_sales, COL_PERIOD)"
   ]
  },
  {
   "cell_type": "markdown",
   "metadata": {},
   "source": [
    "## Average Daily Price Change\n",
    "\n",
    "Let's calulate the average daily price change to spot any other odd data. "
   ]
  },
  {
   "cell_type": "code",
   "execution_count": 38,
   "metadata": {},
   "outputs": [
    {
     "data": {
      "text/html": [
       "<table border=\"1\" class=\"dataframe\">\n",
       "    <thead>\n",
       "        <tr>\n",
       "            <th>FULL ADDRESS</th> <th>PURCHASE DATE</th> <th>PURCHASE PRICE</th> <th>SOLD DATE</th> <th>SOLD PRICE</th> <th>PRICE CHANGE</th> <th>PERIOD</th> <th>DAILY PRICE CHANGE</th>\n",
       "        </tr>\n",
       "    </thead>\n",
       "    <tbody>\n",
       "        <tr>\n",
       "            <td>15 CENTRAL PARK WEST, 36B  </td> <td>2008-04-28 00:00:00</td> <td>7473955       </td> <td>2008-09-03 00:00:00</td> <td>12400000  </td> <td>4,926,045   </td> <td>128   </td> <td>38484.7           </td>\n",
       "        </tr>\n",
       "        <tr>\n",
       "            <td>15 CENTRAL PARK WEST, 31B  </td> <td>2008-04-16 00:00:00</td> <td>6598260       </td> <td>2008-10-03 00:00:00</td> <td>11800000  </td> <td>5,201,740   </td> <td>170   </td> <td>30598.5           </td>\n",
       "        </tr>\n",
       "        <tr>\n",
       "            <td>56 LEONARD STREET, PH55    </td> <td>2017-03-02 00:00:00</td> <td>21814384      </td> <td>2017-08-04 00:00:00</td> <td>26500000  </td> <td>4,685,616   </td> <td>155   </td> <td>30229.8           </td>\n",
       "        </tr>\n",
       "        <tr>\n",
       "            <td>151 EAST 58 STREET, PH55E  </td> <td>2005-08-16 00:00:00</td> <td>9622462       </td> <td>2005-12-15 00:00:00</td> <td>13000000  </td> <td>3,377,538   </td> <td>121   </td> <td>27913.5           </td>\n",
       "        </tr>\n",
       "        <tr>\n",
       "            <td>157 WEST 57TH   STREET, 58A</td> <td>2014-05-01 00:00:00</td> <td>30551000      </td> <td>2014-10-02 00:00:00</td> <td>34000000  </td> <td>3,449,000   </td> <td>154   </td> <td>22396.1           </td>\n",
       "        </tr>\n",
       "        <tr>\n",
       "            <td>201 EAST 80TH STREET, 9A   </td> <td>2016-08-19 00:00:00</td> <td>657401        </td> <td>2016-12-07 00:00:00</td> <td>2995000   </td> <td>2,337,599   </td> <td>110   </td> <td>21250.9           </td>\n",
       "        </tr>\n",
       "        <tr>\n",
       "            <td>19 BEACH STREET, 6         </td> <td>2018-02-28 00:00:00</td> <td>2410796       </td> <td>2018-07-31 00:00:00</td> <td>5500000   </td> <td>3,089,204   </td> <td>153   </td> <td>20190.9           </td>\n",
       "        </tr>\n",
       "        <tr>\n",
       "            <td>250 WEST STREET, 7A        </td> <td>2013-03-18 00:00:00</td> <td>6379336       </td> <td>2013-06-24 00:00:00</td> <td>8200000   </td> <td>1,820,664   </td> <td>98    </td> <td>18578.2           </td>\n",
       "        </tr>\n",
       "        <tr>\n",
       "            <td>212 WEST 18TH   STREET, 18C</td> <td>2014-12-23 00:00:00</td> <td>5718750       </td> <td>2015-09-10 00:00:00</td> <td>10414000  </td> <td>4,695,250   </td> <td>261   </td> <td>17989.5           </td>\n",
       "        </tr>\n",
       "        <tr>\n",
       "            <td>554 BROOME ST, R6          </td> <td>2006-03-30 00:00:00</td> <td>380250        </td> <td>2006-08-16 00:00:00</td> <td>2850000   </td> <td>2,469,750   </td> <td>139   </td> <td>17768             </td>\n",
       "        </tr>\n",
       "    </tbody>\n",
       "</table>\n",
       "<p>... (14735 rows omitted)</p>"
      ],
      "text/plain": [
       "FULL ADDRESS                | PURCHASE DATE       | PURCHASE PRICE | SOLD DATE           | SOLD PRICE | PRICE CHANGE | PERIOD | DAILY PRICE CHANGE\n",
       "15 CENTRAL PARK WEST, 36B   | 2008-04-28 00:00:00 | 7473955        | 2008-09-03 00:00:00 | 12400000   | 4,926,045    | 128    | 38484.7\n",
       "15 CENTRAL PARK WEST, 31B   | 2008-04-16 00:00:00 | 6598260        | 2008-10-03 00:00:00 | 11800000   | 5,201,740    | 170    | 30598.5\n",
       "56 LEONARD STREET, PH55     | 2017-03-02 00:00:00 | 21814384       | 2017-08-04 00:00:00 | 26500000   | 4,685,616    | 155    | 30229.8\n",
       "151 EAST 58 STREET, PH55E   | 2005-08-16 00:00:00 | 9622462        | 2005-12-15 00:00:00 | 13000000   | 3,377,538    | 121    | 27913.5\n",
       "157 WEST 57TH   STREET, 58A | 2014-05-01 00:00:00 | 30551000       | 2014-10-02 00:00:00 | 34000000   | 3,449,000    | 154    | 22396.1\n",
       "201 EAST 80TH STREET, 9A    | 2016-08-19 00:00:00 | 657401         | 2016-12-07 00:00:00 | 2995000    | 2,337,599    | 110    | 21250.9\n",
       "19 BEACH STREET, 6          | 2018-02-28 00:00:00 | 2410796        | 2018-07-31 00:00:00 | 5500000    | 3,089,204    | 153    | 20190.9\n",
       "250 WEST STREET, 7A         | 2013-03-18 00:00:00 | 6379336        | 2013-06-24 00:00:00 | 8200000    | 1,820,664    | 98     | 18578.2\n",
       "212 WEST 18TH   STREET, 18C | 2014-12-23 00:00:00 | 5718750        | 2015-09-10 00:00:00 | 10414000   | 4,695,250    | 261    | 17989.5\n",
       "554 BROOME ST, R6           | 2006-03-30 00:00:00 | 380250         | 2006-08-16 00:00:00 | 2850000    | 2,469,750    | 139    | 17768\n",
       "... (14735 rows omitted)"
      ]
     },
     "execution_count": 38,
     "metadata": {},
     "output_type": "execute_result"
    }
   ],
   "source": [
    "daily_change = condo_sales.column(COL_PRICE_CHANGE) / condo_sales.column(COL_PERIOD) \n",
    "\n",
    "condo_sales = condo_sales.with_column(COL_DAILY_PRICE_CHANGE , daily_change ).sort(COL_DAILY_PRICE_CHANGE, descending=True)\n",
    "condo_sales"
   ]
  },
  {
   "cell_type": "code",
   "execution_count": 39,
   "metadata": {},
   "outputs": [
    {
     "name": "stdout",
     "output_type": "stream",
     "text": [
      "DAILY PRICE CHANGE Stats\n",
      "Avg: 344.37861934900474 \tStd: 1031.391086411469 \tMin: -13128.990566037735 \tMax: 38484.7265625\n",
      " 5%: -94.75471698113208 \t95%: 1309.1231178033659\n",
      " 1%: -576.700557103064 \t99%: 3534.2162162162163\n",
      "25%: 50.3800217155266 \t50%: 147.63779527559055 \t75% 359.71223021582733\n"
     ]
    },
    {
     "data": {
      "image/png": "[encoded data removed]",
      "text/plain": [
       "<Figure size 432x288 with 1 Axes>"
      ]
     },
     "metadata": {},
     "output_type": "display_data"
    },
    {
     "data": {
      "image/png": "[encoded data removed]",
      "text/plain": [
       "<Figure size 432x288 with 1 Axes>"
      ]
     },
     "metadata": {},
     "output_type": "display_data"
    }
   ],
   "source": [
    "col_stats(condo_sales, COL_DAILY_PRICE_CHANGE)\n",
    "draw_hist(condo_sales, COL_DAILY_PRICE_CHANGE, 1)\n",
    "\n",
    "## There are some significant outliers"
   ]
  },
  {
   "cell_type": "markdown",
   "metadata": {},
   "source": [
    "There could be a variety of reasons for the outliers. Perhaps they underpriced for when purchased and then corrected when sold later. Again I'd be intresting to investigate further, but for the purposes of this analysis let's ignore the outliers for now. "
   ]
  },
  {
   "cell_type": "code",
   "execution_count": 40,
   "metadata": {},
   "outputs": [],
   "source": [
    "# strip out the Dailys Price change outliers. \n",
    "price_change_diffs = condo_sales.column(COL_DAILY_PRICE_CHANGE)\n",
    "\n",
    "percent_1 = percentile(1, price_change_diffs)\n",
    "percent_99 = percentile(99, price_change_diffs)\n",
    "\n",
    "condo_sales = condo_sales.where(COL_DAILY_PRICE_CHANGE, are.between(percent_1, percent_99))\n"
   ]
  },
  {
   "cell_type": "markdown",
   "metadata": {},
   "source": [
    "# Step 3: NYC Sale data analysis"
   ]
  },
  {
   "cell_type": "markdown",
   "metadata": {},
   "source": [
    "# Understanding the data\n",
    "\n",
    "Let's try to get an overview of the data by looking at the movement of the average sale price per year."
   ]
  },
  {
   "cell_type": "code",
   "execution_count": 41,
   "metadata": {},
   "outputs": [
    {
     "data": {
      "image/png": "[encoded data removed]",
      "text/plain": [
       "<Figure size 432x288 with 1 Axes>"
      ]
     },
     "metadata": {},
     "output_type": "display_data"
    }
   ],
   "source": [
    "years = [ d.year for d in condos.column(COL_SALE_DATE) ]\n",
    "\n",
    "months = [ d.month for d in condos.column(COL_SALE_DATE) ]\n",
    "\n",
    "condos = condos.with_column('SALE_YEAR', years, 'SALE_MONTH', months)\n",
    "\n",
    "condo_mean = condos.select(COL_SALE_YEAR, COL_SALE_PRICE).group(COL_SALE_YEAR, np.mean).sort(0)\n",
    "condo_mean.plot(COL_SALE_YEAR)\n",
    "\n"
   ]
  },
  {
   "cell_type": "markdown",
   "metadata": {},
   "source": [
    "## Sales by neighbourhood \n",
    "\n",
    "Also helpful to usederstand how prices have changed in different neighborhoods. "
   ]
  },
  {
   "cell_type": "code",
   "execution_count": 42,
   "metadata": {},
   "outputs": [
    {
     "data": {
      "application/vnd.jupyter.widget-view+json": {
       "model_id": "e4a0cf9d13a940f48e06f78d0fbd8d3a",
       "version_major": 2,
       "version_minor": 0
      },
      "text/plain": [
       "interactive(children=(Dropdown(description='neighborhood', options=('ALPHABET CITY', 'CHELSEA', 'CHINATOWN', '…"
      ]
     },
     "metadata": {},
     "output_type": "display_data"
    }
   ],
   "source": [
    "neighborhoods = condos.group('NEIGHBORHOOD').sort(0).column(0)\n",
    "\n",
    "\n",
    "def plot_neighborhood(neighborhood:str):\n",
    "    '''Plot the average sale for a specified neign'''\n",
    "    condos.where('NEIGHBORHOOD', are.equal_to(neighborhood)).select(COL_SALE_YEAR, COL_SALE_PRICE).group(0, np.mean).plot(0, label=neighborhood)\n",
    "    plots.title = neighborhood\n",
    "    plots.plot(condo_mean.column(0), condo_mean.column(1), color='gold', label='' )\n",
    "    return\n",
    "\n",
    "ignnore = interact(plot_neighborhood, neighborhood=neighborhoods)\n"
   ]
  },
  {
   "cell_type": "markdown",
   "metadata": {},
   "source": [
    "## Sampling\n",
    "\n",
    "Let's take a deeper dive at apartment sales in 2010 as a sample. Note: we could have selected any range. This is just a random selection to reduce the noise in the data\n",
    "\n"
   ]
  },
  {
   "cell_type": "code",
   "execution_count": 43,
   "metadata": {},
   "outputs": [
    {
     "ename": "AttributeError",
     "evalue": "type object 'datetime.datetime' has no attribute 'datetime'",
     "output_type": "error",
     "traceback": [
      "\u001b[0;31m---------------------------------------------------------------------------\u001b[0m",
      "\u001b[0;31mAttributeError\u001b[0m                            Traceback (most recent call last)",
      "\u001b[0;32m<ipython-input-43-9efc3cc754e8>\u001b[0m in \u001b[0;36m<module>\u001b[0;34m\u001b[0m\n\u001b[0;32m----> 1\u001b[0;31m \u001b[0msales_2010\u001b[0m \u001b[0;34m=\u001b[0m \u001b[0mcondo_sales\u001b[0m\u001b[0;34m.\u001b[0m\u001b[0mwhere\u001b[0m\u001b[0;34m(\u001b[0m\u001b[0mCOL_PURCHASE_DATE\u001b[0m\u001b[0;34m,\u001b[0m \u001b[0mare\u001b[0m\u001b[0;34m.\u001b[0m\u001b[0mbetween\u001b[0m\u001b[0;34m(\u001b[0m \u001b[0mdatetime\u001b[0m\u001b[0;34m.\u001b[0m\u001b[0mdatetime\u001b[0m\u001b[0;34m(\u001b[0m\u001b[0;36m2010\u001b[0m\u001b[0;34m,\u001b[0m \u001b[0;36m1\u001b[0m\u001b[0;34m,\u001b[0m \u001b[0;36m1\u001b[0m\u001b[0;34m)\u001b[0m\u001b[0;34m,\u001b[0m \u001b[0mdatetime\u001b[0m\u001b[0;34m.\u001b[0m\u001b[0mdatetime\u001b[0m\u001b[0;34m(\u001b[0m\u001b[0;36m2010\u001b[0m\u001b[0;34m,\u001b[0m \u001b[0;36m12\u001b[0m\u001b[0;34m,\u001b[0m \u001b[0;36m31\u001b[0m\u001b[0;34m)\u001b[0m\u001b[0;34m)\u001b[0m\u001b[0;34m)\u001b[0m\u001b[0;34m\u001b[0m\u001b[0m\n\u001b[0m\u001b[1;32m      2\u001b[0m \u001b[0;34m\u001b[0m\u001b[0m\n\u001b[1;32m      3\u001b[0m Table().with_columns(\n\u001b[1;32m      4\u001b[0m     \u001b[0;34m'PERIOD'\u001b[0m\u001b[0;34m,\u001b[0m  \u001b[0msales_2010\u001b[0m\u001b[0;34m.\u001b[0m\u001b[0mcolumn\u001b[0m\u001b[0;34m(\u001b[0m\u001b[0mCOL_PERIOD\u001b[0m\u001b[0;34m)\u001b[0m\u001b[0;34m,\u001b[0m\u001b[0;34m\u001b[0m\u001b[0m\n\u001b[1;32m      5\u001b[0m     \u001b[0;34m'PRICE CHANGE'\u001b[0m\u001b[0;34m,\u001b[0m \u001b[0msales_2010\u001b[0m\u001b[0;34m.\u001b[0m\u001b[0mcolumn\u001b[0m\u001b[0;34m(\u001b[0m\u001b[0mCOL_PRICE_CHANGE\u001b[0m\u001b[0;34m)\u001b[0m\u001b[0;34m\u001b[0m\u001b[0m\n",
      "\u001b[0;31mAttributeError\u001b[0m: type object 'datetime.datetime' has no attribute 'datetime'"
     ]
    }
   ],
   "source": [
    "sales_2010 = condo_sales.where(COL_PURCHASE_DATE, are.between( datetime.datetime(2010, 1, 1), datetime.datetime(2010, 12, 31)))\n",
    "\n",
    "Table().with_columns(\n",
    "    'PERIOD',  sales_2010.column(COL_PERIOD), \n",
    "    'PRICE CHANGE', sales_2010.column(COL_PRICE_CHANGE)\n",
    ").scatter(0, 1, fit_line=True)\n",
    "\n",
    "print('Correlation betweeen Price Change and Time: ', correlation(sales_2010, COL_PERIOD, COL_PRICE_CHANGE))"
   ]
  },
  {
   "cell_type": "markdown",
   "metadata": {},
   "source": [
    "That's a low correlation, I was expectating a closer relationship that is roghly keeping tracking with avg overall sale price we plotted earlier.\n",
    "\n",
    "\n",
    "Ok, let's look at the correlation between the first and last sale price. "
   ]
  },
  {
   "cell_type": "code",
   "execution_count": null,
   "metadata": {},
   "outputs": [],
   "source": [
    "Table().with_columns(\n",
    "    'PURCHASED PRICE',  sales_2010.column(COL_PURCHASE_PRICE), \n",
    "    'SOLD PRICE', sales_2010.column(COL_SOLD_PRICE)\n",
    ").scatter(0, fit_line=True)\n",
    "\n",
    "correlation(sales_2010, COL_PURCHASE_PRICE, COL_SOLD_PRICE)\n",
    "\n"
   ]
  },
  {
   "cell_type": "markdown",
   "metadata": {},
   "source": [
    "Wow that's a really high correlation. According to this we could predict the last sale price of a property, just based on it's first sale price. i.e. independent of the time between sales! \n",
    "\n",
    "Somehting doesn't seem right, we know that the market moves over time. Let's dig in a little deeper and plot the residuals"
   ]
  },
  {
   "cell_type": "code",
   "execution_count": null,
   "metadata": {},
   "outputs": [],
   "source": [
    "a = slope(condo_sales, COL_PURCHASE_PRICE, COL_SOLD_PRICE)\n",
    "b = intercept(condo_sales, COL_PURCHASE_PRICE, COL_SOLD_PRICE)\n",
    "\n",
    "first_prices = condo_sales.column(COL_PURCHASE_PRICE)\n",
    "\n",
    "predicted = first_prices * a + b\n",
    "\n",
    "errors = condo_sales.column(COL_SOLD_PRICE) - predicted\n",
    "\n",
    "\n",
    "Table().with_columns(\n",
    "    'PURCHASE PRICE',  condo_sales.column(COL_PURCHASE_PRICE), \n",
    "    'ERRORS', errors\n",
    ").scatter(0, fit_line=True)\n",
    "\n"
   ]
  },
  {
   "cell_type": "markdown",
   "metadata": {},
   "source": [
    "The residuals are not evenly spread put, also some large outliers are skewing the results so a liner regression model isn't the right approach here.\n",
    "\n",
    "Let's take a deeper look into a particular price bands to see what could be going on. "
   ]
  },
  {
   "cell_type": "code",
   "execution_count": null,
   "metadata": {},
   "outputs": [],
   "source": [
    "price_band = condo_sales.where(COL_PURCHASE_PRICE, are.between(750000, 1000000))\n",
    "\n",
    "price_band.scatter(COL_PURCHASE_PRICE, COL_SOLD_PRICE, fit_line=True)\n",
    "correlation(price_band, COL_PURCHASE_PRICE, COL_SOLD_PRICE)"
   ]
  },
  {
   "cell_type": "markdown",
   "metadata": {},
   "source": [
    "Now the correlation is much lower, The data is more spread out. Also a average seems to skew a little higher do the outliers a visible in the chart.\n",
    "\n",
    "## Removing Outliers\n",
    "\n",
    "Let's look at the purchase price outliers"
   ]
  },
  {
   "cell_type": "code",
   "execution_count": null,
   "metadata": {},
   "outputs": [],
   "source": [
    "col_stats(condo_sales, COL_PURCHASE_PRICE)"
   ]
  },
  {
   "cell_type": "markdown",
   "metadata": {},
   "source": [
    "Let's remove the ouliers so we can get a better picture of the data. "
   ]
  },
  {
   "cell_type": "code",
   "execution_count": null,
   "metadata": {},
   "outputs": [],
   "source": [
    "purchase_prices = condo_sales.column(COL_PURCHASE_PRICE)\n",
    "\n",
    "percent_1 = percentile(1, purchase_prices)\n",
    "percent_99 = percentile(99, purchase_prices)\n",
    "\n",
    "condo_sales = condo_sales.where(COL_PURCHASE_PRICE, are.between(percent_1, percent_99))\n",
    "col_stats(condo_sales, COL_PURCHASE_PRICE)"
   ]
  },
  {
   "cell_type": "markdown",
   "metadata": {},
   "source": [
    "much better!"
   ]
  },
  {
   "cell_type": "markdown",
   "metadata": {},
   "source": [
    "# Price change % \n",
    "\n",
    "Now let's calculate the price change as a % of the purchase price."
   ]
  },
  {
   "cell_type": "code",
   "execution_count": null,
   "metadata": {},
   "outputs": [],
   "source": [
    "percents = sales_2010.column(COL_PRICE_CHANGE) / sales_2010.column(COL_PURCHASE_PRICE) * 100\n",
    "\n",
    "COL_PRICE_PERCENT = 'PRICE CHANGE %'\n",
    "\n",
    "sales_2010 = sales_2010.with_column(COL_PRICE_PERCENT, percents)\n",
    "\n"
   ]
  },
  {
   "cell_type": "markdown",
   "metadata": {},
   "source": [
    "## Sanitize price change % \n",
    "\n",
    "Looking into how  the price change % data is distributed. Again we need to clean out the outliers."
   ]
  },
  {
   "cell_type": "code",
   "execution_count": null,
   "metadata": {},
   "outputs": [],
   "source": [
    "\n",
    "col_stats(sales_2010, COL_PRICE_PERCENT)\n",
    "draw_hist(sales_2010, COL_PRICE_PERCENT, 2)"
   ]
  },
  {
   "cell_type": "code",
   "execution_count": null,
   "metadata": {},
   "outputs": [],
   "source": [
    "# strip out the Price Percent change outliers. \n",
    "\n",
    "price_changes = sales_2010.column(COL_PRICE_PERCENT)\n",
    "\n",
    "percent_2 = percentile(2, price_changes)\n",
    "percent_98 = percentile(98, price_changes)\n",
    "\n",
    "sales_2010 = sales_2010.where(COL_PRICE_PERCENT, are.between(percent_2, percent_98))\n",
    "\n"
   ]
  },
  {
   "cell_type": "code",
   "execution_count": null,
   "metadata": {},
   "outputs": [],
   "source": [
    "sales_2010.scatter(COL_PERIOD, COL_PRICE_PERCENT, fit_line=True)\n",
    "correlation(sales_2010, COL_PERIOD, COL_PRICE_PERCENT)"
   ]
  },
  {
   "cell_type": "markdown",
   "metadata": {},
   "source": [
    "Ok there there looks to be an upward trend here and prices changes increase over time. That said the correlation isn't linear. Smoothing the data into monthly (30) intervals look like the following"
   ]
  },
  {
   "cell_type": "code",
   "execution_count": null,
   "metadata": {},
   "outputs": [],
   "source": [
    "\n",
    "periods = sales_2010.column(COL_PERIOD)\n",
    "\n",
    "min_period = min(periods)\n",
    "max_period = max(periods)\n",
    "\n",
    "\n",
    "period_groups = []\n",
    "period_sales = []\n",
    "\n",
    "for i in np.arange(min_period, max_period, 30 ):\n",
    "    period_groups.append(i)\n",
    "    period_sales.append(np.mean(sales_2010.where(COL_PERIOD, are.between(i, i+30)).column(COL_PRICE_PERCENT)))\n",
    "    \n",
    "\n",
    "Table().with_columns(\n",
    "    COL_PERIOD,  period_groups, \n",
    "    COL_PRICE_PERCENT, period_sales\n",
    ").scatter(0)"
   ]
  },
  {
   "cell_type": "markdown",
   "metadata": {},
   "source": [
    "Defintitely shows a trend! \n",
    "\n",
    "Let's take a look at other years"
   ]
  },
  {
   "cell_type": "code",
   "execution_count": null,
   "metadata": {},
   "outputs": [],
   "source": [
    "# Trim the outliers. \n",
    "percents = condo_sales.column(COL_PRICE_CHANGE) / condo_sales.column(COL_PURCHASE_PRICE) * 100\n",
    "\n",
    "condo_sales = condo_sales.with_column(COL_PRICE_PERCENT, percents)\n",
    "\n",
    "percent_1 = percentile(1, percents)\n",
    "percent_99 = percentile(99, percents)\n",
    "\n",
    "condo_sales = condo_sales.where(COL_PRICE_PERCENT, are.between(percent_1, percent_99))\n",
    "\n",
    "def plot_price_change_year(year):\n",
    "    ''' Plot the price change % for a given year'''\n",
    "    valid_sales = condo_sales.where(COL_PURCHASE_DATE, are.between_or_equal_to( datetime.datetime(year, 1, 1), datetime.datetime(year+1, 1, 1)))\n",
    "\n",
    "    min_period = min(periods)\n",
    "    max_period = max(periods)\n",
    "\n",
    "\n",
    "    period_groups = []\n",
    "    period_sales = []\n",
    "\n",
    "    for i in np.arange(min_period, max_period, 30 ):\n",
    "        period_groups.append(i)\n",
    "        period_sales.append(np.mean(valid_sales.where(COL_PERIOD, are.between(i, i+30)).column(COL_PRICE_PERCENT)))\n",
    "\n",
    "    Table().with_columns(\n",
    "        COL_PERIOD,  period_groups, \n",
    "        COL_PRICE_PERCENT, period_sales\n",
    "    ).scatter(0)\n",
    "\n",
    "interact(plot_price_change_year, year=np.arange(2003,2019) )\n",
    "\n"
   ]
  },
  {
   "cell_type": "markdown",
   "metadata": {},
   "source": [
    "We can now say there is a a correlation between the price change and time reflective of the overall movement in the market over time. \n",
    "\n",
    "Let's create some prediction models. \n",
    "\n",
    "# Step 4: Predicting NYC property prices"
   ]
  },
  {
   "cell_type": "markdown",
   "metadata": {},
   "source": [
    "## Prediction model: nearest neighbor\n",
    "\n",
    "Our prediction model should use both the purchase price and date for prediction. Let's create it now.\n",
    "\n",
    "We will first convert purchase date, price and sold dates into standard units so they can be used to compute distance. \n",
    "\n",
    "There we will create the training and testing set."
   ]
  },
  {
   "cell_type": "code",
   "execution_count": null,
   "metadata": {},
   "outputs": [],
   "source": [
    "# Convert to standard units\n",
    "purchase_dates_timestamps = [ date.timestamp() for date in condo_sales.column(COL_PURCHASE_DATE)]\n",
    "purchase_dates_su = standard_units(purchase_dates_timestamps)\n",
    "\n",
    "sold_dates_timestamps = [ date.timestamp() for date in condo_sales.column(COL_SOLD_DATE)]\n",
    "sold_dates_su = standard_units(sold_dates_timestamps)\n",
    "\n",
    "purchase_price_su = standard_units(condo_sales.column(COL_PURCHASE_PRICE))\n",
    "\n",
    "condo_sales_su = condo_sales.with_column(\n",
    "    COL_PURCHASE_DATE_SU, purchase_dates_su, \n",
    "    COL_PURCHASE_PRICE_SU, purchase_price_su, \n",
    "    COL_SOLD_DATE_SU, sold_dates_su,\n",
    ")\n",
    "\n",
    "# Create the training and testing sets.\n",
    "training_sales, test_sales = condo_sales_su.split(int(condo_sales.num_rows * 0.6))\n",
    "training_sales\n"
   ]
  },
  {
   "cell_type": "code",
   "execution_count": null,
   "metadata": {},
   "outputs": [],
   "source": [
    "# Columns used to the calculate the distance between two point i.e. 2 properties that were purchased and sold. \n",
    "# We picked the purchase date & price and the sold date converted to standard units as the important columns\n",
    "# to use for calculating the distance.\n",
    "distance_columns = [COL_PURCHASE_DATE_SU, COL_PURCHASE_PRICE_SU, COL_SOLD_DATE_SU]\n",
    "\n",
    "\n",
    "\n",
    "def all_distances(training, new_point):\n",
    "    \"\"\"Returns an array of distances\n",
    "    between each point in the training set\n",
    "    and the new point (which is a row of attributes)\"\"\"\n",
    "    attributes = training.select(distance_columns)\n",
    "    return distance.cdist( attributes.to_array().tolist(), [new_point]).flatten()\n",
    "\n",
    "def table_with_distances(training, new_point):\n",
    "    \"\"\"Augments the training table \n",
    "    with a column of distances from new_point\"\"\"\n",
    "    return training.with_column('Distance', all_distances(training, new_point))\n",
    "\n",
    "def closest(training, new_point, k):\n",
    "    \"\"\"Returns a table of the k rows of the augmented table\n",
    "    corresponding to the k smallest distances\"\"\"\n",
    "    with_dists = table_with_distances(training, new_point)\n",
    "    sorted_by_distance = with_dists.sort('Distance')\n",
    "    topk = sorted_by_distance.take(np.arange(k))\n",
    "    return topk\n",
    "\n",
    "def estimate(training, purchase_point, k):\n",
    "    \"\"\"Estimate a price based on nearest neighbours\"\"\"\n",
    "    close_points = closest(training_sales, purchase_point, k)\n",
    "    avg_price_change = np.mean(close_points.column(COL_PRICE_PERCENT))\n",
    "    return avg_price_change\n",
    "\n",
    "def evaluate_accuracy(training, test, k):\n",
    "    \"\"\"Evalute the accuracy of the model generating using training data on test data\"\"\"\n",
    "    # select the columns to compare\n",
    "    test_attributes = test.select(distance_columns)\n",
    "\n",
    "    # compute the predicted change for each test row\n",
    "    def price_testrow(row):\n",
    "        return estimate(training, row, k)\n",
    "\n",
    "    # Calculate the predicted price and error\n",
    "    c = test_attributes.apply(price_testrow)\n",
    "    \n",
    "    estimated = test[COL_PURCHASE_PRICE] * (100 + c )/100\n",
    "    error = (test[COL_SOLD_PRICE] - estimated  ) / test[COL_SOLD_PRICE] * 100\n",
    "    \n",
    "    return test.with_column(\"Estimated\", estimated, 'Error %', error)"
   ]
  },
  {
   "cell_type": "code",
   "execution_count": null,
   "metadata": {},
   "outputs": [],
   "source": [
    "\n",
    "sample_sales =  test_sales\n",
    "estimates = evaluate_accuracy(training_sales, sample_sales, 10)\n"
   ]
  },
  {
   "cell_type": "code",
   "execution_count": null,
   "metadata": {},
   "outputs": [],
   "source": [
    "estimates.scatter(COL_SOLD_PRICE, 'Error %')\n",
    "\n",
    "col_stats(estimates, \"Error %\")"
   ]
  },
  {
   "cell_type": "code",
   "execution_count": null,
   "metadata": {},
   "outputs": [],
   "source": [
    "def predict_sale_price(purchase_price, purchase_date: datetime.date):\n",
    "    \"\"\"Predict the current value based on the purchase price and purchase date.\"\"\"\n",
    "    \n",
    "    purchase_date_timestamp = time.mktime(purchase_date.timetuple())\n",
    "\n",
    "    # Set sold date to now\n",
    "    sold_date = datetime.datetime.now().timestamp()\n",
    "\n",
    "    # calcuate all values in standard units.\n",
    "    purchase_date_su = (purchase_date_timestamp - np.mean(purchase_dates_timestamps)) / np.std(purchase_dates_timestamps)\n",
    "    purchase_price_su = (purchase_price - np.mean(condo_sales.column(COL_PURCHASE_PRICE))) / np.std(condo_sales.column(COL_PURCHASE_PRICE))\n",
    "    sold_date_su = (sold_date - np.mean(sold_dates_timestamps)) / np.std(sold_dates_timestamps)\n",
    "\n",
    "    # debugging\n",
    "    # print(purchase_date_su, purchase_price_su, sold_date_su)\n",
    "\n",
    "    # create a target row to get estimates\n",
    "    target_row = Table(distance_columns)\n",
    "    target_row = target_row.with_row([purchase_date_su,purchase_price_su,sold_date_su ])\n",
    "    \n",
    "    price_change_percent = estimate(training_sales, target_row.row(0), 10)\n",
    "    \n",
    "    price = purchase_price * (1 + price_change_percent / 100)\n",
    "    \n",
    "    display(HTML(\"<H1>Current Price: ${:,.0f} </H1>\".format(price)))\n",
    "#     display(HTML(\"<H2>Estimated Price Change: {:.2f}% </H2>\".format(price_change_percent)))\n",
    "    \n",
    "    display(HTML(\"<H1>Compareable sales</H1>\"))\n",
    "    closest(training_sales, target_row.row(0), 10).drop(distance_columns).show()\n",
    "    \n",
    "style = {'description_width': 'initial'}\n",
    "\n",
    "purchase_price_slider = widgets.IntSlider(\n",
    "    description=\"Purchase Price\",\n",
    "    value=750000,\n",
    "    min=100000,\n",
    "    max=6000000,\n",
    "    step=10000,\n",
    "    disabled=False,\n",
    "    continuous_update=False,\n",
    "    style=style\n",
    "    \n",
    ")\n",
    "\n",
    "purchase_date_picker = widgets.DatePicker(\n",
    "    description='Purchase Date',\n",
    "    disabled=False,\n",
    "    style=style,\n",
    "    value=datetime.date(2010, 1, 1)\n",
    ")"
   ]
  },
  {
   "cell_type": "markdown",
   "metadata": {},
   "source": [
    "# Price Predictor\n",
    "\n",
    "Enter the **purchase price and date** of an apartment to see it's current price and comparable sales"
   ]
  },
  {
   "cell_type": "code",
   "execution_count": null,
   "metadata": {},
   "outputs": [],
   "source": [
    "style = {'description_width': 'initial'}\n",
    "IntSlider(description='A too long description', style=style)\n",
    "\n",
    "_ = interact( predict_sale_price, purchase_price=purchase_price_slider, purchase_date=purchase_date_picker, )"
   ]
  },
  {
   "cell_type": "markdown",
   "metadata": {},
   "source": [
    "# Furhter Explorations\n",
    "\n",
    "It would be interesting furhter explore this data by:\n",
    "\n",
    "1. Applying different weights to the distanace calculations. e.g. The purchase price should be more important than the other attributes. \n",
    "2. Including location when calculating the distance between two properties. \n",
    "3. Including co-ops.\n",
    "\n",
    "If you have suggestions or thoughts, I would appreciate if you share them using the questions section below. \n",
    "\n",
    "Thank you for reading!"
   ]
  }
 ],
 "metadata": {
  "kernelspec": {
   "display_name": "Python 3",
   "language": "python",
   "name": "python3"
  },
  "language_info": {
   "codemirror_mode": {
    "name": "ipython",
    "version": 3
   },
   "file_extension": ".py",
   "mimetype": "text/x-python",
   "name": "python",
   "nbconvert_exporter": "python",
   "pygments_lexer": "ipython3",
   "version": "3.7.0"
  }
 },
 "nbformat": 4,
 "nbformat_minor": 1
}
