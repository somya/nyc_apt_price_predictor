{
 "cells": [
  {
   "cell_type": "markdown",
   "metadata": {},
   "source": [
    "# Predicting NYC apartment's value with open data\n",
    "\n",
    "**tldr;** Boldly predict a NYC apartments market value using only public / open data. Check out the [Price Predictor](#Price-Predictor).\n",
    "\n",
    "\n",
    "Any good brokers in NYC will use a variety of factors to determine the value of your apartment, including:\n",
    "\n",
    "1. Recent sales in your building / Neighbourhood\n",
    "2. Square footage\n",
    "3. Renovation status\n",
    "4. View, closeness to subway, # of bedrooms etc. \n",
    "\n",
    "Unfortunately this data, is not easily available for the purposes of analysis. Note: it's available on Streeteasy and other REBNY memebers but not easily available for data analysis.\n",
    "\n",
    "Here I present an alternative approach to pricing NYC apartments with only public data from [NYC Open Data](https://opendata.cityofnewyork.us/). \n"
   ]
  },
  {
   "cell_type": "code",
   "execution_count": 1,
   "metadata": {},
   "outputs": [],
   "source": [
    "import numpy as np\n",
    "import pandas as pd\n",
    "import datetime\n",
    "from scipy.spatial import distance\n",
    "\n",
    "import ipywidgets as widgets\n",
    "from ipywidgets import IntSlider\n",
    "\n",
    "from datascience import *\n",
    "from datetime import timedelta\n",
    "from datetime import date\n",
    "from datetime import datetime\n",
    "import time\n",
    "\n",
    "from IPython.display import display\n",
    "from IPython.display import HTML\n",
    "\n",
    "# from __future__ import print_function\n",
    "from ipywidgets import interact, interactive, fixed, interact_manual\n",
    "import ipywidgets as widgets\n",
    "\n",
    "%matplotlib inline\n",
    "import matplotlib.pyplot as plots\n",
    "plots.style.use('fivethirtyeight')\n",
    "\n",
    "\n",
    "import locale\n",
    "%load_ext line_profiler\n",
    "import os\n",
    "import xlrd as xlrd"
   ]
  },
  {
   "cell_type": "markdown",
   "metadata": {},
   "source": [
    "# Constants\n",
    "\n",
    "Let's define some constants to help make our code more readable"
   ]
  },
  {
   "cell_type": "code",
   "execution_count": 2,
   "metadata": {},
   "outputs": [],
   "source": [
    "\n",
    "\n",
    "# Constants\n",
    "raw_directory = \"input/\"\n",
    "output_directory = \"output/\"\n",
    "\n",
    "\n",
    "# Declare column names to allow for auto completion :)\n",
    "\n",
    "COL_SALE_DATE = 'SALE DATE'\n",
    "\n",
    "COL_PURCHASE_DATE = 'PURCHASE DATE'\n",
    "COL_SOLD_DATE = 'SOLD DATE'\n",
    "COL_PURCHASE_PRICE = 'PURCHASE PRICE'\n",
    "COL_SOLD_PRICE = 'SOLD PRICE'\n",
    "COL_FULL_ADDRESS = 'FULL ADDRESS'\n",
    "COL_PRICE_CHANGE = 'PRICE CHANGE'\n",
    "COL_PERIOD = 'PERIOD'\n",
    "\n",
    "COL_SALE_YEAR = 'SALE_YEAR'\n",
    "COL_SALE_MONTH = 'SALE_MONTH'\n",
    "COL_SALE_PRICE = 'SALE PRICE'\n",
    "\n",
    "\n",
    "# Daily price change column name\n",
    "COL_DAILY_PRICE_CHANGE = 'DAILY PRICE CHANGE'\n",
    "\n",
    "COL_PURCHASE_DATE_SU = 'PURCHASE DATE SU'\n",
    "COL_PURCHASE_PRICE_SU = 'PURCHASE PRICE SU'\n",
    "COL_SOLD_DATE_SU = 'SOLD DATE SU'\n",
    "\n",
    "\n"
   ]
  },
  {
   "cell_type": "markdown",
   "metadata": {},
   "source": [
    "# Functions\n",
    "\n",
    "Also lets define some functions to assist in our analysis"
   ]
  },
  {
   "cell_type": "code",
   "execution_count": 3,
   "metadata": {},
   "outputs": [],
   "source": [
    "# def original_value(original_values, sd_value ):\n",
    "#     '''convert a standard unit value to it's original value'''\n",
    "\n",
    "def standard_units(any_numbers):\n",
    "    \"Convert any array of numbers to standard units.\"\n",
    "    return (any_numbers - np.mean(any_numbers)) / np.std(any_numbers)\n",
    "\n",
    "\n",
    "def correlation(t, x, y):\n",
    "    return np.mean(standard_units(t.column(x)) * standard_units(t.column(y)))\n",
    "\n",
    "\n",
    "def slope(table, x, y):\n",
    "    r = correlation(table, x, y)\n",
    "    return r * np.std(table.column(y)) / np.std(table.column(x))\n",
    "\n",
    "\n",
    "def intercept(table, x, y):\n",
    "    a = slope(table, x, y)\n",
    "    return np.mean(table.column(y)) - a * np.mean(table.column(x))\n",
    "\n",
    "\n",
    "def fit(table, x, y):\n",
    "    a = slope(table, x, y)\n",
    "    b = intercept(table, x, y)\n",
    "    return a * table.column(x) + b\n",
    "\n",
    "\n",
    "def residual(table, x, y):\n",
    "    return table.column(y) - fit(table, x, y)\n",
    "\n",
    "\n",
    "def scatter_fit(table, x, y):\n",
    "    plots.scatter(table.column(x), table.column(y), s=20)\n",
    "    plots.plot(table.column(x), fit(table, x, y), lw=2, color='gold')\n",
    "    plots.xlabel(x)\n",
    "    plots.ylabel(y)\n",
    "\n",
    "\n",
    "# Helpers Functions\n",
    "\n",
    "def print_stats(data):\n",
    "    '''Prints common stats for a data array'''\n",
    "\n",
    "    data_mean = np.mean(data)\n",
    "    data_std = np.std(data)\n",
    "    data_min = min(data)\n",
    "    data_max = max(data)\n",
    "\n",
    "    percent_5 = percentile(5, data)\n",
    "    percent_95 = percentile(95, data)\n",
    "    percent_1 = percentile(1, data)\n",
    "    percent_99 = percentile(99, data)\n",
    "\n",
    "    percent_25 = percentile(25, data)\n",
    "    percent_50 = percentile(50, data)\n",
    "    percent_75 = percentile(75, data)\n",
    "\n",
    "    print(\"Avg:\", data_mean, \"\\tStd:\", data_std, \"\\tMin:\", data_min, \"\\tMax:\", data_max)\n",
    "    print(\" 5%:\", percent_5, \"\\t95%:\", percent_95)\n",
    "    print(\" 1%:\", percent_1, \"\\t99%:\", percent_99)\n",
    "    print(\"25%:\", percent_25, \"\\t50%:\", percent_50, '\\t75%', percent_75)\n",
    "\n",
    "\n",
    "def print_col_stats(table, col_name):\n",
    "    ''' Print the stats For column named'''\n",
    "\n",
    "    print(col_name, \"Stats\")\n",
    "    data = table.column(col_name)\n",
    "    print_stats(data)\n",
    "\n",
    "\n",
    "def draw_hist(table: Table, col_name, offset_percent=0):\n",
    "    ''' Draw a histogram for table with an additional offset percent'''\n",
    "    data = table.column(col_name)\n",
    "    offset_start = percentile(offset_percent, data)\n",
    "    offset_end = percentile(100 - offset_percent, data)\n",
    "    table.hist(col_name, bins=np.arange(offset_start, offset_end, (offset_end - offset_start) / 20))\n",
    "\n",
    "\n",
    "def col_stats(table, col_name):\n",
    "    ''' Prints state for a column in table'''\n",
    "    print_col_stats(table, col_name)\n",
    "    draw_hist(table, col_name)\n"
   ]
  },
  {
   "cell_type": "markdown",
   "metadata": {},
   "source": [
    "# Step 1: Import data\n",
    "\n",
    "Sources\n",
    "1. [Annualized Sales Data](https://www1.nyc.gov/site/finance/taxes/property-annualized-sales-update.page)\n",
    "2. [Rolling Sale data](https://www1.nyc.gov/site/finance/taxes/property-rolling-sales-data.page)"
   ]
  },
  {
   "cell_type": "code",
   "execution_count": 4,
   "metadata": {},
   "outputs": [],
   "source": [
    "# List data files and directories in current directory\n",
    "excel_files = os.listdir(raw_directory)\n",
    "\n",
    "# Select only tje xls files\n",
    "excel_files = [k for k in excel_files if '.xls' in k]"
   ]
  },
  {
   "cell_type": "code",
   "execution_count": 5,
   "metadata": {},
   "outputs": [
    {
     "data": {
      "text/plain": [
       "['2015_manhattan.xls',\n",
       " '2011_manhattan.xls',\n",
       " '2016_manhattan.xls',\n",
       " '2012_manhattan.xls',\n",
       " 'rollingsales_manhattan.xls',\n",
       " 'sales_manhattan_03.xls',\n",
       " 'sales_manhattan_06.xls',\n",
       " 'sales_manhattan_04.xls',\n",
       " 'sales_2007_manhattan.xls',\n",
       " 'sales_manhattan_05.xls',\n",
       " '2009_manhattan.xls',\n",
       " '2013_manhattan.xls',\n",
       " '2017_manhattan.xls',\n",
       " 'sales_2008_manhattan.xls',\n",
       " '2010_manhattan.xls',\n",
       " '2014_manhattan.xls']"
      ]
     },
     "execution_count": 5,
     "metadata": {},
     "output_type": "execute_result"
    }
   ],
   "source": [
    "excel_files[:len(excel_files)]"
   ]
  },
  {
   "cell_type": "markdown",
   "metadata": {},
   "source": [
    "Unfortunately not all files are formatted the same way. Some have the header in row 4, others in row 5. We can check by making sure 'BOROUGH' is the first column in the imported dataset "
   ]
  },
  {
   "cell_type": "code",
   "execution_count": 6,
   "metadata": {},
   "outputs": [
    {
     "name": "stdout",
     "output_type": "stream",
     "text": [
      "2015_manhattan.xls\n",
      "2011_manhattan.xls\n",
      "2016_manhattan.xls\n",
      "2012_manhattan.xls\n",
      "rollingsales_manhattan.xls\n",
      "sales_manhattan_03.xls\n",
      "sales_manhattan_06.xls\n",
      "sales_manhattan_04.xls\n",
      "sales_2007_manhattan.xls\n",
      "sales_manhattan_05.xls\n",
      "2009_manhattan.xls\n",
      "2013_manhattan.xls\n",
      "2017_manhattan.xls\n"
     ]
    },
    {
     "name": "stderr",
     "output_type": "stream",
     "text": [
      "/Users/somya/Library/Python/3.7/lib/python/site-packages/pandas/core/frame.py:6211: FutureWarning: Sorting because non-concatenation axis is not aligned. A future version\n",
      "of pandas will change to not sort by default.\n",
      "\n",
      "To accept the future behavior, pass 'sort=False'.\n",
      "\n",
      "To retain the current behavior and silence the warning, pass 'sort=True'.\n",
      "\n",
      "  sort=sort)\n"
     ]
    },
    {
     "name": "stdout",
     "output_type": "stream",
     "text": [
      "sales_2008_manhattan.xls\n",
      "2010_manhattan.xls\n",
      "2014_manhattan.xls\n"
     ]
    }
   ],
   "source": [
    "\n",
    "# Create an data store\n",
    "all_sales_data = pd.DataFrame()\n",
    "\n",
    "# Load individual excel files. \n",
    "for excel_file in excel_files:\n",
    "    print(excel_file)\n",
    "    \n",
    "    # Read excel, Note the headers could in row 4 or row 5 (index=3 or 4). \n",
    "    yearly_sales_data = pd.read_excel(raw_directory+excel_file, header=3, encoding='sys.getfilesystemencoding()')\n",
    "   \n",
    "    # Check if the first column is \"BOROUGH\"\n",
    "    if not yearly_sales_data.columns[0].startswith('BOROUGH'):\n",
    "        # Otherwise the data starts from row 5.\n",
    "         yearly_sales_data = pd.read_excel(raw_directory+excel_file, header=4, encoding='sys.getfilesystemencoding()')\n",
    "    \n",
    "#     print(yearly_sales_data.shape)\n",
    "    \n",
    "    yearly_sales_data.rename(columns=lambda x: x.strip(), inplace=True)\n",
    "    \n",
    "    all_sales_data = all_sales_data.append(yearly_sales_data)\n",
    "    \n",
    "#     print(all_sales_data.shape)"
   ]
  },
  {
   "cell_type": "markdown",
   "metadata": {},
   "source": [
    "Spot check to verify data"
   ]
  },
  {
   "cell_type": "code",
   "execution_count": 7,
   "metadata": {},
   "outputs": [
    {
     "data": {
      "text/html": [
       "<div>\n",
       "<style scoped>\n",
       "    .dataframe tbody tr th:only-of-type {\n",
       "        vertical-align: middle;\n",
       "    }\n",
       "\n",
       "    .dataframe tbody tr th {\n",
       "        vertical-align: top;\n",
       "    }\n",
       "\n",
       "    .dataframe thead th {\n",
       "        text-align: right;\n",
       "    }\n",
       "</style>\n",
       "<table border=\"1\" class=\"dataframe\">\n",
       "  <thead>\n",
       "    <tr style=\"text-align: right;\">\n",
       "      <th></th>\n",
       "      <th>ADDRESS</th>\n",
       "      <th>APARTMENT NUMBER</th>\n",
       "      <th>BLOCK</th>\n",
       "      <th>BOROUGH</th>\n",
       "      <th>BUILDING CLASS AS OF FINAL ROLL 17/18</th>\n",
       "      <th>BUILDING CLASS AT PRESENT</th>\n",
       "      <th>BUILDING CLASS AT TIME OF SALE</th>\n",
       "      <th>BUILDING CLASS CATEGORY</th>\n",
       "      <th>COMMERCIAL UNITS</th>\n",
       "      <th>EASE-MENT</th>\n",
       "      <th>...</th>\n",
       "      <th>NEIGHBORHOOD</th>\n",
       "      <th>RESIDENTIAL UNITS</th>\n",
       "      <th>SALE DATE</th>\n",
       "      <th>SALE PRICE</th>\n",
       "      <th>TAX CLASS AS OF FINAL ROLL 17/18</th>\n",
       "      <th>TAX CLASS AT PRESENT</th>\n",
       "      <th>TAX CLASS AT TIME OF SALE</th>\n",
       "      <th>TOTAL UNITS</th>\n",
       "      <th>YEAR BUILT</th>\n",
       "      <th>ZIP CODE</th>\n",
       "    </tr>\n",
       "  </thead>\n",
       "  <tbody>\n",
       "    <tr>\n",
       "      <th>12236</th>\n",
       "      <td>210 EAST 73RD STREET, 5E</td>\n",
       "      <td></td>\n",
       "      <td>1427</td>\n",
       "      <td>1</td>\n",
       "      <td>D4</td>\n",
       "      <td>NaN</td>\n",
       "      <td>D4</td>\n",
       "      <td>10 COOPS - ELEVATOR APARTMENTS</td>\n",
       "      <td>0</td>\n",
       "      <td></td>\n",
       "      <td>...</td>\n",
       "      <td>UPPER EAST SIDE (59-79)</td>\n",
       "      <td>0</td>\n",
       "      <td>2017-02-23</td>\n",
       "      <td>845000</td>\n",
       "      <td>2</td>\n",
       "      <td>NaN</td>\n",
       "      <td>2</td>\n",
       "      <td>0</td>\n",
       "      <td>1929</td>\n",
       "      <td>10021</td>\n",
       "    </tr>\n",
       "    <tr>\n",
       "      <th>8822</th>\n",
       "      <td>335-41 EAST 51 STREET</td>\n",
       "      <td>7H</td>\n",
       "      <td>1344</td>\n",
       "      <td>1</td>\n",
       "      <td>NaN</td>\n",
       "      <td>R4</td>\n",
       "      <td>R4</td>\n",
       "      <td>13  CONDOS - ELEVATOR APARTMENTS</td>\n",
       "      <td>0</td>\n",
       "      <td></td>\n",
       "      <td>...</td>\n",
       "      <td>MIDTOWN EAST</td>\n",
       "      <td>1</td>\n",
       "      <td>2003-12-16</td>\n",
       "      <td>272950</td>\n",
       "      <td>NaN</td>\n",
       "      <td>2</td>\n",
       "      <td>2</td>\n",
       "      <td>1</td>\n",
       "      <td>0</td>\n",
       "      <td>10022</td>\n",
       "    </tr>\n",
       "    <tr>\n",
       "      <th>8410</th>\n",
       "      <td>310 EAST 46TH STREET, 14K</td>\n",
       "      <td></td>\n",
       "      <td>1338</td>\n",
       "      <td>1</td>\n",
       "      <td>NaN</td>\n",
       "      <td>D4</td>\n",
       "      <td>D4</td>\n",
       "      <td>10  COOPS - ELEVATOR APARTMENTS</td>\n",
       "      <td>0</td>\n",
       "      <td></td>\n",
       "      <td>...</td>\n",
       "      <td>MIDTOWN EAST</td>\n",
       "      <td>0</td>\n",
       "      <td>2016-07-26</td>\n",
       "      <td>745000</td>\n",
       "      <td>NaN</td>\n",
       "      <td>2</td>\n",
       "      <td>2</td>\n",
       "      <td>0</td>\n",
       "      <td>1929</td>\n",
       "      <td>10017</td>\n",
       "    </tr>\n",
       "    <tr>\n",
       "      <th>12338</th>\n",
       "      <td>35 EAST 85TH STREET, 2C</td>\n",
       "      <td></td>\n",
       "      <td>1497</td>\n",
       "      <td>1</td>\n",
       "      <td>NaN</td>\n",
       "      <td>D4</td>\n",
       "      <td>D4</td>\n",
       "      <td>10 COOPS - ELEVATOR APARTMENTS</td>\n",
       "      <td>0</td>\n",
       "      <td></td>\n",
       "      <td>...</td>\n",
       "      <td>UPPER EAST SIDE (79-96)</td>\n",
       "      <td>0</td>\n",
       "      <td>2018-03-14</td>\n",
       "      <td>2850000</td>\n",
       "      <td>NaN</td>\n",
       "      <td>2</td>\n",
       "      <td>2</td>\n",
       "      <td>0</td>\n",
       "      <td>1959</td>\n",
       "      <td>10028</td>\n",
       "    </tr>\n",
       "    <tr>\n",
       "      <th>6194</th>\n",
       "      <td>50 CLINTON STREET</td>\n",
       "      <td>STORB</td>\n",
       "      <td>344</td>\n",
       "      <td>1</td>\n",
       "      <td>NaN</td>\n",
       "      <td>RS</td>\n",
       "      <td>RS</td>\n",
       "      <td>47 CONDO NON-BUSINESS STORAGE</td>\n",
       "      <td>0</td>\n",
       "      <td></td>\n",
       "      <td>...</td>\n",
       "      <td>LOWER EAST SIDE</td>\n",
       "      <td>0</td>\n",
       "      <td>2018-03-20</td>\n",
       "      <td>0</td>\n",
       "      <td>NaN</td>\n",
       "      <td>4</td>\n",
       "      <td>4</td>\n",
       "      <td>1</td>\n",
       "      <td>2015</td>\n",
       "      <td>10002</td>\n",
       "    </tr>\n",
       "    <tr>\n",
       "      <th>3259</th>\n",
       "      <td>280 PARK AVENUE SOUTH</td>\n",
       "      <td>11C</td>\n",
       "      <td>850</td>\n",
       "      <td>1</td>\n",
       "      <td>NaN</td>\n",
       "      <td>R4</td>\n",
       "      <td>R4</td>\n",
       "      <td>13  CONDOS - ELEVATOR APARTMENTS</td>\n",
       "      <td>0</td>\n",
       "      <td></td>\n",
       "      <td>...</td>\n",
       "      <td>FLATIRON</td>\n",
       "      <td>1</td>\n",
       "      <td>2013-06-14</td>\n",
       "      <td>1250000</td>\n",
       "      <td>NaN</td>\n",
       "      <td>2</td>\n",
       "      <td>2</td>\n",
       "      <td>1</td>\n",
       "      <td>1986</td>\n",
       "      <td>10010</td>\n",
       "    </tr>\n",
       "    <tr>\n",
       "      <th>13410</th>\n",
       "      <td>108 WEST 57TH   STREET</td>\n",
       "      <td></td>\n",
       "      <td>1009</td>\n",
       "      <td>1</td>\n",
       "      <td>NaN</td>\n",
       "      <td></td>\n",
       "      <td>H2</td>\n",
       "      <td>25  LUXURY HOTELS</td>\n",
       "      <td>0</td>\n",
       "      <td></td>\n",
       "      <td>...</td>\n",
       "      <td>MIDTOWN WEST</td>\n",
       "      <td>0</td>\n",
       "      <td>2008-02-09</td>\n",
       "      <td>0</td>\n",
       "      <td>NaN</td>\n",
       "      <td></td>\n",
       "      <td>4</td>\n",
       "      <td>0</td>\n",
       "      <td>0</td>\n",
       "      <td>10019</td>\n",
       "    </tr>\n",
       "    <tr>\n",
       "      <th>18254</th>\n",
       "      <td>923 5 AVENUE</td>\n",
       "      <td>12E</td>\n",
       "      <td>1388</td>\n",
       "      <td>1</td>\n",
       "      <td>NaN</td>\n",
       "      <td>R4</td>\n",
       "      <td>R4</td>\n",
       "      <td>13  CONDOS - ELEVATOR APARTMENTS</td>\n",
       "      <td>0</td>\n",
       "      <td></td>\n",
       "      <td>...</td>\n",
       "      <td>UPPER EAST SIDE (59-79)</td>\n",
       "      <td>1</td>\n",
       "      <td>2005-03-15</td>\n",
       "      <td>0</td>\n",
       "      <td>NaN</td>\n",
       "      <td>2</td>\n",
       "      <td>2</td>\n",
       "      <td>1</td>\n",
       "      <td>1982</td>\n",
       "      <td>10021</td>\n",
       "    </tr>\n",
       "    <tr>\n",
       "      <th>9362</th>\n",
       "      <td>411 EAST 57TH STREET, 18D</td>\n",
       "      <td></td>\n",
       "      <td>1369</td>\n",
       "      <td>1</td>\n",
       "      <td>NaN</td>\n",
       "      <td>D4</td>\n",
       "      <td>D4</td>\n",
       "      <td>10  COOPS - ELEVATOR APARTMENTS</td>\n",
       "      <td>0</td>\n",
       "      <td></td>\n",
       "      <td>...</td>\n",
       "      <td>MIDTOWN EAST</td>\n",
       "      <td>0</td>\n",
       "      <td>2014-05-01</td>\n",
       "      <td>780000</td>\n",
       "      <td>NaN</td>\n",
       "      <td>2</td>\n",
       "      <td>2</td>\n",
       "      <td>0</td>\n",
       "      <td>1959</td>\n",
       "      <td>10022</td>\n",
       "    </tr>\n",
       "    <tr>\n",
       "      <th>5128</th>\n",
       "      <td>61 LEXINGTON AVENUE</td>\n",
       "      <td>G</td>\n",
       "      <td>881</td>\n",
       "      <td>1</td>\n",
       "      <td>NaN</td>\n",
       "      <td>R5</td>\n",
       "      <td>R5</td>\n",
       "      <td>28  COMMERCIAL CONDOS</td>\n",
       "      <td>1</td>\n",
       "      <td></td>\n",
       "      <td>...</td>\n",
       "      <td>GRAMERCY</td>\n",
       "      <td>0</td>\n",
       "      <td>2007-01-30</td>\n",
       "      <td>350000</td>\n",
       "      <td>NaN</td>\n",
       "      <td>4</td>\n",
       "      <td>4</td>\n",
       "      <td>1</td>\n",
       "      <td>0</td>\n",
       "      <td>10010</td>\n",
       "    </tr>\n",
       "  </tbody>\n",
       "</table>\n",
       "<p>10 rows × 23 columns</p>\n",
       "</div>"
      ],
      "text/plain": [
       "                                         ADDRESS APARTMENT NUMBER  BLOCK  \\\n",
       "12236                   210 EAST 73RD STREET, 5E                    1427   \n",
       "8822   335-41 EAST 51 STREET                         7H             1344   \n",
       "8410   310 EAST 46TH STREET, 14K                                    1338   \n",
       "12338                    35 EAST 85TH STREET, 2C                    1497   \n",
       "6194                           50 CLINTON STREET            STORB    344   \n",
       "3259   280 PARK AVENUE SOUTH                         11C             850   \n",
       "13410  108 WEST 57TH   STREET                                       1009   \n",
       "18254  923 5 AVENUE                                  12E            1388   \n",
       "9362   411 EAST 57TH STREET, 18D                                    1369   \n",
       "5128   61 LEXINGTON AVENUE                           G               881   \n",
       "\n",
       "       BOROUGH BUILDING CLASS AS OF FINAL ROLL 17/18  \\\n",
       "12236        1                                    D4   \n",
       "8822         1                                   NaN   \n",
       "8410         1                                   NaN   \n",
       "12338        1                                   NaN   \n",
       "6194         1                                   NaN   \n",
       "3259         1                                   NaN   \n",
       "13410        1                                   NaN   \n",
       "18254        1                                   NaN   \n",
       "9362         1                                   NaN   \n",
       "5128         1                                   NaN   \n",
       "\n",
       "      BUILDING CLASS AT PRESENT BUILDING CLASS AT TIME OF SALE  \\\n",
       "12236                       NaN                             D4   \n",
       "8822                         R4                             R4   \n",
       "8410                         D4                             D4   \n",
       "12338                        D4                             D4   \n",
       "6194                         RS                             RS   \n",
       "3259                         R4                             R4   \n",
       "13410                                                       H2   \n",
       "18254                        R4                             R4   \n",
       "9362                         D4                             D4   \n",
       "5128                         R5                             R5   \n",
       "\n",
       "                            BUILDING CLASS CATEGORY  COMMERCIAL UNITS  \\\n",
       "12236   10 COOPS - ELEVATOR APARTMENTS                              0   \n",
       "8822   13  CONDOS - ELEVATOR APARTMENTS                             0   \n",
       "8410   10  COOPS - ELEVATOR APARTMENTS                              0   \n",
       "12338   10 COOPS - ELEVATOR APARTMENTS                              0   \n",
       "6194    47 CONDO NON-BUSINESS STORAGE                               0   \n",
       "3259   13  CONDOS - ELEVATOR APARTMENTS                             0   \n",
       "13410  25  LUXURY HOTELS                                            0   \n",
       "18254  13  CONDOS - ELEVATOR APARTMENTS                             0   \n",
       "9362   10  COOPS - ELEVATOR APARTMENTS                              0   \n",
       "5128   28  COMMERCIAL CONDOS                                        1   \n",
       "\n",
       "      EASE-MENT    ...                  NEIGHBORHOOD  RESIDENTIAL UNITS  \\\n",
       "12236              ...       UPPER EAST SIDE (59-79)                  0   \n",
       "8822               ...     MIDTOWN EAST                               1   \n",
       "8410               ...     MIDTOWN EAST                               0   \n",
       "12338              ...       UPPER EAST SIDE (79-96)                  0   \n",
       "6194               ...               LOWER EAST SIDE                  0   \n",
       "3259               ...     FLATIRON                                   1   \n",
       "13410              ...     MIDTOWN WEST                               0   \n",
       "18254              ...     UPPER EAST SIDE (59-79)                    1   \n",
       "9362               ...     MIDTOWN EAST                               0   \n",
       "5128               ...     GRAMERCY                                   0   \n",
       "\n",
       "       SALE DATE SALE PRICE  TAX CLASS AS OF FINAL ROLL 17/18  \\\n",
       "12236 2017-02-23     845000                                 2   \n",
       "8822  2003-12-16     272950                               NaN   \n",
       "8410  2016-07-26     745000                               NaN   \n",
       "12338 2018-03-14    2850000                               NaN   \n",
       "6194  2018-03-20          0                               NaN   \n",
       "3259  2013-06-14    1250000                               NaN   \n",
       "13410 2008-02-09          0                               NaN   \n",
       "18254 2005-03-15          0                               NaN   \n",
       "9362  2014-05-01     780000                               NaN   \n",
       "5128  2007-01-30     350000                               NaN   \n",
       "\n",
       "      TAX CLASS AT PRESENT  TAX CLASS AT TIME OF SALE TOTAL UNITS YEAR BUILT  \\\n",
       "12236                  NaN                          2           0       1929   \n",
       "8822                     2                          2           1          0   \n",
       "8410                     2                          2           0       1929   \n",
       "12338                    2                          2           0       1959   \n",
       "6194                     4                          4           1       2015   \n",
       "3259                     2                          2           1       1986   \n",
       "13410                                               4           0          0   \n",
       "18254                    2                          2           1       1982   \n",
       "9362                     2                          2           0       1959   \n",
       "5128                     4                          4           1          0   \n",
       "\n",
       "       ZIP CODE  \n",
       "12236     10021  \n",
       "8822      10022  \n",
       "8410      10017  \n",
       "12338     10028  \n",
       "6194      10002  \n",
       "3259      10010  \n",
       "13410     10019  \n",
       "18254     10021  \n",
       "9362      10022  \n",
       "5128      10010  \n",
       "\n",
       "[10 rows x 23 columns]"
      ]
     },
     "execution_count": 7,
     "metadata": {},
     "output_type": "execute_result"
    }
   ],
   "source": [
    "\n",
    "all_sales_data.sample(10)\n"
   ]
  },
  {
   "cell_type": "code",
   "execution_count": 8,
   "metadata": {},
   "outputs": [
    {
     "data": {
      "text/plain": [
       "16156"
      ]
     },
     "execution_count": 8,
     "metadata": {},
     "output_type": "execute_result"
    }
   ],
   "source": [
    "# Check for duplicate entries\n",
    "sum(all_sales_data.duplicated(all_sales_data.columns))"
   ]
  },
  {
   "cell_type": "code",
   "execution_count": 9,
   "metadata": {},
   "outputs": [
    {
     "data": {
      "text/plain": [
       "0"
      ]
     },
     "execution_count": 9,
     "metadata": {},
     "output_type": "execute_result"
    }
   ],
   "source": [
    "#Delete the duplicates and check that it worked\n",
    "all_sales_data = all_sales_data.drop_duplicates(all_sales_data.columns, keep='last')\n",
    "sum(all_sales_data.duplicated(all_sales_data.columns))"
   ]
  },
  {
   "cell_type": "markdown",
   "metadata": {},
   "source": [
    "# Step 2. Clean up the data and arrange for analysis"
   ]
  },
  {
   "cell_type": "code",
   "execution_count": 10,
   "metadata": {},
   "outputs": [],
   "source": [
    "#SALE DATE is object but should be datetime\n",
    "all_sales_data[COL_SALE_DATE] = pd.to_datetime(all_sales_data[COL_SALE_DATE], errors='coerce')\n",
    "all_sales_data['APARTMENT NUMBER'] = all_sales_data['APARTMENT NUMBER'].astype(str)\n",
    "\n",
    "# remove additional whitespace in strings\n",
    "all_sales_data = all_sales_data.applymap(lambda x: x.strip() if type(x) is str else x)"
   ]
  },
  {
   "cell_type": "code",
   "execution_count": 11,
   "metadata": {},
   "outputs": [],
   "source": [
    "# Convert to Table for analysis\n",
    "all_sales_data = Table.from_df(all_sales_data)"
   ]
  },
  {
   "cell_type": "code",
   "execution_count": 12,
   "metadata": {},
   "outputs": [],
   "source": [
    "# remove and sales less than $10,000 they are likely to be a property transfer rather than an actual sale\n",
    "all_sales_data = all_sales_data.where(COL_SALE_PRICE, are.above(10000))"
   ]
  },
  {
   "cell_type": "code",
   "execution_count": 13,
   "metadata": {},
   "outputs": [
    {
     "data": {
      "text/plain": [
       "('ADDRESS',\n",
       " 'APARTMENT NUMBER',\n",
       " 'BLOCK',\n",
       " 'BOROUGH',\n",
       " 'BUILDING CLASS AS OF FINAL ROLL 17/18',\n",
       " 'BUILDING CLASS AT PRESENT',\n",
       " 'BUILDING CLASS AT TIME OF SALE',\n",
       " 'BUILDING CLASS CATEGORY',\n",
       " 'COMMERCIAL UNITS',\n",
       " 'EASE-MENT',\n",
       " 'GROSS SQUARE FEET',\n",
       " 'LAND SQUARE FEET',\n",
       " 'LOT',\n",
       " 'NEIGHBORHOOD',\n",
       " 'RESIDENTIAL UNITS',\n",
       " 'SALE DATE',\n",
       " 'SALE PRICE',\n",
       " 'TAX CLASS AS OF FINAL ROLL 17/18',\n",
       " 'TAX CLASS AT PRESENT',\n",
       " 'TAX CLASS AT TIME OF SALE',\n",
       " 'TOTAL UNITS',\n",
       " 'YEAR BUILT',\n",
       " 'ZIP CODE')"
      ]
     },
     "execution_count": 13,
     "metadata": {},
     "output_type": "execute_result"
    }
   ],
   "source": [
    "# SPOT CHECK: Understand the data labels we might be interested in\n",
    "all_sales_data.labels"
   ]
  },
  {
   "cell_type": "code",
   "execution_count": 14,
   "metadata": {},
   "outputs": [],
   "source": [
    "# Remove columns we don't actually need. e.g. lot, block etc\n",
    "\n",
    "all_sales_data = all_sales_data.select(['SALE DATE', 'SALE PRICE', 'ADDRESS','APARTMENT NUMBER', 'YEAR BUILT', 'NEIGHBORHOOD', 'ZIP CODE', 'BUILDING CLASS AT TIME OF SALE', 'BUILDING CLASS CATEGORY'])"
   ]
  },
  {
   "cell_type": "code",
   "execution_count": 15,
   "metadata": {},
   "outputs": [
    {
     "name": "stderr",
     "output_type": "stream",
     "text": [
      "/Users/somya/Library/Python/3.7/lib/python/site-packages/datascience/tables.py:361: FutureWarning: column lists are deprecated; pass each as an argument\n",
      "  \"column lists are deprecated; pass each as an argument\", FutureWarning)\n"
     ]
    }
   ],
   "source": [
    "# Combine the Address and Apt No. The data here seems a little messy. Sometime the address itself contains the apt no,\n",
    "# other times it's seperated. Let's create a full address column that combines them into a single address\n",
    "\n",
    "def combine_address(address, aptNo):\n",
    "    \"\"\"Combine the address and Apartment into a single result\"\"\"\n",
    "    temp = address.strip()\n",
    "    if len(aptNo.strip()) > 0:\n",
    "        temp = temp + ', ' + aptNo.strip()\n",
    "    return temp\n",
    "\n",
    "full_address = all_sales_data.apply(combine_address, ['ADDRESS', 'APARTMENT NUMBER'])\n",
    "\n",
    "# Add a Full Address column\n",
    "all_sales_data =  all_sales_data.with_column(COL_FULL_ADDRESS, full_address)"
   ]
  },
  {
   "cell_type": "code",
   "execution_count": 16,
   "metadata": {},
   "outputs": [
    {
     "data": {
      "text/html": [
       "<table border=\"1\" class=\"dataframe\">\n",
       "    <thead>\n",
       "        <tr>\n",
       "            <th>BUILDING CLASS AT TIME OF SALE</th> <th>BUILDING CLASS CATEGORY</th> <th>count</th>\n",
       "        </tr>\n",
       "    </thead>\n",
       "    <tbody>\n",
       "        <tr>\n",
       "            <td>R4                            </td> <td>13  CONDOS - ELEVATOR APARTMENTS  </td> <td>90128</td>\n",
       "        </tr>\n",
       "        <tr>\n",
       "            <td>D4                            </td> <td>10  COOPS - ELEVATOR APARTMENTS   </td> <td>83556</td>\n",
       "        </tr>\n",
       "        <tr>\n",
       "            <td>R5                            </td> <td>28  COMMERCIAL CONDOS             </td> <td>15569</td>\n",
       "        </tr>\n",
       "        <tr>\n",
       "            <td>R4                            </td> <td>13 CONDOS - ELEVATOR APARTMENTS   </td> <td>10777</td>\n",
       "        </tr>\n",
       "        <tr>\n",
       "            <td>C6                            </td> <td>09  COOPS - WALKUP APARTMENTS     </td> <td>10413</td>\n",
       "        </tr>\n",
       "        <tr>\n",
       "            <td>D4                            </td> <td>10 COOPS - ELEVATOR APARTMENTS    </td> <td>10319</td>\n",
       "        </tr>\n",
       "        <tr>\n",
       "            <td>R9                            </td> <td>17  CONDOPS                       </td> <td>10097</td>\n",
       "        </tr>\n",
       "        <tr>\n",
       "            <td>H2                            </td> <td>25  LUXURY HOTELS                 </td> <td>6204 </td>\n",
       "        </tr>\n",
       "        <tr>\n",
       "            <td>R9                            </td> <td>17  CONDO COOPS                   </td> <td>4148 </td>\n",
       "        </tr>\n",
       "        <tr>\n",
       "            <td>RH                            </td> <td>45  CONDO HOTELS                  </td> <td>4011 </td>\n",
       "        </tr>\n",
       "        <tr>\n",
       "            <td>D0                            </td> <td>10  COOPS - ELEVATOR APARTMENTS   </td> <td>3324 </td>\n",
       "        </tr>\n",
       "        <tr>\n",
       "            <td>R1                            </td> <td>15  CONDOS - 2-10 UNIT RESIDENTIAL</td> <td>3250 </td>\n",
       "        </tr>\n",
       "        <tr>\n",
       "            <td>C7                            </td> <td>07  RENTALS - WALKUP APARTMENTS   </td> <td>1900 </td>\n",
       "        </tr>\n",
       "        <tr>\n",
       "            <td>R9                            </td> <td>17 CONDO COOPS                    </td> <td>1621 </td>\n",
       "        </tr>\n",
       "        <tr>\n",
       "            <td>C5                            </td> <td>07  RENTALS - WALKUP APARTMENTS   </td> <td>1473 </td>\n",
       "        </tr>\n",
       "        <tr>\n",
       "            <td>C1                            </td> <td>07  RENTALS - WALKUP APARTMENTS   </td> <td>1414 </td>\n",
       "        </tr>\n",
       "        <tr>\n",
       "            <td>C6                            </td> <td>09 COOPS - WALKUP APARTMENTS      </td> <td>1376 </td>\n",
       "        </tr>\n",
       "        <tr>\n",
       "            <td>R2                            </td> <td>12  CONDOS - WALKUP APARTMENTS    </td> <td>1278 </td>\n",
       "        </tr>\n",
       "        <tr>\n",
       "            <td>C4                            </td> <td>07  RENTALS - WALKUP APARTMENTS   </td> <td>1172 </td>\n",
       "        </tr>\n",
       "        <tr>\n",
       "            <td>H3                            </td> <td>26  OTHER HOTELS                  </td> <td>1052 </td>\n",
       "        </tr>\n",
       "    </tbody>\n",
       "</table>\n",
       "<p>... (302 rows omitted)</p>"
      ],
      "text/plain": [
       "<IPython.core.display.HTML object>"
      ]
     },
     "metadata": {},
     "output_type": "display_data"
    }
   ],
   "source": [
    "# Try to understand Building Class Codes. What are the most common Codes?\n",
    "\n",
    "all_sales_data.group(['BUILDING CLASS AT TIME OF SALE', 'BUILDING CLASS CATEGORY']).sort('count', descending=True).show(20)\n",
    "\n",
    "# Ok mostly condos and co-ops as expected\n",
    "\n",
    "# Question what's R5 -  COMMERCIAL CONDOS? ignoring for now"
   ]
  },
  {
   "cell_type": "markdown",
   "metadata": {},
   "source": [
    "Let's pick out the condos for now. \n",
    "Reference Data: [NYC Building Codes](https://www1.nyc.gov/assets/finance/jump/hlpbldgcode.html) "
   ]
  },
  {
   "cell_type": "code",
   "execution_count": 17,
   "metadata": {},
   "outputs": [
    {
     "data": {
      "text/html": [
       "<table border=\"1\" class=\"dataframe\">\n",
       "    <thead>\n",
       "        <tr>\n",
       "            <th>SALE DATE</th> <th>SALE PRICE</th> <th>ADDRESS</th> <th>APARTMENT NUMBER</th> <th>YEAR BUILT</th> <th>NEIGHBORHOOD</th> <th>ZIP CODE</th> <th>BUILDING CLASS AT TIME OF SALE</th> <th>BUILDING CLASS CATEGORY</th> <th>FULL ADDRESS</th>\n",
       "        </tr>\n",
       "    </thead>\n",
       "    <tbody>\n",
       "        <tr>\n",
       "            <td>2008-10-29 00:00:00</td> <td>1731371   </td> <td>200 EAST 66TH   STREET</td> <td>C0502           </td> <td>1951      </td> <td>UPPER EAST SIDE (59-79)</td> <td>10065   </td> <td>R4                            </td> <td>13  CONDOS - ELEVATOR APARTMENTS</td> <td>200 EAST 66TH   STREET, C0502</td>\n",
       "        </tr>\n",
       "        <tr>\n",
       "            <td>2010-04-05 00:00:00</td> <td>3450000   </td> <td>252 SEVENTH AVENUE    </td> <td>11P             </td> <td>0         </td> <td>CHELSEA                </td> <td>10001   </td> <td>R4                            </td> <td>13  CONDOS - ELEVATOR APARTMENTS</td> <td>252 SEVENTH AVENUE, 11P      </td>\n",
       "        </tr>\n",
       "        <tr>\n",
       "            <td>2013-08-14 00:00:00</td> <td>560000    </td> <td>250 EAST 54TH STREET  </td> <td>20B             </td> <td>1990      </td> <td>MIDTOWN EAST           </td> <td>10022   </td> <td>R4                            </td> <td>13  CONDOS - ELEVATOR APARTMENTS</td> <td>250 EAST 54TH STREET, 20B    </td>\n",
       "        </tr>\n",
       "        <tr>\n",
       "            <td>2011-12-19 00:00:00</td> <td>736000    </td> <td>99 JOHN STREET        </td> <td>2311            </td> <td>2003      </td> <td>FINANCIAL              </td> <td>10038   </td> <td>R4                            </td> <td>13  CONDOS - ELEVATOR APARTMENTS</td> <td>99 JOHN STREET, 2311         </td>\n",
       "        </tr>\n",
       "        <tr>\n",
       "            <td>2004-04-30 00:00:00</td> <td>645000    </td> <td>150 NASSAU STREET     </td> <td>3H              </td> <td>0         </td> <td>SOUTHBRIDGE            </td> <td>10038   </td> <td>R4                            </td> <td>13  CONDOS - ELEVATOR APARTMENTS</td> <td>150 NASSAU STREET, 3H        </td>\n",
       "        </tr>\n",
       "        <tr>\n",
       "            <td>2003-10-08 00:00:00</td> <td>235000    </td> <td>520 EAST 81 STREET    </td> <td>2M              </td> <td>1964      </td> <td>UPPER EAST SIDE (79-96)</td> <td>10028   </td> <td>R4                            </td> <td>13  CONDOS - ELEVATOR APARTMENTS</td> <td>520 EAST 81 STREET, 2M       </td>\n",
       "        </tr>\n",
       "        <tr>\n",
       "            <td>2017-12-12 00:00:00</td> <td>1150000   </td> <td>300 RECTOR PLACE      </td> <td>4Q              </td> <td>0         </td> <td>TRIBECA                </td> <td>10280   </td> <td>R4                            </td> <td>13 CONDOS - ELEVATOR APARTMENTS </td> <td>300 RECTOR PLACE, 4Q         </td>\n",
       "        </tr>\n",
       "        <tr>\n",
       "            <td>2016-10-28 00:00:00</td> <td>1035000   </td> <td>372 CENTRAL PARK WEST </td> <td>17V             </td> <td>1961      </td> <td>MANHATTAN VALLEY       </td> <td>10025   </td> <td>R4                            </td> <td>13  CONDOS - ELEVATOR APARTMENTS</td> <td>372 CENTRAL PARK WEST, 17V   </td>\n",
       "        </tr>\n",
       "        <tr>\n",
       "            <td>2017-03-23 00:00:00</td> <td>1730000   </td> <td>101 WEST 24TH STREET  </td> <td>29H             </td> <td>2006      </td> <td>CHELSEA                </td> <td>10011   </td> <td>R4                            </td> <td>13 CONDOS - ELEVATOR APARTMENTS </td> <td>101 WEST 24TH STREET, 29H    </td>\n",
       "        </tr>\n",
       "        <tr>\n",
       "            <td>2015-12-18 00:00:00</td> <td>5500000   </td> <td>500 PARK AVENUE       </td> <td>19B             </td> <td>0         </td> <td>MIDTOWN CBD            </td> <td>10022   </td> <td>R4                            </td> <td>13  CONDOS - ELEVATOR APARTMENTS</td> <td>500 PARK AVENUE, 19B         </td>\n",
       "        </tr>\n",
       "    </tbody>\n",
       "</table>"
      ],
      "text/plain": [
       "SALE DATE           | SALE PRICE | ADDRESS                | APARTMENT NUMBER | YEAR BUILT | NEIGHBORHOOD            | ZIP CODE | BUILDING CLASS AT TIME OF SALE | BUILDING CLASS CATEGORY          | FULL ADDRESS\n",
       "2008-10-29 00:00:00 | 1731371    | 200 EAST 66TH   STREET | C0502            | 1951       | UPPER EAST SIDE (59-79) | 10065    | R4                             | 13  CONDOS - ELEVATOR APARTMENTS | 200 EAST 66TH   STREET, C0502\n",
       "2010-04-05 00:00:00 | 3450000    | 252 SEVENTH AVENUE     | 11P              | 0          | CHELSEA                 | 10001    | R4                             | 13  CONDOS - ELEVATOR APARTMENTS | 252 SEVENTH AVENUE, 11P\n",
       "2013-08-14 00:00:00 | 560000     | 250 EAST 54TH STREET   | 20B              | 1990       | MIDTOWN EAST            | 10022    | R4                             | 13  CONDOS - ELEVATOR APARTMENTS | 250 EAST 54TH STREET, 20B\n",
       "2011-12-19 00:00:00 | 736000     | 99 JOHN STREET         | 2311             | 2003       | FINANCIAL               | 10038    | R4                             | 13  CONDOS - ELEVATOR APARTMENTS | 99 JOHN STREET, 2311\n",
       "2004-04-30 00:00:00 | 645000     | 150 NASSAU STREET      | 3H               | 0          | SOUTHBRIDGE             | 10038    | R4                             | 13  CONDOS - ELEVATOR APARTMENTS | 150 NASSAU STREET, 3H\n",
       "2003-10-08 00:00:00 | 235000     | 520 EAST 81 STREET     | 2M               | 1964       | UPPER EAST SIDE (79-96) | 10028    | R4                             | 13  CONDOS - ELEVATOR APARTMENTS | 520 EAST 81 STREET, 2M\n",
       "2017-12-12 00:00:00 | 1150000    | 300 RECTOR PLACE       | 4Q               | 0          | TRIBECA                 | 10280    | R4                             | 13 CONDOS - ELEVATOR APARTMENTS  | 300 RECTOR PLACE, 4Q\n",
       "2016-10-28 00:00:00 | 1035000    | 372 CENTRAL PARK WEST  | 17V              | 1961       | MANHATTAN VALLEY        | 10025    | R4                             | 13  CONDOS - ELEVATOR APARTMENTS | 372 CENTRAL PARK WEST, 17V\n",
       "2017-03-23 00:00:00 | 1730000    | 101 WEST 24TH STREET   | 29H              | 2006       | CHELSEA                 | 10011    | R4                             | 13 CONDOS - ELEVATOR APARTMENTS  | 101 WEST 24TH STREET, 29H\n",
       "2015-12-18 00:00:00 | 5500000    | 500 PARK AVENUE        | 19B              | 0          | MIDTOWN CBD             | 10022    | R4                             | 13  CONDOS - ELEVATOR APARTMENTS | 500 PARK AVENUE, 19B"
      ]
     },
     "execution_count": 17,
     "metadata": {},
     "output_type": "execute_result"
    }
   ],
   "source": [
    "condos = all_sales_data.where('BUILDING CLASS AT TIME OF SALE', are.contained_in(\"R1R2R3R4R6\"))\n",
    "\n",
    "# Spot Check condo data\n",
    "condos.sample(10)"
   ]
  },
  {
   "cell_type": "markdown",
   "metadata": {},
   "source": [
    "Let's find condos with multiple sales"
   ]
  },
  {
   "cell_type": "code",
   "execution_count": 18,
   "metadata": {},
   "outputs": [
    {
     "data": {
      "text/html": [
       "<table border=\"1\" class=\"dataframe\">\n",
       "    <thead>\n",
       "        <tr>\n",
       "            <th>FULL ADDRESS</th> <th>count</th>\n",
       "        </tr>\n",
       "    </thead>\n",
       "    <tbody>\n",
       "        <tr>\n",
       "            <td>1 WEST END AVENUE        </td> <td>136  </td>\n",
       "        </tr>\n",
       "        <tr>\n",
       "            <td>45 EAST 22ND   STREET    </td> <td>51   </td>\n",
       "        </tr>\n",
       "        <tr>\n",
       "            <td>245 WEST 99TH STREET     </td> <td>51   </td>\n",
       "        </tr>\n",
       "        <tr>\n",
       "            <td>171 WEST 131 STREET      </td> <td>44   </td>\n",
       "        </tr>\n",
       "        <tr>\n",
       "            <td>959 1 AVENUE             </td> <td>42   </td>\n",
       "        </tr>\n",
       "        <tr>\n",
       "            <td>416 WEST 52ND STREET     </td> <td>39   </td>\n",
       "        </tr>\n",
       "        <tr>\n",
       "            <td>245 WEST 99TH   STREET   </td> <td>37   </td>\n",
       "        </tr>\n",
       "        <tr>\n",
       "            <td>2094 FREDRICK DOUGLASS BL</td> <td>35   </td>\n",
       "        </tr>\n",
       "        <tr>\n",
       "            <td>172 MADISON AVENUE       </td> <td>35   </td>\n",
       "        </tr>\n",
       "        <tr>\n",
       "            <td>360 EAST 89TH   STREET   </td> <td>23   </td>\n",
       "        </tr>\n",
       "    </tbody>\n",
       "</table>\n",
       "<p>... (86376 rows omitted)</p>"
      ],
      "text/plain": [
       "FULL ADDRESS              | count\n",
       "1 WEST END AVENUE         | 136\n",
       "45 EAST 22ND   STREET     | 51\n",
       "245 WEST 99TH STREET      | 51\n",
       "171 WEST 131 STREET       | 44\n",
       "959 1 AVENUE              | 42\n",
       "416 WEST 52ND STREET      | 39\n",
       "245 WEST 99TH   STREET    | 37\n",
       "2094 FREDRICK DOUGLASS BL | 35\n",
       "172 MADISON AVENUE        | 35\n",
       "360 EAST 89TH   STREET    | 23\n",
       "... (86376 rows omitted)"
      ]
     },
     "execution_count": 18,
     "metadata": {},
     "output_type": "execute_result"
    }
   ],
   "source": [
    "condos.group(COL_FULL_ADDRESS).sort(1, descending=True)"
   ]
  },
  {
   "cell_type": "markdown",
   "metadata": {},
   "source": [
    "It looks like apt numbers are missing for most of the top sales. In order to focus on manhattan apartments let's ignore anything without an apt number. i.e. anything without a ',' (comma) in the Full Address"
   ]
  },
  {
   "cell_type": "code",
   "execution_count": null,
   "metadata": {},
   "outputs": [
    {
     "data": {
      "text/html": [
       "<table border=\"1\" class=\"dataframe\">\n",
       "    <thead>\n",
       "        <tr>\n",
       "            <th>FULL ADDRESS</th> <th>count</th>\n",
       "        </tr>\n",
       "    </thead>\n",
       "    <tbody>\n",
       "        <tr>\n",
       "            <td>2 EAST 55 STREET, 835        </td> <td>8    </td>\n",
       "        </tr>\n",
       "        <tr>\n",
       "            <td>2 EAST 55TH   STREET, 935    </td> <td>7    </td>\n",
       "        </tr>\n",
       "        <tr>\n",
       "            <td>2 EAST 55 STREET, 921        </td> <td>7    </td>\n",
       "        </tr>\n",
       "        <tr>\n",
       "            <td>2 EAST 55 STREET, 936        </td> <td>6    </td>\n",
       "        </tr>\n",
       "        <tr>\n",
       "            <td>2 EAST 55 STREET, 903        </td> <td>6    </td>\n",
       "        </tr>\n",
       "        <tr>\n",
       "            <td>1420 YORK AVENUE, 5M         </td> <td>6    </td>\n",
       "        </tr>\n",
       "        <tr>\n",
       "            <td>140 7 AVENUE, 6A             </td> <td>6    </td>\n",
       "        </tr>\n",
       "        <tr>\n",
       "            <td>900 PARK AVENUE, 27E         </td> <td>5    </td>\n",
       "        </tr>\n",
       "        <tr>\n",
       "            <td>90 WILLIAM STREET, 2A        </td> <td>5    </td>\n",
       "        </tr>\n",
       "        <tr>\n",
       "            <td>845 UNITED NATIONS PLAZA, 24F</td> <td>5    </td>\n",
       "        </tr>\n",
       "    </tbody>\n",
       "</table>\n",
       "<p>... (15861 rows omitted)</p>"
      ],
      "text/plain": [
       "FULL ADDRESS                  | count\n",
       "2 EAST 55 STREET, 835         | 8\n",
       "2 EAST 55TH   STREET, 935     | 7\n",
       "2 EAST 55 STREET, 921         | 7\n",
       "2 EAST 55 STREET, 936         | 6\n",
       "2 EAST 55 STREET, 903         | 6\n",
       "1420 YORK AVENUE, 5M          | 6\n",
       "140 7 AVENUE, 6A              | 6\n",
       "900 PARK AVENUE, 27E          | 5\n",
       "90 WILLIAM STREET, 2A         | 5\n",
       "845 UNITED NATIONS PLAZA, 24F | 5\n",
       "... (15861 rows omitted)"
      ]
     },
     "execution_count": 19,
     "metadata": {},
     "output_type": "execute_result"
    }
   ],
   "source": [
    "multi_sale_condos = condos.where(COL_FULL_ADDRESS, are.containing(',')).group(COL_FULL_ADDRESS).sort(1, descending=True).where('count', are.above(1))\n",
    "multi_sale_condos"
   ]
  },
  {
   "cell_type": "markdown",
   "metadata": {},
   "source": [
    "There are a lot less records with apt numbers, but still roughly 16K records enough to proceed."
   ]
  },
  {
   "cell_type": "code",
   "execution_count": null,
   "metadata": {},
   "outputs": [
    {
     "data": {
      "text/html": [
       "<table border=\"1\" class=\"dataframe\">\n",
       "    <thead>\n",
       "        <tr>\n",
       "            <th>FULL ADDRESS</th> <th>count</th> <th>SALE DATE</th> <th>SALE PRICE</th> <th>ADDRESS</th> <th>APARTMENT NUMBER</th> <th>YEAR BUILT</th> <th>NEIGHBORHOOD</th> <th>ZIP CODE</th> <th>BUILDING CLASS AT TIME OF SALE</th> <th>BUILDING CLASS CATEGORY</th>\n",
       "        </tr>\n",
       "    </thead>\n",
       "    <tbody>\n",
       "        <tr>\n",
       "            <td>1 BOND STREET, 2B</td> <td>2    </td> <td>2004-08-04 00:00:00</td> <td>31000     </td> <td>1 BOND STREET</td> <td>2B              </td> <td>0         </td> <td>GREENWICH VILLAGE-CENTRAL</td> <td>10012   </td> <td>R4                            </td> <td>13  CONDOS - ELEVATOR APARTMENTS</td>\n",
       "        </tr>\n",
       "        <tr>\n",
       "            <td>1 BOND STREET, 2B</td> <td>2    </td> <td>2009-08-20 00:00:00</td> <td>1591000   </td> <td>1 BOND STREET</td> <td>2B              </td> <td>0         </td> <td>GREENWICH VILLAGE-CENTRAL</td> <td>10012   </td> <td>R4                            </td> <td>13  CONDOS - ELEVATOR APARTMENTS</td>\n",
       "        </tr>\n",
       "        <tr>\n",
       "            <td>1 BOND STREET, 2C</td> <td>2    </td> <td>2017-08-18 00:00:00</td> <td>5640000   </td> <td>1 BOND STREET</td> <td>2C              </td> <td>0         </td> <td>GREENWICH VILLAGE-CENTRAL</td> <td>10012   </td> <td>R4                            </td> <td>13 CONDOS - ELEVATOR APARTMENTS </td>\n",
       "        </tr>\n",
       "        <tr>\n",
       "            <td>1 BOND STREET, 2C</td> <td>2    </td> <td>2010-12-15 00:00:00</td> <td>600000    </td> <td>1 BOND STREET</td> <td>2C              </td> <td>0         </td> <td>GREENWICH VILLAGE-CENTRAL</td> <td>10012   </td> <td>R4                            </td> <td>13  CONDOS - ELEVATOR APARTMENTS</td>\n",
       "        </tr>\n",
       "        <tr>\n",
       "            <td>1 BOND STREET, 2D</td> <td>2    </td> <td>2009-04-24 00:00:00</td> <td>1195000   </td> <td>1 BOND STREET</td> <td>2D              </td> <td>0         </td> <td>GREENWICH VILLAGE-CENTRAL</td> <td>10012   </td> <td>R4                            </td> <td>13  CONDOS - ELEVATOR APARTMENTS</td>\n",
       "        </tr>\n",
       "        <tr>\n",
       "            <td>1 BOND STREET, 2D</td> <td>2    </td> <td>2014-01-07 00:00:00</td> <td>1925000   </td> <td>1 BOND STREET</td> <td>2D              </td> <td>0         </td> <td>GREENWICH VILLAGE-CENTRAL</td> <td>10012   </td> <td>R4                            </td> <td>13  CONDOS - ELEVATOR APARTMENTS</td>\n",
       "        </tr>\n",
       "        <tr>\n",
       "            <td>1 BOND STREET, 3A</td> <td>2    </td> <td>2013-06-14 00:00:00</td> <td>7200000   </td> <td>1 BOND STREET</td> <td>3A              </td> <td>0         </td> <td>GREENWICH VILLAGE-CENTRAL</td> <td>10012   </td> <td>R4                            </td> <td>13  CONDOS - ELEVATOR APARTMENTS</td>\n",
       "        </tr>\n",
       "        <tr>\n",
       "            <td>1 BOND STREET, 3A</td> <td>2    </td> <td>2008-06-06 00:00:00</td> <td>5030000   </td> <td>1 BOND STREET</td> <td>3A              </td> <td>0         </td> <td>GREENWICH VILLAGE-CENTRAL</td> <td>10012   </td> <td>R4                            </td> <td>13  CONDOS - ELEVATOR APARTMENTS</td>\n",
       "        </tr>\n",
       "        <tr>\n",
       "            <td>1 BOND STREET, 4D</td> <td>2    </td> <td>2006-08-30 00:00:00</td> <td>1565000   </td> <td>1 BOND STREET</td> <td>4D              </td> <td>0         </td> <td>GREENWICH VILLAGE-CENTRAL</td> <td>10012   </td> <td>R4                            </td> <td>13  CONDOS - ELEVATOR APARTMENTS</td>\n",
       "        </tr>\n",
       "        <tr>\n",
       "            <td>1 BOND STREET, 4D</td> <td>2    </td> <td>2013-08-20 00:00:00</td> <td>2415000   </td> <td>1 BOND STREET</td> <td>4D              </td> <td>0         </td> <td>GREENWICH VILLAGE-CENTRAL</td> <td>10012   </td> <td>R4                            </td> <td>13  CONDOS - ELEVATOR APARTMENTS</td>\n",
       "        </tr>\n",
       "    </tbody>\n",
       "</table>\n",
       "<p>... (34577 rows omitted)</p>"
      ],
      "text/plain": [
       "FULL ADDRESS      | count | SALE DATE           | SALE PRICE | ADDRESS       | APARTMENT NUMBER | YEAR BUILT | NEIGHBORHOOD              | ZIP CODE | BUILDING CLASS AT TIME OF SALE | BUILDING CLASS CATEGORY\n",
       "1 BOND STREET, 2B | 2     | 2004-08-04 00:00:00 | 31000      | 1 BOND STREET | 2B               | 0          | GREENWICH VILLAGE-CENTRAL | 10012    | R4                             | 13  CONDOS - ELEVATOR APARTMENTS\n",
       "1 BOND STREET, 2B | 2     | 2009-08-20 00:00:00 | 1591000    | 1 BOND STREET | 2B               | 0          | GREENWICH VILLAGE-CENTRAL | 10012    | R4                             | 13  CONDOS - ELEVATOR APARTMENTS\n",
       "1 BOND STREET, 2C | 2     | 2017-08-18 00:00:00 | 5640000    | 1 BOND STREET | 2C               | 0          | GREENWICH VILLAGE-CENTRAL | 10012    | R4                             | 13 CONDOS - ELEVATOR APARTMENTS\n",
       "1 BOND STREET, 2C | 2     | 2010-12-15 00:00:00 | 600000     | 1 BOND STREET | 2C               | 0          | GREENWICH VILLAGE-CENTRAL | 10012    | R4                             | 13  CONDOS - ELEVATOR APARTMENTS\n",
       "1 BOND STREET, 2D | 2     | 2009-04-24 00:00:00 | 1195000    | 1 BOND STREET | 2D               | 0          | GREENWICH VILLAGE-CENTRAL | 10012    | R4                             | 13  CONDOS - ELEVATOR APARTMENTS\n",
       "1 BOND STREET, 2D | 2     | 2014-01-07 00:00:00 | 1925000    | 1 BOND STREET | 2D               | 0          | GREENWICH VILLAGE-CENTRAL | 10012    | R4                             | 13  CONDOS - ELEVATOR APARTMENTS\n",
       "1 BOND STREET, 3A | 2     | 2013-06-14 00:00:00 | 7200000    | 1 BOND STREET | 3A               | 0          | GREENWICH VILLAGE-CENTRAL | 10012    | R4                             | 13  CONDOS - ELEVATOR APARTMENTS\n",
       "1 BOND STREET, 3A | 2     | 2008-06-06 00:00:00 | 5030000    | 1 BOND STREET | 3A               | 0          | GREENWICH VILLAGE-CENTRAL | 10012    | R4                             | 13  CONDOS - ELEVATOR APARTMENTS\n",
       "1 BOND STREET, 4D | 2     | 2006-08-30 00:00:00 | 1565000    | 1 BOND STREET | 4D               | 0          | GREENWICH VILLAGE-CENTRAL | 10012    | R4                             | 13  CONDOS - ELEVATOR APARTMENTS\n",
       "1 BOND STREET, 4D | 2     | 2013-08-20 00:00:00 | 2415000    | 1 BOND STREET | 4D               | 0          | GREENWICH VILLAGE-CENTRAL | 10012    | R4                             | 13  CONDOS - ELEVATOR APARTMENTS\n",
       "... (34577 rows omitted)"
      ]
     },
     "execution_count": 20,
     "metadata": {},
     "output_type": "execute_result"
    }
   ],
   "source": [
    "# Define a new table for condos with multiple sales. \n",
    "\n",
    "multi_sale_condos = multi_sale_condos.join(COL_FULL_ADDRESS, condos)\n",
    "multi_sale_condos.sort(0)"
   ]
  },
  {
   "cell_type": "markdown",
   "metadata": {},
   "source": [
    "## Find the first and last sale date for each condo"
   ]
  },
  {
   "cell_type": "code",
   "execution_count": null,
   "metadata": {},
   "outputs": [],
   "source": [
    "purchase_dates = multi_sale_condos.select(COL_FULL_ADDRESS, COL_SALE_DATE).group([0], min)\n",
    "sold_dates = multi_sale_condos.select(COL_FULL_ADDRESS, COL_SALE_DATE).group([0], max)\n",
    "\n",
    "# Note for the purposes of this analysis, we can ignore any additnal sales between min and max dates\n",
    "\n",
    "# Spot check data\n",
    "purchase_dates.show(5)\n",
    "sold_dates.show(5)"
   ]
  },
  {
   "cell_type": "code",
   "execution_count": null,
   "metadata": {},
   "outputs": [],
   "source": [
    "# Update Labels\n",
    "\n",
    "purchase_dates = purchase_dates.relabel(1, COL_PURCHASE_DATE)\n",
    "sold_dates = sold_dates.relabel(1, COL_SOLD_DATE)"
   ]
  },
  {
   "cell_type": "code",
   "execution_count": null,
   "metadata": {},
   "outputs": [],
   "source": [
    "# Join with Condos to get the sale price\n",
    "purchase_dates = purchase_dates.join(COL_FULL_ADDRESS, condos, COL_FULL_ADDRESS).where(COL_SALE_DATE, are.equal_to, COL_PURCHASE_DATE)\n",
    "purchase_dates = purchase_dates.select( COL_FULL_ADDRESS, COL_PURCHASE_DATE, COL_SALE_PRICE)\n",
    "\n",
    "\n",
    "sold_dates = sold_dates.join(COL_FULL_ADDRESS, condos, COL_FULL_ADDRESS).where(COL_SALE_DATE, are.equal_to, COL_SOLD_DATE)\n",
    "sold_dates = sold_dates.select( COL_FULL_ADDRESS, COL_SOLD_DATE, COL_SALE_PRICE)\n"
   ]
  },
  {
   "cell_type": "code",
   "execution_count": null,
   "metadata": {},
   "outputs": [],
   "source": [
    "purchase_dates.show(5)\n",
    "sold_dates.show(5)\n",
    "\n",
    "# Hmm earlier we had 16187 now we have more! Could we have multiple sale records for the same date??"
   ]
  },
  {
   "cell_type": "code",
   "execution_count": null,
   "metadata": {},
   "outputs": [],
   "source": [
    "# Yep duplicate sales on the same day!\n",
    "\n",
    "purchase_dates.groups([COL_FULL_ADDRESS, COL_PURCHASE_DATE]).sort(2, descending=True).where(2, are.above(1))"
   ]
  },
  {
   "cell_type": "code",
   "execution_count": null,
   "metadata": {},
   "outputs": [],
   "source": [
    "# Spot check some duplicate addresses to understand what's going on\n",
    "condos.where(COL_FULL_ADDRESS, are.equal_to('2 EAST 55 STREET, 921'))"
   ]
  },
  {
   "cell_type": "code",
   "execution_count": null,
   "metadata": {},
   "outputs": [],
   "source": [
    "# It's not really clear what might be going on. Let's just take the corresponding min and max value to keep moving along\n",
    "\n",
    "purchase_dates = purchase_dates.group([COL_FULL_ADDRESS, COL_PURCHASE_DATE], min)\n",
    "sold_dates = sold_dates.group([COL_FULL_ADDRESS, COL_SOLD_DATE], max)\n"
   ]
  },
  {
   "cell_type": "code",
   "execution_count": null,
   "metadata": {},
   "outputs": [],
   "source": [
    "# Relabel and join the first and last sale tables to create a new condo sales table\n",
    "\n",
    "purchase_dates = purchase_dates.relabel(2, COL_PURCHASE_PRICE)\n",
    "sold_dates = sold_dates.relabel(2, COL_SOLD_PRICE)\n",
    "\n",
    "\n",
    "condo_sales = purchase_dates.join(COL_FULL_ADDRESS, sold_dates, COL_FULL_ADDRESS)\n",
    "condo_sales"
   ]
  },
  {
   "cell_type": "code",
   "execution_count": null,
   "metadata": {},
   "outputs": [],
   "source": [
    "# Calculate Price and date Diffs\n",
    "\n",
    "price_diffs = condo_sales.column(COL_SOLD_PRICE) - condo_sales.column(COL_PURCHASE_PRICE)\n",
    "date_diffs = condo_sales.column(COL_SOLD_DATE) - condo_sales.column(COL_PURCHASE_DATE)\n",
    "\n",
    "date_diffs = [ d.days for d in date_diffs ]\n",
    "\n",
    "\n",
    "condo_sales = condo_sales.with_column( COL_PRICE_CHANGE, price_diffs, COL_PERIOD, date_diffs)\n",
    "condo_sales.set_format(COL_PRICE_CHANGE, NumberFormatter())"
   ]
  },
  {
   "cell_type": "code",
   "execution_count": null,
   "metadata": {},
   "outputs": [],
   "source": [
    "# Understand price difference data\n",
    "col_stats(condo_sales, COL_PRICE_CHANGE)\n"
   ]
  },
  {
   "cell_type": "markdown",
   "metadata": {},
   "source": [
    "There look to be some signifiant outliers here. The 99 percentile is 5 but the max is 44 MM a significant. The min value is -183MM, a 183 million dollor loss! \n",
    "\n",
    "Let's remove outliers so they dont imapact pricing analysis, but we definitely need to come back and look into what happened here. "
   ]
  },
  {
   "cell_type": "code",
   "execution_count": null,
   "metadata": {},
   "outputs": [],
   "source": [
    "# strip out the Price chnage outliers . \n",
    "percent_1 = percentile(1, price_diffs)\n",
    "percent_99 = percentile(99, price_diffs)\n",
    "\n",
    "largest_losses = condo_sales.where(COL_PRICE_CHANGE, are.below_or_equal_to(percent_1))\n",
    "largest_gains = condo_sales.where(COL_PRICE_CHANGE, are.above_or_equal_to(percent_99))\n",
    "\n",
    "condo_sales = condo_sales.where(COL_PRICE_CHANGE, are.between(percent_1, percent_99))\n",
    "col_stats(condo_sales, COL_PRICE_CHANGE)"
   ]
  },
  {
   "cell_type": "markdown",
   "metadata": {},
   "source": [
    "The data is starting to look like a normal distribution"
   ]
  },
  {
   "cell_type": "code",
   "execution_count": null,
   "metadata": {},
   "outputs": [],
   "source": [
    "# Some sales are on recorded twice for the same date!\n",
    "\n",
    "condo_sales.where( COL_PURCHASE_DATE, are.equal_to, COL_SOLD_DATE )\n"
   ]
  },
  {
   "cell_type": "code",
   "execution_count": null,
   "metadata": {},
   "outputs": [],
   "source": [
    "# Let's spot check these\n",
    "\n",
    "all_sales_data.where(COL_FULL_ADDRESS, are.equal_to('100 CENTRAL PARK SOUTH, 4B')).sort(0)\n",
    "\n",
    "# These look to be duplicate records, Let's ignore for now"
   ]
  },
  {
   "cell_type": "code",
   "execution_count": null,
   "metadata": {},
   "outputs": [],
   "source": [
    "# Ignore multiple sales on same date\n",
    "\n",
    "condo_sales = condo_sales.where( COL_PURCHASE_DATE, are.not_equal_to, COL_SOLD_DATE )\n",
    "\n"
   ]
  },
  {
   "cell_type": "markdown",
   "metadata": {},
   "source": [
    "## Issues with time between sales\n",
    "\n",
    "Looking into the time between 2 sales for the same apartment we find some unusal data"
   ]
  },
  {
   "cell_type": "code",
   "execution_count": null,
   "metadata": {},
   "outputs": [],
   "source": [
    "condo_sales.sort(COL_PERIOD)"
   ]
  },
  {
   "cell_type": "markdown",
   "metadata": {},
   "source": [
    "Still Looks like there is some strange data where the sale dates are a few days apart, for most regular sale cycles we expect a gap of atleast 60-90 days. \n",
    "Let's ignore anything less that 3 months apart i.e. 90 days. \n"
   ]
  },
  {
   "cell_type": "code",
   "execution_count": null,
   "metadata": {},
   "outputs": [],
   "source": [
    "condo_sales = condo_sales.where( COL_PERIOD, are.above(90) )"
   ]
  },
  {
   "cell_type": "markdown",
   "metadata": {},
   "source": [
    "## Time between sales"
   ]
  },
  {
   "cell_type": "code",
   "execution_count": null,
   "metadata": {},
   "outputs": [],
   "source": [
    "col_stats(condo_sales, COL_PERIOD)"
   ]
  },
  {
   "cell_type": "markdown",
   "metadata": {},
   "source": [
    "## Average Daily Price Change\n",
    "\n",
    "Let's calulate the average daily price change to spot any other odd data. "
   ]
  },
  {
   "cell_type": "code",
   "execution_count": null,
   "metadata": {},
   "outputs": [],
   "source": [
    "daily_change = condo_sales.column(COL_PRICE_CHANGE) / condo_sales.column(COL_PERIOD) \n",
    "\n",
    "condo_sales = condo_sales.with_column(COL_DAILY_PRICE_CHANGE , daily_change ).sort(COL_DAILY_PRICE_CHANGE, descending=True)\n",
    "condo_sales"
   ]
  },
  {
   "cell_type": "code",
   "execution_count": null,
   "metadata": {},
   "outputs": [],
   "source": [
    "col_stats(condo_sales, COL_DAILY_PRICE_CHANGE)\n",
    "draw_hist(condo_sales, COL_DAILY_PRICE_CHANGE, 1)\n",
    "\n",
    "## There are some significant outliers"
   ]
  },
  {
   "cell_type": "markdown",
   "metadata": {},
   "source": [
    "There could be a variety of reasons for the outliers. Perhaps they underpriced for when purchased and then corrected when sold later. Again I'd be intresting to investigate further, but for the purposes of this analysis let's ignore the outliers for now. "
   ]
  },
  {
   "cell_type": "code",
   "execution_count": null,
   "metadata": {},
   "outputs": [],
   "source": [
    "# strip out the Dailys Price change outliers. \n",
    "price_change_diffs = condo_sales.column(COL_DAILY_PRICE_CHANGE)\n",
    "\n",
    "percent_1 = percentile(1, price_change_diffs)\n",
    "percent_99 = percentile(99, price_change_diffs)\n",
    "\n",
    "condo_sales = condo_sales.where(COL_DAILY_PRICE_CHANGE, are.between(percent_1, percent_99))\n"
   ]
  },
  {
   "cell_type": "markdown",
   "metadata": {},
   "source": [
    "# Step 3: NYC Sale data analysis"
   ]
  },
  {
   "cell_type": "markdown",
   "metadata": {},
   "source": [
    "# Understanding the data\n",
    "\n",
    "Let's try to get an overview of the data by looking at the movement of the average sale price per year."
   ]
  },
  {
   "cell_type": "code",
   "execution_count": null,
   "metadata": {},
   "outputs": [],
   "source": [
    "years = [ d.year for d in condos.column(COL_SALE_DATE) ]\n",
    "\n",
    "months = [ d.month for d in condos.column(COL_SALE_DATE) ]\n",
    "\n",
    "condos = condos.with_column('SALE_YEAR', years, 'SALE_MONTH', months)\n",
    "\n",
    "condo_mean = condos.select(COL_SALE_YEAR, COL_SALE_PRICE).group(COL_SALE_YEAR, np.mean).sort(0)\n",
    "condo_mean.plot(COL_SALE_YEAR)\n",
    "\n"
   ]
  },
  {
   "cell_type": "markdown",
   "metadata": {},
   "source": [
    "## Sales by neighbourhood \n",
    "\n",
    "Also helpful to usederstand how prices have changed in different neighborhoods. "
   ]
  },
  {
   "cell_type": "code",
   "execution_count": null,
   "metadata": {},
   "outputs": [],
   "source": [
    "neighborhoods = condos.group('NEIGHBORHOOD').sort(0).column(0)\n",
    "\n",
    "\n",
    "def plot_neighborhood(neighborhood:str):\n",
    "    '''Plot the average sale for a specified neign'''\n",
    "    condos.where('NEIGHBORHOOD', are.equal_to(neighborhood)).select(COL_SALE_YEAR, COL_SALE_PRICE).group(0, np.mean).plot(0, label=neighborhood)\n",
    "    plots.title = neighborhood\n",
    "    plots.plot(condo_mean.column(0), condo_mean.column(1), color='gold', label='' )\n",
    "    return\n",
    "\n",
    "ignnore = interact(plot_neighborhood, neighborhood=neighborhoods)\n"
   ]
  },
  {
   "cell_type": "markdown",
   "metadata": {},
   "source": [
    "## Sampling\n",
    "\n",
    "Let's take a deeper dive at apartment sales in 2010 as a sample. Note: we could have selected any range. This is just a random selection to reduce the noise in the data\n",
    "\n"
   ]
  },
  {
   "cell_type": "code",
   "execution_count": null,
   "metadata": {},
   "outputs": [],
   "source": [
    "sales_2010 = condo_sales.where(COL_PURCHASE_DATE, are.between( datetime.datetime(2010, 1, 1), datetime.datetime(2010, 12, 31)))\n",
    "\n",
    "Table().with_columns(\n",
    "    'PERIOD',  sales_2010.column(COL_PERIOD), \n",
    "    'PRICE CHANGE', sales_2010.column(COL_PRICE_CHANGE)\n",
    ").scatter(0, 1, fit_line=True)\n",
    "\n",
    "print('Correlation betweeen Price Change and Time: ', correlation(sales_2010, COL_PERIOD, COL_PRICE_CHANGE))"
   ]
  },
  {
   "cell_type": "markdown",
   "metadata": {},
   "source": [
    "That's a low correlation, I was expectating a closer relationship that is roghly keeping tracking with avg overall sale price we plotted earlier.\n",
    "\n",
    "\n",
    "Ok, let's look at the correlation between the first and last sale price. "
   ]
  },
  {
   "cell_type": "code",
   "execution_count": null,
   "metadata": {},
   "outputs": [],
   "source": [
    "Table().with_columns(\n",
    "    'PURCHASED PRICE',  sales_2010.column(COL_PURCHASE_PRICE), \n",
    "    'SOLD PRICE', sales_2010.column(COL_SOLD_PRICE)\n",
    ").scatter(0, fit_line=True)\n",
    "\n",
    "correlation(sales_2010, COL_PURCHASE_PRICE, COL_SOLD_PRICE)\n",
    "\n"
   ]
  },
  {
   "cell_type": "markdown",
   "metadata": {},
   "source": [
    "Wow that's a really high correlation. According to this we could predict the last sale price of a property, just based on it's first sale price. i.e. independent of the time between sales! \n",
    "\n",
    "Somehting doesn't seem right, we know that the market moves over time. Let's dig in a little deeper and plot the residuals"
   ]
  },
  {
   "cell_type": "code",
   "execution_count": null,
   "metadata": {},
   "outputs": [],
   "source": [
    "a = slope(condo_sales, COL_PURCHASE_PRICE, COL_SOLD_PRICE)\n",
    "b = intercept(condo_sales, COL_PURCHASE_PRICE, COL_SOLD_PRICE)\n",
    "\n",
    "first_prices = condo_sales.column(COL_PURCHASE_PRICE)\n",
    "\n",
    "predicted = first_prices * a + b\n",
    "\n",
    "errors = condo_sales.column(COL_SOLD_PRICE) - predicted\n",
    "\n",
    "\n",
    "Table().with_columns(\n",
    "    'PURCHASE PRICE',  condo_sales.column(COL_PURCHASE_PRICE), \n",
    "    'ERRORS', errors\n",
    ").scatter(0, fit_line=True)\n",
    "\n"
   ]
  },
  {
   "cell_type": "markdown",
   "metadata": {},
   "source": [
    "The residuals are not evenly spread put, also some large outliers are skewing the results so a liner regression model isn't the right approach here.\n",
    "\n",
    "Let's take a deeper look into a particular price bands to see what could be going on. "
   ]
  },
  {
   "cell_type": "code",
   "execution_count": null,
   "metadata": {},
   "outputs": [],
   "source": [
    "price_band = condo_sales.where(COL_PURCHASE_PRICE, are.between(750000, 1000000))\n",
    "\n",
    "price_band.scatter(COL_PURCHASE_PRICE, COL_SOLD_PRICE, fit_line=True)\n",
    "correlation(price_band, COL_PURCHASE_PRICE, COL_SOLD_PRICE)"
   ]
  },
  {
   "cell_type": "markdown",
   "metadata": {},
   "source": [
    "Now the correlation is much lower, The data is more spread out. Also a average seems to skew a little higher do the outliers a visible in the chart.\n",
    "\n",
    "## Removing Outliers\n",
    "\n",
    "Let's look at the purchase price outliers"
   ]
  },
  {
   "cell_type": "code",
   "execution_count": null,
   "metadata": {},
   "outputs": [],
   "source": [
    "col_stats(condo_sales, COL_PURCHASE_PRICE)"
   ]
  },
  {
   "cell_type": "markdown",
   "metadata": {},
   "source": [
    "Let's remove the ouliers so we can get a better picture of the data. "
   ]
  },
  {
   "cell_type": "code",
   "execution_count": null,
   "metadata": {},
   "outputs": [],
   "source": [
    "purchase_prices = condo_sales.column(COL_PURCHASE_PRICE)\n",
    "\n",
    "percent_1 = percentile(1, purchase_prices)\n",
    "percent_99 = percentile(99, purchase_prices)\n",
    "\n",
    "condo_sales = condo_sales.where(COL_PURCHASE_PRICE, are.between(percent_1, percent_99))\n",
    "col_stats(condo_sales, COL_PURCHASE_PRICE)"
   ]
  },
  {
   "cell_type": "markdown",
   "metadata": {},
   "source": [
    "much better!"
   ]
  },
  {
   "cell_type": "markdown",
   "metadata": {},
   "source": [
    "# Price change % \n",
    "\n",
    "Now let's calculate the price change as a % of the purchase price."
   ]
  },
  {
   "cell_type": "code",
   "execution_count": null,
   "metadata": {},
   "outputs": [],
   "source": [
    "percents = sales_2010.column(COL_PRICE_CHANGE) / sales_2010.column(COL_PURCHASE_PRICE) * 100\n",
    "\n",
    "COL_PRICE_PERCENT = 'PRICE CHANGE %'\n",
    "\n",
    "sales_2010 = sales_2010.with_column(COL_PRICE_PERCENT, percents)\n",
    "\n"
   ]
  },
  {
   "cell_type": "markdown",
   "metadata": {},
   "source": [
    "## Sanitize price change % \n",
    "\n",
    "Looking into how  the price change % data is distributed. Again we need to clean out the outliers."
   ]
  },
  {
   "cell_type": "code",
   "execution_count": null,
   "metadata": {},
   "outputs": [],
   "source": [
    "\n",
    "col_stats(sales_2010, COL_PRICE_PERCENT)\n",
    "draw_hist(sales_2010, COL_PRICE_PERCENT, 2)"
   ]
  },
  {
   "cell_type": "code",
   "execution_count": null,
   "metadata": {},
   "outputs": [],
   "source": [
    "# strip out the Price Percent change outliers. \n",
    "\n",
    "price_changes = sales_2010.column(COL_PRICE_PERCENT)\n",
    "\n",
    "percent_2 = percentile(2, price_changes)\n",
    "percent_98 = percentile(98, price_changes)\n",
    "\n",
    "sales_2010 = sales_2010.where(COL_PRICE_PERCENT, are.between(percent_2, percent_98))\n",
    "\n"
   ]
  },
  {
   "cell_type": "code",
   "execution_count": null,
   "metadata": {},
   "outputs": [],
   "source": [
    "sales_2010.scatter(COL_PERIOD, COL_PRICE_PERCENT, fit_line=True)\n",
    "correlation(sales_2010, COL_PERIOD, COL_PRICE_PERCENT)"
   ]
  },
  {
   "cell_type": "markdown",
   "metadata": {},
   "source": [
    "Ok there there looks to be an upward trend here and prices changes increase over time. That said the correlation isn't linear. Smoothing the data into monthly (30) intervals look like the following"
   ]
  },
  {
   "cell_type": "code",
   "execution_count": null,
   "metadata": {},
   "outputs": [],
   "source": [
    "\n",
    "periods = sales_2010.column(COL_PERIOD)\n",
    "\n",
    "min_period = min(periods)\n",
    "max_period = max(periods)\n",
    "\n",
    "\n",
    "period_groups = []\n",
    "period_sales = []\n",
    "\n",
    "for i in np.arange(min_period, max_period, 30 ):\n",
    "    period_groups.append(i)\n",
    "    period_sales.append(np.mean(sales_2010.where(COL_PERIOD, are.between(i, i+30)).column(COL_PRICE_PERCENT)))\n",
    "    \n",
    "\n",
    "Table().with_columns(\n",
    "    COL_PERIOD,  period_groups, \n",
    "    COL_PRICE_PERCENT, period_sales\n",
    ").scatter(0)"
   ]
  },
  {
   "cell_type": "markdown",
   "metadata": {},
   "source": [
    "Defintitely shows a trend! \n",
    "\n",
    "Let's take a look at other years"
   ]
  },
  {
   "cell_type": "code",
   "execution_count": null,
   "metadata": {},
   "outputs": [],
   "source": [
    "# Trim the outliers. \n",
    "percents = condo_sales.column(COL_PRICE_CHANGE) / condo_sales.column(COL_PURCHASE_PRICE) * 100\n",
    "\n",
    "condo_sales = condo_sales.with_column(COL_PRICE_PERCENT, percents)\n",
    "\n",
    "percent_1 = percentile(1, percents)\n",
    "percent_99 = percentile(99, percents)\n",
    "\n",
    "condo_sales = condo_sales.where(COL_PRICE_PERCENT, are.between(percent_1, percent_99))\n",
    "\n",
    "def plot_price_change_year(year):\n",
    "    ''' Plot the price change % for a given year'''\n",
    "    valid_sales = condo_sales.where(COL_PURCHASE_DATE, are.between_or_equal_to( datetime.datetime(year, 1, 1), datetime.datetime(year+1, 1, 1)))\n",
    "\n",
    "    min_period = min(periods)\n",
    "    max_period = max(periods)\n",
    "\n",
    "\n",
    "    period_groups = []\n",
    "    period_sales = []\n",
    "\n",
    "    for i in np.arange(min_period, max_period, 30 ):\n",
    "        period_groups.append(i)\n",
    "        period_sales.append(np.mean(valid_sales.where(COL_PERIOD, are.between(i, i+30)).column(COL_PRICE_PERCENT)))\n",
    "\n",
    "    Table().with_columns(\n",
    "        COL_PERIOD,  period_groups, \n",
    "        COL_PRICE_PERCENT, period_sales\n",
    "    ).scatter(0)\n",
    "\n",
    "interact(plot_price_change_year, year=np.arange(2003,2019) )\n",
    "\n"
   ]
  },
  {
   "cell_type": "markdown",
   "metadata": {},
   "source": [
    "We can now say there is a a correlation between the price change and time reflective of the overall movement in the market over time. \n",
    "\n",
    "Let's create some prediction models. \n",
    "\n",
    "# Step 4: Predicting NYC property prices"
   ]
  },
  {
   "cell_type": "markdown",
   "metadata": {},
   "source": [
    "## Prediction model: nearest neighbor\n",
    "\n",
    "Our prediction model should use both the purchase price and date for prediction. Let's create it now.\n",
    "\n",
    "We will first convert purchase date, price and sold dates into standard units so they can be used to compute distance. \n",
    "\n",
    "There we will create the training and testing set."
   ]
  },
  {
   "cell_type": "code",
   "execution_count": null,
   "metadata": {},
   "outputs": [],
   "source": [
    "# Convert to standard units\n",
    "purchase_dates_timestamps = [ date.timestamp() for date in condo_sales.column(COL_PURCHASE_DATE)]\n",
    "purchase_dates_su = standard_units(purchase_dates_timestamps)\n",
    "\n",
    "sold_dates_timestamps = [ date.timestamp() for date in condo_sales.column(COL_SOLD_DATE)]\n",
    "sold_dates_su = standard_units(sold_dates_timestamps)\n",
    "\n",
    "purchase_price_su = standard_units(condo_sales.column(COL_PURCHASE_PRICE))\n",
    "\n",
    "condo_sales_su = condo_sales.with_column(\n",
    "    COL_PURCHASE_DATE_SU, purchase_dates_su, \n",
    "    COL_PURCHASE_PRICE_SU, purchase_price_su, \n",
    "    COL_SOLD_DATE_SU, sold_dates_su,\n",
    ")\n",
    "\n",
    "# Create the training and testing sets.\n",
    "training_sales, test_sales = condo_sales_su.split(int(condo_sales.num_rows * 0.6))\n",
    "training_sales\n"
   ]
  },
  {
   "cell_type": "code",
   "execution_count": null,
   "metadata": {},
   "outputs": [],
   "source": [
    "condo_sales_su.to_df().to_csv( output_directory + 'condo_sales.csv', index = False)\n"
   ]
  },
  {
   "cell_type": "code",
   "execution_count": null,
   "metadata": {},
   "outputs": [],
   "source": [
    "# Columns used to the calculate the distance between two point i.e. 2 properties that were purchased and sold. \n",
    "# We picked the purchase date & price and the sold date converted to standard units as the important columns\n",
    "# to use for calculating the distance.\n",
    "distance_columns = [COL_PURCHASE_DATE_SU, COL_PURCHASE_PRICE_SU, COL_SOLD_DATE_SU]\n",
    "\n",
    "\n",
    "\n",
    "def all_distances(training, new_point):\n",
    "    \"\"\"Returns an array of distances\n",
    "    between each point in the training set\n",
    "    and the new point (which is a row of attributes)\"\"\"\n",
    "    attributes = training.select(distance_columns)\n",
    "    return distance.cdist( attributes.to_array().tolist(), [new_point]).flatten()\n",
    "\n",
    "def table_with_distances(training, new_point):\n",
    "    \"\"\"Augments the training table \n",
    "    with a column of distances from new_point\"\"\"\n",
    "    return training.with_column('Distance', all_distances(training, new_point))\n",
    "\n",
    "def closest(training, new_point, k):\n",
    "    \"\"\"Returns a table of the k rows of the augmented table\n",
    "    corresponding to the k smallest distances\"\"\"\n",
    "    with_dists = table_with_distances(training, new_point)\n",
    "    sorted_by_distance = with_dists.sort('Distance')\n",
    "    topk = sorted_by_distance.take(np.arange(k))\n",
    "    return topk\n",
    "\n",
    "def estimate(training, purchase_point, k):\n",
    "    \"\"\"Estimate a price based on nearest neighbours\"\"\"\n",
    "    close_points = closest(training_sales, purchase_point, k)\n",
    "    avg_price_change = np.mean(close_points.column(COL_PRICE_PERCENT))\n",
    "    return avg_price_change\n",
    "\n",
    "def evaluate_accuracy(training, test, k):\n",
    "    \"\"\"Evalute the accuracy of the model generating using training data on test data\"\"\"\n",
    "    # select the columns to compare\n",
    "    test_attributes = test.select(distance_columns)\n",
    "\n",
    "    # compute the predicted change for each test row\n",
    "    def price_testrow(row):\n",
    "        return estimate(training, row, k)\n",
    "\n",
    "    # Calculate the predicted price and error\n",
    "    c = test_attributes.apply(price_testrow)\n",
    "    \n",
    "    estimated = test[COL_PURCHASE_PRICE] * (100 + c )/100\n",
    "    error = (test[COL_SOLD_PRICE] - estimated  ) / test[COL_SOLD_PRICE] * 100\n",
    "    \n",
    "    return test.with_column(\"Estimated\", estimated, 'Error %', error)"
   ]
  },
  {
   "cell_type": "code",
   "execution_count": null,
   "metadata": {},
   "outputs": [],
   "source": [
    "\n",
    "sample_sales =  test_sales\n",
    "estimates = evaluate_accuracy(training_sales, sample_sales, 10)\n"
   ]
  },
  {
   "cell_type": "code",
   "execution_count": null,
   "metadata": {},
   "outputs": [],
   "source": [
    "estimates.scatter(COL_SOLD_PRICE, 'Error %')\n",
    "\n",
    "col_stats(estimates, \"Error %\")"
   ]
  },
  {
   "cell_type": "code",
   "execution_count": null,
   "metadata": {},
   "outputs": [],
   "source": [
    "def predict_sale_price(purchase_price, purchase_date: datetime.date):\n",
    "    \"\"\"Predict the current value based on the purchase price and purchase date.\"\"\"\n",
    "    \n",
    "    purchase_date_timestamp = time.mktime(purchase_date.timetuple())\n",
    "\n",
    "    # Set sold date to now\n",
    "    sold_date = datetime.datetime.now().timestamp()\n",
    "\n",
    "    # calcuate all values in standard units.\n",
    "    purchase_date_su = (purchase_date_timestamp - np.mean(purchase_dates_timestamps)) / np.std(purchase_dates_timestamps)\n",
    "    purchase_price_su = (purchase_price - np.mean(condo_sales.column(COL_PURCHASE_PRICE))) / np.std(condo_sales.column(COL_PURCHASE_PRICE))\n",
    "    sold_date_su = (sold_date - np.mean(sold_dates_timestamps)) / np.std(sold_dates_timestamps)\n",
    "\n",
    "    # debugging\n",
    "    # print(purchase_date_su, purchase_price_su, sold_date_su)\n",
    "\n",
    "    # create a target row to get estimates\n",
    "    target_row = Table(distance_columns)\n",
    "    target_row = target_row.with_row([purchase_date_su,purchase_price_su,sold_date_su ])\n",
    "    \n",
    "    price_change_percent = estimate(training_sales, target_row.row(0), 10)\n",
    "    \n",
    "    price = purchase_price * (1 + price_change_percent / 100)\n",
    "    \n",
    "    display(HTML(\"<H1>Current Price: ${:,.0f} </H1>\".format(price)))\n",
    "#     display(HTML(\"<H2>Estimated Price Change: {:.2f}% </H2>\".format(price_change_percent)))\n",
    "    \n",
    "    display(HTML(\"<H1>Compareable sales</H1>\"))\n",
    "    closest(training_sales, target_row.row(0), 10).drop(distance_columns).show()\n",
    "    \n",
    "style = {'description_width': 'initial'}\n",
    "\n",
    "purchase_price_slider = widgets.IntSlider(\n",
    "    description=\"Purchase Price\",\n",
    "    value=750000,\n",
    "    min=100000,\n",
    "    max=6000000,\n",
    "    step=10000,\n",
    "    disabled=False,\n",
    "    continuous_update=False,\n",
    "    style=style\n",
    "    \n",
    ")\n",
    "\n",
    "purchase_date_picker = widgets.DatePicker(\n",
    "    description='Purchase Date',\n",
    "    disabled=False,\n",
    "    style=style,\n",
    "    value=datetime.date(2010, 1, 1)\n",
    ")"
   ]
  },
  {
   "cell_type": "markdown",
   "metadata": {},
   "source": [
    "# Price Predictor\n",
    "\n",
    "Enter the **purchase price and date** of an apartment to see it's current price and comparable sales"
   ]
  },
  {
   "cell_type": "code",
   "execution_count": null,
   "metadata": {},
   "outputs": [],
   "source": [
    "style = {'description_width': 'initial'}\n",
    "IntSlider(description='A too long description', style=style)\n",
    "\n",
    "_ = interact( predict_sale_price, purchase_price=purchase_price_slider, purchase_date=purchase_date_picker, )"
   ]
  },
  {
   "cell_type": "markdown",
   "metadata": {},
   "source": [
    "# Furhter Explorations\n",
    "\n",
    "It would be interesting furhter explore this data by:\n",
    "\n",
    "1. Applying different weights to the distanace calculations. e.g. The purchase price should be more important than the other attributes. \n",
    "2. Including location when calculating the distance between two properties. \n",
    "3. Including co-ops.\n",
    "\n",
    "If you have suggestions or thoughts, I would appreciate if you share them using the questions section below. \n",
    "\n",
    "Thank you for reading!"
   ]
  }
 ],
 "metadata": {
  "kernelspec": {
   "display_name": "Python 3",
   "language": "python",
   "name": "python3"
  },
  "language_info": {
   "codemirror_mode": {
    "name": "ipython",
    "version": 3
   },
   "file_extension": ".py",
   "mimetype": "text/x-python",
   "name": "python",
   "nbconvert_exporter": "python",
   "pygments_lexer": "ipython3",
   "version": "3.7.0"
  }
 },
 "nbformat": 4,
 "nbformat_minor": 1
}
