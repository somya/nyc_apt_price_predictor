{
 "cells": [
  {
   "cell_type": "markdown",
   "metadata": {},
   "source": [
    "# Predicting NYC apartment's value with open data\n",
    "\n",
    "**tldr;** Boldly predict a NYC apartments market value using only public / open data. Check out the [Price Predictor](#Price-Predictor).\n",
    "\n",
    "\n",
    "Any good brokers in NYC will use a variety of factors to determine the value of your apartment, including:\n",
    "\n",
    "1. Recent sales in your building / Neighbourhood\n",
    "2. Square footage\n",
    "3. Renovation status\n",
    "4. View, closeness to subway, # of bedrooms etc. \n",
    "\n",
    "Unfortunately this data, is not easily available for the purposes of analysis. Note: it's available on Streeteasy and other REBNY memebers but not easily available for data analysis.\n",
    "\n",
    "Here I present an alternative approach to pricing NYC apartments with only public data from [NYC Open Data](https://opendata.cityofnewyork.us/). \n"
   ]
  },
  {
   "cell_type": "code",
   "execution_count": 1,
   "metadata": {},
   "outputs": [],
   "source": [
    "import numpy as np\n",
    "import pandas as pd\n",
    "import datetime\n",
    "from scipy.spatial import distance\n",
    "\n",
    "import ipywidgets as widgets\n",
    "from ipywidgets import IntSlider\n",
    "\n",
    "from datascience import *\n",
    "from datetime import timedelta\n",
    "from datetime import date\n",
    "from datetime import datetime\n",
    "import time\n",
    "\n",
    "from IPython.display import display\n",
    "from IPython.display import HTML\n",
    "\n",
    "# from __future__ import print_function\n",
    "from ipywidgets import interact, interactive, fixed, interact_manual\n",
    "import ipywidgets as widgets\n",
    "\n",
    "%matplotlib inline\n",
    "import matplotlib.pyplot as plots\n",
    "plots.style.use('fivethirtyeight')\n",
    "\n",
    "\n",
    "import locale\n",
    "%load_ext line_profiler\n",
    "import os\n",
    "import xlrd as xlrd"
   ]
  },
  {
   "cell_type": "markdown",
   "metadata": {},
   "source": [
    "# Constants\n",
    "\n",
    "Let's define some constants to help make our code more readable"
   ]
  },
  {
   "cell_type": "code",
   "execution_count": 2,
   "metadata": {},
   "outputs": [],
   "source": [
    "\n",
    "\n",
    "# Constants\n",
    "raw_directory = \"input/\"\n",
    "output_directory = \"output/\"\n",
    "\n",
    "\n",
    "# Declare column names to allow for auto completion :)\n",
    "\n",
    "COL_SALE_DATE = 'SALE DATE'\n",
    "\n",
    "COL_PURCHASE_DATE = 'PURCHASE DATE'\n",
    "COL_SOLD_DATE = 'SOLD DATE'\n",
    "COL_PURCHASE_PRICE = 'PURCHASE PRICE'\n",
    "COL_SOLD_PRICE = 'SOLD PRICE'\n",
    "COL_FULL_ADDRESS = 'FULL ADDRESS'\n",
    "COL_PRICE_CHANGE = 'PRICE CHANGE'\n",
    "COL_PERIOD = 'PERIOD'\n",
    "\n",
    "COL_SALE_YEAR = 'SALE_YEAR'\n",
    "COL_SALE_MONTH = 'SALE_MONTH'\n",
    "COL_SALE_PRICE = 'SALE PRICE'\n",
    "\n",
    "COL_PRICE_PERCENT = 'PRICE CHANGE %'\n",
    "\n",
    "\n",
    "# Daily price change column name\n",
    "COL_DAILY_PRICE_CHANGE = 'DAILY PRICE CHANGE'\n",
    "\n",
    "COL_PURCHASE_DATE_SU = 'PURCHASE DATE SU'\n",
    "COL_PURCHASE_PRICE_SU = 'PURCHASE PRICE SU'\n",
    "COL_SOLD_DATE_SU = 'SOLD DATE SU'\n",
    "\n",
    "\n"
   ]
  },
  {
   "cell_type": "markdown",
   "metadata": {},
   "source": [
    "# Functions\n",
    "\n",
    "Also lets define some functions to assist in our analysis"
   ]
  },
  {
   "cell_type": "code",
   "execution_count": 3,
   "metadata": {},
   "outputs": [],
   "source": [
    "# def original_value(original_values, sd_value ):\n",
    "#     '''convert a standard unit value to it's original value'''\n",
    "\n",
    "def standard_units(any_numbers):\n",
    "    \"Convert any array of numbers to standard units.\"\n",
    "    return (any_numbers - np.mean(any_numbers)) / np.std(any_numbers)\n",
    "\n",
    "\n",
    "def correlation(t, x, y):\n",
    "    return np.mean(standard_units(t.column(x)) * standard_units(t.column(y)))\n",
    "\n",
    "\n",
    "def slope(table, x, y):\n",
    "    r = correlation(table, x, y)\n",
    "    return r * np.std(table.column(y)) / np.std(table.column(x))\n",
    "\n",
    "\n",
    "def intercept(table, x, y):\n",
    "    a = slope(table, x, y)\n",
    "    return np.mean(table.column(y)) - a * np.mean(table.column(x))\n",
    "\n",
    "\n",
    "def fit(table, x, y):\n",
    "    a = slope(table, x, y)\n",
    "    b = intercept(table, x, y)\n",
    "    return a * table.column(x) + b\n",
    "\n",
    "\n",
    "def residual(table, x, y):\n",
    "    return table.column(y) - fit(table, x, y)\n",
    "\n",
    "\n",
    "def scatter_fit(table, x, y):\n",
    "    plots.scatter(table.column(x), table.column(y), s=20)\n",
    "    plots.plot(table.column(x), fit(table, x, y), lw=2, color='gold')\n",
    "    plots.xlabel(x)\n",
    "    plots.ylabel(y)\n",
    "\n",
    "\n",
    "# Helpers Functions\n",
    "\n",
    "def print_stats(data):\n",
    "    '''Prints common stats for a data array'''\n",
    "\n",
    "    data_mean = np.mean(data)\n",
    "    data_std = np.std(data)\n",
    "    data_min = min(data)\n",
    "    data_max = max(data)\n",
    "\n",
    "    percent_5 = percentile(5, data)\n",
    "    percent_95 = percentile(95, data)\n",
    "    percent_1 = percentile(1, data)\n",
    "    percent_99 = percentile(99, data)\n",
    "\n",
    "    percent_25 = percentile(25, data)\n",
    "    percent_50 = percentile(50, data)\n",
    "    percent_75 = percentile(75, data)\n",
    "\n",
    "    print(\"Avg:\", data_mean, \"\\tStd:\", data_std, \"\\tMin:\", data_min, \"\\tMax:\", data_max)\n",
    "    print(\" 5%:\", percent_5, \"\\t95%:\", percent_95)\n",
    "    print(\" 1%:\", percent_1, \"\\t99%:\", percent_99)\n",
    "    print(\"25%:\", percent_25, \"\\t50%:\", percent_50, '\\t75%', percent_75)\n",
    "\n",
    "\n",
    "def print_col_stats(table, col_name):\n",
    "    ''' Print the stats For column named'''\n",
    "\n",
    "    print(col_name, \"Stats\")\n",
    "    data = table.column(col_name)\n",
    "    print_stats(data)\n",
    "\n",
    "\n",
    "def draw_hist(table: Table, col_name, offset_percent=0):\n",
    "    ''' Draw a histogram for table with an additional offset percent'''\n",
    "    data = table.column(col_name)\n",
    "    offset_start = percentile(offset_percent, data)\n",
    "    offset_end = percentile(100 - offset_percent, data)\n",
    "    table.hist(col_name, bins=np.arange(offset_start, offset_end, (offset_end - offset_start) / 20))\n",
    "\n",
    "\n",
    "def col_stats(table, col_name):\n",
    "    ''' Prints state for a column in table'''\n",
    "    print_col_stats(table, col_name)\n",
    "    draw_hist(table, col_name)\n"
   ]
  },
  {
   "cell_type": "markdown",
   "metadata": {},
   "source": [
    "# Step 1: Import data\n",
    "\n",
    "Sources\n",
    "1. [Annualized Sales Data](https://www1.nyc.gov/site/finance/taxes/property-annualized-sales-update.page)\n",
    "2. [Rolling Sale data](https://www1.nyc.gov/site/finance/taxes/property-rolling-sales-data.page)"
   ]
  },
  {
   "cell_type": "code",
   "execution_count": 4,
   "metadata": {},
   "outputs": [],
   "source": [
    "# List data files and directories in current directory\n",
    "excel_files = os.listdir(raw_directory)\n",
    "\n",
    "# Select only tje xls files\n",
    "excel_files = [k for k in excel_files if '.xls' in k]"
   ]
  },
  {
   "cell_type": "code",
   "execution_count": 5,
   "metadata": {},
   "outputs": [
    {
     "data": {
      "text/plain": [
       "['2015_manhattan.xls',\n",
       " '2011_manhattan.xls',\n",
       " '2016_manhattan.xls',\n",
       " '2012_manhattan.xls',\n",
       " 'rollingsales_manhattan.xls',\n",
       " 'sales_manhattan_03.xls',\n",
       " 'sales_manhattan_06.xls',\n",
       " 'sales_manhattan_04.xls',\n",
       " 'sales_2007_manhattan.xls',\n",
       " 'sales_manhattan_05.xls',\n",
       " '2009_manhattan.xls',\n",
       " '2013_manhattan.xls',\n",
       " '2017_manhattan.xls',\n",
       " 'sales_2008_manhattan.xls',\n",
       " '2010_manhattan.xls',\n",
       " '2014_manhattan.xls']"
      ]
     },
     "execution_count": 5,
     "metadata": {},
     "output_type": "execute_result"
    }
   ],
   "source": [
    "excel_files[:len(excel_files)]"
   ]
  },
  {
   "cell_type": "markdown",
   "metadata": {},
   "source": [
    "Unfortunately not all files are formatted the same way. Some have the header in row 4, others in row 5. We can check by making sure 'BOROUGH' is the first column in the imported dataset "
   ]
  },
  {
   "cell_type": "code",
   "execution_count": 6,
   "metadata": {},
   "outputs": [
    {
     "name": "stdout",
     "output_type": "stream",
     "text": [
      "2015_manhattan.xls\n",
      "2011_manhattan.xls\n",
      "2016_manhattan.xls\n",
      "2012_manhattan.xls\n",
      "rollingsales_manhattan.xls\n",
      "sales_manhattan_03.xls\n",
      "sales_manhattan_06.xls\n",
      "sales_manhattan_04.xls\n",
      "sales_2007_manhattan.xls\n",
      "sales_manhattan_05.xls\n",
      "2009_manhattan.xls\n",
      "2013_manhattan.xls\n",
      "2017_manhattan.xls\n"
     ]
    },
    {
     "name": "stderr",
     "output_type": "stream",
     "text": [
      "/Users/somya/Library/Python/3.7/lib/python/site-packages/pandas/core/frame.py:6211: FutureWarning: Sorting because non-concatenation axis is not aligned. A future version\n",
      "of pandas will change to not sort by default.\n",
      "\n",
      "To accept the future behavior, pass 'sort=False'.\n",
      "\n",
      "To retain the current behavior and silence the warning, pass 'sort=True'.\n",
      "\n",
      "  sort=sort)\n"
     ]
    },
    {
     "name": "stdout",
     "output_type": "stream",
     "text": [
      "sales_2008_manhattan.xls\n",
      "2010_manhattan.xls\n",
      "2014_manhattan.xls\n"
     ]
    }
   ],
   "source": [
    "\n",
    "# Create an data store\n",
    "all_sales_data = pd.DataFrame()\n",
    "\n",
    "# Load individual excel files. \n",
    "for excel_file in excel_files:\n",
    "    print(excel_file)\n",
    "    \n",
    "    # Read excel, Note the headers could in row 4 or row 5 (index=3 or 4). \n",
    "    yearly_sales_data = pd.read_excel(raw_directory+excel_file, header=3, encoding='sys.getfilesystemencoding()')\n",
    "   \n",
    "    # Check if the first column is \"BOROUGH\"\n",
    "    if not yearly_sales_data.columns[0].startswith('BOROUGH'):\n",
    "        # Otherwise the data starts from row 5.\n",
    "         yearly_sales_data = pd.read_excel(raw_directory+excel_file, header=4, encoding='sys.getfilesystemencoding()')\n",
    "    \n",
    "#     print(yearly_sales_data.shape)\n",
    "    \n",
    "    yearly_sales_data.rename(columns=lambda x: x.strip(), inplace=True)\n",
    "    \n",
    "    all_sales_data = all_sales_data.append(yearly_sales_data)\n",
    "    \n",
    "#     print(all_sales_data.shape)"
   ]
  },
  {
   "cell_type": "markdown",
   "metadata": {},
   "source": [
    "Spot check to verify data"
   ]
  },
  {
   "cell_type": "code",
   "execution_count": 7,
   "metadata": {},
   "outputs": [
    {
     "data": {
      "text/html": [
       "<div>\n",
       "<style scoped>\n",
       "    .dataframe tbody tr th:only-of-type {\n",
       "        vertical-align: middle;\n",
       "    }\n",
       "\n",
       "    .dataframe tbody tr th {\n",
       "        vertical-align: top;\n",
       "    }\n",
       "\n",
       "    .dataframe thead th {\n",
       "        text-align: right;\n",
       "    }\n",
       "</style>\n",
       "<table border=\"1\" class=\"dataframe\">\n",
       "  <thead>\n",
       "    <tr style=\"text-align: right;\">\n",
       "      <th></th>\n",
       "      <th>ADDRESS</th>\n",
       "      <th>APARTMENT NUMBER</th>\n",
       "      <th>BLOCK</th>\n",
       "      <th>BOROUGH</th>\n",
       "      <th>BUILDING CLASS AS OF FINAL ROLL 17/18</th>\n",
       "      <th>BUILDING CLASS AT PRESENT</th>\n",
       "      <th>BUILDING CLASS AT TIME OF SALE</th>\n",
       "      <th>BUILDING CLASS CATEGORY</th>\n",
       "      <th>COMMERCIAL UNITS</th>\n",
       "      <th>EASE-MENT</th>\n",
       "      <th>...</th>\n",
       "      <th>NEIGHBORHOOD</th>\n",
       "      <th>RESIDENTIAL UNITS</th>\n",
       "      <th>SALE DATE</th>\n",
       "      <th>SALE PRICE</th>\n",
       "      <th>TAX CLASS AS OF FINAL ROLL 17/18</th>\n",
       "      <th>TAX CLASS AT PRESENT</th>\n",
       "      <th>TAX CLASS AT TIME OF SALE</th>\n",
       "      <th>TOTAL UNITS</th>\n",
       "      <th>YEAR BUILT</th>\n",
       "      <th>ZIP CODE</th>\n",
       "    </tr>\n",
       "  </thead>\n",
       "  <tbody>\n",
       "    <tr>\n",
       "      <th>9379</th>\n",
       "      <td>330 EAST 38TH STREET</td>\n",
       "      <td>8P</td>\n",
       "      <td>943</td>\n",
       "      <td>1</td>\n",
       "      <td>NaN</td>\n",
       "      <td>R4</td>\n",
       "      <td>R4</td>\n",
       "      <td>13  CONDOS - ELEVATOR APARTMENTS</td>\n",
       "      <td>0</td>\n",
       "      <td></td>\n",
       "      <td>...</td>\n",
       "      <td>KIPS BAY</td>\n",
       "      <td>1</td>\n",
       "      <td>2007-10-09</td>\n",
       "      <td>899000</td>\n",
       "      <td>NaN</td>\n",
       "      <td>2</td>\n",
       "      <td>2</td>\n",
       "      <td>1</td>\n",
       "      <td>0</td>\n",
       "      <td>10016</td>\n",
       "    </tr>\n",
       "    <tr>\n",
       "      <th>25185</th>\n",
       "      <td>250 WEST 89TH   STREET, RES1</td>\n",
       "      <td></td>\n",
       "      <td>1236</td>\n",
       "      <td>1</td>\n",
       "      <td>NaN</td>\n",
       "      <td>R9</td>\n",
       "      <td>R9</td>\n",
       "      <td>17  CONDOPS</td>\n",
       "      <td>0</td>\n",
       "      <td></td>\n",
       "      <td>...</td>\n",
       "      <td>UPPER WEST SIDE (79-96)</td>\n",
       "      <td>0</td>\n",
       "      <td>2006-12-22</td>\n",
       "      <td>375000</td>\n",
       "      <td>NaN</td>\n",
       "      <td>2</td>\n",
       "      <td>2</td>\n",
       "      <td>0</td>\n",
       "      <td>1986</td>\n",
       "      <td>10024</td>\n",
       "    </tr>\n",
       "    <tr>\n",
       "      <th>25821</th>\n",
       "      <td>801 WEST END AVE., 8E</td>\n",
       "      <td></td>\n",
       "      <td>1888</td>\n",
       "      <td>1</td>\n",
       "      <td>NaN</td>\n",
       "      <td>D4</td>\n",
       "      <td>D4</td>\n",
       "      <td>10  COOPS - ELEVATOR APARTMENTS</td>\n",
       "      <td>0</td>\n",
       "      <td></td>\n",
       "      <td>...</td>\n",
       "      <td>UPPER WEST SIDE (96-116)</td>\n",
       "      <td>0</td>\n",
       "      <td>2013-04-24</td>\n",
       "      <td>1500000</td>\n",
       "      <td>NaN</td>\n",
       "      <td>2</td>\n",
       "      <td>2</td>\n",
       "      <td>0</td>\n",
       "      <td>1940</td>\n",
       "      <td>10025</td>\n",
       "    </tr>\n",
       "    <tr>\n",
       "      <th>21035</th>\n",
       "      <td>233 EAST 69TH   STREET, 14H</td>\n",
       "      <td></td>\n",
       "      <td>1424</td>\n",
       "      <td>1</td>\n",
       "      <td>NaN</td>\n",
       "      <td>R9</td>\n",
       "      <td>R9</td>\n",
       "      <td>17  CONDOPS</td>\n",
       "      <td>0</td>\n",
       "      <td></td>\n",
       "      <td>...</td>\n",
       "      <td>UPPER EAST SIDE (59-79)</td>\n",
       "      <td>0</td>\n",
       "      <td>2007-03-23</td>\n",
       "      <td>650000</td>\n",
       "      <td>NaN</td>\n",
       "      <td>2</td>\n",
       "      <td>2</td>\n",
       "      <td>0</td>\n",
       "      <td>1957</td>\n",
       "      <td>10021</td>\n",
       "    </tr>\n",
       "    <tr>\n",
       "      <th>131</th>\n",
       "      <td>5 AVENUE D</td>\n",
       "      <td></td>\n",
       "      <td>372</td>\n",
       "      <td>1</td>\n",
       "      <td>NaN</td>\n",
       "      <td>V1</td>\n",
       "      <td>V1</td>\n",
       "      <td>31  COMMERCIAL VACANT LAND</td>\n",
       "      <td>0</td>\n",
       "      <td></td>\n",
       "      <td>...</td>\n",
       "      <td>ALPHABET CITY</td>\n",
       "      <td>0</td>\n",
       "      <td>2008-09-25</td>\n",
       "      <td>0</td>\n",
       "      <td>NaN</td>\n",
       "      <td>4</td>\n",
       "      <td>4</td>\n",
       "      <td>0</td>\n",
       "      <td>0</td>\n",
       "      <td>10009</td>\n",
       "    </tr>\n",
       "    <tr>\n",
       "      <th>12307</th>\n",
       "      <td>768 5TH AVE</td>\n",
       "      <td>607</td>\n",
       "      <td>1274</td>\n",
       "      <td>1</td>\n",
       "      <td>NaN</td>\n",
       "      <td>R4</td>\n",
       "      <td>R4</td>\n",
       "      <td>13  CONDOS - ELEVATOR APARTMENTS</td>\n",
       "      <td>0</td>\n",
       "      <td></td>\n",
       "      <td>...</td>\n",
       "      <td>MIDTOWN WEST</td>\n",
       "      <td>1</td>\n",
       "      <td>2006-04-07</td>\n",
       "      <td>0</td>\n",
       "      <td>NaN</td>\n",
       "      <td>2</td>\n",
       "      <td>2</td>\n",
       "      <td>1</td>\n",
       "      <td>0</td>\n",
       "      <td>10019</td>\n",
       "    </tr>\n",
       "    <tr>\n",
       "      <th>20409</th>\n",
       "      <td>215 WEST 91 STREET, APT 121</td>\n",
       "      <td></td>\n",
       "      <td>1239</td>\n",
       "      <td>1</td>\n",
       "      <td>NaN</td>\n",
       "      <td>D4</td>\n",
       "      <td>D4</td>\n",
       "      <td>10  COOPS - ELEVATOR APARTMENTS</td>\n",
       "      <td>0</td>\n",
       "      <td></td>\n",
       "      <td>...</td>\n",
       "      <td>UPPER WEST SIDE (79-96)</td>\n",
       "      <td>0</td>\n",
       "      <td>2003-01-21</td>\n",
       "      <td>0</td>\n",
       "      <td>NaN</td>\n",
       "      <td>2</td>\n",
       "      <td>2</td>\n",
       "      <td>0</td>\n",
       "      <td>1917</td>\n",
       "      <td>0</td>\n",
       "    </tr>\n",
       "    <tr>\n",
       "      <th>23918</th>\n",
       "      <td>240 RIVERSIDE BOULEVARD</td>\n",
       "      <td>5 F</td>\n",
       "      <td>1171</td>\n",
       "      <td>1</td>\n",
       "      <td>NaN</td>\n",
       "      <td>R4</td>\n",
       "      <td>R4</td>\n",
       "      <td>13  CONDOS - ELEVATOR APARTMENTS</td>\n",
       "      <td>0</td>\n",
       "      <td></td>\n",
       "      <td>...</td>\n",
       "      <td>UPPER WEST SIDE (59-79)</td>\n",
       "      <td>1</td>\n",
       "      <td>2013-11-15</td>\n",
       "      <td>1237500</td>\n",
       "      <td>NaN</td>\n",
       "      <td>2</td>\n",
       "      <td>2</td>\n",
       "      <td>1</td>\n",
       "      <td>0</td>\n",
       "      <td>10069</td>\n",
       "    </tr>\n",
       "    <tr>\n",
       "      <th>11371</th>\n",
       "      <td>200 EAST 66TH STREET</td>\n",
       "      <td>A0702</td>\n",
       "      <td>1420</td>\n",
       "      <td>1</td>\n",
       "      <td>NaN</td>\n",
       "      <td>R4</td>\n",
       "      <td>R4</td>\n",
       "      <td>13 CONDOS - ELEVATOR APARTMENTS</td>\n",
       "      <td>0</td>\n",
       "      <td></td>\n",
       "      <td>...</td>\n",
       "      <td>UPPER EAST SIDE (59-79)</td>\n",
       "      <td>1</td>\n",
       "      <td>2017-12-28</td>\n",
       "      <td>1500000</td>\n",
       "      <td>NaN</td>\n",
       "      <td>2</td>\n",
       "      <td>2</td>\n",
       "      <td>1</td>\n",
       "      <td>1951</td>\n",
       "      <td>10065</td>\n",
       "    </tr>\n",
       "    <tr>\n",
       "      <th>1602</th>\n",
       "      <td>112 EAST 10 STREET</td>\n",
       "      <td></td>\n",
       "      <td>465</td>\n",
       "      <td>1</td>\n",
       "      <td>NaN</td>\n",
       "      <td>C4</td>\n",
       "      <td>C4</td>\n",
       "      <td>07  RENTALS - WALKUP APARTMENTS</td>\n",
       "      <td>0</td>\n",
       "      <td></td>\n",
       "      <td>...</td>\n",
       "      <td>EAST VILLAGE</td>\n",
       "      <td>5</td>\n",
       "      <td>2004-01-21</td>\n",
       "      <td>1400000</td>\n",
       "      <td>NaN</td>\n",
       "      <td>2A</td>\n",
       "      <td>2</td>\n",
       "      <td>5</td>\n",
       "      <td>1900</td>\n",
       "      <td>10003</td>\n",
       "    </tr>\n",
       "  </tbody>\n",
       "</table>\n",
       "<p>10 rows × 23 columns</p>\n",
       "</div>"
      ],
      "text/plain": [
       "                                         ADDRESS APARTMENT NUMBER  BLOCK  \\\n",
       "9379   330 EAST 38TH STREET                          8P              943   \n",
       "25185  250 WEST 89TH   STREET, RES1                                 1236   \n",
       "25821  801 WEST END AVE., 8E                                        1888   \n",
       "21035  233 EAST 69TH   STREET, 14H                                  1424   \n",
       "131    5 AVENUE D                                                    372   \n",
       "12307  768 5TH AVE                                            607   1274   \n",
       "20409  215 WEST 91 STREET, APT 121                                  1239   \n",
       "23918  240 RIVERSIDE BOULEVARD                       5 F            1171   \n",
       "11371                       200 EAST 66TH STREET            A0702   1420   \n",
       "1602   112 EAST 10 STREET                                            465   \n",
       "\n",
       "       BOROUGH BUILDING CLASS AS OF FINAL ROLL 17/18  \\\n",
       "9379         1                                   NaN   \n",
       "25185        1                                   NaN   \n",
       "25821        1                                   NaN   \n",
       "21035        1                                   NaN   \n",
       "131          1                                   NaN   \n",
       "12307        1                                   NaN   \n",
       "20409        1                                   NaN   \n",
       "23918        1                                   NaN   \n",
       "11371        1                                   NaN   \n",
       "1602         1                                   NaN   \n",
       "\n",
       "      BUILDING CLASS AT PRESENT BUILDING CLASS AT TIME OF SALE  \\\n",
       "9379                         R4                             R4   \n",
       "25185                        R9                             R9   \n",
       "25821                        D4                             D4   \n",
       "21035                        R9                             R9   \n",
       "131                          V1                             V1   \n",
       "12307                        R4                             R4   \n",
       "20409                        D4                             D4   \n",
       "23918                        R4                             R4   \n",
       "11371                        R4                             R4   \n",
       "1602                         C4                             C4   \n",
       "\n",
       "                            BUILDING CLASS CATEGORY  COMMERCIAL UNITS  \\\n",
       "9379   13  CONDOS - ELEVATOR APARTMENTS                             0   \n",
       "25185  17  CONDOPS                                                  0   \n",
       "25821  10  COOPS - ELEVATOR APARTMENTS                              0   \n",
       "21035  17  CONDOPS                                                  0   \n",
       "131    31  COMMERCIAL VACANT LAND                                   0   \n",
       "12307  13  CONDOS - ELEVATOR APARTMENTS                             0   \n",
       "20409  10  COOPS - ELEVATOR APARTMENTS                              0   \n",
       "23918  13  CONDOS - ELEVATOR APARTMENTS                             0   \n",
       "11371   13 CONDOS - ELEVATOR APARTMENTS                             0   \n",
       "1602   07  RENTALS - WALKUP APARTMENTS                              0   \n",
       "\n",
       "      EASE-MENT    ...                  NEIGHBORHOOD  RESIDENTIAL UNITS  \\\n",
       "9379               ...     KIPS BAY                                   1   \n",
       "25185              ...     UPPER WEST SIDE (79-96)                    0   \n",
       "25821              ...     UPPER WEST SIDE (96-116)                   0   \n",
       "21035              ...     UPPER EAST SIDE (59-79)                    0   \n",
       "131                ...     ALPHABET CITY                              0   \n",
       "12307              ...     MIDTOWN WEST                               1   \n",
       "20409              ...     UPPER WEST SIDE (79-96)                    0   \n",
       "23918              ...     UPPER WEST SIDE (59-79)                    1   \n",
       "11371              ...       UPPER EAST SIDE (59-79)                  1   \n",
       "1602               ...     EAST VILLAGE                               5   \n",
       "\n",
       "       SALE DATE SALE PRICE  TAX CLASS AS OF FINAL ROLL 17/18  \\\n",
       "9379  2007-10-09     899000                               NaN   \n",
       "25185 2006-12-22     375000                               NaN   \n",
       "25821 2013-04-24    1500000                               NaN   \n",
       "21035 2007-03-23     650000                               NaN   \n",
       "131   2008-09-25          0                               NaN   \n",
       "12307 2006-04-07          0                               NaN   \n",
       "20409 2003-01-21          0                               NaN   \n",
       "23918 2013-11-15    1237500                               NaN   \n",
       "11371 2017-12-28    1500000                               NaN   \n",
       "1602  2004-01-21    1400000                               NaN   \n",
       "\n",
       "      TAX CLASS AT PRESENT  TAX CLASS AT TIME OF SALE TOTAL UNITS YEAR BUILT  \\\n",
       "9379                     2                          2           1          0   \n",
       "25185                    2                          2           0       1986   \n",
       "25821                    2                          2           0       1940   \n",
       "21035                    2                          2           0       1957   \n",
       "131                      4                          4           0          0   \n",
       "12307                    2                          2           1          0   \n",
       "20409                    2                          2           0       1917   \n",
       "23918                    2                          2           1          0   \n",
       "11371                    2                          2           1       1951   \n",
       "1602                    2A                          2           5       1900   \n",
       "\n",
       "       ZIP CODE  \n",
       "9379      10016  \n",
       "25185     10024  \n",
       "25821     10025  \n",
       "21035     10021  \n",
       "131       10009  \n",
       "12307     10019  \n",
       "20409         0  \n",
       "23918     10069  \n",
       "11371     10065  \n",
       "1602      10003  \n",
       "\n",
       "[10 rows x 23 columns]"
      ]
     },
     "execution_count": 7,
     "metadata": {},
     "output_type": "execute_result"
    }
   ],
   "source": [
    "\n",
    "all_sales_data.sample(10)\n"
   ]
  },
  {
   "cell_type": "code",
   "execution_count": 8,
   "metadata": {},
   "outputs": [
    {
     "data": {
      "text/plain": [
       "16171"
      ]
     },
     "execution_count": 8,
     "metadata": {},
     "output_type": "execute_result"
    }
   ],
   "source": [
    "# Check for duplicate entries\n",
    "sum(all_sales_data.duplicated(all_sales_data.columns))"
   ]
  },
  {
   "cell_type": "code",
   "execution_count": 9,
   "metadata": {},
   "outputs": [
    {
     "data": {
      "text/plain": [
       "0"
      ]
     },
     "execution_count": 9,
     "metadata": {},
     "output_type": "execute_result"
    }
   ],
   "source": [
    "#Delete the duplicates and check that it worked\n",
    "all_sales_data = all_sales_data.drop_duplicates(all_sales_data.columns, keep='last')\n",
    "sum(all_sales_data.duplicated(all_sales_data.columns))"
   ]
  },
  {
   "cell_type": "markdown",
   "metadata": {},
   "source": [
    "# Step 2. Clean up the data and arrange for analysis"
   ]
  },
  {
   "cell_type": "code",
   "execution_count": 10,
   "metadata": {},
   "outputs": [],
   "source": [
    "#SALE DATE is object but should be datetime\n",
    "all_sales_data[COL_SALE_DATE] = pd.to_datetime(all_sales_data[COL_SALE_DATE], errors='coerce')\n",
    "all_sales_data['APARTMENT NUMBER'] = all_sales_data['APARTMENT NUMBER'].astype(str)\n",
    "\n",
    "# remove additional whitespace in strings\n",
    "all_sales_data = all_sales_data.applymap(lambda x: x.strip() if type(x) is str else x)"
   ]
  },
  {
   "cell_type": "code",
   "execution_count": 11,
   "metadata": {},
   "outputs": [],
   "source": [
    "# Convert to Table for analysis\n",
    "all_sales_data = Table.from_df(all_sales_data)"
   ]
  },
  {
   "cell_type": "code",
   "execution_count": 12,
   "metadata": {},
   "outputs": [
    {
     "data": {
      "text/html": [
       "<table border=\"1\" class=\"dataframe\">\n",
       "    <thead>\n",
       "        <tr>\n",
       "            <th>ADDRESS</th> <th>APARTMENT NUMBER</th> <th>SALE PRICE</th>\n",
       "        </tr>\n",
       "    </thead>\n",
       "    <tbody>\n",
       "        <tr>\n",
       "            <td>304 EAST 52 STREET             </td> <td>                </td> <td>0         </td>\n",
       "        </tr>\n",
       "        <tr>\n",
       "            <td>425 EAST 50TH STREET, 2        </td> <td>                </td> <td>1195000   </td>\n",
       "        </tr>\n",
       "        <tr>\n",
       "            <td>225 EAST 47TH STREET, 2F       </td> <td>                </td> <td>3300000   </td>\n",
       "        </tr>\n",
       "        <tr>\n",
       "            <td>251 EAST 51ST STREET, 5B       </td> <td>                </td> <td>690000    </td>\n",
       "        </tr>\n",
       "        <tr>\n",
       "            <td>220 EAST 54TH STREET, 8L       </td> <td>                </td> <td>430000    </td>\n",
       "        </tr>\n",
       "        <tr>\n",
       "            <td>245 EAST 54TH STREET, 12R      </td> <td>                </td> <td>630000    </td>\n",
       "        </tr>\n",
       "        <tr>\n",
       "            <td>245 EAST 54TH STREET, 15P      </td> <td>                </td> <td>640000    </td>\n",
       "        </tr>\n",
       "        <tr>\n",
       "            <td>200 EAST 57TH STREET, 4N       </td> <td>                </td> <td>1500000   </td>\n",
       "        </tr>\n",
       "        <tr>\n",
       "            <td>305 EAST 40TH STREET, 19A      </td> <td>                </td> <td>460000    </td>\n",
       "        </tr>\n",
       "        <tr>\n",
       "            <td>25 TUDOR CITY PLACE, 309       </td> <td>                </td> <td>380350    </td>\n",
       "        </tr>\n",
       "        <tr>\n",
       "            <td>25 TUDOR CITY PLACE, 402       </td> <td>                </td> <td>395000    </td>\n",
       "        </tr>\n",
       "        <tr>\n",
       "            <td>25 TUDOR CITY PLACE, 1821      </td> <td>                </td> <td>339000    </td>\n",
       "        </tr>\n",
       "        <tr>\n",
       "            <td>320 EAST 42ND STREET, 213      </td> <td>                </td> <td>410770    </td>\n",
       "        </tr>\n",
       "        <tr>\n",
       "            <td>45 TUDOR CITY PLACE, 1218      </td> <td>                </td> <td>525000    </td>\n",
       "        </tr>\n",
       "        <tr>\n",
       "            <td>333 EAST 43RD STREET, 1008     </td> <td>                </td> <td>895000    </td>\n",
       "        </tr>\n",
       "        <tr>\n",
       "            <td>321 EAST 45TH STREET, 1F       </td> <td>                </td> <td>489000    </td>\n",
       "        </tr>\n",
       "        <tr>\n",
       "            <td>333 EAST 46TH STREET, 1F       </td> <td>                </td> <td>11200000  </td>\n",
       "        </tr>\n",
       "        <tr>\n",
       "            <td>342 EAST 53RD STREET, 1H       </td> <td>                </td> <td>498000    </td>\n",
       "        </tr>\n",
       "        <tr>\n",
       "            <td>345 EAST 54TH STREET, 3J       </td> <td>                </td> <td>342500    </td>\n",
       "        </tr>\n",
       "        <tr>\n",
       "            <td>345 EAST 54TH STREET, 3H       </td> <td>                </td> <td>555000    </td>\n",
       "        </tr>\n",
       "        <tr>\n",
       "            <td>870 UNITED NATIONS PLAZA, 37/38</td> <td>                </td> <td>3400000   </td>\n",
       "        </tr>\n",
       "        <tr>\n",
       "            <td>420 EAST 51ST STREET, 1G       </td> <td>                </td> <td>445000    </td>\n",
       "        </tr>\n",
       "        <tr>\n",
       "            <td>424 EAST 52ND STREET, 10B      </td> <td>                </td> <td>550000    </td>\n",
       "        </tr>\n",
       "        <tr>\n",
       "            <td>415 EAST 52ND STREET, 12AB     </td> <td>                </td> <td>0         </td>\n",
       "        </tr>\n",
       "        <tr>\n",
       "            <td>435 EAST 52ND STREET, 9D       </td> <td>                </td> <td>4025000   </td>\n",
       "        </tr>\n",
       "        <tr>\n",
       "            <td>420 EAST 55TH STREET, 3M       </td> <td>                </td> <td>590000    </td>\n",
       "        </tr>\n",
       "        <tr>\n",
       "            <td>400 EAST 56TH STREET, 33K      </td> <td>                </td> <td>0         </td>\n",
       "        </tr>\n",
       "        <tr>\n",
       "            <td>400 EAST 56TH STREET, 26R      </td> <td>                </td> <td>1175000   </td>\n",
       "        </tr>\n",
       "        <tr>\n",
       "            <td>400 EAST 56TH STREET, 9C       </td> <td>                </td> <td>785000    </td>\n",
       "        </tr>\n",
       "        <tr>\n",
       "            <td>400 EAST 56TH STREET, 28J      </td> <td>                </td> <td>780000    </td>\n",
       "        </tr>\n",
       "        <tr>\n",
       "            <td>419 EAST 57TH STREET, 13F      </td> <td>                </td> <td>1250000   </td>\n",
       "        </tr>\n",
       "        <tr>\n",
       "            <td>45 SUTTON PLACE SOUTH, 9G      </td> <td>                </td> <td>897000    </td>\n",
       "        </tr>\n",
       "        <tr>\n",
       "            <td>45 SUTTON PLACE SOUTH, 15I     </td> <td>                </td> <td>1350000   </td>\n",
       "        </tr>\n",
       "        <tr>\n",
       "            <td>45 SUTTON PLACE SOUTH, 5J      </td> <td>                </td> <td>780000    </td>\n",
       "        </tr>\n",
       "        <tr>\n",
       "            <td>240 EAST 46TH STREET           </td> <td>4C              </td> <td>541000    </td>\n",
       "        </tr>\n",
       "        <tr>\n",
       "            <td>225 EAST 46TH STREET           </td> <td>9H              </td> <td>835000    </td>\n",
       "        </tr>\n",
       "        <tr>\n",
       "            <td>211 EAST 46TH STREET           </td> <td>32D             </td> <td>1200000   </td>\n",
       "        </tr>\n",
       "        <tr>\n",
       "            <td>249 EAST 48TH ST               </td> <td>7A              </td> <td>0         </td>\n",
       "        </tr>\n",
       "        <tr>\n",
       "            <td>224 EAST 52ND STREET           </td> <td>21              </td> <td>0         </td>\n",
       "        </tr>\n",
       "        <tr>\n",
       "            <td>209 EAST 51ST STREET           </td> <td>5F              </td> <td>1025000   </td>\n",
       "        </tr>\n",
       "        <tr>\n",
       "            <td>252 EAST 57TH STREET           </td> <td>42D             </td> <td>3999631   </td>\n",
       "        </tr>\n",
       "        <tr>\n",
       "            <td>207 EAST 57TH STREET           </td> <td>5A/6A           </td> <td>0         </td>\n",
       "        </tr>\n",
       "        <tr>\n",
       "            <td>50 UNITED NATIONS PLAZA        </td> <td>14C             </td> <td>1850000   </td>\n",
       "        </tr>\n",
       "        <tr>\n",
       "            <td>845 UNITED NATIONS PLAZA       </td> <td>88A             </td> <td>14500000  </td>\n",
       "        </tr>\n",
       "        <tr>\n",
       "            <td>865 UNITED NATIONS PLAZA       </td> <td>14A             </td> <td>1160000   </td>\n",
       "        </tr>\n",
       "        <tr>\n",
       "            <td>865 FIRST AVENUE               </td> <td>PHC             </td> <td>1337090   </td>\n",
       "        </tr>\n",
       "        <tr>\n",
       "            <td>305 EAST 51ST STREET           </td> <td>RU10A           </td> <td>3300000   </td>\n",
       "        </tr>\n",
       "        <tr>\n",
       "            <td>350 EAST 54TH STREET           </td> <td>3C              </td> <td>555000    </td>\n",
       "        </tr>\n",
       "        <tr>\n",
       "            <td>330 EAST 57TH STREET           </td> <td>5               </td> <td>2225000   </td>\n",
       "        </tr>\n",
       "        <tr>\n",
       "            <td>400 EAST 51ST STREET           </td> <td>16B             </td> <td>0         </td>\n",
       "        </tr>\n",
       "        <tr>\n",
       "            <td>400 EAST 51ST STREET           </td> <td>24B             </td> <td>4100000   </td>\n",
       "        </tr>\n",
       "        <tr>\n",
       "            <td>444 EAST 57TH STREET           </td> <td>7C              </td> <td>1803000   </td>\n",
       "        </tr>\n",
       "        <tr>\n",
       "            <td>420 EAST 58TH STREET           </td> <td>9C              </td> <td>820000    </td>\n",
       "        </tr>\n",
       "        <tr>\n",
       "            <td>225 EAST 57TH STREET, 8G       </td> <td>                </td> <td>1150000   </td>\n",
       "        </tr>\n",
       "        <tr>\n",
       "            <td>866 UNITED NATIONS PLAZA       </td> <td>4014            </td> <td>1615520   </td>\n",
       "        </tr>\n",
       "        <tr>\n",
       "            <td>209 EAST 51ST STREET           </td> <td>STO15           </td> <td>0         </td>\n",
       "        </tr>\n",
       "    </tbody>\n",
       "</table>"
      ],
      "text/plain": [
       "<IPython.core.display.HTML object>"
      ]
     },
     "metadata": {},
     "output_type": "display_data"
    }
   ],
   "source": [
    "nov_sales = all_sales_data.where(COL_SALE_DATE, are.above_or_equal_to(datetime(2018, 11, 1)))\n",
    "\n",
    "nov_sales.where('NEIGHBORHOOD', 'MIDTOWN EAST').select('ADDRESS', 'APARTMENT NUMBER', COL_SALE_PRICE ).show()"
   ]
  },
  {
   "cell_type": "code",
   "execution_count": 13,
   "metadata": {},
   "outputs": [],
   "source": [
    "# remove and sales less than $10,000 they are likely to be a property transfer rather than an actual sale\n",
    "all_sales_data = all_sales_data.where(COL_SALE_PRICE, are.above(10000))"
   ]
  },
  {
   "cell_type": "code",
   "execution_count": 14,
   "metadata": {},
   "outputs": [
    {
     "data": {
      "text/plain": [
       "('ADDRESS',\n",
       " 'APARTMENT NUMBER',\n",
       " 'BLOCK',\n",
       " 'BOROUGH',\n",
       " 'BUILDING CLASS AS OF FINAL ROLL 17/18',\n",
       " 'BUILDING CLASS AT PRESENT',\n",
       " 'BUILDING CLASS AT TIME OF SALE',\n",
       " 'BUILDING CLASS CATEGORY',\n",
       " 'COMMERCIAL UNITS',\n",
       " 'EASE-MENT',\n",
       " 'GROSS SQUARE FEET',\n",
       " 'LAND SQUARE FEET',\n",
       " 'LOT',\n",
       " 'NEIGHBORHOOD',\n",
       " 'RESIDENTIAL UNITS',\n",
       " 'SALE DATE',\n",
       " 'SALE PRICE',\n",
       " 'TAX CLASS AS OF FINAL ROLL 17/18',\n",
       " 'TAX CLASS AT PRESENT',\n",
       " 'TAX CLASS AT TIME OF SALE',\n",
       " 'TOTAL UNITS',\n",
       " 'YEAR BUILT',\n",
       " 'ZIP CODE')"
      ]
     },
     "execution_count": 14,
     "metadata": {},
     "output_type": "execute_result"
    }
   ],
   "source": [
    "# SPOT CHECK: Understand the data labels we might be interested in\n",
    "all_sales_data.labels"
   ]
  },
  {
   "cell_type": "code",
   "execution_count": 15,
   "metadata": {},
   "outputs": [],
   "source": [
    "# Remove columns we don't actually need. e.g. lot, block etc\n",
    "\n",
    "all_sales_data = all_sales_data.select(['SALE DATE', 'SALE PRICE', 'ADDRESS','APARTMENT NUMBER', 'YEAR BUILT', 'NEIGHBORHOOD', 'ZIP CODE', 'BUILDING CLASS AT TIME OF SALE', 'BUILDING CLASS CATEGORY'])"
   ]
  },
  {
   "cell_type": "code",
   "execution_count": 16,
   "metadata": {},
   "outputs": [
    {
     "name": "stderr",
     "output_type": "stream",
     "text": [
      "/Users/somya/Library/Python/3.7/lib/python/site-packages/datascience/tables.py:361: FutureWarning: column lists are deprecated; pass each as an argument\n",
      "  \"column lists are deprecated; pass each as an argument\", FutureWarning)\n"
     ]
    }
   ],
   "source": [
    "# Combine the Address and Apt No. The data here seems a little messy. Sometime the address itself contains the apt no,\n",
    "# other times it's seperated. Let's create a full address column that combines them into a single address\n",
    "\n",
    "def combine_address(address, aptNo):\n",
    "    \"\"\"Combine the address and Apartment into a single result\"\"\"\n",
    "    temp = address.strip()\n",
    "    if len(aptNo.strip()) > 0:\n",
    "        temp = temp + ', ' + aptNo.strip()\n",
    "    return temp\n",
    "\n",
    "full_address = all_sales_data.apply(combine_address, ['ADDRESS', 'APARTMENT NUMBER'])\n",
    "\n",
    "# Add a Full Address column\n",
    "all_sales_data =  all_sales_data.with_column(COL_FULL_ADDRESS, full_address)"
   ]
  },
  {
   "cell_type": "code",
   "execution_count": 17,
   "metadata": {},
   "outputs": [
    {
     "data": {
      "text/html": [
       "<table border=\"1\" class=\"dataframe\">\n",
       "    <thead>\n",
       "        <tr>\n",
       "            <th>BUILDING CLASS AT TIME OF SALE</th> <th>BUILDING CLASS CATEGORY</th> <th>count</th>\n",
       "        </tr>\n",
       "    </thead>\n",
       "    <tbody>\n",
       "        <tr>\n",
       "            <td>R4                            </td> <td>13  CONDOS - ELEVATOR APARTMENTS  </td> <td>90128</td>\n",
       "        </tr>\n",
       "        <tr>\n",
       "            <td>D4                            </td> <td>10  COOPS - ELEVATOR APARTMENTS   </td> <td>83556</td>\n",
       "        </tr>\n",
       "        <tr>\n",
       "            <td>R5                            </td> <td>28  COMMERCIAL CONDOS             </td> <td>15569</td>\n",
       "        </tr>\n",
       "        <tr>\n",
       "            <td>R4                            </td> <td>13 CONDOS - ELEVATOR APARTMENTS   </td> <td>10674</td>\n",
       "        </tr>\n",
       "        <tr>\n",
       "            <td>C6                            </td> <td>09  COOPS - WALKUP APARTMENTS     </td> <td>10413</td>\n",
       "        </tr>\n",
       "        <tr>\n",
       "            <td>D4                            </td> <td>10 COOPS - ELEVATOR APARTMENTS    </td> <td>10303</td>\n",
       "        </tr>\n",
       "        <tr>\n",
       "            <td>R9                            </td> <td>17  CONDOPS                       </td> <td>10097</td>\n",
       "        </tr>\n",
       "        <tr>\n",
       "            <td>H2                            </td> <td>25  LUXURY HOTELS                 </td> <td>6204 </td>\n",
       "        </tr>\n",
       "        <tr>\n",
       "            <td>R9                            </td> <td>17  CONDO COOPS                   </td> <td>4148 </td>\n",
       "        </tr>\n",
       "        <tr>\n",
       "            <td>RH                            </td> <td>45  CONDO HOTELS                  </td> <td>4011 </td>\n",
       "        </tr>\n",
       "        <tr>\n",
       "            <td>D0                            </td> <td>10  COOPS - ELEVATOR APARTMENTS   </td> <td>3324 </td>\n",
       "        </tr>\n",
       "        <tr>\n",
       "            <td>R1                            </td> <td>15  CONDOS - 2-10 UNIT RESIDENTIAL</td> <td>3250 </td>\n",
       "        </tr>\n",
       "        <tr>\n",
       "            <td>C7                            </td> <td>07  RENTALS - WALKUP APARTMENTS   </td> <td>1900 </td>\n",
       "        </tr>\n",
       "        <tr>\n",
       "            <td>R9                            </td> <td>17 CONDO COOPS                    </td> <td>1634 </td>\n",
       "        </tr>\n",
       "        <tr>\n",
       "            <td>C5                            </td> <td>07  RENTALS - WALKUP APARTMENTS   </td> <td>1473 </td>\n",
       "        </tr>\n",
       "        <tr>\n",
       "            <td>C1                            </td> <td>07  RENTALS - WALKUP APARTMENTS   </td> <td>1414 </td>\n",
       "        </tr>\n",
       "        <tr>\n",
       "            <td>C6                            </td> <td>09 COOPS - WALKUP APARTMENTS      </td> <td>1391 </td>\n",
       "        </tr>\n",
       "        <tr>\n",
       "            <td>R2                            </td> <td>12  CONDOS - WALKUP APARTMENTS    </td> <td>1278 </td>\n",
       "        </tr>\n",
       "        <tr>\n",
       "            <td>C4                            </td> <td>07  RENTALS - WALKUP APARTMENTS   </td> <td>1172 </td>\n",
       "        </tr>\n",
       "        <tr>\n",
       "            <td>H3                            </td> <td>26  OTHER HOTELS                  </td> <td>1052 </td>\n",
       "        </tr>\n",
       "    </tbody>\n",
       "</table>\n",
       "<p>... (303 rows omitted)</p>"
      ],
      "text/plain": [
       "<IPython.core.display.HTML object>"
      ]
     },
     "metadata": {},
     "output_type": "display_data"
    }
   ],
   "source": [
    "# Try to understand Building Class Codes. What are the most common Codes?\n",
    "\n",
    "all_sales_data.group(['BUILDING CLASS AT TIME OF SALE', 'BUILDING CLASS CATEGORY']).sort('count', descending=True).show(20)\n",
    "\n",
    "# Ok mostly condos and co-ops as expected\n",
    "\n",
    "# Question what's R5 -  COMMERCIAL CONDOS? ignoring for now"
   ]
  },
  {
   "cell_type": "markdown",
   "metadata": {},
   "source": [
    "Let's pick out the condos for now. \n",
    "Reference Data: [NYC Building Codes](https://www1.nyc.gov/assets/finance/jump/hlpbldgcode.html) "
   ]
  },
  {
   "cell_type": "code",
   "execution_count": 18,
   "metadata": {},
   "outputs": [
    {
     "data": {
      "text/html": [
       "<table border=\"1\" class=\"dataframe\">\n",
       "    <thead>\n",
       "        <tr>\n",
       "            <th>SALE DATE</th> <th>SALE PRICE</th> <th>ADDRESS</th> <th>APARTMENT NUMBER</th> <th>YEAR BUILT</th> <th>NEIGHBORHOOD</th> <th>ZIP CODE</th> <th>BUILDING CLASS AT TIME OF SALE</th> <th>BUILDING CLASS CATEGORY</th> <th>FULL ADDRESS</th>\n",
       "        </tr>\n",
       "    </thead>\n",
       "    <tbody>\n",
       "        <tr>\n",
       "            <td>2004-05-13 00:00:00</td> <td>1225000   </td> <td>117 EAST 57 STREET     </td> <td>28C/D           </td> <td>1975      </td> <td>MIDTOWN CBD            </td> <td>10022   </td> <td>R4                            </td> <td>13  CONDOS - ELEVATOR APARTMENTS  </td> <td>117 EAST 57 STREET, 28C/D    </td>\n",
       "        </tr>\n",
       "        <tr>\n",
       "            <td>2010-04-08 00:00:00</td> <td>803779    </td> <td>151 HUDSON STREET      </td> <td>9               </td> <td>1910      </td> <td>TRIBECA                </td> <td>10013   </td> <td>R1                            </td> <td>15  CONDOS - 2-10 UNIT RESIDENTIAL</td> <td>151 HUDSON STREET, 9         </td>\n",
       "        </tr>\n",
       "        <tr>\n",
       "            <td>2006-03-31 00:00:00</td> <td>1251225   </td> <td>120 RIVERSIDE BOULEVARD</td> <td>12T             </td> <td>0         </td> <td>UPPER WEST SIDE (59-79)</td> <td>10023   </td> <td>R4                            </td> <td>13  CONDOS - ELEVATOR APARTMENTS  </td> <td>120 RIVERSIDE BOULEVARD, 12T </td>\n",
       "        </tr>\n",
       "        <tr>\n",
       "            <td>2017-12-21 00:00:00</td> <td>1455000   </td> <td>2000 BROADWAY          </td> <td>5I              </td> <td>1987      </td> <td>UPPER WEST SIDE (59-79)</td> <td>10023   </td> <td>R4                            </td> <td>13 CONDOS - ELEVATOR APARTMENTS   </td> <td>2000 BROADWAY, 5I            </td>\n",
       "        </tr>\n",
       "        <tr>\n",
       "            <td>2006-05-05 00:00:00</td> <td>767760    </td> <td>21 SOUTH WILLIAM STREET</td> <td>7E              </td> <td>0         </td> <td>FINANCIAL              </td> <td>10004   </td> <td>R4                            </td> <td>13  CONDOS - ELEVATOR APARTMENTS  </td> <td>21 SOUTH WILLIAM STREET, 7E  </td>\n",
       "        </tr>\n",
       "        <tr>\n",
       "            <td>2012-12-14 00:00:00</td> <td>213200    </td> <td>41 WEST 72ND   STREET  </td> <td>4F              </td> <td>0         </td> <td>UPPER WEST SIDE (59-79)</td> <td>10023   </td> <td>R4                            </td> <td>13  CONDOS - ELEVATOR APARTMENTS  </td> <td>41 WEST 72ND   STREET, 4F    </td>\n",
       "        </tr>\n",
       "        <tr>\n",
       "            <td>2017-12-01 00:00:00</td> <td>3650000   </td> <td>200 EAST 66TH   STREET </td> <td>E2007           </td> <td>1951      </td> <td>UPPER EAST SIDE (59-79)</td> <td>10065   </td> <td>R4                            </td> <td>13 CONDOS - ELEVATOR APARTMENTS   </td> <td>200 EAST 66TH   STREET, E2007</td>\n",
       "        </tr>\n",
       "        <tr>\n",
       "            <td>2017-11-29 00:00:00</td> <td>3912010   </td> <td>1 WEST END AVENUE      </td> <td>                </td> <td>0         </td> <td>UPPER WEST SIDE (59-79)</td> <td>10023   </td> <td>R4                            </td> <td>13 CONDOS - ELEVATOR APARTMENTS   </td> <td>1 WEST END AVENUE            </td>\n",
       "        </tr>\n",
       "        <tr>\n",
       "            <td>2013-02-14 00:00:00</td> <td>920000    </td> <td>530 EAST 76TH STREET   </td> <td>29C             </td> <td>1986      </td> <td>UPPER EAST SIDE (59-79)</td> <td>10021   </td> <td>R4                            </td> <td>13  CONDOS - ELEVATOR APARTMENTS  </td> <td>530 EAST 76TH STREET, 29C    </td>\n",
       "        </tr>\n",
       "        <tr>\n",
       "            <td>2006-12-15 00:00:00</td> <td>860421    </td> <td>555 WEST 23RD   STREET </td> <td>S14D            </td> <td>2005      </td> <td>CHELSEA                </td> <td>10011   </td> <td>R4                            </td> <td>13  CONDOS - ELEVATOR APARTMENTS  </td> <td>555 WEST 23RD   STREET, S14D </td>\n",
       "        </tr>\n",
       "    </tbody>\n",
       "</table>"
      ],
      "text/plain": [
       "SALE DATE           | SALE PRICE | ADDRESS                 | APARTMENT NUMBER | YEAR BUILT | NEIGHBORHOOD            | ZIP CODE | BUILDING CLASS AT TIME OF SALE | BUILDING CLASS CATEGORY            | FULL ADDRESS\n",
       "2004-05-13 00:00:00 | 1225000    | 117 EAST 57 STREET      | 28C/D            | 1975       | MIDTOWN CBD             | 10022    | R4                             | 13  CONDOS - ELEVATOR APARTMENTS   | 117 EAST 57 STREET, 28C/D\n",
       "2010-04-08 00:00:00 | 803779     | 151 HUDSON STREET       | 9                | 1910       | TRIBECA                 | 10013    | R1                             | 15  CONDOS - 2-10 UNIT RESIDENTIAL | 151 HUDSON STREET, 9\n",
       "2006-03-31 00:00:00 | 1251225    | 120 RIVERSIDE BOULEVARD | 12T              | 0          | UPPER WEST SIDE (59-79) | 10023    | R4                             | 13  CONDOS - ELEVATOR APARTMENTS   | 120 RIVERSIDE BOULEVARD, 12T\n",
       "2017-12-21 00:00:00 | 1455000    | 2000 BROADWAY           | 5I               | 1987       | UPPER WEST SIDE (59-79) | 10023    | R4                             | 13 CONDOS - ELEVATOR APARTMENTS    | 2000 BROADWAY, 5I\n",
       "2006-05-05 00:00:00 | 767760     | 21 SOUTH WILLIAM STREET | 7E               | 0          | FINANCIAL               | 10004    | R4                             | 13  CONDOS - ELEVATOR APARTMENTS   | 21 SOUTH WILLIAM STREET, 7E\n",
       "2012-12-14 00:00:00 | 213200     | 41 WEST 72ND   STREET   | 4F               | 0          | UPPER WEST SIDE (59-79) | 10023    | R4                             | 13  CONDOS - ELEVATOR APARTMENTS   | 41 WEST 72ND   STREET, 4F\n",
       "2017-12-01 00:00:00 | 3650000    | 200 EAST 66TH   STREET  | E2007            | 1951       | UPPER EAST SIDE (59-79) | 10065    | R4                             | 13 CONDOS - ELEVATOR APARTMENTS    | 200 EAST 66TH   STREET, E2007\n",
       "2017-11-29 00:00:00 | 3912010    | 1 WEST END AVENUE       |                  | 0          | UPPER WEST SIDE (59-79) | 10023    | R4                             | 13 CONDOS - ELEVATOR APARTMENTS    | 1 WEST END AVENUE\n",
       "2013-02-14 00:00:00 | 920000     | 530 EAST 76TH STREET    | 29C              | 1986       | UPPER EAST SIDE (59-79) | 10021    | R4                             | 13  CONDOS - ELEVATOR APARTMENTS   | 530 EAST 76TH STREET, 29C\n",
       "2006-12-15 00:00:00 | 860421     | 555 WEST 23RD   STREET  | S14D             | 2005       | CHELSEA                 | 10011    | R4                             | 13  CONDOS - ELEVATOR APARTMENTS   | 555 WEST 23RD   STREET, S14D"
      ]
     },
     "execution_count": 18,
     "metadata": {},
     "output_type": "execute_result"
    }
   ],
   "source": [
    "condos = all_sales_data.where('BUILDING CLASS AT TIME OF SALE', are.contained_in(\"R1R2R3R4R6\"))\n",
    "\n",
    "# Spot Check condo data\n",
    "condos.sample(10)"
   ]
  },
  {
   "cell_type": "markdown",
   "metadata": {},
   "source": [
    "Let's find condos with multiple sales"
   ]
  },
  {
   "cell_type": "code",
   "execution_count": 19,
   "metadata": {},
   "outputs": [
    {
     "data": {
      "text/html": [
       "<table border=\"1\" class=\"dataframe\">\n",
       "    <thead>\n",
       "        <tr>\n",
       "            <th>FULL ADDRESS</th> <th>count</th>\n",
       "        </tr>\n",
       "    </thead>\n",
       "    <tbody>\n",
       "        <tr>\n",
       "            <td>1 WEST END AVENUE        </td> <td>136  </td>\n",
       "        </tr>\n",
       "        <tr>\n",
       "            <td>45 EAST 22ND   STREET    </td> <td>51   </td>\n",
       "        </tr>\n",
       "        <tr>\n",
       "            <td>245 WEST 99TH STREET     </td> <td>51   </td>\n",
       "        </tr>\n",
       "        <tr>\n",
       "            <td>171 WEST 131 STREET      </td> <td>44   </td>\n",
       "        </tr>\n",
       "        <tr>\n",
       "            <td>959 1 AVENUE             </td> <td>42   </td>\n",
       "        </tr>\n",
       "        <tr>\n",
       "            <td>416 WEST 52ND STREET     </td> <td>39   </td>\n",
       "        </tr>\n",
       "        <tr>\n",
       "            <td>245 WEST 99TH   STREET   </td> <td>37   </td>\n",
       "        </tr>\n",
       "        <tr>\n",
       "            <td>2094 FREDRICK DOUGLASS BL</td> <td>35   </td>\n",
       "        </tr>\n",
       "        <tr>\n",
       "            <td>172 MADISON AVENUE       </td> <td>35   </td>\n",
       "        </tr>\n",
       "        <tr>\n",
       "            <td>360 EAST 89TH   STREET   </td> <td>23   </td>\n",
       "        </tr>\n",
       "    </tbody>\n",
       "</table>\n",
       "<p>... (86543 rows omitted)</p>"
      ],
      "text/plain": [
       "FULL ADDRESS              | count\n",
       "1 WEST END AVENUE         | 136\n",
       "45 EAST 22ND   STREET     | 51\n",
       "245 WEST 99TH STREET      | 51\n",
       "171 WEST 131 STREET       | 44\n",
       "959 1 AVENUE              | 42\n",
       "416 WEST 52ND STREET      | 39\n",
       "245 WEST 99TH   STREET    | 37\n",
       "2094 FREDRICK DOUGLASS BL | 35\n",
       "172 MADISON AVENUE        | 35\n",
       "360 EAST 89TH   STREET    | 23\n",
       "... (86543 rows omitted)"
      ]
     },
     "execution_count": 19,
     "metadata": {},
     "output_type": "execute_result"
    }
   ],
   "source": [
    "condos.group(COL_FULL_ADDRESS).sort(1, descending=True)"
   ]
  },
  {
   "cell_type": "markdown",
   "metadata": {},
   "source": [
    "It looks like apt numbers are missing for most of the top sales. In order to focus on manhattan apartments let's ignore anything without an apt number. i.e. anything without a ',' (comma) in the Full Address"
   ]
  },
  {
   "cell_type": "code",
   "execution_count": 20,
   "metadata": {},
   "outputs": [
    {
     "data": {
      "text/html": [
       "<table border=\"1\" class=\"dataframe\">\n",
       "    <thead>\n",
       "        <tr>\n",
       "            <th>FULL ADDRESS</th> <th>count</th>\n",
       "        </tr>\n",
       "    </thead>\n",
       "    <tbody>\n",
       "        <tr>\n",
       "            <td>2 EAST 55 STREET, 835    </td> <td>8    </td>\n",
       "        </tr>\n",
       "        <tr>\n",
       "            <td>2 EAST 55TH   STREET, 935</td> <td>7    </td>\n",
       "        </tr>\n",
       "        <tr>\n",
       "            <td>2 EAST 55 STREET, 921    </td> <td>7    </td>\n",
       "        </tr>\n",
       "        <tr>\n",
       "            <td>2 EAST 55 STREET, 936    </td> <td>6    </td>\n",
       "        </tr>\n",
       "        <tr>\n",
       "            <td>2 EAST 55 STREET, 903    </td> <td>6    </td>\n",
       "        </tr>\n",
       "        <tr>\n",
       "            <td>1420 YORK AVENUE, 5M     </td> <td>6    </td>\n",
       "        </tr>\n",
       "        <tr>\n",
       "            <td>140 7 AVENUE, 6A         </td> <td>6    </td>\n",
       "        </tr>\n",
       "        <tr>\n",
       "            <td>900 PARK AVENUE, 27E     </td> <td>5    </td>\n",
       "        </tr>\n",
       "        <tr>\n",
       "            <td>77 PARK AVENUE, 2F       </td> <td>5    </td>\n",
       "        </tr>\n",
       "        <tr>\n",
       "            <td>571 ACADEMY STREET, 1H   </td> <td>5    </td>\n",
       "        </tr>\n",
       "    </tbody>\n",
       "</table>\n",
       "<p>... (15699 rows omitted)</p>"
      ],
      "text/plain": [
       "FULL ADDRESS              | count\n",
       "2 EAST 55 STREET, 835     | 8\n",
       "2 EAST 55TH   STREET, 935 | 7\n",
       "2 EAST 55 STREET, 921     | 7\n",
       "2 EAST 55 STREET, 936     | 6\n",
       "2 EAST 55 STREET, 903     | 6\n",
       "1420 YORK AVENUE, 5M      | 6\n",
       "140 7 AVENUE, 6A          | 6\n",
       "900 PARK AVENUE, 27E      | 5\n",
       "77 PARK AVENUE, 2F        | 5\n",
       "571 ACADEMY STREET, 1H    | 5\n",
       "... (15699 rows omitted)"
      ]
     },
     "execution_count": 20,
     "metadata": {},
     "output_type": "execute_result"
    }
   ],
   "source": [
    "multi_sale_condos = condos.where(COL_FULL_ADDRESS, are.containing(',')).group(COL_FULL_ADDRESS).sort(1, descending=True).where('count', are.above(1))\n",
    "multi_sale_condos"
   ]
  },
  {
   "cell_type": "markdown",
   "metadata": {},
   "source": [
    "There are a lot less records with apt numbers, but still roughly 16K records enough to proceed."
   ]
  },
  {
   "cell_type": "code",
   "execution_count": 21,
   "metadata": {},
   "outputs": [
    {
     "data": {
      "text/html": [
       "<table border=\"1\" class=\"dataframe\">\n",
       "    <thead>\n",
       "        <tr>\n",
       "            <th>FULL ADDRESS</th> <th>count</th> <th>SALE DATE</th> <th>SALE PRICE</th> <th>ADDRESS</th> <th>APARTMENT NUMBER</th> <th>YEAR BUILT</th> <th>NEIGHBORHOOD</th> <th>ZIP CODE</th> <th>BUILDING CLASS AT TIME OF SALE</th> <th>BUILDING CLASS CATEGORY</th>\n",
       "        </tr>\n",
       "    </thead>\n",
       "    <tbody>\n",
       "        <tr>\n",
       "            <td>1 BOND STREET, 2B</td> <td>2    </td> <td>2004-08-04 00:00:00</td> <td>31000     </td> <td>1 BOND STREET</td> <td>2B              </td> <td>0         </td> <td>GREENWICH VILLAGE-CENTRAL</td> <td>10012   </td> <td>R4                            </td> <td>13  CONDOS - ELEVATOR APARTMENTS</td>\n",
       "        </tr>\n",
       "        <tr>\n",
       "            <td>1 BOND STREET, 2B</td> <td>2    </td> <td>2009-08-20 00:00:00</td> <td>1591000   </td> <td>1 BOND STREET</td> <td>2B              </td> <td>0         </td> <td>GREENWICH VILLAGE-CENTRAL</td> <td>10012   </td> <td>R4                            </td> <td>13  CONDOS - ELEVATOR APARTMENTS</td>\n",
       "        </tr>\n",
       "        <tr>\n",
       "            <td>1 BOND STREET, 2C</td> <td>2    </td> <td>2017-08-18 00:00:00</td> <td>5640000   </td> <td>1 BOND STREET</td> <td>2C              </td> <td>0         </td> <td>GREENWICH VILLAGE-CENTRAL</td> <td>10012   </td> <td>R4                            </td> <td>13 CONDOS - ELEVATOR APARTMENTS </td>\n",
       "        </tr>\n",
       "        <tr>\n",
       "            <td>1 BOND STREET, 2C</td> <td>2    </td> <td>2010-12-15 00:00:00</td> <td>600000    </td> <td>1 BOND STREET</td> <td>2C              </td> <td>0         </td> <td>GREENWICH VILLAGE-CENTRAL</td> <td>10012   </td> <td>R4                            </td> <td>13  CONDOS - ELEVATOR APARTMENTS</td>\n",
       "        </tr>\n",
       "        <tr>\n",
       "            <td>1 BOND STREET, 2D</td> <td>2    </td> <td>2009-04-24 00:00:00</td> <td>1195000   </td> <td>1 BOND STREET</td> <td>2D              </td> <td>0         </td> <td>GREENWICH VILLAGE-CENTRAL</td> <td>10012   </td> <td>R4                            </td> <td>13  CONDOS - ELEVATOR APARTMENTS</td>\n",
       "        </tr>\n",
       "        <tr>\n",
       "            <td>1 BOND STREET, 2D</td> <td>2    </td> <td>2014-01-07 00:00:00</td> <td>1925000   </td> <td>1 BOND STREET</td> <td>2D              </td> <td>0         </td> <td>GREENWICH VILLAGE-CENTRAL</td> <td>10012   </td> <td>R4                            </td> <td>13  CONDOS - ELEVATOR APARTMENTS</td>\n",
       "        </tr>\n",
       "        <tr>\n",
       "            <td>1 BOND STREET, 3A</td> <td>2    </td> <td>2013-06-14 00:00:00</td> <td>7200000   </td> <td>1 BOND STREET</td> <td>3A              </td> <td>0         </td> <td>GREENWICH VILLAGE-CENTRAL</td> <td>10012   </td> <td>R4                            </td> <td>13  CONDOS - ELEVATOR APARTMENTS</td>\n",
       "        </tr>\n",
       "        <tr>\n",
       "            <td>1 BOND STREET, 3A</td> <td>2    </td> <td>2008-06-06 00:00:00</td> <td>5030000   </td> <td>1 BOND STREET</td> <td>3A              </td> <td>0         </td> <td>GREENWICH VILLAGE-CENTRAL</td> <td>10012   </td> <td>R4                            </td> <td>13  CONDOS - ELEVATOR APARTMENTS</td>\n",
       "        </tr>\n",
       "        <tr>\n",
       "            <td>1 BOND STREET, 4D</td> <td>2    </td> <td>2006-08-30 00:00:00</td> <td>1565000   </td> <td>1 BOND STREET</td> <td>4D              </td> <td>0         </td> <td>GREENWICH VILLAGE-CENTRAL</td> <td>10012   </td> <td>R4                            </td> <td>13  CONDOS - ELEVATOR APARTMENTS</td>\n",
       "        </tr>\n",
       "        <tr>\n",
       "            <td>1 BOND STREET, 4D</td> <td>2    </td> <td>2013-08-20 00:00:00</td> <td>2415000   </td> <td>1 BOND STREET</td> <td>4D              </td> <td>0         </td> <td>GREENWICH VILLAGE-CENTRAL</td> <td>10012   </td> <td>R4                            </td> <td>13  CONDOS - ELEVATOR APARTMENTS</td>\n",
       "        </tr>\n",
       "    </tbody>\n",
       "</table>\n",
       "<p>... (34144 rows omitted)</p>"
      ],
      "text/plain": [
       "FULL ADDRESS      | count | SALE DATE           | SALE PRICE | ADDRESS       | APARTMENT NUMBER | YEAR BUILT | NEIGHBORHOOD              | ZIP CODE | BUILDING CLASS AT TIME OF SALE | BUILDING CLASS CATEGORY\n",
       "1 BOND STREET, 2B | 2     | 2004-08-04 00:00:00 | 31000      | 1 BOND STREET | 2B               | 0          | GREENWICH VILLAGE-CENTRAL | 10012    | R4                             | 13  CONDOS - ELEVATOR APARTMENTS\n",
       "1 BOND STREET, 2B | 2     | 2009-08-20 00:00:00 | 1591000    | 1 BOND STREET | 2B               | 0          | GREENWICH VILLAGE-CENTRAL | 10012    | R4                             | 13  CONDOS - ELEVATOR APARTMENTS\n",
       "1 BOND STREET, 2C | 2     | 2017-08-18 00:00:00 | 5640000    | 1 BOND STREET | 2C               | 0          | GREENWICH VILLAGE-CENTRAL | 10012    | R4                             | 13 CONDOS - ELEVATOR APARTMENTS\n",
       "1 BOND STREET, 2C | 2     | 2010-12-15 00:00:00 | 600000     | 1 BOND STREET | 2C               | 0          | GREENWICH VILLAGE-CENTRAL | 10012    | R4                             | 13  CONDOS - ELEVATOR APARTMENTS\n",
       "1 BOND STREET, 2D | 2     | 2009-04-24 00:00:00 | 1195000    | 1 BOND STREET | 2D               | 0          | GREENWICH VILLAGE-CENTRAL | 10012    | R4                             | 13  CONDOS - ELEVATOR APARTMENTS\n",
       "1 BOND STREET, 2D | 2     | 2014-01-07 00:00:00 | 1925000    | 1 BOND STREET | 2D               | 0          | GREENWICH VILLAGE-CENTRAL | 10012    | R4                             | 13  CONDOS - ELEVATOR APARTMENTS\n",
       "1 BOND STREET, 3A | 2     | 2013-06-14 00:00:00 | 7200000    | 1 BOND STREET | 3A               | 0          | GREENWICH VILLAGE-CENTRAL | 10012    | R4                             | 13  CONDOS - ELEVATOR APARTMENTS\n",
       "1 BOND STREET, 3A | 2     | 2008-06-06 00:00:00 | 5030000    | 1 BOND STREET | 3A               | 0          | GREENWICH VILLAGE-CENTRAL | 10012    | R4                             | 13  CONDOS - ELEVATOR APARTMENTS\n",
       "1 BOND STREET, 4D | 2     | 2006-08-30 00:00:00 | 1565000    | 1 BOND STREET | 4D               | 0          | GREENWICH VILLAGE-CENTRAL | 10012    | R4                             | 13  CONDOS - ELEVATOR APARTMENTS\n",
       "1 BOND STREET, 4D | 2     | 2013-08-20 00:00:00 | 2415000    | 1 BOND STREET | 4D               | 0          | GREENWICH VILLAGE-CENTRAL | 10012    | R4                             | 13  CONDOS - ELEVATOR APARTMENTS\n",
       "... (34144 rows omitted)"
      ]
     },
     "execution_count": 21,
     "metadata": {},
     "output_type": "execute_result"
    }
   ],
   "source": [
    "# Define a new table for condos with multiple sales. \n",
    "\n",
    "multi_sale_condos = multi_sale_condos.join(COL_FULL_ADDRESS, condos)\n",
    "multi_sale_condos.sort(0)"
   ]
  },
  {
   "cell_type": "markdown",
   "metadata": {},
   "source": [
    "## Find the first and last sale date for each condo"
   ]
  },
  {
   "cell_type": "code",
   "execution_count": 22,
   "metadata": {},
   "outputs": [
    {
     "data": {
      "text/html": [
       "<table border=\"1\" class=\"dataframe\">\n",
       "    <thead>\n",
       "        <tr>\n",
       "            <th>FULL ADDRESS</th> <th>SALE DATE min</th>\n",
       "        </tr>\n",
       "    </thead>\n",
       "    <tbody>\n",
       "        <tr>\n",
       "            <td>1 BOND STREET, 2B</td> <td>2004-08-04 00:00:00</td>\n",
       "        </tr>\n",
       "        <tr>\n",
       "            <td>1 BOND STREET, 2C</td> <td>2010-12-15 00:00:00</td>\n",
       "        </tr>\n",
       "        <tr>\n",
       "            <td>1 BOND STREET, 2D</td> <td>2009-04-24 00:00:00</td>\n",
       "        </tr>\n",
       "        <tr>\n",
       "            <td>1 BOND STREET, 3A</td> <td>2008-06-06 00:00:00</td>\n",
       "        </tr>\n",
       "        <tr>\n",
       "            <td>1 BOND STREET, 4D</td> <td>2006-08-30 00:00:00</td>\n",
       "        </tr>\n",
       "    </tbody>\n",
       "</table>\n",
       "<p>... (15704 rows omitted)</p>"
      ],
      "text/plain": [
       "<IPython.core.display.HTML object>"
      ]
     },
     "metadata": {},
     "output_type": "display_data"
    },
    {
     "data": {
      "text/html": [
       "<table border=\"1\" class=\"dataframe\">\n",
       "    <thead>\n",
       "        <tr>\n",
       "            <th>FULL ADDRESS</th> <th>SALE DATE max</th>\n",
       "        </tr>\n",
       "    </thead>\n",
       "    <tbody>\n",
       "        <tr>\n",
       "            <td>1 BOND STREET, 2B</td> <td>2009-08-20 00:00:00</td>\n",
       "        </tr>\n",
       "        <tr>\n",
       "            <td>1 BOND STREET, 2C</td> <td>2017-08-18 00:00:00</td>\n",
       "        </tr>\n",
       "        <tr>\n",
       "            <td>1 BOND STREET, 2D</td> <td>2014-01-07 00:00:00</td>\n",
       "        </tr>\n",
       "        <tr>\n",
       "            <td>1 BOND STREET, 3A</td> <td>2013-06-14 00:00:00</td>\n",
       "        </tr>\n",
       "        <tr>\n",
       "            <td>1 BOND STREET, 4D</td> <td>2013-08-20 00:00:00</td>\n",
       "        </tr>\n",
       "    </tbody>\n",
       "</table>\n",
       "<p>... (15704 rows omitted)</p>"
      ],
      "text/plain": [
       "<IPython.core.display.HTML object>"
      ]
     },
     "metadata": {},
     "output_type": "display_data"
    }
   ],
   "source": [
    "purchase_dates = multi_sale_condos.select(COL_FULL_ADDRESS, COL_SALE_DATE).group([0], min)\n",
    "sold_dates = multi_sale_condos.select(COL_FULL_ADDRESS, COL_SALE_DATE).group([0], max)\n",
    "\n",
    "# Note for the purposes of this analysis, we can ignore any additnal sales between min and max dates\n",
    "\n",
    "# Spot check data\n",
    "purchase_dates.show(5)\n",
    "sold_dates.show(5)"
   ]
  },
  {
   "cell_type": "code",
   "execution_count": 23,
   "metadata": {},
   "outputs": [],
   "source": [
    "# Update Labels\n",
    "\n",
    "purchase_dates = purchase_dates.relabel(1, COL_PURCHASE_DATE)\n",
    "sold_dates = sold_dates.relabel(1, COL_SOLD_DATE)"
   ]
  },
  {
   "cell_type": "code",
   "execution_count": 24,
   "metadata": {},
   "outputs": [],
   "source": [
    "# Join with Condos to get the sale price\n",
    "purchase_dates = purchase_dates.join(COL_FULL_ADDRESS, condos, COL_FULL_ADDRESS).where(COL_SALE_DATE, are.equal_to, COL_PURCHASE_DATE)\n",
    "purchase_dates = purchase_dates.select( COL_FULL_ADDRESS, COL_PURCHASE_DATE, COL_SALE_PRICE)\n",
    "\n",
    "\n",
    "sold_dates = sold_dates.join(COL_FULL_ADDRESS, condos, COL_FULL_ADDRESS).where(COL_SALE_DATE, are.equal_to, COL_SOLD_DATE)\n",
    "sold_dates = sold_dates.select( COL_FULL_ADDRESS, COL_SOLD_DATE, COL_SALE_PRICE)\n"
   ]
  },
  {
   "cell_type": "code",
   "execution_count": 25,
   "metadata": {},
   "outputs": [
    {
     "data": {
      "text/html": [
       "<table border=\"1\" class=\"dataframe\">\n",
       "    <thead>\n",
       "        <tr>\n",
       "            <th>FULL ADDRESS</th> <th>PURCHASE DATE</th> <th>SALE PRICE</th>\n",
       "        </tr>\n",
       "    </thead>\n",
       "    <tbody>\n",
       "        <tr>\n",
       "            <td>1 BOND STREET, 2B</td> <td>2004-08-04 00:00:00</td> <td>31000     </td>\n",
       "        </tr>\n",
       "        <tr>\n",
       "            <td>1 BOND STREET, 2C</td> <td>2010-12-15 00:00:00</td> <td>600000    </td>\n",
       "        </tr>\n",
       "        <tr>\n",
       "            <td>1 BOND STREET, 2D</td> <td>2009-04-24 00:00:00</td> <td>1195000   </td>\n",
       "        </tr>\n",
       "        <tr>\n",
       "            <td>1 BOND STREET, 3A</td> <td>2008-06-06 00:00:00</td> <td>5030000   </td>\n",
       "        </tr>\n",
       "        <tr>\n",
       "            <td>1 BOND STREET, 4D</td> <td>2006-08-30 00:00:00</td> <td>1565000   </td>\n",
       "        </tr>\n",
       "    </tbody>\n",
       "</table>\n",
       "<p>... (16099 rows omitted)</p>"
      ],
      "text/plain": [
       "<IPython.core.display.HTML object>"
      ]
     },
     "metadata": {},
     "output_type": "display_data"
    },
    {
     "data": {
      "text/html": [
       "<table border=\"1\" class=\"dataframe\">\n",
       "    <thead>\n",
       "        <tr>\n",
       "            <th>FULL ADDRESS</th> <th>SOLD DATE</th> <th>SALE PRICE</th>\n",
       "        </tr>\n",
       "    </thead>\n",
       "    <tbody>\n",
       "        <tr>\n",
       "            <td>1 BOND STREET, 2B</td> <td>2009-08-20 00:00:00</td> <td>1591000   </td>\n",
       "        </tr>\n",
       "        <tr>\n",
       "            <td>1 BOND STREET, 2C</td> <td>2017-08-18 00:00:00</td> <td>5640000   </td>\n",
       "        </tr>\n",
       "        <tr>\n",
       "            <td>1 BOND STREET, 2D</td> <td>2014-01-07 00:00:00</td> <td>1925000   </td>\n",
       "        </tr>\n",
       "        <tr>\n",
       "            <td>1 BOND STREET, 3A</td> <td>2013-06-14 00:00:00</td> <td>7200000   </td>\n",
       "        </tr>\n",
       "        <tr>\n",
       "            <td>1 BOND STREET, 4D</td> <td>2013-08-20 00:00:00</td> <td>2415000   </td>\n",
       "        </tr>\n",
       "    </tbody>\n",
       "</table>\n",
       "<p>... (16232 rows omitted)</p>"
      ],
      "text/plain": [
       "<IPython.core.display.HTML object>"
      ]
     },
     "metadata": {},
     "output_type": "display_data"
    }
   ],
   "source": [
    "purchase_dates.show(5)\n",
    "sold_dates.show(5)\n",
    "\n",
    "# Hmm earlier we had 16187 now we have more! Could we have multiple sale records for the same date??"
   ]
  },
  {
   "cell_type": "code",
   "execution_count": 26,
   "metadata": {},
   "outputs": [
    {
     "data": {
      "text/html": [
       "<table border=\"1\" class=\"dataframe\">\n",
       "    <thead>\n",
       "        <tr>\n",
       "            <th>FULL ADDRESS</th> <th>PURCHASE DATE</th> <th>count</th>\n",
       "        </tr>\n",
       "    </thead>\n",
       "    <tbody>\n",
       "        <tr>\n",
       "            <td>2 EAST 55 STREET, 921   </td> <td>2006-08-22 00:00:00</td> <td>4    </td>\n",
       "        </tr>\n",
       "        <tr>\n",
       "            <td>99 BATTERY PLACE, 20-D  </td> <td>2017-12-15 00:00:00</td> <td>2    </td>\n",
       "        </tr>\n",
       "        <tr>\n",
       "            <td>959 1ST AVENUE, 2B      </td> <td>2017-12-19 00:00:00</td> <td>2    </td>\n",
       "        </tr>\n",
       "        <tr>\n",
       "            <td>959 1 AVENUE, 5A        </td> <td>2017-12-21 00:00:00</td> <td>2    </td>\n",
       "        </tr>\n",
       "        <tr>\n",
       "            <td>959 1 AVENUE, 4G        </td> <td>2017-12-21 00:00:00</td> <td>2    </td>\n",
       "        </tr>\n",
       "        <tr>\n",
       "            <td>949 PARK AVENUE, PH     </td> <td>2012-01-31 00:00:00</td> <td>2    </td>\n",
       "        </tr>\n",
       "        <tr>\n",
       "            <td>93 WORTH STREET, PH1    </td> <td>2016-03-03 00:00:00</td> <td>2    </td>\n",
       "        </tr>\n",
       "        <tr>\n",
       "            <td>93 WORTH STREET, 301    </td> <td>2014-04-03 00:00:00</td> <td>2    </td>\n",
       "        </tr>\n",
       "        <tr>\n",
       "            <td>9 WEST 20TH STREET, 3   </td> <td>2017-12-19 00:00:00</td> <td>2    </td>\n",
       "        </tr>\n",
       "        <tr>\n",
       "            <td>88 LEXINGTON AVENUE, 606</td> <td>2017-12-29 00:00:00</td> <td>2    </td>\n",
       "        </tr>\n",
       "    </tbody>\n",
       "</table>\n",
       "<p>... (383 rows omitted)</p>"
      ],
      "text/plain": [
       "FULL ADDRESS             | PURCHASE DATE       | count\n",
       "2 EAST 55 STREET, 921    | 2006-08-22 00:00:00 | 4\n",
       "99 BATTERY PLACE, 20-D   | 2017-12-15 00:00:00 | 2\n",
       "959 1ST AVENUE, 2B       | 2017-12-19 00:00:00 | 2\n",
       "959 1 AVENUE, 5A         | 2017-12-21 00:00:00 | 2\n",
       "959 1 AVENUE, 4G         | 2017-12-21 00:00:00 | 2\n",
       "949 PARK AVENUE, PH      | 2012-01-31 00:00:00 | 2\n",
       "93 WORTH STREET, PH1     | 2016-03-03 00:00:00 | 2\n",
       "93 WORTH STREET, 301     | 2014-04-03 00:00:00 | 2\n",
       "9 WEST 20TH STREET, 3    | 2017-12-19 00:00:00 | 2\n",
       "88 LEXINGTON AVENUE, 606 | 2017-12-29 00:00:00 | 2\n",
       "... (383 rows omitted)"
      ]
     },
     "execution_count": 26,
     "metadata": {},
     "output_type": "execute_result"
    }
   ],
   "source": [
    "# Yep duplicate sales on the same day!\n",
    "\n",
    "purchase_dates.groups([COL_FULL_ADDRESS, COL_PURCHASE_DATE]).sort(2, descending=True).where(2, are.above(1))"
   ]
  },
  {
   "cell_type": "code",
   "execution_count": 27,
   "metadata": {},
   "outputs": [
    {
     "data": {
      "text/html": [
       "<table border=\"1\" class=\"dataframe\">\n",
       "    <thead>\n",
       "        <tr>\n",
       "            <th>SALE DATE</th> <th>SALE PRICE</th> <th>ADDRESS</th> <th>APARTMENT NUMBER</th> <th>YEAR BUILT</th> <th>NEIGHBORHOOD</th> <th>ZIP CODE</th> <th>BUILDING CLASS AT TIME OF SALE</th> <th>BUILDING CLASS CATEGORY</th> <th>FULL ADDRESS</th>\n",
       "        </tr>\n",
       "    </thead>\n",
       "    <tbody>\n",
       "        <tr>\n",
       "            <td>2006-10-09 00:00:00</td> <td>467251    </td> <td>2 EAST 55 STREET</td> <td>921             </td> <td>1903      </td> <td>MIDTOWN CBD </td> <td>10022   </td> <td>R4                            </td> <td>13  CONDOS - ELEVATOR APARTMENTS</td> <td>2 EAST 55 STREET, 921</td>\n",
       "        </tr>\n",
       "        <tr>\n",
       "            <td>2006-10-09 00:00:00</td> <td>403977    </td> <td>2 EAST 55 STREET</td> <td>921             </td> <td>1903      </td> <td>MIDTOWN CBD </td> <td>10022   </td> <td>R4                            </td> <td>13  CONDOS - ELEVATOR APARTMENTS</td> <td>2 EAST 55 STREET, 921</td>\n",
       "        </tr>\n",
       "        <tr>\n",
       "            <td>2006-09-05 00:00:00</td> <td>451230    </td> <td>2 EAST 55 STREET</td> <td>921             </td> <td>1903      </td> <td>MIDTOWN CBD </td> <td>10022   </td> <td>R4                            </td> <td>13  CONDOS - ELEVATOR APARTMENTS</td> <td>2 EAST 55 STREET, 921</td>\n",
       "        </tr>\n",
       "        <tr>\n",
       "            <td>2006-08-22 00:00:00</td> <td>486720    </td> <td>2 EAST 55 STREET</td> <td>921             </td> <td>1903      </td> <td>MIDTOWN CBD </td> <td>10022   </td> <td>R4                            </td> <td>13  CONDOS - ELEVATOR APARTMENTS</td> <td>2 EAST 55 STREET, 921</td>\n",
       "        </tr>\n",
       "        <tr>\n",
       "            <td>2006-08-22 00:00:00</td> <td>496860    </td> <td>2 EAST 55 STREET</td> <td>921             </td> <td>1903      </td> <td>MIDTOWN CBD </td> <td>10022   </td> <td>R4                            </td> <td>13  CONDOS - ELEVATOR APARTMENTS</td> <td>2 EAST 55 STREET, 921</td>\n",
       "        </tr>\n",
       "        <tr>\n",
       "            <td>2006-08-22 00:00:00</td> <td>486922    </td> <td>2 EAST 55 STREET</td> <td>921             </td> <td>1903      </td> <td>MIDTOWN CBD </td> <td>10022   </td> <td>R4                            </td> <td>13  CONDOS - ELEVATOR APARTMENTS</td> <td>2 EAST 55 STREET, 921</td>\n",
       "        </tr>\n",
       "        <tr>\n",
       "            <td>2006-08-22 00:00:00</td> <td>412393    </td> <td>2 EAST 55 STREET</td> <td>921             </td> <td>1903      </td> <td>MIDTOWN CBD </td> <td>10022   </td> <td>R4                            </td> <td>13  CONDOS - ELEVATOR APARTMENTS</td> <td>2 EAST 55 STREET, 921</td>\n",
       "        </tr>\n",
       "    </tbody>\n",
       "</table>"
      ],
      "text/plain": [
       "SALE DATE           | SALE PRICE | ADDRESS          | APARTMENT NUMBER | YEAR BUILT | NEIGHBORHOOD | ZIP CODE | BUILDING CLASS AT TIME OF SALE | BUILDING CLASS CATEGORY          | FULL ADDRESS\n",
       "2006-10-09 00:00:00 | 467251     | 2 EAST 55 STREET | 921              | 1903       | MIDTOWN CBD  | 10022    | R4                             | 13  CONDOS - ELEVATOR APARTMENTS | 2 EAST 55 STREET, 921\n",
       "2006-10-09 00:00:00 | 403977     | 2 EAST 55 STREET | 921              | 1903       | MIDTOWN CBD  | 10022    | R4                             | 13  CONDOS - ELEVATOR APARTMENTS | 2 EAST 55 STREET, 921\n",
       "2006-09-05 00:00:00 | 451230     | 2 EAST 55 STREET | 921              | 1903       | MIDTOWN CBD  | 10022    | R4                             | 13  CONDOS - ELEVATOR APARTMENTS | 2 EAST 55 STREET, 921\n",
       "2006-08-22 00:00:00 | 486720     | 2 EAST 55 STREET | 921              | 1903       | MIDTOWN CBD  | 10022    | R4                             | 13  CONDOS - ELEVATOR APARTMENTS | 2 EAST 55 STREET, 921\n",
       "2006-08-22 00:00:00 | 496860     | 2 EAST 55 STREET | 921              | 1903       | MIDTOWN CBD  | 10022    | R4                             | 13  CONDOS - ELEVATOR APARTMENTS | 2 EAST 55 STREET, 921\n",
       "2006-08-22 00:00:00 | 486922     | 2 EAST 55 STREET | 921              | 1903       | MIDTOWN CBD  | 10022    | R4                             | 13  CONDOS - ELEVATOR APARTMENTS | 2 EAST 55 STREET, 921\n",
       "2006-08-22 00:00:00 | 412393     | 2 EAST 55 STREET | 921              | 1903       | MIDTOWN CBD  | 10022    | R4                             | 13  CONDOS - ELEVATOR APARTMENTS | 2 EAST 55 STREET, 921"
      ]
     },
     "execution_count": 27,
     "metadata": {},
     "output_type": "execute_result"
    }
   ],
   "source": [
    "# Spot check some duplicate addresses to understand what's going on\n",
    "condos.where(COL_FULL_ADDRESS, are.equal_to('2 EAST 55 STREET, 921'))"
   ]
  },
  {
   "cell_type": "code",
   "execution_count": 28,
   "metadata": {},
   "outputs": [],
   "source": [
    "# It's not really clear what might be going on. Let's just take the corresponding min and max value to keep moving along\n",
    "\n",
    "purchase_dates = purchase_dates.group([COL_FULL_ADDRESS, COL_PURCHASE_DATE], min)\n",
    "sold_dates = sold_dates.group([COL_FULL_ADDRESS, COL_SOLD_DATE], max)\n"
   ]
  },
  {
   "cell_type": "code",
   "execution_count": 29,
   "metadata": {},
   "outputs": [
    {
     "data": {
      "text/html": [
       "<table border=\"1\" class=\"dataframe\">\n",
       "    <thead>\n",
       "        <tr>\n",
       "            <th>FULL ADDRESS</th> <th>PURCHASE DATE</th> <th>PURCHASE PRICE</th> <th>SOLD DATE</th> <th>SOLD PRICE</th>\n",
       "        </tr>\n",
       "    </thead>\n",
       "    <tbody>\n",
       "        <tr>\n",
       "            <td>1 BOND STREET, 2B         </td> <td>2004-08-04 00:00:00</td> <td>31000         </td> <td>2009-08-20 00:00:00</td> <td>1591000   </td>\n",
       "        </tr>\n",
       "        <tr>\n",
       "            <td>1 BOND STREET, 2C         </td> <td>2010-12-15 00:00:00</td> <td>600000        </td> <td>2017-08-18 00:00:00</td> <td>5640000   </td>\n",
       "        </tr>\n",
       "        <tr>\n",
       "            <td>1 BOND STREET, 2D         </td> <td>2009-04-24 00:00:00</td> <td>1195000       </td> <td>2014-01-07 00:00:00</td> <td>1925000   </td>\n",
       "        </tr>\n",
       "        <tr>\n",
       "            <td>1 BOND STREET, 3A         </td> <td>2008-06-06 00:00:00</td> <td>5030000       </td> <td>2013-06-14 00:00:00</td> <td>7200000   </td>\n",
       "        </tr>\n",
       "        <tr>\n",
       "            <td>1 BOND STREET, 4D         </td> <td>2006-08-30 00:00:00</td> <td>1565000       </td> <td>2013-08-20 00:00:00</td> <td>2415000   </td>\n",
       "        </tr>\n",
       "        <tr>\n",
       "            <td>1 BOND STREET, 6A         </td> <td>2012-12-12 00:00:00</td> <td>3600000       </td> <td>2017-09-06 00:00:00</td> <td>5250000   </td>\n",
       "        </tr>\n",
       "        <tr>\n",
       "            <td>1 BOND STREET, 6B         </td> <td>2004-12-01 00:00:00</td> <td>2996000       </td> <td>2016-05-20 00:00:00</td> <td>4350000   </td>\n",
       "        </tr>\n",
       "        <tr>\n",
       "            <td>1 CENTRAL PARK SOUTH, 2002</td> <td>2010-12-01 00:00:00</td> <td>4600000       </td> <td>2018-06-22 00:00:00</td> <td>4750000   </td>\n",
       "        </tr>\n",
       "        <tr>\n",
       "            <td>1 CENTRAL PARK SOUTH, 503 </td> <td>2012-12-18 00:00:00</td> <td>7995000       </td> <td>2017-02-24 00:00:00</td> <td>10150000  </td>\n",
       "        </tr>\n",
       "        <tr>\n",
       "            <td>1 CENTRAL PARK WEST, 23B  </td> <td>2008-04-03 00:00:00</td> <td>5580000       </td> <td>2012-06-28 00:00:00</td> <td>6200000   </td>\n",
       "        </tr>\n",
       "    </tbody>\n",
       "</table>\n",
       "<p>... (15699 rows omitted)</p>"
      ],
      "text/plain": [
       "FULL ADDRESS               | PURCHASE DATE       | PURCHASE PRICE | SOLD DATE           | SOLD PRICE\n",
       "1 BOND STREET, 2B          | 2004-08-04 00:00:00 | 31000          | 2009-08-20 00:00:00 | 1591000\n",
       "1 BOND STREET, 2C          | 2010-12-15 00:00:00 | 600000         | 2017-08-18 00:00:00 | 5640000\n",
       "1 BOND STREET, 2D          | 2009-04-24 00:00:00 | 1195000        | 2014-01-07 00:00:00 | 1925000\n",
       "1 BOND STREET, 3A          | 2008-06-06 00:00:00 | 5030000        | 2013-06-14 00:00:00 | 7200000\n",
       "1 BOND STREET, 4D          | 2006-08-30 00:00:00 | 1565000        | 2013-08-20 00:00:00 | 2415000\n",
       "1 BOND STREET, 6A          | 2012-12-12 00:00:00 | 3600000        | 2017-09-06 00:00:00 | 5250000\n",
       "1 BOND STREET, 6B          | 2004-12-01 00:00:00 | 2996000        | 2016-05-20 00:00:00 | 4350000\n",
       "1 CENTRAL PARK SOUTH, 2002 | 2010-12-01 00:00:00 | 4600000        | 2018-06-22 00:00:00 | 4750000\n",
       "1 CENTRAL PARK SOUTH, 503  | 2012-12-18 00:00:00 | 7995000        | 2017-02-24 00:00:00 | 10150000\n",
       "1 CENTRAL PARK WEST, 23B   | 2008-04-03 00:00:00 | 5580000        | 2012-06-28 00:00:00 | 6200000\n",
       "... (15699 rows omitted)"
      ]
     },
     "execution_count": 29,
     "metadata": {},
     "output_type": "execute_result"
    }
   ],
   "source": [
    "# Relabel and join the first and last sale tables to create a new condo sales table\n",
    "\n",
    "purchase_dates = purchase_dates.relabel(2, COL_PURCHASE_PRICE)\n",
    "sold_dates = sold_dates.relabel(2, COL_SOLD_PRICE)\n",
    "\n",
    "\n",
    "condo_sales = purchase_dates.join(COL_FULL_ADDRESS, sold_dates, COL_FULL_ADDRESS)\n",
    "condo_sales"
   ]
  },
  {
   "cell_type": "code",
   "execution_count": 30,
   "metadata": {},
   "outputs": [
    {
     "data": {
      "text/html": [
       "<table border=\"1\" class=\"dataframe\">\n",
       "    <thead>\n",
       "        <tr>\n",
       "            <th>FULL ADDRESS</th> <th>PURCHASE DATE</th> <th>PURCHASE PRICE</th> <th>SOLD DATE</th> <th>SOLD PRICE</th> <th>PRICE CHANGE</th> <th>PERIOD</th>\n",
       "        </tr>\n",
       "    </thead>\n",
       "    <tbody>\n",
       "        <tr>\n",
       "            <td>1 BOND STREET, 2B         </td> <td>2004-08-04 00:00:00</td> <td>31000         </td> <td>2009-08-20 00:00:00</td> <td>1591000   </td> <td>1,560,000   </td> <td>1842  </td>\n",
       "        </tr>\n",
       "        <tr>\n",
       "            <td>1 BOND STREET, 2C         </td> <td>2010-12-15 00:00:00</td> <td>600000        </td> <td>2017-08-18 00:00:00</td> <td>5640000   </td> <td>5,040,000   </td> <td>2438  </td>\n",
       "        </tr>\n",
       "        <tr>\n",
       "            <td>1 BOND STREET, 2D         </td> <td>2009-04-24 00:00:00</td> <td>1195000       </td> <td>2014-01-07 00:00:00</td> <td>1925000   </td> <td>730,000     </td> <td>1719  </td>\n",
       "        </tr>\n",
       "        <tr>\n",
       "            <td>1 BOND STREET, 3A         </td> <td>2008-06-06 00:00:00</td> <td>5030000       </td> <td>2013-06-14 00:00:00</td> <td>7200000   </td> <td>2,170,000   </td> <td>1834  </td>\n",
       "        </tr>\n",
       "        <tr>\n",
       "            <td>1 BOND STREET, 4D         </td> <td>2006-08-30 00:00:00</td> <td>1565000       </td> <td>2013-08-20 00:00:00</td> <td>2415000   </td> <td>850,000     </td> <td>2547  </td>\n",
       "        </tr>\n",
       "        <tr>\n",
       "            <td>1 BOND STREET, 6A         </td> <td>2012-12-12 00:00:00</td> <td>3600000       </td> <td>2017-09-06 00:00:00</td> <td>5250000   </td> <td>1,650,000   </td> <td>1729  </td>\n",
       "        </tr>\n",
       "        <tr>\n",
       "            <td>1 BOND STREET, 6B         </td> <td>2004-12-01 00:00:00</td> <td>2996000       </td> <td>2016-05-20 00:00:00</td> <td>4350000   </td> <td>1,354,000   </td> <td>4188  </td>\n",
       "        </tr>\n",
       "        <tr>\n",
       "            <td>1 CENTRAL PARK SOUTH, 2002</td> <td>2010-12-01 00:00:00</td> <td>4600000       </td> <td>2018-06-22 00:00:00</td> <td>4750000   </td> <td>150,000     </td> <td>2760  </td>\n",
       "        </tr>\n",
       "        <tr>\n",
       "            <td>1 CENTRAL PARK SOUTH, 503 </td> <td>2012-12-18 00:00:00</td> <td>7995000       </td> <td>2017-02-24 00:00:00</td> <td>10150000  </td> <td>2,155,000   </td> <td>1529  </td>\n",
       "        </tr>\n",
       "        <tr>\n",
       "            <td>1 CENTRAL PARK WEST, 23B  </td> <td>2008-04-03 00:00:00</td> <td>5580000       </td> <td>2012-06-28 00:00:00</td> <td>6200000   </td> <td>620,000     </td> <td>1547  </td>\n",
       "        </tr>\n",
       "    </tbody>\n",
       "</table>\n",
       "<p>... (15699 rows omitted)</p>"
      ],
      "text/plain": [
       "FULL ADDRESS               | PURCHASE DATE       | PURCHASE PRICE | SOLD DATE           | SOLD PRICE | PRICE CHANGE | PERIOD\n",
       "1 BOND STREET, 2B          | 2004-08-04 00:00:00 | 31000          | 2009-08-20 00:00:00 | 1591000    | 1,560,000    | 1842\n",
       "1 BOND STREET, 2C          | 2010-12-15 00:00:00 | 600000         | 2017-08-18 00:00:00 | 5640000    | 5,040,000    | 2438\n",
       "1 BOND STREET, 2D          | 2009-04-24 00:00:00 | 1195000        | 2014-01-07 00:00:00 | 1925000    | 730,000      | 1719\n",
       "1 BOND STREET, 3A          | 2008-06-06 00:00:00 | 5030000        | 2013-06-14 00:00:00 | 7200000    | 2,170,000    | 1834\n",
       "1 BOND STREET, 4D          | 2006-08-30 00:00:00 | 1565000        | 2013-08-20 00:00:00 | 2415000    | 850,000      | 2547\n",
       "1 BOND STREET, 6A          | 2012-12-12 00:00:00 | 3600000        | 2017-09-06 00:00:00 | 5250000    | 1,650,000    | 1729\n",
       "1 BOND STREET, 6B          | 2004-12-01 00:00:00 | 2996000        | 2016-05-20 00:00:00 | 4350000    | 1,354,000    | 4188\n",
       "1 CENTRAL PARK SOUTH, 2002 | 2010-12-01 00:00:00 | 4600000        | 2018-06-22 00:00:00 | 4750000    | 150,000      | 2760\n",
       "1 CENTRAL PARK SOUTH, 503  | 2012-12-18 00:00:00 | 7995000        | 2017-02-24 00:00:00 | 10150000   | 2,155,000    | 1529\n",
       "1 CENTRAL PARK WEST, 23B   | 2008-04-03 00:00:00 | 5580000        | 2012-06-28 00:00:00 | 6200000    | 620,000      | 1547\n",
       "... (15699 rows omitted)"
      ]
     },
     "execution_count": 30,
     "metadata": {},
     "output_type": "execute_result"
    }
   ],
   "source": [
    "# Calculate Price and date Diffs\n",
    "\n",
    "price_diffs = condo_sales.column(COL_SOLD_PRICE) - condo_sales.column(COL_PURCHASE_PRICE)\n",
    "date_diffs = condo_sales.column(COL_SOLD_DATE) - condo_sales.column(COL_PURCHASE_DATE)\n",
    "\n",
    "date_diffs = [ d.days for d in date_diffs ]\n",
    "\n",
    "\n",
    "condo_sales = condo_sales.with_column( COL_PRICE_CHANGE, price_diffs, COL_PERIOD, date_diffs)\n",
    "condo_sales.set_format(COL_PRICE_CHANGE, NumberFormatter())"
   ]
  },
  {
   "cell_type": "code",
   "execution_count": 31,
   "metadata": {},
   "outputs": [
    {
     "name": "stdout",
     "output_type": "stream",
     "text": [
      "PRICE CHANGE Stats\n",
      "Avg: 407284.4007256986 \tStd: 2564315.465078169 \tMin: -183014844 \tMax: 44312249\n",
      " 5%: -175000 \t95%: 1922500\n",
      " 1%: -1500000 \t99%: 5252900\n",
      "25%: 82500 \t50%: 255981 \t75% 572005\n"
     ]
    },
    {
     "data": {
      "image/png": "[encoded data removed]",
      "text/plain": [
       "<Figure size 432x288 with 1 Axes>"
      ]
     },
     "metadata": {},
     "output_type": "display_data"
    }
   ],
   "source": [
    "# Understand price difference data\n",
    "col_stats(condo_sales, COL_PRICE_CHANGE)\n"
   ]
  },
  {
   "cell_type": "markdown",
   "metadata": {},
   "source": [
    "There look to be some signifiant outliers here. The 99 percentile is 5 but the max is 44 MM a significant. The min value is -183MM, a 183 million dollor loss! \n",
    "\n",
    "Let's remove outliers so they dont imapact pricing analysis, but we definitely need to come back and look into what happened here. "
   ]
  },
  {
   "cell_type": "code",
   "execution_count": 32,
   "metadata": {},
   "outputs": [
    {
     "name": "stdout",
     "output_type": "stream",
     "text": [
      "PRICE CHANGE Stats\n",
      "Avg: 443344.4254254904 \tStd: 689417.2831735029 \tMin: -1500000 \tMax: 5215563\n",
      " 5%: -129980 \t95%: 1715000\n",
      " 1%: -640298 \t99%: 3521675\n",
      "25%: 85380 \t50%: 255540 \t75% 560963\n"
     ]
    },
    {
     "data": {
      "image/png": "[encoded data removed]",
      "text/plain": [
       "<Figure size 432x288 with 1 Axes>"
      ]
     },
     "metadata": {},
     "output_type": "display_data"
    }
   ],
   "source": [
    "# strip out the Price chnage outliers . \n",
    "percent_1 = percentile(1, price_diffs)\n",
    "percent_99 = percentile(99, price_diffs)\n",
    "\n",
    "largest_losses = condo_sales.where(COL_PRICE_CHANGE, are.below_or_equal_to(percent_1))\n",
    "largest_gains = condo_sales.where(COL_PRICE_CHANGE, are.above_or_equal_to(percent_99))\n",
    "\n",
    "condo_sales = condo_sales.where(COL_PRICE_CHANGE, are.between(percent_1, percent_99))\n",
    "col_stats(condo_sales, COL_PRICE_CHANGE)"
   ]
  },
  {
   "cell_type": "markdown",
   "metadata": {},
   "source": [
    "The data is starting to look like a normal distribution"
   ]
  },
  {
   "cell_type": "code",
   "execution_count": 33,
   "metadata": {},
   "outputs": [
    {
     "data": {
      "text/html": [
       "<table border=\"1\" class=\"dataframe\">\n",
       "    <thead>\n",
       "        <tr>\n",
       "            <th>FULL ADDRESS</th> <th>PURCHASE DATE</th> <th>PURCHASE PRICE</th> <th>SOLD DATE</th> <th>SOLD PRICE</th> <th>PRICE CHANGE</th> <th>PERIOD</th>\n",
       "        </tr>\n",
       "    </thead>\n",
       "    <tbody>\n",
       "        <tr>\n",
       "            <td>1 IRVING PLACE, G27B          </td> <td>2017-12-14 00:00:00</td> <td>1950000       </td> <td>2017-12-14 00:00:00</td> <td>1950000   </td> <td>0           </td> <td>0     </td>\n",
       "        </tr>\n",
       "        <tr>\n",
       "            <td>1 IRVING PLACE, G9B           </td> <td>2017-12-14 00:00:00</td> <td>1362500       </td> <td>2017-12-14 00:00:00</td> <td>1362500   </td> <td>0           </td> <td>0     </td>\n",
       "        </tr>\n",
       "        <tr>\n",
       "            <td>1 RIVER TERRACE, 4S           </td> <td>2017-12-06 00:00:00</td> <td>2790000       </td> <td>2017-12-06 00:00:00</td> <td>2790000   </td> <td>0           </td> <td>0     </td>\n",
       "        </tr>\n",
       "        <tr>\n",
       "            <td>10 MADISON SQUARE WEST, 4F    </td> <td>2017-12-18 00:00:00</td> <td>6950000       </td> <td>2017-12-18 00:00:00</td> <td>6950000   </td> <td>0           </td> <td>0     </td>\n",
       "        </tr>\n",
       "        <tr>\n",
       "            <td>100 11TH AVENUE, 12B          </td> <td>2017-12-15 00:00:00</td> <td>4300000       </td> <td>2017-12-15 00:00:00</td> <td>4300000   </td> <td>0           </td> <td>0     </td>\n",
       "        </tr>\n",
       "        <tr>\n",
       "            <td>100 CENTRAL PARK SOUTH, 6A    </td> <td>2017-12-14 00:00:00</td> <td>2025000       </td> <td>2017-12-14 00:00:00</td> <td>2025000   </td> <td>0           </td> <td>0     </td>\n",
       "        </tr>\n",
       "        <tr>\n",
       "            <td>100 WEST 93RD   STREET, 2G    </td> <td>2017-12-07 00:00:00</td> <td>1250000       </td> <td>2017-12-07 00:00:00</td> <td>1250000   </td> <td>0           </td> <td>0     </td>\n",
       "        </tr>\n",
       "        <tr>\n",
       "            <td>100/118 WEST 93RD   STREET, 3E</td> <td>2017-12-20 00:00:00</td> <td>720000        </td> <td>2017-12-20 00:00:00</td> <td>720000    </td> <td>0           </td> <td>0     </td>\n",
       "        </tr>\n",
       "        <tr>\n",
       "            <td>101 LEONARD STREET, 3D        </td> <td>2016-02-05 00:00:00</td> <td>1812000       </td> <td>2016-02-05 00:00:00</td> <td>2925000   </td> <td>1,113,000   </td> <td>0     </td>\n",
       "        </tr>\n",
       "        <tr>\n",
       "            <td>101 WALL STREET, 6B           </td> <td>2017-12-19 00:00:00</td> <td>2394160       </td> <td>2017-12-19 00:00:00</td> <td>2394160   </td> <td>0           </td> <td>0     </td>\n",
       "        </tr>\n",
       "    </tbody>\n",
       "</table>\n",
       "<p>... (339 rows omitted)</p>"
      ],
      "text/plain": [
       "FULL ADDRESS                   | PURCHASE DATE       | PURCHASE PRICE | SOLD DATE           | SOLD PRICE | PRICE CHANGE | PERIOD\n",
       "1 IRVING PLACE, G27B           | 2017-12-14 00:00:00 | 1950000        | 2017-12-14 00:00:00 | 1950000    | 0            | 0\n",
       "1 IRVING PLACE, G9B            | 2017-12-14 00:00:00 | 1362500        | 2017-12-14 00:00:00 | 1362500    | 0            | 0\n",
       "1 RIVER TERRACE, 4S            | 2017-12-06 00:00:00 | 2790000        | 2017-12-06 00:00:00 | 2790000    | 0            | 0\n",
       "10 MADISON SQUARE WEST, 4F     | 2017-12-18 00:00:00 | 6950000        | 2017-12-18 00:00:00 | 6950000    | 0            | 0\n",
       "100 11TH AVENUE, 12B           | 2017-12-15 00:00:00 | 4300000        | 2017-12-15 00:00:00 | 4300000    | 0            | 0\n",
       "100 CENTRAL PARK SOUTH, 6A     | 2017-12-14 00:00:00 | 2025000        | 2017-12-14 00:00:00 | 2025000    | 0            | 0\n",
       "100 WEST 93RD   STREET, 2G     | 2017-12-07 00:00:00 | 1250000        | 2017-12-07 00:00:00 | 1250000    | 0            | 0\n",
       "100/118 WEST 93RD   STREET, 3E | 2017-12-20 00:00:00 | 720000         | 2017-12-20 00:00:00 | 720000     | 0            | 0\n",
       "101 LEONARD STREET, 3D         | 2016-02-05 00:00:00 | 1812000        | 2016-02-05 00:00:00 | 2925000    | 1,113,000    | 0\n",
       "101 WALL STREET, 6B            | 2017-12-19 00:00:00 | 2394160        | 2017-12-19 00:00:00 | 2394160    | 0            | 0\n",
       "... (339 rows omitted)"
      ]
     },
     "execution_count": 33,
     "metadata": {},
     "output_type": "execute_result"
    }
   ],
   "source": [
    "# Some sales are on recorded twice for the same date!\n",
    "\n",
    "condo_sales.where( COL_PURCHASE_DATE, are.equal_to, COL_SOLD_DATE )\n"
   ]
  },
  {
   "cell_type": "code",
   "execution_count": 34,
   "metadata": {},
   "outputs": [
    {
     "data": {
      "text/html": [
       "<table border=\"1\" class=\"dataframe\">\n",
       "    <thead>\n",
       "        <tr>\n",
       "            <th>SALE DATE</th> <th>SALE PRICE</th> <th>ADDRESS</th> <th>APARTMENT NUMBER</th> <th>YEAR BUILT</th> <th>NEIGHBORHOOD</th> <th>ZIP CODE</th> <th>BUILDING CLASS AT TIME OF SALE</th> <th>BUILDING CLASS CATEGORY</th> <th>FULL ADDRESS</th>\n",
       "        </tr>\n",
       "    </thead>\n",
       "    <tbody>\n",
       "        <tr>\n",
       "            <td>2017-11-14 00:00:00</td> <td>2350000   </td> <td>100 CENTRAL PARK SOUTH</td> <td>4B              </td> <td>0         </td> <td>MIDTOWN WEST</td> <td>10019   </td> <td>R4                            </td> <td>13 CONDOS - ELEVATOR APARTMENTS</td> <td>100 CENTRAL PARK SOUTH, 4B</td>\n",
       "        </tr>\n",
       "    </tbody>\n",
       "</table>"
      ],
      "text/plain": [
       "SALE DATE           | SALE PRICE | ADDRESS                | APARTMENT NUMBER | YEAR BUILT | NEIGHBORHOOD | ZIP CODE | BUILDING CLASS AT TIME OF SALE | BUILDING CLASS CATEGORY         | FULL ADDRESS\n",
       "2017-11-14 00:00:00 | 2350000    | 100 CENTRAL PARK SOUTH | 4B               | 0          | MIDTOWN WEST | 10019    | R4                             | 13 CONDOS - ELEVATOR APARTMENTS | 100 CENTRAL PARK SOUTH, 4B"
      ]
     },
     "execution_count": 34,
     "metadata": {},
     "output_type": "execute_result"
    }
   ],
   "source": [
    "# Let's spot check these\n",
    "\n",
    "all_sales_data.where(COL_FULL_ADDRESS, are.equal_to('100 CENTRAL PARK SOUTH, 4B')).sort(0)\n",
    "\n",
    "# These look to be duplicate records, Let's ignore for now"
   ]
  },
  {
   "cell_type": "code",
   "execution_count": 35,
   "metadata": {},
   "outputs": [],
   "source": [
    "# Ignore multiple sales on same date\n",
    "\n",
    "condo_sales = condo_sales.where( COL_PURCHASE_DATE, are.not_equal_to, COL_SOLD_DATE )\n",
    "\n"
   ]
  },
  {
   "cell_type": "markdown",
   "metadata": {},
   "source": [
    "## Issues with time between sales\n",
    "\n",
    "Looking into the time between 2 sales for the same apartment we find some unusal data"
   ]
  },
  {
   "cell_type": "code",
   "execution_count": 36,
   "metadata": {},
   "outputs": [
    {
     "data": {
      "text/html": [
       "<table border=\"1\" class=\"dataframe\">\n",
       "    <thead>\n",
       "        <tr>\n",
       "            <th>FULL ADDRESS</th> <th>PURCHASE DATE</th> <th>PURCHASE PRICE</th> <th>SOLD DATE</th> <th>SOLD PRICE</th> <th>PRICE CHANGE</th> <th>PERIOD</th>\n",
       "        </tr>\n",
       "    </thead>\n",
       "    <tbody>\n",
       "        <tr>\n",
       "            <td>2 EAST 55TH ST, 835        </td> <td>2006-08-15 00:00:00</td> <td>554946        </td> <td>2006-08-16 00:00:00</td> <td>486720    </td> <td>-68,226     </td> <td>1     </td>\n",
       "        </tr>\n",
       "        <tr>\n",
       "            <td>212 EAST 70TH   STREET, 2D </td> <td>2017-03-23 00:00:00</td> <td>312500        </td> <td>2017-03-24 00:00:00</td> <td>725000    </td> <td>412,500     </td> <td>1     </td>\n",
       "        </tr>\n",
       "        <tr>\n",
       "            <td>95 CHARLES STREET, 5       </td> <td>2016-03-25 00:00:00</td> <td>850000        </td> <td>2016-03-26 00:00:00</td> <td>850000    </td> <td>0           </td> <td>1     </td>\n",
       "        </tr>\n",
       "        <tr>\n",
       "            <td>203-05 WEST 112 STREET, 1W </td> <td>2003-12-17 00:00:00</td> <td>967338        </td> <td>2003-12-19 00:00:00</td> <td>967338    </td> <td>0           </td> <td>2     </td>\n",
       "        </tr>\n",
       "        <tr>\n",
       "            <td>238 EAST 47 STREET, 22D    </td> <td>2004-07-14 00:00:00</td> <td>105000        </td> <td>2004-07-16 00:00:00</td> <td>1100000   </td> <td>995,000     </td> <td>2     </td>\n",
       "        </tr>\n",
       "        <tr>\n",
       "            <td>227 EAST 111 STREET, 5B    </td> <td>2005-03-28 00:00:00</td> <td>540881        </td> <td>2005-03-31 00:00:00</td> <td>995000    </td> <td>454,119     </td> <td>3     </td>\n",
       "        </tr>\n",
       "        <tr>\n",
       "            <td>879-87 8 AVENUE, 2J        </td> <td>2003-11-13 00:00:00</td> <td>620000        </td> <td>2003-11-16 00:00:00</td> <td>620000    </td> <td>0           </td> <td>3     </td>\n",
       "        </tr>\n",
       "        <tr>\n",
       "            <td>157 WEST 111 STREET, 4E    </td> <td>2007-03-09 00:00:00</td> <td>776925        </td> <td>2007-03-13 00:00:00</td> <td>834965    </td> <td>58,040      </td> <td>4     </td>\n",
       "        </tr>\n",
       "        <tr>\n",
       "            <td>500 WEST 43RD   STREET, 24F</td> <td>2014-01-03 00:00:00</td> <td>800350        </td> <td>2014-01-07 00:00:00</td> <td>800350    </td> <td>0           </td> <td>4     </td>\n",
       "        </tr>\n",
       "        <tr>\n",
       "            <td>10 EAST 14TH ST, 2         </td> <td>2007-01-04 00:00:00</td> <td>1483300       </td> <td>2007-01-09 00:00:00</td> <td>2698362   </td> <td>1,215,062   </td> <td>5     </td>\n",
       "        </tr>\n",
       "    </tbody>\n",
       "</table>\n",
       "<p>... (15035 rows omitted)</p>"
      ],
      "text/plain": [
       "FULL ADDRESS                | PURCHASE DATE       | PURCHASE PRICE | SOLD DATE           | SOLD PRICE | PRICE CHANGE | PERIOD\n",
       "2 EAST 55TH ST, 835         | 2006-08-15 00:00:00 | 554946         | 2006-08-16 00:00:00 | 486720     | -68,226      | 1\n",
       "212 EAST 70TH   STREET, 2D  | 2017-03-23 00:00:00 | 312500         | 2017-03-24 00:00:00 | 725000     | 412,500      | 1\n",
       "95 CHARLES STREET, 5        | 2016-03-25 00:00:00 | 850000         | 2016-03-26 00:00:00 | 850000     | 0            | 1\n",
       "203-05 WEST 112 STREET, 1W  | 2003-12-17 00:00:00 | 967338         | 2003-12-19 00:00:00 | 967338     | 0            | 2\n",
       "238 EAST 47 STREET, 22D     | 2004-07-14 00:00:00 | 105000         | 2004-07-16 00:00:00 | 1100000    | 995,000      | 2\n",
       "227 EAST 111 STREET, 5B     | 2005-03-28 00:00:00 | 540881         | 2005-03-31 00:00:00 | 995000     | 454,119      | 3\n",
       "879-87 8 AVENUE, 2J         | 2003-11-13 00:00:00 | 620000         | 2003-11-16 00:00:00 | 620000     | 0            | 3\n",
       "157 WEST 111 STREET, 4E     | 2007-03-09 00:00:00 | 776925         | 2007-03-13 00:00:00 | 834965     | 58,040       | 4\n",
       "500 WEST 43RD   STREET, 24F | 2014-01-03 00:00:00 | 800350         | 2014-01-07 00:00:00 | 800350     | 0            | 4\n",
       "10 EAST 14TH ST, 2          | 2007-01-04 00:00:00 | 1483300        | 2007-01-09 00:00:00 | 2698362    | 1,215,062    | 5\n",
       "... (15035 rows omitted)"
      ]
     },
     "execution_count": 36,
     "metadata": {},
     "output_type": "execute_result"
    }
   ],
   "source": [
    "condo_sales.sort(COL_PERIOD)"
   ]
  },
  {
   "cell_type": "markdown",
   "metadata": {},
   "source": [
    "Still Looks like there is some strange data where the sale dates are a few days apart, for most regular sale cycles we expect a gap of atleast 60-90 days. \n",
    "Let's ignore anything less that 3 months apart i.e. 90 days. \n"
   ]
  },
  {
   "cell_type": "code",
   "execution_count": 37,
   "metadata": {},
   "outputs": [],
   "source": [
    "condo_sales = condo_sales.where( COL_PERIOD, are.above(90) )"
   ]
  },
  {
   "cell_type": "markdown",
   "metadata": {},
   "source": [
    "## Time between sales"
   ]
  },
  {
   "cell_type": "code",
   "execution_count": 38,
   "metadata": {},
   "outputs": [
    {
     "name": "stdout",
     "output_type": "stream",
     "text": [
      "PERIOD Stats\n",
      "Avg: 2073.9143685523563 \tStd: 1221.572522351763 \tMin: 91 \tMax: 5705\n",
      " 5%: 316 \t95%: 4259\n",
      " 1%: 136 \t99%: 5035\n",
      "25%: 1072 \t50%: 1938 \t75% 2927\n"
     ]
    },
    {
     "data": {
      "image/png": "[encoded data removed]",
      "text/plain": [
       "<Figure size 432x288 with 1 Axes>"
      ]
     },
     "metadata": {},
     "output_type": "display_data"
    }
   ],
   "source": [
    "col_stats(condo_sales, COL_PERIOD)"
   ]
  },
  {
   "cell_type": "markdown",
   "metadata": {},
   "source": [
    "## Average Daily Price Change\n",
    "\n",
    "Let's calulate the average daily price change to spot any other odd data. "
   ]
  },
  {
   "cell_type": "code",
   "execution_count": 39,
   "metadata": {},
   "outputs": [
    {
     "data": {
      "text/html": [
       "<table border=\"1\" class=\"dataframe\">\n",
       "    <thead>\n",
       "        <tr>\n",
       "            <th>FULL ADDRESS</th> <th>PURCHASE DATE</th> <th>PURCHASE PRICE</th> <th>SOLD DATE</th> <th>SOLD PRICE</th> <th>PRICE CHANGE</th> <th>PERIOD</th> <th>DAILY PRICE CHANGE</th>\n",
       "        </tr>\n",
       "    </thead>\n",
       "    <tbody>\n",
       "        <tr>\n",
       "            <td>15 CENTRAL PARK WEST, 36B  </td> <td>2008-04-28 00:00:00</td> <td>7473955       </td> <td>2008-09-03 00:00:00</td> <td>12400000  </td> <td>4,926,045   </td> <td>128   </td> <td>38484.7           </td>\n",
       "        </tr>\n",
       "        <tr>\n",
       "            <td>15 CENTRAL PARK WEST, 31B  </td> <td>2008-04-16 00:00:00</td> <td>6598260       </td> <td>2008-10-03 00:00:00</td> <td>11800000  </td> <td>5,201,740   </td> <td>170   </td> <td>30598.5           </td>\n",
       "        </tr>\n",
       "        <tr>\n",
       "            <td>56 LEONARD STREET, PH55    </td> <td>2017-03-02 00:00:00</td> <td>21814384      </td> <td>2017-08-04 00:00:00</td> <td>26500000  </td> <td>4,685,616   </td> <td>155   </td> <td>30229.8           </td>\n",
       "        </tr>\n",
       "        <tr>\n",
       "            <td>151 EAST 58 STREET, PH55E  </td> <td>2005-08-16 00:00:00</td> <td>9622462       </td> <td>2005-12-15 00:00:00</td> <td>13000000  </td> <td>3,377,538   </td> <td>121   </td> <td>27913.5           </td>\n",
       "        </tr>\n",
       "        <tr>\n",
       "            <td>157 WEST 57TH   STREET, 58A</td> <td>2014-05-01 00:00:00</td> <td>30551000      </td> <td>2014-10-02 00:00:00</td> <td>34000000  </td> <td>3,449,000   </td> <td>154   </td> <td>22396.1           </td>\n",
       "        </tr>\n",
       "        <tr>\n",
       "            <td>201 EAST 80TH STREET, 9A   </td> <td>2016-08-19 00:00:00</td> <td>657401        </td> <td>2016-12-07 00:00:00</td> <td>2995000   </td> <td>2,337,599   </td> <td>110   </td> <td>21250.9           </td>\n",
       "        </tr>\n",
       "        <tr>\n",
       "            <td>19 BEACH STREET, 6         </td> <td>2018-02-28 00:00:00</td> <td>2410796       </td> <td>2018-07-31 00:00:00</td> <td>5500000   </td> <td>3,089,204   </td> <td>153   </td> <td>20190.9           </td>\n",
       "        </tr>\n",
       "        <tr>\n",
       "            <td>250 WEST STREET, 7A        </td> <td>2013-03-18 00:00:00</td> <td>6379336       </td> <td>2013-06-24 00:00:00</td> <td>8200000   </td> <td>1,820,664   </td> <td>98    </td> <td>18578.2           </td>\n",
       "        </tr>\n",
       "        <tr>\n",
       "            <td>212 WEST 18TH   STREET, 18C</td> <td>2014-12-23 00:00:00</td> <td>5718750       </td> <td>2015-09-10 00:00:00</td> <td>10414000  </td> <td>4,695,250   </td> <td>261   </td> <td>17989.5           </td>\n",
       "        </tr>\n",
       "        <tr>\n",
       "            <td>554 BROOME ST, R6          </td> <td>2006-03-30 00:00:00</td> <td>380250        </td> <td>2006-08-16 00:00:00</td> <td>2850000   </td> <td>2,469,750   </td> <td>139   </td> <td>17768             </td>\n",
       "        </tr>\n",
       "    </tbody>\n",
       "</table>\n",
       "<p>... (14821 rows omitted)</p>"
      ],
      "text/plain": [
       "FULL ADDRESS                | PURCHASE DATE       | PURCHASE PRICE | SOLD DATE           | SOLD PRICE | PRICE CHANGE | PERIOD | DAILY PRICE CHANGE\n",
       "15 CENTRAL PARK WEST, 36B   | 2008-04-28 00:00:00 | 7473955        | 2008-09-03 00:00:00 | 12400000   | 4,926,045    | 128    | 38484.7\n",
       "15 CENTRAL PARK WEST, 31B   | 2008-04-16 00:00:00 | 6598260        | 2008-10-03 00:00:00 | 11800000   | 5,201,740    | 170    | 30598.5\n",
       "56 LEONARD STREET, PH55     | 2017-03-02 00:00:00 | 21814384       | 2017-08-04 00:00:00 | 26500000   | 4,685,616    | 155    | 30229.8\n",
       "151 EAST 58 STREET, PH55E   | 2005-08-16 00:00:00 | 9622462        | 2005-12-15 00:00:00 | 13000000   | 3,377,538    | 121    | 27913.5\n",
       "157 WEST 57TH   STREET, 58A | 2014-05-01 00:00:00 | 30551000       | 2014-10-02 00:00:00 | 34000000   | 3,449,000    | 154    | 22396.1\n",
       "201 EAST 80TH STREET, 9A    | 2016-08-19 00:00:00 | 657401         | 2016-12-07 00:00:00 | 2995000    | 2,337,599    | 110    | 21250.9\n",
       "19 BEACH STREET, 6          | 2018-02-28 00:00:00 | 2410796        | 2018-07-31 00:00:00 | 5500000    | 3,089,204    | 153    | 20190.9\n",
       "250 WEST STREET, 7A         | 2013-03-18 00:00:00 | 6379336        | 2013-06-24 00:00:00 | 8200000    | 1,820,664    | 98     | 18578.2\n",
       "212 WEST 18TH   STREET, 18C | 2014-12-23 00:00:00 | 5718750        | 2015-09-10 00:00:00 | 10414000   | 4,695,250    | 261    | 17989.5\n",
       "554 BROOME ST, R6           | 2006-03-30 00:00:00 | 380250         | 2006-08-16 00:00:00 | 2850000    | 2,469,750    | 139    | 17768\n",
       "... (14821 rows omitted)"
      ]
     },
     "execution_count": 39,
     "metadata": {},
     "output_type": "execute_result"
    }
   ],
   "source": [
    "daily_change = condo_sales.column(COL_PRICE_CHANGE) / condo_sales.column(COL_PERIOD) \n",
    "\n",
    "condo_sales = condo_sales.with_column(COL_DAILY_PRICE_CHANGE , daily_change ).sort(COL_DAILY_PRICE_CHANGE, descending=True)\n",
    "condo_sales"
   ]
  },
  {
   "cell_type": "code",
   "execution_count": 40,
   "metadata": {},
   "outputs": [
    {
     "name": "stdout",
     "output_type": "stream",
     "text": [
      "DAILY PRICE CHANGE Stats\n",
      "Avg: 342.97710109338556 \tStd: 1030.9512696208644 \tMin: -13128.990566037735 \tMax: 38484.7265625\n",
      " 5%: -96.15646940822468 \t95%: 1304.8415300546449\n",
      " 1%: -590.6298904538342 \t99%: 3534.2162162162163\n",
      "25%: 50.44995909462776 \t50%: 147.19228587634714 \t75% 357.14285714285717\n"
     ]
    },
    {
     "data": {
      "image/png": "[encoded data removed]",
      "text/plain": [
       "<Figure size 432x288 with 1 Axes>"
      ]
     },
     "metadata": {},
     "output_type": "display_data"
    },
    {
     "data": {
      "image/png": "[encoded data removed]",
      "text/plain": [
       "<Figure size 432x288 with 1 Axes>"
      ]
     },
     "metadata": {},
     "output_type": "display_data"
    }
   ],
   "source": [
    "col_stats(condo_sales, COL_DAILY_PRICE_CHANGE)\n",
    "draw_hist(condo_sales, COL_DAILY_PRICE_CHANGE, 1)\n",
    "\n",
    "## There are some significant outliers"
   ]
  },
  {
   "cell_type": "markdown",
   "metadata": {},
   "source": [
    "There could be a variety of reasons for the outliers. Perhaps they underpriced for when purchased and then corrected when sold later. Again I'd be intresting to investigate further, but for the purposes of this analysis let's ignore the outliers for now. "
   ]
  },
  {
   "cell_type": "code",
   "execution_count": 41,
   "metadata": {},
   "outputs": [],
   "source": [
    "# strip out the Dailys Price change outliers. \n",
    "price_change_diffs = condo_sales.column(COL_DAILY_PRICE_CHANGE)\n",
    "\n",
    "percent_1 = percentile(1, price_change_diffs)\n",
    "percent_99 = percentile(99, price_change_diffs)\n",
    "\n",
    "condo_sales = condo_sales.where(COL_DAILY_PRICE_CHANGE, are.between(percent_1, percent_99))\n"
   ]
  },
  {
   "cell_type": "markdown",
   "metadata": {},
   "source": [
    "# Step 3: NYC Sale data analysis"
   ]
  },
  {
   "cell_type": "markdown",
   "metadata": {},
   "source": [
    "# Understanding the data\n",
    "\n",
    "Let's try to get an overview of the data by looking at the movement of the average sale price per year."
   ]
  },
  {
   "cell_type": "code",
   "execution_count": 42,
   "metadata": {},
   "outputs": [
    {
     "data": {
      "image/png": "[encoded data removed]",
      "text/plain": [
       "<Figure size 432x288 with 1 Axes>"
      ]
     },
     "metadata": {},
     "output_type": "display_data"
    }
   ],
   "source": [
    "years = [ d.year for d in condos.column(COL_SALE_DATE) ]\n",
    "\n",
    "months = [ d.month for d in condos.column(COL_SALE_DATE) ]\n",
    "\n",
    "condos = condos.with_column('SALE_YEAR', years, 'SALE_MONTH', months)\n",
    "\n",
    "condo_mean = condos.select(COL_SALE_YEAR, COL_SALE_PRICE).group(COL_SALE_YEAR, np.mean).sort(0)\n",
    "condo_mean.plot(COL_SALE_YEAR)\n",
    "\n"
   ]
  },
  {
   "cell_type": "markdown",
   "metadata": {},
   "source": [
    "## Sales by neighbourhood \n",
    "\n",
    "Also helpful to usederstand how prices have changed in different neighborhoods. "
   ]
  },
  {
   "cell_type": "code",
   "execution_count": 43,
   "metadata": {},
   "outputs": [
    {
     "data": {
      "application/vnd.jupyter.widget-view+json": {
       "model_id": "a38d1cea00f1428cb0c3f9da236dc88c",
       "version_major": 2,
       "version_minor": 0
      },
      "text/plain": [
       "interactive(children=(Dropdown(description='neighborhood', options=('ALPHABET CITY', 'CHELSEA', 'CHINATOWN', '…"
      ]
     },
     "metadata": {},
     "output_type": "display_data"
    }
   ],
   "source": [
    "neighborhoods = condos.group('NEIGHBORHOOD').sort(0).column(0)\n",
    "\n",
    "\n",
    "def plot_neighborhood(neighborhood:str):\n",
    "    '''Plot the average sale for a specified neign'''\n",
    "    condos.where('NEIGHBORHOOD', are.equal_to(neighborhood)).select(COL_SALE_YEAR, COL_SALE_PRICE).group(0, np.mean).plot(0, label=neighborhood)\n",
    "    plots.title = neighborhood\n",
    "    plots.plot(condo_mean.column(0), condo_mean.column(1), color='gold', label='' )\n",
    "    return\n",
    "\n",
    "ignnore = interact(plot_neighborhood, neighborhood=neighborhoods)\n"
   ]
  },
  {
   "cell_type": "markdown",
   "metadata": {},
   "source": [
    "## Sampling\n",
    "\n",
    "Let's take a deeper dive at apartment sales in 2010 as a sample. Note: we could have selected any range. This is just a random selection to reduce the noise in the data\n",
    "\n"
   ]
  },
  {
   "cell_type": "code",
   "execution_count": 44,
   "metadata": {},
   "outputs": [
    {
     "name": "stdout",
     "output_type": "stream",
     "text": [
      "Correlation betweeen Price Change and Time:  0.11792291655136572\n"
     ]
    },
    {
     "data": {
      "image/png": "[encoded data removed]",
      "text/plain": [
       "<Figure size 360x360 with 1 Axes>"
      ]
     },
     "metadata": {},
     "output_type": "display_data"
    }
   ],
   "source": [
    "sales_2010 = condo_sales.where(COL_PURCHASE_DATE, are.between( datetime(2010, 1, 1), datetime(2010, 12, 31)))\n",
    "\n",
    "Table().with_columns(\n",
    "    'PERIOD',  sales_2010.column(COL_PERIOD), \n",
    "    'PRICE CHANGE', sales_2010.column(COL_PRICE_CHANGE)\n",
    ").scatter(0, 1, fit_line=True)\n",
    "\n",
    "print('Correlation betweeen Price Change and Time: ', correlation(sales_2010, COL_PERIOD, COL_PRICE_CHANGE))"
   ]
  },
  {
   "cell_type": "markdown",
   "metadata": {},
   "source": [
    "That's a low correlation, I was expectating a closer relationship that is roghly keeping tracking with avg overall sale price we plotted earlier.\n",
    "\n",
    "\n",
    "Ok, let's look at the correlation between the first and last sale price. "
   ]
  },
  {
   "cell_type": "code",
   "execution_count": 45,
   "metadata": {},
   "outputs": [
    {
     "data": {
      "text/plain": [
       "0.9491242451642874"
      ]
     },
     "execution_count": 45,
     "metadata": {},
     "output_type": "execute_result"
    },
    {
     "data": {
      "image/png": "[encoded data removed]",
      "text/plain": [
       "<Figure size 360x360 with 1 Axes>"
      ]
     },
     "metadata": {},
     "output_type": "display_data"
    }
   ],
   "source": [
    "Table().with_columns(\n",
    "    'PURCHASED PRICE',  sales_2010.column(COL_PURCHASE_PRICE), \n",
    "    'SOLD PRICE', sales_2010.column(COL_SOLD_PRICE)\n",
    ").scatter(0, fit_line=True)\n",
    "\n",
    "correlation(sales_2010, COL_PURCHASE_PRICE, COL_SOLD_PRICE)\n",
    "\n"
   ]
  },
  {
   "cell_type": "markdown",
   "metadata": {},
   "source": [
    "Wow that's a really high correlation. According to this we could predict the last sale price of a property, just based on it's first sale price. i.e. independent of the time between sales! \n",
    "\n",
    "Somehting doesn't seem right, we know that the market moves over time. Let's dig in a little deeper and plot the residuals"
   ]
  },
  {
   "cell_type": "code",
   "execution_count": 46,
   "metadata": {},
   "outputs": [
    {
     "data": {
      "image/png": "[encoded data removed]",
      "text/plain": [
       "<Figure size 360x360 with 1 Axes>"
      ]
     },
     "metadata": {},
     "output_type": "display_data"
    }
   ],
   "source": [
    "a = slope(condo_sales, COL_PURCHASE_PRICE, COL_SOLD_PRICE)\n",
    "b = intercept(condo_sales, COL_PURCHASE_PRICE, COL_SOLD_PRICE)\n",
    "\n",
    "first_prices = condo_sales.column(COL_PURCHASE_PRICE)\n",
    "\n",
    "predicted = first_prices * a + b\n",
    "\n",
    "errors = condo_sales.column(COL_SOLD_PRICE) - predicted\n",
    "\n",
    "\n",
    "Table().with_columns(\n",
    "    'PURCHASE PRICE',  condo_sales.column(COL_PURCHASE_PRICE), \n",
    "    'ERRORS', errors\n",
    ").scatter(0, fit_line=True)\n",
    "\n"
   ]
  },
  {
   "cell_type": "markdown",
   "metadata": {},
   "source": [
    "The residuals are not evenly spread put, also some large outliers are skewing the results so a liner regression model isn't the right approach here.\n",
    "\n",
    "Let's take a deeper look into a particular price bands to see what could be going on. "
   ]
  },
  {
   "cell_type": "code",
   "execution_count": 47,
   "metadata": {},
   "outputs": [
    {
     "data": {
      "text/plain": [
       "0.2706133032486955"
      ]
     },
     "execution_count": 47,
     "metadata": {},
     "output_type": "execute_result"
    },
    {
     "data": {
      "image/png": "[encoded data removed]",
      "text/plain": [
       "<Figure size 360x360 with 1 Axes>"
      ]
     },
     "metadata": {},
     "output_type": "display_data"
    }
   ],
   "source": [
    "price_band = condo_sales.where(COL_PURCHASE_PRICE, are.between(750000, 1000000))\n",
    "\n",
    "price_band.scatter(COL_PURCHASE_PRICE, COL_SOLD_PRICE, fit_line=True)\n",
    "correlation(price_band, COL_PURCHASE_PRICE, COL_SOLD_PRICE)"
   ]
  },
  {
   "cell_type": "markdown",
   "metadata": {},
   "source": [
    "Now the correlation is much lower, The data is more spread out. Also a average seems to skew a little higher do the outliers a visible in the chart.\n",
    "\n",
    "## Removing Outliers\n",
    "\n",
    "Let's look at the purchase price outliers"
   ]
  },
  {
   "cell_type": "code",
   "execution_count": 48,
   "metadata": {},
   "outputs": [
    {
     "name": "stdout",
     "output_type": "stream",
     "text": [
      "PURCHASE PRICE Stats\n",
      "Avg: 1343091.4503921838 \tStd: 1360571.5137068713 \tMin: 11753 \tMax: 27507062\n",
      " 5%: 278850 \t95%: 3625000\n",
      " 1%: 143070 \t99%: 6718423\n",
      "25%: 580402 \t50%: 935000 \t75% 1634291\n"
     ]
    },
    {
     "data": {
      "image/png": "[encoded data removed]",
      "text/plain": [
       "<Figure size 432x288 with 1 Axes>"
      ]
     },
     "metadata": {},
     "output_type": "display_data"
    }
   ],
   "source": [
    "col_stats(condo_sales, COL_PURCHASE_PRICE)"
   ]
  },
  {
   "cell_type": "markdown",
   "metadata": {},
   "source": [
    "Let's remove the ouliers so we can get a better picture of the data. "
   ]
  },
  {
   "cell_type": "code",
   "execution_count": 49,
   "metadata": {},
   "outputs": [
    {
     "name": "stdout",
     "output_type": "stream",
     "text": [
      "PURCHASE PRICE Stats\n",
      "Avg: 1271691.6471951134 \tStd: 1024606.340964852 \tMin: 143070 \tMax: 6700000\n",
      " 5%: 300000 \t95%: 3371020\n",
      " 1%: 200000 \t99%: 5300000\n",
      "25%: 588000 \t50%: 935000 \t75% 1619017\n"
     ]
    },
    {
     "data": {
      "image/png": "[encoded data removed]",
      "text/plain": [
       "<Figure size 432x288 with 1 Axes>"
      ]
     },
     "metadata": {},
     "output_type": "display_data"
    }
   ],
   "source": [
    "purchase_prices = condo_sales.column(COL_PURCHASE_PRICE)\n",
    "\n",
    "percent_1 = percentile(1, purchase_prices)\n",
    "percent_99 = percentile(99, purchase_prices)\n",
    "\n",
    "condo_sales = condo_sales.where(COL_PURCHASE_PRICE, are.between(percent_1, percent_99))\n",
    "col_stats(condo_sales, COL_PURCHASE_PRICE)"
   ]
  },
  {
   "cell_type": "markdown",
   "metadata": {},
   "source": [
    "much better!"
   ]
  },
  {
   "cell_type": "markdown",
   "metadata": {},
   "source": [
    "# Price change % \n",
    "\n",
    "Now let's calculate the price change as a % of the purchase price."
   ]
  },
  {
   "cell_type": "code",
   "execution_count": 50,
   "metadata": {},
   "outputs": [],
   "source": [
    "percents = sales_2010.column(COL_PRICE_CHANGE) / sales_2010.column(COL_PURCHASE_PRICE) * 100\n",
    "\n",
    "\n",
    "\n",
    "sales_2010 = sales_2010.with_column(COL_PRICE_PERCENT, percents)\n",
    "\n"
   ]
  },
  {
   "cell_type": "markdown",
   "metadata": {},
   "source": [
    "## Sanitize price change % \n",
    "\n",
    "Looking into how  the price change % data is distributed. Again we need to clean out the outliers."
   ]
  },
  {
   "cell_type": "code",
   "execution_count": 51,
   "metadata": {},
   "outputs": [
    {
     "name": "stdout",
     "output_type": "stream",
     "text": [
      "PRICE CHANGE % Stats\n",
      "Avg: 53.31361231031813 \tStd: 128.100149791671 \tMin: -60.02098971213591 \tMax: 3054.111347465708\n",
      " 5%: 0.0 \t95%: 103.25\n",
      " 1%: -31.03448275862069 \t99%: 487.8787878787879\n",
      "25%: 23.75 \t50%: 39.285714285714285 \t75% 57.05128205128205\n"
     ]
    },
    {
     "data": {
      "image/png": "[encoded data removed]",
      "text/plain": [
       "<Figure size 432x288 with 1 Axes>"
      ]
     },
     "metadata": {},
     "output_type": "display_data"
    },
    {
     "data": {
      "image/png": "[encoded data removed]",
      "text/plain": [
       "<Figure size 432x288 with 1 Axes>"
      ]
     },
     "metadata": {},
     "output_type": "display_data"
    }
   ],
   "source": [
    "\n",
    "col_stats(sales_2010, COL_PRICE_PERCENT)\n",
    "draw_hist(sales_2010, COL_PRICE_PERCENT, 2)"
   ]
  },
  {
   "cell_type": "code",
   "execution_count": 52,
   "metadata": {},
   "outputs": [],
   "source": [
    "# strip out the Price Percent change outliers. \n",
    "\n",
    "price_changes = sales_2010.column(COL_PRICE_PERCENT)\n",
    "\n",
    "percent_2 = percentile(2, price_changes)\n",
    "percent_98 = percentile(98, price_changes)\n",
    "\n",
    "sales_2010 = sales_2010.where(COL_PRICE_PERCENT, are.between(percent_2, percent_98))\n",
    "\n"
   ]
  },
  {
   "cell_type": "code",
   "execution_count": 53,
   "metadata": {},
   "outputs": [
    {
     "data": {
      "text/plain": [
       "0.33638955204814946"
      ]
     },
     "execution_count": 53,
     "metadata": {},
     "output_type": "execute_result"
    },
    {
     "data": {
      "image/png": "[encoded data removed]",
      "text/plain": [
       "<Figure size 360x360 with 1 Axes>"
      ]
     },
     "metadata": {},
     "output_type": "display_data"
    }
   ],
   "source": [
    "sales_2010.scatter(COL_PERIOD, COL_PRICE_PERCENT, fit_line=True)\n",
    "correlation(sales_2010, COL_PERIOD, COL_PRICE_PERCENT)"
   ]
  },
  {
   "cell_type": "markdown",
   "metadata": {},
   "source": [
    "Ok there there looks to be an upward trend here and prices changes increase over time. That said the correlation isn't linear. Smoothing the data into monthly (30) intervals look like the following"
   ]
  },
  {
   "cell_type": "code",
   "execution_count": 54,
   "metadata": {},
   "outputs": [
    {
     "name": "stderr",
     "output_type": "stream",
     "text": [
      "/usr/local/lib/python3.7/site-packages/numpy/core/fromnumeric.py:2920: RuntimeWarning: Mean of empty slice.\n",
      "  out=out, **kwargs)\n",
      "/usr/local/lib/python3.7/site-packages/numpy/core/_methods.py:85: RuntimeWarning: invalid value encountered in double_scalars\n",
      "  ret = ret.dtype.type(ret / rcount)\n"
     ]
    },
    {
     "data": {
      "image/png": "[encoded data removed]",
      "text/plain": [
       "<Figure size 360x360 with 1 Axes>"
      ]
     },
     "metadata": {},
     "output_type": "display_data"
    }
   ],
   "source": [
    "\n",
    "periods = sales_2010.column(COL_PERIOD)\n",
    "\n",
    "min_period = min(periods)\n",
    "max_period = max(periods)\n",
    "\n",
    "\n",
    "period_groups = []\n",
    "period_sales = []\n",
    "\n",
    "for i in np.arange(min_period, max_period, 30 ):\n",
    "    period_groups.append(i)\n",
    "    period_sales.append(np.mean(sales_2010.where(COL_PERIOD, are.between(i, i+30)).column(COL_PRICE_PERCENT)))\n",
    "    \n",
    "\n",
    "Table().with_columns(\n",
    "    COL_PERIOD,  period_groups, \n",
    "    COL_PRICE_PERCENT, period_sales\n",
    ").scatter(0)"
   ]
  },
  {
   "cell_type": "markdown",
   "metadata": {},
   "source": [
    "Defintitely shows a trend! \n",
    "\n",
    "Let's take a look at other years"
   ]
  },
  {
   "cell_type": "code",
   "execution_count": 55,
   "metadata": {},
   "outputs": [
    {
     "data": {
      "application/vnd.jupyter.widget-view+json": {
       "model_id": "f7994689147a44d6b303e977bd49a99a",
       "version_major": 2,
       "version_minor": 0
      },
      "text/plain": [
       "interactive(children=(Dropdown(description='year', options=(2003, 2004, 2005, 2006, 2007, 2008, 2009, 2010, 20…"
      ]
     },
     "metadata": {},
     "output_type": "display_data"
    },
    {
     "data": {
      "text/plain": [
       "<function __main__.plot_price_change_year(year)>"
      ]
     },
     "execution_count": 55,
     "metadata": {},
     "output_type": "execute_result"
    }
   ],
   "source": [
    "# Trim the outliers. \n",
    "percents = condo_sales.column(COL_PRICE_CHANGE) / condo_sales.column(COL_PURCHASE_PRICE) * 100\n",
    "\n",
    "condo_sales = condo_sales.with_column(COL_PRICE_PERCENT, percents)\n",
    "\n",
    "percent_1 = percentile(1, percents)\n",
    "percent_99 = percentile(99, percents)\n",
    "\n",
    "condo_sales = condo_sales.where(COL_PRICE_PERCENT, are.between(percent_1, percent_99))\n",
    "\n",
    "def plot_price_change_year(year):\n",
    "    ''' Plot the price change % for a given year'''\n",
    "    valid_sales = condo_sales.where(COL_PURCHASE_DATE, are.between_or_equal_to( datetime(year, 1, 1), datetime(year+1, 1, 1)))\n",
    "\n",
    "    min_period = min(periods)\n",
    "    max_period = max(periods)\n",
    "\n",
    "\n",
    "    period_groups = []\n",
    "    period_sales = []\n",
    "\n",
    "    for i in np.arange(min_period, max_period, 30 ):\n",
    "        period_groups.append(i)\n",
    "        period_sales.append(np.mean(valid_sales.where(COL_PERIOD, are.between(i, i+30)).column(COL_PRICE_PERCENT)))\n",
    "\n",
    "    Table().with_columns(\n",
    "        COL_PERIOD,  period_groups, \n",
    "        COL_PRICE_PERCENT, period_sales\n",
    "    ).scatter(0)\n",
    "\n",
    "interact(plot_price_change_year, year=np.arange(2003,2019) )\n",
    "\n"
   ]
  },
  {
   "cell_type": "markdown",
   "metadata": {},
   "source": [
    "We can now say there is a a correlation between the price change and time reflective of the overall movement in the market over time. \n",
    "\n",
    "Let's create some prediction models. \n",
    "\n",
    "# Step 4: Predicting NYC property prices"
   ]
  },
  {
   "cell_type": "markdown",
   "metadata": {},
   "source": [
    "## Prediction model: nearest neighbor\n",
    "\n",
    "Our prediction model should use both the purchase price and date for prediction. Let's create it now.\n",
    "\n",
    "We will first convert purchase date, price and sold dates into standard units so they can be used to compute distance. \n",
    "\n",
    "There we will create the training and testing set."
   ]
  },
  {
   "cell_type": "code",
   "execution_count": 56,
   "metadata": {},
   "outputs": [
    {
     "data": {
      "text/html": [
       "<table border=\"1\" class=\"dataframe\">\n",
       "    <thead>\n",
       "        <tr>\n",
       "            <th>FULL ADDRESS</th> <th>PURCHASE DATE</th> <th>PURCHASE PRICE</th> <th>SOLD DATE</th> <th>SOLD PRICE</th> <th>PRICE CHANGE</th> <th>PERIOD</th> <th>DAILY PRICE CHANGE</th> <th>PRICE CHANGE %</th> <th>PURCHASE DATE SU</th> <th>PURCHASE PRICE SU</th> <th>SOLD DATE SU</th>\n",
       "        </tr>\n",
       "    </thead>\n",
       "    <tbody>\n",
       "        <tr>\n",
       "            <td>100 RIVERSIDE BOULEVARD, 17H </td> <td>2008-07-14 00:00:00</td> <td>1013158       </td> <td>2011-09-16 00:00:00</td> <td>850000    </td> <td>-163,158    </td> <td>1159  </td> <td>-140.775          </td> <td>-16.1039      </td> <td>0.226941        </td> <td>-0.262461        </td> <td>-0.499676   </td>\n",
       "        </tr>\n",
       "        <tr>\n",
       "            <td>1 MORTON SQUARE, 3D E        </td> <td>2004-01-14 00:00:00</td> <td>1629200       </td> <td>2010-07-20 00:00:00</td> <td>2050000   </td> <td>420,800     </td> <td>2379  </td> <td>176.881           </td> <td>25.8286       </td> <td>-1.24269        </td> <td>0.336205         </td> <td>-0.808559   </td>\n",
       "        </tr>\n",
       "        <tr>\n",
       "            <td>340 EAST 23RD STREET, 11J    </td> <td>2008-03-11 00:00:00</td> <td>534581        </td> <td>2012-02-13 00:00:00</td> <td>542025    </td> <td>7,444       </td> <td>1434  </td> <td>5.19107           </td> <td>1.39249       </td> <td>0.115131        </td> <td>-0.72754         </td> <td>-0.390143   </td>\n",
       "        </tr>\n",
       "        <tr>\n",
       "            <td>252 7 AVENUE, 11S            </td> <td>2003-01-16 00:00:00</td> <td>755000        </td> <td>2012-05-09 00:00:00</td> <td>1062500   </td> <td>307,500     </td> <td>3401  </td> <td>90.4146           </td> <td>40.7285       </td> <td>-1.56738        </td> <td>-0.513338        </td> <td>-0.327344   </td>\n",
       "        </tr>\n",
       "        <tr>\n",
       "            <td>157 EAST 74TH   STREET, 5B/5C</td> <td>2007-01-11 00:00:00</td> <td>4150000       </td> <td>2007-12-20 00:00:00</td> <td>4795000   </td> <td>645,000     </td> <td>343   </td> <td>1880.47           </td> <td>15.5422       </td> <td>-0.265022       </td> <td>2.78591          </td> <td>-1.49716    </td>\n",
       "        </tr>\n",
       "        <tr>\n",
       "            <td>230 RIVERSIDE DRIVE, 2L      </td> <td>2008-06-30 00:00:00</td> <td>315000        </td> <td>2013-06-27 00:00:00</td> <td>310000    </td> <td>-5,000      </td> <td>1823  </td> <td>-2.74273          </td> <td>-1.5873       </td> <td>0.214418        </td> <td>-0.940928        </td> <td>-0.0250323  </td>\n",
       "        </tr>\n",
       "        <tr>\n",
       "            <td>150 NASSAU STREET, 5C        </td> <td>2003-05-14 00:00:00</td> <td>328993        </td> <td>2012-05-02 00:00:00</td> <td>668500    </td> <td>339,507     </td> <td>3276  </td> <td>103.635           </td> <td>103.196       </td> <td>-1.46183        </td> <td>-0.92733         </td> <td>-0.332455   </td>\n",
       "        </tr>\n",
       "        <tr>\n",
       "            <td>450 EAST 83RD   STREET, 5F   </td> <td>2008-02-01 00:00:00</td> <td>710000        </td> <td>2016-03-01 00:00:00</td> <td>700000    </td> <td>-10,000     </td> <td>2951  </td> <td>-3.38868          </td> <td>-1.40845      </td> <td>0.0802464       </td> <td>-0.557069        </td> <td>0.689123    </td>\n",
       "        </tr>\n",
       "        <tr>\n",
       "            <td>230 RIVERSIDE DRIVE, 16K     </td> <td>2008-06-30 00:00:00</td> <td>274000        </td> <td>2013-06-27 00:00:00</td> <td>280000    </td> <td>6,000       </td> <td>1823  </td> <td>3.29128           </td> <td>2.18978       </td> <td>0.214418        </td> <td>-0.980772        </td> <td>-0.0250323  </td>\n",
       "        </tr>\n",
       "        <tr>\n",
       "            <td>400 WEST 12TH STREET, 3H     </td> <td>2012-05-07 00:00:00</td> <td>2925000       </td> <td>2015-02-04 00:00:00</td> <td>2500000   </td> <td>-425,000    </td> <td>1003  </td> <td>-423.729          </td> <td>-14.5299      </td> <td>1.47295         </td> <td>1.59546          </td> <td>0.403607    </td>\n",
       "        </tr>\n",
       "    </tbody>\n",
       "</table>\n",
       "<p>... (8364 rows omitted)</p>"
      ],
      "text/plain": [
       "FULL ADDRESS                  | PURCHASE DATE       | PURCHASE PRICE | SOLD DATE           | SOLD PRICE | PRICE CHANGE | PERIOD | DAILY PRICE CHANGE | PRICE CHANGE % | PURCHASE DATE SU | PURCHASE PRICE SU | SOLD DATE SU\n",
       "100 RIVERSIDE BOULEVARD, 17H  | 2008-07-14 00:00:00 | 1013158        | 2011-09-16 00:00:00 | 850000     | -163,158     | 1159   | -140.775           | -16.1039       | 0.226941         | -0.262461         | -0.499676\n",
       "1 MORTON SQUARE, 3D E         | 2004-01-14 00:00:00 | 1629200        | 2010-07-20 00:00:00 | 2050000    | 420,800      | 2379   | 176.881            | 25.8286        | -1.24269         | 0.336205          | -0.808559\n",
       "340 EAST 23RD STREET, 11J     | 2008-03-11 00:00:00 | 534581         | 2012-02-13 00:00:00 | 542025     | 7,444        | 1434   | 5.19107            | 1.39249        | 0.115131         | -0.72754          | -0.390143\n",
       "252 7 AVENUE, 11S             | 2003-01-16 00:00:00 | 755000         | 2012-05-09 00:00:00 | 1062500    | 307,500      | 3401   | 90.4146            | 40.7285        | -1.56738         | -0.513338         | -0.327344\n",
       "157 EAST 74TH   STREET, 5B/5C | 2007-01-11 00:00:00 | 4150000        | 2007-12-20 00:00:00 | 4795000    | 645,000      | 343    | 1880.47            | 15.5422        | -0.265022        | 2.78591           | -1.49716\n",
       "230 RIVERSIDE DRIVE, 2L       | 2008-06-30 00:00:00 | 315000         | 2013-06-27 00:00:00 | 310000     | -5,000       | 1823   | -2.74273           | -1.5873        | 0.214418         | -0.940928         | -0.0250323\n",
       "150 NASSAU STREET, 5C         | 2003-05-14 00:00:00 | 328993         | 2012-05-02 00:00:00 | 668500     | 339,507      | 3276   | 103.635            | 103.196        | -1.46183         | -0.92733          | -0.332455\n",
       "450 EAST 83RD   STREET, 5F    | 2008-02-01 00:00:00 | 710000         | 2016-03-01 00:00:00 | 700000     | -10,000      | 2951   | -3.38868           | -1.40845       | 0.0802464        | -0.557069         | 0.689123\n",
       "230 RIVERSIDE DRIVE, 16K      | 2008-06-30 00:00:00 | 274000         | 2013-06-27 00:00:00 | 280000     | 6,000        | 1823   | 3.29128            | 2.18978        | 0.214418         | -0.980772         | -0.0250323\n",
       "400 WEST 12TH STREET, 3H      | 2012-05-07 00:00:00 | 2925000        | 2015-02-04 00:00:00 | 2500000    | -425,000     | 1003   | -423.729           | -14.5299       | 1.47295          | 1.59546           | 0.403607\n",
       "... (8364 rows omitted)"
      ]
     },
     "execution_count": 56,
     "metadata": {},
     "output_type": "execute_result"
    }
   ],
   "source": [
    "# Convert to standard units\n",
    "purchase_dates_timestamps = [ date.timestamp() for date in condo_sales.column(COL_PURCHASE_DATE)]\n",
    "purchase_dates_su = standard_units(purchase_dates_timestamps)\n",
    "\n",
    "sold_dates_timestamps = [ date.timestamp() for date in condo_sales.column(COL_SOLD_DATE)]\n",
    "sold_dates_su = standard_units(sold_dates_timestamps)\n",
    "\n",
    "purchase_price_su = standard_units(condo_sales.column(COL_PURCHASE_PRICE))\n",
    "\n",
    "condo_sales_su = condo_sales.with_column(\n",
    "    COL_PURCHASE_DATE_SU, purchase_dates_su, \n",
    "    COL_PURCHASE_PRICE_SU, purchase_price_su, \n",
    "    COL_SOLD_DATE_SU, sold_dates_su,\n",
    ")\n",
    "\n",
    "# Create the training and testing sets.\n",
    "training_sales, test_sales = condo_sales_su.split(int(condo_sales.num_rows * 0.6))\n",
    "training_sales\n"
   ]
  },
  {
   "cell_type": "code",
   "execution_count": 63,
   "metadata": {},
   "outputs": [],
   "source": [
    "if not os.path.exists(output_directory):\n",
    "    os.mkdir(output_directory)\n",
    "condo_sales_su.to_df().to_csv( output_directory + 'condo_sales.csv', index = False)\n"
   ]
  },
  {
   "cell_type": "code",
   "execution_count": 64,
   "metadata": {},
   "outputs": [],
   "source": [
    "# Columns used to the calculate the distance between two point i.e. 2 properties that were purchased and sold. \n",
    "# We picked the purchase date & price and the sold date converted to standard units as the important columns\n",
    "# to use for calculating the distance.\n",
    "distance_columns = [COL_PURCHASE_DATE_SU, COL_PURCHASE_PRICE_SU, COL_SOLD_DATE_SU]\n",
    "\n",
    "\n",
    "\n",
    "def all_distances(training, new_point):\n",
    "    \"\"\"Returns an array of distances\n",
    "    between each point in the training set\n",
    "    and the new point (which is a row of attributes)\"\"\"\n",
    "    attributes = training.select(distance_columns)\n",
    "    return distance.cdist( attributes.to_array().tolist(), [new_point]).flatten()\n",
    "\n",
    "def table_with_distances(training, new_point):\n",
    "    \"\"\"Augments the training table \n",
    "    with a column of distances from new_point\"\"\"\n",
    "    return training.with_column('Distance', all_distances(training, new_point))\n",
    "\n",
    "def closest(training, new_point, k):\n",
    "    \"\"\"Returns a table of the k rows of the augmented table\n",
    "    corresponding to the k smallest distances\"\"\"\n",
    "    with_dists = table_with_distances(training, new_point)\n",
    "    sorted_by_distance = with_dists.sort('Distance')\n",
    "    topk = sorted_by_distance.take(np.arange(k))\n",
    "    return topk\n",
    "\n",
    "def estimate(training, purchase_point, k):\n",
    "    \"\"\"Estimate a price based on nearest neighbours\"\"\"\n",
    "    close_points = closest(training_sales, purchase_point, k)\n",
    "    avg_price_change = np.mean(close_points.column(COL_PRICE_PERCENT))\n",
    "    return avg_price_change\n",
    "\n",
    "def evaluate_accuracy(training, test, k):\n",
    "    \"\"\"Evalute the accuracy of the model generating using training data on test data\"\"\"\n",
    "    # select the columns to compare\n",
    "    test_attributes = test.select(distance_columns)\n",
    "\n",
    "    # compute the predicted change for each test row\n",
    "    def price_testrow(row):\n",
    "        return estimate(training, row, k)\n",
    "\n",
    "    # Calculate the predicted price and error\n",
    "    c = test_attributes.apply(price_testrow)\n",
    "    \n",
    "    estimated = test[COL_PURCHASE_PRICE] * (100 + c )/100\n",
    "    error = (test[COL_SOLD_PRICE] - estimated  ) / test[COL_SOLD_PRICE] * 100\n",
    "    \n",
    "    return test.with_column(\"Estimated\", estimated, 'Error %', error)"
   ]
  },
  {
   "cell_type": "code",
   "execution_count": 65,
   "metadata": {},
   "outputs": [],
   "source": [
    "\n",
    "sample_sales =  test_sales\n",
    "estimates = evaluate_accuracy(training_sales, sample_sales, 10)\n"
   ]
  },
  {
   "cell_type": "code",
   "execution_count": 66,
   "metadata": {},
   "outputs": [
    {
     "name": "stdout",
     "output_type": "stream",
     "text": [
      "Error % Stats\n",
      "Avg: -3.5397717677473506 \tStd: 21.389822707595897 \tMin: -185.51652323208972 \tMax: 69.9753145695102\n",
      " 5%: -38.265994648226204 \t95%: 28.74770281954954\n",
      " 1%: -67.53159484100112 \t99%: 45.999987208959844\n",
      "25%: -14.559246976251647 \t50%: -2.4054065810023393 \t75% 8.753609143155348\n"
     ]
    },
    {
     "data": {
      "image/png": "[encoded data removed]",
      "text/plain": [
       "<Figure size 360x360 with 1 Axes>"
      ]
     },
     "metadata": {},
     "output_type": "display_data"
    },
    {
     "data": {
      "image/png": "[encoded data removed]",
      "text/plain": [
       "<Figure size 432x288 with 1 Axes>"
      ]
     },
     "metadata": {},
     "output_type": "display_data"
    }
   ],
   "source": [
    "estimates.scatter(COL_SOLD_PRICE, 'Error %')\n",
    "\n",
    "col_stats(estimates, \"Error %\")"
   ]
  },
  {
   "cell_type": "code",
   "execution_count": 67,
   "metadata": {},
   "outputs": [
    {
     "data": {
      "text/html": [
       "<table border=\"1\" class=\"dataframe\">\n",
       "    <thead>\n",
       "        <tr>\n",
       "            <th>FULL ADDRESS</th> <th>PURCHASE DATE</th> <th>PURCHASE PRICE</th> <th>SOLD DATE</th> <th>SOLD PRICE</th> <th>PRICE CHANGE</th> <th>PERIOD</th> <th>DAILY PRICE CHANGE</th> <th>PRICE CHANGE %</th> <th>PURCHASE DATE SU</th> <th>PURCHASE PRICE SU</th> <th>SOLD DATE SU</th> <th>Estimated</th> <th>Error %</th>\n",
       "        </tr>\n",
       "    </thead>\n",
       "    <tbody>\n",
       "        <tr>\n",
       "            <td>200 WEST END AVENUE, 10M  </td> <td>2008-04-14 00:00:00</td> <td>962246        </td> <td>2011-07-15 00:00:00</td> <td>999000    </td> <td>36,754      </td> <td>1187  </td> <td>30.9638           </td> <td>3.81961       </td> <td>0.145543        </td> <td>-0.311937        </td> <td>-0.54568    </td> <td>933044     </td> <td>6.60224 </td>\n",
       "        </tr>\n",
       "        <tr>\n",
       "            <td>1601 3 AVENUE, 18H        </td> <td>2003-02-20 00:00:00</td> <td>420445        </td> <td>2008-04-09 00:00:00</td> <td>1150000   </td> <td>729,555     </td> <td>1875  </td> <td>389.096           </td> <td>173.52        </td> <td>-1.53607        </td> <td>-0.838457        </td> <td>-1.4161     </td> <td>962854     </td> <td>16.2736 </td>\n",
       "        </tr>\n",
       "        <tr>\n",
       "            <td>32 WEST 18TH   STREET, 11B</td> <td>2007-08-02 00:00:00</td> <td>4378475       </td> <td>2015-09-15 00:00:00</td> <td>6500000   </td> <td>2,121,525   </td> <td>2966  </td> <td>715.282           </td> <td>48.4535       </td> <td>-0.0834429      </td> <td>3.00794          </td> <td>0.566446    </td> <td>5.92889e+06</td> <td>8.78627 </td>\n",
       "        </tr>\n",
       "        <tr>\n",
       "            <td>65 EAST 96TH   STREET, 11B</td> <td>2013-12-16 00:00:00</td> <td>2775000       </td> <td>2014-05-23 00:00:00</td> <td>2902625   </td> <td>127,625     </td> <td>158   </td> <td>807.753           </td> <td>4.5991        </td> <td>1.9989          </td> <td>1.44969          </td> <td>0.21594     </td> <td>3.72333e+06</td> <td>-28.2747</td>\n",
       "        </tr>\n",
       "        <tr>\n",
       "            <td>80 ELIZABETH STREET, 5F   </td> <td>2003-01-30 00:00:00</td> <td>520000        </td> <td>2018-04-16 00:00:00</td> <td>1200000   </td> <td>680,000     </td> <td>5555  </td> <td>122.412           </td> <td>130.769       </td> <td>-1.55486        </td> <td>-0.74171         </td> <td>1.25577     </td> <td>1.15519e+06</td> <td>3.73423 </td>\n",
       "        </tr>\n",
       "        <tr>\n",
       "            <td>300 CATHEDRAL PARKWAY, 16K</td> <td>2005-08-12 00:00:00</td> <td>495000        </td> <td>2011-03-24 00:00:00</td> <td>356000    </td> <td>-139,000    </td> <td>2050  </td> <td>-67.8049          </td> <td>-28.0808      </td> <td>-0.727467       </td> <td>-0.766005        </td> <td>-0.628195   </td> <td>574807     </td> <td>-61.4625</td>\n",
       "        </tr>\n",
       "        <tr>\n",
       "            <td>200 EAST 58TH STREET, 5H  </td> <td>2004-06-24 00:00:00</td> <td>900000        </td> <td>2008-05-02 00:00:00</td> <td>1550000   </td> <td>650,000     </td> <td>1408  </td> <td>461.648           </td> <td>72.2222       </td> <td>-1.09778        </td> <td>-0.372428        </td> <td>-1.39931    </td> <td>1.41077e+06</td> <td>8.98275 </td>\n",
       "        </tr>\n",
       "        <tr>\n",
       "            <td>200 CHAMBERS STREET, 14D  </td> <td>2007-03-30 00:00:00</td> <td>2464165       </td> <td>2017-01-23 00:00:00</td> <td>3300000   </td> <td>835,835     </td> <td>3587  </td> <td>233.018           </td> <td>33.9196       </td> <td>-0.195253       </td> <td>1.14762          </td> <td>0.928636    </td> <td>3.90135e+06</td> <td>-18.2228</td>\n",
       "        </tr>\n",
       "        <tr>\n",
       "            <td>407 EAST 12TH STREET, 1FNW</td> <td>2008-07-03 00:00:00</td> <td>1095000       </td> <td>2015-07-06 00:00:00</td> <td>1100000   </td> <td>5,000       </td> <td>2559  </td> <td>1.95389           </td> <td>0.456621      </td> <td>0.217101        </td> <td>-0.182928        </td> <td>0.514601    </td> <td>1.52595e+06</td> <td>-38.7223</td>\n",
       "        </tr>\n",
       "        <tr>\n",
       "            <td>366 WEST 11TH   STREET, 3C</td> <td>2014-12-15 00:00:00</td> <td>1300000       </td> <td>2017-08-16 00:00:00</td> <td>1100000   </td> <td>-200,000    </td> <td>975   </td> <td>-205.128          </td> <td>-15.3846      </td> <td>2.32449         </td> <td>0.0162904        </td> <td>1.07833     </td> <td>1.46506e+06</td> <td>-33.1869</td>\n",
       "        </tr>\n",
       "    </tbody>\n",
       "</table>\n",
       "<p>... (5574 rows omitted)</p>"
      ],
      "text/plain": [
       "FULL ADDRESS               | PURCHASE DATE       | PURCHASE PRICE | SOLD DATE           | SOLD PRICE | PRICE CHANGE | PERIOD | DAILY PRICE CHANGE | PRICE CHANGE % | PURCHASE DATE SU | PURCHASE PRICE SU | SOLD DATE SU | Estimated   | Error %\n",
       "200 WEST END AVENUE, 10M   | 2008-04-14 00:00:00 | 962246         | 2011-07-15 00:00:00 | 999000     | 36,754       | 1187   | 30.9638            | 3.81961        | 0.145543         | -0.311937         | -0.54568     | 933044      | 6.60224\n",
       "1601 3 AVENUE, 18H         | 2003-02-20 00:00:00 | 420445         | 2008-04-09 00:00:00 | 1150000    | 729,555      | 1875   | 389.096            | 173.52         | -1.53607         | -0.838457         | -1.4161      | 962854      | 16.2736\n",
       "32 WEST 18TH   STREET, 11B | 2007-08-02 00:00:00 | 4378475        | 2015-09-15 00:00:00 | 6500000    | 2,121,525    | 2966   | 715.282            | 48.4535        | -0.0834429       | 3.00794           | 0.566446     | 5.92889e+06 | 8.78627\n",
       "65 EAST 96TH   STREET, 11B | 2013-12-16 00:00:00 | 2775000        | 2014-05-23 00:00:00 | 2902625    | 127,625      | 158    | 807.753            | 4.5991         | 1.9989           | 1.44969           | 0.21594      | 3.72333e+06 | -28.2747\n",
       "80 ELIZABETH STREET, 5F    | 2003-01-30 00:00:00 | 520000         | 2018-04-16 00:00:00 | 1200000    | 680,000      | 5555   | 122.412            | 130.769        | -1.55486         | -0.74171          | 1.25577      | 1.15519e+06 | 3.73423\n",
       "300 CATHEDRAL PARKWAY, 16K | 2005-08-12 00:00:00 | 495000         | 2011-03-24 00:00:00 | 356000     | -139,000     | 2050   | -67.8049           | -28.0808       | -0.727467        | -0.766005         | -0.628195    | 574807      | -61.4625\n",
       "200 EAST 58TH STREET, 5H   | 2004-06-24 00:00:00 | 900000         | 2008-05-02 00:00:00 | 1550000    | 650,000      | 1408   | 461.648            | 72.2222        | -1.09778         | -0.372428         | -1.39931     | 1.41077e+06 | 8.98275\n",
       "200 CHAMBERS STREET, 14D   | 2007-03-30 00:00:00 | 2464165        | 2017-01-23 00:00:00 | 3300000    | 835,835      | 3587   | 233.018            | 33.9196        | -0.195253        | 1.14762           | 0.928636     | 3.90135e+06 | -18.2228\n",
       "407 EAST 12TH STREET, 1FNW | 2008-07-03 00:00:00 | 1095000        | 2015-07-06 00:00:00 | 1100000    | 5,000        | 2559   | 1.95389            | 0.456621       | 0.217101         | -0.182928         | 0.514601     | 1.52595e+06 | -38.7223\n",
       "366 WEST 11TH   STREET, 3C | 2014-12-15 00:00:00 | 1300000        | 2017-08-16 00:00:00 | 1100000    | -200,000     | 975    | -205.128           | -15.3846       | 2.32449          | 0.0162904         | 1.07833      | 1.46506e+06 | -33.1869\n",
       "... (5574 rows omitted)"
      ]
     },
     "execution_count": 67,
     "metadata": {},
     "output_type": "execute_result"
    }
   ],
   "source": [
    "estimates"
   ]
  },
  {
   "cell_type": "code",
   "execution_count": 68,
   "metadata": {},
   "outputs": [
    {
     "data": {
      "text/plain": [
       "[-4.253426480127161, -3.7583351429004823]"
      ]
     },
     "execution_count": 68,
     "metadata": {},
     "output_type": "execute_result"
    }
   ],
   "source": [
    "\n",
    "accuracy = []\n",
    "\n",
    "for i in np.arange(1, 3):\n",
    "    estimates = evaluate_accuracy(training_sales, sample_sales, i)\n",
    "    average = np.mean(estimates.column(\"Error %\"))\n",
    "    accuracy.append(average)\n",
    "    \n",
    "    \n",
    "accuracy\n"
   ]
  },
  {
   "cell_type": "markdown",
   "metadata": {},
   "source": [
    "# Price Predictor\n",
    "\n",
    "Check out the price predictor here. "
   ]
  },
  {
   "cell_type": "markdown",
   "metadata": {},
   "source": [
    "# Furhter Explorations\n",
    "\n",
    "It would be interesting furhter explore this data by:\n",
    "\n",
    "1. Applying different weights to the distanace calculations. e.g. The purchase price should be more important than the other attributes. \n",
    "2. Including location when calculating the distance between two properties. \n",
    "3. Including co-ops.\n",
    "\n",
    "If you have suggestions or thoughts, I would appreciate if you share them using the questions section below. \n",
    "\n",
    "Thank you for reading!"
   ]
  },
  {
   "cell_type": "code",
   "execution_count": 76,
   "metadata": {},
   "outputs": [
    {
     "data": {
      "text/html": [
       "<table border=\"1\" class=\"dataframe\">\n",
       "    <thead>\n",
       "        <tr>\n",
       "            <th>SALE DATE</th> <th>SALE PRICE</th> <th>ADDRESS</th> <th>APARTMENT NUMBER</th> <th>YEAR BUILT</th> <th>NEIGHBORHOOD</th> <th>ZIP CODE</th> <th>BUILDING CLASS AT TIME OF SALE</th> <th>BUILDING CLASS CATEGORY</th> <th>FULL ADDRESS</th>\n",
       "        </tr>\n",
       "    </thead>\n",
       "    <tbody>\n",
       "        <tr>\n",
       "            <td>2018-07-26 00:00:00</td> <td>1325000   </td> <td>20 SUTTON PLACE SOUTH, 20C    </td> <td>                </td> <td>1953      </td> <td>MIDTOWN EAST</td> <td>10022   </td> <td>D4                            </td> <td>10 COOPS - ELEVATOR APARTMENTS </td> <td>20 SUTTON PLACE SOUTH, 20C    </td>\n",
       "        </tr>\n",
       "        <tr>\n",
       "            <td>2018-07-25 00:00:00</td> <td>1375000   </td> <td>20 SUTTON PLACE SOUTH, 7A&P5  </td> <td>                </td> <td>1953      </td> <td>MIDTOWN EAST</td> <td>10022   </td> <td>D4                            </td> <td>10 COOPS - ELEVATOR APARTMENTS </td> <td>20 SUTTON PLACE SOUTH, 7A&P5  </td>\n",
       "        </tr>\n",
       "        <tr>\n",
       "            <td>2018-07-11 00:00:00</td> <td>757500    </td> <td>20 SUTTON PLACE SOUTH, 1C     </td> <td>                </td> <td>1953      </td> <td>MIDTOWN EAST</td> <td>10022   </td> <td>D4                            </td> <td>10 COOPS - ELEVATOR APARTMENTS </td> <td>20 SUTTON PLACE SOUTH, 1C     </td>\n",
       "        </tr>\n",
       "        <tr>\n",
       "            <td>2018-07-10 00:00:00</td> <td>1300000   </td> <td>20 SUTTON PLACE SOUTH, 9B     </td> <td>                </td> <td>1953      </td> <td>MIDTOWN EAST</td> <td>10022   </td> <td>D4                            </td> <td>10 COOPS - ELEVATOR APARTMENTS </td> <td>20 SUTTON PLACE SOUTH, 9B     </td>\n",
       "        </tr>\n",
       "        <tr>\n",
       "            <td>2018-05-30 00:00:00</td> <td>837500    </td> <td>20 SUTTON PLACE SOUTH, 17B    </td> <td>                </td> <td>1953      </td> <td>MIDTOWN EAST</td> <td>10022   </td> <td>D4                            </td> <td>10 COOPS - ELEVATOR APARTMENTS </td> <td>20 SUTTON PLACE SOUTH, 17B    </td>\n",
       "        </tr>\n",
       "        <tr>\n",
       "            <td>2018-03-02 00:00:00</td> <td>1355000   </td> <td>20 SUTTON PLACE SOUTH, 12B    </td> <td>                </td> <td>1953      </td> <td>MIDTOWN EAST</td> <td>10022   </td> <td>D4                            </td> <td>10 COOPS - ELEVATOR APARTMENTS </td> <td>20 SUTTON PLACE SOUTH, 12B    </td>\n",
       "        </tr>\n",
       "        <tr>\n",
       "            <td>2018-01-30 00:00:00</td> <td>1750000   </td> <td>20 SUTTON PLACE SOUTH, 2C     </td> <td>                </td> <td>1953      </td> <td>MIDTOWN EAST</td> <td>10022   </td> <td>D4                            </td> <td>10 COOPS - ELEVATOR APARTMENTS </td> <td>20 SUTTON PLACE SOUTH, 2C     </td>\n",
       "        </tr>\n",
       "        <tr>\n",
       "            <td>2017-12-15 00:00:00</td> <td>1810000   </td> <td>20 SUTTON PLACE SOUTH, 14E    </td> <td>                </td> <td>1953      </td> <td>MIDTOWN EAST</td> <td>10022   </td> <td>D4                            </td> <td>10 COOPS - ELEVATOR APARTMENTS </td> <td>20 SUTTON PLACE SOUTH, 14E    </td>\n",
       "        </tr>\n",
       "        <tr>\n",
       "            <td>2017-12-15 00:00:00</td> <td>1810000   </td> <td>20 SUTTON PLACE SOUTH, 14E    </td> <td>                </td> <td>1953      </td> <td>MIDTOWN EAST</td> <td>10022   </td> <td>D4                            </td> <td>10 COOPS - ELEVATOR APARTMENTS </td> <td>20 SUTTON PLACE SOUTH, 14E    </td>\n",
       "        </tr>\n",
       "        <tr>\n",
       "            <td>2017-09-07 00:00:00</td> <td>775000    </td> <td>20 SUTTON PLACE SOUTH, 6E     </td> <td>                </td> <td>1953      </td> <td>MIDTOWN EAST</td> <td>10022   </td> <td>D4                            </td> <td>10 COOPS - ELEVATOR APARTMENTS </td> <td>20 SUTTON PLACE SOUTH, 6E     </td>\n",
       "        </tr>\n",
       "        <tr>\n",
       "            <td>2017-08-08 00:00:00</td> <td>2400000   </td> <td>20 SUTTON PLACE SOUTH, 20A    </td> <td>                </td> <td>1953      </td> <td>MIDTOWN EAST</td> <td>10022   </td> <td>D4                            </td> <td>10 COOPS - ELEVATOR APARTMENTS </td> <td>20 SUTTON PLACE SOUTH, 20A    </td>\n",
       "        </tr>\n",
       "        <tr>\n",
       "            <td>2017-04-28 00:00:00</td> <td>19090     </td> <td>20 SUTTON PLACE SOUTH         </td> <td>                </td> <td>1953      </td> <td>MIDTOWN EAST</td> <td>10022   </td> <td>D4                            </td> <td>10 COOPS - ELEVATOR APARTMENTS </td> <td>20 SUTTON PLACE SOUTH         </td>\n",
       "        </tr>\n",
       "        <tr>\n",
       "            <td>2017-02-02 00:00:00</td> <td>2110000   </td> <td>20 SUTTON PLACE SOUTH, 5C     </td> <td>                </td> <td>1953      </td> <td>MIDTOWN EAST</td> <td>10022   </td> <td>D4                            </td> <td>10 COOPS - ELEVATOR APARTMENTS </td> <td>20 SUTTON PLACE SOUTH, 5C     </td>\n",
       "        </tr>\n",
       "        <tr>\n",
       "            <td>2016-12-20 00:00:00</td> <td>1350000   </td> <td>20 SUTTON PLACE SOUTH, 5A     </td> <td>                </td> <td>1953      </td> <td>MIDTOWN EAST</td> <td>10022   </td> <td>D4                            </td> <td>10  COOPS - ELEVATOR APARTMENTS</td> <td>20 SUTTON PLACE SOUTH, 5A     </td>\n",
       "        </tr>\n",
       "        <tr>\n",
       "            <td>2016-08-01 00:00:00</td> <td>153000    </td> <td>20 SUTTON PLACE SOUTH, PS-9   </td> <td>                </td> <td>1953      </td> <td>MIDTOWN EAST</td> <td>10022   </td> <td>D4                            </td> <td>10  COOPS - ELEVATOR APARTMENTS</td> <td>20 SUTTON PLACE SOUTH, PS-9   </td>\n",
       "        </tr>\n",
       "        <tr>\n",
       "            <td>2016-04-07 00:00:00</td> <td>1050000   </td> <td>20 SUTTON PLACE SOUTH, 11B    </td> <td>                </td> <td>1953      </td> <td>MIDTOWN EAST</td> <td>10022   </td> <td>D4                            </td> <td>10  COOPS - ELEVATOR APARTMENTS</td> <td>20 SUTTON PLACE SOUTH, 11B    </td>\n",
       "        </tr>\n",
       "        <tr>\n",
       "            <td>2016-03-31 00:00:00</td> <td>1845000   </td> <td>20 SUTTON PLACE SOUTH, 14C    </td> <td>                </td> <td>1953      </td> <td>MIDTOWN EAST</td> <td>10022   </td> <td>D4                            </td> <td>10  COOPS - ELEVATOR APARTMENTS</td> <td>20 SUTTON PLACE SOUTH, 14C    </td>\n",
       "        </tr>\n",
       "        <tr>\n",
       "            <td>2016-03-30 00:00:00</td> <td>2025000   </td> <td>20 SUTTON PLACE SOUTH, 16E    </td> <td>                </td> <td>1953      </td> <td>MIDTOWN EAST</td> <td>10022   </td> <td>D4                            </td> <td>10  COOPS - ELEVATOR APARTMENTS</td> <td>20 SUTTON PLACE SOUTH, 16E    </td>\n",
       "        </tr>\n",
       "        <tr>\n",
       "            <td>2015-11-18 00:00:00</td> <td>1470000   </td> <td>20 SUTTON PLACE SOUTH, PHB    </td> <td>                </td> <td>1953      </td> <td>MIDTOWN EAST</td> <td>10022   </td> <td>D4                            </td> <td>10  COOPS - ELEVATOR APARTMENTS</td> <td>20 SUTTON PLACE SOUTH, PHB    </td>\n",
       "        </tr>\n",
       "        <tr>\n",
       "            <td>2015-08-11 00:00:00</td> <td>790000    </td> <td>20 SUTTON PLACE SOUTH, 4E     </td> <td>                </td> <td>1953      </td> <td>MIDTOWN EAST</td> <td>10022   </td> <td>D4                            </td> <td>10  COOPS - ELEVATOR APARTMENTS</td> <td>20 SUTTON PLACE SOUTH, 4E     </td>\n",
       "        </tr>\n",
       "        <tr>\n",
       "            <td>2015-08-06 00:00:00</td> <td>999500    </td> <td>20 SUTTON PLACE SOUTH, 4B     </td> <td>                </td> <td>1953      </td> <td>MIDTOWN EAST</td> <td>10022   </td> <td>D4                            </td> <td>10  COOPS - ELEVATOR APARTMENTS</td> <td>20 SUTTON PLACE SOUTH, 4B     </td>\n",
       "        </tr>\n",
       "        <tr>\n",
       "            <td>2015-06-16 00:00:00</td> <td>1850000   </td> <td>20 SUTTON PLACE SOUTH, 15C    </td> <td>                </td> <td>1953      </td> <td>MIDTOWN EAST</td> <td>10022   </td> <td>D4                            </td> <td>10  COOPS - ELEVATOR APARTMENTS</td> <td>20 SUTTON PLACE SOUTH, 15C    </td>\n",
       "        </tr>\n",
       "        <tr>\n",
       "            <td>2015-04-29 00:00:00</td> <td>1850000   </td> <td>20 SUTTON PLACE SOUTH, 4C/P3  </td> <td>                </td> <td>1953      </td> <td>MIDTOWN EAST</td> <td>10022   </td> <td>D4                            </td> <td>10  COOPS - ELEVATOR APARTMENTS</td> <td>20 SUTTON PLACE SOUTH, 4C/P3  </td>\n",
       "        </tr>\n",
       "        <tr>\n",
       "            <td>2014-12-16 00:00:00</td> <td>1150000   </td> <td>20 SUTTON PLACE, 2A           </td> <td>                </td> <td>1960      </td> <td>MIDTOWN EAST</td> <td>10022   </td> <td>D4                            </td> <td>10  COOPS - ELEVATOR APARTMENTS</td> <td>20 SUTTON PLACE, 2A           </td>\n",
       "        </tr>\n",
       "        <tr>\n",
       "            <td>2014-05-13 00:00:00</td> <td>1136000   </td> <td>20 SUTTON PLACE SOUTH, 17A    </td> <td>                </td> <td>1953      </td> <td>MIDTOWN EAST</td> <td>10022   </td> <td>D4                            </td> <td>10  COOPS - ELEVATOR APARTMENTS</td> <td>20 SUTTON PLACE SOUTH, 17A    </td>\n",
       "        </tr>\n",
       "        <tr>\n",
       "            <td>2013-09-10 00:00:00</td> <td>968750    </td> <td>20 SUTTON PLACE SOUTH, 9-B    </td> <td>                </td> <td>1953      </td> <td>MIDTOWN EAST</td> <td>10022   </td> <td>D4                            </td> <td>10  COOPS - ELEVATOR APARTMENTS</td> <td>20 SUTTON PLACE SOUTH, 9-B    </td>\n",
       "        </tr>\n",
       "        <tr>\n",
       "            <td>2013-08-01 00:00:00</td> <td>3075000   </td> <td>20 SUTTON PLACE SOUTH, 18A    </td> <td>                </td> <td>1953      </td> <td>MIDTOWN EAST</td> <td>10022   </td> <td>D4                            </td> <td>10  COOPS - ELEVATOR APARTMENTS</td> <td>20 SUTTON PLACE SOUTH, 18A    </td>\n",
       "        </tr>\n",
       "        <tr>\n",
       "            <td>2013-07-31 00:00:00</td> <td>1075000   </td> <td>20 SUTTON PLACE, 9A           </td> <td>                </td> <td>1960      </td> <td>MIDTOWN EAST</td> <td>10022   </td> <td>D4                            </td> <td>10  COOPS - ELEVATOR APARTMENTS</td> <td>20 SUTTON PLACE, 9A           </td>\n",
       "        </tr>\n",
       "        <tr>\n",
       "            <td>2013-07-24 00:00:00</td> <td>1500000   </td> <td>20 SUTTON PLACE SOUTH, 12DF   </td> <td>                </td> <td>1953      </td> <td>MIDTOWN EAST</td> <td>10022   </td> <td>D4                            </td> <td>10  COOPS - ELEVATOR APARTMENTS</td> <td>20 SUTTON PLACE SOUTH, 12DF   </td>\n",
       "        </tr>\n",
       "        <tr>\n",
       "            <td>2013-07-16 00:00:00</td> <td>1800000   </td> <td>20 SUTTON PLACE SOUTH, 11D    </td> <td>                </td> <td>1953      </td> <td>MIDTOWN EAST</td> <td>10022   </td> <td>D4                            </td> <td>10  COOPS - ELEVATOR APARTMENTS</td> <td>20 SUTTON PLACE SOUTH, 11D    </td>\n",
       "        </tr>\n",
       "        <tr>\n",
       "            <td>2013-04-15 00:00:00</td> <td>770000    </td> <td>20 SUTTON PLACE SOUTH, 1A     </td> <td>                </td> <td>1953      </td> <td>MIDTOWN EAST</td> <td>10022   </td> <td>D4                            </td> <td>10  COOPS - ELEVATOR APARTMENTS</td> <td>20 SUTTON PLACE SOUTH, 1A     </td>\n",
       "        </tr>\n",
       "        <tr>\n",
       "            <td>2013-03-21 00:00:00</td> <td>965000    </td> <td>20 SUTTON PLACE SOUTH, 14A    </td> <td>                </td> <td>1953      </td> <td>MIDTOWN EAST</td> <td>10022   </td> <td>D4                            </td> <td>10  COOPS - ELEVATOR APARTMENTS</td> <td>20 SUTTON PLACE SOUTH, 14A    </td>\n",
       "        </tr>\n",
       "        <tr>\n",
       "            <td>2012-11-29 00:00:00</td> <td>680000    </td> <td>20 SUTTON PLACE SOUTH, 9E     </td> <td>                </td> <td>1953      </td> <td>MIDTOWN EAST</td> <td>10022   </td> <td>D4                            </td> <td>10  COOPS - ELEVATOR APARTMENTS</td> <td>20 SUTTON PLACE SOUTH, 9E     </td>\n",
       "        </tr>\n",
       "        <tr>\n",
       "            <td>2012-05-07 00:00:00</td> <td>1100000   </td> <td>20 SUTTON PLACE SOUTH, 2D     </td> <td>                </td> <td>1953      </td> <td>MIDTOWN EAST</td> <td>10022   </td> <td>D4                            </td> <td>10  COOPS - ELEVATOR APARTMENTS</td> <td>20 SUTTON PLACE SOUTH, 2D     </td>\n",
       "        </tr>\n",
       "        <tr>\n",
       "            <td>2012-02-29 00:00:00</td> <td>600000    </td> <td>20 SUTTON PLACE SOUTH, 2E     </td> <td>                </td> <td>1953      </td> <td>MIDTOWN EAST</td> <td>10022   </td> <td>D4                            </td> <td>10  COOPS - ELEVATOR APARTMENTS</td> <td>20 SUTTON PLACE SOUTH, 2E     </td>\n",
       "        </tr>\n",
       "        <tr>\n",
       "            <td>2011-10-12 00:00:00</td> <td>25000     </td> <td>20 SUTTON PLACE SOUTH, HALL   </td> <td>                </td> <td>1953      </td> <td>MIDTOWN EAST</td> <td>10022   </td> <td>D4                            </td> <td>10  COOPS - ELEVATOR APARTMENTS</td> <td>20 SUTTON PLACE SOUTH, HALL   </td>\n",
       "        </tr>\n",
       "        <tr>\n",
       "            <td>2011-08-17 00:00:00</td> <td>1500000   </td> <td>20 SUTTON PLACE SOUTH, 14C    </td> <td>                </td> <td>1953      </td> <td>MIDTOWN EAST</td> <td>10022   </td> <td>D4                            </td> <td>10  COOPS - ELEVATOR APARTMENTS</td> <td>20 SUTTON PLACE SOUTH, 14C    </td>\n",
       "        </tr>\n",
       "        <tr>\n",
       "            <td>2010-05-18 00:00:00</td> <td>962500    </td> <td>20 SUTTON PLACE SOUTH, 15A    </td> <td>                </td> <td>1953      </td> <td>MIDTOWN EAST</td> <td>10022   </td> <td>D4                            </td> <td>10  COOPS - ELEVATOR APARTMENTS</td> <td>20 SUTTON PLACE SOUTH, 15A    </td>\n",
       "        </tr>\n",
       "        <tr>\n",
       "            <td>2010-03-29 00:00:00</td> <td>775000    </td> <td>20 SUTTON PLACE SOUTH, 5E     </td> <td>                </td> <td>1953      </td> <td>MIDTOWN EAST</td> <td>10022   </td> <td>D4                            </td> <td>10  COOPS - ELEVATOR APARTMENTS</td> <td>20 SUTTON PLACE SOUTH, 5E     </td>\n",
       "        </tr>\n",
       "        <tr>\n",
       "            <td>2009-12-10 00:00:00</td> <td>1100000   </td> <td>20 SUTTON PLACE SOUTH, 5C     </td> <td>                </td> <td>1953      </td> <td>MIDTOWN EAST</td> <td>10022   </td> <td>D4                            </td> <td>10  COOPS - ELEVATOR APARTMENTS</td> <td>20 SUTTON PLACE SOUTH, 5C     </td>\n",
       "        </tr>\n",
       "        <tr>\n",
       "            <td>2009-05-06 00:00:00</td> <td>1262500   </td> <td>20 SUTTON PLACE SOUTH, 4D     </td> <td>                </td> <td>1953      </td> <td>MIDTOWN EAST</td> <td>10022   </td> <td>D4                            </td> <td>10  COOPS - ELEVATOR APARTMENTS</td> <td>20 SUTTON PLACE SOUTH, 4D     </td>\n",
       "        </tr>\n",
       "        <tr>\n",
       "            <td>2008-10-06 00:00:00</td> <td>133000    </td> <td>20 SUTTON PLACE SOUTH         </td> <td>                </td> <td>1953      </td> <td>MIDTOWN EAST</td> <td>10022   </td> <td>D4                            </td> <td>10  COOPS - ELEVATOR APARTMENTS</td> <td>20 SUTTON PLACE SOUTH         </td>\n",
       "        </tr>\n",
       "        <tr>\n",
       "            <td>2008-05-14 00:00:00</td> <td>139924    </td> <td>20 SUTTON PLACE SOUTH, 12     </td> <td>                </td> <td>1953      </td> <td>MIDTOWN EAST</td> <td>10022   </td> <td>D4                            </td> <td>10  COOPS - ELEVATOR APARTMENTS</td> <td>20 SUTTON PLACE SOUTH, 12     </td>\n",
       "        </tr>\n",
       "        <tr>\n",
       "            <td>2008-03-31 00:00:00</td> <td>1600000   </td> <td>20 SUTTON PLACE SOUTH, 7C     </td> <td>                </td> <td>1953      </td> <td>MIDTOWN EAST</td> <td>10022   </td> <td>D4                            </td> <td>10  COOPS - ELEVATOR APARTMENTS</td> <td>20 SUTTON PLACE SOUTH, 7C     </td>\n",
       "        </tr>\n",
       "        <tr>\n",
       "            <td>2007-12-10 00:00:00</td> <td>174632    </td> <td>20 SUTTON PLACE SOUTH         </td> <td>                </td> <td>1953      </td> <td>MIDTOWN EAST</td> <td>10022   </td> <td>D4                            </td> <td>10  COOPS - ELEVATOR APARTMENTS</td> <td>20 SUTTON PLACE SOUTH         </td>\n",
       "        </tr>\n",
       "        <tr>\n",
       "            <td>2007-11-08 00:00:00</td> <td>104021    </td> <td>20 SUTTON PLACE SOUTH         </td> <td>                </td> <td>1953      </td> <td>MIDTOWN EAST</td> <td>10022   </td> <td>D4                            </td> <td>10  COOPS - ELEVATOR APARTMENTS</td> <td>20 SUTTON PLACE SOUTH         </td>\n",
       "        </tr>\n",
       "        <tr>\n",
       "            <td>2007-11-06 00:00:00</td> <td>905000    </td> <td>20 SUTTON PLACE SOUTH, 4B     </td> <td>                </td> <td>1953      </td> <td>MIDTOWN EAST</td> <td>10022   </td> <td>D4                            </td> <td>10  COOPS - ELEVATOR APARTMENTS</td> <td>20 SUTTON PLACE SOUTH, 4B     </td>\n",
       "        </tr>\n",
       "        <tr>\n",
       "            <td>2007-10-24 00:00:00</td> <td>104979    </td> <td>20 SUTTON PLACE SOUTH         </td> <td>                </td> <td>1953      </td> <td>MIDTOWN EAST</td> <td>10022   </td> <td>D4                            </td> <td>10  COOPS - ELEVATOR APARTMENTS</td> <td>20 SUTTON PLACE SOUTH         </td>\n",
       "        </tr>\n",
       "        <tr>\n",
       "            <td>2007-10-22 00:00:00</td> <td>96580     </td> <td>20 SUTTON PLACE SOUTH         </td> <td>                </td> <td>1953      </td> <td>MIDTOWN EAST</td> <td>10022   </td> <td>D4                            </td> <td>10  COOPS - ELEVATOR APARTMENTS</td> <td>20 SUTTON PLACE SOUTH         </td>\n",
       "        </tr>\n",
       "        <tr>\n",
       "            <td>2007-10-19 00:00:00</td> <td>167807    </td> <td>20 SUTTON PLACE SOUTH         </td> <td>                </td> <td>1953      </td> <td>MIDTOWN EAST</td> <td>10022   </td> <td>D4                            </td> <td>10  COOPS - ELEVATOR APARTMENTS</td> <td>20 SUTTON PLACE SOUTH         </td>\n",
       "        </tr>\n",
       "        <tr>\n",
       "            <td>2007-10-18 00:00:00</td> <td>84773     </td> <td>20 SUTTON PLACE SOUTH         </td> <td>                </td> <td>1953      </td> <td>MIDTOWN EAST</td> <td>10022   </td> <td>D4                            </td> <td>10  COOPS - ELEVATOR APARTMENTS</td> <td>20 SUTTON PLACE SOUTH         </td>\n",
       "        </tr>\n",
       "        <tr>\n",
       "            <td>2007-10-18 00:00:00</td> <td>110737    </td> <td>20 SUTTON PLACE SOUTH         </td> <td>                </td> <td>1953      </td> <td>MIDTOWN EAST</td> <td>10022   </td> <td>D4                            </td> <td>10  COOPS - ELEVATOR APARTMENTS</td> <td>20 SUTTON PLACE SOUTH         </td>\n",
       "        </tr>\n",
       "        <tr>\n",
       "            <td>2007-10-18 00:00:00</td> <td>82715     </td> <td>20 SUTTON PLACE SOUTH         </td> <td>                </td> <td>1953      </td> <td>MIDTOWN EAST</td> <td>10022   </td> <td>D4                            </td> <td>10  COOPS - ELEVATOR APARTMENTS</td> <td>20 SUTTON PLACE SOUTH         </td>\n",
       "        </tr>\n",
       "        <tr>\n",
       "            <td>2007-10-11 00:00:00</td> <td>83900     </td> <td>20 SUTTON PLACE SOUTH         </td> <td>                </td> <td>1953      </td> <td>MIDTOWN EAST</td> <td>10022   </td> <td>D4                            </td> <td>10  COOPS - ELEVATOR APARTMENTS</td> <td>20 SUTTON PLACE SOUTH         </td>\n",
       "        </tr>\n",
       "        <tr>\n",
       "            <td>2007-06-28 00:00:00</td> <td>1125000   </td> <td>20 SUTTON PLACE SOUTH, 12B    </td> <td>                </td> <td>1953      </td> <td>MIDTOWN EAST</td> <td>10022   </td> <td>D4                            </td> <td>10  COOPS - ELEVATOR APARTMENTS</td> <td>20 SUTTON PLACE SOUTH, 12B    </td>\n",
       "        </tr>\n",
       "        <tr>\n",
       "            <td>2007-05-01 00:00:00</td> <td>1300000   </td> <td>20 SUTTON PLACE SOUTH, 3D     </td> <td>                </td> <td>1953      </td> <td>MIDTOWN EAST</td> <td>10022   </td> <td>D4                            </td> <td>10  COOPS - ELEVATOR APARTMENTS</td> <td>20 SUTTON PLACE SOUTH, 3D     </td>\n",
       "        </tr>\n",
       "        <tr>\n",
       "            <td>2007-02-28 00:00:00</td> <td>1565000   </td> <td>20 SUTTON PLACE SOUTH, 9C     </td> <td>                </td> <td>1953      </td> <td>MIDTOWN EAST</td> <td>10022   </td> <td>D4                            </td> <td>10  COOPS - ELEVATOR APARTMENTS</td> <td>20 SUTTON PLACE SOUTH, 9C     </td>\n",
       "        </tr>\n",
       "        <tr>\n",
       "            <td>2007-02-15 00:00:00</td> <td>999990    </td> <td>20 SUTTON PLACE SOUTH, 2D     </td> <td>                </td> <td>1953      </td> <td>MIDTOWN EAST</td> <td>10022   </td> <td>D4                            </td> <td>10  COOPS - ELEVATOR APARTMENTS</td> <td>20 SUTTON PLACE SOUTH, 2D     </td>\n",
       "        </tr>\n",
       "        <tr>\n",
       "            <td>2006-12-15 00:00:00</td> <td>827500    </td> <td>20 SUTTON PLACE SOUTH, 5A     </td> <td>                </td> <td>1953      </td> <td>MIDTOWN EAST</td> <td>10022   </td> <td>D4                            </td> <td>10  COOPS - ELEVATOR APARTMENTS</td> <td>20 SUTTON PLACE SOUTH, 5A     </td>\n",
       "        </tr>\n",
       "        <tr>\n",
       "            <td>2005-09-29 00:00:00</td> <td>1800000   </td> <td>20 SUTTON PLACE SOUTH, 12C    </td> <td>                </td> <td>1953      </td> <td>MIDTOWN EAST</td> <td>10022   </td> <td>D4                            </td> <td>10  COOPS - ELEVATOR APARTMENTS</td> <td>20 SUTTON PLACE SOUTH, 12C    </td>\n",
       "        </tr>\n",
       "        <tr>\n",
       "            <td>2005-06-24 00:00:00</td> <td>90000     </td> <td>20 SUTTON PLACE SOUTH, SR1    </td> <td>                </td> <td>1953      </td> <td>MIDTOWN EAST</td> <td>10022   </td> <td>D4                            </td> <td>10  COOPS - ELEVATOR APARTMENTS</td> <td>20 SUTTON PLACE SOUTH, SR1    </td>\n",
       "        </tr>\n",
       "        <tr>\n",
       "            <td>2005-05-11 00:00:00</td> <td>1160000   </td> <td>20 SUTTON PLACE SOUTH, PHB    </td> <td>                </td> <td>1953      </td> <td>MIDTOWN EAST</td> <td>10022   </td> <td>D4                            </td> <td>10  COOPS - ELEVATOR APARTMENTS</td> <td>20 SUTTON PLACE SOUTH, PHB    </td>\n",
       "        </tr>\n",
       "        <tr>\n",
       "            <td>2005-04-22 00:00:00</td> <td>660000    </td> <td>20 SUTTON PLACE, 5E           </td> <td>                </td> <td>1960      </td> <td>MIDTOWN EAST</td> <td>10022   </td> <td>D4                            </td> <td>10  COOPS - ELEVATOR APARTMENTS</td> <td>20 SUTTON PLACE, 5E           </td>\n",
       "        </tr>\n",
       "        <tr>\n",
       "            <td>2005-02-23 00:00:00</td> <td>860020    </td> <td>20 SUTTON PLACE SOUTH, 5B     </td> <td>                </td> <td>1953      </td> <td>MIDTOWN EAST</td> <td>10022   </td> <td>D4                            </td> <td>10  COOPS - ELEVATOR APARTMENTS</td> <td>20 SUTTON PLACE SOUTH, 5B     </td>\n",
       "        </tr>\n",
       "        <tr>\n",
       "            <td>2004-12-15 00:00:00</td> <td>1350000   </td> <td>20 SUTTON PLACE SOUTH, 15-C   </td> <td>                </td> <td>1953      </td> <td>MIDTOWN EAST</td> <td>10022   </td> <td>D4                            </td> <td>10  COOPS - ELEVATOR APARTMENTS</td> <td>20 SUTTON PLACE SOUTH, 15-C   </td>\n",
       "        </tr>\n",
       "        <tr>\n",
       "            <td>2004-12-01 00:00:00</td> <td>1135000   </td> <td>20 SUTTON PLACE SOUTH, 11D    </td> <td>                </td> <td>1953      </td> <td>MIDTOWN EAST</td> <td>10022   </td> <td>D4                            </td> <td>10  COOPS - ELEVATOR APARTMENTS</td> <td>20 SUTTON PLACE SOUTH, 11D    </td>\n",
       "        </tr>\n",
       "        <tr>\n",
       "            <td>2004-11-23 00:00:00</td> <td>792250    </td> <td>20 SUTTON PLACE, 12A          </td> <td>                </td> <td>1960      </td> <td>MIDTOWN EAST</td> <td>10022   </td> <td>D4                            </td> <td>10  COOPS - ELEVATOR APARTMENTS</td> <td>20 SUTTON PLACE, 12A          </td>\n",
       "        </tr>\n",
       "        <tr>\n",
       "            <td>2004-10-08 00:00:00</td> <td>1059800   </td> <td>20 SUTTON PLACE, 5D           </td> <td>                </td> <td>1960      </td> <td>MIDTOWN EAST</td> <td>10022   </td> <td>D4                            </td> <td>10  COOPS - ELEVATOR APARTMENTS</td> <td>20 SUTTON PLACE, 5D           </td>\n",
       "        </tr>\n",
       "        <tr>\n",
       "            <td>2004-08-05 00:00:00</td> <td>1650000   </td> <td>20 SUTTON PLACE SOUTH, 20A    </td> <td>                </td> <td>1953      </td> <td>MIDTOWN EAST</td> <td>10022   </td> <td>D4                            </td> <td>10  COOPS - ELEVATOR APARTMENTS</td> <td>20 SUTTON PLACE SOUTH, 20A    </td>\n",
       "        </tr>\n",
       "        <tr>\n",
       "            <td>2004-07-29 00:00:00</td> <td>795000    </td> <td>20 SUTTON PLACE SOUTH, 3A     </td> <td>                </td> <td>1953      </td> <td>MIDTOWN EAST</td> <td>10022   </td> <td>D4                            </td> <td>10  COOPS - ELEVATOR APARTMENTS</td> <td>20 SUTTON PLACE SOUTH, 3A     </td>\n",
       "        </tr>\n",
       "        <tr>\n",
       "            <td>2004-07-13 00:00:00</td> <td>1275000   </td> <td>20 SUTTON PLACE SOUTH, 11E    </td> <td>                </td> <td>1953      </td> <td>MIDTOWN EAST</td> <td>10022   </td> <td>D4                            </td> <td>10  COOPS - ELEVATOR APARTMENTS</td> <td>20 SUTTON PLACE SOUTH, 11E    </td>\n",
       "        </tr>\n",
       "        <tr>\n",
       "            <td>2004-07-06 00:00:00</td> <td>660000    </td> <td>20 SUTTON PLACE SOUTH, 17B    </td> <td>                </td> <td>1953      </td> <td>MIDTOWN EAST</td> <td>10022   </td> <td>D4                            </td> <td>10  COOPS - ELEVATOR APARTMENTS</td> <td>20 SUTTON PLACE SOUTH, 17B    </td>\n",
       "        </tr>\n",
       "        <tr>\n",
       "            <td>2004-06-17 00:00:00</td> <td>860000    </td> <td>20 SUTTON PLACE SOUTH, 17A    </td> <td>                </td> <td>1953      </td> <td>MIDTOWN EAST</td> <td>10022   </td> <td>D4                            </td> <td>10  COOPS - ELEVATOR APARTMENTS</td> <td>20 SUTTON PLACE SOUTH, 17A    </td>\n",
       "        </tr>\n",
       "        <tr>\n",
       "            <td>2004-04-29 00:00:00</td> <td>740000    </td> <td>20 SUTTON PLACE SOUTH APT. 20C</td> <td>                </td> <td>1953      </td> <td>MIDTOWN EAST</td> <td>10022   </td> <td>D4                            </td> <td>10  COOPS - ELEVATOR APARTMENTS</td> <td>20 SUTTON PLACE SOUTH APT. 20C</td>\n",
       "        </tr>\n",
       "        <tr>\n",
       "            <td>2004-04-15 00:00:00</td> <td>725000    </td> <td>20 SUTTON PLACE SOUTH APT. 6B </td> <td>                </td> <td>1953      </td> <td>MIDTOWN EAST</td> <td>10022   </td> <td>D4                            </td> <td>10  COOPS - ELEVATOR APARTMENTS</td> <td>20 SUTTON PLACE SOUTH APT. 6B </td>\n",
       "        </tr>\n",
       "        <tr>\n",
       "            <td>2004-02-26 00:00:00</td> <td>850000    </td> <td>20 SUTTON PLACE SOUTH APT. 6D </td> <td>                </td> <td>1953      </td> <td>MIDTOWN EAST</td> <td>10022   </td> <td>D4                            </td> <td>10  COOPS - ELEVATOR APARTMENTS</td> <td>20 SUTTON PLACE SOUTH APT. 6D </td>\n",
       "        </tr>\n",
       "        <tr>\n",
       "            <td>2003-04-23 00:00:00</td> <td>420000    </td> <td>20 SUTTON PLACE SOUTH, APT 8E </td> <td>                </td> <td>1953      </td> <td>MIDTOWN EAST</td> <td>10022   </td> <td>D4                            </td> <td>10  COOPS - ELEVATOR APARTMENTS</td> <td>20 SUTTON PLACE SOUTH, APT 8E </td>\n",
       "        </tr>\n",
       "        <tr>\n",
       "            <td>2003-04-04 00:00:00</td> <td>760000    </td> <td>20 SUTTON PLACE SOUTH APT. 10A</td> <td>                </td> <td>1953      </td> <td>MIDTOWN EAST</td> <td>10022   </td> <td>D4                            </td> <td>10  COOPS - ELEVATOR APARTMENTS</td> <td>20 SUTTON PLACE SOUTH APT. 10A</td>\n",
       "        </tr>\n",
       "    </tbody>\n",
       "</table>"
      ],
      "text/plain": [
       "<IPython.core.display.HTML object>"
      ]
     },
     "metadata": {},
     "output_type": "display_data"
    }
   ],
   "source": [
    "all_sales_data.where('ADDRESS', are.containing('20 SUTTON PLACE')).sort('SALE DATE', descending=True).show()"
   ]
  },
  {
   "cell_type": "code",
   "execution_count": null,
   "metadata": {},
   "outputs": [],
   "source": []
  }
 ],
 "metadata": {
  "kernelspec": {
   "display_name": "Python 3",
   "language": "python",
   "name": "python3"
  },
  "language_info": {
   "codemirror_mode": {
    "name": "ipython",
    "version": 3
   },
   "file_extension": ".py",
   "mimetype": "text/x-python",
   "name": "python",
   "nbconvert_exporter": "python",
   "pygments_lexer": "ipython3",
   "version": "3.7.0"
  }
 },
 "nbformat": 4,
 "nbformat_minor": 1
}
