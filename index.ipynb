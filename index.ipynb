{
 "cells": [
  {
   "cell_type": "code",
   "execution_count": 8,
   "metadata": {},
   "outputs": [],
   "source": [
    "import numpy as np\n",
    "import pandas as pd\n",
    "from datetime import timedelta\n",
    "from datetime import date\n",
    "from datetime import datetime\n",
    "import time\n",
    "from datascience import *\n",
    "from scipy.spatial import distance\n",
    "\n",
    "from IPython.display import display\n",
    "from IPython.display import HTML\n",
    "\n",
    "import ipywidgets as widgets\n",
    "from ipywidgets import IntSlider\n",
    "\n",
    "from ipywidgets import interact, interactive, fixed, interact_manual\n",
    "import ipywidgets as widgets"
   ]
  },
  {
   "cell_type": "code",
   "execution_count": 6,
   "metadata": {},
   "outputs": [],
   "source": [
    "# Constansts\n",
    "\n",
    "output_directory = \"output/\"\n",
    "\n",
    "COL_PURCHASE_DATE = 'PURCHASE DATE'\n",
    "COL_SOLD_DATE = 'SOLD DATE'\n",
    "COL_PURCHASE_PRICE = 'PURCHASE PRICE'\n",
    "COL_SOLD_PRICE = 'SOLD PRICE'\n",
    "\n",
    "COL_PRICE_PERCENT = 'PRICE CHANGE %'\n",
    "\n",
    "# Columns for standard units\n",
    "COL_PURCHASE_DATE_SU = 'PURCHASE DATE SU'\n",
    "COL_PURCHASE_PRICE_SU = 'PURCHASE PRICE SU'\n",
    "COL_SOLD_DATE_SU = 'SOLD DATE SU'\n"
   ]
  },
  {
   "cell_type": "markdown",
   "metadata": {},
   "source": [
    "# Load Model"
   ]
  },
  {
   "cell_type": "code",
   "execution_count": 3,
   "metadata": {},
   "outputs": [],
   "source": [
    "df = pd.read_csv(output_directory+'condo_sales.csv')\n",
    "\n",
    "# DATE is  but should be datetime\n",
    "df[ COL_PURCHASE_DATE] = pd.to_datetime(df[COL_PURCHASE_DATE], errors='coerce')\n",
    "df[ COL_SOLD_DATE] = pd.to_datetime(df[COL_SOLD_DATE], errors='coerce')\n",
    "\n",
    "condo_sales = Table.from_df(df)"
   ]
  },
  {
   "cell_type": "markdown",
   "metadata": {},
   "source": [
    "# Price Predictor\n",
    "\n",
    "Enter the **purchase price and date** of an apartment to see it's current price and comparable sales"
   ]
  },
  {
   "cell_type": "code",
   "execution_count": 10,
   "metadata": {},
   "outputs": [],
   "source": [
    "# Columns used to the calculate the distance between two point i.e. 2 properties that were purchased and sold. \n",
    "# We picked the purchase date & price and the sold date converted to standard units as the important columns\n",
    "# to use for calculating the distance.\n",
    "distance_columns = [COL_PURCHASE_DATE_SU, COL_PURCHASE_PRICE_SU, COL_SOLD_DATE_SU]\n",
    "\n",
    "\n",
    "purchase_dates_timestamps = [ date.timestamp() for date in condo_sales.column(COL_PURCHASE_DATE)]\n",
    "sold_dates_timestamps = [ date.timestamp() for date in condo_sales.column(COL_SOLD_DATE)]\n",
    "\n",
    "\n",
    "\n",
    "def all_distances(training, new_point):\n",
    "    \"\"\"Returns an array of distances\n",
    "    between each point in the training set\n",
    "    and the new point (which is a row of attributes)\"\"\"\n",
    "    attributes = training.select(distance_columns)\n",
    "    return distance.cdist( attributes.to_array().tolist(), [new_point]).flatten()\n",
    "\n",
    "def table_with_distances(training, new_point):\n",
    "    \"\"\"Augments the training table \n",
    "    with a column of distances from new_point\"\"\"\n",
    "    return training.with_column('Distance', all_distances(training, new_point))\n",
    "\n",
    "def closest(training, new_point, k):\n",
    "    \"\"\"Returns a table of the k rows of the augmented table\n",
    "    corresponding to the k smallest distances\"\"\"\n",
    "    with_dists = table_with_distances(training, new_point)\n",
    "    sorted_by_distance = with_dists.sort('Distance')\n",
    "    topk = sorted_by_distance.take(np.arange(k))\n",
    "    return topk\n",
    "\n",
    "def estimate(training, purchase_point, k):\n",
    "    \"\"\"Estimate a price based on nearest neighbours\"\"\"\n",
    "    close_points = closest(condo_sales, purchase_point, k)\n",
    "    avg_price_change = np.mean(close_points.column(COL_PRICE_PERCENT))\n",
    "    return avg_price_change\n",
    "\n",
    "\n",
    "def predict_sale_price(purchase_price, purchase_date: datetime.date):\n",
    "    \"\"\"Predict the current value based on the purchase price and purchase date.\"\"\"\n",
    "    \n",
    "    purchase_date_timestamp = time.mktime(purchase_date.timetuple())\n",
    "\n",
    "    # Set sold date to now\n",
    "    sold_date = datetime.now().timestamp()\n",
    "\n",
    "    # calcuate all values in standard units.\n",
    "    purchase_date_su = (purchase_date_timestamp - np.mean(purchase_dates_timestamps)) / np.std(purchase_dates_timestamps)\n",
    "    purchase_price_su = (purchase_price - np.mean(condo_sales.column(COL_PURCHASE_PRICE))) / np.std(condo_sales.column(COL_PURCHASE_PRICE))\n",
    "    sold_date_su = (sold_date - np.mean(sold_dates_timestamps)) / np.std(sold_dates_timestamps)\n",
    "\n",
    "    # debugging\n",
    "    # print(purchase_date_su, purchase_price_su, sold_date_su)\n",
    "\n",
    "    # create a target row to get estimates\n",
    "    target_row = Table(distance_columns)\n",
    "    target_row = target_row.with_row([purchase_date_su,purchase_price_su,sold_date_su ])\n",
    "    \n",
    "    price_change_percent = estimate(condo_sales, target_row.row(0), 10)\n",
    "    \n",
    "    price = purchase_price * (1 + price_change_percent / 100)\n",
    "    \n",
    "    display(HTML(\"<H1>Current Price: ${:,.0f} </H1>\".format(price)))\n",
    "#     display(HTML(\"<H2>Estimated Price Change: {:.2f}% </H2>\".format(price_change_percent)))\n",
    "    \n",
    "    display(HTML(\"<H1>Compareable sales</H1>\"))\n",
    "    closest(condo_sales, target_row.row(0), 10).drop(distance_columns).show()\n",
    "    \n",
    "style = {'description_width': 'initial'}\n",
    "\n",
    "purchase_price_slider = widgets.IntSlider(\n",
    "    description=\"Purchase Price\",\n",
    "    value=750000,\n",
    "    min=100000,\n",
    "    max=6000000,\n",
    "    step=10000,\n",
    "    disabled=False,\n",
    "    continuous_update=False,\n",
    "    style=style\n",
    "    \n",
    ")\n",
    "\n",
    "purchase_date_picker = widgets.DatePicker(\n",
    "    description='Purchase Date',\n",
    "    disabled=False,\n",
    "    style=style,\n",
    "    value=date(2010, 1, 1)\n",
    ")"
   ]
  },
  {
   "cell_type": "code",
   "execution_count": 11,
   "metadata": {},
   "outputs": [
    {
     "data": {
      "application/vnd.jupyter.widget-view+json": {
       "model_id": "e9e2c851cf484604932e5b3bfd5fc386",
       "version_major": 2,
       "version_minor": 0
      },
      "text/plain": [
       "interactive(children=(IntSlider(value=750000, continuous_update=False, description='Purchase Price', max=60000…"
      ]
     },
     "metadata": {},
     "output_type": "display_data"
    }
   ],
   "source": [
    "style = {'description_width': 'initial'}\n",
    "IntSlider(description='A too long description', style=style)\n",
    "\n",
    "_ = interact( predict_sale_price, purchase_price=purchase_price_slider, purchase_date=purchase_date_picker, )"
   ]
  },
  {
   "cell_type": "code",
   "execution_count": null,
   "metadata": {},
   "outputs": [],
   "source": []
  },
  {
   "cell_type": "code",
   "execution_count": null,
   "metadata": {},
   "outputs": [],
   "source": []
  }
 ],
 "metadata": {
  "kernelspec": {
   "display_name": "Python 3",
   "language": "python",
   "name": "python3"
  },
  "language_info": {
   "codemirror_mode": {
    "name": "ipython",
    "version": 3
   },
   "file_extension": ".py",
   "mimetype": "text/x-python",
   "name": "python",
   "nbconvert_exporter": "python",
   "pygments_lexer": "ipython3",
   "version": "3.7.0"
  }
 },
 "nbformat": 4,
 "nbformat_minor": 1
}
