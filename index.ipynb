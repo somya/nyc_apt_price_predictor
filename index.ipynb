{
 "cells": [
  {
   "cell_type": "code",
   "execution_count": 0,
   "metadata": {
    "colab": {},
    "colab_type": "code",
    "id": "13Do7XXuG27F"
   },
   "outputs": [],
   "source": [
    "import numpy as np\n",
    "import pandas as pd\n",
    "from datetime import timedelta\n",
    "from datetime import date\n",
    "from datetime import datetime\n",
    "import time\n",
    "from datascience import *\n",
    "from scipy.spatial import distance\n",
    "\n",
    "from IPython.display import display\n",
    "from IPython.display import HTML\n",
    "\n",
    "import ipywidgets as widgets\n",
    "from ipywidgets import IntSlider\n",
    "\n",
    "from ipywidgets import interact, interactive, fixed, interact_manual\n",
    "import ipywidgets as widgets\n",
    "\n"
   ]
  },
  {
   "cell_type": "code",
   "execution_count": 0,
   "metadata": {
    "colab": {},
    "colab_type": "code",
    "id": "12p969BGG27J"
   },
   "outputs": [],
   "source": [
    "# Constansts\n",
    "\n",
    "output_directory = \"output/\"\n",
    "\n",
    "COL_PURCHASE_DATE = 'PURCHASE DATE'\n",
    "COL_SOLD_DATE = 'SOLD DATE'\n",
    "COL_PURCHASE_PRICE = 'PURCHASE PRICE'\n",
    "COL_SOLD_PRICE = 'SOLD PRICE'\n",
    "\n",
    "COL_PRICE_PERCENT = 'PRICE CHANGE %'\n",
    "\n",
    "# Columns for standard units\n",
    "COL_PURCHASE_DATE_SU = 'PURCHASE DATE SU'\n",
    "COL_PURCHASE_PRICE_SU = 'PURCHASE PRICE SU'\n",
    "COL_SOLD_DATE_SU = 'SOLD DATE SU'\n"
   ]
  },
  {
   "cell_type": "markdown",
   "metadata": {
    "colab_type": "text",
    "id": "HXoRB80zG27L"
   },
   "source": [
    "# Load Model"
   ]
  },
  {
   "cell_type": "code",
   "execution_count": 0,
   "metadata": {
    "colab": {},
    "colab_type": "code",
    "id": "P3wM0ZhzG27M"
   },
   "outputs": [],
   "source": [
    "df = pd.read_csv('condo_sales.csv')\n",
    "\n",
    "# DATE is  but should be datetime\n",
    "df[ COL_PURCHASE_DATE] = pd.to_datetime(df[COL_PURCHASE_DATE], errors='coerce')\n",
    "df[ COL_SOLD_DATE] = pd.to_datetime(df[COL_SOLD_DATE], errors='coerce')\n",
    "\n",
    "condo_sales = Table.from_df(df)"
   ]
  },
  {
   "cell_type": "markdown",
   "metadata": {
    "colab_type": "text",
    "id": "qvHipZ9AG27O"
   },
   "source": [
    "# Price Predictor\n",
    "\n",
    "Enter the **purchase price and date** of an apartment to see it's current price and comparable sales"
   ]
  },
  {
   "cell_type": "code",
   "execution_count": 0,
   "metadata": {
    "cellView": "form",
    "colab": {
     "base_uri": "https://localhost:8080/",
     "height": 469
    },
    "colab_type": "code",
    "id": "u9AYn8EKIZ0-",
    "outputId": "942f2a5f-178f-425d-ea94-a922cd75e254"
   },
   "outputs": [
    {
     "data": {
      "text/html": [
       "<H1>Current Value: $911,359 </H1>"
      ],
      "text/plain": [
       "<IPython.core.display.HTML object>"
      ]
     },
     "metadata": {
      "tags": []
     },
     "output_type": "execute_result"
    },
    {
     "data": {
      "text/html": [
       "<H1>Compareable sales</H1>"
      ],
      "text/plain": [
       "<IPython.core.display.HTML object>"
      ]
     },
     "metadata": {
      "tags": []
     },
     "output_type": "execute_result"
    },
    {
     "data": {
      "text/html": [
       "<table border=\"1\" class=\"dataframe\">\n",
       "    <thead>\n",
       "        <tr>\n",
       "            <th>FULL ADDRESS</th> <th>PURCHASE DATE</th> <th>PURCHASE PRICE</th> <th>SOLD DATE</th> <th>SOLD PRICE</th> <th>PRICE CHANGE</th> <th>PERIOD</th> <th>DAILY PRICE CHANGE</th> <th>PRICE CHANGE %</th> <th>Distance</th>\n",
       "        </tr>\n",
       "    </thead>\n",
       "    <tbody>\n",
       "        <tr>\n",
       "            <td>88 GREENWICH STREET, 1007  </td> <td>2012-09-21 00:00:00</td> <td>713700        </td> <td>2018-10-11 00:00:00</td> <td>875000    </td> <td>161300      </td> <td>2211  </td> <td>72.9534           </td> <td>22.6005       </td> <td>0.0698598</td>\n",
       "        </tr>\n",
       "        <tr>\n",
       "            <td>171 EAST 84TH STREET, 12H  </td> <td>2012-09-28 00:00:00</td> <td>737000        </td> <td>2018-08-10 00:00:00</td> <td>961000    </td> <td>224000      </td> <td>2142  </td> <td>104.575           </td> <td>30.3935       </td> <td>0.111348 </td>\n",
       "        </tr>\n",
       "        <tr>\n",
       "            <td>99 JOHN STREET, 422        </td> <td>2012-11-16 00:00:00</td> <td>675000        </td> <td>2018-06-05 00:00:00</td> <td>873000    </td> <td>198000      </td> <td>2027  </td> <td>97.6813           </td> <td>29.3333       </td> <td>0.140513 </td>\n",
       "        </tr>\n",
       "        <tr>\n",
       "            <td>162 WEST 56TH STREET, 602  </td> <td>2013-02-04 00:00:00</td> <td>575000        </td> <td>2018-09-26 00:00:00</td> <td>730000    </td> <td>155000      </td> <td>2060  </td> <td>75.2427           </td> <td>26.9565       </td> <td>0.144141 </td>\n",
       "        </tr>\n",
       "        <tr>\n",
       "            <td>15 BROAD STREET, 2222      </td> <td>2012-11-27 00:00:00</td> <td>685000        </td> <td>2018-05-31 00:00:00</td> <td>927000    </td> <td>242000      </td> <td>2011  </td> <td>120.338           </td> <td>35.3285       </td> <td>0.144594 </td>\n",
       "        </tr>\n",
       "        <tr>\n",
       "            <td>116 CENTRAL PARK SOUTH, 10G</td> <td>2012-06-21 00:00:00</td> <td>617500        </td> <td>2018-09-17 00:00:00</td> <td>730000    </td> <td>112500      </td> <td>2279  </td> <td>49.3638           </td> <td>18.2186       </td> <td>0.156283 </td>\n",
       "        </tr>\n",
       "        <tr>\n",
       "            <td>21 LUDLOW STREET, 5B       </td> <td>2012-11-14 00:00:00</td> <td>605858        </td> <td>2018-06-07 00:00:00</td> <td>980000    </td> <td>374142      </td> <td>2031  </td> <td>184.216           </td> <td>61.7541       </td> <td>0.158444 </td>\n",
       "        </tr>\n",
       "        <tr>\n",
       "            <td>21 LUDLOW STREET, 3B       </td> <td>2013-03-22 00:00:00</td> <td>595000        </td> <td>2018-09-06 00:00:00</td> <td>893750    </td> <td>298750      </td> <td>1994  </td> <td>149.824           </td> <td>50.2101       </td> <td>0.164553 </td>\n",
       "        </tr>\n",
       "        <tr>\n",
       "            <td>55 WEST 84TH STREET, 4B    </td> <td>2013-05-01 00:00:00</td> <td>697500        </td> <td>2018-09-27 00:00:00</td> <td>835000    </td> <td>137500      </td> <td>1975  </td> <td>69.6203           </td> <td>19.7133       </td> <td>0.165877 </td>\n",
       "        </tr>\n",
       "        <tr>\n",
       "            <td>99 JOHN STREET, 2008       </td> <td>2012-06-05 00:00:00</td> <td>690000        </td> <td>2018-07-27 00:00:00</td> <td>938000    </td> <td>248000      </td> <td>2243  </td> <td>110.566           </td> <td>35.942        </td> <td>0.17414  </td>\n",
       "        </tr>\n",
       "    </tbody>\n",
       "</table>"
      ],
      "text/plain": [
       "<IPython.core.display.HTML object>"
      ]
     },
     "metadata": {
      "tags": []
     },
     "output_type": "execute_result"
    }
   ],
   "source": [
    "\n",
    "# Columns used to the calculate the distance between two point i.e. 2 properties that were purchased and sold. \n",
    "# We picked the purchase date & price and the sold date converted to standard units as the important columns\n",
    "# to use for calculating the distance.\n",
    "distance_columns = [COL_PURCHASE_DATE_SU, COL_PURCHASE_PRICE_SU, COL_SOLD_DATE_SU]\n",
    "\n",
    "\n",
    "purchase_dates_timestamps = [ date.timestamp() for date in condo_sales.column(COL_PURCHASE_DATE)]\n",
    "sold_dates_timestamps = [ date.timestamp() for date in condo_sales.column(COL_SOLD_DATE)]\n",
    "\n",
    "\n",
    "\n",
    "def all_distances(training, new_point):\n",
    "    \"\"\"Returns an array of distances\n",
    "    between each point in the training set\n",
    "    and the new point (which is a row of attributes)\"\"\"\n",
    "    attributes = training.select(distance_columns)\n",
    "    return distance.cdist( attributes.to_array().tolist(), [new_point]).flatten()\n",
    "\n",
    "def table_with_distances(training, new_point):\n",
    "    \"\"\"Augments the training table \n",
    "    with a column of distances from new_point\"\"\"\n",
    "    return training.with_column('Distance', all_distances(training, new_point))\n",
    "\n",
    "def closest(training, new_point, k):\n",
    "    \"\"\"Returns a table of the k rows of the augmented table\n",
    "    corresponding to the k smallest distances\"\"\"\n",
    "    with_dists = table_with_distances(training, new_point)\n",
    "    sorted_by_distance = with_dists.sort('Distance')\n",
    "    topk = sorted_by_distance.take(np.arange(k))\n",
    "    return topk\n",
    "\n",
    "def estimate(training, purchase_point, k):\n",
    "    \"\"\"Estimate a price based on nearest neighbours\"\"\"\n",
    "    close_points = closest(condo_sales, purchase_point, k)\n",
    "    avg_price_change = np.mean(close_points.column(COL_PRICE_PERCENT))\n",
    "    return avg_price_change\n",
    "\n",
    "\n",
    "def predict_sale_price(purchase_price, purchase_date: str):\n",
    "    \"\"\"Predict the current value based on the purchase price and purchase date.\"\"\"\n",
    "    \n",
    "    purchase_date_timestamp = time.mktime(datetime.strptime(purchase_date, '%Y-%m-%d').timetuple())\n",
    "    \n",
    "    # Set sold date to now\n",
    "    sold_date = datetime.now().timestamp()\n",
    "\n",
    "    # calcuate all values in standard units.\n",
    "    purchase_date_su = (purchase_date_timestamp - np.mean(purchase_dates_timestamps)) / np.std(purchase_dates_timestamps)\n",
    "    purchase_price_su = (purchase_price - np.mean(condo_sales.column(COL_PURCHASE_PRICE))) / np.std(condo_sales.column(COL_PURCHASE_PRICE))\n",
    "    sold_date_su = (sold_date - np.mean(sold_dates_timestamps)) / np.std(sold_dates_timestamps)\n",
    "\n",
    "    # debugging\n",
    "    # print(purchase_date_su, purchase_price_su, sold_date_su)\n",
    "\n",
    "    # create a target row to get estimates\n",
    "    target_row = Table(distance_columns)\n",
    "    target_row = target_row.with_row([purchase_date_su,purchase_price_su,sold_date_su ])\n",
    "    \n",
    "    \n",
    "    price_change_percent = estimate(condo_sales, target_row.row(0), 10)\n",
    "    \n",
    "    price = purchase_price * (1 + price_change_percent / 100)\n",
    "    \n",
    "    display(HTML(\"<H1>Current Value: ${:,.0f} </H1>\".format(price)))\n",
    "#     display(HTML(\"<H2>Estimated Price Change: {:.2f}% </H2>\".format(price_change_percent)))\n",
    "    \n",
    "    display(HTML(\"<H1>Compareable sales</H1>\"))\n",
    "    closest(condo_sales, target_row.row(0), 10).drop(distance_columns).show()\n",
    "\n",
    "purchase_price = 685000 #@param {type:\"integer\"}\n",
    "purchase_date = '2012-11-09' #@param {type:\"date\"}\n",
    "\n",
    "predict_sale_price(purchase_price=purchase_price, purchase_date=purchase_date)\n"
   ]
  }
 ],
 "metadata": {
  "colab": {
   "collapsed_sections": [],
   "name": "index.ipynb",
   "provenance": [],
   "toc_visible": true,
   "version": "0.3.2"
  },
  "kernelspec": {
   "display_name": "Python 3",
   "language": "python",
   "name": "python3"
  },
  "language_info": {
   "codemirror_mode": {
    "name": "ipython",
    "version": 3
   },
   "file_extension": ".py",
   "mimetype": "text/x-python",
   "name": "python",
   "nbconvert_exporter": "python",
   "pygments_lexer": "ipython3",
   "version": "3.7.0"
  }
 },
 "nbformat": 4,
 "nbformat_minor": 1
}
