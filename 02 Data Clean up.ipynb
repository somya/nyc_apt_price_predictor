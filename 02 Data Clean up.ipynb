{
 "cells": [
  {
   "cell_type": "code",
   "execution_count": 1,
   "metadata": {},
   "outputs": [],
   "source": [
    "import numpy as np\n",
    "import pandas as pd\n",
    "import datetime\n",
    "\n",
    "from datascience import *\n",
    "from datetime import timedelta\n",
    "from datetime import date\n",
    "from datetime import datetime\n",
    "\n",
    "%matplotlib inline\n",
    "import matplotlib.pyplot as plots\n",
    "plots.style.use('fivethirtyeight')\n",
    "\n",
    "import locale"
   ]
  },
  {
   "cell_type": "code",
   "execution_count": 2,
   "metadata": {},
   "outputs": [],
   "source": [
    "# Import CSV\n",
    "csv_directory = \"data/csv/\"\n",
    "\n",
    "all_sales_data = Table.read_table(csv_directory+'manhattan.csv', low_memory=False)\n"
   ]
  },
  {
   "cell_type": "code",
   "execution_count": 3,
   "metadata": {},
   "outputs": [],
   "source": [
    "# remove and sales less than $10,000 they are likely to be a property transfer rather than an actual sale\n",
    "\n",
    "\n",
    "all_sales_data = all_sales_data.where('SALE PRICE', are.above(10000))"
   ]
  },
  {
   "cell_type": "code",
   "execution_count": 4,
   "metadata": {},
   "outputs": [],
   "source": [
    "# Declare column names to allow for auto completion :)\n",
    "\n",
    "COL_SALE_DATE = 'SALE DATE'"
   ]
  },
  {
   "cell_type": "code",
   "execution_count": 5,
   "metadata": {},
   "outputs": [
    {
     "data": {
      "text/html": [
       "<table border=\"1\" class=\"dataframe\">\n",
       "    <thead>\n",
       "        <tr>\n",
       "            <th>SALE DATE</th> <th>Unnamed: 0</th> <th>ADDRESS</th> <th>APARTMENT NUMBER</th> <th>BLOCK</th> <th>BOROUGH</th> <th>BUILDING CLASS AS OF FINAL ROLL 17/18</th> <th>BUILDING CLASS AT PRESENT</th> <th>BUILDING CLASS AT TIME OF SALE</th> <th>BUILDING CLASS CATEGORY</th> <th>COMMERCIAL UNITS</th> <th>EASE-MENT</th> <th>GROSS SQUARE FEET</th> <th>LAND SQUARE FEET</th> <th>LOT</th> <th>NEIGHBORHOOD</th> <th>RESIDENTIAL UNITS</th> <th>SALE PRICE</th> <th>TAX CLASS AS OF FINAL ROLL 17/18</th> <th>TAX CLASS AT PRESENT</th> <th>TAX CLASS AT TIME OF SALE</th> <th>TOTAL UNITS</th> <th>YEAR BUILT</th> <th>ZIP CODE</th>\n",
       "        </tr>\n",
       "    </thead>\n",
       "    <tbody>\n",
       "        <tr>\n",
       "            <td>2015-03-18 00:00:00</td> <td>0         </td> <td>526 EAST 5TH STREET                      </td> <td>                </td> <td>400  </td> <td>1      </td> <td>nan                                  </td> <td>A4                       </td> <td>A4                            </td> <td>01  ONE FAMILY DWELLINGS                    </td> <td>0               </td> <td>         </td> <td>5200             </td> <td>1883            </td> <td>19  </td> <td>ALPHABET CITY            </td> <td>1                </td> <td>6500000   </td> <td>nan                             </td> <td>1                   </td> <td>1                        </td> <td>1          </td> <td>1900      </td> <td>10009   </td>\n",
       "        </tr>\n",
       "    </tbody>\n",
       "        <tr>\n",
       "            <td>2015-10-22 00:00:00</td> <td>1         </td> <td>264 EAST 7TH STREET                      </td> <td>                </td> <td>376  </td> <td>1      </td> <td>nan                                  </td> <td>C0                       </td> <td>C0                            </td> <td>03  THREE FAMILY DWELLINGS                  </td> <td>0               </td> <td>         </td> <td>3696             </td> <td>2059            </td> <td>24  </td> <td>ALPHABET CITY            </td> <td>3                </td> <td>3775000   </td> <td>nan                             </td> <td>1                   </td> <td>1                        </td> <td>3          </td> <td>1900      </td> <td>10009   </td>\n",
       "        </tr>\n",
       "    </tbody>\n",
       "        <tr>\n",
       "            <td>2015-06-24 00:00:00</td> <td>2         </td> <td>243 EAST 7TH   STREET                    </td> <td>                </td> <td>377  </td> <td>1      </td> <td>nan                                  </td> <td>C0                       </td> <td>C0                            </td> <td>03  THREE FAMILY DWELLINGS                  </td> <td>0               </td> <td>         </td> <td>3084             </td> <td>2381            </td> <td>66  </td> <td>ALPHABET CITY            </td> <td>3                </td> <td>2900000   </td> <td>nan                             </td> <td>1                   </td> <td>1                        </td> <td>3          </td> <td>1899      </td> <td>10009   </td>\n",
       "        </tr>\n",
       "    </tbody>\n",
       "        <tr>\n",
       "            <td>2015-06-15 00:00:00</td> <td>3         </td> <td>238 EAST 4TH   STREET                    </td> <td>-               </td> <td>399  </td> <td>1      </td> <td>nan                                  </td> <td>R6                       </td> <td>R6                            </td> <td>04  TAX CLASS 1 CONDOS                      </td> <td>0               </td> <td>         </td> <td>0                </td> <td>0               </td> <td>1101</td> <td>ALPHABET CITY            </td> <td>1                </td> <td>6995000   </td> <td>nan                             </td> <td>1C                  </td> <td>1                        </td> <td>1          </td> <td>1955      </td> <td>10009   </td>\n",
       "        </tr>\n",
       "    </tbody>\n",
       "        <tr>\n",
       "            <td>2015-11-17 00:00:00</td> <td>4         </td> <td>326 EAST 4TH   STREET                    </td> <td>                </td> <td>373  </td> <td>1      </td> <td>nan                                  </td> <td>C1                       </td> <td>C1                            </td> <td>07  RENTALS - WALKUP APARTMENTS             </td> <td>0               </td> <td>         </td> <td>8625             </td> <td>2204            </td> <td>16  </td> <td>ALPHABET CITY            </td> <td>10               </td> <td>20000000  </td> <td>nan                             </td> <td>2B                  </td> <td>2                        </td> <td>10         </td> <td>1899      </td> <td>10009   </td>\n",
       "        </tr>\n",
       "    </tbody>\n",
       "        <tr>\n",
       "            <td>2015-02-05 00:00:00</td> <td>6         </td> <td>102 AVENUE C                             </td> <td>                </td> <td>376  </td> <td>1      </td> <td>nan                                  </td> <td>C4                       </td> <td>C4                            </td> <td>07  RENTALS - WALKUP APARTMENTS             </td> <td>3               </td> <td>         </td> <td>16679            </td> <td>3772            </td> <td>7   </td> <td>ALPHABET CITY            </td> <td>26               </td> <td>14550000  </td> <td>nan                             </td> <td>2                   </td> <td>2                        </td> <td>29         </td> <td>1900      </td> <td>10009   </td>\n",
       "        </tr>\n",
       "    </tbody>\n",
       "        <tr>\n",
       "            <td>2015-09-10 00:00:00</td> <td>8         </td> <td>112 AVENUE C                             </td> <td>                </td> <td>377  </td> <td>1      </td> <td>nan                                  </td> <td>C7                       </td> <td>C7                            </td> <td>07  RENTALS - WALKUP APARTMENTS             </td> <td>3               </td> <td>         </td> <td>19830            </td> <td>4510            </td> <td>2   </td> <td>ALPHABET CITY            </td> <td>22               </td> <td>16700000  </td> <td>nan                             </td> <td>2                   </td> <td>2                        </td> <td>25         </td> <td>1900      </td> <td>10009   </td>\n",
       "        </tr>\n",
       "    </tbody>\n",
       "        <tr>\n",
       "            <td>2015-03-11 00:00:00</td> <td>10        </td> <td>133 AVENUE D                             </td> <td>                </td> <td>379  </td> <td>1      </td> <td>nan                                  </td> <td>C7                       </td> <td>C7                            </td> <td>07  RENTALS - WALKUP APARTMENTS             </td> <td>2               </td> <td>         </td> <td>14588            </td> <td>3481            </td> <td>37  </td> <td>ALPHABET CITY            </td> <td>20               </td> <td>10500000  </td> <td>nan                             </td> <td>2                   </td> <td>2                        </td> <td>22         </td> <td>1930      </td> <td>10009   </td>\n",
       "        </tr>\n",
       "    </tbody>\n",
       "        <tr>\n",
       "            <td>2015-01-29 00:00:00</td> <td>11        </td> <td>250-254 EAST 4TH   STREET                </td> <td>                </td> <td>386  </td> <td>1      </td> <td>nan                                  </td> <td>C4                       </td> <td>C4                            </td> <td>07  RENTALS - WALKUP APARTMENTS             </td> <td>1               </td> <td>         </td> <td>33130            </td> <td>7191            </td> <td>11  </td> <td>ALPHABET CITY            </td> <td>34               </td> <td>800265    </td> <td>nan                             </td> <td>2                   </td> <td>2                        </td> <td>35         </td> <td>1900      </td> <td>10009   </td>\n",
       "        </tr>\n",
       "    </tbody>\n",
       "        <tr>\n",
       "            <td>2015-12-09 00:00:00</td> <td>12        </td> <td>620 EAST 6TH   STREET                    </td> <td>                </td> <td>387  </td> <td>1      </td> <td>nan                                  </td> <td>C7                       </td> <td>C7                            </td> <td>07  RENTALS - WALKUP APARTMENTS             </td> <td>2               </td> <td>         </td> <td>13546            </td> <td>3445            </td> <td>119 </td> <td>ALPHABET CITY            </td> <td>22               </td> <td>11250000  </td> <td>nan                             </td> <td>2                   </td> <td>2                        </td> <td>24         </td> <td>1920      </td> <td>10009   </td>\n",
       "        </tr>\n",
       "    </tbody>\n",
       "</table>\n",
       "<p>... (289552 rows omitted)</p>"
      ],
      "text/plain": [
       "SALE DATE           | Unnamed: 0 | ADDRESS                                   | APARTMENT NUMBER | BLOCK | BOROUGH | BUILDING CLASS AS OF FINAL ROLL 17/18 | BUILDING CLASS AT PRESENT | BUILDING CLASS AT TIME OF SALE | BUILDING CLASS CATEGORY                      | COMMERCIAL UNITS | EASE-MENT | GROSS SQUARE FEET | LAND SQUARE FEET | LOT  | NEIGHBORHOOD              | RESIDENTIAL UNITS | SALE PRICE | TAX CLASS AS OF FINAL ROLL 17/18 | TAX CLASS AT PRESENT | TAX CLASS AT TIME OF SALE | TOTAL UNITS | YEAR BUILT | ZIP CODE\n",
       "2015-03-18 00:00:00 | 0          | 526 EAST 5TH STREET                       |                  | 400   | 1       | nan                                   | A4                        | A4                             | 01  ONE FAMILY DWELLINGS                     | 0                |           | 5200              | 1883             | 19   | ALPHABET CITY             | 1                 | 6500000    | nan                              | 1                    | 1                         | 1           | 1900       | 10009\n",
       "2015-10-22 00:00:00 | 1          | 264 EAST 7TH STREET                       |                  | 376   | 1       | nan                                   | C0                        | C0                             | 03  THREE FAMILY DWELLINGS                   | 0                |           | 3696              | 2059             | 24   | ALPHABET CITY             | 3                 | 3775000    | nan                              | 1                    | 1                         | 3           | 1900       | 10009\n",
       "2015-06-24 00:00:00 | 2          | 243 EAST 7TH   STREET                     |                  | 377   | 1       | nan                                   | C0                        | C0                             | 03  THREE FAMILY DWELLINGS                   | 0                |           | 3084              | 2381             | 66   | ALPHABET CITY             | 3                 | 2900000    | nan                              | 1                    | 1                         | 3           | 1899       | 10009\n",
       "2015-06-15 00:00:00 | 3          | 238 EAST 4TH   STREET                     | -                | 399   | 1       | nan                                   | R6                        | R6                             | 04  TAX CLASS 1 CONDOS                       | 0                |           | 0                 | 0                | 1101 | ALPHABET CITY             | 1                 | 6995000    | nan                              | 1C                   | 1                         | 1           | 1955       | 10009\n",
       "2015-11-17 00:00:00 | 4          | 326 EAST 4TH   STREET                     |                  | 373   | 1       | nan                                   | C1                        | C1                             | 07  RENTALS - WALKUP APARTMENTS              | 0                |           | 8625              | 2204             | 16   | ALPHABET CITY             | 10                | 20000000   | nan                              | 2B                   | 2                         | 10          | 1899       | 10009\n",
       "2015-02-05 00:00:00 | 6          | 102 AVENUE C                              |                  | 376   | 1       | nan                                   | C4                        | C4                             | 07  RENTALS - WALKUP APARTMENTS              | 3                |           | 16679             | 3772             | 7    | ALPHABET CITY             | 26                | 14550000   | nan                              | 2                    | 2                         | 29          | 1900       | 10009\n",
       "2015-09-10 00:00:00 | 8          | 112 AVENUE C                              |                  | 377   | 1       | nan                                   | C7                        | C7                             | 07  RENTALS - WALKUP APARTMENTS              | 3                |           | 19830             | 4510             | 2    | ALPHABET CITY             | 22                | 16700000   | nan                              | 2                    | 2                         | 25          | 1900       | 10009\n",
       "2015-03-11 00:00:00 | 10         | 133 AVENUE D                              |                  | 379   | 1       | nan                                   | C7                        | C7                             | 07  RENTALS - WALKUP APARTMENTS              | 2                |           | 14588             | 3481             | 37   | ALPHABET CITY             | 20                | 10500000   | nan                              | 2                    | 2                         | 22          | 1930       | 10009\n",
       "2015-01-29 00:00:00 | 11         | 250-254 EAST 4TH   STREET                 |                  | 386   | 1       | nan                                   | C4                        | C4                             | 07  RENTALS - WALKUP APARTMENTS              | 1                |           | 33130             | 7191             | 11   | ALPHABET CITY             | 34                | 800265     | nan                              | 2                    | 2                         | 35          | 1900       | 10009\n",
       "2015-12-09 00:00:00 | 12         | 620 EAST 6TH   STREET                     |                  | 387   | 1       | nan                                   | C7                        | C7                             | 07  RENTALS - WALKUP APARTMENTS              | 2                |           | 13546             | 3445             | 119  | ALPHABET CITY             | 22                | 11250000   | nan                              | 2                    | 2                         | 24          | 1920       | 10009\n",
       "... (289552 rows omitted)"
      ]
     },
     "execution_count": 5,
     "metadata": {},
     "output_type": "execute_result"
    }
   ],
   "source": [
    "# Converr sale date from a string to datetime type\n",
    "\n",
    "dates = [ datetime.strptime(d, '%Y-%m-%d') for d in all_sales_data.column(COL_SALE_DATE) ]\n",
    "\n",
    "# Drop string sale date column\n",
    "all_sales_data = all_sales_data.drop(COL_SALE_DATE)\n",
    "# Add the sales as type datetime\n",
    "all_sales_data = all_sales_data.with_column(COL_SALE_DATE, dates)\n",
    "# Move sale date to the first column\n",
    "all_sales_data = all_sales_data.move_to_start(COL_SALE_DATE)\n",
    "\n",
    "all_sales_data"
   ]
  },
  {
   "cell_type": "code",
   "execution_count": 6,
   "metadata": {},
   "outputs": [
    {
     "data": {
      "text/html": [
       "<table border=\"1\" class=\"dataframe\">\n",
       "    <thead>\n",
       "        <tr>\n",
       "            <th>SALE DATE</th> <th>Unnamed: 0</th> <th>ADDRESS</th> <th>APARTMENT NUMBER</th> <th>BLOCK</th> <th>BOROUGH</th> <th>BUILDING CLASS AS OF FINAL ROLL 17/18</th> <th>BUILDING CLASS AT PRESENT</th> <th>BUILDING CLASS AT TIME OF SALE</th> <th>BUILDING CLASS CATEGORY</th> <th>COMMERCIAL UNITS</th> <th>EASE-MENT</th> <th>GROSS SQUARE FEET</th> <th>LAND SQUARE FEET</th> <th>LOT</th> <th>NEIGHBORHOOD</th> <th>RESIDENTIAL UNITS</th> <th>SALE PRICE</th> <th>TAX CLASS AS OF FINAL ROLL 17/18</th> <th>TAX CLASS AT PRESENT</th> <th>TAX CLASS AT TIME OF SALE</th> <th>TOTAL UNITS</th> <th>YEAR BUILT</th> <th>ZIP CODE</th>\n",
       "        </tr>\n",
       "    </thead>\n",
       "    <tbody>\n",
       "        <tr>\n",
       "            <td>2004-06-02 00:00:00</td> <td>13333     </td> <td>870 7 AVENUE                             </td> <td>1614            </td> <td>1027 </td> <td>1      </td> <td>nan                                  </td> <td>R5                       </td> <td>R5                            </td> <td>28  COMMERCIAL CONDOS                       </td> <td>1               </td> <td>         </td> <td>0                </td> <td>0               </td> <td>1322</td> <td>MIDTOWN WEST             </td> <td>0                </td> <td>10007     </td> <td>nan                             </td> <td>4                   </td> <td>4                        </td> <td>1          </td> <td>0         </td> <td>10019   </td>\n",
       "        </tr>\n",
       "    </tbody>\n",
       "        <tr>\n",
       "            <td>2004-06-18 00:00:00</td> <td>13428     </td> <td>870 7 AVENUE                             </td> <td>1511            </td> <td>1027 </td> <td>1      </td> <td>nan                                  </td> <td>R5                       </td> <td>R5                            </td> <td>28  COMMERCIAL CONDOS                       </td> <td>1               </td> <td>         </td> <td>0                </td> <td>0               </td> <td>1338</td> <td>MIDTOWN WEST             </td> <td>0                </td> <td>10007     </td> <td>nan                             </td> <td>4                   </td> <td>4                        </td> <td>1          </td> <td>0         </td> <td>10019   </td>\n",
       "        </tr>\n",
       "    </tbody>\n",
       "        <tr>\n",
       "            <td>2003-04-21 00:00:00</td> <td>19770     </td> <td>220                                      </td> <td>104             </td> <td>1171 </td> <td>1      </td> <td>nan                                  </td> <td>R5                       </td> <td>R5                            </td> <td>28  COMMERCIAL CONDOS                       </td> <td>1               </td> <td>         </td> <td>0                </td> <td>0               </td> <td>1917</td> <td>UPPER WEST SIDE (59-79)  </td> <td>0                </td> <td>10020     </td> <td>nan                             </td> <td>4                   </td> <td>4                        </td> <td>1          </td> <td>0         </td> <td>10069   </td>\n",
       "        </tr>\n",
       "    </tbody>\n",
       "        <tr>\n",
       "            <td>2011-06-09 00:00:00</td> <td>11902     </td> <td>200 WEST 56TH   STREET                   </td> <td>                </td> <td>1027 </td> <td>1      </td> <td>nan                                  </td> <td>R5                       </td> <td>R5                            </td> <td>28  COMMERCIAL CONDOS                       </td> <td>1               </td> <td>         </td> <td>0                </td> <td>0               </td> <td>1199</td> <td>MIDTOWN WEST             </td> <td>0                </td> <td>10035     </td> <td>nan                             </td> <td>4                   </td> <td>4                        </td> <td>1          </td> <td>0         </td> <td>10019   </td>\n",
       "        </tr>\n",
       "    </tbody>\n",
       "        <tr>\n",
       "            <td>2011-03-03 00:00:00</td> <td>11956     </td> <td>200 WEST 56TH   STREET                   </td> <td>                </td> <td>1027 </td> <td>1      </td> <td>nan                                  </td> <td>R5                       </td> <td>R5                            </td> <td>28  COMMERCIAL CONDOS                       </td> <td>1               </td> <td>         </td> <td>0                </td> <td>0               </td> <td>1208</td> <td>MIDTOWN WEST             </td> <td>0                </td> <td>10035     </td> <td>nan                             </td> <td>4                   </td> <td>4                        </td> <td>1          </td> <td>0         </td> <td>10019   </td>\n",
       "        </tr>\n",
       "    </tbody>\n",
       "        <tr>\n",
       "            <td>2011-12-21 00:00:00</td> <td>12903     </td> <td>870 7 AVENUE                             </td> <td>220             </td> <td>1027 </td> <td>1      </td> <td>nan                                  </td> <td>R5                       </td> <td>R5                            </td> <td>28  COMMERCIAL CONDOS                       </td> <td>1               </td> <td>         </td> <td>0                </td> <td>0               </td> <td>1721</td> <td>MIDTOWN WEST             </td> <td>0                </td> <td>10035     </td> <td>nan                             </td> <td>4                   </td> <td>4                        </td> <td>1          </td> <td>1925      </td> <td>10019   </td>\n",
       "        </tr>\n",
       "    </tbody>\n",
       "        <tr>\n",
       "            <td>2011-10-19 00:00:00</td> <td>12904     </td> <td>870 7 AVENUE                             </td> <td>220             </td> <td>1027 </td> <td>1      </td> <td>nan                                  </td> <td>R5                       </td> <td>R5                            </td> <td>28  COMMERCIAL CONDOS                       </td> <td>1               </td> <td>         </td> <td>0                </td> <td>0               </td> <td>1721</td> <td>MIDTOWN WEST             </td> <td>0                </td> <td>10035     </td> <td>nan                             </td> <td>4                   </td> <td>4                        </td> <td>1          </td> <td>1925      </td> <td>10019   </td>\n",
       "        </tr>\n",
       "    </tbody>\n",
       "        <tr>\n",
       "            <td>2011-08-24 00:00:00</td> <td>12908     </td> <td>870 7 AVENUE                             </td> <td>220             </td> <td>1027 </td> <td>1      </td> <td>nan                                  </td> <td>R5                       </td> <td>R5                            </td> <td>28  COMMERCIAL CONDOS                       </td> <td>1               </td> <td>         </td> <td>0                </td> <td>0               </td> <td>1721</td> <td>MIDTOWN WEST             </td> <td>0                </td> <td>10035     </td> <td>nan                             </td> <td>4                   </td> <td>4                        </td> <td>1          </td> <td>1925      </td> <td>10019   </td>\n",
       "        </tr>\n",
       "    </tbody>\n",
       "        <tr>\n",
       "            <td>2011-02-23 00:00:00</td> <td>12922     </td> <td>870 7 AVENUE                             </td> <td>221             </td> <td>1027 </td> <td>1      </td> <td>nan                                  </td> <td>R5                       </td> <td>R5                            </td> <td>28  COMMERCIAL CONDOS                       </td> <td>1               </td> <td>         </td> <td>0                </td> <td>0               </td> <td>1722</td> <td>MIDTOWN WEST             </td> <td>0                </td> <td>10035     </td> <td>nan                             </td> <td>4                   </td> <td>4                        </td> <td>1          </td> <td>1925      </td> <td>10019   </td>\n",
       "        </tr>\n",
       "    </tbody>\n",
       "        <tr>\n",
       "            <td>2011-09-14 00:00:00</td> <td>12940     </td> <td>870 7 AVENUE                             </td> <td>223             </td> <td>1027 </td> <td>1      </td> <td>nan                                  </td> <td>R5                       </td> <td>R5                            </td> <td>28  COMMERCIAL CONDOS                       </td> <td>1               </td> <td>         </td> <td>0                </td> <td>0               </td> <td>1724</td> <td>MIDTOWN WEST             </td> <td>0                </td> <td>10035     </td> <td>nan                             </td> <td>4                   </td> <td>4                        </td> <td>1          </td> <td>1925      </td> <td>10019   </td>\n",
       "        </tr>\n",
       "    </tbody>\n",
       "        <tr>\n",
       "            <td>2011-10-19 00:00:00</td> <td>12952     </td> <td>870 7 AVENUE                             </td> <td>224             </td> <td>1027 </td> <td>1      </td> <td>nan                                  </td> <td>R5                       </td> <td>R5                            </td> <td>28  COMMERCIAL CONDOS                       </td> <td>1               </td> <td>         </td> <td>0                </td> <td>0               </td> <td>1725</td> <td>MIDTOWN WEST             </td> <td>0                </td> <td>10035     </td> <td>nan                             </td> <td>4                   </td> <td>4                        </td> <td>1          </td> <td>1925      </td> <td>10019   </td>\n",
       "        </tr>\n",
       "    </tbody>\n",
       "        <tr>\n",
       "            <td>2011-10-12 00:00:00</td> <td>12954     </td> <td>870 7 AVENUE                             </td> <td>224             </td> <td>1027 </td> <td>1      </td> <td>nan                                  </td> <td>R5                       </td> <td>R5                            </td> <td>28  COMMERCIAL CONDOS                       </td> <td>1               </td> <td>         </td> <td>0                </td> <td>0               </td> <td>1725</td> <td>MIDTOWN WEST             </td> <td>0                </td> <td>10035     </td> <td>nan                             </td> <td>4                   </td> <td>4                        </td> <td>1          </td> <td>1925      </td> <td>10019   </td>\n",
       "        </tr>\n",
       "    </tbody>\n",
       "        <tr>\n",
       "            <td>2011-11-02 00:00:00</td> <td>13015     </td> <td>870 7 AVENUE                             </td> <td>232             </td> <td>1027 </td> <td>1      </td> <td>nan                                  </td> <td>R5                       </td> <td>R5                            </td> <td>28  COMMERCIAL CONDOS                       </td> <td>1               </td> <td>         </td> <td>0                </td> <td>0               </td> <td>1733</td> <td>MIDTOWN WEST             </td> <td>0                </td> <td>10035     </td> <td>nan                             </td> <td>4                   </td> <td>4                        </td> <td>1          </td> <td>1925      </td> <td>10019   </td>\n",
       "        </tr>\n",
       "    </tbody>\n",
       "        <tr>\n",
       "            <td>2011-10-12 00:00:00</td> <td>13016     </td> <td>870 7 AVENUE                             </td> <td>232             </td> <td>1027 </td> <td>1      </td> <td>nan                                  </td> <td>R5                       </td> <td>R5                            </td> <td>28  COMMERCIAL CONDOS                       </td> <td>1               </td> <td>         </td> <td>0                </td> <td>0               </td> <td>1733</td> <td>MIDTOWN WEST             </td> <td>0                </td> <td>10035     </td> <td>nan                             </td> <td>4                   </td> <td>4                        </td> <td>1          </td> <td>1925      </td> <td>10019   </td>\n",
       "        </tr>\n",
       "    </tbody>\n",
       "        <tr>\n",
       "            <td>2011-09-28 00:00:00</td> <td>13017     </td> <td>870 7 AVENUE                             </td> <td>232             </td> <td>1027 </td> <td>1      </td> <td>nan                                  </td> <td>R5                       </td> <td>R5                            </td> <td>28  COMMERCIAL CONDOS                       </td> <td>1               </td> <td>         </td> <td>0                </td> <td>0               </td> <td>1733</td> <td>MIDTOWN WEST             </td> <td>0                </td> <td>10035     </td> <td>nan                             </td> <td>4                   </td> <td>4                        </td> <td>1          </td> <td>1925      </td> <td>10019   </td>\n",
       "        </tr>\n",
       "    </tbody>\n",
       "        <tr>\n",
       "            <td>2012-12-27 00:00:00</td> <td>10889     </td> <td>870 7 AVENUE                             </td> <td>217             </td> <td>1027 </td> <td>1      </td> <td>nan                                  </td> <td>RH                       </td> <td>RH                            </td> <td>                                            </td> <td>0               </td> <td>         </td> <td>0                </td> <td>0               </td> <td>1718</td> <td>MIDTOWN WEST             </td> <td>0                </td> <td>10035     </td> <td>nan                             </td> <td>4                   </td> <td>4                        </td> <td>1          </td> <td>1925      </td> <td>10019   </td>\n",
       "        </tr>\n",
       "    </tbody>\n",
       "        <tr>\n",
       "            <td>2012-11-07 00:00:00</td> <td>10891     </td> <td>870 7 AVENUE                             </td> <td>217             </td> <td>1027 </td> <td>1      </td> <td>nan                                  </td> <td>RH                       </td> <td>RH                            </td> <td>                                            </td> <td>0               </td> <td>         </td> <td>0                </td> <td>0               </td> <td>1718</td> <td>MIDTOWN WEST             </td> <td>0                </td> <td>10035     </td> <td>nan                             </td> <td>4                   </td> <td>4                        </td> <td>1          </td> <td>1925      </td> <td>10019   </td>\n",
       "        </tr>\n",
       "    </tbody>\n",
       "        <tr>\n",
       "            <td>2012-11-07 00:00:00</td> <td>10896     </td> <td>870 7 AVENUE                             </td> <td>222             </td> <td>1027 </td> <td>1      </td> <td>nan                                  </td> <td>RH                       </td> <td>RH                            </td> <td>                                            </td> <td>0               </td> <td>         </td> <td>0                </td> <td>0               </td> <td>1723</td> <td>MIDTOWN WEST             </td> <td>0                </td> <td>10035     </td> <td>nan                             </td> <td>4                   </td> <td>4                        </td> <td>1          </td> <td>1925      </td> <td>10019   </td>\n",
       "        </tr>\n",
       "    </tbody>\n",
       "        <tr>\n",
       "            <td>2012-11-07 00:00:00</td> <td>10899     </td> <td>870 7 AVENUE                             </td> <td>225             </td> <td>1027 </td> <td>1      </td> <td>nan                                  </td> <td>RH                       </td> <td>RH                            </td> <td>                                            </td> <td>0               </td> <td>         </td> <td>0                </td> <td>0               </td> <td>1726</td> <td>MIDTOWN WEST             </td> <td>0                </td> <td>10035     </td> <td>nan                             </td> <td>4                   </td> <td>4                        </td> <td>1          </td> <td>1925      </td> <td>10019   </td>\n",
       "        </tr>\n",
       "    </tbody>\n",
       "        <tr>\n",
       "            <td>2012-12-19 00:00:00</td> <td>10901     </td> <td>870 7 AVENUE                             </td> <td>226             </td> <td>1027 </td> <td>1      </td> <td>nan                                  </td> <td>RH                       </td> <td>RH                            </td> <td>                                            </td> <td>0               </td> <td>         </td> <td>0                </td> <td>0               </td> <td>1727</td> <td>MIDTOWN WEST             </td> <td>0                </td> <td>10035     </td> <td>nan                             </td> <td>4                   </td> <td>4                        </td> <td>1          </td> <td>1925      </td> <td>10019   </td>\n",
       "        </tr>\n",
       "    </tbody>\n",
       "</table>\n",
       "<p>... (289542 rows omitted)</p>"
      ],
      "text/plain": [
       "<IPython.core.display.HTML object>"
      ]
     },
     "metadata": {},
     "output_type": "display_data"
    },
    {
     "data": {
      "text/plain": [
       "('SALE DATE',\n",
       " 'Unnamed: 0',\n",
       " 'ADDRESS',\n",
       " 'APARTMENT NUMBER',\n",
       " 'BLOCK',\n",
       " 'BOROUGH',\n",
       " 'BUILDING CLASS AS OF FINAL ROLL 17/18',\n",
       " 'BUILDING CLASS AT PRESENT',\n",
       " 'BUILDING CLASS AT TIME OF SALE',\n",
       " 'BUILDING CLASS CATEGORY',\n",
       " 'COMMERCIAL UNITS',\n",
       " 'EASE-MENT',\n",
       " 'GROSS SQUARE FEET',\n",
       " 'LAND SQUARE FEET',\n",
       " 'LOT',\n",
       " 'NEIGHBORHOOD',\n",
       " 'RESIDENTIAL UNITS',\n",
       " 'SALE PRICE',\n",
       " 'TAX CLASS AS OF FINAL ROLL 17/18',\n",
       " 'TAX CLASS AT PRESENT',\n",
       " 'TAX CLASS AT TIME OF SALE',\n",
       " 'TOTAL UNITS',\n",
       " 'YEAR BUILT',\n",
       " 'ZIP CODE')"
      ]
     },
     "execution_count": 6,
     "metadata": {},
     "output_type": "execute_result"
    }
   ],
   "source": [
    "# SPOT CHECK: Understand the data lables we might be interested in\n",
    "all_sales_data.sort(\"SALE PRICE\").show(20)\n",
    "all_sales_data.labels"
   ]
  },
  {
   "cell_type": "code",
   "execution_count": 7,
   "metadata": {},
   "outputs": [],
   "source": [
    "# Remove columns we don't actually need. e.g. lot, block etc\n",
    "\n",
    "all_sales_data = all_sales_data.select(['SALE DATE', 'SALE PRICE', 'ADDRESS','APARTMENT NUMBER', 'YEAR BUILT', 'NEIGHBORHOOD', 'ZIP CODE', 'BUILDING CLASS AT TIME OF SALE', 'BUILDING CLASS CATEGORY'])"
   ]
  },
  {
   "cell_type": "code",
   "execution_count": 8,
   "metadata": {},
   "outputs": [
    {
     "name": "stderr",
     "output_type": "stream",
     "text": [
      "/usr/local/lib/python3.6/site-packages/datascience/tables.py:361: FutureWarning: column lists are deprecated; pass each as an argument\n",
      "  \"column lists are deprecated; pass each as an argument\", FutureWarning)\n"
     ]
    }
   ],
   "source": [
    "# Combine the Address and Apt No. The data here seems a little funky. Sometime the address itself contains the apt no,\n",
    "# other times it's seperated. Let's create a full address column that combines them into a single address\n",
    "\n",
    "def combine_address(address, aptNo):\n",
    "    \"\"\"Combine the address and Apartment into a single result\"\"\"\n",
    "    temp = address.strip()\n",
    "    if len(aptNo.strip()) > 0:\n",
    "        temp = temp + ', ' + aptNo.strip()\n",
    "    return temp\n",
    "\n",
    "full_address = all_sales_data.apply(combine_address, ['ADDRESS', 'APARTMENT NUMBER'])"
   ]
  },
  {
   "cell_type": "code",
   "execution_count": 9,
   "metadata": {},
   "outputs": [],
   "source": [
    "# Add a Full Address column\n",
    "all_sales_data =  all_sales_data.with_column('FULL ADDRESS', full_address)"
   ]
  },
  {
   "cell_type": "code",
   "execution_count": 10,
   "metadata": {},
   "outputs": [
    {
     "data": {
      "text/html": [
       "<table border=\"1\" class=\"dataframe\">\n",
       "    <thead>\n",
       "        <tr>\n",
       "            <th>BUILDING CLASS AT TIME OF SALE</th> <th>BUILDING CLASS CATEGORY</th> <th>count</th>\n",
       "        </tr>\n",
       "    </thead>\n",
       "    <tbody>\n",
       "        <tr>\n",
       "            <td>R4                            </td> <td>13  CONDOS - ELEVATOR APARTMENTS            </td> <td>90397</td>\n",
       "        </tr>\n",
       "    </tbody>\n",
       "        <tr>\n",
       "            <td>D4                            </td> <td>10  COOPS - ELEVATOR APARTMENTS             </td> <td>83679</td>\n",
       "        </tr>\n",
       "    </tbody>\n",
       "        <tr>\n",
       "            <td>R5                            </td> <td>28  COMMERCIAL CONDOS                       </td> <td>18200</td>\n",
       "        </tr>\n",
       "    </tbody>\n",
       "        <tr>\n",
       "            <td>R4                            </td> <td>13 CONDOS - ELEVATOR APARTMENTS             </td> <td>10873</td>\n",
       "        </tr>\n",
       "    </tbody>\n",
       "        <tr>\n",
       "            <td>C6                            </td> <td>09  COOPS - WALKUP APARTMENTS               </td> <td>10423</td>\n",
       "        </tr>\n",
       "    </tbody>\n",
       "        <tr>\n",
       "            <td>D4                            </td> <td>10 COOPS - ELEVATOR APARTMENTS              </td> <td>10331</td>\n",
       "        </tr>\n",
       "    </tbody>\n",
       "        <tr>\n",
       "            <td>R9                            </td> <td>17  CONDOPS                                 </td> <td>10124</td>\n",
       "        </tr>\n",
       "    </tbody>\n",
       "        <tr>\n",
       "            <td>H2                            </td> <td>25  LUXURY HOTELS                           </td> <td>9785 </td>\n",
       "        </tr>\n",
       "    </tbody>\n",
       "        <tr>\n",
       "            <td>RH                            </td> <td>45  CONDO HOTELS                            </td> <td>5478 </td>\n",
       "        </tr>\n",
       "    </tbody>\n",
       "        <tr>\n",
       "            <td>R9                            </td> <td>17  CONDO COOPS                             </td> <td>4155 </td>\n",
       "        </tr>\n",
       "    </tbody>\n",
       "        <tr>\n",
       "            <td>D0                            </td> <td>10  COOPS - ELEVATOR APARTMENTS             </td> <td>3331 </td>\n",
       "        </tr>\n",
       "    </tbody>\n",
       "        <tr>\n",
       "            <td>R1                            </td> <td>15  CONDOS - 2-10 UNIT RESIDENTIAL          </td> <td>3258 </td>\n",
       "        </tr>\n",
       "    </tbody>\n",
       "        <tr>\n",
       "            <td>C7                            </td> <td>07  RENTALS - WALKUP APARTMENTS             </td> <td>1910 </td>\n",
       "        </tr>\n",
       "    </tbody>\n",
       "        <tr>\n",
       "            <td>R9                            </td> <td>17 CONDO COOPS                              </td> <td>1645 </td>\n",
       "        </tr>\n",
       "    </tbody>\n",
       "        <tr>\n",
       "            <td>H3                            </td> <td>26  OTHER HOTELS                            </td> <td>1571 </td>\n",
       "        </tr>\n",
       "    </tbody>\n",
       "        <tr>\n",
       "            <td>C5                            </td> <td>07  RENTALS - WALKUP APARTMENTS             </td> <td>1476 </td>\n",
       "        </tr>\n",
       "    </tbody>\n",
       "        <tr>\n",
       "            <td>C1                            </td> <td>07  RENTALS - WALKUP APARTMENTS             </td> <td>1416 </td>\n",
       "        </tr>\n",
       "    </tbody>\n",
       "        <tr>\n",
       "            <td>C6                            </td> <td>09 COOPS - WALKUP APARTMENTS                </td> <td>1373 </td>\n",
       "        </tr>\n",
       "    </tbody>\n",
       "        <tr>\n",
       "            <td>R2                            </td> <td>12  CONDOS - WALKUP APARTMENTS              </td> <td>1282 </td>\n",
       "        </tr>\n",
       "    </tbody>\n",
       "        <tr>\n",
       "            <td>C4                            </td> <td>07  RENTALS - WALKUP APARTMENTS             </td> <td>1184 </td>\n",
       "        </tr>\n",
       "    </tbody>\n",
       "</table>\n",
       "<p>... (298 rows omitted)</p>"
      ],
      "text/plain": [
       "<IPython.core.display.HTML object>"
      ]
     },
     "metadata": {},
     "output_type": "display_data"
    }
   ],
   "source": [
    "# Try to understand Building Class Codes. What are the most common Codes?\n",
    "\n",
    "all_sales_data.group(['BUILDING CLASS AT TIME OF SALE', 'BUILDING CLASS CATEGORY']).sort('count', descending=True).show(20)\n",
    "\n",
    "# Question what's R5 -  COMMERCIAL CONDOS? ignoring for now"
   ]
  },
  {
   "cell_type": "code",
   "execution_count": 11,
   "metadata": {},
   "outputs": [],
   "source": [
    "# Let's pick out the condos for now. \n",
    "# See ## for condo codes\n",
    "condos = all_sales_data.where('BUILDING CLASS AT TIME OF SALE', are.contained_in(\"R1R2R3R4R6\"))"
   ]
  },
  {
   "cell_type": "code",
   "execution_count": 12,
   "metadata": {},
   "outputs": [
    {
     "data": {
      "text/html": [
       "<table border=\"1\" class=\"dataframe\">\n",
       "    <thead>\n",
       "        <tr>\n",
       "            <th>SALE DATE</th> <th>SALE PRICE</th> <th>ADDRESS</th> <th>APARTMENT NUMBER</th> <th>YEAR BUILT</th> <th>NEIGHBORHOOD</th> <th>ZIP CODE</th> <th>BUILDING CLASS AT TIME OF SALE</th> <th>BUILDING CLASS CATEGORY</th> <th>FULL ADDRESS</th>\n",
       "        </tr>\n",
       "    </thead>\n",
       "    <tbody>\n",
       "        <tr>\n",
       "            <td>2008-03-03 00:00:00</td> <td>609931    </td> <td>421 EAST 13TH   STREET                   </td> <td>3E              </td> <td>2007      </td> <td>EAST VILLAGE             </td> <td>10009   </td> <td>R4                            </td> <td>13  CONDOS - ELEVATOR APARTMENTS            </td> <td>421 EAST 13TH   STREET, 3E </td>\n",
       "        </tr>\n",
       "    </tbody>\n",
       "        <tr>\n",
       "            <td>2008-04-25 00:00:00</td> <td>541359    </td> <td>315 7TH AVENUE                           </td> <td>19C             </td> <td>0         </td> <td>CHELSEA                  </td> <td>10001   </td> <td>R4                            </td> <td>13  CONDOS - ELEVATOR APARTMENTS            </td> <td>315 7TH AVENUE, 19C        </td>\n",
       "        </tr>\n",
       "    </tbody>\n",
       "        <tr>\n",
       "            <td>2012-11-02 00:00:00</td> <td>5000000   </td> <td>641 5 AVENUE                             </td> <td>38A             </td> <td>0         </td> <td>MIDTOWN CBD              </td> <td>10022   </td> <td>R4                            </td> <td>13  CONDOS - ELEVATOR APARTMENTS            </td> <td>641 5 AVENUE, 38A          </td>\n",
       "        </tr>\n",
       "    </tbody>\n",
       "        <tr>\n",
       "            <td>2008-03-27 00:00:00</td> <td>878668    </td> <td>211 EAST 46TH   STREET                   </td> <td>25G             </td> <td>1979      </td> <td>MIDTOWN EAST             </td> <td>10017   </td> <td>R4                            </td> <td>13  CONDOS - ELEVATOR APARTMENTS            </td> <td>211 EAST 46TH   STREET, 25G</td>\n",
       "        </tr>\n",
       "    </tbody>\n",
       "        <tr>\n",
       "            <td>2011-03-21 00:00:00</td> <td>977520    </td> <td>18 PINE STREET                           </td> <td>1816            </td> <td>1928      </td> <td>FINANCIAL                </td> <td>10005   </td> <td>R4                            </td> <td>13  CONDOS - ELEVATOR APARTMENTS            </td> <td>18 PINE STREET, 1816       </td>\n",
       "        </tr>\n",
       "    </tbody>\n",
       "        <tr>\n",
       "            <td>2015-09-01 00:00:00</td> <td>655500    </td> <td>88 GREENWICH STREET                      </td> <td>524             </td> <td>1956      </td> <td>FINANCIAL                </td> <td>10006   </td> <td>R4                            </td> <td>13  CONDOS - ELEVATOR APARTMENTS            </td> <td>88 GREENWICH STREET, 524   </td>\n",
       "        </tr>\n",
       "    </tbody>\n",
       "        <tr>\n",
       "            <td>2017-12-19 00:00:00</td> <td>687500    </td> <td>211 WEST 71ST   STREET                   </td> <td>7D              </td> <td>1985      </td> <td>UPPER WEST SIDE (59-79)  </td> <td>10023   </td> <td>R4                            </td> <td>13 CONDOS - ELEVATOR APARTMENTS             </td> <td>211 WEST 71ST   STREET, 7D </td>\n",
       "        </tr>\n",
       "    </tbody>\n",
       "        <tr>\n",
       "            <td>2008-04-07 00:00:00</td> <td>1007049   </td> <td>555 WEST 59TH STREET                     </td> <td>15D             </td> <td>2007      </td> <td>UPPER WEST SIDE (59-79)  </td> <td>10019   </td> <td>R4                            </td> <td>13  CONDOS - ELEVATOR APARTMENTS            </td> <td>555 WEST 59TH STREET, 15D  </td>\n",
       "        </tr>\n",
       "    </tbody>\n",
       "        <tr>\n",
       "            <td>2009-07-16 00:00:00</td> <td>1125000   </td> <td>1474 3 AVENUE                            </td> <td>3N              </td> <td>0         </td> <td>UPPER EAST SIDE (79-96)  </td> <td>10028   </td> <td>R4                            </td> <td>13  CONDOS - ELEVATOR APARTMENTS            </td> <td>1474 3 AVENUE, 3N          </td>\n",
       "        </tr>\n",
       "    </tbody>\n",
       "        <tr>\n",
       "            <td>2013-08-05 00:00:00</td> <td>412500    </td> <td>2056 5 AVENUE                            </td> <td>5-C             </td> <td>1920      </td> <td>HARLEM-CENTRAL           </td> <td>10035   </td> <td>R4                            </td> <td>13  CONDOS - ELEVATOR APARTMENTS            </td> <td>2056 5 AVENUE, 5-C         </td>\n",
       "        </tr>\n",
       "    </tbody>\n",
       "</table>"
      ],
      "text/plain": [
       "SALE DATE           | SALE PRICE | ADDRESS                                   | APARTMENT NUMBER | YEAR BUILT | NEIGHBORHOOD              | ZIP CODE | BUILDING CLASS AT TIME OF SALE | BUILDING CLASS CATEGORY                      | FULL ADDRESS\n",
       "2008-03-03 00:00:00 | 609931     | 421 EAST 13TH   STREET                    | 3E               | 2007       | EAST VILLAGE              | 10009    | R4                             | 13  CONDOS - ELEVATOR APARTMENTS             | 421 EAST 13TH   STREET, 3E\n",
       "2008-04-25 00:00:00 | 541359     | 315 7TH AVENUE                            | 19C              | 0          | CHELSEA                   | 10001    | R4                             | 13  CONDOS - ELEVATOR APARTMENTS             | 315 7TH AVENUE, 19C\n",
       "2012-11-02 00:00:00 | 5000000    | 641 5 AVENUE                              | 38A              | 0          | MIDTOWN CBD               | 10022    | R4                             | 13  CONDOS - ELEVATOR APARTMENTS             | 641 5 AVENUE, 38A\n",
       "2008-03-27 00:00:00 | 878668     | 211 EAST 46TH   STREET                    | 25G              | 1979       | MIDTOWN EAST              | 10017    | R4                             | 13  CONDOS - ELEVATOR APARTMENTS             | 211 EAST 46TH   STREET, 25G\n",
       "2011-03-21 00:00:00 | 977520     | 18 PINE STREET                            | 1816             | 1928       | FINANCIAL                 | 10005    | R4                             | 13  CONDOS - ELEVATOR APARTMENTS             | 18 PINE STREET, 1816\n",
       "2015-09-01 00:00:00 | 655500     | 88 GREENWICH STREET                       | 524              | 1956       | FINANCIAL                 | 10006    | R4                             | 13  CONDOS - ELEVATOR APARTMENTS             | 88 GREENWICH STREET, 524\n",
       "2017-12-19 00:00:00 | 687500     | 211 WEST 71ST   STREET                    | 7D               | 1985       | UPPER WEST SIDE (59-79)   | 10023    | R4                             | 13 CONDOS - ELEVATOR APARTMENTS              | 211 WEST 71ST   STREET, 7D\n",
       "2008-04-07 00:00:00 | 1007049    | 555 WEST 59TH STREET                      | 15D              | 2007       | UPPER WEST SIDE (59-79)   | 10019    | R4                             | 13  CONDOS - ELEVATOR APARTMENTS             | 555 WEST 59TH STREET, 15D\n",
       "2009-07-16 00:00:00 | 1125000    | 1474 3 AVENUE                             | 3N               | 0          | UPPER EAST SIDE (79-96)   | 10028    | R4                             | 13  CONDOS - ELEVATOR APARTMENTS             | 1474 3 AVENUE, 3N\n",
       "2013-08-05 00:00:00 | 412500     | 2056 5 AVENUE                             | 5-C              | 1920       | HARLEM-CENTRAL            | 10035    | R4                             | 13  CONDOS - ELEVATOR APARTMENTS             | 2056 5 AVENUE, 5-C"
      ]
     },
     "execution_count": 12,
     "metadata": {},
     "output_type": "execute_result"
    }
   ],
   "source": [
    "# Spot Check condo data\n",
    "condos.sample(10)"
   ]
  },
  {
   "cell_type": "code",
   "execution_count": 13,
   "metadata": {},
   "outputs": [
    {
     "data": {
      "text/html": [
       "<table border=\"1\" class=\"dataframe\">\n",
       "    <thead>\n",
       "        <tr>\n",
       "            <th>FULL ADDRESS</th> <th>count</th>\n",
       "        </tr>\n",
       "    </thead>\n",
       "    <tbody>\n",
       "        <tr>\n",
       "            <td>1 WEST END AVENUE        </td> <td>136  </td>\n",
       "        </tr>\n",
       "    </tbody>\n",
       "        <tr>\n",
       "            <td>45 EAST 22ND   STREET    </td> <td>51   </td>\n",
       "        </tr>\n",
       "    </tbody>\n",
       "        <tr>\n",
       "            <td>245 WEST 99TH STREET     </td> <td>50   </td>\n",
       "        </tr>\n",
       "    </tbody>\n",
       "        <tr>\n",
       "            <td>171 WEST 131 STREET      </td> <td>44   </td>\n",
       "        </tr>\n",
       "    </tbody>\n",
       "        <tr>\n",
       "            <td>959 1 AVENUE             </td> <td>42   </td>\n",
       "        </tr>\n",
       "    </tbody>\n",
       "        <tr>\n",
       "            <td>416 WEST 52ND STREET     </td> <td>39   </td>\n",
       "        </tr>\n",
       "    </tbody>\n",
       "        <tr>\n",
       "            <td>245 WEST 99TH   STREET   </td> <td>37   </td>\n",
       "        </tr>\n",
       "    </tbody>\n",
       "        <tr>\n",
       "            <td>2094 FREDRICK DOUGLASS BL</td> <td>35   </td>\n",
       "        </tr>\n",
       "    </tbody>\n",
       "        <tr>\n",
       "            <td>172 MADISON AVENUE       </td> <td>35   </td>\n",
       "        </tr>\n",
       "    </tbody>\n",
       "        <tr>\n",
       "            <td>360 EAST 89TH   STREET   </td> <td>23   </td>\n",
       "        </tr>\n",
       "    </tbody>\n",
       "</table>\n",
       "<p>... (85928 rows omitted)</p>"
      ],
      "text/plain": [
       "FULL ADDRESS              | count\n",
       "1 WEST END AVENUE         | 136\n",
       "45 EAST 22ND   STREET     | 51\n",
       "245 WEST 99TH STREET      | 50\n",
       "171 WEST 131 STREET       | 44\n",
       "959 1 AVENUE              | 42\n",
       "416 WEST 52ND STREET      | 39\n",
       "245 WEST 99TH   STREET    | 37\n",
       "2094 FREDRICK DOUGLASS BL | 35\n",
       "172 MADISON AVENUE        | 35\n",
       "360 EAST 89TH   STREET    | 23\n",
       "... (85928 rows omitted)"
      ]
     },
     "execution_count": 13,
     "metadata": {},
     "output_type": "execute_result"
    }
   ],
   "source": [
    "# Let's find condos with multiple sales\n",
    "\n",
    "condos.group('FULL ADDRESS').sort(1, descending=True)\n",
    "\n",
    "# Looks like Apt numbers are missing for most of the top sales. let's ignore anything without an apt number. "
   ]
  },
  {
   "cell_type": "code",
   "execution_count": 14,
   "metadata": {},
   "outputs": [
    {
     "data": {
      "text/html": [
       "<table border=\"1\" class=\"dataframe\">\n",
       "    <thead>\n",
       "        <tr>\n",
       "            <th>FULL ADDRESS</th> <th>count</th>\n",
       "        </tr>\n",
       "    </thead>\n",
       "    <tbody>\n",
       "        <tr>\n",
       "            <td>2 EAST 55 STREET, 835    </td> <td>8    </td>\n",
       "        </tr>\n",
       "    </tbody>\n",
       "        <tr>\n",
       "            <td>2 EAST 55TH   STREET, 935</td> <td>7    </td>\n",
       "        </tr>\n",
       "    </tbody>\n",
       "        <tr>\n",
       "            <td>2 EAST 55 STREET, 921    </td> <td>7    </td>\n",
       "        </tr>\n",
       "    </tbody>\n",
       "        <tr>\n",
       "            <td>140 7 AVENUE, 6A         </td> <td>7    </td>\n",
       "        </tr>\n",
       "    </tbody>\n",
       "        <tr>\n",
       "            <td>77 PARK AVENUE, 2F       </td> <td>6    </td>\n",
       "        </tr>\n",
       "    </tbody>\n",
       "        <tr>\n",
       "            <td>418 CENTRAL PARK WEST, 22</td> <td>6    </td>\n",
       "        </tr>\n",
       "    </tbody>\n",
       "        <tr>\n",
       "            <td>2 EAST 55 STREET, 936    </td> <td>6    </td>\n",
       "        </tr>\n",
       "    </tbody>\n",
       "        <tr>\n",
       "            <td>2 EAST 55 STREET, 903    </td> <td>6    </td>\n",
       "        </tr>\n",
       "    </tbody>\n",
       "        <tr>\n",
       "            <td>15 BROAD STREET, 2116    </td> <td>6    </td>\n",
       "        </tr>\n",
       "    </tbody>\n",
       "        <tr>\n",
       "            <td>1420 YORK AVENUE, 5M     </td> <td>6    </td>\n",
       "        </tr>\n",
       "    </tbody>\n",
       "</table>\n",
       "<p>... (16343 rows omitted)</p>"
      ],
      "text/plain": [
       "FULL ADDRESS              | count\n",
       "2 EAST 55 STREET, 835     | 8\n",
       "2 EAST 55TH   STREET, 935 | 7\n",
       "2 EAST 55 STREET, 921     | 7\n",
       "140 7 AVENUE, 6A          | 7\n",
       "77 PARK AVENUE, 2F        | 6\n",
       "418 CENTRAL PARK WEST, 22 | 6\n",
       "2 EAST 55 STREET, 936     | 6\n",
       "2 EAST 55 STREET, 903     | 6\n",
       "15 BROAD STREET, 2116     | 6\n",
       "1420 YORK AVENUE, 5M      | 6\n",
       "... (16343 rows omitted)"
      ]
     },
     "execution_count": 14,
     "metadata": {},
     "output_type": "execute_result"
    }
   ],
   "source": [
    "# Find condos with apt numbers i.e. clean data, then find those with more that 1 sale record.\n",
    "\n",
    "multi_sale_condos = condos.where('FULL ADDRESS', are.containing(',')).group('FULL ADDRESS').sort(1, descending=True).where('count', are.above(1))\n",
    "multi_sale_condos\n",
    "\n",
    "#ahh much better, fewer sales but still roughly 15K records enough to proceed"
   ]
  },
  {
   "cell_type": "code",
   "execution_count": 15,
   "metadata": {},
   "outputs": [
    {
     "data": {
      "text/html": [
       "<table border=\"1\" class=\"dataframe\">\n",
       "    <thead>\n",
       "        <tr>\n",
       "            <th>FULL ADDRESS</th> <th>count</th> <th>SALE DATE</th> <th>SALE PRICE</th> <th>ADDRESS</th> <th>APARTMENT NUMBER</th> <th>YEAR BUILT</th> <th>NEIGHBORHOOD</th> <th>ZIP CODE</th> <th>BUILDING CLASS AT TIME OF SALE</th> <th>BUILDING CLASS CATEGORY</th>\n",
       "        </tr>\n",
       "    </thead>\n",
       "    <tbody>\n",
       "        <tr>\n",
       "            <td>1 BOND STREET, 2B</td> <td>2    </td> <td>2004-08-04 00:00:00</td> <td>31000     </td> <td>1 BOND STREET                            </td> <td>2B              </td> <td>0         </td> <td>GREENWICH VILLAGE-CENTRAL</td> <td>10012   </td> <td>R4                            </td> <td>13  CONDOS - ELEVATOR APARTMENTS            </td>\n",
       "        </tr>\n",
       "    </tbody>\n",
       "        <tr>\n",
       "            <td>1 BOND STREET, 2B</td> <td>2    </td> <td>2009-08-20 00:00:00</td> <td>1591000   </td> <td>1 BOND STREET                            </td> <td>2B              </td> <td>0         </td> <td>GREENWICH VILLAGE-CENTRAL</td> <td>10012   </td> <td>R4                            </td> <td>13  CONDOS - ELEVATOR APARTMENTS            </td>\n",
       "        </tr>\n",
       "    </tbody>\n",
       "        <tr>\n",
       "            <td>1 BOND STREET, 2C</td> <td>2    </td> <td>2017-08-18 00:00:00</td> <td>5640000   </td> <td>1 BOND STREET                            </td> <td>2C              </td> <td>0         </td> <td>GREENWICH VILLAGE-CENTRAL</td> <td>10012   </td> <td>R4                            </td> <td>13 CONDOS - ELEVATOR APARTMENTS             </td>\n",
       "        </tr>\n",
       "    </tbody>\n",
       "        <tr>\n",
       "            <td>1 BOND STREET, 2C</td> <td>2    </td> <td>2010-12-15 00:00:00</td> <td>600000    </td> <td>1 BOND STREET                            </td> <td>2C              </td> <td>0         </td> <td>GREENWICH VILLAGE-CENTRAL</td> <td>10012   </td> <td>R4                            </td> <td>13  CONDOS - ELEVATOR APARTMENTS            </td>\n",
       "        </tr>\n",
       "    </tbody>\n",
       "        <tr>\n",
       "            <td>1 BOND STREET, 2D</td> <td>2    </td> <td>2009-04-24 00:00:00</td> <td>1195000   </td> <td>1 BOND STREET                            </td> <td>2D              </td> <td>0         </td> <td>GREENWICH VILLAGE-CENTRAL</td> <td>10012   </td> <td>R4                            </td> <td>13  CONDOS - ELEVATOR APARTMENTS            </td>\n",
       "        </tr>\n",
       "    </tbody>\n",
       "        <tr>\n",
       "            <td>1 BOND STREET, 2D</td> <td>2    </td> <td>2014-01-07 00:00:00</td> <td>1925000   </td> <td>1 BOND STREET                            </td> <td>2D              </td> <td>0         </td> <td>GREENWICH VILLAGE-CENTRAL</td> <td>10012   </td> <td>R4                            </td> <td>13  CONDOS - ELEVATOR APARTMENTS            </td>\n",
       "        </tr>\n",
       "    </tbody>\n",
       "        <tr>\n",
       "            <td>1 BOND STREET, 3A</td> <td>2    </td> <td>2013-06-14 00:00:00</td> <td>7200000   </td> <td>1 BOND STREET                            </td> <td>3A              </td> <td>0         </td> <td>GREENWICH VILLAGE-CENTRAL</td> <td>10012   </td> <td>R4                            </td> <td>13  CONDOS - ELEVATOR APARTMENTS            </td>\n",
       "        </tr>\n",
       "    </tbody>\n",
       "        <tr>\n",
       "            <td>1 BOND STREET, 3A</td> <td>2    </td> <td>2008-06-06 00:00:00</td> <td>5030000   </td> <td>1 BOND STREET                            </td> <td>3A              </td> <td>0         </td> <td>GREENWICH VILLAGE-CENTRAL</td> <td>10012   </td> <td>R4                            </td> <td>13  CONDOS - ELEVATOR APARTMENTS            </td>\n",
       "        </tr>\n",
       "    </tbody>\n",
       "        <tr>\n",
       "            <td>1 BOND STREET, 4D</td> <td>2    </td> <td>2006-08-30 00:00:00</td> <td>1565000   </td> <td>1 BOND STREET                            </td> <td>4D              </td> <td>0         </td> <td>GREENWICH VILLAGE-CENTRAL</td> <td>10012   </td> <td>R4                            </td> <td>13  CONDOS - ELEVATOR APARTMENTS            </td>\n",
       "        </tr>\n",
       "    </tbody>\n",
       "        <tr>\n",
       "            <td>1 BOND STREET, 4D</td> <td>2    </td> <td>2013-08-20 00:00:00</td> <td>2415000   </td> <td>1 BOND STREET                            </td> <td>4D              </td> <td>0         </td> <td>GREENWICH VILLAGE-CENTRAL</td> <td>10012   </td> <td>R4                            </td> <td>13  CONDOS - ELEVATOR APARTMENTS            </td>\n",
       "        </tr>\n",
       "    </tbody>\n",
       "</table>\n",
       "<p>... (35878 rows omitted)</p>"
      ],
      "text/plain": [
       "FULL ADDRESS      | count | SALE DATE           | SALE PRICE | ADDRESS                                   | APARTMENT NUMBER | YEAR BUILT | NEIGHBORHOOD              | ZIP CODE | BUILDING CLASS AT TIME OF SALE | BUILDING CLASS CATEGORY\n",
       "1 BOND STREET, 2B | 2     | 2004-08-04 00:00:00 | 31000      | 1 BOND STREET                             | 2B               | 0          | GREENWICH VILLAGE-CENTRAL | 10012    | R4                             | 13  CONDOS - ELEVATOR APARTMENTS\n",
       "1 BOND STREET, 2B | 2     | 2009-08-20 00:00:00 | 1591000    | 1 BOND STREET                             | 2B               | 0          | GREENWICH VILLAGE-CENTRAL | 10012    | R4                             | 13  CONDOS - ELEVATOR APARTMENTS\n",
       "1 BOND STREET, 2C | 2     | 2017-08-18 00:00:00 | 5640000    | 1 BOND STREET                             | 2C               | 0          | GREENWICH VILLAGE-CENTRAL | 10012    | R4                             | 13 CONDOS - ELEVATOR APARTMENTS\n",
       "1 BOND STREET, 2C | 2     | 2010-12-15 00:00:00 | 600000     | 1 BOND STREET                             | 2C               | 0          | GREENWICH VILLAGE-CENTRAL | 10012    | R4                             | 13  CONDOS - ELEVATOR APARTMENTS\n",
       "1 BOND STREET, 2D | 2     | 2009-04-24 00:00:00 | 1195000    | 1 BOND STREET                             | 2D               | 0          | GREENWICH VILLAGE-CENTRAL | 10012    | R4                             | 13  CONDOS - ELEVATOR APARTMENTS\n",
       "1 BOND STREET, 2D | 2     | 2014-01-07 00:00:00 | 1925000    | 1 BOND STREET                             | 2D               | 0          | GREENWICH VILLAGE-CENTRAL | 10012    | R4                             | 13  CONDOS - ELEVATOR APARTMENTS\n",
       "1 BOND STREET, 3A | 2     | 2013-06-14 00:00:00 | 7200000    | 1 BOND STREET                             | 3A               | 0          | GREENWICH VILLAGE-CENTRAL | 10012    | R4                             | 13  CONDOS - ELEVATOR APARTMENTS\n",
       "1 BOND STREET, 3A | 2     | 2008-06-06 00:00:00 | 5030000    | 1 BOND STREET                             | 3A               | 0          | GREENWICH VILLAGE-CENTRAL | 10012    | R4                             | 13  CONDOS - ELEVATOR APARTMENTS\n",
       "1 BOND STREET, 4D | 2     | 2006-08-30 00:00:00 | 1565000    | 1 BOND STREET                             | 4D               | 0          | GREENWICH VILLAGE-CENTRAL | 10012    | R4                             | 13  CONDOS - ELEVATOR APARTMENTS\n",
       "1 BOND STREET, 4D | 2     | 2013-08-20 00:00:00 | 2415000    | 1 BOND STREET                             | 4D               | 0          | GREENWICH VILLAGE-CENTRAL | 10012    | R4                             | 13  CONDOS - ELEVATOR APARTMENTS\n",
       "... (35878 rows omitted)"
      ]
     },
     "execution_count": 15,
     "metadata": {},
     "output_type": "execute_result"
    }
   ],
   "source": [
    "# Define a new table for condos with multiple sales. \n",
    "\n",
    "multi_sale_condos = multi_sale_condos.join('FULL ADDRESS', condos, 'FULL ADDRESS')\n",
    "multi_sale_condos.sort(0)"
   ]
  },
  {
   "cell_type": "code",
   "execution_count": 16,
   "metadata": {},
   "outputs": [
    {
     "data": {
      "text/html": [
       "<table border=\"1\" class=\"dataframe\">\n",
       "    <thead>\n",
       "        <tr>\n",
       "            <th>FULL ADDRESS</th> <th>SALE DATE min</th>\n",
       "        </tr>\n",
       "    </thead>\n",
       "    <tbody>\n",
       "        <tr>\n",
       "            <td>1 BOND STREET, 2B</td> <td>2004-08-04 00:00:00</td>\n",
       "        </tr>\n",
       "    </tbody>\n",
       "        <tr>\n",
       "            <td>1 BOND STREET, 2C</td> <td>2010-12-15 00:00:00</td>\n",
       "        </tr>\n",
       "    </tbody>\n",
       "        <tr>\n",
       "            <td>1 BOND STREET, 2D</td> <td>2009-04-24 00:00:00</td>\n",
       "        </tr>\n",
       "    </tbody>\n",
       "        <tr>\n",
       "            <td>1 BOND STREET, 3A</td> <td>2008-06-06 00:00:00</td>\n",
       "        </tr>\n",
       "    </tbody>\n",
       "        <tr>\n",
       "            <td>1 BOND STREET, 4D</td> <td>2006-08-30 00:00:00</td>\n",
       "        </tr>\n",
       "    </tbody>\n",
       "</table>\n",
       "<p>... (16348 rows omitted)</p>"
      ],
      "text/plain": [
       "<IPython.core.display.HTML object>"
      ]
     },
     "metadata": {},
     "output_type": "display_data"
    },
    {
     "data": {
      "text/html": [
       "<table border=\"1\" class=\"dataframe\">\n",
       "    <thead>\n",
       "        <tr>\n",
       "            <th>FULL ADDRESS</th> <th>SALE DATE max</th>\n",
       "        </tr>\n",
       "    </thead>\n",
       "    <tbody>\n",
       "        <tr>\n",
       "            <td>1 BOND STREET, 2B</td> <td>2009-08-20 00:00:00</td>\n",
       "        </tr>\n",
       "    </tbody>\n",
       "        <tr>\n",
       "            <td>1 BOND STREET, 2C</td> <td>2017-08-18 00:00:00</td>\n",
       "        </tr>\n",
       "    </tbody>\n",
       "        <tr>\n",
       "            <td>1 BOND STREET, 2D</td> <td>2014-01-07 00:00:00</td>\n",
       "        </tr>\n",
       "    </tbody>\n",
       "        <tr>\n",
       "            <td>1 BOND STREET, 3A</td> <td>2013-06-14 00:00:00</td>\n",
       "        </tr>\n",
       "    </tbody>\n",
       "        <tr>\n",
       "            <td>1 BOND STREET, 4D</td> <td>2013-08-20 00:00:00</td>\n",
       "        </tr>\n",
       "    </tbody>\n",
       "</table>\n",
       "<p>... (16348 rows omitted)</p>"
      ],
      "text/plain": [
       "<IPython.core.display.HTML object>"
      ]
     },
     "metadata": {},
     "output_type": "display_data"
    }
   ],
   "source": [
    "# Find the first and last Sale Dates\n",
    "\n",
    "first_sale_dates = multi_sale_condos.select(0, 2).group([0], min)\n",
    "last_sale_dates = multi_sale_condos.select(0, 2).group([0], max)\n",
    "\n",
    "# Spot check data\n",
    "first_sale_dates.show(5)\n",
    "last_sale_dates.show(5)"
   ]
  },
  {
   "cell_type": "code",
   "execution_count": 17,
   "metadata": {},
   "outputs": [],
   "source": [
    "# Update Labels\n",
    "\n",
    "first_sale_dates = first_sale_dates.relabel(1, 'FIRST SALE')\n",
    "last_sale_dates = last_sale_dates.relabel(1, 'LAST SALE')"
   ]
  },
  {
   "cell_type": "code",
   "execution_count": 18,
   "metadata": {},
   "outputs": [],
   "source": [
    "# Join with Condos to get the sale price\n",
    "first_sale_dates = first_sale_dates.join(\"FULL ADDRESS\", condos, 'FULL ADDRESS').where('SALE DATE', are.equal_to, 'FIRST SALE')\n",
    "first_sale_dates = first_sale_dates.select('FULL ADDRESS', 'FIRST SALE', 'SALE PRICE')\n",
    "\n",
    "\n",
    "last_sale_dates = last_sale_dates.join(\"FULL ADDRESS\", condos, 'FULL ADDRESS').where('SALE DATE', are.equal_to, 'LAST SALE')\n",
    "last_sale_dates = last_sale_dates.select('FULL ADDRESS', 'LAST SALE', 'SALE PRICE')"
   ]
  },
  {
   "cell_type": "code",
   "execution_count": 19,
   "metadata": {},
   "outputs": [
    {
     "data": {
      "text/html": [
       "<table border=\"1\" class=\"dataframe\">\n",
       "    <thead>\n",
       "        <tr>\n",
       "            <th>FULL ADDRESS</th> <th>FIRST SALE</th> <th>SALE PRICE</th>\n",
       "        </tr>\n",
       "    </thead>\n",
       "    <tbody>\n",
       "        <tr>\n",
       "            <td>1 BOND STREET, 2B</td> <td>2004-08-04 00:00:00</td> <td>31000     </td>\n",
       "        </tr>\n",
       "    </tbody>\n",
       "        <tr>\n",
       "            <td>1 BOND STREET, 2C</td> <td>2010-12-15 00:00:00</td> <td>600000    </td>\n",
       "        </tr>\n",
       "    </tbody>\n",
       "        <tr>\n",
       "            <td>1 BOND STREET, 2D</td> <td>2009-04-24 00:00:00</td> <td>1195000   </td>\n",
       "        </tr>\n",
       "    </tbody>\n",
       "        <tr>\n",
       "            <td>1 BOND STREET, 3A</td> <td>2008-06-06 00:00:00</td> <td>5030000   </td>\n",
       "        </tr>\n",
       "    </tbody>\n",
       "        <tr>\n",
       "            <td>1 BOND STREET, 4D</td> <td>2006-08-30 00:00:00</td> <td>1565000   </td>\n",
       "        </tr>\n",
       "    </tbody>\n",
       "</table>\n",
       "<p>... (17721 rows omitted)</p>"
      ],
      "text/plain": [
       "<IPython.core.display.HTML object>"
      ]
     },
     "metadata": {},
     "output_type": "display_data"
    },
    {
     "data": {
      "text/html": [
       "<table border=\"1\" class=\"dataframe\">\n",
       "    <thead>\n",
       "        <tr>\n",
       "            <th>FULL ADDRESS</th> <th>LAST SALE</th> <th>SALE PRICE</th>\n",
       "        </tr>\n",
       "    </thead>\n",
       "    <tbody>\n",
       "        <tr>\n",
       "            <td>1 BOND STREET, 2B</td> <td>2009-08-20 00:00:00</td> <td>1591000   </td>\n",
       "        </tr>\n",
       "    </tbody>\n",
       "        <tr>\n",
       "            <td>1 BOND STREET, 2C</td> <td>2017-08-18 00:00:00</td> <td>5640000   </td>\n",
       "        </tr>\n",
       "    </tbody>\n",
       "        <tr>\n",
       "            <td>1 BOND STREET, 2D</td> <td>2014-01-07 00:00:00</td> <td>1925000   </td>\n",
       "        </tr>\n",
       "    </tbody>\n",
       "        <tr>\n",
       "            <td>1 BOND STREET, 3A</td> <td>2013-06-14 00:00:00</td> <td>7200000   </td>\n",
       "        </tr>\n",
       "    </tbody>\n",
       "        <tr>\n",
       "            <td>1 BOND STREET, 4D</td> <td>2013-08-20 00:00:00</td> <td>2415000   </td>\n",
       "        </tr>\n",
       "    </tbody>\n",
       "</table>\n",
       "<p>... (18251 rows omitted)</p>"
      ],
      "text/plain": [
       "<IPython.core.display.HTML object>"
      ]
     },
     "metadata": {},
     "output_type": "display_data"
    }
   ],
   "source": [
    "first_sale_dates.show(5)\n",
    "last_sale_dates.show(5)\n",
    "\n",
    "# Hmm earlier we had 14387 now we have more and they don't match. Could we have duplicates??"
   ]
  },
  {
   "cell_type": "code",
   "execution_count": 20,
   "metadata": {},
   "outputs": [
    {
     "data": {
      "text/html": [
       "<table border=\"1\" class=\"dataframe\">\n",
       "    <thead>\n",
       "        <tr>\n",
       "            <th>FULL ADDRESS</th> <th>FIRST SALE</th> <th>count</th>\n",
       "        </tr>\n",
       "    </thead>\n",
       "    <tbody>\n",
       "        <tr>\n",
       "            <td>30 EAST 37TH   STREET, 7H </td> <td>2017-09-25 00:00:00</td> <td>4    </td>\n",
       "        </tr>\n",
       "    </tbody>\n",
       "        <tr>\n",
       "            <td>225 RECTOR PLACE, 6K      </td> <td>2017-12-15 00:00:00</td> <td>4    </td>\n",
       "        </tr>\n",
       "    </tbody>\n",
       "        <tr>\n",
       "            <td>2 EAST 55 STREET, 921     </td> <td>2006-08-22 00:00:00</td> <td>4    </td>\n",
       "        </tr>\n",
       "    </tbody>\n",
       "        <tr>\n",
       "            <td>201 WEST 17TH   STREET, 7A</td> <td>2014-03-31 00:00:00</td> <td>3    </td>\n",
       "        </tr>\n",
       "    </tbody>\n",
       "        <tr>\n",
       "            <td>131 BANK ST, 4            </td> <td>2004-07-01 00:00:00</td> <td>3    </td>\n",
       "        </tr>\n",
       "    </tbody>\n",
       "        <tr>\n",
       "            <td>99 JOHN STREET, 423       </td> <td>2013-11-21 00:00:00</td> <td>2    </td>\n",
       "        </tr>\n",
       "    </tbody>\n",
       "        <tr>\n",
       "            <td>99 BATTERY PLACE, 20-D    </td> <td>2017-12-15 00:00:00</td> <td>2    </td>\n",
       "        </tr>\n",
       "    </tbody>\n",
       "        <tr>\n",
       "            <td>959 FIRST AVENUE, 16B     </td> <td>2017-11-20 00:00:00</td> <td>2    </td>\n",
       "        </tr>\n",
       "    </tbody>\n",
       "        <tr>\n",
       "            <td>959 1ST AVENUE, 5F        </td> <td>2017-11-07 00:00:00</td> <td>2    </td>\n",
       "        </tr>\n",
       "    </tbody>\n",
       "        <tr>\n",
       "            <td>959 1ST AVENUE, 2B        </td> <td>2017-12-19 00:00:00</td> <td>2    </td>\n",
       "        </tr>\n",
       "    </tbody>\n",
       "</table>\n",
       "<p>... (16343 rows omitted)</p>"
      ],
      "text/plain": [
       "FULL ADDRESS               | FIRST SALE          | count\n",
       "30 EAST 37TH   STREET, 7H  | 2017-09-25 00:00:00 | 4\n",
       "225 RECTOR PLACE, 6K       | 2017-12-15 00:00:00 | 4\n",
       "2 EAST 55 STREET, 921      | 2006-08-22 00:00:00 | 4\n",
       "201 WEST 17TH   STREET, 7A | 2014-03-31 00:00:00 | 3\n",
       "131 BANK ST, 4             | 2004-07-01 00:00:00 | 3\n",
       "99 JOHN STREET, 423        | 2013-11-21 00:00:00 | 2\n",
       "99 BATTERY PLACE, 20-D     | 2017-12-15 00:00:00 | 2\n",
       "959 FIRST AVENUE, 16B      | 2017-11-20 00:00:00 | 2\n",
       "959 1ST AVENUE, 5F         | 2017-11-07 00:00:00 | 2\n",
       "959 1ST AVENUE, 2B         | 2017-12-19 00:00:00 | 2\n",
       "... (16343 rows omitted)"
      ]
     },
     "execution_count": 20,
     "metadata": {},
     "output_type": "execute_result"
    }
   ],
   "source": [
    "# Yep duplicate sales on the same day wtf!\n",
    "\n",
    "first_sale_dates.groups([0,1]).sort(2, descending=True)"
   ]
  },
  {
   "cell_type": "code",
   "execution_count": 21,
   "metadata": {},
   "outputs": [
    {
     "data": {
      "text/html": [
       "<table border=\"1\" class=\"dataframe\">\n",
       "    <thead>\n",
       "        <tr>\n",
       "            <th>SALE DATE</th> <th>SALE PRICE</th> <th>ADDRESS</th> <th>APARTMENT NUMBER</th> <th>YEAR BUILT</th> <th>NEIGHBORHOOD</th> <th>ZIP CODE</th> <th>BUILDING CLASS AT TIME OF SALE</th> <th>BUILDING CLASS CATEGORY</th> <th>FULL ADDRESS</th>\n",
       "        </tr>\n",
       "    </thead>\n",
       "    <tbody>\n",
       "        <tr>\n",
       "            <td>2006-10-09 00:00:00</td> <td>467251    </td> <td>2 EAST 55 STREET                         </td> <td>921             </td> <td>1903      </td> <td>MIDTOWN CBD              </td> <td>10022   </td> <td>R4                            </td> <td>13  CONDOS - ELEVATOR APARTMENTS            </td> <td>2 EAST 55 STREET, 921</td>\n",
       "        </tr>\n",
       "    </tbody>\n",
       "        <tr>\n",
       "            <td>2006-10-09 00:00:00</td> <td>403977    </td> <td>2 EAST 55 STREET                         </td> <td>921             </td> <td>1903      </td> <td>MIDTOWN CBD              </td> <td>10022   </td> <td>R4                            </td> <td>13  CONDOS - ELEVATOR APARTMENTS            </td> <td>2 EAST 55 STREET, 921</td>\n",
       "        </tr>\n",
       "    </tbody>\n",
       "        <tr>\n",
       "            <td>2006-09-05 00:00:00</td> <td>451230    </td> <td>2 EAST 55 STREET                         </td> <td>921             </td> <td>1903      </td> <td>MIDTOWN CBD              </td> <td>10022   </td> <td>R4                            </td> <td>13  CONDOS - ELEVATOR APARTMENTS            </td> <td>2 EAST 55 STREET, 921</td>\n",
       "        </tr>\n",
       "    </tbody>\n",
       "        <tr>\n",
       "            <td>2006-08-22 00:00:00</td> <td>486720    </td> <td>2 EAST 55 STREET                         </td> <td>921             </td> <td>1903      </td> <td>MIDTOWN CBD              </td> <td>10022   </td> <td>R4                            </td> <td>13  CONDOS - ELEVATOR APARTMENTS            </td> <td>2 EAST 55 STREET, 921</td>\n",
       "        </tr>\n",
       "    </tbody>\n",
       "        <tr>\n",
       "            <td>2006-08-22 00:00:00</td> <td>496860    </td> <td>2 EAST 55 STREET                         </td> <td>921             </td> <td>1903      </td> <td>MIDTOWN CBD              </td> <td>10022   </td> <td>R4                            </td> <td>13  CONDOS - ELEVATOR APARTMENTS            </td> <td>2 EAST 55 STREET, 921</td>\n",
       "        </tr>\n",
       "    </tbody>\n",
       "        <tr>\n",
       "            <td>2006-08-22 00:00:00</td> <td>486922    </td> <td>2 EAST 55 STREET                         </td> <td>921             </td> <td>1903      </td> <td>MIDTOWN CBD              </td> <td>10022   </td> <td>R4                            </td> <td>13  CONDOS - ELEVATOR APARTMENTS            </td> <td>2 EAST 55 STREET, 921</td>\n",
       "        </tr>\n",
       "    </tbody>\n",
       "        <tr>\n",
       "            <td>2006-08-22 00:00:00</td> <td>412393    </td> <td>2 EAST 55 STREET                         </td> <td>921             </td> <td>1903      </td> <td>MIDTOWN CBD              </td> <td>10022   </td> <td>R4                            </td> <td>13  CONDOS - ELEVATOR APARTMENTS            </td> <td>2 EAST 55 STREET, 921</td>\n",
       "        </tr>\n",
       "    </tbody>\n",
       "</table>"
      ],
      "text/plain": [
       "<IPython.core.display.HTML object>"
      ]
     },
     "metadata": {},
     "output_type": "display_data"
    },
    {
     "data": {
      "text/html": [
       "<table border=\"1\" class=\"dataframe\">\n",
       "    <thead>\n",
       "        <tr>\n",
       "            <th>FULL ADDRESS</th> <th>FIRST SALE</th> <th>SALE PRICE</th>\n",
       "        </tr>\n",
       "    </thead>\n",
       "    <tbody>\n",
       "        <tr>\n",
       "            <td>201 WEST 17TH   STREET, 7A</td> <td>2014-03-31 00:00:00</td> <td>999652    </td>\n",
       "        </tr>\n",
       "    </tbody>\n",
       "        <tr>\n",
       "            <td>201 WEST 17TH   STREET, 7A</td> <td>2014-03-31 00:00:00</td> <td>999652    </td>\n",
       "        </tr>\n",
       "    </tbody>\n",
       "        <tr>\n",
       "            <td>201 WEST 17TH   STREET, 7A</td> <td>2014-03-31 00:00:00</td> <td>999652    </td>\n",
       "        </tr>\n",
       "    </tbody>\n",
       "</table>"
      ],
      "text/plain": [
       "FULL ADDRESS               | FIRST SALE          | SALE PRICE\n",
       "201 WEST 17TH   STREET, 7A | 2014-03-31 00:00:00 | 999652\n",
       "201 WEST 17TH   STREET, 7A | 2014-03-31 00:00:00 | 999652\n",
       "201 WEST 17TH   STREET, 7A | 2014-03-31 00:00:00 | 999652"
      ]
     },
     "execution_count": 21,
     "metadata": {},
     "output_type": "execute_result"
    }
   ],
   "source": [
    "# Spot check some duplicate addresses to understand what's going on\n",
    "condos.where('FULL ADDRESS', are.equal_to('2 EAST 55 STREET, 921')).show()\n",
    "first_sale_dates.where('FULL ADDRESS', are.containing('201 WEST 17TH'))"
   ]
  },
  {
   "cell_type": "code",
   "execution_count": 22,
   "metadata": {},
   "outputs": [],
   "source": [
    "# ok let's just take the corresponding min and max value to keep moving along\n",
    "\n",
    "first_sale_dates = first_sale_dates.group([0,1], min)\n",
    "last_sale_dates = last_sale_dates.group([0,1], max)"
   ]
  },
  {
   "cell_type": "code",
   "execution_count": 23,
   "metadata": {},
   "outputs": [
    {
     "data": {
      "text/html": [
       "<table border=\"1\" class=\"dataframe\">\n",
       "    <thead>\n",
       "        <tr>\n",
       "            <th>FULL ADDRESS</th> <th>FIRST SALE</th> <th>FIRST PRICE</th> <th>LAST SALE</th> <th>LAST PRICE</th>\n",
       "        </tr>\n",
       "    </thead>\n",
       "    <tbody>\n",
       "        <tr>\n",
       "            <td>1 BOND STREET, 2B         </td> <td>2004-08-04 00:00:00</td> <td>31000      </td> <td>2009-08-20 00:00:00</td> <td>1591000   </td>\n",
       "        </tr>\n",
       "    </tbody>\n",
       "        <tr>\n",
       "            <td>1 BOND STREET, 2C         </td> <td>2010-12-15 00:00:00</td> <td>600000     </td> <td>2017-08-18 00:00:00</td> <td>5640000   </td>\n",
       "        </tr>\n",
       "    </tbody>\n",
       "        <tr>\n",
       "            <td>1 BOND STREET, 2D         </td> <td>2009-04-24 00:00:00</td> <td>1195000    </td> <td>2014-01-07 00:00:00</td> <td>1925000   </td>\n",
       "        </tr>\n",
       "    </tbody>\n",
       "        <tr>\n",
       "            <td>1 BOND STREET, 3A         </td> <td>2008-06-06 00:00:00</td> <td>5030000    </td> <td>2013-06-14 00:00:00</td> <td>7200000   </td>\n",
       "        </tr>\n",
       "    </tbody>\n",
       "        <tr>\n",
       "            <td>1 BOND STREET, 4D         </td> <td>2006-08-30 00:00:00</td> <td>1565000    </td> <td>2013-08-20 00:00:00</td> <td>2415000   </td>\n",
       "        </tr>\n",
       "    </tbody>\n",
       "        <tr>\n",
       "            <td>1 BOND STREET, 6A         </td> <td>2012-12-12 00:00:00</td> <td>3600000    </td> <td>2017-09-06 00:00:00</td> <td>5250000   </td>\n",
       "        </tr>\n",
       "    </tbody>\n",
       "        <tr>\n",
       "            <td>1 BOND STREET, 6B         </td> <td>2004-12-01 00:00:00</td> <td>2996000    </td> <td>2016-05-20 00:00:00</td> <td>4350000   </td>\n",
       "        </tr>\n",
       "    </tbody>\n",
       "        <tr>\n",
       "            <td>1 CENTRAL PARK SOUTH, 2002</td> <td>2010-12-01 00:00:00</td> <td>4600000    </td> <td>2018-06-22 00:00:00</td> <td>4750000   </td>\n",
       "        </tr>\n",
       "    </tbody>\n",
       "        <tr>\n",
       "            <td>1 CENTRAL PARK SOUTH, 503 </td> <td>2012-12-18 00:00:00</td> <td>7995000    </td> <td>2017-02-24 00:00:00</td> <td>10150000  </td>\n",
       "        </tr>\n",
       "    </tbody>\n",
       "        <tr>\n",
       "            <td>1 CENTRAL PARK WEST, 23B  </td> <td>2008-04-03 00:00:00</td> <td>5580000    </td> <td>2012-06-28 00:00:00</td> <td>6200000   </td>\n",
       "        </tr>\n",
       "    </tbody>\n",
       "</table>\n",
       "<p>... (16343 rows omitted)</p>"
      ],
      "text/plain": [
       "FULL ADDRESS               | FIRST SALE          | FIRST PRICE | LAST SALE           | LAST PRICE\n",
       "1 BOND STREET, 2B          | 2004-08-04 00:00:00 | 31000       | 2009-08-20 00:00:00 | 1591000\n",
       "1 BOND STREET, 2C          | 2010-12-15 00:00:00 | 600000      | 2017-08-18 00:00:00 | 5640000\n",
       "1 BOND STREET, 2D          | 2009-04-24 00:00:00 | 1195000     | 2014-01-07 00:00:00 | 1925000\n",
       "1 BOND STREET, 3A          | 2008-06-06 00:00:00 | 5030000     | 2013-06-14 00:00:00 | 7200000\n",
       "1 BOND STREET, 4D          | 2006-08-30 00:00:00 | 1565000     | 2013-08-20 00:00:00 | 2415000\n",
       "1 BOND STREET, 6A          | 2012-12-12 00:00:00 | 3600000     | 2017-09-06 00:00:00 | 5250000\n",
       "1 BOND STREET, 6B          | 2004-12-01 00:00:00 | 2996000     | 2016-05-20 00:00:00 | 4350000\n",
       "1 CENTRAL PARK SOUTH, 2002 | 2010-12-01 00:00:00 | 4600000     | 2018-06-22 00:00:00 | 4750000\n",
       "1 CENTRAL PARK SOUTH, 503  | 2012-12-18 00:00:00 | 7995000     | 2017-02-24 00:00:00 | 10150000\n",
       "1 CENTRAL PARK WEST, 23B   | 2008-04-03 00:00:00 | 5580000     | 2012-06-28 00:00:00 | 6200000\n",
       "... (16343 rows omitted)"
      ]
     },
     "execution_count": 23,
     "metadata": {},
     "output_type": "execute_result"
    }
   ],
   "source": [
    "# Relabel and join the first and last sale tables to create a new condo sales table\n",
    "\n",
    "first_sale_dates = first_sale_dates.relabel(2, 'FIRST PRICE')\n",
    "last_sale_dates = last_sale_dates.relabel(2, 'LAST PRICE')\n",
    "\n",
    "\n",
    "condo_sales = first_sale_dates.join('FULL ADDRESS', last_sale_dates, 'FULL ADDRESS')\n",
    "condo_sales"
   ]
  },
  {
   "cell_type": "code",
   "execution_count": 24,
   "metadata": {},
   "outputs": [
    {
     "data": {
      "text/html": [
       "<table border=\"1\" class=\"dataframe\">\n",
       "    <thead>\n",
       "        <tr>\n",
       "            <th>FULL ADDRESS</th> <th>FIRST SALE</th> <th>FIRST PRICE</th> <th>LAST SALE</th> <th>LAST PRICE</th> <th>PRICE CHANGE</th> <th>PERIOD</th>\n",
       "        </tr>\n",
       "    </thead>\n",
       "    <tbody>\n",
       "        <tr>\n",
       "            <td>1 BOND STREET, 2B         </td> <td>2004-08-04 00:00:00</td> <td>31000      </td> <td>2009-08-20 00:00:00</td> <td>1591000   </td> <td>1,560,000   </td> <td>1842 days, 0:00:00</td>\n",
       "        </tr>\n",
       "    </tbody>\n",
       "        <tr>\n",
       "            <td>1 BOND STREET, 2C         </td> <td>2010-12-15 00:00:00</td> <td>600000     </td> <td>2017-08-18 00:00:00</td> <td>5640000   </td> <td>5,040,000   </td> <td>2438 days, 0:00:00</td>\n",
       "        </tr>\n",
       "    </tbody>\n",
       "        <tr>\n",
       "            <td>1 BOND STREET, 2D         </td> <td>2009-04-24 00:00:00</td> <td>1195000    </td> <td>2014-01-07 00:00:00</td> <td>1925000   </td> <td>730,000     </td> <td>1719 days, 0:00:00</td>\n",
       "        </tr>\n",
       "    </tbody>\n",
       "        <tr>\n",
       "            <td>1 BOND STREET, 3A         </td> <td>2008-06-06 00:00:00</td> <td>5030000    </td> <td>2013-06-14 00:00:00</td> <td>7200000   </td> <td>2,170,000   </td> <td>1834 days, 0:00:00</td>\n",
       "        </tr>\n",
       "    </tbody>\n",
       "        <tr>\n",
       "            <td>1 BOND STREET, 4D         </td> <td>2006-08-30 00:00:00</td> <td>1565000    </td> <td>2013-08-20 00:00:00</td> <td>2415000   </td> <td>850,000     </td> <td>2547 days, 0:00:00</td>\n",
       "        </tr>\n",
       "    </tbody>\n",
       "        <tr>\n",
       "            <td>1 BOND STREET, 6A         </td> <td>2012-12-12 00:00:00</td> <td>3600000    </td> <td>2017-09-06 00:00:00</td> <td>5250000   </td> <td>1,650,000   </td> <td>1729 days, 0:00:00</td>\n",
       "        </tr>\n",
       "    </tbody>\n",
       "        <tr>\n",
       "            <td>1 BOND STREET, 6B         </td> <td>2004-12-01 00:00:00</td> <td>2996000    </td> <td>2016-05-20 00:00:00</td> <td>4350000   </td> <td>1,354,000   </td> <td>4188 days, 0:00:00</td>\n",
       "        </tr>\n",
       "    </tbody>\n",
       "        <tr>\n",
       "            <td>1 CENTRAL PARK SOUTH, 2002</td> <td>2010-12-01 00:00:00</td> <td>4600000    </td> <td>2018-06-22 00:00:00</td> <td>4750000   </td> <td>150,000     </td> <td>2760 days, 0:00:00</td>\n",
       "        </tr>\n",
       "    </tbody>\n",
       "        <tr>\n",
       "            <td>1 CENTRAL PARK SOUTH, 503 </td> <td>2012-12-18 00:00:00</td> <td>7995000    </td> <td>2017-02-24 00:00:00</td> <td>10150000  </td> <td>2,155,000   </td> <td>1529 days, 0:00:00</td>\n",
       "        </tr>\n",
       "    </tbody>\n",
       "        <tr>\n",
       "            <td>1 CENTRAL PARK WEST, 23B  </td> <td>2008-04-03 00:00:00</td> <td>5580000    </td> <td>2012-06-28 00:00:00</td> <td>6200000   </td> <td>620,000     </td> <td>1547 days, 0:00:00</td>\n",
       "        </tr>\n",
       "    </tbody>\n",
       "</table>\n",
       "<p>... (16343 rows omitted)</p>"
      ],
      "text/plain": [
       "FULL ADDRESS               | FIRST SALE          | FIRST PRICE | LAST SALE           | LAST PRICE | PRICE CHANGE | PERIOD\n",
       "1 BOND STREET, 2B          | 2004-08-04 00:00:00 | 31000       | 2009-08-20 00:00:00 | 1591000    | 1,560,000    | 1842 days, 0:00:00\n",
       "1 BOND STREET, 2C          | 2010-12-15 00:00:00 | 600000      | 2017-08-18 00:00:00 | 5640000    | 5,040,000    | 2438 days, 0:00:00\n",
       "1 BOND STREET, 2D          | 2009-04-24 00:00:00 | 1195000     | 2014-01-07 00:00:00 | 1925000    | 730,000      | 1719 days, 0:00:00\n",
       "1 BOND STREET, 3A          | 2008-06-06 00:00:00 | 5030000     | 2013-06-14 00:00:00 | 7200000    | 2,170,000    | 1834 days, 0:00:00\n",
       "1 BOND STREET, 4D          | 2006-08-30 00:00:00 | 1565000     | 2013-08-20 00:00:00 | 2415000    | 850,000      | 2547 days, 0:00:00\n",
       "1 BOND STREET, 6A          | 2012-12-12 00:00:00 | 3600000     | 2017-09-06 00:00:00 | 5250000    | 1,650,000    | 1729 days, 0:00:00\n",
       "1 BOND STREET, 6B          | 2004-12-01 00:00:00 | 2996000     | 2016-05-20 00:00:00 | 4350000    | 1,354,000    | 4188 days, 0:00:00\n",
       "1 CENTRAL PARK SOUTH, 2002 | 2010-12-01 00:00:00 | 4600000     | 2018-06-22 00:00:00 | 4750000    | 150,000      | 2760 days, 0:00:00\n",
       "1 CENTRAL PARK SOUTH, 503  | 2012-12-18 00:00:00 | 7995000     | 2017-02-24 00:00:00 | 10150000   | 2,155,000    | 1529 days, 0:00:00\n",
       "1 CENTRAL PARK WEST, 23B   | 2008-04-03 00:00:00 | 5580000     | 2012-06-28 00:00:00 | 6200000    | 620,000      | 1547 days, 0:00:00\n",
       "... (16343 rows omitted)"
      ]
     },
     "execution_count": 24,
     "metadata": {},
     "output_type": "execute_result"
    }
   ],
   "source": [
    "# Calculate Price Diffs\n",
    "\n",
    "price_diffs = condo_sales.column('LAST PRICE') - condo_sales.column('FIRST PRICE')\n",
    "date_diffs = condo_sales.column('LAST SALE') - condo_sales.column('FIRST SALE')\n",
    "\n",
    "condo_sales = condo_sales.with_column( \"PRICE CHANGE\", price_diffs, \"PERIOD\", date_diffs)\n",
    "condo_sales.set_format('PRICE CHANGE', NumberFormatter())"
   ]
  },
  {
   "cell_type": "code",
   "execution_count": 25,
   "metadata": {},
   "outputs": [
    {
     "name": "stdout",
     "output_type": "stream",
     "text": [
      "Avg: 381770.5211887727 \n",
      "Std: 2508099.3864181554 \n",
      "Min: -183014844 \n",
      "Max: 44312249\n",
      " 5%: -153910 \n",
      "95%: 1846325\n",
      " 1%: -1401211 \n",
      "99%: 5060430\n"
     ]
    },
    {
     "name": "stderr",
     "output_type": "stream",
     "text": [
      "/usr/local/lib/python3.6/site-packages/matplotlib/axes/_axes.py:6462: UserWarning: The 'normed' kwarg is deprecated, and has been replaced by the 'density' kwarg.\n",
      "  warnings.warn(\"The 'normed' kwarg is deprecated, and has been \"\n"
     ]
    },
    {
     "data": {
      "image/png": "[encoded data removed]",
      "text/plain": [
       "<Figure size 432x288 with 1 Axes>"
      ]
     },
     "metadata": {},
     "output_type": "display_data"
    }
   ],
   "source": [
    "# Understand price difference data\n",
    "def column_stats( data ):\n",
    "    '''Prints common stats for a data array'''\n",
    "    data_mean = np.mean(data)\n",
    "    data_std = np.std(data)\n",
    "    data_min = min(data)\n",
    "    data_max = max(data)\n",
    "\n",
    "    percent_5 = percentile(5, data)\n",
    "    percent_95 = percentile(95, data)\n",
    "    percent_1 = percentile(1, data)\n",
    "    percent_99 = percentile(99, data)\n",
    "\n",
    "    print(\"Avg:\", data_mean, \"\\nStd:\", data_std, \"\\nMin:\", data_min, \"\\nMax:\", data_max)\n",
    "    print(\" 5%:\", percent_5, \"\\n95%:\", percent_95)\n",
    "    print(\" 1%:\", percent_1, \"\\n99%:\", percent_99)\n",
    "\n",
    "    Table().with_column('DATA', data).hist()\n",
    "\n",
    "column_stats(price_diffs)\n",
    "\n"
   ]
  },
  {
   "cell_type": "code",
   "execution_count": 26,
   "metadata": {},
   "outputs": [
    {
     "data": {
      "text/html": [
       "<table border=\"1\" class=\"dataframe\">\n",
       "    <thead>\n",
       "        <tr>\n",
       "            <th>FULL ADDRESS</th> <th>FIRST SALE</th> <th>FIRST PRICE</th> <th>LAST SALE</th> <th>LAST PRICE</th> <th>PRICE CHANGE</th> <th>PERIOD</th>\n",
       "        </tr>\n",
       "    </thead>\n",
       "    <tbody>\n",
       "        <tr>\n",
       "            <td>15 WILLIAM STREET, 3M       </td> <td>2010-12-01 00:00:00</td> <td>184414937  </td> <td>2011-12-22 00:00:00</td> <td>1400093   </td> <td>-183,014,844</td> <td>386 days, 0:00:00 </td>\n",
       "        </tr>\n",
       "    </tbody>\n",
       "        <tr>\n",
       "            <td>421 HUDSON STREET, 201      </td> <td>2012-01-18 00:00:00</td> <td>67602825   </td> <td>2018-04-23 00:00:00</td> <td>1990000   </td> <td>-65,612,825 </td> <td>2287 days, 0:00:00</td>\n",
       "        </tr>\n",
       "    </tbody>\n",
       "        <tr>\n",
       "            <td>322 WEST 57TH   STREET, 15B1</td> <td>2009-08-06 00:00:00</td> <td>53268315   </td> <td>2011-10-13 00:00:00</td> <td>1934675   </td> <td>-51,333,640 </td> <td>798 days, 0:00:00 </td>\n",
       "        </tr>\n",
       "    </tbody>\n",
       "        <tr>\n",
       "            <td>25 MURRAY STREET, LLA       </td> <td>2008-05-07 00:00:00</td> <td>40000000   </td> <td>2008-08-13 00:00:00</td> <td>304200    </td> <td>-39,695,800 </td> <td>98 days, 0:00:00  </td>\n",
       "        </tr>\n",
       "    </tbody>\n",
       "        <tr>\n",
       "            <td>25 MURRAY STREET, 2D        </td> <td>2008-06-17 00:00:00</td> <td>32800000   </td> <td>2008-07-23 00:00:00</td> <td>1349181   </td> <td>-31,450,819 </td> <td>36 days, 0:00:00  </td>\n",
       "        </tr>\n",
       "    </tbody>\n",
       "        <tr>\n",
       "            <td>203 WEST 90 STREET, 7C      </td> <td>2003-01-24 00:00:00</td> <td>32000000   </td> <td>2003-03-13 00:00:00</td> <td>648310    </td> <td>-31,351,690 </td> <td>48 days, 0:00:00  </td>\n",
       "        </tr>\n",
       "    </tbody>\n",
       "        <tr>\n",
       "            <td>220 EAST 65 STREET, 2K      </td> <td>2004-03-11 00:00:00</td> <td>25750000   </td> <td>2004-05-06 00:00:00</td> <td>393432    </td> <td>-25,356,568 </td> <td>56 days, 0:00:00  </td>\n",
       "        </tr>\n",
       "    </tbody>\n",
       "        <tr>\n",
       "            <td>220 EAST 65 STREET, 7D      </td> <td>2004-03-11 00:00:00</td> <td>25750000   </td> <td>2004-11-08 00:00:00</td> <td>395460    </td> <td>-25,354,540 </td> <td>242 days, 0:00:00 </td>\n",
       "        </tr>\n",
       "    </tbody>\n",
       "        <tr>\n",
       "            <td>220 EAST 65 STREET, 3A/B    </td> <td>2004-03-11 00:00:00</td> <td>25750000   </td> <td>2004-04-15 00:00:00</td> <td>415740    </td> <td>-25,334,260 </td> <td>35 days, 0:00:00  </td>\n",
       "        </tr>\n",
       "    </tbody>\n",
       "        <tr>\n",
       "            <td>220 EAST 65 STREET, 2N      </td> <td>2004-03-11 00:00:00</td> <td>25750000   </td> <td>2004-06-15 00:00:00</td> <td>420810    </td> <td>-25,329,190 </td> <td>96 days, 0:00:00  </td>\n",
       "        </tr>\n",
       "    </tbody>\n",
       "        <tr>\n",
       "            <td>220 EAST 65 STREET, 10F     </td> <td>2004-03-11 00:00:00</td> <td>25750000   </td> <td>2004-04-02 00:00:00</td> <td>439000    </td> <td>-25,311,000 </td> <td>22 days, 0:00:00  </td>\n",
       "        </tr>\n",
       "    </tbody>\n",
       "        <tr>\n",
       "            <td>220 EAST 65 STREET, 19A     </td> <td>2004-03-11 00:00:00</td> <td>25750000   </td> <td>2004-04-15 00:00:00</td> <td>461370    </td> <td>-25,288,630 </td> <td>35 days, 0:00:00  </td>\n",
       "        </tr>\n",
       "    </tbody>\n",
       "        <tr>\n",
       "            <td>220 EAST 65 STREET, 10A     </td> <td>2004-03-11 00:00:00</td> <td>25750000   </td> <td>2004-06-01 00:00:00</td> <td>520000    </td> <td>-25,230,000 </td> <td>82 days, 0:00:00  </td>\n",
       "        </tr>\n",
       "    </tbody>\n",
       "        <tr>\n",
       "            <td>220 EAST 65 STREET, 2A      </td> <td>2004-03-11 00:00:00</td> <td>25750000   </td> <td>2004-10-05 00:00:00</td> <td>524398    </td> <td>-25,225,602 </td> <td>208 days, 0:00:00 </td>\n",
       "        </tr>\n",
       "    </tbody>\n",
       "        <tr>\n",
       "            <td>220 EAST 65 STREET, 24A     </td> <td>2004-03-11 00:00:00</td> <td>25750000   </td> <td>2004-05-18 00:00:00</td> <td>538299    </td> <td>-25,211,701 </td> <td>68 days, 0:00:00  </td>\n",
       "        </tr>\n",
       "    </tbody>\n",
       "        <tr>\n",
       "            <td>220 EAST 65 STREET, 3D      </td> <td>2004-03-11 00:00:00</td> <td>25750000   </td> <td>2004-05-07 00:00:00</td> <td>539673    </td> <td>-25,210,327 </td> <td>57 days, 0:00:00  </td>\n",
       "        </tr>\n",
       "    </tbody>\n",
       "        <tr>\n",
       "            <td>220 EAST 65 STREET, 3F      </td> <td>2004-03-11 00:00:00</td> <td>25750000   </td> <td>2004-06-29 00:00:00</td> <td>544764    </td> <td>-25,205,236 </td> <td>110 days, 0:00:00 </td>\n",
       "        </tr>\n",
       "    </tbody>\n",
       "        <tr>\n",
       "            <td>220 EAST 65 STREET, 6D      </td> <td>2004-03-11 00:00:00</td> <td>25750000   </td> <td>2004-06-03 00:00:00</td> <td>549855    </td> <td>-25,200,145 </td> <td>84 days, 0:00:00  </td>\n",
       "        </tr>\n",
       "    </tbody>\n",
       "        <tr>\n",
       "            <td>220 EAST 65 STREET, 5F      </td> <td>2004-03-11 00:00:00</td> <td>25750000   </td> <td>2004-06-18 00:00:00</td> <td>565129    </td> <td>-25,184,871 </td> <td>99 days, 0:00:00  </td>\n",
       "        </tr>\n",
       "    </tbody>\n",
       "        <tr>\n",
       "            <td>220 EAST 65 STREET, 11F     </td> <td>2004-03-11 00:00:00</td> <td>25750000   </td> <td>2004-04-09 00:00:00</td> <td>570220    </td> <td>-25,179,780 </td> <td>29 days, 0:00:00  </td>\n",
       "        </tr>\n",
       "    </tbody>\n",
       "</table>\n",
       "<p>... (16333 rows omitted)</p>"
      ],
      "text/plain": [
       "<IPython.core.display.HTML object>"
      ]
     },
     "metadata": {},
     "output_type": "display_data"
    },
    {
     "name": "stderr",
     "output_type": "stream",
     "text": [
      "/usr/local/lib/python3.6/site-packages/matplotlib/axes/_axes.py:6462: UserWarning: The 'normed' kwarg is deprecated, and has been replaced by the 'density' kwarg.\n",
      "  warnings.warn(\"The 'normed' kwarg is deprecated, and has been \"\n"
     ]
    },
    {
     "data": {
      "image/png": "[encoded data removed]",
      "text/plain": [
       "<Figure size 432x288 with 1 Axes>"
      ]
     },
     "metadata": {},
     "output_type": "display_data"
    }
   ],
   "source": [
    "condo_sales.sort('PRICE CHANGE').show(20)\n",
    "\n",
    "condo_sales.select('PRICE CHANGE').hist()"
   ]
  },
  {
   "cell_type": "code",
   "execution_count": 27,
   "metadata": {},
   "outputs": [],
   "source": [
    "# strip out the outliers for now. \n",
    "percent_1 = percentile(1, price_diffs)\n",
    "percent_99 = percentile(99, price_diffs)\n",
    "\n",
    "condo_sales = condo_sales.where('PRICE CHANGE', are.between(percent_1, percent_99))\n"
   ]
  },
  {
   "cell_type": "code",
   "execution_count": 28,
   "metadata": {},
   "outputs": [
    {
     "name": "stdout",
     "output_type": "stream",
     "text": [
      "Avg: 381770.5211887727 \n",
      "Std: 2508099.3864181554 \n",
      "Min: -183014844 \n",
      "Max: 44312249\n",
      " 5%: -153910 \n",
      "95%: 1846325\n",
      " 1%: -1401211 \n",
      "99%: 5060430\n",
      "------\n",
      "Avg: 415531.6870710096 \n",
      "Std: 666225.3104342404 \n",
      "Min: -1401211 \n",
      "Max: 5051231\n",
      " 5%: -116804 \n",
      "95%: 1660201\n",
      " 1%: -560772 \n",
      "99%: 3408872\n"
     ]
    },
    {
     "name": "stderr",
     "output_type": "stream",
     "text": [
      "/usr/local/lib/python3.6/site-packages/matplotlib/axes/_axes.py:6462: UserWarning: The 'normed' kwarg is deprecated, and has been replaced by the 'density' kwarg.\n",
      "  warnings.warn(\"The 'normed' kwarg is deprecated, and has been \"\n"
     ]
    },
    {
     "data": {
      "image/png": "[encoded data removed]",
      "text/plain": [
       "<Figure size 432x288 with 1 Axes>"
      ]
     },
     "metadata": {},
     "output_type": "display_data"
    },
    {
     "data": {
      "image/png": "[encoded data removed]",
      "text/plain": [
       "<Figure size 432x288 with 1 Axes>"
      ]
     },
     "metadata": {},
     "output_type": "display_data"
    }
   ],
   "source": [
    "# understand the Price stats with the outliers removed. \n",
    "\n",
    "column_stats(price_diffs)\n",
    "\n",
    "print(\"------\")\n",
    "\n",
    "column_stats(condo_sales.column('PRICE CHANGE'))"
   ]
  },
  {
   "cell_type": "code",
   "execution_count": 29,
   "metadata": {},
   "outputs": [
    {
     "data": {
      "text/html": [
       "<table border=\"1\" class=\"dataframe\">\n",
       "    <thead>\n",
       "        <tr>\n",
       "            <th>FULL ADDRESS</th> <th>FIRST SALE</th> <th>FIRST PRICE</th> <th>LAST SALE</th> <th>LAST PRICE</th> <th>PRICE CHANGE</th> <th>PERIOD</th>\n",
       "        </tr>\n",
       "    </thead>\n",
       "    <tbody>\n",
       "        <tr>\n",
       "            <td>1 IRVING PLACE, G27B      </td> <td>2017-12-14 00:00:00</td> <td>1950000    </td> <td>2017-12-14 00:00:00</td> <td>1950000   </td> <td>0           </td> <td>0:00:00</td>\n",
       "        </tr>\n",
       "    </tbody>\n",
       "        <tr>\n",
       "            <td>1 IRVING PLACE, G9B       </td> <td>2017-12-14 00:00:00</td> <td>1362500    </td> <td>2017-12-14 00:00:00</td> <td>1362500   </td> <td>0           </td> <td>0:00:00</td>\n",
       "        </tr>\n",
       "    </tbody>\n",
       "        <tr>\n",
       "            <td>1 MOUNT MORRIS PARK WE, 1C</td> <td>2017-09-26 00:00:00</td> <td>1227000    </td> <td>2017-09-26 00:00:00</td> <td>1227000   </td> <td>0           </td> <td>0:00:00</td>\n",
       "        </tr>\n",
       "    </tbody>\n",
       "        <tr>\n",
       "            <td>1 RIVER TERRACE, 4S       </td> <td>2017-12-06 00:00:00</td> <td>2790000    </td> <td>2017-12-06 00:00:00</td> <td>2790000   </td> <td>0           </td> <td>0:00:00</td>\n",
       "        </tr>\n",
       "    </tbody>\n",
       "        <tr>\n",
       "            <td>1 WALL STREET COURT, 201  </td> <td>2017-09-13 00:00:00</td> <td>1160000    </td> <td>2017-09-13 00:00:00</td> <td>1160000   </td> <td>0           </td> <td>0:00:00</td>\n",
       "        </tr>\n",
       "    </tbody>\n",
       "        <tr>\n",
       "            <td>10 LITTLE WEST STREET, 24E</td> <td>2017-11-14 00:00:00</td> <td>2700000    </td> <td>2017-11-14 00:00:00</td> <td>2700000   </td> <td>0           </td> <td>0:00:00</td>\n",
       "        </tr>\n",
       "    </tbody>\n",
       "        <tr>\n",
       "            <td>10 MADISON SQUARE WEST, 4F</td> <td>2017-12-18 00:00:00</td> <td>6950000    </td> <td>2017-12-18 00:00:00</td> <td>6950000   </td> <td>0           </td> <td>0:00:00</td>\n",
       "        </tr>\n",
       "    </tbody>\n",
       "        <tr>\n",
       "            <td>100 11TH AVENUE, 12B      </td> <td>2017-12-15 00:00:00</td> <td>4300000    </td> <td>2017-12-15 00:00:00</td> <td>4300000   </td> <td>0           </td> <td>0:00:00</td>\n",
       "        </tr>\n",
       "    </tbody>\n",
       "        <tr>\n",
       "            <td>100 CENTRAL PARK SOUTH, 4B</td> <td>2017-11-14 00:00:00</td> <td>2350000    </td> <td>2017-11-14 00:00:00</td> <td>2350000   </td> <td>0           </td> <td>0:00:00</td>\n",
       "        </tr>\n",
       "    </tbody>\n",
       "        <tr>\n",
       "            <td>100 CENTRAL PARK SOUTH, 6A</td> <td>2017-12-14 00:00:00</td> <td>2025000    </td> <td>2017-12-14 00:00:00</td> <td>2025000   </td> <td>0           </td> <td>0:00:00</td>\n",
       "        </tr>\n",
       "    </tbody>\n",
       "</table>\n",
       "<p>... (1259 rows omitted)</p>"
      ],
      "text/plain": [
       "FULL ADDRESS               | FIRST SALE          | FIRST PRICE | LAST SALE           | LAST PRICE | PRICE CHANGE | PERIOD\n",
       "1 IRVING PLACE, G27B       | 2017-12-14 00:00:00 | 1950000     | 2017-12-14 00:00:00 | 1950000    | 0            | 0:00:00\n",
       "1 IRVING PLACE, G9B        | 2017-12-14 00:00:00 | 1362500     | 2017-12-14 00:00:00 | 1362500    | 0            | 0:00:00\n",
       "1 MOUNT MORRIS PARK WE, 1C | 2017-09-26 00:00:00 | 1227000     | 2017-09-26 00:00:00 | 1227000    | 0            | 0:00:00\n",
       "1 RIVER TERRACE, 4S        | 2017-12-06 00:00:00 | 2790000     | 2017-12-06 00:00:00 | 2790000    | 0            | 0:00:00\n",
       "1 WALL STREET COURT, 201   | 2017-09-13 00:00:00 | 1160000     | 2017-09-13 00:00:00 | 1160000    | 0            | 0:00:00\n",
       "10 LITTLE WEST STREET, 24E | 2017-11-14 00:00:00 | 2700000     | 2017-11-14 00:00:00 | 2700000    | 0            | 0:00:00\n",
       "10 MADISON SQUARE WEST, 4F | 2017-12-18 00:00:00 | 6950000     | 2017-12-18 00:00:00 | 6950000    | 0            | 0:00:00\n",
       "100 11TH AVENUE, 12B       | 2017-12-15 00:00:00 | 4300000     | 2017-12-15 00:00:00 | 4300000    | 0            | 0:00:00\n",
       "100 CENTRAL PARK SOUTH, 4B | 2017-11-14 00:00:00 | 2350000     | 2017-11-14 00:00:00 | 2350000    | 0            | 0:00:00\n",
       "100 CENTRAL PARK SOUTH, 6A | 2017-12-14 00:00:00 | 2025000     | 2017-12-14 00:00:00 | 2025000    | 0            | 0:00:00\n",
       "... (1259 rows omitted)"
      ]
     },
     "execution_count": 29,
     "metadata": {},
     "output_type": "execute_result"
    }
   ],
   "source": [
    "# Some sales are on recorded twice for the same date!\n",
    "COL_FIRST_SALE_DATE = 'FIRST SALE'\n",
    "COL_LAST_SALE_DATE = 'LAST SALE'\n",
    "COL_FIRST_SALE_PRICE = 'FIRST PRICE'\n",
    "COL_LAST_SALE_PRICE = 'LAST PRICE'\n",
    "COL_FULL_ADDRESS = 'FULL ADDRESS'\n",
    "COL_PRICE_CHANGE = 'PRICE CHANGE'\n",
    "COL_PERIOD = 'PERIOD'\n",
    "\n",
    "condo_sales.where( COL_FIRST_SALE_DATE, are.equal_to, COL_LAST_SALE_DATE )\n",
    "\n"
   ]
  },
  {
   "cell_type": "code",
   "execution_count": 30,
   "metadata": {},
   "outputs": [
    {
     "data": {
      "text/html": [
       "<table border=\"1\" class=\"dataframe\">\n",
       "    <thead>\n",
       "        <tr>\n",
       "            <th>SALE DATE</th> <th>SALE PRICE</th> <th>ADDRESS</th> <th>APARTMENT NUMBER</th> <th>YEAR BUILT</th> <th>NEIGHBORHOOD</th> <th>ZIP CODE</th> <th>BUILDING CLASS AT TIME OF SALE</th> <th>BUILDING CLASS CATEGORY</th> <th>FULL ADDRESS</th>\n",
       "        </tr>\n",
       "    </thead>\n",
       "    <tbody>\n",
       "        <tr>\n",
       "            <td>2016-02-05 00:00:00</td> <td>2925000   </td> <td>101 LEONARD STREET                       </td> <td>3D              </td> <td>1920      </td> <td>CHINATOWN                </td> <td>10013   </td> <td>R4                            </td> <td>13  CONDOS - ELEVATOR APARTMENTS            </td> <td>101 LEONARD STREET, 3D</td>\n",
       "        </tr>\n",
       "    </tbody>\n",
       "        <tr>\n",
       "            <td>2016-02-05 00:00:00</td> <td>1812000   </td> <td>101 LEONARD STREET                       </td> <td>3D              </td> <td>1920      </td> <td>CHINATOWN                </td> <td>10013   </td> <td>R4                            </td> <td>13  CONDOS - ELEVATOR APARTMENTS            </td> <td>101 LEONARD STREET, 3D</td>\n",
       "        </tr>\n",
       "    </tbody>\n",
       "</table>"
      ],
      "text/plain": [
       "SALE DATE           | SALE PRICE | ADDRESS                                   | APARTMENT NUMBER | YEAR BUILT | NEIGHBORHOOD              | ZIP CODE | BUILDING CLASS AT TIME OF SALE | BUILDING CLASS CATEGORY                      | FULL ADDRESS\n",
       "2016-02-05 00:00:00 | 2925000    | 101 LEONARD STREET                        | 3D               | 1920       | CHINATOWN                 | 10013    | R4                             | 13  CONDOS - ELEVATOR APARTMENTS             | 101 LEONARD STREET, 3D\n",
       "2016-02-05 00:00:00 | 1812000    | 101 LEONARD STREET                        | 3D               | 1920       | CHINATOWN                 | 10013    | R4                             | 13  CONDOS - ELEVATOR APARTMENTS             | 101 LEONARD STREET, 3D"
      ]
     },
     "execution_count": 30,
     "metadata": {},
     "output_type": "execute_result"
    }
   ],
   "source": [
    "# Let's spot check these\n",
    "\n",
    "all_sales_data.where(COL_FULL_ADDRESS, are.equal_to('101 LEONARD STREET, 3D')).sort(0)\n",
    "\n",
    "# Hmm something strange going no. Let's ignore for now"
   ]
  },
  {
   "cell_type": "code",
   "execution_count": 31,
   "metadata": {},
   "outputs": [
    {
     "data": {
      "text/html": [
       "<table border=\"1\" class=\"dataframe\">\n",
       "    <thead>\n",
       "        <tr>\n",
       "            <th>FULL ADDRESS</th> <th>FIRST SALE</th> <th>FIRST PRICE</th> <th>LAST SALE</th> <th>LAST PRICE</th> <th>PRICE CHANGE</th> <th>PERIOD</th>\n",
       "        </tr>\n",
       "    </thead>\n",
       "    <tbody>\n",
       "        <tr>\n",
       "            <td>2 EAST 55TH ST, 835        </td> <td>2006-08-15 00:00:00</td> <td>554946     </td> <td>2006-08-16 00:00:00</td> <td>486720    </td> <td>-68,226     </td> <td>1 day, 0:00:00 </td>\n",
       "        </tr>\n",
       "    </tbody>\n",
       "        <tr>\n",
       "            <td>212 EAST 70TH   STREET, 2D </td> <td>2017-03-23 00:00:00</td> <td>312500     </td> <td>2017-03-24 00:00:00</td> <td>725000    </td> <td>412,500     </td> <td>1 day, 0:00:00 </td>\n",
       "        </tr>\n",
       "    </tbody>\n",
       "        <tr>\n",
       "            <td>95 CHARLES STREET, 5       </td> <td>2016-03-25 00:00:00</td> <td>850000     </td> <td>2016-03-26 00:00:00</td> <td>850000    </td> <td>0           </td> <td>1 day, 0:00:00 </td>\n",
       "        </tr>\n",
       "    </tbody>\n",
       "        <tr>\n",
       "            <td>203-05 WEST 112 STREET, 1W </td> <td>2003-12-17 00:00:00</td> <td>967338     </td> <td>2003-12-19 00:00:00</td> <td>967338    </td> <td>0           </td> <td>2 days, 0:00:00</td>\n",
       "        </tr>\n",
       "    </tbody>\n",
       "        <tr>\n",
       "            <td>238 EAST 47 STREET, 22D    </td> <td>2004-07-14 00:00:00</td> <td>105000     </td> <td>2004-07-16 00:00:00</td> <td>1100000   </td> <td>995,000     </td> <td>2 days, 0:00:00</td>\n",
       "        </tr>\n",
       "    </tbody>\n",
       "        <tr>\n",
       "            <td>227 EAST 111 STREET, 5B    </td> <td>2005-03-28 00:00:00</td> <td>540881     </td> <td>2005-03-31 00:00:00</td> <td>995000    </td> <td>454,119     </td> <td>3 days, 0:00:00</td>\n",
       "        </tr>\n",
       "    </tbody>\n",
       "        <tr>\n",
       "            <td>879-87 8 AVENUE, 2J        </td> <td>2003-11-13 00:00:00</td> <td>620000     </td> <td>2003-11-16 00:00:00</td> <td>620000    </td> <td>0           </td> <td>3 days, 0:00:00</td>\n",
       "        </tr>\n",
       "    </tbody>\n",
       "        <tr>\n",
       "            <td>157 WEST 111 STREET, 4E    </td> <td>2007-03-09 00:00:00</td> <td>776925     </td> <td>2007-03-13 00:00:00</td> <td>834965    </td> <td>58,040      </td> <td>4 days, 0:00:00</td>\n",
       "        </tr>\n",
       "    </tbody>\n",
       "        <tr>\n",
       "            <td>500 WEST 43RD   STREET, 24F</td> <td>2014-01-03 00:00:00</td> <td>800350     </td> <td>2014-01-07 00:00:00</td> <td>800350    </td> <td>0           </td> <td>4 days, 0:00:00</td>\n",
       "        </tr>\n",
       "    </tbody>\n",
       "        <tr>\n",
       "            <td>10 EAST 14TH ST, 2         </td> <td>2007-01-04 00:00:00</td> <td>1483300    </td> <td>2007-01-09 00:00:00</td> <td>2698362   </td> <td>1,215,062   </td> <td>5 days, 0:00:00</td>\n",
       "        </tr>\n",
       "    </tbody>\n",
       "</table>\n",
       "<p>... (14747 rows omitted)</p>"
      ],
      "text/plain": [
       "FULL ADDRESS                | FIRST SALE          | FIRST PRICE | LAST SALE           | LAST PRICE | PRICE CHANGE | PERIOD\n",
       "2 EAST 55TH ST, 835         | 2006-08-15 00:00:00 | 554946      | 2006-08-16 00:00:00 | 486720     | -68,226      | 1 day, 0:00:00\n",
       "212 EAST 70TH   STREET, 2D  | 2017-03-23 00:00:00 | 312500      | 2017-03-24 00:00:00 | 725000     | 412,500      | 1 day, 0:00:00\n",
       "95 CHARLES STREET, 5        | 2016-03-25 00:00:00 | 850000      | 2016-03-26 00:00:00 | 850000     | 0            | 1 day, 0:00:00\n",
       "203-05 WEST 112 STREET, 1W  | 2003-12-17 00:00:00 | 967338      | 2003-12-19 00:00:00 | 967338     | 0            | 2 days, 0:00:00\n",
       "238 EAST 47 STREET, 22D     | 2004-07-14 00:00:00 | 105000      | 2004-07-16 00:00:00 | 1100000    | 995,000      | 2 days, 0:00:00\n",
       "227 EAST 111 STREET, 5B     | 2005-03-28 00:00:00 | 540881      | 2005-03-31 00:00:00 | 995000     | 454,119      | 3 days, 0:00:00\n",
       "879-87 8 AVENUE, 2J         | 2003-11-13 00:00:00 | 620000      | 2003-11-16 00:00:00 | 620000     | 0            | 3 days, 0:00:00\n",
       "157 WEST 111 STREET, 4E     | 2007-03-09 00:00:00 | 776925      | 2007-03-13 00:00:00 | 834965     | 58,040       | 4 days, 0:00:00\n",
       "500 WEST 43RD   STREET, 24F | 2014-01-03 00:00:00 | 800350      | 2014-01-07 00:00:00 | 800350     | 0            | 4 days, 0:00:00\n",
       "10 EAST 14TH ST, 2          | 2007-01-04 00:00:00 | 1483300     | 2007-01-09 00:00:00 | 2698362    | 1,215,062    | 5 days, 0:00:00\n",
       "... (14747 rows omitted)"
      ]
     },
     "execution_count": 31,
     "metadata": {},
     "output_type": "execute_result"
    }
   ],
   "source": [
    "# Ignore multiple sales on same date\n",
    "\n",
    "condo_sales = condo_sales.where( COL_FIRST_SALE_DATE, are.not_equal_to, COL_LAST_SALE_DATE )\n",
    "\n",
    "condo_sales.sort(COL_PERIOD)\n",
    "\n",
    "# Still Looks like there is some strange data where teh sale dates are a few days apart, \n",
    "# for most sales we expect a gap of atleast 60-90 days. \n",
    "# let's ignore anything less that 6 months apart i.e. 180 days. \n",
    "\n"
   ]
  },
  {
   "cell_type": "code",
   "execution_count": 32,
   "metadata": {},
   "outputs": [
    {
     "ename": "TypeError",
     "evalue": "'>' not supported between instances of 'datetime.timedelta' and 'int'",
     "output_type": "error",
     "traceback": [
      "\u001b[0;31m---------------------------------------------------------------------------\u001b[0m",
      "\u001b[0;31mTypeError\u001b[0m                                 Traceback (most recent call last)",
      "\u001b[0;32m<ipython-input-32-2891a17dfe1e>\u001b[0m in \u001b[0;36m<module>\u001b[0;34m()\u001b[0m\n\u001b[0;32m----> 1\u001b[0;31m \u001b[0mcondo_sales\u001b[0m\u001b[0;34m.\u001b[0m\u001b[0mwhere\u001b[0m\u001b[0;34m(\u001b[0m \u001b[0mCOL_PERIOD\u001b[0m\u001b[0;34m,\u001b[0m \u001b[0mare\u001b[0m\u001b[0;34m.\u001b[0m\u001b[0mabove\u001b[0m\u001b[0;34m(\u001b[0m\u001b[0;36m180\u001b[0m\u001b[0;34m)\u001b[0m \u001b[0;34m)\u001b[0m\u001b[0;34m\u001b[0m\u001b[0m\n\u001b[0m",
      "\u001b[0;32m/usr/local/lib/python3.6/site-packages/datascience/tables.py\u001b[0m in \u001b[0;36mwhere\u001b[0;34m(self, column_or_label, value_or_predicate, other)\u001b[0m\n\u001b[1;32m    792\u001b[0m             \u001b[0;32melse\u001b[0m\u001b[0;34m:\u001b[0m\u001b[0;34m\u001b[0m\u001b[0m\n\u001b[1;32m    793\u001b[0m                 \u001b[0mpredicate\u001b[0m \u001b[0;34m=\u001b[0m \u001b[0mvalue_or_predicate\u001b[0m\u001b[0;34m\u001b[0m\u001b[0m\n\u001b[0;32m--> 794\u001b[0;31m             \u001b[0mcolumn\u001b[0m \u001b[0;34m=\u001b[0m \u001b[0;34m[\u001b[0m\u001b[0mpredicate\u001b[0m\u001b[0;34m(\u001b[0m\u001b[0mx\u001b[0m\u001b[0;34m)\u001b[0m \u001b[0;32mfor\u001b[0m \u001b[0mx\u001b[0m \u001b[0;32min\u001b[0m \u001b[0mcolumn\u001b[0m\u001b[0;34m]\u001b[0m\u001b[0;34m\u001b[0m\u001b[0m\n\u001b[0m\u001b[1;32m    795\u001b[0m         \u001b[0;32mreturn\u001b[0m \u001b[0mself\u001b[0m\u001b[0;34m.\u001b[0m\u001b[0mtake\u001b[0m\u001b[0;34m(\u001b[0m\u001b[0mnp\u001b[0m\u001b[0;34m.\u001b[0m\u001b[0mnonzero\u001b[0m\u001b[0;34m(\u001b[0m\u001b[0mcolumn\u001b[0m\u001b[0;34m)\u001b[0m\u001b[0;34m[\u001b[0m\u001b[0;36m0\u001b[0m\u001b[0;34m]\u001b[0m\u001b[0;34m)\u001b[0m\u001b[0;34m\u001b[0m\u001b[0m\n\u001b[1;32m    796\u001b[0m \u001b[0;34m\u001b[0m\u001b[0m\n",
      "\u001b[0;32m/usr/local/lib/python3.6/site-packages/datascience/tables.py\u001b[0m in \u001b[0;36m<listcomp>\u001b[0;34m(.0)\u001b[0m\n\u001b[1;32m    792\u001b[0m             \u001b[0;32melse\u001b[0m\u001b[0;34m:\u001b[0m\u001b[0;34m\u001b[0m\u001b[0m\n\u001b[1;32m    793\u001b[0m                 \u001b[0mpredicate\u001b[0m \u001b[0;34m=\u001b[0m \u001b[0mvalue_or_predicate\u001b[0m\u001b[0;34m\u001b[0m\u001b[0m\n\u001b[0;32m--> 794\u001b[0;31m             \u001b[0mcolumn\u001b[0m \u001b[0;34m=\u001b[0m \u001b[0;34m[\u001b[0m\u001b[0mpredicate\u001b[0m\u001b[0;34m(\u001b[0m\u001b[0mx\u001b[0m\u001b[0;34m)\u001b[0m \u001b[0;32mfor\u001b[0m \u001b[0mx\u001b[0m \u001b[0;32min\u001b[0m \u001b[0mcolumn\u001b[0m\u001b[0;34m]\u001b[0m\u001b[0;34m\u001b[0m\u001b[0m\n\u001b[0m\u001b[1;32m    795\u001b[0m         \u001b[0;32mreturn\u001b[0m \u001b[0mself\u001b[0m\u001b[0;34m.\u001b[0m\u001b[0mtake\u001b[0m\u001b[0;34m(\u001b[0m\u001b[0mnp\u001b[0m\u001b[0;34m.\u001b[0m\u001b[0mnonzero\u001b[0m\u001b[0;34m(\u001b[0m\u001b[0mcolumn\u001b[0m\u001b[0;34m)\u001b[0m\u001b[0;34m[\u001b[0m\u001b[0;36m0\u001b[0m\u001b[0;34m]\u001b[0m\u001b[0;34m)\u001b[0m\u001b[0;34m\u001b[0m\u001b[0m\n\u001b[1;32m    796\u001b[0m \u001b[0;34m\u001b[0m\u001b[0m\n",
      "\u001b[0;32m/usr/local/lib/python3.6/site-packages/datascience/predicates.py\u001b[0m in \u001b[0;36m__call__\u001b[0;34m(self, x)\u001b[0m\n\u001b[1;32m    211\u001b[0m \u001b[0;34m\u001b[0m\u001b[0m\n\u001b[1;32m    212\u001b[0m     \u001b[0;32mdef\u001b[0m \u001b[0m__call__\u001b[0m\u001b[0;34m(\u001b[0m\u001b[0mself\u001b[0m\u001b[0;34m,\u001b[0m \u001b[0mx\u001b[0m\u001b[0;34m)\u001b[0m\u001b[0;34m:\u001b[0m\u001b[0;34m\u001b[0m\u001b[0m\n\u001b[0;32m--> 213\u001b[0;31m         \u001b[0;32mreturn\u001b[0m \u001b[0mself\u001b[0m\u001b[0;34m.\u001b[0m\u001b[0mf\u001b[0m\u001b[0;34m(\u001b[0m\u001b[0mx\u001b[0m\u001b[0;34m)\u001b[0m\u001b[0;34m\u001b[0m\u001b[0m\n\u001b[0m\u001b[1;32m    214\u001b[0m \u001b[0;34m\u001b[0m\u001b[0m\n\u001b[1;32m    215\u001b[0m     \u001b[0;32mdef\u001b[0m \u001b[0m__and__\u001b[0m\u001b[0;34m(\u001b[0m\u001b[0mself\u001b[0m\u001b[0;34m,\u001b[0m \u001b[0mother\u001b[0m\u001b[0;34m)\u001b[0m\u001b[0;34m:\u001b[0m\u001b[0;34m\u001b[0m\u001b[0m\n",
      "\u001b[0;32m/usr/local/lib/python3.6/site-packages/datascience/predicates.py\u001b[0m in \u001b[0;36m<lambda>\u001b[0;34m(x)\u001b[0m\n\u001b[1;32m    109\u001b[0m     \u001b[0;32mdef\u001b[0m \u001b[0mabove\u001b[0m\u001b[0;34m(\u001b[0m\u001b[0my\u001b[0m\u001b[0;34m)\u001b[0m\u001b[0;34m:\u001b[0m\u001b[0;34m\u001b[0m\u001b[0m\n\u001b[1;32m    110\u001b[0m         \u001b[0;34m\"\"\"Greater than y.\"\"\"\u001b[0m\u001b[0;34m\u001b[0m\u001b[0m\n\u001b[0;32m--> 111\u001b[0;31m         \u001b[0;32mreturn\u001b[0m \u001b[0m_combinable\u001b[0m\u001b[0;34m(\u001b[0m\u001b[0;32mlambda\u001b[0m \u001b[0mx\u001b[0m\u001b[0;34m:\u001b[0m \u001b[0mx\u001b[0m \u001b[0;34m>\u001b[0m \u001b[0my\u001b[0m\u001b[0;34m)\u001b[0m\u001b[0;34m\u001b[0m\u001b[0m\n\u001b[0m\u001b[1;32m    112\u001b[0m \u001b[0;34m\u001b[0m\u001b[0m\n\u001b[1;32m    113\u001b[0m     \u001b[0;34m@\u001b[0m\u001b[0mstaticmethod\u001b[0m\u001b[0;34m\u001b[0m\u001b[0m\n",
      "\u001b[0;31mTypeError\u001b[0m: '>' not supported between instances of 'datetime.timedelta' and 'int'"
     ]
    }
   ],
   "source": [
    "condo_sales.where( COL_PERIOD, are.above(180) )"
   ]
  },
  {
   "cell_type": "code",
   "execution_count": null,
   "metadata": {},
   "outputs": [],
   "source": [
    "period_days = [ period.days for period in condo_sales.column(COL_PERIOD)]\n",
    "column_stats( period_days )\n",
    "\n",
    "\n",
    "column_stats( condo_sales.column(COL_PRICE_CHANGE) )"
   ]
  }
 ],
 "metadata": {
  "kernelspec": {
   "display_name": "Python 3",
   "language": "python",
   "name": "python3"
  },
  "language_info": {
   "codemirror_mode": {
    "name": "ipython",
    "version": 3
   },
   "file_extension": ".py",
   "mimetype": "text/x-python",
   "name": "python",
   "nbconvert_exporter": "python",
   "pygments_lexer": "ipython3",
   "version": "3.6.5"
  }
 },
 "nbformat": 4,
 "nbformat_minor": 1
}
