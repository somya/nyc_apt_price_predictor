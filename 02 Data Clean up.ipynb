{
 "cells": [
  {
   "cell_type": "code",
   "execution_count": 1,
   "metadata": {},
   "outputs": [],
   "source": [
    "import numpy as np\n",
    "import pandas as pd\n",
    "import datetime\n",
    "\n",
    "from datascience import *\n",
    "from datetime import timedelta\n",
    "from datetime import date\n",
    "from datetime import datetime\n",
    "\n",
    "%matplotlib inline\n",
    "import matplotlib.pyplot as plots\n",
    "plots.style.use('fivethirtyeight')\n",
    "\n",
    "import locale"
   ]
  },
  {
   "cell_type": "code",
   "execution_count": 2,
   "metadata": {},
   "outputs": [],
   "source": [
    "# Helpers Functions\n",
    "\n",
    "def print_stats(data): \n",
    "    '''Prints common stats for a data array'''\n",
    "    \n",
    "    data_mean = np.mean(data)\n",
    "    data_std = np.std(data)\n",
    "    data_min = min(data)\n",
    "    data_max = max(data)\n",
    "\n",
    "    percent_5 = percentile(5, data)\n",
    "    percent_95 = percentile(95, data)\n",
    "    percent_1 = percentile(1, data)\n",
    "    percent_99 = percentile(99, data)\n",
    "    \n",
    "    percent_25 = percentile(25, data)\n",
    "    percent_50 = percentile(50, data)\n",
    "    percent_75 = percentile(75, data)\n",
    "\n",
    "    print(\"Avg:\", data_mean, \"\\tStd:\", data_std, \"\\tMin:\", data_min, \"\\tMax:\", data_max)\n",
    "    print(\" 5%:\", percent_5, \"\\t95%:\", percent_95)\n",
    "    print(\" 1%:\", percent_1, \"\\t99%:\", percent_99)\n",
    "    print(\"25%:\", percent_25, \"\\t50%:\", percent_50, '\\t75%', percent_75)\n",
    "    \n",
    "\n",
    "def print_col_stats(table, col_name):\n",
    "    ''' Print the stats For column named'''\n",
    "    \n",
    "    print(col_name + \"Stats\")\n",
    "    data = table.column(col_name)\n",
    "    print_stats(data)\n",
    "    \n",
    "def draw_hist(table : Table, col_name, offset_percent=0):\n",
    "    ''' Draw a histogram for table with an additional offset percent'''\n",
    "    data = table.column(col_name)\n",
    "    offset_start = percentile(offset_percent, data)\n",
    "    offset_end = percentile(100-offset_percent, data)\n",
    "    table.hist(col_name, bins=np.arange(offset_start, offset_end, (offset_end-offset_start)/20))\n",
    "               \n",
    "def col_stats(table, col_name):\n",
    "    ''' Prints state for a column in table'''\n",
    "    print_col_stats(table, col_name)\n",
    "    draw_hist(table, col_name)\n",
    "               \n",
    "\n",
    "   "
   ]
  },
  {
   "cell_type": "code",
   "execution_count": 3,
   "metadata": {},
   "outputs": [],
   "source": [
    "# helpers\n",
    "\n",
    "def standard_units(any_numbers):\n",
    "    \"Convert any array of numbers to standard units.\"\n",
    "    return (any_numbers - np.mean(any_numbers))/np.std(any_numbers)  \n",
    "\n",
    "def correlation(t, x, y):\n",
    "    return np.mean(standard_units(t.column(x))*standard_units(t.column(y)))\n",
    "\n",
    "def slope(table, x, y):\n",
    "    r = correlation(table, x, y)\n",
    "    return r * np.std(table.column(y))/np.std(table.column(x))\n",
    "\n",
    "def intercept(table, x, y):\n",
    "    a = slope(table, x, y)\n",
    "    return np.mean(table.column(y)) - a * np.mean(table.column(x))\n",
    "\n",
    "def fit(table, x, y):\n",
    "    a = slope(table, x, y)\n",
    "    b = intercept(table, x, y)\n",
    "    return a * table.column(x) + b\n",
    "\n",
    "def residual(table, x, y):\n",
    "    return table.column(y) - fit(table, x, y)\n",
    "\n",
    "def scatter_fit(table, x, y):\n",
    "    plots.scatter(table.column(x), table.column(y), s=20)\n",
    "    plots.plot(table.column(x), fit(table, x, y), lw=2, color='gold')\n",
    "    plots.xlabel(x)\n",
    "    plots.ylabel(y)"
   ]
  },
  {
   "cell_type": "code",
   "execution_count": 4,
   "metadata": {},
   "outputs": [],
   "source": [
    "# Import CSV\n",
    "csv_directory = \"data/csv/\"\n",
    "\n",
    "all_sales_data = Table.read_table(csv_directory+'manhattan.csv', low_memory=False)\n"
   ]
  },
  {
   "cell_type": "code",
   "execution_count": 5,
   "metadata": {},
   "outputs": [],
   "source": [
    "# remove and sales less than $10,000 they are likely to be a property transfer rather than an actual sale\n",
    "\n",
    "all_sales_data = all_sales_data.where('SALE PRICE', are.above(10000))"
   ]
  },
  {
   "cell_type": "code",
   "execution_count": 6,
   "metadata": {},
   "outputs": [],
   "source": [
    "# Declare column names to allow for auto completion :)\n",
    "\n",
    "COL_SALE_DATE = 'SALE DATE'\n",
    "\n",
    "COL_FIRST_SALE_DATE = 'FIRST SALE'\n",
    "COL_LAST_SALE_DATE = 'LAST SALE'\n",
    "COL_FIRST_SALE_PRICE = 'FIRST PRICE'\n",
    "COL_LAST_SALE_PRICE = 'LAST PRICE'\n",
    "COL_FULL_ADDRESS = 'FULL ADDRESS'\n",
    "COL_PRICE_CHANGE = 'PRICE CHANGE'\n",
    "COL_PERIOD = 'PERIOD'\n",
    "\n",
    "COL_SALE_YEAR = 'SALE_YEAR'\n",
    "COL_SALE_MONTH = 'SALE_MONTH'\n",
    "COL_SALE_PRICE = 'SALE PRICE'"
   ]
  },
  {
   "cell_type": "code",
   "execution_count": 7,
   "metadata": {},
   "outputs": [
    {
     "data": {
      "text/html": [
       "<table border=\"1\" class=\"dataframe\">\n",
       "    <thead>\n",
       "        <tr>\n",
       "            <th>SALE DATE</th> <th>Unnamed: 0</th> <th>ADDRESS</th> <th>APARTMENT NUMBER</th> <th>BLOCK</th> <th>BOROUGH</th> <th>BUILDING CLASS AS OF FINAL ROLL 17/18</th> <th>BUILDING CLASS AT PRESENT</th> <th>BUILDING CLASS AT TIME OF SALE</th> <th>BUILDING CLASS CATEGORY</th> <th>COMMERCIAL UNITS</th> <th>EASE-MENT</th> <th>GROSS SQUARE FEET</th> <th>LAND SQUARE FEET</th> <th>LOT</th> <th>NEIGHBORHOOD</th> <th>RESIDENTIAL UNITS</th> <th>SALE PRICE</th> <th>TAX CLASS AS OF FINAL ROLL 17/18</th> <th>TAX CLASS AT PRESENT</th> <th>TAX CLASS AT TIME OF SALE</th> <th>TOTAL UNITS</th> <th>YEAR BUILT</th> <th>ZIP CODE</th>\n",
       "        </tr>\n",
       "    </thead>\n",
       "    <tbody>\n",
       "        <tr>\n",
       "            <td>2015-03-18 00:00:00</td> <td>0         </td> <td>526 EAST 5TH STREET                      </td> <td>                </td> <td>400  </td> <td>1      </td> <td>nan                                  </td> <td>A4                       </td> <td>A4                            </td> <td>01  ONE FAMILY DWELLINGS                    </td> <td>0               </td> <td>         </td> <td>5200             </td> <td>1883            </td> <td>19  </td> <td>ALPHABET CITY            </td> <td>1                </td> <td>6500000   </td> <td>nan                             </td> <td>1                   </td> <td>1                        </td> <td>1          </td> <td>1900      </td> <td>10009   </td>\n",
       "        </tr>\n",
       "        <tr>\n",
       "            <td>2015-10-22 00:00:00</td> <td>1         </td> <td>264 EAST 7TH STREET                      </td> <td>                </td> <td>376  </td> <td>1      </td> <td>nan                                  </td> <td>C0                       </td> <td>C0                            </td> <td>03  THREE FAMILY DWELLINGS                  </td> <td>0               </td> <td>         </td> <td>3696             </td> <td>2059            </td> <td>24  </td> <td>ALPHABET CITY            </td> <td>3                </td> <td>3775000   </td> <td>nan                             </td> <td>1                   </td> <td>1                        </td> <td>3          </td> <td>1900      </td> <td>10009   </td>\n",
       "        </tr>\n",
       "        <tr>\n",
       "            <td>2015-06-24 00:00:00</td> <td>2         </td> <td>243 EAST 7TH   STREET                    </td> <td>                </td> <td>377  </td> <td>1      </td> <td>nan                                  </td> <td>C0                       </td> <td>C0                            </td> <td>03  THREE FAMILY DWELLINGS                  </td> <td>0               </td> <td>         </td> <td>3084             </td> <td>2381            </td> <td>66  </td> <td>ALPHABET CITY            </td> <td>3                </td> <td>2900000   </td> <td>nan                             </td> <td>1                   </td> <td>1                        </td> <td>3          </td> <td>1899      </td> <td>10009   </td>\n",
       "        </tr>\n",
       "        <tr>\n",
       "            <td>2015-06-15 00:00:00</td> <td>3         </td> <td>238 EAST 4TH   STREET                    </td> <td>-               </td> <td>399  </td> <td>1      </td> <td>nan                                  </td> <td>R6                       </td> <td>R6                            </td> <td>04  TAX CLASS 1 CONDOS                      </td> <td>0               </td> <td>         </td> <td>0                </td> <td>0               </td> <td>1101</td> <td>ALPHABET CITY            </td> <td>1                </td> <td>6995000   </td> <td>nan                             </td> <td>1C                  </td> <td>1                        </td> <td>1          </td> <td>1955      </td> <td>10009   </td>\n",
       "        </tr>\n",
       "        <tr>\n",
       "            <td>2015-11-17 00:00:00</td> <td>4         </td> <td>326 EAST 4TH   STREET                    </td> <td>                </td> <td>373  </td> <td>1      </td> <td>nan                                  </td> <td>C1                       </td> <td>C1                            </td> <td>07  RENTALS - WALKUP APARTMENTS             </td> <td>0               </td> <td>         </td> <td>8625             </td> <td>2204            </td> <td>16  </td> <td>ALPHABET CITY            </td> <td>10               </td> <td>20000000  </td> <td>nan                             </td> <td>2B                  </td> <td>2                        </td> <td>10         </td> <td>1899      </td> <td>10009   </td>\n",
       "        </tr>\n",
       "        <tr>\n",
       "            <td>2015-02-05 00:00:00</td> <td>6         </td> <td>102 AVENUE C                             </td> <td>                </td> <td>376  </td> <td>1      </td> <td>nan                                  </td> <td>C4                       </td> <td>C4                            </td> <td>07  RENTALS - WALKUP APARTMENTS             </td> <td>3               </td> <td>         </td> <td>16679            </td> <td>3772            </td> <td>7   </td> <td>ALPHABET CITY            </td> <td>26               </td> <td>14550000  </td> <td>nan                             </td> <td>2                   </td> <td>2                        </td> <td>29         </td> <td>1900      </td> <td>10009   </td>\n",
       "        </tr>\n",
       "        <tr>\n",
       "            <td>2015-09-10 00:00:00</td> <td>8         </td> <td>112 AVENUE C                             </td> <td>                </td> <td>377  </td> <td>1      </td> <td>nan                                  </td> <td>C7                       </td> <td>C7                            </td> <td>07  RENTALS - WALKUP APARTMENTS             </td> <td>3               </td> <td>         </td> <td>19830            </td> <td>4510            </td> <td>2   </td> <td>ALPHABET CITY            </td> <td>22               </td> <td>16700000  </td> <td>nan                             </td> <td>2                   </td> <td>2                        </td> <td>25         </td> <td>1900      </td> <td>10009   </td>\n",
       "        </tr>\n",
       "        <tr>\n",
       "            <td>2015-03-11 00:00:00</td> <td>10        </td> <td>133 AVENUE D                             </td> <td>                </td> <td>379  </td> <td>1      </td> <td>nan                                  </td> <td>C7                       </td> <td>C7                            </td> <td>07  RENTALS - WALKUP APARTMENTS             </td> <td>2               </td> <td>         </td> <td>14588            </td> <td>3481            </td> <td>37  </td> <td>ALPHABET CITY            </td> <td>20               </td> <td>10500000  </td> <td>nan                             </td> <td>2                   </td> <td>2                        </td> <td>22         </td> <td>1930      </td> <td>10009   </td>\n",
       "        </tr>\n",
       "        <tr>\n",
       "            <td>2015-01-29 00:00:00</td> <td>11        </td> <td>250-254 EAST 4TH   STREET                </td> <td>                </td> <td>386  </td> <td>1      </td> <td>nan                                  </td> <td>C4                       </td> <td>C4                            </td> <td>07  RENTALS - WALKUP APARTMENTS             </td> <td>1               </td> <td>         </td> <td>33130            </td> <td>7191            </td> <td>11  </td> <td>ALPHABET CITY            </td> <td>34               </td> <td>800265    </td> <td>nan                             </td> <td>2                   </td> <td>2                        </td> <td>35         </td> <td>1900      </td> <td>10009   </td>\n",
       "        </tr>\n",
       "        <tr>\n",
       "            <td>2015-12-09 00:00:00</td> <td>12        </td> <td>620 EAST 6TH   STREET                    </td> <td>                </td> <td>387  </td> <td>1      </td> <td>nan                                  </td> <td>C7                       </td> <td>C7                            </td> <td>07  RENTALS - WALKUP APARTMENTS             </td> <td>2               </td> <td>         </td> <td>13546            </td> <td>3445            </td> <td>119 </td> <td>ALPHABET CITY            </td> <td>22               </td> <td>11250000  </td> <td>nan                             </td> <td>2                   </td> <td>2                        </td> <td>24         </td> <td>1920      </td> <td>10009   </td>\n",
       "        </tr>\n",
       "    </tbody>\n",
       "</table>\n",
       "<p>... (289552 rows omitted)</p>"
      ],
      "text/plain": [
       "SALE DATE           | Unnamed: 0 | ADDRESS                                   | APARTMENT NUMBER | BLOCK | BOROUGH | BUILDING CLASS AS OF FINAL ROLL 17/18 | BUILDING CLASS AT PRESENT | BUILDING CLASS AT TIME OF SALE | BUILDING CLASS CATEGORY                      | COMMERCIAL UNITS | EASE-MENT | GROSS SQUARE FEET | LAND SQUARE FEET | LOT  | NEIGHBORHOOD              | RESIDENTIAL UNITS | SALE PRICE | TAX CLASS AS OF FINAL ROLL 17/18 | TAX CLASS AT PRESENT | TAX CLASS AT TIME OF SALE | TOTAL UNITS | YEAR BUILT | ZIP CODE\n",
       "2015-03-18 00:00:00 | 0          | 526 EAST 5TH STREET                       |                  | 400   | 1       | nan                                   | A4                        | A4                             | 01  ONE FAMILY DWELLINGS                     | 0                |           | 5200              | 1883             | 19   | ALPHABET CITY             | 1                 | 6500000    | nan                              | 1                    | 1                         | 1           | 1900       | 10009\n",
       "2015-10-22 00:00:00 | 1          | 264 EAST 7TH STREET                       |                  | 376   | 1       | nan                                   | C0                        | C0                             | 03  THREE FAMILY DWELLINGS                   | 0                |           | 3696              | 2059             | 24   | ALPHABET CITY             | 3                 | 3775000    | nan                              | 1                    | 1                         | 3           | 1900       | 10009\n",
       "2015-06-24 00:00:00 | 2          | 243 EAST 7TH   STREET                     |                  | 377   | 1       | nan                                   | C0                        | C0                             | 03  THREE FAMILY DWELLINGS                   | 0                |           | 3084              | 2381             | 66   | ALPHABET CITY             | 3                 | 2900000    | nan                              | 1                    | 1                         | 3           | 1899       | 10009\n",
       "2015-06-15 00:00:00 | 3          | 238 EAST 4TH   STREET                     | -                | 399   | 1       | nan                                   | R6                        | R6                             | 04  TAX CLASS 1 CONDOS                       | 0                |           | 0                 | 0                | 1101 | ALPHABET CITY             | 1                 | 6995000    | nan                              | 1C                   | 1                         | 1           | 1955       | 10009\n",
       "2015-11-17 00:00:00 | 4          | 326 EAST 4TH   STREET                     |                  | 373   | 1       | nan                                   | C1                        | C1                             | 07  RENTALS - WALKUP APARTMENTS              | 0                |           | 8625              | 2204             | 16   | ALPHABET CITY             | 10                | 20000000   | nan                              | 2B                   | 2                         | 10          | 1899       | 10009\n",
       "2015-02-05 00:00:00 | 6          | 102 AVENUE C                              |                  | 376   | 1       | nan                                   | C4                        | C4                             | 07  RENTALS - WALKUP APARTMENTS              | 3                |           | 16679             | 3772             | 7    | ALPHABET CITY             | 26                | 14550000   | nan                              | 2                    | 2                         | 29          | 1900       | 10009\n",
       "2015-09-10 00:00:00 | 8          | 112 AVENUE C                              |                  | 377   | 1       | nan                                   | C7                        | C7                             | 07  RENTALS - WALKUP APARTMENTS              | 3                |           | 19830             | 4510             | 2    | ALPHABET CITY             | 22                | 16700000   | nan                              | 2                    | 2                         | 25          | 1900       | 10009\n",
       "2015-03-11 00:00:00 | 10         | 133 AVENUE D                              |                  | 379   | 1       | nan                                   | C7                        | C7                             | 07  RENTALS - WALKUP APARTMENTS              | 2                |           | 14588             | 3481             | 37   | ALPHABET CITY             | 20                | 10500000   | nan                              | 2                    | 2                         | 22          | 1930       | 10009\n",
       "2015-01-29 00:00:00 | 11         | 250-254 EAST 4TH   STREET                 |                  | 386   | 1       | nan                                   | C4                        | C4                             | 07  RENTALS - WALKUP APARTMENTS              | 1                |           | 33130             | 7191             | 11   | ALPHABET CITY             | 34                | 800265     | nan                              | 2                    | 2                         | 35          | 1900       | 10009\n",
       "2015-12-09 00:00:00 | 12         | 620 EAST 6TH   STREET                     |                  | 387   | 1       | nan                                   | C7                        | C7                             | 07  RENTALS - WALKUP APARTMENTS              | 2                |           | 13546             | 3445             | 119  | ALPHABET CITY             | 22                | 11250000   | nan                              | 2                    | 2                         | 24          | 1920       | 10009\n",
       "... (289552 rows omitted)"
      ]
     },
     "execution_count": 7,
     "metadata": {},
     "output_type": "execute_result"
    }
   ],
   "source": [
    "# Convert sale date from a string to datetime type\n",
    "\n",
    "dates = [ datetime.strptime(d, '%Y-%m-%d') for d in all_sales_data.column(COL_SALE_DATE) ]\n",
    "\n",
    "# Drop string sale date column\n",
    "all_sales_data = all_sales_data.drop(COL_SALE_DATE)\n",
    "# Add the sales as type datetime\n",
    "all_sales_data = all_sales_data.with_column(COL_SALE_DATE, dates)\n",
    "# Move sale date to the first column\n",
    "all_sales_data = all_sales_data.move_to_start(COL_SALE_DATE)\n",
    "\n",
    "all_sales_data"
   ]
  },
  {
   "cell_type": "code",
   "execution_count": 8,
   "metadata": {},
   "outputs": [
    {
     "data": {
      "text/html": [
       "<table border=\"1\" class=\"dataframe\">\n",
       "    <thead>\n",
       "        <tr>\n",
       "            <th>SALE DATE</th> <th>Unnamed: 0</th> <th>ADDRESS</th> <th>APARTMENT NUMBER</th> <th>BLOCK</th> <th>BOROUGH</th> <th>BUILDING CLASS AS OF FINAL ROLL 17/18</th> <th>BUILDING CLASS AT PRESENT</th> <th>BUILDING CLASS AT TIME OF SALE</th> <th>BUILDING CLASS CATEGORY</th> <th>COMMERCIAL UNITS</th> <th>EASE-MENT</th> <th>GROSS SQUARE FEET</th> <th>LAND SQUARE FEET</th> <th>LOT</th> <th>NEIGHBORHOOD</th> <th>RESIDENTIAL UNITS</th> <th>SALE PRICE</th> <th>TAX CLASS AS OF FINAL ROLL 17/18</th> <th>TAX CLASS AT PRESENT</th> <th>TAX CLASS AT TIME OF SALE</th> <th>TOTAL UNITS</th> <th>YEAR BUILT</th> <th>ZIP CODE</th>\n",
       "        </tr>\n",
       "    </thead>\n",
       "    <tbody>\n",
       "        <tr>\n",
       "            <td>2004-06-02 00:00:00</td> <td>13333     </td> <td>870 7 AVENUE                             </td> <td>1614            </td> <td>1027 </td> <td>1      </td> <td>nan                                  </td> <td>R5                       </td> <td>R5                            </td> <td>28  COMMERCIAL CONDOS                       </td> <td>1               </td> <td>         </td> <td>0                </td> <td>0               </td> <td>1322</td> <td>MIDTOWN WEST             </td> <td>0                </td> <td>10007     </td> <td>nan                             </td> <td>4                   </td> <td>4                        </td> <td>1          </td> <td>0         </td> <td>10019   </td>\n",
       "        </tr>\n",
       "        <tr>\n",
       "            <td>2004-06-18 00:00:00</td> <td>13428     </td> <td>870 7 AVENUE                             </td> <td>1511            </td> <td>1027 </td> <td>1      </td> <td>nan                                  </td> <td>R5                       </td> <td>R5                            </td> <td>28  COMMERCIAL CONDOS                       </td> <td>1               </td> <td>         </td> <td>0                </td> <td>0               </td> <td>1338</td> <td>MIDTOWN WEST             </td> <td>0                </td> <td>10007     </td> <td>nan                             </td> <td>4                   </td> <td>4                        </td> <td>1          </td> <td>0         </td> <td>10019   </td>\n",
       "        </tr>\n",
       "        <tr>\n",
       "            <td>2003-04-21 00:00:00</td> <td>19770     </td> <td>220                                      </td> <td>104             </td> <td>1171 </td> <td>1      </td> <td>nan                                  </td> <td>R5                       </td> <td>R5                            </td> <td>28  COMMERCIAL CONDOS                       </td> <td>1               </td> <td>         </td> <td>0                </td> <td>0               </td> <td>1917</td> <td>UPPER WEST SIDE (59-79)  </td> <td>0                </td> <td>10020     </td> <td>nan                             </td> <td>4                   </td> <td>4                        </td> <td>1          </td> <td>0         </td> <td>10069   </td>\n",
       "        </tr>\n",
       "        <tr>\n",
       "            <td>2011-06-09 00:00:00</td> <td>11902     </td> <td>200 WEST 56TH   STREET                   </td> <td>                </td> <td>1027 </td> <td>1      </td> <td>nan                                  </td> <td>R5                       </td> <td>R5                            </td> <td>28  COMMERCIAL CONDOS                       </td> <td>1               </td> <td>         </td> <td>0                </td> <td>0               </td> <td>1199</td> <td>MIDTOWN WEST             </td> <td>0                </td> <td>10035     </td> <td>nan                             </td> <td>4                   </td> <td>4                        </td> <td>1          </td> <td>0         </td> <td>10019   </td>\n",
       "        </tr>\n",
       "        <tr>\n",
       "            <td>2011-03-03 00:00:00</td> <td>11956     </td> <td>200 WEST 56TH   STREET                   </td> <td>                </td> <td>1027 </td> <td>1      </td> <td>nan                                  </td> <td>R5                       </td> <td>R5                            </td> <td>28  COMMERCIAL CONDOS                       </td> <td>1               </td> <td>         </td> <td>0                </td> <td>0               </td> <td>1208</td> <td>MIDTOWN WEST             </td> <td>0                </td> <td>10035     </td> <td>nan                             </td> <td>4                   </td> <td>4                        </td> <td>1          </td> <td>0         </td> <td>10019   </td>\n",
       "        </tr>\n",
       "        <tr>\n",
       "            <td>2011-12-21 00:00:00</td> <td>12903     </td> <td>870 7 AVENUE                             </td> <td>220             </td> <td>1027 </td> <td>1      </td> <td>nan                                  </td> <td>R5                       </td> <td>R5                            </td> <td>28  COMMERCIAL CONDOS                       </td> <td>1               </td> <td>         </td> <td>0                </td> <td>0               </td> <td>1721</td> <td>MIDTOWN WEST             </td> <td>0                </td> <td>10035     </td> <td>nan                             </td> <td>4                   </td> <td>4                        </td> <td>1          </td> <td>1925      </td> <td>10019   </td>\n",
       "        </tr>\n",
       "        <tr>\n",
       "            <td>2011-10-19 00:00:00</td> <td>12904     </td> <td>870 7 AVENUE                             </td> <td>220             </td> <td>1027 </td> <td>1      </td> <td>nan                                  </td> <td>R5                       </td> <td>R5                            </td> <td>28  COMMERCIAL CONDOS                       </td> <td>1               </td> <td>         </td> <td>0                </td> <td>0               </td> <td>1721</td> <td>MIDTOWN WEST             </td> <td>0                </td> <td>10035     </td> <td>nan                             </td> <td>4                   </td> <td>4                        </td> <td>1          </td> <td>1925      </td> <td>10019   </td>\n",
       "        </tr>\n",
       "        <tr>\n",
       "            <td>2011-08-24 00:00:00</td> <td>12908     </td> <td>870 7 AVENUE                             </td> <td>220             </td> <td>1027 </td> <td>1      </td> <td>nan                                  </td> <td>R5                       </td> <td>R5                            </td> <td>28  COMMERCIAL CONDOS                       </td> <td>1               </td> <td>         </td> <td>0                </td> <td>0               </td> <td>1721</td> <td>MIDTOWN WEST             </td> <td>0                </td> <td>10035     </td> <td>nan                             </td> <td>4                   </td> <td>4                        </td> <td>1          </td> <td>1925      </td> <td>10019   </td>\n",
       "        </tr>\n",
       "        <tr>\n",
       "            <td>2011-02-23 00:00:00</td> <td>12922     </td> <td>870 7 AVENUE                             </td> <td>221             </td> <td>1027 </td> <td>1      </td> <td>nan                                  </td> <td>R5                       </td> <td>R5                            </td> <td>28  COMMERCIAL CONDOS                       </td> <td>1               </td> <td>         </td> <td>0                </td> <td>0               </td> <td>1722</td> <td>MIDTOWN WEST             </td> <td>0                </td> <td>10035     </td> <td>nan                             </td> <td>4                   </td> <td>4                        </td> <td>1          </td> <td>1925      </td> <td>10019   </td>\n",
       "        </tr>\n",
       "        <tr>\n",
       "            <td>2011-09-14 00:00:00</td> <td>12940     </td> <td>870 7 AVENUE                             </td> <td>223             </td> <td>1027 </td> <td>1      </td> <td>nan                                  </td> <td>R5                       </td> <td>R5                            </td> <td>28  COMMERCIAL CONDOS                       </td> <td>1               </td> <td>         </td> <td>0                </td> <td>0               </td> <td>1724</td> <td>MIDTOWN WEST             </td> <td>0                </td> <td>10035     </td> <td>nan                             </td> <td>4                   </td> <td>4                        </td> <td>1          </td> <td>1925      </td> <td>10019   </td>\n",
       "        </tr>\n",
       "        <tr>\n",
       "            <td>2011-10-19 00:00:00</td> <td>12952     </td> <td>870 7 AVENUE                             </td> <td>224             </td> <td>1027 </td> <td>1      </td> <td>nan                                  </td> <td>R5                       </td> <td>R5                            </td> <td>28  COMMERCIAL CONDOS                       </td> <td>1               </td> <td>         </td> <td>0                </td> <td>0               </td> <td>1725</td> <td>MIDTOWN WEST             </td> <td>0                </td> <td>10035     </td> <td>nan                             </td> <td>4                   </td> <td>4                        </td> <td>1          </td> <td>1925      </td> <td>10019   </td>\n",
       "        </tr>\n",
       "        <tr>\n",
       "            <td>2011-10-12 00:00:00</td> <td>12954     </td> <td>870 7 AVENUE                             </td> <td>224             </td> <td>1027 </td> <td>1      </td> <td>nan                                  </td> <td>R5                       </td> <td>R5                            </td> <td>28  COMMERCIAL CONDOS                       </td> <td>1               </td> <td>         </td> <td>0                </td> <td>0               </td> <td>1725</td> <td>MIDTOWN WEST             </td> <td>0                </td> <td>10035     </td> <td>nan                             </td> <td>4                   </td> <td>4                        </td> <td>1          </td> <td>1925      </td> <td>10019   </td>\n",
       "        </tr>\n",
       "        <tr>\n",
       "            <td>2011-11-02 00:00:00</td> <td>13015     </td> <td>870 7 AVENUE                             </td> <td>232             </td> <td>1027 </td> <td>1      </td> <td>nan                                  </td> <td>R5                       </td> <td>R5                            </td> <td>28  COMMERCIAL CONDOS                       </td> <td>1               </td> <td>         </td> <td>0                </td> <td>0               </td> <td>1733</td> <td>MIDTOWN WEST             </td> <td>0                </td> <td>10035     </td> <td>nan                             </td> <td>4                   </td> <td>4                        </td> <td>1          </td> <td>1925      </td> <td>10019   </td>\n",
       "        </tr>\n",
       "        <tr>\n",
       "            <td>2011-10-12 00:00:00</td> <td>13016     </td> <td>870 7 AVENUE                             </td> <td>232             </td> <td>1027 </td> <td>1      </td> <td>nan                                  </td> <td>R5                       </td> <td>R5                            </td> <td>28  COMMERCIAL CONDOS                       </td> <td>1               </td> <td>         </td> <td>0                </td> <td>0               </td> <td>1733</td> <td>MIDTOWN WEST             </td> <td>0                </td> <td>10035     </td> <td>nan                             </td> <td>4                   </td> <td>4                        </td> <td>1          </td> <td>1925      </td> <td>10019   </td>\n",
       "        </tr>\n",
       "        <tr>\n",
       "            <td>2011-09-28 00:00:00</td> <td>13017     </td> <td>870 7 AVENUE                             </td> <td>232             </td> <td>1027 </td> <td>1      </td> <td>nan                                  </td> <td>R5                       </td> <td>R5                            </td> <td>28  COMMERCIAL CONDOS                       </td> <td>1               </td> <td>         </td> <td>0                </td> <td>0               </td> <td>1733</td> <td>MIDTOWN WEST             </td> <td>0                </td> <td>10035     </td> <td>nan                             </td> <td>4                   </td> <td>4                        </td> <td>1          </td> <td>1925      </td> <td>10019   </td>\n",
       "        </tr>\n",
       "        <tr>\n",
       "            <td>2012-12-27 00:00:00</td> <td>10889     </td> <td>870 7 AVENUE                             </td> <td>217             </td> <td>1027 </td> <td>1      </td> <td>nan                                  </td> <td>RH                       </td> <td>RH                            </td> <td>                                            </td> <td>0               </td> <td>         </td> <td>0                </td> <td>0               </td> <td>1718</td> <td>MIDTOWN WEST             </td> <td>0                </td> <td>10035     </td> <td>nan                             </td> <td>4                   </td> <td>4                        </td> <td>1          </td> <td>1925      </td> <td>10019   </td>\n",
       "        </tr>\n",
       "        <tr>\n",
       "            <td>2012-11-07 00:00:00</td> <td>10891     </td> <td>870 7 AVENUE                             </td> <td>217             </td> <td>1027 </td> <td>1      </td> <td>nan                                  </td> <td>RH                       </td> <td>RH                            </td> <td>                                            </td> <td>0               </td> <td>         </td> <td>0                </td> <td>0               </td> <td>1718</td> <td>MIDTOWN WEST             </td> <td>0                </td> <td>10035     </td> <td>nan                             </td> <td>4                   </td> <td>4                        </td> <td>1          </td> <td>1925      </td> <td>10019   </td>\n",
       "        </tr>\n",
       "        <tr>\n",
       "            <td>2012-11-07 00:00:00</td> <td>10896     </td> <td>870 7 AVENUE                             </td> <td>222             </td> <td>1027 </td> <td>1      </td> <td>nan                                  </td> <td>RH                       </td> <td>RH                            </td> <td>                                            </td> <td>0               </td> <td>         </td> <td>0                </td> <td>0               </td> <td>1723</td> <td>MIDTOWN WEST             </td> <td>0                </td> <td>10035     </td> <td>nan                             </td> <td>4                   </td> <td>4                        </td> <td>1          </td> <td>1925      </td> <td>10019   </td>\n",
       "        </tr>\n",
       "        <tr>\n",
       "            <td>2012-11-07 00:00:00</td> <td>10899     </td> <td>870 7 AVENUE                             </td> <td>225             </td> <td>1027 </td> <td>1      </td> <td>nan                                  </td> <td>RH                       </td> <td>RH                            </td> <td>                                            </td> <td>0               </td> <td>         </td> <td>0                </td> <td>0               </td> <td>1726</td> <td>MIDTOWN WEST             </td> <td>0                </td> <td>10035     </td> <td>nan                             </td> <td>4                   </td> <td>4                        </td> <td>1          </td> <td>1925      </td> <td>10019   </td>\n",
       "        </tr>\n",
       "        <tr>\n",
       "            <td>2012-12-19 00:00:00</td> <td>10901     </td> <td>870 7 AVENUE                             </td> <td>226             </td> <td>1027 </td> <td>1      </td> <td>nan                                  </td> <td>RH                       </td> <td>RH                            </td> <td>                                            </td> <td>0               </td> <td>         </td> <td>0                </td> <td>0               </td> <td>1727</td> <td>MIDTOWN WEST             </td> <td>0                </td> <td>10035     </td> <td>nan                             </td> <td>4                   </td> <td>4                        </td> <td>1          </td> <td>1925      </td> <td>10019   </td>\n",
       "        </tr>\n",
       "    </tbody>\n",
       "</table>\n",
       "<p>... (289542 rows omitted)</p>"
      ],
      "text/plain": [
       "<IPython.core.display.HTML object>"
      ]
     },
     "metadata": {},
     "output_type": "display_data"
    },
    {
     "data": {
      "text/plain": [
       "('SALE DATE',\n",
       " 'Unnamed: 0',\n",
       " 'ADDRESS',\n",
       " 'APARTMENT NUMBER',\n",
       " 'BLOCK',\n",
       " 'BOROUGH',\n",
       " 'BUILDING CLASS AS OF FINAL ROLL 17/18',\n",
       " 'BUILDING CLASS AT PRESENT',\n",
       " 'BUILDING CLASS AT TIME OF SALE',\n",
       " 'BUILDING CLASS CATEGORY',\n",
       " 'COMMERCIAL UNITS',\n",
       " 'EASE-MENT',\n",
       " 'GROSS SQUARE FEET',\n",
       " 'LAND SQUARE FEET',\n",
       " 'LOT',\n",
       " 'NEIGHBORHOOD',\n",
       " 'RESIDENTIAL UNITS',\n",
       " 'SALE PRICE',\n",
       " 'TAX CLASS AS OF FINAL ROLL 17/18',\n",
       " 'TAX CLASS AT PRESENT',\n",
       " 'TAX CLASS AT TIME OF SALE',\n",
       " 'TOTAL UNITS',\n",
       " 'YEAR BUILT',\n",
       " 'ZIP CODE')"
      ]
     },
     "execution_count": 8,
     "metadata": {},
     "output_type": "execute_result"
    }
   ],
   "source": [
    "# SPOT CHECK: Understand the data lables we might be interested in\n",
    "all_sales_data.sort(\"SALE PRICE\").show(20)\n",
    "all_sales_data.labels"
   ]
  },
  {
   "cell_type": "code",
   "execution_count": 9,
   "metadata": {},
   "outputs": [],
   "source": [
    "# Remove columns we don't actually need. e.g. lot, block etc\n",
    "\n",
    "all_sales_data = all_sales_data.select(['SALE DATE', 'SALE PRICE', 'ADDRESS','APARTMENT NUMBER', 'YEAR BUILT', 'NEIGHBORHOOD', 'ZIP CODE', 'BUILDING CLASS AT TIME OF SALE', 'BUILDING CLASS CATEGORY'])"
   ]
  },
  {
   "cell_type": "code",
   "execution_count": 10,
   "metadata": {},
   "outputs": [
    {
     "name": "stderr",
     "output_type": "stream",
     "text": [
      "/Users/somya/Library/Python/3.7/lib/python/site-packages/datascience/tables.py:361: FutureWarning: column lists are deprecated; pass each as an argument\n",
      "  \"column lists are deprecated; pass each as an argument\", FutureWarning)\n"
     ]
    }
   ],
   "source": [
    "# Combine the Address and Apt No. The data here seems a little funky. Sometime the address itself contains the apt no,\n",
    "# other times it's seperated. Let's create a full address column that combines them into a single address\n",
    "\n",
    "def combine_address(address, aptNo):\n",
    "    \"\"\"Combine the address and Apartment into a single result\"\"\"\n",
    "    temp = address.strip()\n",
    "    if len(aptNo.strip()) > 0:\n",
    "        temp = temp + ', ' + aptNo.strip()\n",
    "    return temp\n",
    "\n",
    "full_address = all_sales_data.apply(combine_address, ['ADDRESS', 'APARTMENT NUMBER'])"
   ]
  },
  {
   "cell_type": "code",
   "execution_count": 11,
   "metadata": {},
   "outputs": [],
   "source": [
    "# Add a Full Address column\n",
    "all_sales_data =  all_sales_data.with_column('FULL ADDRESS', full_address)"
   ]
  },
  {
   "cell_type": "code",
   "execution_count": 12,
   "metadata": {},
   "outputs": [
    {
     "data": {
      "text/html": [
       "<table border=\"1\" class=\"dataframe\">\n",
       "    <thead>\n",
       "        <tr>\n",
       "            <th>BUILDING CLASS AT TIME OF SALE</th> <th>BUILDING CLASS CATEGORY</th> <th>count</th>\n",
       "        </tr>\n",
       "    </thead>\n",
       "    <tbody>\n",
       "        <tr>\n",
       "            <td>R4                            </td> <td>13  CONDOS - ELEVATOR APARTMENTS            </td> <td>90397</td>\n",
       "        </tr>\n",
       "        <tr>\n",
       "            <td>D4                            </td> <td>10  COOPS - ELEVATOR APARTMENTS             </td> <td>83679</td>\n",
       "        </tr>\n",
       "        <tr>\n",
       "            <td>R5                            </td> <td>28  COMMERCIAL CONDOS                       </td> <td>18200</td>\n",
       "        </tr>\n",
       "        <tr>\n",
       "            <td>R4                            </td> <td>13 CONDOS - ELEVATOR APARTMENTS             </td> <td>10873</td>\n",
       "        </tr>\n",
       "        <tr>\n",
       "            <td>C6                            </td> <td>09  COOPS - WALKUP APARTMENTS               </td> <td>10423</td>\n",
       "        </tr>\n",
       "        <tr>\n",
       "            <td>D4                            </td> <td>10 COOPS - ELEVATOR APARTMENTS              </td> <td>10331</td>\n",
       "        </tr>\n",
       "        <tr>\n",
       "            <td>R9                            </td> <td>17  CONDOPS                                 </td> <td>10124</td>\n",
       "        </tr>\n",
       "        <tr>\n",
       "            <td>H2                            </td> <td>25  LUXURY HOTELS                           </td> <td>9785 </td>\n",
       "        </tr>\n",
       "        <tr>\n",
       "            <td>RH                            </td> <td>45  CONDO HOTELS                            </td> <td>5478 </td>\n",
       "        </tr>\n",
       "        <tr>\n",
       "            <td>R9                            </td> <td>17  CONDO COOPS                             </td> <td>4155 </td>\n",
       "        </tr>\n",
       "        <tr>\n",
       "            <td>D0                            </td> <td>10  COOPS - ELEVATOR APARTMENTS             </td> <td>3331 </td>\n",
       "        </tr>\n",
       "        <tr>\n",
       "            <td>R1                            </td> <td>15  CONDOS - 2-10 UNIT RESIDENTIAL          </td> <td>3258 </td>\n",
       "        </tr>\n",
       "        <tr>\n",
       "            <td>C7                            </td> <td>07  RENTALS - WALKUP APARTMENTS             </td> <td>1910 </td>\n",
       "        </tr>\n",
       "        <tr>\n",
       "            <td>R9                            </td> <td>17 CONDO COOPS                              </td> <td>1645 </td>\n",
       "        </tr>\n",
       "        <tr>\n",
       "            <td>H3                            </td> <td>26  OTHER HOTELS                            </td> <td>1571 </td>\n",
       "        </tr>\n",
       "        <tr>\n",
       "            <td>C5                            </td> <td>07  RENTALS - WALKUP APARTMENTS             </td> <td>1476 </td>\n",
       "        </tr>\n",
       "        <tr>\n",
       "            <td>C1                            </td> <td>07  RENTALS - WALKUP APARTMENTS             </td> <td>1416 </td>\n",
       "        </tr>\n",
       "        <tr>\n",
       "            <td>C6                            </td> <td>09 COOPS - WALKUP APARTMENTS                </td> <td>1373 </td>\n",
       "        </tr>\n",
       "        <tr>\n",
       "            <td>R2                            </td> <td>12  CONDOS - WALKUP APARTMENTS              </td> <td>1282 </td>\n",
       "        </tr>\n",
       "        <tr>\n",
       "            <td>C4                            </td> <td>07  RENTALS - WALKUP APARTMENTS             </td> <td>1184 </td>\n",
       "        </tr>\n",
       "    </tbody>\n",
       "</table>\n",
       "<p>... (298 rows omitted)</p>"
      ],
      "text/plain": [
       "<IPython.core.display.HTML object>"
      ]
     },
     "metadata": {},
     "output_type": "display_data"
    }
   ],
   "source": [
    "# Try to understand Building Class Codes. What are the most common Codes?\n",
    "\n",
    "all_sales_data.group(['BUILDING CLASS AT TIME OF SALE', 'BUILDING CLASS CATEGORY']).sort('count', descending=True).show(20)\n",
    "\n",
    "# Question what's R5 -  COMMERCIAL CONDOS? ignoring for now"
   ]
  },
  {
   "cell_type": "code",
   "execution_count": 13,
   "metadata": {},
   "outputs": [],
   "source": [
    "# Let's pick out the condos for now. \n",
    "# See ## for condo codes\n",
    "condos = all_sales_data.where('BUILDING CLASS AT TIME OF SALE', are.contained_in(\"R1R2R3R4R6\"))"
   ]
  },
  {
   "cell_type": "code",
   "execution_count": 14,
   "metadata": {},
   "outputs": [
    {
     "data": {
      "text/html": [
       "<table border=\"1\" class=\"dataframe\">\n",
       "    <thead>\n",
       "        <tr>\n",
       "            <th>SALE DATE</th> <th>SALE PRICE</th> <th>ADDRESS</th> <th>APARTMENT NUMBER</th> <th>YEAR BUILT</th> <th>NEIGHBORHOOD</th> <th>ZIP CODE</th> <th>BUILDING CLASS AT TIME OF SALE</th> <th>BUILDING CLASS CATEGORY</th> <th>FULL ADDRESS</th>\n",
       "        </tr>\n",
       "    </thead>\n",
       "    <tbody>\n",
       "        <tr>\n",
       "            <td>2007-02-13 00:00:00</td> <td>630000    </td> <td>507 EAST 80 STREET                       </td> <td>2R              </td> <td>1925      </td> <td>UPPER EAST SIDE (79-96)  </td> <td>10021   </td> <td>R4                            </td> <td>13  CONDOS - ELEVATOR APARTMENTS            </td> <td>507 EAST 80 STREET, 2R     </td>\n",
       "        </tr>\n",
       "        <tr>\n",
       "            <td>2008-05-02 00:00:00</td> <td>522000    </td> <td>500 WEST 43RD STREET                     </td> <td>25G             </td> <td>1988      </td> <td>CLINTON                  </td> <td>10036   </td> <td>R4                            </td> <td>13  CONDOS - ELEVATOR APARTMENTS            </td> <td>500 WEST 43RD STREET, 25G  </td>\n",
       "        </tr>\n",
       "        <tr>\n",
       "            <td>2006-08-11 00:00:00</td> <td>585494    </td> <td>158 HESTER STREET                        </td> <td>6E              </td> <td>2004      </td> <td>CHINATOWN                </td> <td>10013   </td> <td>R4                            </td> <td>13  CONDOS - ELEVATOR APARTMENTS            </td> <td>158 HESTER STREET, 6E      </td>\n",
       "        </tr>\n",
       "        <tr>\n",
       "            <td>2016-10-05 00:00:00</td> <td>767000    </td> <td>416 WEST 52ND STREET                     </td> <td>                </td> <td>0         </td> <td>CLINTON                  </td> <td>10019   </td> <td>R4                            </td> <td>13  CONDOS - ELEVATOR APARTMENTS            </td> <td>416 WEST 52ND STREET       </td>\n",
       "        </tr>\n",
       "        <tr>\n",
       "            <td>2012-12-14 00:00:00</td> <td>960000    </td> <td>90 WILLIAM STREET                        </td> <td>2A              </td> <td>1967      </td> <td>FINANCIAL                </td> <td>10038   </td> <td>R4                            </td> <td>13  CONDOS - ELEVATOR APARTMENTS            </td> <td>90 WILLIAM STREET, 2A      </td>\n",
       "        </tr>\n",
       "        <tr>\n",
       "            <td>2006-06-27 00:00:00</td> <td>494832    </td> <td>350 WEST 42ND STREET                     </td> <td>18H             </td> <td>2004      </td> <td>MIDTOWN WEST             </td> <td>10036   </td> <td>R4                            </td> <td>13  CONDOS - ELEVATOR APARTMENTS            </td> <td>350 WEST 42ND STREET, 18H  </td>\n",
       "        </tr>\n",
       "        <tr>\n",
       "            <td>2011-09-28 00:00:00</td> <td>643229    </td> <td>2280 WEST 133 STREET                     </td> <td>9E              </td> <td>2008      </td> <td>HARLEM-CENTRAL           </td> <td>10027   </td> <td>R4                            </td> <td>13  CONDOS - ELEVATOR APARTMENTS            </td> <td>2280 WEST 133 STREET, 9E   </td>\n",
       "        </tr>\n",
       "        <tr>\n",
       "            <td>2017-08-30 00:00:00</td> <td>2100000   </td> <td>58 WEST 58TH   STREET                    </td> <td>3100            </td> <td>0         </td> <td>MIDTOWN WEST             </td> <td>10019   </td> <td>R4                            </td> <td>13 CONDOS - ELEVATOR APARTMENTS             </td> <td>58 WEST 58TH   STREET, 3100</td>\n",
       "        </tr>\n",
       "        <tr>\n",
       "            <td>2016-08-31 00:00:00</td> <td>1950000   </td> <td>425 EAST 13TH   STREET                   </td> <td>C               </td> <td>2007      </td> <td>EAST VILLAGE             </td> <td>10009   </td> <td>R4                            </td> <td>13  CONDOS - ELEVATOR APARTMENTS            </td> <td>425 EAST 13TH   STREET, C  </td>\n",
       "        </tr>\n",
       "        <tr>\n",
       "            <td>2006-05-11 00:00:00</td> <td>3027375   </td> <td>291 CENTRAL PARK WEST                    </td> <td>7W              </td> <td>0         </td> <td>UPPER WEST SIDE (79-96)  </td> <td>10024   </td> <td>R4                            </td> <td>13  CONDOS - ELEVATOR APARTMENTS            </td> <td>291 CENTRAL PARK WEST, 7W  </td>\n",
       "        </tr>\n",
       "    </tbody>\n",
       "</table>"
      ],
      "text/plain": [
       "SALE DATE           | SALE PRICE | ADDRESS                                   | APARTMENT NUMBER | YEAR BUILT | NEIGHBORHOOD              | ZIP CODE | BUILDING CLASS AT TIME OF SALE | BUILDING CLASS CATEGORY                      | FULL ADDRESS\n",
       "2007-02-13 00:00:00 | 630000     | 507 EAST 80 STREET                        | 2R               | 1925       | UPPER EAST SIDE (79-96)   | 10021    | R4                             | 13  CONDOS - ELEVATOR APARTMENTS             | 507 EAST 80 STREET, 2R\n",
       "2008-05-02 00:00:00 | 522000     | 500 WEST 43RD STREET                      | 25G              | 1988       | CLINTON                   | 10036    | R4                             | 13  CONDOS - ELEVATOR APARTMENTS             | 500 WEST 43RD STREET, 25G\n",
       "2006-08-11 00:00:00 | 585494     | 158 HESTER STREET                         | 6E               | 2004       | CHINATOWN                 | 10013    | R4                             | 13  CONDOS - ELEVATOR APARTMENTS             | 158 HESTER STREET, 6E\n",
       "2016-10-05 00:00:00 | 767000     | 416 WEST 52ND STREET                      |                  | 0          | CLINTON                   | 10019    | R4                             | 13  CONDOS - ELEVATOR APARTMENTS             | 416 WEST 52ND STREET\n",
       "2012-12-14 00:00:00 | 960000     | 90 WILLIAM STREET                         | 2A               | 1967       | FINANCIAL                 | 10038    | R4                             | 13  CONDOS - ELEVATOR APARTMENTS             | 90 WILLIAM STREET, 2A\n",
       "2006-06-27 00:00:00 | 494832     | 350 WEST 42ND STREET                      | 18H              | 2004       | MIDTOWN WEST              | 10036    | R4                             | 13  CONDOS - ELEVATOR APARTMENTS             | 350 WEST 42ND STREET, 18H\n",
       "2011-09-28 00:00:00 | 643229     | 2280 WEST 133 STREET                      | 9E               | 2008       | HARLEM-CENTRAL            | 10027    | R4                             | 13  CONDOS - ELEVATOR APARTMENTS             | 2280 WEST 133 STREET, 9E\n",
       "2017-08-30 00:00:00 | 2100000    | 58 WEST 58TH   STREET                     | 3100             | 0          | MIDTOWN WEST              | 10019    | R4                             | 13 CONDOS - ELEVATOR APARTMENTS              | 58 WEST 58TH   STREET, 3100\n",
       "2016-08-31 00:00:00 | 1950000    | 425 EAST 13TH   STREET                    | C                | 2007       | EAST VILLAGE              | 10009    | R4                             | 13  CONDOS - ELEVATOR APARTMENTS             | 425 EAST 13TH   STREET, C\n",
       "2006-05-11 00:00:00 | 3027375    | 291 CENTRAL PARK WEST                     | 7W               | 0          | UPPER WEST SIDE (79-96)   | 10024    | R4                             | 13  CONDOS - ELEVATOR APARTMENTS             | 291 CENTRAL PARK WEST, 7W"
      ]
     },
     "execution_count": 14,
     "metadata": {},
     "output_type": "execute_result"
    }
   ],
   "source": [
    "# Spot Check condo data\n",
    "condos.sample(10)"
   ]
  },
  {
   "cell_type": "code",
   "execution_count": 15,
   "metadata": {},
   "outputs": [],
   "source": [
    "\n",
    "years = [ d.year for d in condos.column(COL_SALE_DATE) ]\n",
    "\n",
    "months = [ d.month for d in condos.column(COL_SALE_DATE) ]\n",
    "\n",
    "condos = condos.with_column('SALE_YEAR', years, 'SALE_MONTH', months)"
   ]
  },
  {
   "cell_type": "code",
   "execution_count": 16,
   "metadata": {},
   "outputs": [
    {
     "data": {
      "text/html": [
       "<table border=\"1\" class=\"dataframe\">\n",
       "    <thead>\n",
       "        <tr>\n",
       "            <th>FULL ADDRESS</th> <th>count</th>\n",
       "        </tr>\n",
       "    </thead>\n",
       "    <tbody>\n",
       "        <tr>\n",
       "            <td>1 WEST END AVENUE        </td> <td>136  </td>\n",
       "        </tr>\n",
       "        <tr>\n",
       "            <td>45 EAST 22ND   STREET    </td> <td>51   </td>\n",
       "        </tr>\n",
       "        <tr>\n",
       "            <td>245 WEST 99TH STREET     </td> <td>50   </td>\n",
       "        </tr>\n",
       "        <tr>\n",
       "            <td>171 WEST 131 STREET      </td> <td>44   </td>\n",
       "        </tr>\n",
       "        <tr>\n",
       "            <td>959 1 AVENUE             </td> <td>42   </td>\n",
       "        </tr>\n",
       "        <tr>\n",
       "            <td>416 WEST 52ND STREET     </td> <td>39   </td>\n",
       "        </tr>\n",
       "        <tr>\n",
       "            <td>245 WEST 99TH   STREET   </td> <td>37   </td>\n",
       "        </tr>\n",
       "        <tr>\n",
       "            <td>2094 FREDRICK DOUGLASS BL</td> <td>35   </td>\n",
       "        </tr>\n",
       "        <tr>\n",
       "            <td>172 MADISON AVENUE       </td> <td>35   </td>\n",
       "        </tr>\n",
       "        <tr>\n",
       "            <td>360 EAST 89TH   STREET   </td> <td>23   </td>\n",
       "        </tr>\n",
       "    </tbody>\n",
       "</table>\n",
       "<p>... (85928 rows omitted)</p>"
      ],
      "text/plain": [
       "FULL ADDRESS              | count\n",
       "1 WEST END AVENUE         | 136\n",
       "45 EAST 22ND   STREET     | 51\n",
       "245 WEST 99TH STREET      | 50\n",
       "171 WEST 131 STREET       | 44\n",
       "959 1 AVENUE              | 42\n",
       "416 WEST 52ND STREET      | 39\n",
       "245 WEST 99TH   STREET    | 37\n",
       "2094 FREDRICK DOUGLASS BL | 35\n",
       "172 MADISON AVENUE        | 35\n",
       "360 EAST 89TH   STREET    | 23\n",
       "... (85928 rows omitted)"
      ]
     },
     "execution_count": 16,
     "metadata": {},
     "output_type": "execute_result"
    }
   ],
   "source": [
    "# Let's find condos with multiple sales\n",
    "\n",
    "condos.group('FULL ADDRESS').sort(1, descending=True)#.take(np.arange(0,10)).join(COL_FULL_ADDRESS, condos).sample(10)\n",
    "\n",
    "# Looks like Apt numbers are missing for most of the top sales. let's ignore anything without an apt number. "
   ]
  },
  {
   "cell_type": "code",
   "execution_count": null,
   "metadata": {},
   "outputs": [],
   "source": []
  },
  {
   "cell_type": "code",
   "execution_count": 17,
   "metadata": {},
   "outputs": [
    {
     "data": {
      "text/html": [
       "<table border=\"1\" class=\"dataframe\">\n",
       "    <thead>\n",
       "        <tr>\n",
       "            <th>FULL ADDRESS</th> <th>count</th>\n",
       "        </tr>\n",
       "    </thead>\n",
       "    <tbody>\n",
       "        <tr>\n",
       "            <td>2 EAST 55 STREET, 835    </td> <td>8    </td>\n",
       "        </tr>\n",
       "        <tr>\n",
       "            <td>2 EAST 55TH   STREET, 935</td> <td>7    </td>\n",
       "        </tr>\n",
       "        <tr>\n",
       "            <td>2 EAST 55 STREET, 921    </td> <td>7    </td>\n",
       "        </tr>\n",
       "        <tr>\n",
       "            <td>140 7 AVENUE, 6A         </td> <td>7    </td>\n",
       "        </tr>\n",
       "        <tr>\n",
       "            <td>77 PARK AVENUE, 2F       </td> <td>6    </td>\n",
       "        </tr>\n",
       "        <tr>\n",
       "            <td>418 CENTRAL PARK WEST, 22</td> <td>6    </td>\n",
       "        </tr>\n",
       "        <tr>\n",
       "            <td>2 EAST 55 STREET, 936    </td> <td>6    </td>\n",
       "        </tr>\n",
       "        <tr>\n",
       "            <td>2 EAST 55 STREET, 903    </td> <td>6    </td>\n",
       "        </tr>\n",
       "        <tr>\n",
       "            <td>15 BROAD STREET, 2116    </td> <td>6    </td>\n",
       "        </tr>\n",
       "        <tr>\n",
       "            <td>1420 YORK AVENUE, 5M     </td> <td>6    </td>\n",
       "        </tr>\n",
       "    </tbody>\n",
       "</table>\n",
       "<p>... (16343 rows omitted)</p>"
      ],
      "text/plain": [
       "FULL ADDRESS              | count\n",
       "2 EAST 55 STREET, 835     | 8\n",
       "2 EAST 55TH   STREET, 935 | 7\n",
       "2 EAST 55 STREET, 921     | 7\n",
       "140 7 AVENUE, 6A          | 7\n",
       "77 PARK AVENUE, 2F        | 6\n",
       "418 CENTRAL PARK WEST, 22 | 6\n",
       "2 EAST 55 STREET, 936     | 6\n",
       "2 EAST 55 STREET, 903     | 6\n",
       "15 BROAD STREET, 2116     | 6\n",
       "1420 YORK AVENUE, 5M      | 6\n",
       "... (16343 rows omitted)"
      ]
     },
     "execution_count": 17,
     "metadata": {},
     "output_type": "execute_result"
    }
   ],
   "source": [
    "# Find condos with apt numbers i.e. clean data, then find those with more that 1 sale record.\n",
    "\n",
    "multi_sale_condos = condos.where('FULL ADDRESS', are.containing(',')).group('FULL ADDRESS').sort(1, descending=True).where('count', are.above(1))\n",
    "multi_sale_condos\n",
    "\n",
    "#ahh much better, fewer sales but still roughly 15K records enough to proceed"
   ]
  },
  {
   "cell_type": "code",
   "execution_count": 18,
   "metadata": {},
   "outputs": [
    {
     "data": {
      "text/html": [
       "<table border=\"1\" class=\"dataframe\">\n",
       "    <thead>\n",
       "        <tr>\n",
       "            <th>FULL ADDRESS</th> <th>count</th> <th>SALE DATE</th> <th>SALE PRICE</th> <th>ADDRESS</th> <th>APARTMENT NUMBER</th> <th>YEAR BUILT</th> <th>NEIGHBORHOOD</th> <th>ZIP CODE</th> <th>BUILDING CLASS AT TIME OF SALE</th> <th>BUILDING CLASS CATEGORY</th> <th>SALE_YEAR</th> <th>SALE_MONTH</th>\n",
       "        </tr>\n",
       "    </thead>\n",
       "    <tbody>\n",
       "        <tr>\n",
       "            <td>1 BOND STREET, 2B</td> <td>2    </td> <td>2004-08-04 00:00:00</td> <td>31000     </td> <td>1 BOND STREET                            </td> <td>2B              </td> <td>0         </td> <td>GREENWICH VILLAGE-CENTRAL</td> <td>10012   </td> <td>R4                            </td> <td>13  CONDOS - ELEVATOR APARTMENTS            </td> <td>2004     </td> <td>8         </td>\n",
       "        </tr>\n",
       "        <tr>\n",
       "            <td>1 BOND STREET, 2B</td> <td>2    </td> <td>2009-08-20 00:00:00</td> <td>1591000   </td> <td>1 BOND STREET                            </td> <td>2B              </td> <td>0         </td> <td>GREENWICH VILLAGE-CENTRAL</td> <td>10012   </td> <td>R4                            </td> <td>13  CONDOS - ELEVATOR APARTMENTS            </td> <td>2009     </td> <td>8         </td>\n",
       "        </tr>\n",
       "        <tr>\n",
       "            <td>1 BOND STREET, 2C</td> <td>2    </td> <td>2017-08-18 00:00:00</td> <td>5640000   </td> <td>1 BOND STREET                            </td> <td>2C              </td> <td>0         </td> <td>GREENWICH VILLAGE-CENTRAL</td> <td>10012   </td> <td>R4                            </td> <td>13 CONDOS - ELEVATOR APARTMENTS             </td> <td>2017     </td> <td>8         </td>\n",
       "        </tr>\n",
       "        <tr>\n",
       "            <td>1 BOND STREET, 2C</td> <td>2    </td> <td>2010-12-15 00:00:00</td> <td>600000    </td> <td>1 BOND STREET                            </td> <td>2C              </td> <td>0         </td> <td>GREENWICH VILLAGE-CENTRAL</td> <td>10012   </td> <td>R4                            </td> <td>13  CONDOS - ELEVATOR APARTMENTS            </td> <td>2010     </td> <td>12        </td>\n",
       "        </tr>\n",
       "        <tr>\n",
       "            <td>1 BOND STREET, 2D</td> <td>2    </td> <td>2009-04-24 00:00:00</td> <td>1195000   </td> <td>1 BOND STREET                            </td> <td>2D              </td> <td>0         </td> <td>GREENWICH VILLAGE-CENTRAL</td> <td>10012   </td> <td>R4                            </td> <td>13  CONDOS - ELEVATOR APARTMENTS            </td> <td>2009     </td> <td>4         </td>\n",
       "        </tr>\n",
       "        <tr>\n",
       "            <td>1 BOND STREET, 2D</td> <td>2    </td> <td>2014-01-07 00:00:00</td> <td>1925000   </td> <td>1 BOND STREET                            </td> <td>2D              </td> <td>0         </td> <td>GREENWICH VILLAGE-CENTRAL</td> <td>10012   </td> <td>R4                            </td> <td>13  CONDOS - ELEVATOR APARTMENTS            </td> <td>2014     </td> <td>1         </td>\n",
       "        </tr>\n",
       "        <tr>\n",
       "            <td>1 BOND STREET, 3A</td> <td>2    </td> <td>2013-06-14 00:00:00</td> <td>7200000   </td> <td>1 BOND STREET                            </td> <td>3A              </td> <td>0         </td> <td>GREENWICH VILLAGE-CENTRAL</td> <td>10012   </td> <td>R4                            </td> <td>13  CONDOS - ELEVATOR APARTMENTS            </td> <td>2013     </td> <td>6         </td>\n",
       "        </tr>\n",
       "        <tr>\n",
       "            <td>1 BOND STREET, 3A</td> <td>2    </td> <td>2008-06-06 00:00:00</td> <td>5030000   </td> <td>1 BOND STREET                            </td> <td>3A              </td> <td>0         </td> <td>GREENWICH VILLAGE-CENTRAL</td> <td>10012   </td> <td>R4                            </td> <td>13  CONDOS - ELEVATOR APARTMENTS            </td> <td>2008     </td> <td>6         </td>\n",
       "        </tr>\n",
       "        <tr>\n",
       "            <td>1 BOND STREET, 4D</td> <td>2    </td> <td>2006-08-30 00:00:00</td> <td>1565000   </td> <td>1 BOND STREET                            </td> <td>4D              </td> <td>0         </td> <td>GREENWICH VILLAGE-CENTRAL</td> <td>10012   </td> <td>R4                            </td> <td>13  CONDOS - ELEVATOR APARTMENTS            </td> <td>2006     </td> <td>8         </td>\n",
       "        </tr>\n",
       "        <tr>\n",
       "            <td>1 BOND STREET, 4D</td> <td>2    </td> <td>2013-08-20 00:00:00</td> <td>2415000   </td> <td>1 BOND STREET                            </td> <td>4D              </td> <td>0         </td> <td>GREENWICH VILLAGE-CENTRAL</td> <td>10012   </td> <td>R4                            </td> <td>13  CONDOS - ELEVATOR APARTMENTS            </td> <td>2013     </td> <td>8         </td>\n",
       "        </tr>\n",
       "    </tbody>\n",
       "</table>\n",
       "<p>... (35878 rows omitted)</p>"
      ],
      "text/plain": [
       "FULL ADDRESS      | count | SALE DATE           | SALE PRICE | ADDRESS                                   | APARTMENT NUMBER | YEAR BUILT | NEIGHBORHOOD              | ZIP CODE | BUILDING CLASS AT TIME OF SALE | BUILDING CLASS CATEGORY                      | SALE_YEAR | SALE_MONTH\n",
       "1 BOND STREET, 2B | 2     | 2004-08-04 00:00:00 | 31000      | 1 BOND STREET                             | 2B               | 0          | GREENWICH VILLAGE-CENTRAL | 10012    | R4                             | 13  CONDOS - ELEVATOR APARTMENTS             | 2004      | 8\n",
       "1 BOND STREET, 2B | 2     | 2009-08-20 00:00:00 | 1591000    | 1 BOND STREET                             | 2B               | 0          | GREENWICH VILLAGE-CENTRAL | 10012    | R4                             | 13  CONDOS - ELEVATOR APARTMENTS             | 2009      | 8\n",
       "1 BOND STREET, 2C | 2     | 2017-08-18 00:00:00 | 5640000    | 1 BOND STREET                             | 2C               | 0          | GREENWICH VILLAGE-CENTRAL | 10012    | R4                             | 13 CONDOS - ELEVATOR APARTMENTS              | 2017      | 8\n",
       "1 BOND STREET, 2C | 2     | 2010-12-15 00:00:00 | 600000     | 1 BOND STREET                             | 2C               | 0          | GREENWICH VILLAGE-CENTRAL | 10012    | R4                             | 13  CONDOS - ELEVATOR APARTMENTS             | 2010      | 12\n",
       "1 BOND STREET, 2D | 2     | 2009-04-24 00:00:00 | 1195000    | 1 BOND STREET                             | 2D               | 0          | GREENWICH VILLAGE-CENTRAL | 10012    | R4                             | 13  CONDOS - ELEVATOR APARTMENTS             | 2009      | 4\n",
       "1 BOND STREET, 2D | 2     | 2014-01-07 00:00:00 | 1925000    | 1 BOND STREET                             | 2D               | 0          | GREENWICH VILLAGE-CENTRAL | 10012    | R4                             | 13  CONDOS - ELEVATOR APARTMENTS             | 2014      | 1\n",
       "1 BOND STREET, 3A | 2     | 2013-06-14 00:00:00 | 7200000    | 1 BOND STREET                             | 3A               | 0          | GREENWICH VILLAGE-CENTRAL | 10012    | R4                             | 13  CONDOS - ELEVATOR APARTMENTS             | 2013      | 6\n",
       "1 BOND STREET, 3A | 2     | 2008-06-06 00:00:00 | 5030000    | 1 BOND STREET                             | 3A               | 0          | GREENWICH VILLAGE-CENTRAL | 10012    | R4                             | 13  CONDOS - ELEVATOR APARTMENTS             | 2008      | 6\n",
       "1 BOND STREET, 4D | 2     | 2006-08-30 00:00:00 | 1565000    | 1 BOND STREET                             | 4D               | 0          | GREENWICH VILLAGE-CENTRAL | 10012    | R4                             | 13  CONDOS - ELEVATOR APARTMENTS             | 2006      | 8\n",
       "1 BOND STREET, 4D | 2     | 2013-08-20 00:00:00 | 2415000    | 1 BOND STREET                             | 4D               | 0          | GREENWICH VILLAGE-CENTRAL | 10012    | R4                             | 13  CONDOS - ELEVATOR APARTMENTS             | 2013      | 8\n",
       "... (35878 rows omitted)"
      ]
     },
     "execution_count": 18,
     "metadata": {},
     "output_type": "execute_result"
    }
   ],
   "source": [
    "# Define a new table for condos with multiple sales. \n",
    "\n",
    "multi_sale_condos = multi_sale_condos.join('FULL ADDRESS', condos, 'FULL ADDRESS')\n",
    "multi_sale_condos.sort(0)"
   ]
  },
  {
   "cell_type": "code",
   "execution_count": 19,
   "metadata": {},
   "outputs": [
    {
     "data": {
      "text/html": [
       "<table border=\"1\" class=\"dataframe\">\n",
       "    <thead>\n",
       "        <tr>\n",
       "            <th>FULL ADDRESS</th> <th>SALE DATE min</th>\n",
       "        </tr>\n",
       "    </thead>\n",
       "    <tbody>\n",
       "        <tr>\n",
       "            <td>1 BOND STREET, 2B</td> <td>2004-08-04 00:00:00</td>\n",
       "        </tr>\n",
       "        <tr>\n",
       "            <td>1 BOND STREET, 2C</td> <td>2010-12-15 00:00:00</td>\n",
       "        </tr>\n",
       "        <tr>\n",
       "            <td>1 BOND STREET, 2D</td> <td>2009-04-24 00:00:00</td>\n",
       "        </tr>\n",
       "        <tr>\n",
       "            <td>1 BOND STREET, 3A</td> <td>2008-06-06 00:00:00</td>\n",
       "        </tr>\n",
       "        <tr>\n",
       "            <td>1 BOND STREET, 4D</td> <td>2006-08-30 00:00:00</td>\n",
       "        </tr>\n",
       "    </tbody>\n",
       "</table>\n",
       "<p>... (16348 rows omitted)</p>"
      ],
      "text/plain": [
       "<IPython.core.display.HTML object>"
      ]
     },
     "metadata": {},
     "output_type": "display_data"
    },
    {
     "data": {
      "text/html": [
       "<table border=\"1\" class=\"dataframe\">\n",
       "    <thead>\n",
       "        <tr>\n",
       "            <th>FULL ADDRESS</th> <th>SALE DATE max</th>\n",
       "        </tr>\n",
       "    </thead>\n",
       "    <tbody>\n",
       "        <tr>\n",
       "            <td>1 BOND STREET, 2B</td> <td>2009-08-20 00:00:00</td>\n",
       "        </tr>\n",
       "        <tr>\n",
       "            <td>1 BOND STREET, 2C</td> <td>2017-08-18 00:00:00</td>\n",
       "        </tr>\n",
       "        <tr>\n",
       "            <td>1 BOND STREET, 2D</td> <td>2014-01-07 00:00:00</td>\n",
       "        </tr>\n",
       "        <tr>\n",
       "            <td>1 BOND STREET, 3A</td> <td>2013-06-14 00:00:00</td>\n",
       "        </tr>\n",
       "        <tr>\n",
       "            <td>1 BOND STREET, 4D</td> <td>2013-08-20 00:00:00</td>\n",
       "        </tr>\n",
       "    </tbody>\n",
       "</table>\n",
       "<p>... (16348 rows omitted)</p>"
      ],
      "text/plain": [
       "<IPython.core.display.HTML object>"
      ]
     },
     "metadata": {},
     "output_type": "display_data"
    }
   ],
   "source": [
    "# Find the first and last Sale Dates\n",
    "\n",
    "first_sale_dates = multi_sale_condos.select(0, 2).group([0], min)\n",
    "last_sale_dates = multi_sale_condos.select(0, 2).group([0], max)\n",
    "\n",
    "# Spot check data\n",
    "first_sale_dates.show(5)\n",
    "last_sale_dates.show(5)"
   ]
  },
  {
   "cell_type": "code",
   "execution_count": 20,
   "metadata": {},
   "outputs": [],
   "source": [
    "# Update Labels\n",
    "\n",
    "first_sale_dates = first_sale_dates.relabel(1, 'FIRST SALE')\n",
    "last_sale_dates = last_sale_dates.relabel(1, 'LAST SALE')"
   ]
  },
  {
   "cell_type": "code",
   "execution_count": 21,
   "metadata": {},
   "outputs": [],
   "source": [
    "# Join with Condos to get the sale price\n",
    "first_sale_dates = first_sale_dates.join(\"FULL ADDRESS\", condos, 'FULL ADDRESS').where('SALE DATE', are.equal_to, 'FIRST SALE')\n",
    "first_sale_dates = first_sale_dates.select('FULL ADDRESS', 'FIRST SALE', 'SALE PRICE')\n",
    "\n",
    "\n",
    "last_sale_dates = last_sale_dates.join(\"FULL ADDRESS\", condos, 'FULL ADDRESS').where('SALE DATE', are.equal_to, 'LAST SALE')\n",
    "last_sale_dates = last_sale_dates.select('FULL ADDRESS', 'LAST SALE', 'SALE PRICE')"
   ]
  },
  {
   "cell_type": "code",
   "execution_count": 22,
   "metadata": {},
   "outputs": [
    {
     "data": {
      "text/html": [
       "<table border=\"1\" class=\"dataframe\">\n",
       "    <thead>\n",
       "        <tr>\n",
       "            <th>FULL ADDRESS</th> <th>FIRST SALE</th> <th>SALE PRICE</th>\n",
       "        </tr>\n",
       "    </thead>\n",
       "    <tbody>\n",
       "        <tr>\n",
       "            <td>1 BOND STREET, 2B</td> <td>2004-08-04 00:00:00</td> <td>31000     </td>\n",
       "        </tr>\n",
       "        <tr>\n",
       "            <td>1 BOND STREET, 2C</td> <td>2010-12-15 00:00:00</td> <td>600000    </td>\n",
       "        </tr>\n",
       "        <tr>\n",
       "            <td>1 BOND STREET, 2D</td> <td>2009-04-24 00:00:00</td> <td>1195000   </td>\n",
       "        </tr>\n",
       "        <tr>\n",
       "            <td>1 BOND STREET, 3A</td> <td>2008-06-06 00:00:00</td> <td>5030000   </td>\n",
       "        </tr>\n",
       "        <tr>\n",
       "            <td>1 BOND STREET, 4D</td> <td>2006-08-30 00:00:00</td> <td>1565000   </td>\n",
       "        </tr>\n",
       "    </tbody>\n",
       "</table>\n",
       "<p>... (17721 rows omitted)</p>"
      ],
      "text/plain": [
       "<IPython.core.display.HTML object>"
      ]
     },
     "metadata": {},
     "output_type": "display_data"
    },
    {
     "data": {
      "text/html": [
       "<table border=\"1\" class=\"dataframe\">\n",
       "    <thead>\n",
       "        <tr>\n",
       "            <th>FULL ADDRESS</th> <th>LAST SALE</th> <th>SALE PRICE</th>\n",
       "        </tr>\n",
       "    </thead>\n",
       "    <tbody>\n",
       "        <tr>\n",
       "            <td>1 BOND STREET, 2B</td> <td>2009-08-20 00:00:00</td> <td>1591000   </td>\n",
       "        </tr>\n",
       "        <tr>\n",
       "            <td>1 BOND STREET, 2C</td> <td>2017-08-18 00:00:00</td> <td>5640000   </td>\n",
       "        </tr>\n",
       "        <tr>\n",
       "            <td>1 BOND STREET, 2D</td> <td>2014-01-07 00:00:00</td> <td>1925000   </td>\n",
       "        </tr>\n",
       "        <tr>\n",
       "            <td>1 BOND STREET, 3A</td> <td>2013-06-14 00:00:00</td> <td>7200000   </td>\n",
       "        </tr>\n",
       "        <tr>\n",
       "            <td>1 BOND STREET, 4D</td> <td>2013-08-20 00:00:00</td> <td>2415000   </td>\n",
       "        </tr>\n",
       "    </tbody>\n",
       "</table>\n",
       "<p>... (18251 rows omitted)</p>"
      ],
      "text/plain": [
       "<IPython.core.display.HTML object>"
      ]
     },
     "metadata": {},
     "output_type": "display_data"
    }
   ],
   "source": [
    "first_sale_dates.show(5)\n",
    "last_sale_dates.show(5)\n",
    "\n",
    "# Hmm earlier we had 14387 now we have more and they don't match. Could we have duplicates??"
   ]
  },
  {
   "cell_type": "code",
   "execution_count": 23,
   "metadata": {},
   "outputs": [
    {
     "data": {
      "text/html": [
       "<table border=\"1\" class=\"dataframe\">\n",
       "    <thead>\n",
       "        <tr>\n",
       "            <th>FULL ADDRESS</th> <th>FIRST SALE</th> <th>count</th>\n",
       "        </tr>\n",
       "    </thead>\n",
       "    <tbody>\n",
       "        <tr>\n",
       "            <td>30 EAST 37TH   STREET, 7H </td> <td>2017-09-25 00:00:00</td> <td>4    </td>\n",
       "        </tr>\n",
       "        <tr>\n",
       "            <td>225 RECTOR PLACE, 6K      </td> <td>2017-12-15 00:00:00</td> <td>4    </td>\n",
       "        </tr>\n",
       "        <tr>\n",
       "            <td>2 EAST 55 STREET, 921     </td> <td>2006-08-22 00:00:00</td> <td>4    </td>\n",
       "        </tr>\n",
       "        <tr>\n",
       "            <td>201 WEST 17TH   STREET, 7A</td> <td>2014-03-31 00:00:00</td> <td>3    </td>\n",
       "        </tr>\n",
       "        <tr>\n",
       "            <td>131 BANK ST, 4            </td> <td>2004-07-01 00:00:00</td> <td>3    </td>\n",
       "        </tr>\n",
       "        <tr>\n",
       "            <td>99 JOHN STREET, 423       </td> <td>2013-11-21 00:00:00</td> <td>2    </td>\n",
       "        </tr>\n",
       "        <tr>\n",
       "            <td>99 BATTERY PLACE, 20-D    </td> <td>2017-12-15 00:00:00</td> <td>2    </td>\n",
       "        </tr>\n",
       "        <tr>\n",
       "            <td>959 FIRST AVENUE, 16B     </td> <td>2017-11-20 00:00:00</td> <td>2    </td>\n",
       "        </tr>\n",
       "        <tr>\n",
       "            <td>959 1ST AVENUE, 5F        </td> <td>2017-11-07 00:00:00</td> <td>2    </td>\n",
       "        </tr>\n",
       "        <tr>\n",
       "            <td>959 1ST AVENUE, 2B        </td> <td>2017-12-19 00:00:00</td> <td>2    </td>\n",
       "        </tr>\n",
       "    </tbody>\n",
       "</table>\n",
       "<p>... (16343 rows omitted)</p>"
      ],
      "text/plain": [
       "FULL ADDRESS               | FIRST SALE          | count\n",
       "30 EAST 37TH   STREET, 7H  | 2017-09-25 00:00:00 | 4\n",
       "225 RECTOR PLACE, 6K       | 2017-12-15 00:00:00 | 4\n",
       "2 EAST 55 STREET, 921      | 2006-08-22 00:00:00 | 4\n",
       "201 WEST 17TH   STREET, 7A | 2014-03-31 00:00:00 | 3\n",
       "131 BANK ST, 4             | 2004-07-01 00:00:00 | 3\n",
       "99 JOHN STREET, 423        | 2013-11-21 00:00:00 | 2\n",
       "99 BATTERY PLACE, 20-D     | 2017-12-15 00:00:00 | 2\n",
       "959 FIRST AVENUE, 16B      | 2017-11-20 00:00:00 | 2\n",
       "959 1ST AVENUE, 5F         | 2017-11-07 00:00:00 | 2\n",
       "959 1ST AVENUE, 2B         | 2017-12-19 00:00:00 | 2\n",
       "... (16343 rows omitted)"
      ]
     },
     "execution_count": 23,
     "metadata": {},
     "output_type": "execute_result"
    }
   ],
   "source": [
    "# Yep duplicate sales on the same day wtf!\n",
    "\n",
    "first_sale_dates.groups([0,1]).sort(2, descending=True)"
   ]
  },
  {
   "cell_type": "code",
   "execution_count": 24,
   "metadata": {},
   "outputs": [
    {
     "data": {
      "text/html": [
       "<table border=\"1\" class=\"dataframe\">\n",
       "    <thead>\n",
       "        <tr>\n",
       "            <th>SALE DATE</th> <th>SALE PRICE</th> <th>ADDRESS</th> <th>APARTMENT NUMBER</th> <th>YEAR BUILT</th> <th>NEIGHBORHOOD</th> <th>ZIP CODE</th> <th>BUILDING CLASS AT TIME OF SALE</th> <th>BUILDING CLASS CATEGORY</th> <th>FULL ADDRESS</th> <th>SALE_YEAR</th> <th>SALE_MONTH</th>\n",
       "        </tr>\n",
       "    </thead>\n",
       "    <tbody>\n",
       "        <tr>\n",
       "            <td>2006-10-09 00:00:00</td> <td>467251    </td> <td>2 EAST 55 STREET                         </td> <td>921             </td> <td>1903      </td> <td>MIDTOWN CBD              </td> <td>10022   </td> <td>R4                            </td> <td>13  CONDOS - ELEVATOR APARTMENTS            </td> <td>2 EAST 55 STREET, 921</td> <td>2006     </td> <td>10        </td>\n",
       "        </tr>\n",
       "        <tr>\n",
       "            <td>2006-10-09 00:00:00</td> <td>403977    </td> <td>2 EAST 55 STREET                         </td> <td>921             </td> <td>1903      </td> <td>MIDTOWN CBD              </td> <td>10022   </td> <td>R4                            </td> <td>13  CONDOS - ELEVATOR APARTMENTS            </td> <td>2 EAST 55 STREET, 921</td> <td>2006     </td> <td>10        </td>\n",
       "        </tr>\n",
       "        <tr>\n",
       "            <td>2006-09-05 00:00:00</td> <td>451230    </td> <td>2 EAST 55 STREET                         </td> <td>921             </td> <td>1903      </td> <td>MIDTOWN CBD              </td> <td>10022   </td> <td>R4                            </td> <td>13  CONDOS - ELEVATOR APARTMENTS            </td> <td>2 EAST 55 STREET, 921</td> <td>2006     </td> <td>9         </td>\n",
       "        </tr>\n",
       "        <tr>\n",
       "            <td>2006-08-22 00:00:00</td> <td>486720    </td> <td>2 EAST 55 STREET                         </td> <td>921             </td> <td>1903      </td> <td>MIDTOWN CBD              </td> <td>10022   </td> <td>R4                            </td> <td>13  CONDOS - ELEVATOR APARTMENTS            </td> <td>2 EAST 55 STREET, 921</td> <td>2006     </td> <td>8         </td>\n",
       "        </tr>\n",
       "        <tr>\n",
       "            <td>2006-08-22 00:00:00</td> <td>496860    </td> <td>2 EAST 55 STREET                         </td> <td>921             </td> <td>1903      </td> <td>MIDTOWN CBD              </td> <td>10022   </td> <td>R4                            </td> <td>13  CONDOS - ELEVATOR APARTMENTS            </td> <td>2 EAST 55 STREET, 921</td> <td>2006     </td> <td>8         </td>\n",
       "        </tr>\n",
       "        <tr>\n",
       "            <td>2006-08-22 00:00:00</td> <td>486922    </td> <td>2 EAST 55 STREET                         </td> <td>921             </td> <td>1903      </td> <td>MIDTOWN CBD              </td> <td>10022   </td> <td>R4                            </td> <td>13  CONDOS - ELEVATOR APARTMENTS            </td> <td>2 EAST 55 STREET, 921</td> <td>2006     </td> <td>8         </td>\n",
       "        </tr>\n",
       "        <tr>\n",
       "            <td>2006-08-22 00:00:00</td> <td>412393    </td> <td>2 EAST 55 STREET                         </td> <td>921             </td> <td>1903      </td> <td>MIDTOWN CBD              </td> <td>10022   </td> <td>R4                            </td> <td>13  CONDOS - ELEVATOR APARTMENTS            </td> <td>2 EAST 55 STREET, 921</td> <td>2006     </td> <td>8         </td>\n",
       "        </tr>\n",
       "    </tbody>\n",
       "</table>"
      ],
      "text/plain": [
       "<IPython.core.display.HTML object>"
      ]
     },
     "metadata": {},
     "output_type": "display_data"
    },
    {
     "data": {
      "text/html": [
       "<table border=\"1\" class=\"dataframe\">\n",
       "    <thead>\n",
       "        <tr>\n",
       "            <th>FULL ADDRESS</th> <th>FIRST SALE</th> <th>SALE PRICE</th>\n",
       "        </tr>\n",
       "    </thead>\n",
       "    <tbody>\n",
       "        <tr>\n",
       "            <td>201 WEST 17TH   STREET, 7A</td> <td>2014-03-31 00:00:00</td> <td>999652    </td>\n",
       "        </tr>\n",
       "        <tr>\n",
       "            <td>201 WEST 17TH   STREET, 7A</td> <td>2014-03-31 00:00:00</td> <td>999652    </td>\n",
       "        </tr>\n",
       "        <tr>\n",
       "            <td>201 WEST 17TH   STREET, 7A</td> <td>2014-03-31 00:00:00</td> <td>999652    </td>\n",
       "        </tr>\n",
       "    </tbody>\n",
       "</table>"
      ],
      "text/plain": [
       "FULL ADDRESS               | FIRST SALE          | SALE PRICE\n",
       "201 WEST 17TH   STREET, 7A | 2014-03-31 00:00:00 | 999652\n",
       "201 WEST 17TH   STREET, 7A | 2014-03-31 00:00:00 | 999652\n",
       "201 WEST 17TH   STREET, 7A | 2014-03-31 00:00:00 | 999652"
      ]
     },
     "execution_count": 24,
     "metadata": {},
     "output_type": "execute_result"
    }
   ],
   "source": [
    "# Spot check some duplicate addresses to understand what's going on\n",
    "condos.where('FULL ADDRESS', are.equal_to('2 EAST 55 STREET, 921')).show()\n",
    "first_sale_dates.where('FULL ADDRESS', are.containing('201 WEST 17TH'))"
   ]
  },
  {
   "cell_type": "code",
   "execution_count": 25,
   "metadata": {},
   "outputs": [],
   "source": [
    "# ok let's just take the corresponding min and max value to keep moving along\n",
    "\n",
    "first_sale_dates = first_sale_dates.group([0,1], min)\n",
    "last_sale_dates = last_sale_dates.group([0,1], max)"
   ]
  },
  {
   "cell_type": "code",
   "execution_count": 26,
   "metadata": {},
   "outputs": [
    {
     "data": {
      "text/html": [
       "<table border=\"1\" class=\"dataframe\">\n",
       "    <thead>\n",
       "        <tr>\n",
       "            <th>FULL ADDRESS</th> <th>FIRST SALE</th> <th>FIRST PRICE</th> <th>LAST SALE</th> <th>LAST PRICE</th>\n",
       "        </tr>\n",
       "    </thead>\n",
       "    <tbody>\n",
       "        <tr>\n",
       "            <td>1 BOND STREET, 2B         </td> <td>2004-08-04 00:00:00</td> <td>31000      </td> <td>2009-08-20 00:00:00</td> <td>1591000   </td>\n",
       "        </tr>\n",
       "        <tr>\n",
       "            <td>1 BOND STREET, 2C         </td> <td>2010-12-15 00:00:00</td> <td>600000     </td> <td>2017-08-18 00:00:00</td> <td>5640000   </td>\n",
       "        </tr>\n",
       "        <tr>\n",
       "            <td>1 BOND STREET, 2D         </td> <td>2009-04-24 00:00:00</td> <td>1195000    </td> <td>2014-01-07 00:00:00</td> <td>1925000   </td>\n",
       "        </tr>\n",
       "        <tr>\n",
       "            <td>1 BOND STREET, 3A         </td> <td>2008-06-06 00:00:00</td> <td>5030000    </td> <td>2013-06-14 00:00:00</td> <td>7200000   </td>\n",
       "        </tr>\n",
       "        <tr>\n",
       "            <td>1 BOND STREET, 4D         </td> <td>2006-08-30 00:00:00</td> <td>1565000    </td> <td>2013-08-20 00:00:00</td> <td>2415000   </td>\n",
       "        </tr>\n",
       "        <tr>\n",
       "            <td>1 BOND STREET, 6A         </td> <td>2012-12-12 00:00:00</td> <td>3600000    </td> <td>2017-09-06 00:00:00</td> <td>5250000   </td>\n",
       "        </tr>\n",
       "        <tr>\n",
       "            <td>1 BOND STREET, 6B         </td> <td>2004-12-01 00:00:00</td> <td>2996000    </td> <td>2016-05-20 00:00:00</td> <td>4350000   </td>\n",
       "        </tr>\n",
       "        <tr>\n",
       "            <td>1 CENTRAL PARK SOUTH, 2002</td> <td>2010-12-01 00:00:00</td> <td>4600000    </td> <td>2018-06-22 00:00:00</td> <td>4750000   </td>\n",
       "        </tr>\n",
       "        <tr>\n",
       "            <td>1 CENTRAL PARK SOUTH, 503 </td> <td>2012-12-18 00:00:00</td> <td>7995000    </td> <td>2017-02-24 00:00:00</td> <td>10150000  </td>\n",
       "        </tr>\n",
       "        <tr>\n",
       "            <td>1 CENTRAL PARK WEST, 23B  </td> <td>2008-04-03 00:00:00</td> <td>5580000    </td> <td>2012-06-28 00:00:00</td> <td>6200000   </td>\n",
       "        </tr>\n",
       "    </tbody>\n",
       "</table>\n",
       "<p>... (16343 rows omitted)</p>"
      ],
      "text/plain": [
       "FULL ADDRESS               | FIRST SALE          | FIRST PRICE | LAST SALE           | LAST PRICE\n",
       "1 BOND STREET, 2B          | 2004-08-04 00:00:00 | 31000       | 2009-08-20 00:00:00 | 1591000\n",
       "1 BOND STREET, 2C          | 2010-12-15 00:00:00 | 600000      | 2017-08-18 00:00:00 | 5640000\n",
       "1 BOND STREET, 2D          | 2009-04-24 00:00:00 | 1195000     | 2014-01-07 00:00:00 | 1925000\n",
       "1 BOND STREET, 3A          | 2008-06-06 00:00:00 | 5030000     | 2013-06-14 00:00:00 | 7200000\n",
       "1 BOND STREET, 4D          | 2006-08-30 00:00:00 | 1565000     | 2013-08-20 00:00:00 | 2415000\n",
       "1 BOND STREET, 6A          | 2012-12-12 00:00:00 | 3600000     | 2017-09-06 00:00:00 | 5250000\n",
       "1 BOND STREET, 6B          | 2004-12-01 00:00:00 | 2996000     | 2016-05-20 00:00:00 | 4350000\n",
       "1 CENTRAL PARK SOUTH, 2002 | 2010-12-01 00:00:00 | 4600000     | 2018-06-22 00:00:00 | 4750000\n",
       "1 CENTRAL PARK SOUTH, 503  | 2012-12-18 00:00:00 | 7995000     | 2017-02-24 00:00:00 | 10150000\n",
       "1 CENTRAL PARK WEST, 23B   | 2008-04-03 00:00:00 | 5580000     | 2012-06-28 00:00:00 | 6200000\n",
       "... (16343 rows omitted)"
      ]
     },
     "execution_count": 26,
     "metadata": {},
     "output_type": "execute_result"
    }
   ],
   "source": [
    "# Relabel and join the first and last sale tables to create a new condo sales table\n",
    "\n",
    "first_sale_dates = first_sale_dates.relabel(2, 'FIRST PRICE')\n",
    "last_sale_dates = last_sale_dates.relabel(2, 'LAST PRICE')\n",
    "\n",
    "\n",
    "condo_sales = first_sale_dates.join('FULL ADDRESS', last_sale_dates, 'FULL ADDRESS')\n",
    "condo_sales"
   ]
  },
  {
   "cell_type": "code",
   "execution_count": 27,
   "metadata": {},
   "outputs": [
    {
     "data": {
      "text/html": [
       "<table border=\"1\" class=\"dataframe\">\n",
       "    <thead>\n",
       "        <tr>\n",
       "            <th>FULL ADDRESS</th> <th>FIRST SALE</th> <th>FIRST PRICE</th> <th>LAST SALE</th> <th>LAST PRICE</th> <th>PRICE CHANGE</th> <th>PERIOD</th>\n",
       "        </tr>\n",
       "    </thead>\n",
       "    <tbody>\n",
       "        <tr>\n",
       "            <td>1 BOND STREET, 2B         </td> <td>2004-08-04 00:00:00</td> <td>31000      </td> <td>2009-08-20 00:00:00</td> <td>1591000   </td> <td>1,560,000   </td> <td>1842  </td>\n",
       "        </tr>\n",
       "        <tr>\n",
       "            <td>1 BOND STREET, 2C         </td> <td>2010-12-15 00:00:00</td> <td>600000     </td> <td>2017-08-18 00:00:00</td> <td>5640000   </td> <td>5,040,000   </td> <td>2438  </td>\n",
       "        </tr>\n",
       "        <tr>\n",
       "            <td>1 BOND STREET, 2D         </td> <td>2009-04-24 00:00:00</td> <td>1195000    </td> <td>2014-01-07 00:00:00</td> <td>1925000   </td> <td>730,000     </td> <td>1719  </td>\n",
       "        </tr>\n",
       "        <tr>\n",
       "            <td>1 BOND STREET, 3A         </td> <td>2008-06-06 00:00:00</td> <td>5030000    </td> <td>2013-06-14 00:00:00</td> <td>7200000   </td> <td>2,170,000   </td> <td>1834  </td>\n",
       "        </tr>\n",
       "        <tr>\n",
       "            <td>1 BOND STREET, 4D         </td> <td>2006-08-30 00:00:00</td> <td>1565000    </td> <td>2013-08-20 00:00:00</td> <td>2415000   </td> <td>850,000     </td> <td>2547  </td>\n",
       "        </tr>\n",
       "        <tr>\n",
       "            <td>1 BOND STREET, 6A         </td> <td>2012-12-12 00:00:00</td> <td>3600000    </td> <td>2017-09-06 00:00:00</td> <td>5250000   </td> <td>1,650,000   </td> <td>1729  </td>\n",
       "        </tr>\n",
       "        <tr>\n",
       "            <td>1 BOND STREET, 6B         </td> <td>2004-12-01 00:00:00</td> <td>2996000    </td> <td>2016-05-20 00:00:00</td> <td>4350000   </td> <td>1,354,000   </td> <td>4188  </td>\n",
       "        </tr>\n",
       "        <tr>\n",
       "            <td>1 CENTRAL PARK SOUTH, 2002</td> <td>2010-12-01 00:00:00</td> <td>4600000    </td> <td>2018-06-22 00:00:00</td> <td>4750000   </td> <td>150,000     </td> <td>2760  </td>\n",
       "        </tr>\n",
       "        <tr>\n",
       "            <td>1 CENTRAL PARK SOUTH, 503 </td> <td>2012-12-18 00:00:00</td> <td>7995000    </td> <td>2017-02-24 00:00:00</td> <td>10150000  </td> <td>2,155,000   </td> <td>1529  </td>\n",
       "        </tr>\n",
       "        <tr>\n",
       "            <td>1 CENTRAL PARK WEST, 23B  </td> <td>2008-04-03 00:00:00</td> <td>5580000    </td> <td>2012-06-28 00:00:00</td> <td>6200000   </td> <td>620,000     </td> <td>1547  </td>\n",
       "        </tr>\n",
       "    </tbody>\n",
       "</table>\n",
       "<p>... (16343 rows omitted)</p>"
      ],
      "text/plain": [
       "FULL ADDRESS               | FIRST SALE          | FIRST PRICE | LAST SALE           | LAST PRICE | PRICE CHANGE | PERIOD\n",
       "1 BOND STREET, 2B          | 2004-08-04 00:00:00 | 31000       | 2009-08-20 00:00:00 | 1591000    | 1,560,000    | 1842\n",
       "1 BOND STREET, 2C          | 2010-12-15 00:00:00 | 600000      | 2017-08-18 00:00:00 | 5640000    | 5,040,000    | 2438\n",
       "1 BOND STREET, 2D          | 2009-04-24 00:00:00 | 1195000     | 2014-01-07 00:00:00 | 1925000    | 730,000      | 1719\n",
       "1 BOND STREET, 3A          | 2008-06-06 00:00:00 | 5030000     | 2013-06-14 00:00:00 | 7200000    | 2,170,000    | 1834\n",
       "1 BOND STREET, 4D          | 2006-08-30 00:00:00 | 1565000     | 2013-08-20 00:00:00 | 2415000    | 850,000      | 2547\n",
       "1 BOND STREET, 6A          | 2012-12-12 00:00:00 | 3600000     | 2017-09-06 00:00:00 | 5250000    | 1,650,000    | 1729\n",
       "1 BOND STREET, 6B          | 2004-12-01 00:00:00 | 2996000     | 2016-05-20 00:00:00 | 4350000    | 1,354,000    | 4188\n",
       "1 CENTRAL PARK SOUTH, 2002 | 2010-12-01 00:00:00 | 4600000     | 2018-06-22 00:00:00 | 4750000    | 150,000      | 2760\n",
       "1 CENTRAL PARK SOUTH, 503  | 2012-12-18 00:00:00 | 7995000     | 2017-02-24 00:00:00 | 10150000   | 2,155,000    | 1529\n",
       "1 CENTRAL PARK WEST, 23B   | 2008-04-03 00:00:00 | 5580000     | 2012-06-28 00:00:00 | 6200000    | 620,000      | 1547\n",
       "... (16343 rows omitted)"
      ]
     },
     "execution_count": 27,
     "metadata": {},
     "output_type": "execute_result"
    }
   ],
   "source": [
    "# Calculate Price Diffs\n",
    "\n",
    "price_diffs = condo_sales.column('LAST PRICE') - condo_sales.column('FIRST PRICE')\n",
    "date_diffs = condo_sales.column('LAST SALE') - condo_sales.column('FIRST SALE')\n",
    "\n",
    "date_diffs = [ d.days for d in date_diffs ]\n",
    "\n",
    "\n",
    "condo_sales = condo_sales.with_column( \"PRICE CHANGE\", price_diffs, \"PERIOD\", date_diffs)\n",
    "condo_sales.set_format('PRICE CHANGE', NumberFormatter())"
   ]
  },
  {
   "cell_type": "code",
   "execution_count": 28,
   "metadata": {},
   "outputs": [
    {
     "name": "stdout",
     "output_type": "stream",
     "text": [
      "Avg: 381770.5211887727 \tStd: 2508099.3864181554 \tMin: -183014844 \tMax: 44312249\n",
      " 5%: -153910 \t95%: 1846325\n",
      " 1%: -1401211 \t99%: 5060430\n",
      "25%: 47590 \t50%: 230000 \t75% 541165\n"
     ]
    }
   ],
   "source": [
    "# Understand price difference data\n",
    "\n",
    "print_stats(price_diffs)\n",
    "\n"
   ]
  },
  {
   "cell_type": "code",
   "execution_count": 29,
   "metadata": {},
   "outputs": [],
   "source": [
    "# strip out the Price chnage outliers . \n",
    "percent_1 = percentile(1, price_diffs)\n",
    "percent_99 = percentile(99, price_diffs)\n",
    "\n",
    "condo_sales = condo_sales.where(COL_PRICE_CHANGE, are.between(percent_1, percent_99))\n"
   ]
  },
  {
   "cell_type": "code",
   "execution_count": 30,
   "metadata": {},
   "outputs": [
    {
     "name": "stdout",
     "output_type": "stream",
     "text": [
      "Avg: 381770.5211887727 \tStd: 2508099.3864181554 \tMin: -183014844 \tMax: 44312249\n",
      " 5%: -153910 \t95%: 1846325\n",
      " 1%: -1401211 \t99%: 5060430\n",
      "25%: 47590 \t50%: 230000 \t75% 541165\n",
      "------\n",
      "Avg: 415531.6870710096 \tStd: 666225.3104342404 \tMin: -1401211 \tMax: 5051231\n",
      " 5%: -116804 \t95%: 1660201\n",
      " 1%: -560772 \t99%: 3408872\n",
      "25%: 51000 \t50%: 230000 \t75% 530000\n"
     ]
    }
   ],
   "source": [
    "# understand the Price stats with the outliers removed. \n",
    "\n",
    "print_stats(price_diffs)\n",
    "\n",
    "print(\"------\")\n",
    "\n",
    "print_stats(condo_sales.column('PRICE CHANGE'))"
   ]
  },
  {
   "cell_type": "code",
   "execution_count": 31,
   "metadata": {},
   "outputs": [
    {
     "data": {
      "text/html": [
       "<table border=\"1\" class=\"dataframe\">\n",
       "    <thead>\n",
       "        <tr>\n",
       "            <th>FULL ADDRESS</th> <th>FIRST SALE</th> <th>FIRST PRICE</th> <th>LAST SALE</th> <th>LAST PRICE</th> <th>PRICE CHANGE</th> <th>PERIOD</th>\n",
       "        </tr>\n",
       "    </thead>\n",
       "    <tbody>\n",
       "        <tr>\n",
       "            <td>1 IRVING PLACE, G27B      </td> <td>2017-12-14 00:00:00</td> <td>1950000    </td> <td>2017-12-14 00:00:00</td> <td>1950000   </td> <td>0           </td> <td>0     </td>\n",
       "        </tr>\n",
       "        <tr>\n",
       "            <td>1 IRVING PLACE, G9B       </td> <td>2017-12-14 00:00:00</td> <td>1362500    </td> <td>2017-12-14 00:00:00</td> <td>1362500   </td> <td>0           </td> <td>0     </td>\n",
       "        </tr>\n",
       "        <tr>\n",
       "            <td>1 MOUNT MORRIS PARK WE, 1C</td> <td>2017-09-26 00:00:00</td> <td>1227000    </td> <td>2017-09-26 00:00:00</td> <td>1227000   </td> <td>0           </td> <td>0     </td>\n",
       "        </tr>\n",
       "        <tr>\n",
       "            <td>1 RIVER TERRACE, 4S       </td> <td>2017-12-06 00:00:00</td> <td>2790000    </td> <td>2017-12-06 00:00:00</td> <td>2790000   </td> <td>0           </td> <td>0     </td>\n",
       "        </tr>\n",
       "        <tr>\n",
       "            <td>1 WALL STREET COURT, 201  </td> <td>2017-09-13 00:00:00</td> <td>1160000    </td> <td>2017-09-13 00:00:00</td> <td>1160000   </td> <td>0           </td> <td>0     </td>\n",
       "        </tr>\n",
       "        <tr>\n",
       "            <td>10 LITTLE WEST STREET, 24E</td> <td>2017-11-14 00:00:00</td> <td>2700000    </td> <td>2017-11-14 00:00:00</td> <td>2700000   </td> <td>0           </td> <td>0     </td>\n",
       "        </tr>\n",
       "        <tr>\n",
       "            <td>10 MADISON SQUARE WEST, 4F</td> <td>2017-12-18 00:00:00</td> <td>6950000    </td> <td>2017-12-18 00:00:00</td> <td>6950000   </td> <td>0           </td> <td>0     </td>\n",
       "        </tr>\n",
       "        <tr>\n",
       "            <td>100 11TH AVENUE, 12B      </td> <td>2017-12-15 00:00:00</td> <td>4300000    </td> <td>2017-12-15 00:00:00</td> <td>4300000   </td> <td>0           </td> <td>0     </td>\n",
       "        </tr>\n",
       "        <tr>\n",
       "            <td>100 CENTRAL PARK SOUTH, 4B</td> <td>2017-11-14 00:00:00</td> <td>2350000    </td> <td>2017-11-14 00:00:00</td> <td>2350000   </td> <td>0           </td> <td>0     </td>\n",
       "        </tr>\n",
       "        <tr>\n",
       "            <td>100 CENTRAL PARK SOUTH, 6A</td> <td>2017-12-14 00:00:00</td> <td>2025000    </td> <td>2017-12-14 00:00:00</td> <td>2025000   </td> <td>0           </td> <td>0     </td>\n",
       "        </tr>\n",
       "    </tbody>\n",
       "</table>\n",
       "<p>... (1259 rows omitted)</p>"
      ],
      "text/plain": [
       "FULL ADDRESS               | FIRST SALE          | FIRST PRICE | LAST SALE           | LAST PRICE | PRICE CHANGE | PERIOD\n",
       "1 IRVING PLACE, G27B       | 2017-12-14 00:00:00 | 1950000     | 2017-12-14 00:00:00 | 1950000    | 0            | 0\n",
       "1 IRVING PLACE, G9B        | 2017-12-14 00:00:00 | 1362500     | 2017-12-14 00:00:00 | 1362500    | 0            | 0\n",
       "1 MOUNT MORRIS PARK WE, 1C | 2017-09-26 00:00:00 | 1227000     | 2017-09-26 00:00:00 | 1227000    | 0            | 0\n",
       "1 RIVER TERRACE, 4S        | 2017-12-06 00:00:00 | 2790000     | 2017-12-06 00:00:00 | 2790000    | 0            | 0\n",
       "1 WALL STREET COURT, 201   | 2017-09-13 00:00:00 | 1160000     | 2017-09-13 00:00:00 | 1160000    | 0            | 0\n",
       "10 LITTLE WEST STREET, 24E | 2017-11-14 00:00:00 | 2700000     | 2017-11-14 00:00:00 | 2700000    | 0            | 0\n",
       "10 MADISON SQUARE WEST, 4F | 2017-12-18 00:00:00 | 6950000     | 2017-12-18 00:00:00 | 6950000    | 0            | 0\n",
       "100 11TH AVENUE, 12B       | 2017-12-15 00:00:00 | 4300000     | 2017-12-15 00:00:00 | 4300000    | 0            | 0\n",
       "100 CENTRAL PARK SOUTH, 4B | 2017-11-14 00:00:00 | 2350000     | 2017-11-14 00:00:00 | 2350000    | 0            | 0\n",
       "100 CENTRAL PARK SOUTH, 6A | 2017-12-14 00:00:00 | 2025000     | 2017-12-14 00:00:00 | 2025000    | 0            | 0\n",
       "... (1259 rows omitted)"
      ]
     },
     "execution_count": 31,
     "metadata": {},
     "output_type": "execute_result"
    }
   ],
   "source": [
    "# Some sales are on recorded twice for the same date!\n",
    "\n",
    "\n",
    "condo_sales.where( COL_FIRST_SALE_DATE, are.equal_to, COL_LAST_SALE_DATE )\n",
    "\n"
   ]
  },
  {
   "cell_type": "code",
   "execution_count": 32,
   "metadata": {},
   "outputs": [
    {
     "data": {
      "text/html": [
       "<table border=\"1\" class=\"dataframe\">\n",
       "    <thead>\n",
       "        <tr>\n",
       "            <th>SALE DATE</th> <th>SALE PRICE</th> <th>ADDRESS</th> <th>APARTMENT NUMBER</th> <th>YEAR BUILT</th> <th>NEIGHBORHOOD</th> <th>ZIP CODE</th> <th>BUILDING CLASS AT TIME OF SALE</th> <th>BUILDING CLASS CATEGORY</th> <th>FULL ADDRESS</th>\n",
       "        </tr>\n",
       "    </thead>\n",
       "    <tbody>\n",
       "        <tr>\n",
       "            <td>2016-02-05 00:00:00</td> <td>2925000   </td> <td>101 LEONARD STREET                       </td> <td>3D              </td> <td>1920      </td> <td>CHINATOWN                </td> <td>10013   </td> <td>R4                            </td> <td>13  CONDOS - ELEVATOR APARTMENTS            </td> <td>101 LEONARD STREET, 3D</td>\n",
       "        </tr>\n",
       "        <tr>\n",
       "            <td>2016-02-05 00:00:00</td> <td>1812000   </td> <td>101 LEONARD STREET                       </td> <td>3D              </td> <td>1920      </td> <td>CHINATOWN                </td> <td>10013   </td> <td>R4                            </td> <td>13  CONDOS - ELEVATOR APARTMENTS            </td> <td>101 LEONARD STREET, 3D</td>\n",
       "        </tr>\n",
       "    </tbody>\n",
       "</table>"
      ],
      "text/plain": [
       "SALE DATE           | SALE PRICE | ADDRESS                                   | APARTMENT NUMBER | YEAR BUILT | NEIGHBORHOOD              | ZIP CODE | BUILDING CLASS AT TIME OF SALE | BUILDING CLASS CATEGORY                      | FULL ADDRESS\n",
       "2016-02-05 00:00:00 | 2925000    | 101 LEONARD STREET                        | 3D               | 1920       | CHINATOWN                 | 10013    | R4                             | 13  CONDOS - ELEVATOR APARTMENTS             | 101 LEONARD STREET, 3D\n",
       "2016-02-05 00:00:00 | 1812000    | 101 LEONARD STREET                        | 3D               | 1920       | CHINATOWN                 | 10013    | R4                             | 13  CONDOS - ELEVATOR APARTMENTS             | 101 LEONARD STREET, 3D"
      ]
     },
     "execution_count": 32,
     "metadata": {},
     "output_type": "execute_result"
    }
   ],
   "source": [
    "# Let's spot check these\n",
    "\n",
    "all_sales_data.where(COL_FULL_ADDRESS, are.equal_to('101 LEONARD STREET, 3D')).sort(0)\n",
    "\n",
    "# Hmm something strange going no. Let's ignore for now"
   ]
  },
  {
   "cell_type": "code",
   "execution_count": 33,
   "metadata": {},
   "outputs": [
    {
     "data": {
      "text/html": [
       "<table border=\"1\" class=\"dataframe\">\n",
       "    <thead>\n",
       "        <tr>\n",
       "            <th>FULL ADDRESS</th> <th>FIRST SALE</th> <th>FIRST PRICE</th> <th>LAST SALE</th> <th>LAST PRICE</th> <th>PRICE CHANGE</th> <th>PERIOD</th>\n",
       "        </tr>\n",
       "    </thead>\n",
       "    <tbody>\n",
       "        <tr>\n",
       "            <td>2 EAST 55TH ST, 835        </td> <td>2006-08-15 00:00:00</td> <td>554946     </td> <td>2006-08-16 00:00:00</td> <td>486720    </td> <td>-68,226     </td> <td>1     </td>\n",
       "        </tr>\n",
       "        <tr>\n",
       "            <td>212 EAST 70TH   STREET, 2D </td> <td>2017-03-23 00:00:00</td> <td>312500     </td> <td>2017-03-24 00:00:00</td> <td>725000    </td> <td>412,500     </td> <td>1     </td>\n",
       "        </tr>\n",
       "        <tr>\n",
       "            <td>95 CHARLES STREET, 5       </td> <td>2016-03-25 00:00:00</td> <td>850000     </td> <td>2016-03-26 00:00:00</td> <td>850000    </td> <td>0           </td> <td>1     </td>\n",
       "        </tr>\n",
       "        <tr>\n",
       "            <td>203-05 WEST 112 STREET, 1W </td> <td>2003-12-17 00:00:00</td> <td>967338     </td> <td>2003-12-19 00:00:00</td> <td>967338    </td> <td>0           </td> <td>2     </td>\n",
       "        </tr>\n",
       "        <tr>\n",
       "            <td>238 EAST 47 STREET, 22D    </td> <td>2004-07-14 00:00:00</td> <td>105000     </td> <td>2004-07-16 00:00:00</td> <td>1100000   </td> <td>995,000     </td> <td>2     </td>\n",
       "        </tr>\n",
       "        <tr>\n",
       "            <td>227 EAST 111 STREET, 5B    </td> <td>2005-03-28 00:00:00</td> <td>540881     </td> <td>2005-03-31 00:00:00</td> <td>995000    </td> <td>454,119     </td> <td>3     </td>\n",
       "        </tr>\n",
       "        <tr>\n",
       "            <td>879-87 8 AVENUE, 2J        </td> <td>2003-11-13 00:00:00</td> <td>620000     </td> <td>2003-11-16 00:00:00</td> <td>620000    </td> <td>0           </td> <td>3     </td>\n",
       "        </tr>\n",
       "        <tr>\n",
       "            <td>157 WEST 111 STREET, 4E    </td> <td>2007-03-09 00:00:00</td> <td>776925     </td> <td>2007-03-13 00:00:00</td> <td>834965    </td> <td>58,040      </td> <td>4     </td>\n",
       "        </tr>\n",
       "        <tr>\n",
       "            <td>500 WEST 43RD   STREET, 24F</td> <td>2014-01-03 00:00:00</td> <td>800350     </td> <td>2014-01-07 00:00:00</td> <td>800350    </td> <td>0           </td> <td>4     </td>\n",
       "        </tr>\n",
       "        <tr>\n",
       "            <td>10 EAST 14TH ST, 2         </td> <td>2007-01-04 00:00:00</td> <td>1483300    </td> <td>2007-01-09 00:00:00</td> <td>2698362   </td> <td>1,215,062   </td> <td>5     </td>\n",
       "        </tr>\n",
       "    </tbody>\n",
       "</table>\n",
       "<p>... (14747 rows omitted)</p>"
      ],
      "text/plain": [
       "FULL ADDRESS                | FIRST SALE          | FIRST PRICE | LAST SALE           | LAST PRICE | PRICE CHANGE | PERIOD\n",
       "2 EAST 55TH ST, 835         | 2006-08-15 00:00:00 | 554946      | 2006-08-16 00:00:00 | 486720     | -68,226      | 1\n",
       "212 EAST 70TH   STREET, 2D  | 2017-03-23 00:00:00 | 312500      | 2017-03-24 00:00:00 | 725000     | 412,500      | 1\n",
       "95 CHARLES STREET, 5        | 2016-03-25 00:00:00 | 850000      | 2016-03-26 00:00:00 | 850000     | 0            | 1\n",
       "203-05 WEST 112 STREET, 1W  | 2003-12-17 00:00:00 | 967338      | 2003-12-19 00:00:00 | 967338     | 0            | 2\n",
       "238 EAST 47 STREET, 22D     | 2004-07-14 00:00:00 | 105000      | 2004-07-16 00:00:00 | 1100000    | 995,000      | 2\n",
       "227 EAST 111 STREET, 5B     | 2005-03-28 00:00:00 | 540881      | 2005-03-31 00:00:00 | 995000     | 454,119      | 3\n",
       "879-87 8 AVENUE, 2J         | 2003-11-13 00:00:00 | 620000      | 2003-11-16 00:00:00 | 620000     | 0            | 3\n",
       "157 WEST 111 STREET, 4E     | 2007-03-09 00:00:00 | 776925      | 2007-03-13 00:00:00 | 834965     | 58,040       | 4\n",
       "500 WEST 43RD   STREET, 24F | 2014-01-03 00:00:00 | 800350      | 2014-01-07 00:00:00 | 800350     | 0            | 4\n",
       "10 EAST 14TH ST, 2          | 2007-01-04 00:00:00 | 1483300     | 2007-01-09 00:00:00 | 2698362    | 1,215,062    | 5\n",
       "... (14747 rows omitted)"
      ]
     },
     "execution_count": 33,
     "metadata": {},
     "output_type": "execute_result"
    }
   ],
   "source": [
    "# Ignore multiple sales on same date\n",
    "\n",
    "condo_sales = condo_sales.where( COL_FIRST_SALE_DATE, are.not_equal_to, COL_LAST_SALE_DATE )\n",
    "\n",
    "condo_sales.sort(COL_PERIOD)\n"
   ]
  },
  {
   "cell_type": "code",
   "execution_count": 34,
   "metadata": {},
   "outputs": [],
   "source": [
    "# Still Looks like there is some strange data where teh sale dates are a few days apart, \n",
    "# for most regular sale cycles we expect a gap of atleast 60-90 days. \n",
    "# let's ignore anything less that 3 months apart i.e. 90 days. \n",
    "\n",
    "\n",
    "condo_sales = condo_sales.where( COL_PERIOD, are.above(90) )"
   ]
  },
  {
   "cell_type": "code",
   "execution_count": 35,
   "metadata": {},
   "outputs": [
    {
     "name": "stdout",
     "output_type": "stream",
     "text": [
      "Avg: 2046.0477893144468 \tStd: 1203.475673745313 \tMin: 91 \tMax: 5688\n",
      " 5%: 314 \t95%: 4194\n",
      " 1%: 136 \t99%: 4964\n",
      "25%: 1057 \t50%: 1918 \t75% 2896\n"
     ]
    }
   ],
   "source": [
    "# Understaing the distribution of time between sales\n",
    "\n",
    "print_stats(condo_sales.column(COL_PERIOD))\n"
   ]
  },
  {
   "cell_type": "code",
   "execution_count": 36,
   "metadata": {},
   "outputs": [
    {
     "name": "stdout",
     "output_type": "stream",
     "text": [
      "Avg: 450465.4822938871 \tStd: 682280.0012060776 \tMin: -1401211 \tMax: 5051231\n",
      " 5%: -130000 \t95%: 1720000\n",
      " 1%: -606028 \t99%: 3500000\n",
      "25%: 97000 \t50%: 265000 \t75% 570000\n"
     ]
    }
   ],
   "source": [
    "# Understaing the distribution of time between Price Change\n",
    "\n",
    "print_stats(condo_sales.column(COL_PRICE_CHANGE))"
   ]
  },
  {
   "cell_type": "code",
   "execution_count": 37,
   "metadata": {},
   "outputs": [
    {
     "data": {
      "text/html": [
       "<table border=\"1\" class=\"dataframe\">\n",
       "    <thead>\n",
       "        <tr>\n",
       "            <th>FULL ADDRESS</th> <th>FIRST SALE</th> <th>FIRST PRICE</th> <th>LAST SALE</th> <th>LAST PRICE</th> <th>PRICE CHANGE</th> <th>PERIOD</th>\n",
       "        </tr>\n",
       "    </thead>\n",
       "    <tbody>\n",
       "        <tr>\n",
       "            <td>25 COLUMBUS CIRCLE, ST68E    </td> <td>2004-03-12 00:00:00</td> <td>2448769    </td> <td>2015-12-15 00:00:00</td> <td>7500000   </td> <td>5,051,231   </td> <td>4295  </td>\n",
       "        </tr>\n",
       "        <tr>\n",
       "            <td>1 BOND STREET, 2C            </td> <td>2010-12-15 00:00:00</td> <td>600000     </td> <td>2017-08-18 00:00:00</td> <td>5640000   </td> <td>5,040,000   </td> <td>2438  </td>\n",
       "        </tr>\n",
       "        <tr>\n",
       "            <td>95 CHARLES STREET, 3         </td> <td>2012-09-11 00:00:00</td> <td>915180     </td> <td>2013-10-15 00:00:00</td> <td>5950000   </td> <td>5,034,820   </td> <td>399   </td>\n",
       "        </tr>\n",
       "        <tr>\n",
       "            <td>80 COLUMBUS CIRCLE, NT69A    </td> <td>2004-02-27 00:00:00</td> <td>3920263    </td> <td>2016-10-24 00:00:00</td> <td>8950000   </td> <td>5,029,737   </td> <td>4623  </td>\n",
       "        </tr>\n",
       "        <tr>\n",
       "            <td>15 CENTRAL PARK WEST, 6E     </td> <td>2007-11-12 00:00:00</td> <td>5243987    </td> <td>2015-09-03 00:00:00</td> <td>10200000  </td> <td>4,956,013   </td> <td>2852  </td>\n",
       "        </tr>\n",
       "        <tr>\n",
       "            <td>99 JANE STREET, 10B          </td> <td>2004-11-17 00:00:00</td> <td>2950000    </td> <td>2014-08-12 00:00:00</td> <td>7900000   </td> <td>4,950,000   </td> <td>3555  </td>\n",
       "        </tr>\n",
       "        <tr>\n",
       "            <td>432 PARK AVENUE, 53A         </td> <td>2016-03-01 00:00:00</td> <td>6006511    </td> <td>2018-05-02 00:00:00</td> <td>10950000  </td> <td>4,943,489   </td> <td>792   </td>\n",
       "        </tr>\n",
       "        <tr>\n",
       "            <td>15 CENTRAL PARK WEST, 36B    </td> <td>2008-04-28 00:00:00</td> <td>7473955    </td> <td>2008-09-03 00:00:00</td> <td>12400000  </td> <td>4,926,045   </td> <td>128   </td>\n",
       "        </tr>\n",
       "        <tr>\n",
       "            <td>845 UNITED NATIONS PLAZA, 86A</td> <td>2008-01-03 00:00:00</td> <td>9877025    </td> <td>2016-01-29 00:00:00</td> <td>14800000  </td> <td>4,922,975   </td> <td>2948  </td>\n",
       "        </tr>\n",
       "        <tr>\n",
       "            <td>118 GREENE STREET, 16        </td> <td>2012-10-04 00:00:00</td> <td>8900000    </td> <td>2014-02-27 00:00:00</td> <td>13800000  </td> <td>4,900,000   </td> <td>511   </td>\n",
       "        </tr>\n",
       "    </tbody>\n",
       "</table>\n",
       "<p>... (14533 rows omitted)</p>"
      ],
      "text/plain": [
       "FULL ADDRESS                  | FIRST SALE          | FIRST PRICE | LAST SALE           | LAST PRICE | PRICE CHANGE | PERIOD\n",
       "25 COLUMBUS CIRCLE, ST68E     | 2004-03-12 00:00:00 | 2448769     | 2015-12-15 00:00:00 | 7500000    | 5,051,231    | 4295\n",
       "1 BOND STREET, 2C             | 2010-12-15 00:00:00 | 600000      | 2017-08-18 00:00:00 | 5640000    | 5,040,000    | 2438\n",
       "95 CHARLES STREET, 3          | 2012-09-11 00:00:00 | 915180      | 2013-10-15 00:00:00 | 5950000    | 5,034,820    | 399\n",
       "80 COLUMBUS CIRCLE, NT69A     | 2004-02-27 00:00:00 | 3920263     | 2016-10-24 00:00:00 | 8950000    | 5,029,737    | 4623\n",
       "15 CENTRAL PARK WEST, 6E      | 2007-11-12 00:00:00 | 5243987     | 2015-09-03 00:00:00 | 10200000   | 4,956,013    | 2852\n",
       "99 JANE STREET, 10B           | 2004-11-17 00:00:00 | 2950000     | 2014-08-12 00:00:00 | 7900000    | 4,950,000    | 3555\n",
       "432 PARK AVENUE, 53A          | 2016-03-01 00:00:00 | 6006511     | 2018-05-02 00:00:00 | 10950000   | 4,943,489    | 792\n",
       "15 CENTRAL PARK WEST, 36B     | 2008-04-28 00:00:00 | 7473955     | 2008-09-03 00:00:00 | 12400000   | 4,926,045    | 128\n",
       "845 UNITED NATIONS PLAZA, 86A | 2008-01-03 00:00:00 | 9877025     | 2016-01-29 00:00:00 | 14800000   | 4,922,975    | 2948\n",
       "118 GREENE STREET, 16         | 2012-10-04 00:00:00 | 8900000     | 2014-02-27 00:00:00 | 13800000   | 4,900,000    | 511\n",
       "... (14533 rows omitted)"
      ]
     },
     "execution_count": 37,
     "metadata": {},
     "output_type": "execute_result"
    }
   ],
   "source": [
    "# Let's try to see if there is anything strange gonig going on with large price chnages\n",
    "\n",
    "condo_sales.sort(COL_PRICE_CHANGE, descending=True)\n",
    "\n"
   ]
  },
  {
   "cell_type": "code",
   "execution_count": 38,
   "metadata": {},
   "outputs": [
    {
     "data": {
      "text/html": [
       "<table border=\"1\" class=\"dataframe\">\n",
       "    <thead>\n",
       "        <tr>\n",
       "            <th>FULL ADDRESS</th> <th>FIRST SALE</th> <th>FIRST PRICE</th> <th>LAST SALE</th> <th>LAST PRICE</th> <th>PRICE CHANGE</th> <th>PERIOD</th> <th>DAILY PRICE CHANGE</th>\n",
       "        </tr>\n",
       "    </thead>\n",
       "    <tbody>\n",
       "        <tr>\n",
       "            <td>15 CENTRAL PARK WEST, 36B  </td> <td>2008-04-28 00:00:00</td> <td>7473955    </td> <td>2008-09-03 00:00:00</td> <td>12400000  </td> <td>4,926,045   </td> <td>128   </td> <td>38484.7           </td>\n",
       "        </tr>\n",
       "        <tr>\n",
       "            <td>56 LEONARD STREET, PH55    </td> <td>2017-03-02 00:00:00</td> <td>21814384   </td> <td>2017-08-04 00:00:00</td> <td>26500000  </td> <td>4,685,616   </td> <td>155   </td> <td>30229.8           </td>\n",
       "        </tr>\n",
       "        <tr>\n",
       "            <td>151 EAST 58 STREET, PH55E  </td> <td>2005-08-16 00:00:00</td> <td>9622462    </td> <td>2005-12-15 00:00:00</td> <td>13000000  </td> <td>3,377,538   </td> <td>121   </td> <td>27913.5           </td>\n",
       "        </tr>\n",
       "        <tr>\n",
       "            <td>157 WEST 57TH   STREET, 58A</td> <td>2014-05-01 00:00:00</td> <td>30551000   </td> <td>2014-10-02 00:00:00</td> <td>34000000  </td> <td>3,449,000   </td> <td>154   </td> <td>22396.1           </td>\n",
       "        </tr>\n",
       "        <tr>\n",
       "            <td>201 EAST 80TH STREET, 9A   </td> <td>2016-08-19 00:00:00</td> <td>657401     </td> <td>2016-12-07 00:00:00</td> <td>2995000   </td> <td>2,337,599   </td> <td>110   </td> <td>21250.9           </td>\n",
       "        </tr>\n",
       "        <tr>\n",
       "            <td>19 BEACH STREET, 6         </td> <td>2018-02-28 00:00:00</td> <td>2410796    </td> <td>2018-07-31 00:00:00</td> <td>5500000   </td> <td>3,089,204   </td> <td>153   </td> <td>20190.9           </td>\n",
       "        </tr>\n",
       "        <tr>\n",
       "            <td>250 WEST STREET, 7A        </td> <td>2013-03-18 00:00:00</td> <td>6379336    </td> <td>2013-06-24 00:00:00</td> <td>8200000   </td> <td>1,820,664   </td> <td>98    </td> <td>18578.2           </td>\n",
       "        </tr>\n",
       "        <tr>\n",
       "            <td>212 WEST 18TH   STREET, 18C</td> <td>2014-12-23 00:00:00</td> <td>5718750    </td> <td>2015-09-10 00:00:00</td> <td>10414000  </td> <td>4,695,250   </td> <td>261   </td> <td>17989.5           </td>\n",
       "        </tr>\n",
       "        <tr>\n",
       "            <td>554 BROOME ST, R6          </td> <td>2006-03-30 00:00:00</td> <td>380250     </td> <td>2006-08-16 00:00:00</td> <td>2850000   </td> <td>2,469,750   </td> <td>139   </td> <td>17768             </td>\n",
       "        </tr>\n",
       "        <tr>\n",
       "            <td>101 WEST 87TH   STREET, PH </td> <td>2014-07-01 00:00:00</td> <td>7764156    </td> <td>2014-11-05 00:00:00</td> <td>10000000  </td> <td>2,235,844   </td> <td>127   </td> <td>17605.1           </td>\n",
       "        </tr>\n",
       "    </tbody>\n",
       "</table>\n",
       "<p>... (14533 rows omitted)</p>"
      ],
      "text/plain": [
       "FULL ADDRESS                | FIRST SALE          | FIRST PRICE | LAST SALE           | LAST PRICE | PRICE CHANGE | PERIOD | DAILY PRICE CHANGE\n",
       "15 CENTRAL PARK WEST, 36B   | 2008-04-28 00:00:00 | 7473955     | 2008-09-03 00:00:00 | 12400000   | 4,926,045    | 128    | 38484.7\n",
       "56 LEONARD STREET, PH55     | 2017-03-02 00:00:00 | 21814384    | 2017-08-04 00:00:00 | 26500000   | 4,685,616    | 155    | 30229.8\n",
       "151 EAST 58 STREET, PH55E   | 2005-08-16 00:00:00 | 9622462     | 2005-12-15 00:00:00 | 13000000   | 3,377,538    | 121    | 27913.5\n",
       "157 WEST 57TH   STREET, 58A | 2014-05-01 00:00:00 | 30551000    | 2014-10-02 00:00:00 | 34000000   | 3,449,000    | 154    | 22396.1\n",
       "201 EAST 80TH STREET, 9A    | 2016-08-19 00:00:00 | 657401      | 2016-12-07 00:00:00 | 2995000    | 2,337,599    | 110    | 21250.9\n",
       "19 BEACH STREET, 6          | 2018-02-28 00:00:00 | 2410796     | 2018-07-31 00:00:00 | 5500000    | 3,089,204    | 153    | 20190.9\n",
       "250 WEST STREET, 7A         | 2013-03-18 00:00:00 | 6379336     | 2013-06-24 00:00:00 | 8200000    | 1,820,664    | 98     | 18578.2\n",
       "212 WEST 18TH   STREET, 18C | 2014-12-23 00:00:00 | 5718750     | 2015-09-10 00:00:00 | 10414000   | 4,695,250    | 261    | 17989.5\n",
       "554 BROOME ST, R6           | 2006-03-30 00:00:00 | 380250      | 2006-08-16 00:00:00 | 2850000    | 2,469,750    | 139    | 17768\n",
       "101 WEST 87TH   STREET, PH  | 2014-07-01 00:00:00 | 7764156     | 2014-11-05 00:00:00 | 10000000   | 2,235,844    | 127    | 17605.1\n",
       "... (14533 rows omitted)"
      ]
     },
     "execution_count": 38,
     "metadata": {},
     "output_type": "execute_result"
    }
   ],
   "source": [
    "# Nothing obvious, ok let's calulate the daily price change to spot anything odd. \n",
    "\n",
    "daily_change = condo_sales.column(COL_PRICE_CHANGE) / condo_sales.column(COL_PERIOD) \n",
    "\n",
    "COL_DAILY_PRICE_CHANGE = 'DAILY PRICE CHANGE'\n",
    "\n",
    "condo_sales = condo_sales.with_column(COL_DAILY_PRICE_CHANGE , daily_change ).sort(COL_DAILY_PRICE_CHANGE, descending=True)\n",
    "condo_sales\n"
   ]
  },
  {
   "cell_type": "code",
   "execution_count": 39,
   "metadata": {},
   "outputs": [
    {
     "name": "stdout",
     "output_type": "stream",
     "text": [
      "DAILY PRICE CHANGEStats\n",
      "Avg: 345.59461003833275 \tStd: 1006.4745302962409 \tMin: -13128.990566037735 \tMax: 38484.7265625\n",
      " 5%: -93.92808850645359 \t95%: 1313.7084548104956\n",
      " 1%: -572.2326454033771 \t99%: 3543.111455108359\n",
      "25%: 50.516098484848484 \t50%: 149.44649446494466 \t75% 363.6411764705882\n"
     ]
    },
    {
     "data": {
      "image/png": "[encoded data removed]",
      "text/plain": [
       "<Figure size 432x288 with 1 Axes>"
      ]
     },
     "metadata": {},
     "output_type": "display_data"
    },
    {
     "data": {
      "image/png": "[encoded data removed]",
      "text/plain": [
       "<Figure size 432x288 with 1 Axes>"
      ]
     },
     "metadata": {},
     "output_type": "display_data"
    }
   ],
   "source": [
    "col_stats(condo_sales, COL_DAILY_PRICE_CHANGE)\n",
    "draw_hist(condo_sales, COL_DAILY_PRICE_CHANGE, 1)\n",
    "\n",
    "## Looks like there are some significant outliers but most of the data  1%"
   ]
  },
  {
   "cell_type": "code",
   "execution_count": 40,
   "metadata": {},
   "outputs": [
    {
     "data": {
      "text/html": [
       "<table border=\"1\" class=\"dataframe\">\n",
       "    <thead>\n",
       "        <tr>\n",
       "            <th>FULL ADDRESS</th> <th>FIRST SALE</th> <th>FIRST PRICE</th> <th>LAST SALE</th> <th>LAST PRICE</th> <th>PRICE CHANGE</th> <th>PERIOD</th> <th>DAILY PRICE CHANGE</th>\n",
       "        </tr>\n",
       "    </thead>\n",
       "    <tbody>\n",
       "        <tr>\n",
       "            <td>300 EAST 55 STREET, 3E     </td> <td>2004-12-22 00:00:00</td> <td>987702     </td> <td>2005-04-12 00:00:00</td> <td>1380000   </td> <td>392,298     </td> <td>111   </td> <td>3534.22           </td>\n",
       "        </tr>\n",
       "        <tr>\n",
       "            <td>240 WEST 98TH ST.NY,NY, 13B</td> <td>2008-03-04 00:00:00</td> <td>1004529    </td> <td>2009-03-06 00:00:00</td> <td>2300000   </td> <td>1,295,471   </td> <td>367   </td> <td>3529.89           </td>\n",
       "        </tr>\n",
       "        <tr>\n",
       "            <td>155 FRANKLIN STREET, 4S    </td> <td>2014-09-15 00:00:00</td> <td>4750000    </td> <td>2015-05-14 00:00:00</td> <td>5600000   </td> <td>850,000     </td> <td>241   </td> <td>3526.97           </td>\n",
       "        </tr>\n",
       "        <tr>\n",
       "            <td>201 EAST 80TH STREET, 8G   </td> <td>2012-12-21 00:00:00</td> <td>200000     </td> <td>2016-02-12 00:00:00</td> <td>4200000   </td> <td>4,000,000   </td> <td>1148  </td> <td>3484.32           </td>\n",
       "        </tr>\n",
       "        <tr>\n",
       "            <td>15 BROAD STREET, 1414      </td> <td>2006-06-16 00:00:00</td> <td>1071460    </td> <td>2006-11-22 00:00:00</td> <td>1625000   </td> <td>553,540     </td> <td>159   </td> <td>3481.38           </td>\n",
       "        </tr>\n",
       "        <tr>\n",
       "            <td>250 EAST 53RD STREET, 2901 </td> <td>2008-05-09 00:00:00</td> <td>2300511    </td> <td>2008-09-16 00:00:00</td> <td>2750000   </td> <td>449,489     </td> <td>130   </td> <td>3457.61           </td>\n",
       "        </tr>\n",
       "        <tr>\n",
       "            <td>597 BROADWAY, 4W           </td> <td>2004-12-15 00:00:00</td> <td>2500000    </td> <td>2007-03-22 00:00:00</td> <td>5350000   </td> <td>2,850,000   </td> <td>827   </td> <td>3446.19           </td>\n",
       "        </tr>\n",
       "        <tr>\n",
       "            <td>225 WEST 60TH   STREET, 15B</td> <td>2013-11-19 00:00:00</td> <td>1252598    </td> <td>2014-04-25 00:00:00</td> <td>1790000   </td> <td>537,402     </td> <td>157   </td> <td>3422.94           </td>\n",
       "        </tr>\n",
       "        <tr>\n",
       "            <td>70 LITTLE WEST STREET, 3A  </td> <td>2015-06-24 00:00:00</td> <td>490000     </td> <td>2015-12-09 00:00:00</td> <td>1065000   </td> <td>575,000     </td> <td>168   </td> <td>3422.62           </td>\n",
       "        </tr>\n",
       "        <tr>\n",
       "            <td>15 BROAD STREET, 2216      </td> <td>2006-07-18 00:00:00</td> <td>1097216    </td> <td>2006-11-01 00:00:00</td> <td>1460000   </td> <td>362,784     </td> <td>106   </td> <td>3422.49           </td>\n",
       "        </tr>\n",
       "    </tbody>\n",
       "</table>\n",
       "<p>... (14242 rows omitted)</p>"
      ],
      "text/plain": [
       "FULL ADDRESS                | FIRST SALE          | FIRST PRICE | LAST SALE           | LAST PRICE | PRICE CHANGE | PERIOD | DAILY PRICE CHANGE\n",
       "300 EAST 55 STREET, 3E      | 2004-12-22 00:00:00 | 987702      | 2005-04-12 00:00:00 | 1380000    | 392,298      | 111    | 3534.22\n",
       "240 WEST 98TH ST.NY,NY, 13B | 2008-03-04 00:00:00 | 1004529     | 2009-03-06 00:00:00 | 2300000    | 1,295,471    | 367    | 3529.89\n",
       "155 FRANKLIN STREET, 4S     | 2014-09-15 00:00:00 | 4750000     | 2015-05-14 00:00:00 | 5600000    | 850,000      | 241    | 3526.97\n",
       "201 EAST 80TH STREET, 8G    | 2012-12-21 00:00:00 | 200000      | 2016-02-12 00:00:00 | 4200000    | 4,000,000    | 1148   | 3484.32\n",
       "15 BROAD STREET, 1414       | 2006-06-16 00:00:00 | 1071460     | 2006-11-22 00:00:00 | 1625000    | 553,540      | 159    | 3481.38\n",
       "250 EAST 53RD STREET, 2901  | 2008-05-09 00:00:00 | 2300511     | 2008-09-16 00:00:00 | 2750000    | 449,489      | 130    | 3457.61\n",
       "597 BROADWAY, 4W            | 2004-12-15 00:00:00 | 2500000     | 2007-03-22 00:00:00 | 5350000    | 2,850,000    | 827    | 3446.19\n",
       "225 WEST 60TH   STREET, 15B | 2013-11-19 00:00:00 | 1252598     | 2014-04-25 00:00:00 | 1790000    | 537,402      | 157    | 3422.94\n",
       "70 LITTLE WEST STREET, 3A   | 2015-06-24 00:00:00 | 490000      | 2015-12-09 00:00:00 | 1065000    | 575,000      | 168    | 3422.62\n",
       "15 BROAD STREET, 2216       | 2006-07-18 00:00:00 | 1097216     | 2006-11-01 00:00:00 | 1460000    | 362,784      | 106    | 3422.49\n",
       "... (14242 rows omitted)"
      ]
     },
     "execution_count": 40,
     "metadata": {},
     "output_type": "execute_result"
    }
   ],
   "source": [
    "# strip out the Dailys Price change outliers. \n",
    "\n",
    "price_change_diffs = condo_sales.column(COL_DAILY_PRICE_CHANGE)\n",
    "\n",
    "percent_1 = percentile(1, price_change_diffs)\n",
    "percent_99 = percentile(99, price_change_diffs)\n",
    "\n",
    "condo_sales = condo_sales.where(COL_DAILY_PRICE_CHANGE, are.between(percent_1, percent_99))\n",
    "\n",
    "\n",
    "condo_sales"
   ]
  },
  {
   "cell_type": "code",
   "execution_count": 41,
   "metadata": {},
   "outputs": [
    {
     "data": {
      "text/html": [
       "<table border=\"1\" class=\"dataframe\">\n",
       "    <thead>\n",
       "        <tr>\n",
       "            <th>FULL ADDRESS</th> <th>FIRST SALE</th> <th>FIRST PRICE</th> <th>LAST SALE</th> <th>LAST PRICE</th> <th>PRICE CHANGE</th> <th>PERIOD</th> <th>DAILY PRICE CHANGE</th> <th>PRICE CHANGE %</th>\n",
       "        </tr>\n",
       "    </thead>\n",
       "    <tbody>\n",
       "        <tr>\n",
       "            <td>300 EAST 55 STREET, 3E     </td> <td>2004-12-22 00:00:00</td> <td>987702     </td> <td>2005-04-12 00:00:00</td> <td>1380000   </td> <td>392,298     </td> <td>111   </td> <td>3534.22           </td> <td>39.7183       </td>\n",
       "        </tr>\n",
       "        <tr>\n",
       "            <td>240 WEST 98TH ST.NY,NY, 13B</td> <td>2008-03-04 00:00:00</td> <td>1004529    </td> <td>2009-03-06 00:00:00</td> <td>2300000   </td> <td>1,295,471   </td> <td>367   </td> <td>3529.89           </td> <td>128.963       </td>\n",
       "        </tr>\n",
       "        <tr>\n",
       "            <td>155 FRANKLIN STREET, 4S    </td> <td>2014-09-15 00:00:00</td> <td>4750000    </td> <td>2015-05-14 00:00:00</td> <td>5600000   </td> <td>850,000     </td> <td>241   </td> <td>3526.97           </td> <td>17.8947       </td>\n",
       "        </tr>\n",
       "        <tr>\n",
       "            <td>15 BROAD STREET, 1414      </td> <td>2006-06-16 00:00:00</td> <td>1071460    </td> <td>2006-11-22 00:00:00</td> <td>1625000   </td> <td>553,540     </td> <td>159   </td> <td>3481.38           </td> <td>51.6622       </td>\n",
       "        </tr>\n",
       "        <tr>\n",
       "            <td>250 EAST 53RD STREET, 2901 </td> <td>2008-05-09 00:00:00</td> <td>2300511    </td> <td>2008-09-16 00:00:00</td> <td>2750000   </td> <td>449,489     </td> <td>130   </td> <td>3457.61           </td> <td>19.5387       </td>\n",
       "        </tr>\n",
       "        <tr>\n",
       "            <td>597 BROADWAY, 4W           </td> <td>2004-12-15 00:00:00</td> <td>2500000    </td> <td>2007-03-22 00:00:00</td> <td>5350000   </td> <td>2,850,000   </td> <td>827   </td> <td>3446.19           </td> <td>114           </td>\n",
       "        </tr>\n",
       "        <tr>\n",
       "            <td>225 WEST 60TH   STREET, 15B</td> <td>2013-11-19 00:00:00</td> <td>1252598    </td> <td>2014-04-25 00:00:00</td> <td>1790000   </td> <td>537,402     </td> <td>157   </td> <td>3422.94           </td> <td>42.903        </td>\n",
       "        </tr>\n",
       "        <tr>\n",
       "            <td>70 LITTLE WEST STREET, 3A  </td> <td>2015-06-24 00:00:00</td> <td>490000     </td> <td>2015-12-09 00:00:00</td> <td>1065000   </td> <td>575,000     </td> <td>168   </td> <td>3422.62           </td> <td>117.347       </td>\n",
       "        </tr>\n",
       "        <tr>\n",
       "            <td>15 BROAD STREET, 2216      </td> <td>2006-07-18 00:00:00</td> <td>1097216    </td> <td>2006-11-01 00:00:00</td> <td>1460000   </td> <td>362,784     </td> <td>106   </td> <td>3422.49           </td> <td>33.064        </td>\n",
       "        </tr>\n",
       "        <tr>\n",
       "            <td>48 BEACH STREET, 3C        </td> <td>2012-02-22 00:00:00</td> <td>2687290    </td> <td>2013-03-28 00:00:00</td> <td>4042819   </td> <td>1,355,529   </td> <td>400   </td> <td>3388.82           </td> <td>50.4422       </td>\n",
       "        </tr>\n",
       "    </tbody>\n",
       "</table>\n",
       "<p>... (13957 rows omitted)</p>"
      ],
      "text/plain": [
       "FULL ADDRESS                | FIRST SALE          | FIRST PRICE | LAST SALE           | LAST PRICE | PRICE CHANGE | PERIOD | DAILY PRICE CHANGE | PRICE CHANGE %\n",
       "300 EAST 55 STREET, 3E      | 2004-12-22 00:00:00 | 987702      | 2005-04-12 00:00:00 | 1380000    | 392,298      | 111    | 3534.22            | 39.7183\n",
       "240 WEST 98TH ST.NY,NY, 13B | 2008-03-04 00:00:00 | 1004529     | 2009-03-06 00:00:00 | 2300000    | 1,295,471    | 367    | 3529.89            | 128.963\n",
       "155 FRANKLIN STREET, 4S     | 2014-09-15 00:00:00 | 4750000     | 2015-05-14 00:00:00 | 5600000    | 850,000      | 241    | 3526.97            | 17.8947\n",
       "15 BROAD STREET, 1414       | 2006-06-16 00:00:00 | 1071460     | 2006-11-22 00:00:00 | 1625000    | 553,540      | 159    | 3481.38            | 51.6622\n",
       "250 EAST 53RD STREET, 2901  | 2008-05-09 00:00:00 | 2300511     | 2008-09-16 00:00:00 | 2750000    | 449,489      | 130    | 3457.61            | 19.5387\n",
       "597 BROADWAY, 4W            | 2004-12-15 00:00:00 | 2500000     | 2007-03-22 00:00:00 | 5350000    | 2,850,000    | 827    | 3446.19            | 114\n",
       "225 WEST 60TH   STREET, 15B | 2013-11-19 00:00:00 | 1252598     | 2014-04-25 00:00:00 | 1790000    | 537,402      | 157    | 3422.94            | 42.903\n",
       "70 LITTLE WEST STREET, 3A   | 2015-06-24 00:00:00 | 490000      | 2015-12-09 00:00:00 | 1065000    | 575,000      | 168    | 3422.62            | 117.347\n",
       "15 BROAD STREET, 2216       | 2006-07-18 00:00:00 | 1097216     | 2006-11-01 00:00:00 | 1460000    | 362,784      | 106    | 3422.49            | 33.064\n",
       "48 BEACH STREET, 3C         | 2012-02-22 00:00:00 | 2687290     | 2013-03-28 00:00:00 | 4042819    | 1,355,529    | 400    | 3388.82            | 50.4422\n",
       "... (13957 rows omitted)"
      ]
     },
     "execution_count": 41,
     "metadata": {},
     "output_type": "execute_result"
    }
   ],
   "source": [
    "# Lets cacluclate percentage price change and plot that. \n",
    "\n",
    "percents = condo_sales.column(COL_PRICE_CHANGE) / condo_sales.column(COL_FIRST_SALE_PRICE) * 100\n",
    "\n",
    "COL_PRICE_PERCENT = 'PRICE CHANGE %'\n",
    "\n",
    "condo_sales = condo_sales.with_column(COL_PRICE_PERCENT, percents)\n",
    "\n",
    "# strip out the Price Percent change outliers. \n",
    "\n",
    "percent_change_diffs = condo_sales.column(COL_PRICE_PERCENT)\n",
    "\n",
    "percent_1 = percentile(1, percent_change_diffs)\n",
    "percent_99 = percentile(99, percent_change_diffs)\n",
    "\n",
    "condo_sales = condo_sales.where(COL_PRICE_PERCENT, are.between(percent_1, percent_99))\n",
    "\n",
    "\n",
    "condo_sales"
   ]
  },
  {
   "cell_type": "markdown",
   "metadata": {},
   "source": [
    "# Can we now Predict the Price?"
   ]
  },
  {
   "cell_type": "code",
   "execution_count": 42,
   "metadata": {},
   "outputs": [
    {
     "data": {
      "image/png": "[encoded data removed]",
      "text/plain": [
       "<Figure size 432x288 with 1 Axes>"
      ]
     },
     "metadata": {},
     "output_type": "display_data"
    }
   ],
   "source": [
    "yearly_sales_average = condos.select(COL_SALE_YEAR, COL_SALE_PRICE).group(COL_SALE_YEAR, np.mean).sort(0)\n",
    "yearly_sales_average.plot(COL_SALE_YEAR)"
   ]
  },
  {
   "cell_type": "code",
   "execution_count": 43,
   "metadata": {},
   "outputs": [
    {
     "data": {
      "image/png": "[encoded data removed]",
      "text/plain": [
       "<Figure size 432x288 with 1 Axes>"
      ]
     },
     "metadata": {},
     "output_type": "display_data"
    }
   ],
   "source": [
    "condo_sales.apply(lambda date: date.year, COL_FIRST_SALE_DATE)\n",
    "\n",
    "first_sales = Table().with_columns(COL_SALE_YEAR, condo_sales.apply(lambda date: date.year, COL_FIRST_SALE_DATE), COL_SALE_PRICE, condo_sales.column(COL_FIRST_SALE_PRICE))\n",
    "\n",
    "first_sales.group(0, np.mean).plot(COL_SALE_YEAR)\n",
    "# .select(COL_FIRST_SALE_DATE, COL_FIRST_SALE_PRICE)"
   ]
  },
  {
   "cell_type": "code",
   "execution_count": 44,
   "metadata": {},
   "outputs": [
    {
     "data": {
      "image/png": "[encoded data removed]",
      "text/plain": [
       "<Figure size 360x360 with 1 Axes>"
      ]
     },
     "metadata": {},
     "output_type": "display_data"
    }
   ],
   "source": [
    "# Let's look at apt from 2010\n",
    "\n",
    "sales_2010 = condo_sales.where(COL_FIRST_SALE_DATE, are.between( datetime(2010, 1, 1), datetime(2010, 12, 31)))\n",
    "\n",
    "sales_2010.scatter(COL_FIRST_SALE_PRICE, COL_DAILY_PRICE_CHANGE, fit_line=True)"
   ]
  },
  {
   "cell_type": "code",
   "execution_count": 45,
   "metadata": {},
   "outputs": [
    {
     "data": {
      "image/png": "[encoded data removed]",
      "text/plain": [
       "<Figure size 360x360 with 1 Axes>"
      ]
     },
     "metadata": {},
     "output_type": "display_data"
    }
   ],
   "source": [
    "Table().with_columns(\n",
    "    'FIRST SALE (standard units)',  standard_units(sales_2010.column(COL_PERIOD)), \n",
    "    'LAST SALE (standard units)', standard_units(sales_2010.column(COL_PRICE_CHANGE))\n",
    ").scatter(0, 1)\n"
   ]
  },
  {
   "cell_type": "code",
   "execution_count": 46,
   "metadata": {},
   "outputs": [
    {
     "data": {
      "text/plain": [
       "0.957001030530786"
      ]
     },
     "execution_count": 46,
     "metadata": {},
     "output_type": "execute_result"
    }
   ],
   "source": [
    "correlation(sales_2010, COL_FIRST_SALE_PRICE, COL_LAST_SALE_PRICE)"
   ]
  },
  {
   "cell_type": "code",
   "execution_count": 47,
   "metadata": {},
   "outputs": [
    {
     "data": {
      "image/png": "[encoded data removed]",
      "text/plain": [
       "<Figure size 360x360 with 1 Axes>"
      ]
     },
     "metadata": {},
     "output_type": "display_data"
    }
   ],
   "source": [
    "Table().with_columns(\n",
    "    'FIRST SALE (standard units)',  standard_units(sales_2010.column(COL_FIRST_SALE_PRICE)), \n",
    "    'LAST SALE (standard units)', standard_units(sales_2010.column(COL_LAST_SALE_PRICE))\n",
    "#     'CHANGE %', standard_units(sales_2010.column(COL_PRICE_PERCENT))\n",
    ").scatter(0)\n"
   ]
  },
  {
   "cell_type": "code",
   "execution_count": 48,
   "metadata": {},
   "outputs": [
    {
     "data": {
      "text/plain": [
       "0.957001030530786"
      ]
     },
     "execution_count": 48,
     "metadata": {},
     "output_type": "execute_result"
    }
   ],
   "source": [
    "correlation(sales_2010, COL_FIRST_SALE_PRICE, COL_LAST_SALE_PRICE)"
   ]
  },
  {
   "cell_type": "code",
   "execution_count": 49,
   "metadata": {},
   "outputs": [],
   "source": [
    "def predict_sale_price(first_price):\n",
    "    \"\"\"Return a prediction of the sale price\n",
    "    \"\"\"\n",
    "    \n",
    "    percent5 = first_price * 0.05\n",
    "    \n",
    "    close_points = sales_2010.where(COL_FIRST_SALE_PRICE, are.between(first_price-percent5, first_price + percent5))\n",
    "    \n",
    "    # Remomve any outliers buy trimming the resutls\n",
    "    \n",
    "    last_prices = close_points.column(COL_LAST_SALE_PRICE)\n",
    "    \n",
    "    percentile_5 = percentile(5, last_prices)\n",
    "    percentile_95 = percentile(95, last_prices)\n",
    "    \n",
    "    #close_points.show()\n",
    "    return close_points.where(COL_LAST_SALE_PRICE, are.between_or_equal_to(percentile_5, percentile_95)).column(COL_LAST_SALE_PRICE).mean()   \n"
   ]
  },
  {
   "cell_type": "code",
   "execution_count": 50,
   "metadata": {},
   "outputs": [
    {
     "data": {
      "text/plain": [
       "949517.1379310344"
      ]
     },
     "execution_count": 50,
     "metadata": {},
     "output_type": "execute_result"
    }
   ],
   "source": [
    "predict_sale_price(685000)"
   ]
  },
  {
   "cell_type": "code",
   "execution_count": 51,
   "metadata": {},
   "outputs": [],
   "source": [
    "predictions = sales_2010.apply(predict_sale_price, COL_FIRST_SALE_PRICE)"
   ]
  },
  {
   "cell_type": "code",
   "execution_count": 52,
   "metadata": {},
   "outputs": [
    {
     "data": {
      "image/png": "[encoded data removed]",
      "text/plain": [
       "<Figure size 360x360 with 1 Axes>"
      ]
     },
     "metadata": {},
     "output_type": "display_data"
    }
   ],
   "source": [
    "Table().with_columns(\n",
    "    COL_FIRST_SALE_PRICE,  sales_2010.column(COL_FIRST_SALE_PRICE), \n",
    "    COL_LAST_SALE_PRICE, sales_2010.column(COL_LAST_SALE_PRICE), \n",
    "    'PREDICTIONS', predictions\n",
    ").scatter(COL_FIRST_SALE_PRICE)\n"
   ]
  },
  {
   "cell_type": "code",
   "execution_count": 76,
   "metadata": {},
   "outputs": [
    {
     "data": {
      "image/png": "[encoded data removed]",
      "text/plain": [
       "<Figure size 432x288 with 1 Axes>"
      ]
     },
     "metadata": {},
     "output_type": "display_data"
    }
   ],
   "source": [
    "scatter_fit(sales_2010.where(COL_PERIOD, are.between(0*365, 6*365)), COL_FIRST_SALE_PRICE, COL_LAST_SALE_PRICE)"
   ]
  },
  {
   "cell_type": "code",
   "execution_count": 54,
   "metadata": {},
   "outputs": [
    {
     "name": "stdout",
     "output_type": "stream",
     "text": [
      "PRICE CHANGE %Stats\n",
      "Avg: 39.83411248639649 \tStd: 45.207818525667015 \tMin: -35.916660899166146 \tMax: 339.9205316280316\n",
      " 5%: -7.869657585163316 \t95%: 125.83559168925022\n",
      " 1%: -19.978874422847632 \t99%: 223.33333333333334\n",
      "25%: 11.538461538461538 \t50%: 29.76594941487354 \t75% 53.81930373100553\n"
     ]
    },
    {
     "data": {
      "image/png": "[encoded data removed]",
      "text/plain": [
       "<Figure size 432x288 with 1 Axes>"
      ]
     },
     "metadata": {},
     "output_type": "display_data"
    },
    {
     "data": {
      "image/png": "[encoded data removed]",
      "text/plain": [
       "<Figure size 432x288 with 1 Axes>"
      ]
     },
     "metadata": {},
     "output_type": "display_data"
    }
   ],
   "source": [
    "\n",
    "\n",
    "col_stats(condo_sales, COL_PRICE_PERCENT)\n",
    "draw_hist(condo_sales, COL_PRICE_PERCENT, 1)\n"
   ]
  },
  {
   "cell_type": "code",
   "execution_count": 79,
   "metadata": {},
   "outputs": [
    {
     "data": {
      "image/png": "[encoded data removed]",
      "text/plain": [
       "<Figure size 432x288 with 1 Axes>"
      ]
     },
     "metadata": {},
     "output_type": "display_data"
    }
   ],
   "source": [
    "# Table().with_columns(\n",
    "#     COL_PERIOD,  sales_2010.column(COL_PERIOD), \n",
    "#     COL_PRICE_PERCENT, sales_2010.column(COL_PRICE_PERCENT)\n",
    "# #     'CHANGE %', standard_units(sales_2010.column(COL_PRICE_PERCENT))\n",
    "# ).scatter(0)\n",
    "\n",
    "scatter_fit(sales_2010.where(COL_PERIOD, are.between(5*365, 6*365)), COL_PERIOD, COL_PRICE_PERCENT)\n"
   ]
  },
  {
   "cell_type": "code",
   "execution_count": 56,
   "metadata": {},
   "outputs": [
    {
     "data": {
      "text/html": [
       "<table border=\"1\" class=\"dataframe\">\n",
       "    <thead>\n",
       "        <tr>\n",
       "            <th>FULL ADDRESS</th> <th>FIRST SALE</th> <th>FIRST PRICE</th> <th>LAST SALE</th> <th>LAST PRICE</th> <th>PRICE CHANGE</th> <th>PERIOD</th> <th>DAILY PRICE CHANGE</th> <th>PRICE CHANGE %</th>\n",
       "        </tr>\n",
       "    </thead>\n",
       "    <tbody>\n",
       "        <tr>\n",
       "            <td>215 AVENUE B, 1005         </td> <td>2010-08-13 00:00:00</td> <td>690000     </td> <td>2014-07-18 00:00:00</td> <td>999000    </td> <td>309,000     </td> <td>1435  </td> <td>215.331           </td> <td>44.7826       </td>\n",
       "        </tr>\n",
       "        <tr>\n",
       "            <td>250 EAST 49TH   STREET, 10A</td> <td>2010-11-23 00:00:00</td> <td>692410     </td> <td>2015-12-22 00:00:00</td> <td>999999    </td> <td>307,589     </td> <td>1855  </td> <td>165.816           </td> <td>44.423        </td>\n",
       "        </tr>\n",
       "        <tr>\n",
       "            <td>20 PINE STREET, 2413       </td> <td>2010-06-13 00:00:00</td> <td>687318     </td> <td>2014-04-22 00:00:00</td> <td>820000    </td> <td>132,682     </td> <td>1409  </td> <td>94.1675           </td> <td>19.3043       </td>\n",
       "        </tr>\n",
       "        <tr>\n",
       "            <td>134 WEST 93RD STREET, 7C   </td> <td>2010-05-10 00:00:00</td> <td>675000     </td> <td>2017-10-18 00:00:00</td> <td>910000    </td> <td>235,000     </td> <td>2718  </td> <td>86.4606           </td> <td>34.8148       </td>\n",
       "        </tr>\n",
       "        <tr>\n",
       "            <td>211 EAST 46TH   STREET, 7E </td> <td>2010-05-07 00:00:00</td> <td>679000     </td> <td>2017-11-14 00:00:00</td> <td>915000    </td> <td>236,000     </td> <td>2748  </td> <td>85.8806           </td> <td>34.757        </td>\n",
       "        </tr>\n",
       "        <tr>\n",
       "            <td>306 EAST 82ND   STREET, 2A </td> <td>2010-12-09 00:00:00</td> <td>675000     </td> <td>2016-04-15 00:00:00</td> <td>840000    </td> <td>165,000     </td> <td>1954  </td> <td>84.4422           </td> <td>24.4444       </td>\n",
       "        </tr>\n",
       "    </tbody>\n",
       "</table>"
      ],
      "text/plain": [
       "FULL ADDRESS                | FIRST SALE          | FIRST PRICE | LAST SALE           | LAST PRICE | PRICE CHANGE | PERIOD | DAILY PRICE CHANGE | PRICE CHANGE %\n",
       "215 AVENUE B, 1005          | 2010-08-13 00:00:00 | 690000      | 2014-07-18 00:00:00 | 999000     | 309,000      | 1435   | 215.331            | 44.7826\n",
       "250 EAST 49TH   STREET, 10A | 2010-11-23 00:00:00 | 692410      | 2015-12-22 00:00:00 | 999999     | 307,589      | 1855   | 165.816            | 44.423\n",
       "20 PINE STREET, 2413        | 2010-06-13 00:00:00 | 687318      | 2014-04-22 00:00:00 | 820000     | 132,682      | 1409   | 94.1675            | 19.3043\n",
       "134 WEST 93RD STREET, 7C    | 2010-05-10 00:00:00 | 675000      | 2017-10-18 00:00:00 | 910000     | 235,000      | 2718   | 86.4606            | 34.8148\n",
       "211 EAST 46TH   STREET, 7E  | 2010-05-07 00:00:00 | 679000      | 2017-11-14 00:00:00 | 915000     | 236,000      | 2748   | 85.8806            | 34.757\n",
       "306 EAST 82ND   STREET, 2A  | 2010-12-09 00:00:00 | 675000      | 2016-04-15 00:00:00 | 840000     | 165,000      | 1954   | 84.4422            | 24.4444"
      ]
     },
     "execution_count": 56,
     "metadata": {},
     "output_type": "execute_result"
    }
   ],
   "source": [
    "sales_2010.where(COL_FIRST_SALE_PRICE, are.between(675000, 695000))\n"
   ]
  },
  {
   "cell_type": "code",
   "execution_count": 57,
   "metadata": {},
   "outputs": [
    {
     "data": {
      "image/png": "[encoded data removed]",
      "text/plain": [
       "<Figure size 432x288 with 1 Axes>"
      ]
     },
     "metadata": {},
     "output_type": "display_data"
    }
   ],
   "source": [
    "draw_hist(sales_2010, COL_FIRST_SALE_PRICE,5)"
   ]
  },
  {
   "cell_type": "code",
   "execution_count": 58,
   "metadata": {},
   "outputs": [
    {
     "name": "stdout",
     "output_type": "stream",
     "text": [
      "190000.0 1446000.0\n",
      "1446000.0 2702000.0\n",
      "2702000.0 3958000.0\n",
      "3958000.0 5214000.0\n",
      "5214000.0 6470000.0\n",
      "6470000.0 7726000.0\n",
      "7726000.0 8982000.0\n",
      "8982000.0 10238000.0\n",
      "10238000.0 11494000.0\n",
      "11494000.0 12750000.0\n"
     ]
    }
   ],
   "source": [
    "\n",
    "first_prices = sales_2010.column(COL_FIRST_SALE_PRICE)\n",
    "\n",
    "min_price = min(first_prices)\n",
    "max_price = max(first_prices)\n",
    "\n",
    "bins = 10\n",
    "bin_distance = (max_price - min_price) / bins\n",
    "\n",
    "for i in np.arange(min_price, max_price, bin_distance, ):\n",
    "    print(i, i+bin_distance)\n",
    "    #sales_2010.where(COL_FIRST_SALE_PRICE, are.between(i, i+bin_distance)).scatter(COL_PERIOD, COL_PRICE_CHANGE)"
   ]
  },
  {
   "cell_type": "code",
   "execution_count": 69,
   "metadata": {},
   "outputs": [
    {
     "data": {
      "image/png": "[encoded data removed]",
      "text/plain": [
       "<Figure size 360x360 with 1 Axes>"
      ]
     },
     "metadata": {},
     "output_type": "display_data"
    }
   ],
   "source": [
    "plots.close('all')\n",
    "\n",
    "periods = sales_2010.column(COL_PERIOD)\n",
    "\n",
    "min_period = min(periods)\n",
    "max_period = max(periods)\n",
    "\n",
    "bins = 5\n",
    "bin_distance = (max_period - min_period) / bins\n",
    "\n",
    "period_groups = []\n",
    "period_sales = []\n",
    "\n",
    "for i in np.arange(min_period, max_period, 30 ):\n",
    "#     print(i, i+30)\n",
    "    period_groups.append(i)\n",
    "    period_sales.append(np.mean(sales_2010.where(COL_PERIOD, are.between(i, i+bin_distance)).column(COL_PRICE_PERCENT)))\n",
    "    \n",
    "\n",
    "Table().with_columns(\n",
    "    COL_PERIOD,  period_groups, \n",
    "    COL_PRICE_PERCENT, period_sales\n",
    "#     'CHANGE %', standard_units(sales_2010.column(COL_PRICE_PERCENT))\n",
    ").scatter(0)"
   ]
  },
  {
   "cell_type": "code",
   "execution_count": 73,
   "metadata": {},
   "outputs": [
    {
     "ename": "NameError",
     "evalue": "name 'interact' is not defined",
     "output_type": "error",
     "traceback": [
      "\u001b[0;31m---------------------------------------------------------------------------\u001b[0m",
      "\u001b[0;31mNameError\u001b[0m                                 Traceback (most recent call last)",
      "\u001b[0;32m<ipython-input-73-371aed1bd7eb>\u001b[0m in \u001b[0;36m<module>\u001b[0;34m\u001b[0m\n\u001b[0;32m----> 1\u001b[0;31m \u001b[0minteract\u001b[0m\u001b[0;34m\u001b[0m\u001b[0m\n\u001b[0m",
      "\u001b[0;31mNameError\u001b[0m: name 'interact' is not defined"
     ]
    }
   ],
   "source": [
    "        "
   ]
  }
 ],
 "metadata": {
  "kernelspec": {
   "display_name": "Python 3",
   "language": "python",
   "name": "python3"
  },
  "language_info": {
   "codemirror_mode": {
    "name": "ipython",
    "version": 3
   },
   "file_extension": ".py",
   "mimetype": "text/x-python",
   "name": "python",
   "nbconvert_exporter": "python",
   "pygments_lexer": "ipython3",
   "version": "3.7.0"
  }
 },
 "nbformat": 4,
 "nbformat_minor": 1
}
