{
 "cells": [
  {
   "cell_type": "code",
   "execution_count": 1,
   "metadata": {},
   "outputs": [],
   "source": [
    "import numpy as np\n",
    "import pandas as pd\n",
    "\n",
    "from datascience import *\n",
    "\n",
    "%matplotlib inline\n",
    "import matplotlib.pyplot as plots\n",
    "plots.style.use('fivethirtyeight')\n",
    "\n",
    "import locale"
   ]
  },
  {
   "cell_type": "code",
   "execution_count": 2,
   "metadata": {},
   "outputs": [],
   "source": [
    "# Import CSV\n",
    "csv_directory = \"data/csv/\"\n",
    "\n",
    "all_sales_data = Table.read_table(csv_directory+'manhattan.csv', low_memory=False)\n"
   ]
  },
  {
   "cell_type": "code",
   "execution_count": 3,
   "metadata": {},
   "outputs": [],
   "source": [
    "# remove and sales less than $100 they are strange\n",
    "\n",
    "\n",
    "all_sales_data = all_sales_data.where('SALE PRICE', are.above(100000))"
   ]
  },
  {
   "cell_type": "code",
   "execution_count": 4,
   "metadata": {},
   "outputs": [
    {
     "data": {
      "text/html": [
       "<table border=\"1\" class=\"dataframe\">\n",
       "    <thead>\n",
       "        <tr>\n",
       "            <th>Unnamed: 0</th> <th>ADDRESS</th> <th>APARTMENT NUMBER</th> <th>BLOCK</th> <th>BOROUGH</th> <th>BUILDING CLASS AS OF FINAL ROLL 17/18</th> <th>BUILDING CLASS AT PRESENT</th> <th>BUILDING CLASS AT TIME OF SALE</th> <th>BUILDING CLASS CATEGORY</th> <th>COMMERCIAL UNITS</th> <th>EASE-MENT</th> <th>GROSS SQUARE FEET</th> <th>LAND SQUARE FEET</th> <th>LOT</th> <th>NEIGHBORHOOD</th> <th>RESIDENTIAL UNITS</th> <th>SALE DATE</th> <th>SALE PRICE</th> <th>TAX CLASS AS OF FINAL ROLL 17/18</th> <th>TAX CLASS AT PRESENT</th> <th>TAX CLASS AT TIME OF SALE</th> <th>TOTAL UNITS</th> <th>YEAR BUILT</th> <th>ZIP CODE</th>\n",
       "        </tr>\n",
       "    </thead>\n",
       "    <tbody>\n",
       "        <tr>\n",
       "            <td>9562      </td> <td>102 WEST 57TH STREET                     </td> <td>                </td> <td>1009 </td> <td>1      </td> <td>nan                                  </td> <td>H2                       </td> <td>H2                            </td> <td>25  LUXURY HOTELS                           </td> <td>2               </td> <td>         </td> <td>112850           </td> <td>7532            </td> <td>37  </td> <td>MIDTOWN WEST             </td> <td>0                </td> <td>2011-10-19</td> <td>100009    </td> <td>nan                             </td> <td>4                   </td> <td>4                        </td> <td>2          </td> <td>2007      </td> <td>10019   </td>\n",
       "        </tr>\n",
       "    </tbody>\n",
       "        <tr>\n",
       "            <td>10168     </td> <td>102 WEST 57TH STREET                     </td> <td>                </td> <td>1009 </td> <td>1      </td> <td>nan                                  </td> <td>H2                       </td> <td>H2                            </td> <td>25  LUXURY HOTELS                           </td> <td>2               </td> <td>         </td> <td>112850           </td> <td>7532            </td> <td>37  </td> <td>MIDTOWN WEST             </td> <td>0                </td> <td>2011-07-27</td> <td>100009    </td> <td>nan                             </td> <td>4                   </td> <td>4                        </td> <td>2          </td> <td>2007      </td> <td>10019   </td>\n",
       "        </tr>\n",
       "    </tbody>\n",
       "        <tr>\n",
       "            <td>10547     </td> <td>90 LA SALLE ST                           </td> <td>                </td> <td>1978 </td> <td>1      </td> <td>nan                                  </td> <td>D4                       </td> <td>D4                            </td> <td>10  COOPS - ELEVATOR APARTMENTS             </td> <td>0               </td> <td>         </td> <td>0                </td> <td>0               </td> <td>1   </td> <td>MORNINGSIDE HEIGHTS      </td> <td>0                </td> <td>2003-12-05</td> <td>100033    </td> <td>nan                             </td> <td>2                   </td> <td>2                        </td> <td>0          </td> <td>1956      </td> <td>10027   </td>\n",
       "        </tr>\n",
       "    </tbody>\n",
       "        <tr>\n",
       "            <td>371       </td> <td>365 WEST 25TH STREET, 14F                </td> <td>                </td> <td>749  </td> <td>1      </td> <td>nan                                  </td> <td>D4                       </td> <td>D4                            </td> <td>10  COOPS - ELEVATOR APARTMENTS             </td> <td>0               </td> <td>         </td> <td>0                </td> <td>0               </td> <td>1   </td> <td>CHELSEA                  </td> <td>0                </td> <td>2016-08-01</td> <td>100042    </td> <td>nan                             </td> <td>2                   </td> <td>2                        </td> <td>0          </td> <td>1963      </td> <td>10001   </td>\n",
       "        </tr>\n",
       "    </tbody>\n",
       "        <tr>\n",
       "            <td>372       </td> <td>365 WEST 25TH STREET, 4A                 </td> <td>                </td> <td>749  </td> <td>1      </td> <td>nan                                  </td> <td>D4                       </td> <td>D4                            </td> <td>10  COOPS - ELEVATOR APARTMENTS             </td> <td>0               </td> <td>         </td> <td>0                </td> <td>0               </td> <td>1   </td> <td>CHELSEA                  </td> <td>0                </td> <td>2016-08-01</td> <td>100042    </td> <td>nan                             </td> <td>2                   </td> <td>2                        </td> <td>0          </td> <td>1963      </td> <td>10001   </td>\n",
       "        </tr>\n",
       "    </tbody>\n",
       "        <tr>\n",
       "            <td>401       </td> <td>345 8TH AVENUE, 3A                       </td> <td>                </td> <td>751  </td> <td>1      </td> <td>nan                                  </td> <td>D4                       </td> <td>D4                            </td> <td>10  COOPS - ELEVATOR APARTMENTS             </td> <td>0               </td> <td>         </td> <td>0                </td> <td>0               </td> <td>1   </td> <td>CHELSEA                  </td> <td>0                </td> <td>2016-08-01</td> <td>100042    </td> <td>nan                             </td> <td>2                   </td> <td>2                        </td> <td>0          </td> <td>1960      </td> <td>10001   </td>\n",
       "        </tr>\n",
       "    </tbody>\n",
       "        <tr>\n",
       "            <td>12025     </td> <td>102 WEST 57TH STREET                     </td> <td>                </td> <td>1009 </td> <td>1      </td> <td>nan                                  </td> <td>H2                       </td> <td>H2                            </td> <td>25  LUXURY HOTELS                           </td> <td>2               </td> <td>         </td> <td>112850           </td> <td>7532            </td> <td>37  </td> <td>MIDTOWN WEST             </td> <td>0                </td> <td>2013-05-14</td> <td>100060    </td> <td>nan                             </td> <td>4                   </td> <td>4                        </td> <td>2          </td> <td>2007      </td> <td>10019   </td>\n",
       "        </tr>\n",
       "    </tbody>\n",
       "        <tr>\n",
       "            <td>11787     </td> <td>102 WEST 57TH STREET                     </td> <td>                </td> <td>1009 </td> <td>1      </td> <td>nan                                  </td> <td>H2                       </td> <td>H2                            </td> <td>25  LUXURY HOTELS                           </td> <td>2               </td> <td>         </td> <td>112850           </td> <td>7532            </td> <td>37  </td> <td>MIDTOWN WEST             </td> <td>0                </td> <td>2013-07-02</td> <td>100100    </td> <td>nan                             </td> <td>4                   </td> <td>4                        </td> <td>2          </td> <td>2007      </td> <td>10019   </td>\n",
       "        </tr>\n",
       "    </tbody>\n",
       "        <tr>\n",
       "            <td>11920     </td> <td>102 WEST 57TH STREET                     </td> <td>                </td> <td>1009 </td> <td>1      </td> <td>nan                                  </td> <td>H2                       </td> <td>H2                            </td> <td>25  LUXURY HOTELS                           </td> <td>2               </td> <td>         </td> <td>112850           </td> <td>7532            </td> <td>37  </td> <td>MIDTOWN WEST             </td> <td>0                </td> <td>2013-06-05</td> <td>100100    </td> <td>nan                             </td> <td>4                   </td> <td>4                        </td> <td>2          </td> <td>2007      </td> <td>10019   </td>\n",
       "        </tr>\n",
       "    </tbody>\n",
       "        <tr>\n",
       "            <td>12277     </td> <td>102 WEST 57TH ST                         </td> <td>                </td> <td>1009 </td> <td>1      </td> <td>nan                                  </td> <td>H2                       </td> <td>H2                            </td> <td>25  LUXURY HOTELS                           </td> <td>2               </td> <td>         </td> <td>112850           </td> <td>7532            </td> <td>37  </td> <td>MIDTOWN WEST             </td> <td>0                </td> <td>2013-03-05</td> <td>100100    </td> <td>nan                             </td> <td>4                   </td> <td>4                        </td> <td>2          </td> <td>2007      </td> <td>10019   </td>\n",
       "        </tr>\n",
       "    </tbody>\n",
       "        <tr>\n",
       "            <td>10951     </td> <td>102 WEST 57TH STREET                     </td> <td>                </td> <td>1009 </td> <td>1      </td> <td>nan                                  </td> <td>H3                       </td> <td>H2                            </td> <td>25  LUXURY HOTELS                           </td> <td>2               </td> <td>         </td> <td>112850           </td> <td>7532            </td> <td>37  </td> <td>MIDTOWN WEST             </td> <td>0                </td> <td>2014-07-21</td> <td>100100    </td> <td>nan                             </td> <td>4                   </td> <td>4                        </td> <td>2          </td> <td>2007      </td> <td>10019   </td>\n",
       "        </tr>\n",
       "    </tbody>\n",
       "        <tr>\n",
       "            <td>14639     </td> <td>1335 AVENUE OF THE AMERIC                </td> <td>HU2             </td> <td>1006 </td> <td>1      </td> <td>nan                                  </td> <td>RH                       </td> <td>RH                            </td> <td>45  CONDO HOTELS                            </td> <td>0               </td> <td>         </td> <td>0                </td> <td>0               </td> <td>1303</td> <td>MIDTOWN WEST             </td> <td>0                </td> <td>2015-07-07</td> <td>100198    </td> <td>nan                             </td> <td>4                   </td> <td>4                        </td> <td>1          </td> <td>1963      </td> <td>10019   </td>\n",
       "        </tr>\n",
       "    </tbody>\n",
       "        <tr>\n",
       "            <td>10978     </td> <td>102 WEST 57TH   STREET                   </td> <td>                </td> <td>1009 </td> <td>1      </td> <td>nan                                  </td> <td>H3                       </td> <td>H3                            </td> <td>26  OTHER HOTELS                            </td> <td>2               </td> <td>         </td> <td>112850           </td> <td>7532            </td> <td>37  </td> <td>MIDTOWN WEST             </td> <td>0                </td> <td>2016-02-24</td> <td>100220    </td> <td>nan                             </td> <td>4                   </td> <td>4                        </td> <td>2          </td> <td>2007      </td> <td>10019   </td>\n",
       "        </tr>\n",
       "    </tbody>\n",
       "        <tr>\n",
       "            <td>389       </td> <td>340 WEST 28TH STREET, 6C                 </td> <td>                </td> <td>751  </td> <td>1      </td> <td>nan                                  </td> <td>D4                       </td> <td>D4                            </td> <td>10  COOPS - ELEVATOR APARTMENTS             </td> <td>0               </td> <td>         </td> <td>0                </td> <td>0               </td> <td>1   </td> <td>CHELSEA                  </td> <td>0                </td> <td>2014-10-01</td> <td>100239    </td> <td>nan                             </td> <td>2                   </td> <td>2                        </td> <td>0          </td> <td>1960      </td> <td>10001   </td>\n",
       "        </tr>\n",
       "    </tbody>\n",
       "        <tr>\n",
       "            <td>401       </td> <td>305 WEST 28TH STREET, 6C                 </td> <td>                </td> <td>752  </td> <td>1      </td> <td>nan                                  </td> <td>D4                       </td> <td>D4                            </td> <td>10  COOPS - ELEVATOR APARTMENTS             </td> <td>0               </td> <td>         </td> <td>0                </td> <td>0               </td> <td>1   </td> <td>CHELSEA                  </td> <td>0                </td> <td>2014-10-01</td> <td>100239    </td> <td>nan                             </td> <td>2                   </td> <td>2                        </td> <td>0          </td> <td>1963      </td> <td>10001   </td>\n",
       "        </tr>\n",
       "    </tbody>\n",
       "        <tr>\n",
       "            <td>13641     </td> <td>1335 AVENUE OF THE AMERIC                </td> <td>HU2             </td> <td>1006 </td> <td>1      </td> <td>nan                                  </td> <td>RH                       </td> <td>RH                            </td> <td>45  CONDO HOTELS                            </td> <td>0               </td> <td>         </td> <td>0                </td> <td>0               </td> <td>1303</td> <td>MIDTOWN WEST             </td> <td>0                </td> <td>2015-12-09</td> <td>100255    </td> <td>nan                             </td> <td>4                   </td> <td>4                        </td> <td>1          </td> <td>1963      </td> <td>10019   </td>\n",
       "        </tr>\n",
       "    </tbody>\n",
       "        <tr>\n",
       "            <td>13344     </td> <td>102 WEST 57TH STREET                     </td> <td>                </td> <td>1009 </td> <td>1      </td> <td>nan                                  </td> <td>H2                       </td> <td>H2                            </td> <td>25  LUXURY HOTELS                           </td> <td>2               </td> <td>         </td> <td>112850           </td> <td>7532            </td> <td>37  </td> <td>MIDTOWN WEST             </td> <td>0                </td> <td>2012-05-01</td> <td>100259    </td> <td>nan                             </td> <td>4                   </td> <td>4                        </td> <td>2          </td> <td>2007      </td> <td>10019   </td>\n",
       "        </tr>\n",
       "    </tbody>\n",
       "        <tr>\n",
       "            <td>370       </td> <td>345 8TH AVENUE, 9B                       </td> <td>                </td> <td>751  </td> <td>1      </td> <td>nan                                  </td> <td>D4                       </td> <td>D4                            </td> <td>10  COOPS - ELEVATOR APARTMENTS             </td> <td>0               </td> <td>         </td> <td>0                </td> <td>0               </td> <td>1   </td> <td>CHELSEA                  </td> <td>0                </td> <td>2013-04-22</td> <td>100270    </td> <td>nan                             </td> <td>2                   </td> <td>2                        </td> <td>0          </td> <td>1960      </td> <td>10001   </td>\n",
       "        </tr>\n",
       "    </tbody>\n",
       "        <tr>\n",
       "            <td>14385     </td> <td>1337 THIRD AVENUE                        </td> <td>                </td> <td>1431 </td> <td>1      </td> <td>nan                                  </td> <td>C6                       </td> <td>C6                            </td> <td>09  COOPS - WALKUP APARTMENTS               </td> <td>0               </td> <td>         </td> <td>0                </td> <td>0               </td> <td>1   </td> <td>UPPER EAST SIDE (59-79)  </td> <td>0                </td> <td>2016-12-05</td> <td>100335    </td> <td>nan                             </td> <td>2                   </td> <td>2                        </td> <td>0          </td> <td>1910      </td> <td>10075   </td>\n",
       "        </tr>\n",
       "    </tbody>\n",
       "        <tr>\n",
       "            <td>4587      </td> <td>32 GRAMERCY PARK SOUTH, HALLW            </td> <td>                </td> <td>875  </td> <td>1      </td> <td>nan                                  </td> <td>D4                       </td> <td>D4                            </td> <td>10  COOPS - ELEVATOR APARTMENTS             </td> <td>0               </td> <td>         </td> <td>0                </td> <td>0               </td> <td>47  </td> <td>GRAMERCY                 </td> <td>0                </td> <td>2008-08-29</td> <td>100386    </td> <td>nan                             </td> <td>2                   </td> <td>2                        </td> <td>0          </td> <td>1956      </td> <td>10003   </td>\n",
       "        </tr>\n",
       "    </tbody>\n",
       "</table>\n",
       "<p>... (242970 rows omitted)</p>"
      ],
      "text/plain": [
       "<IPython.core.display.HTML object>"
      ]
     },
     "metadata": {},
     "output_type": "execute_result"
    },
    {
     "data": {
      "text/plain": [
       "('Unnamed: 0',\n",
       " 'ADDRESS',\n",
       " 'APARTMENT NUMBER',\n",
       " 'BLOCK',\n",
       " 'BOROUGH',\n",
       " 'BUILDING CLASS AS OF FINAL ROLL 17/18',\n",
       " 'BUILDING CLASS AT PRESENT',\n",
       " 'BUILDING CLASS AT TIME OF SALE',\n",
       " 'BUILDING CLASS CATEGORY',\n",
       " 'COMMERCIAL UNITS',\n",
       " 'EASE-MENT',\n",
       " 'GROSS SQUARE FEET',\n",
       " 'LAND SQUARE FEET',\n",
       " 'LOT',\n",
       " 'NEIGHBORHOOD',\n",
       " 'RESIDENTIAL UNITS',\n",
       " 'SALE DATE',\n",
       " 'SALE PRICE',\n",
       " 'TAX CLASS AS OF FINAL ROLL 17/18',\n",
       " 'TAX CLASS AT PRESENT',\n",
       " 'TAX CLASS AT TIME OF SALE',\n",
       " 'TOTAL UNITS',\n",
       " 'YEAR BUILT',\n",
       " 'ZIP CODE')"
      ]
     },
     "execution_count": 4,
     "metadata": {},
     "output_type": "execute_result"
    }
   ],
   "source": [
    "# SPOT CHECK: Understand the data lables we might be interested in\n",
    "all_sales_data.sort(\"SALE PRICE\").show(20)\n",
    "all_sales_data.labels"
   ]
  },
  {
   "cell_type": "code",
   "execution_count": 5,
   "metadata": {},
   "outputs": [],
   "source": [
    "# Remove redundant cells\n",
    "\n",
    "all_sales_data = all_sales_data.select(['SALE DATE', 'SALE PRICE', 'ADDRESS','APARTMENT NUMBER', 'YEAR BUILT', 'NEIGHBORHOOD', 'ZIP CODE', 'BUILDING CLASS AT TIME OF SALE', 'BUILDING CLASS CATEGORY'])"
   ]
  },
  {
   "cell_type": "code",
   "execution_count": 6,
   "metadata": {},
   "outputs": [
    {
     "name": "stderr",
     "output_type": "stream",
     "text": [
      "/usr/local/lib/python3.6/site-packages/datascience/tables.py:361: FutureWarning: column lists are deprecated; pass each as an argument\n",
      "  \"column lists are deprecated; pass each as an argument\", FutureWarning)\n"
     ]
    }
   ],
   "source": [
    "# Combine the Address and Apt No\n",
    "\n",
    "def combine_address(address, aptNo):\n",
    "    \"\"\"Combine the address and Apartment into a single result\"\"\"\n",
    "    temp = address.strip()\n",
    "    if len(aptNo.strip()) > 0:\n",
    "        temp = temp + ', ' + aptNo.strip()\n",
    "    return temp\n",
    "\n",
    "full_address = all_sales_data.apply(combine_address, ['ADDRESS', 'APARTMENT NUMBER'])"
   ]
  },
  {
   "cell_type": "code",
   "execution_count": 7,
   "metadata": {},
   "outputs": [],
   "source": [
    "# Add a Full Address column\n",
    "all_sales_data =  all_sales_data.with_column('FULL ADDRESS', full_address)"
   ]
  },
  {
   "cell_type": "code",
   "execution_count": 8,
   "metadata": {},
   "outputs": [
    {
     "data": {
      "text/html": [
       "<table border=\"1\" class=\"dataframe\">\n",
       "    <thead>\n",
       "        <tr>\n",
       "            <th>BUILDING CLASS AT TIME OF SALE</th> <th>BUILDING CLASS CATEGORY</th> <th>count</th>\n",
       "        </tr>\n",
       "    </thead>\n",
       "    <tbody>\n",
       "        <tr>\n",
       "            <td>R4                            </td> <td>13  CONDOS - ELEVATOR APARTMENTS            </td> <td>89835</td>\n",
       "        </tr>\n",
       "    </tbody>\n",
       "        <tr>\n",
       "            <td>D4                            </td> <td>10  COOPS - ELEVATOR APARTMENTS             </td> <td>82040</td>\n",
       "        </tr>\n",
       "    </tbody>\n",
       "        <tr>\n",
       "            <td>R9                            </td> <td>17  CONDOPS                                 </td> <td>9942 </td>\n",
       "        </tr>\n",
       "    </tbody>\n",
       "        <tr>\n",
       "            <td>C6                            </td> <td>09  COOPS - WALKUP APARTMENTS               </td> <td>9928 </td>\n",
       "        </tr>\n",
       "    </tbody>\n",
       "        <tr>\n",
       "            <td>R4                            </td> <td>13 CONDOS - ELEVATOR APARTMENTS             </td> <td>5852 </td>\n",
       "        </tr>\n",
       "    </tbody>\n",
       "        <tr>\n",
       "            <td>D4                            </td> <td>10 COOPS - ELEVATOR APARTMENTS              </td> <td>5286 </td>\n",
       "        </tr>\n",
       "    </tbody>\n",
       "        <tr>\n",
       "            <td>R9                            </td> <td>17  CONDO COOPS                             </td> <td>4088 </td>\n",
       "        </tr>\n",
       "    </tbody>\n",
       "        <tr>\n",
       "            <td>D0                            </td> <td>10  COOPS - ELEVATOR APARTMENTS             </td> <td>3296 </td>\n",
       "        </tr>\n",
       "    </tbody>\n",
       "        <tr>\n",
       "            <td>R1                            </td> <td>15  CONDOS - 2-10 UNIT RESIDENTIAL          </td> <td>3247 </td>\n",
       "        </tr>\n",
       "    </tbody>\n",
       "        <tr>\n",
       "            <td>R5                            </td> <td>28  COMMERCIAL CONDOS                       </td> <td>3228 </td>\n",
       "        </tr>\n",
       "    </tbody>\n",
       "        <tr>\n",
       "            <td>C7                            </td> <td>07  RENTALS - WALKUP APARTMENTS             </td> <td>1882 </td>\n",
       "        </tr>\n",
       "    </tbody>\n",
       "        <tr>\n",
       "            <td>C5                            </td> <td>07  RENTALS - WALKUP APARTMENTS             </td> <td>1444 </td>\n",
       "        </tr>\n",
       "    </tbody>\n",
       "        <tr>\n",
       "            <td>C1                            </td> <td>07  RENTALS - WALKUP APARTMENTS             </td> <td>1399 </td>\n",
       "        </tr>\n",
       "    </tbody>\n",
       "        <tr>\n",
       "            <td>R2                            </td> <td>12  CONDOS - WALKUP APARTMENTS              </td> <td>1278 </td>\n",
       "        </tr>\n",
       "    </tbody>\n",
       "        <tr>\n",
       "            <td>C4                            </td> <td>07  RENTALS - WALKUP APARTMENTS             </td> <td>1160 </td>\n",
       "        </tr>\n",
       "    </tbody>\n",
       "        <tr>\n",
       "            <td>H2                            </td> <td>25  LUXURY HOTELS                           </td> <td>951  </td>\n",
       "        </tr>\n",
       "    </tbody>\n",
       "        <tr>\n",
       "            <td>R9                            </td> <td>17 CONDO COOPS                              </td> <td>880  </td>\n",
       "        </tr>\n",
       "    </tbody>\n",
       "        <tr>\n",
       "            <td>RH                            </td> <td>45  CONDO HOTELS                            </td> <td>745  </td>\n",
       "        </tr>\n",
       "    </tbody>\n",
       "        <tr>\n",
       "            <td>C6                            </td> <td>09 COOPS - WALKUP APARTMENTS                </td> <td>723  </td>\n",
       "        </tr>\n",
       "    </tbody>\n",
       "        <tr>\n",
       "            <td>K9                            </td> <td>22  STORE BUILDINGS                         </td> <td>606  </td>\n",
       "        </tr>\n",
       "    </tbody>\n",
       "</table>\n",
       "<p>... (278 rows omitted)</p>"
      ],
      "text/plain": [
       "<IPython.core.display.HTML object>"
      ]
     },
     "metadata": {},
     "output_type": "execute_result"
    }
   ],
   "source": [
    "# Try to understand Building Class Codes. Whare the most common Codes\n",
    "all_sales_data.group(['BUILDING CLASS AT TIME OF SALE', 'BUILDING CLASS CATEGORY']).sort('count', descending=True).show(20)\n",
    "\n",
    "# Question what's R5 -  COMMERCIAL CONDOS? ignoring for now"
   ]
  },
  {
   "cell_type": "code",
   "execution_count": 9,
   "metadata": {},
   "outputs": [],
   "source": [
    "# Let's pick out the condos for now. \n",
    "# See ## for condo codes\n",
    "condos = all_sales_data.where('BUILDING CLASS AT TIME OF SALE', are.contained_in(\"R1R2R3R4R6\"))"
   ]
  },
  {
   "cell_type": "code",
   "execution_count": 10,
   "metadata": {},
   "outputs": [
    {
     "data": {
      "text/html": [
       "<table border=\"1\" class=\"dataframe\">\n",
       "    <thead>\n",
       "        <tr>\n",
       "            <th>SALE DATE</th> <th>SALE PRICE</th> <th>ADDRESS</th> <th>APARTMENT NUMBER</th> <th>YEAR BUILT</th> <th>NEIGHBORHOOD</th> <th>ZIP CODE</th> <th>BUILDING CLASS AT TIME OF SALE</th> <th>BUILDING CLASS CATEGORY</th> <th>FULL ADDRESS</th>\n",
       "        </tr>\n",
       "    </thead>\n",
       "    <tbody>\n",
       "        <tr>\n",
       "            <td>2005-06-08</td> <td>1675000   </td> <td>203 WEST 90TH STREET                     </td> <td>8A              </td> <td>0         </td> <td>UPPER WEST SIDE (79-96)  </td> <td>10024   </td> <td>R4                            </td> <td>13  CONDOS - ELEVATOR APARTMENTS            </td> <td>203 WEST 90TH STREET, 8A    </td>\n",
       "        </tr>\n",
       "    </tbody>\n",
       "        <tr>\n",
       "            <td>2003-12-09</td> <td>1410276   </td> <td>404 EAST 76 STREET                       </td> <td>30C             </td> <td>0         </td> <td>UPPER EAST SIDE (59-79)  </td> <td>10021   </td> <td>R4                            </td> <td>13  CONDOS - ELEVATOR APARTMENTS            </td> <td>404 EAST 76 STREET, 30C     </td>\n",
       "        </tr>\n",
       "    </tbody>\n",
       "        <tr>\n",
       "            <td>2016-01-21</td> <td>1122620   </td> <td>5 FRANKLIN PLACE                         </td> <td>2B              </td> <td>1920      </td> <td>CIVIC CENTER             </td> <td>10013   </td> <td>R4                            </td> <td>13  CONDOS - ELEVATOR APARTMENTS            </td> <td>5 FRANKLIN PLACE, 2B        </td>\n",
       "        </tr>\n",
       "    </tbody>\n",
       "        <tr>\n",
       "            <td>2017-12-07</td> <td>2650000   </td> <td>170 EAST 87TH   STREET                   </td> <td>W21B            </td> <td>0         </td> <td>UPPER EAST SIDE (79-96)  </td> <td>10128   </td> <td>R4                            </td> <td>13 CONDOS - ELEVATOR APARTMENTS             </td> <td>170 EAST 87TH   STREET, W21B</td>\n",
       "        </tr>\n",
       "    </tbody>\n",
       "        <tr>\n",
       "            <td>2007-08-15</td> <td>820000    </td> <td>510 EAST 80TH STREET                     </td> <td>7C              </td> <td>1986      </td> <td>UPPER EAST SIDE (79-96)  </td> <td>10021   </td> <td>R4                            </td> <td>13  CONDOS - ELEVATOR APARTMENTS            </td> <td>510 EAST 80TH STREET, 7C    </td>\n",
       "        </tr>\n",
       "    </tbody>\n",
       "        <tr>\n",
       "            <td>2017-10-18</td> <td>900000    </td> <td>225 WEST 60TH STREET                     </td> <td>15A             </td> <td>2005      </td> <td>UPPER WEST SIDE (59-79)  </td> <td>10023   </td> <td>R4                            </td> <td>13 CONDOS - ELEVATOR APARTMENTS             </td> <td>225 WEST 60TH STREET, 15A   </td>\n",
       "        </tr>\n",
       "    </tbody>\n",
       "        <tr>\n",
       "            <td>2006-05-25</td> <td>1537557   </td> <td>425 FIFTH AVENUE                         </td> <td>64A             </td> <td>0         </td> <td>MURRAY HILL              </td> <td>10016   </td> <td>R4                            </td> <td>13  CONDOS - ELEVATOR APARTMENTS            </td> <td>425 FIFTH AVENUE, 64A       </td>\n",
       "        </tr>\n",
       "    </tbody>\n",
       "        <tr>\n",
       "            <td>2012-10-19</td> <td>575000    </td> <td>400 CENTRAL PARK WEST                    </td> <td>15S             </td> <td>1960      </td> <td>MANHATTAN VALLEY         </td> <td>10025   </td> <td>R4                            </td> <td>13  CONDOS - ELEVATOR APARTMENTS            </td> <td>400 CENTRAL PARK WEST, 15S  </td>\n",
       "        </tr>\n",
       "    </tbody>\n",
       "        <tr>\n",
       "            <td>2015-05-05</td> <td>9250000   </td> <td>530 PARK AVENUE                          </td> <td>18A             </td> <td>1941      </td> <td>UPPER EAST SIDE (59-79)  </td> <td>10065   </td> <td>R4                            </td> <td>13  CONDOS - ELEVATOR APARTMENTS            </td> <td>530 PARK AVENUE, 18A        </td>\n",
       "        </tr>\n",
       "    </tbody>\n",
       "        <tr>\n",
       "            <td>2015-09-15</td> <td>2610000   </td> <td>1474 THIRD AVENUE                        </td> <td>2S              </td> <td>0         </td> <td>UPPER EAST SIDE (79-96)  </td> <td>10028   </td> <td>R4                            </td> <td>13  CONDOS - ELEVATOR APARTMENTS            </td> <td>1474 THIRD AVENUE, 2S       </td>\n",
       "        </tr>\n",
       "    </tbody>\n",
       "</table>"
      ],
      "text/plain": [
       "SALE DATE  | SALE PRICE | ADDRESS                                   | APARTMENT NUMBER | YEAR BUILT | NEIGHBORHOOD              | ZIP CODE | BUILDING CLASS AT TIME OF SALE | BUILDING CLASS CATEGORY                      | FULL ADDRESS\n",
       "2005-06-08 | 1675000    | 203 WEST 90TH STREET                      | 8A               | 0          | UPPER WEST SIDE (79-96)   | 10024    | R4                             | 13  CONDOS - ELEVATOR APARTMENTS             | 203 WEST 90TH STREET, 8A\n",
       "2003-12-09 | 1410276    | 404 EAST 76 STREET                        | 30C              | 0          | UPPER EAST SIDE (59-79)   | 10021    | R4                             | 13  CONDOS - ELEVATOR APARTMENTS             | 404 EAST 76 STREET, 30C\n",
       "2016-01-21 | 1122620    | 5 FRANKLIN PLACE                          | 2B               | 1920       | CIVIC CENTER              | 10013    | R4                             | 13  CONDOS - ELEVATOR APARTMENTS             | 5 FRANKLIN PLACE, 2B\n",
       "2017-12-07 | 2650000    | 170 EAST 87TH   STREET                    | W21B             | 0          | UPPER EAST SIDE (79-96)   | 10128    | R4                             | 13 CONDOS - ELEVATOR APARTMENTS              | 170 EAST 87TH   STREET, W21B\n",
       "2007-08-15 | 820000     | 510 EAST 80TH STREET                      | 7C               | 1986       | UPPER EAST SIDE (79-96)   | 10021    | R4                             | 13  CONDOS - ELEVATOR APARTMENTS             | 510 EAST 80TH STREET, 7C\n",
       "2017-10-18 | 900000     | 225 WEST 60TH STREET                      | 15A              | 2005       | UPPER WEST SIDE (59-79)   | 10023    | R4                             | 13 CONDOS - ELEVATOR APARTMENTS              | 225 WEST 60TH STREET, 15A\n",
       "2006-05-25 | 1537557    | 425 FIFTH AVENUE                          | 64A              | 0          | MURRAY HILL               | 10016    | R4                             | 13  CONDOS - ELEVATOR APARTMENTS             | 425 FIFTH AVENUE, 64A\n",
       "2012-10-19 | 575000     | 400 CENTRAL PARK WEST                     | 15S              | 1960       | MANHATTAN VALLEY          | 10025    | R4                             | 13  CONDOS - ELEVATOR APARTMENTS             | 400 CENTRAL PARK WEST, 15S\n",
       "2015-05-05 | 9250000    | 530 PARK AVENUE                           | 18A              | 1941       | UPPER EAST SIDE (59-79)   | 10065    | R4                             | 13  CONDOS - ELEVATOR APARTMENTS             | 530 PARK AVENUE, 18A\n",
       "2015-09-15 | 2610000    | 1474 THIRD AVENUE                         | 2S               | 0          | UPPER EAST SIDE (79-96)   | 10028    | R4                             | 13  CONDOS - ELEVATOR APARTMENTS             | 1474 THIRD AVENUE, 2S"
      ]
     },
     "execution_count": 10,
     "metadata": {},
     "output_type": "execute_result"
    }
   ],
   "source": [
    "# Spot Check condo data\n",
    "condos.sample(10)"
   ]
  },
  {
   "cell_type": "code",
   "execution_count": 11,
   "metadata": {},
   "outputs": [
    {
     "data": {
      "text/html": [
       "<table border=\"1\" class=\"dataframe\">\n",
       "    <thead>\n",
       "        <tr>\n",
       "            <th>FULL ADDRESS</th> <th>count</th>\n",
       "        </tr>\n",
       "    </thead>\n",
       "    <tbody>\n",
       "        <tr>\n",
       "            <td>1 WEST END AVENUE         </td> <td>136  </td>\n",
       "        </tr>\n",
       "    </tbody>\n",
       "        <tr>\n",
       "            <td>45 EAST 22ND   STREET     </td> <td>51   </td>\n",
       "        </tr>\n",
       "    </tbody>\n",
       "        <tr>\n",
       "            <td>245 WEST 99TH STREET      </td> <td>49   </td>\n",
       "        </tr>\n",
       "    </tbody>\n",
       "        <tr>\n",
       "            <td>171 WEST 131 STREET       </td> <td>44   </td>\n",
       "        </tr>\n",
       "    </tbody>\n",
       "        <tr>\n",
       "            <td>959 1 AVENUE              </td> <td>42   </td>\n",
       "        </tr>\n",
       "    </tbody>\n",
       "        <tr>\n",
       "            <td>416 WEST 52ND STREET      </td> <td>39   </td>\n",
       "        </tr>\n",
       "    </tbody>\n",
       "        <tr>\n",
       "            <td>245 WEST 99TH   STREET    </td> <td>37   </td>\n",
       "        </tr>\n",
       "    </tbody>\n",
       "        <tr>\n",
       "            <td>2094 FREDRICK DOUGLASS BL </td> <td>35   </td>\n",
       "        </tr>\n",
       "    </tbody>\n",
       "        <tr>\n",
       "            <td>172 MADISON AVENUE        </td> <td>35   </td>\n",
       "        </tr>\n",
       "    </tbody>\n",
       "        <tr>\n",
       "            <td>360 EAST 89TH   STREET    </td> <td>23   </td>\n",
       "        </tr>\n",
       "    </tbody>\n",
       "        <tr>\n",
       "            <td>450 WEST 42ND   STREET    </td> <td>20   </td>\n",
       "        </tr>\n",
       "    </tbody>\n",
       "        <tr>\n",
       "            <td>90 LEXINGTON AVENUE       </td> <td>19   </td>\n",
       "        </tr>\n",
       "    </tbody>\n",
       "        <tr>\n",
       "            <td>209 SULLIVAN STREET       </td> <td>19   </td>\n",
       "        </tr>\n",
       "    </tbody>\n",
       "        <tr>\n",
       "            <td>194 EAST 101 STREET       </td> <td>19   </td>\n",
       "        </tr>\n",
       "    </tbody>\n",
       "        <tr>\n",
       "            <td>1810 3 AVENUE             </td> <td>19   </td>\n",
       "        </tr>\n",
       "    </tbody>\n",
       "        <tr>\n",
       "            <td>100 AVENUE A              </td> <td>18   </td>\n",
       "        </tr>\n",
       "    </tbody>\n",
       "        <tr>\n",
       "            <td>69 BENNETT AVENUE         </td> <td>17   </td>\n",
       "        </tr>\n",
       "    </tbody>\n",
       "        <tr>\n",
       "            <td>2098 EIGHTH AVENUE        </td> <td>17   </td>\n",
       "        </tr>\n",
       "    </tbody>\n",
       "        <tr>\n",
       "            <td>2040 FREDERICK DOUGLASS B </td> <td>17   </td>\n",
       "        </tr>\n",
       "    </tbody>\n",
       "        <tr>\n",
       "            <td>48 EAST 132 STREET        </td> <td>16   </td>\n",
       "        </tr>\n",
       "    </tbody>\n",
       "        <tr>\n",
       "            <td>210 WEST 77TH   STREET    </td> <td>16   </td>\n",
       "        </tr>\n",
       "    </tbody>\n",
       "        <tr>\n",
       "            <td>FRED DOUGLASS BOULEV      </td> <td>15   </td>\n",
       "        </tr>\n",
       "    </tbody>\n",
       "        <tr>\n",
       "            <td>2101 BROADWAY             </td> <td>15   </td>\n",
       "        </tr>\n",
       "    </tbody>\n",
       "        <tr>\n",
       "            <td>86 CANAL STREET           </td> <td>14   </td>\n",
       "        </tr>\n",
       "    </tbody>\n",
       "        <tr>\n",
       "            <td>318-322 WEST 52ND   STREET</td> <td>14   </td>\n",
       "        </tr>\n",
       "    </tbody>\n",
       "        <tr>\n",
       "            <td>1810 THIRD AVENUE         </td> <td>14   </td>\n",
       "        </tr>\n",
       "    </tbody>\n",
       "        <tr>\n",
       "            <td>301 EAST 66TH   STREET    </td> <td>13   </td>\n",
       "        </tr>\n",
       "    </tbody>\n",
       "        <tr>\n",
       "            <td>270 RIVERSIDE DRIVE       </td> <td>13   </td>\n",
       "        </tr>\n",
       "    </tbody>\n",
       "        <tr>\n",
       "            <td>60 EAST 86TH   STREET     </td> <td>12   </td>\n",
       "        </tr>\n",
       "    </tbody>\n",
       "        <tr>\n",
       "            <td>318 WEST 52ND   STREET    </td> <td>12   </td>\n",
       "        </tr>\n",
       "    </tbody>\n",
       "</table>\n",
       "<p>... (82806 rows omitted)</p>"
      ],
      "text/plain": [
       "<IPython.core.display.HTML object>"
      ]
     },
     "metadata": {},
     "output_type": "execute_result"
    }
   ],
   "source": [
    "# Let's find condos with multiple sales\n",
    "\n",
    "condos.group('FULL ADDRESS').sort(1, descending=True).show(30)\n",
    "\n",
    "# Looks like Apt numbers are missing for most of the top sales. let's ignore anything without an apt number. "
   ]
  },
  {
   "cell_type": "code",
   "execution_count": 12,
   "metadata": {},
   "outputs": [
    {
     "data": {
      "text/html": [
       "<table border=\"1\" class=\"dataframe\">\n",
       "    <thead>\n",
       "        <tr>\n",
       "            <th>FULL ADDRESS</th> <th>count</th>\n",
       "        </tr>\n",
       "    </thead>\n",
       "    <tbody>\n",
       "        <tr>\n",
       "            <td>2 EAST 55 STREET, 835    </td> <td>8    </td>\n",
       "        </tr>\n",
       "    </tbody>\n",
       "        <tr>\n",
       "            <td>2 EAST 55TH   STREET, 935</td> <td>7    </td>\n",
       "        </tr>\n",
       "    </tbody>\n",
       "        <tr>\n",
       "            <td>2 EAST 55 STREET, 921    </td> <td>7    </td>\n",
       "        </tr>\n",
       "    </tbody>\n",
       "        <tr>\n",
       "            <td>77 PARK AVENUE, 2F       </td> <td>6    </td>\n",
       "        </tr>\n",
       "    </tbody>\n",
       "        <tr>\n",
       "            <td>418 CENTRAL PARK WEST, 22</td> <td>6    </td>\n",
       "        </tr>\n",
       "    </tbody>\n",
       "        <tr>\n",
       "            <td>2 EAST 55 STREET, 936    </td> <td>6    </td>\n",
       "        </tr>\n",
       "    </tbody>\n",
       "        <tr>\n",
       "            <td>2 EAST 55 STREET, 903    </td> <td>6    </td>\n",
       "        </tr>\n",
       "    </tbody>\n",
       "        <tr>\n",
       "            <td>15 BROAD STREET, 2116    </td> <td>6    </td>\n",
       "        </tr>\n",
       "    </tbody>\n",
       "        <tr>\n",
       "            <td>140 7 AVENUE, 6A         </td> <td>6    </td>\n",
       "        </tr>\n",
       "    </tbody>\n",
       "        <tr>\n",
       "            <td>52 PARK AVENUE, 7        </td> <td>5    </td>\n",
       "        </tr>\n",
       "    </tbody>\n",
       "</table>\n",
       "<p>... (14382 rows omitted)</p>"
      ],
      "text/plain": [
       "FULL ADDRESS              | count\n",
       "2 EAST 55 STREET, 835     | 8\n",
       "2 EAST 55TH   STREET, 935 | 7\n",
       "2 EAST 55 STREET, 921     | 7\n",
       "77 PARK AVENUE, 2F        | 6\n",
       "418 CENTRAL PARK WEST, 22 | 6\n",
       "2 EAST 55 STREET, 936     | 6\n",
       "2 EAST 55 STREET, 903     | 6\n",
       "15 BROAD STREET, 2116     | 6\n",
       "140 7 AVENUE, 6A          | 6\n",
       "52 PARK AVENUE, 7         | 5\n",
       "... (14382 rows omitted)"
      ]
     },
     "execution_count": 12,
     "metadata": {},
     "output_type": "execute_result"
    }
   ],
   "source": [
    "# Find condos with apt numbers i.e. clean data, then find those with more that 1 sale record.\n",
    "\n",
    "multi_sale_condos = condos.where('FULL ADDRESS', are.containing(',')).group('FULL ADDRESS').sort(1, descending=True).where('count', are.above(1))\n",
    "multi_sale_condos\n",
    "\n",
    "#ahh much better, fewer sales but still roughly 15K records"
   ]
  },
  {
   "cell_type": "code",
   "execution_count": 13,
   "metadata": {},
   "outputs": [
    {
     "data": {
      "text/html": [
       "<table border=\"1\" class=\"dataframe\">\n",
       "    <thead>\n",
       "        <tr>\n",
       "            <th>FULL ADDRESS</th> <th>count</th> <th>SALE DATE</th> <th>SALE PRICE</th> <th>ADDRESS</th> <th>APARTMENT NUMBER</th> <th>YEAR BUILT</th> <th>NEIGHBORHOOD</th> <th>ZIP CODE</th> <th>BUILDING CLASS AT TIME OF SALE</th> <th>BUILDING CLASS CATEGORY</th>\n",
       "        </tr>\n",
       "    </thead>\n",
       "    <tbody>\n",
       "        <tr>\n",
       "            <td>1 BOND STREET, 2C</td> <td>2    </td> <td>2017-08-18</td> <td>5640000   </td> <td>1 BOND STREET                            </td> <td>2C              </td> <td>0         </td> <td>GREENWICH VILLAGE-CENTRAL</td> <td>10012   </td> <td>R4                            </td> <td>13 CONDOS - ELEVATOR APARTMENTS             </td>\n",
       "        </tr>\n",
       "    </tbody>\n",
       "        <tr>\n",
       "            <td>1 BOND STREET, 2C</td> <td>2    </td> <td>2010-12-15</td> <td>600000    </td> <td>1 BOND STREET                            </td> <td>2C              </td> <td>0         </td> <td>GREENWICH VILLAGE-CENTRAL</td> <td>10012   </td> <td>R4                            </td> <td>13  CONDOS - ELEVATOR APARTMENTS            </td>\n",
       "        </tr>\n",
       "    </tbody>\n",
       "        <tr>\n",
       "            <td>1 BOND STREET, 2D</td> <td>2    </td> <td>2009-04-24</td> <td>1195000   </td> <td>1 BOND STREET                            </td> <td>2D              </td> <td>0         </td> <td>GREENWICH VILLAGE-CENTRAL</td> <td>10012   </td> <td>R4                            </td> <td>13  CONDOS - ELEVATOR APARTMENTS            </td>\n",
       "        </tr>\n",
       "    </tbody>\n",
       "        <tr>\n",
       "            <td>1 BOND STREET, 2D</td> <td>2    </td> <td>2014-01-07</td> <td>1925000   </td> <td>1 BOND STREET                            </td> <td>2D              </td> <td>0         </td> <td>GREENWICH VILLAGE-CENTRAL</td> <td>10012   </td> <td>R4                            </td> <td>13  CONDOS - ELEVATOR APARTMENTS            </td>\n",
       "        </tr>\n",
       "    </tbody>\n",
       "        <tr>\n",
       "            <td>1 BOND STREET, 3A</td> <td>2    </td> <td>2013-06-14</td> <td>7200000   </td> <td>1 BOND STREET                            </td> <td>3A              </td> <td>0         </td> <td>GREENWICH VILLAGE-CENTRAL</td> <td>10012   </td> <td>R4                            </td> <td>13  CONDOS - ELEVATOR APARTMENTS            </td>\n",
       "        </tr>\n",
       "    </tbody>\n",
       "        <tr>\n",
       "            <td>1 BOND STREET, 3A</td> <td>2    </td> <td>2008-06-06</td> <td>5030000   </td> <td>1 BOND STREET                            </td> <td>3A              </td> <td>0         </td> <td>GREENWICH VILLAGE-CENTRAL</td> <td>10012   </td> <td>R4                            </td> <td>13  CONDOS - ELEVATOR APARTMENTS            </td>\n",
       "        </tr>\n",
       "    </tbody>\n",
       "        <tr>\n",
       "            <td>1 BOND STREET, 4D</td> <td>2    </td> <td>2006-08-30</td> <td>1565000   </td> <td>1 BOND STREET                            </td> <td>4D              </td> <td>0         </td> <td>GREENWICH VILLAGE-CENTRAL</td> <td>10012   </td> <td>R4                            </td> <td>13  CONDOS - ELEVATOR APARTMENTS            </td>\n",
       "        </tr>\n",
       "    </tbody>\n",
       "        <tr>\n",
       "            <td>1 BOND STREET, 4D</td> <td>2    </td> <td>2013-08-20</td> <td>2415000   </td> <td>1 BOND STREET                            </td> <td>4D              </td> <td>0         </td> <td>GREENWICH VILLAGE-CENTRAL</td> <td>10012   </td> <td>R4                            </td> <td>13  CONDOS - ELEVATOR APARTMENTS            </td>\n",
       "        </tr>\n",
       "    </tbody>\n",
       "        <tr>\n",
       "            <td>1 BOND STREET, 6A</td> <td>2    </td> <td>2012-12-12</td> <td>3600000   </td> <td>1 BOND STREET                            </td> <td>6A              </td> <td>0         </td> <td>GREENWICH VILLAGE-CENTRAL</td> <td>10012   </td> <td>R4                            </td> <td>13  CONDOS - ELEVATOR APARTMENTS            </td>\n",
       "        </tr>\n",
       "    </tbody>\n",
       "        <tr>\n",
       "            <td>1 BOND STREET, 6A</td> <td>2    </td> <td>2017-09-06</td> <td>5250000   </td> <td>1 BOND STREET                            </td> <td>6A              </td> <td>0         </td> <td>GREENWICH VILLAGE-CENTRAL</td> <td>10012   </td> <td>R4                            </td> <td>13 CONDOS - ELEVATOR APARTMENTS             </td>\n",
       "        </tr>\n",
       "    </tbody>\n",
       "</table>\n",
       "<p>... (31129 rows omitted)</p>"
      ],
      "text/plain": [
       "FULL ADDRESS      | count | SALE DATE  | SALE PRICE | ADDRESS                                   | APARTMENT NUMBER | YEAR BUILT | NEIGHBORHOOD              | ZIP CODE | BUILDING CLASS AT TIME OF SALE | BUILDING CLASS CATEGORY\n",
       "1 BOND STREET, 2C | 2     | 2017-08-18 | 5640000    | 1 BOND STREET                             | 2C               | 0          | GREENWICH VILLAGE-CENTRAL | 10012    | R4                             | 13 CONDOS - ELEVATOR APARTMENTS\n",
       "1 BOND STREET, 2C | 2     | 2010-12-15 | 600000     | 1 BOND STREET                             | 2C               | 0          | GREENWICH VILLAGE-CENTRAL | 10012    | R4                             | 13  CONDOS - ELEVATOR APARTMENTS\n",
       "1 BOND STREET, 2D | 2     | 2009-04-24 | 1195000    | 1 BOND STREET                             | 2D               | 0          | GREENWICH VILLAGE-CENTRAL | 10012    | R4                             | 13  CONDOS - ELEVATOR APARTMENTS\n",
       "1 BOND STREET, 2D | 2     | 2014-01-07 | 1925000    | 1 BOND STREET                             | 2D               | 0          | GREENWICH VILLAGE-CENTRAL | 10012    | R4                             | 13  CONDOS - ELEVATOR APARTMENTS\n",
       "1 BOND STREET, 3A | 2     | 2013-06-14 | 7200000    | 1 BOND STREET                             | 3A               | 0          | GREENWICH VILLAGE-CENTRAL | 10012    | R4                             | 13  CONDOS - ELEVATOR APARTMENTS\n",
       "1 BOND STREET, 3A | 2     | 2008-06-06 | 5030000    | 1 BOND STREET                             | 3A               | 0          | GREENWICH VILLAGE-CENTRAL | 10012    | R4                             | 13  CONDOS - ELEVATOR APARTMENTS\n",
       "1 BOND STREET, 4D | 2     | 2006-08-30 | 1565000    | 1 BOND STREET                             | 4D               | 0          | GREENWICH VILLAGE-CENTRAL | 10012    | R4                             | 13  CONDOS - ELEVATOR APARTMENTS\n",
       "1 BOND STREET, 4D | 2     | 2013-08-20 | 2415000    | 1 BOND STREET                             | 4D               | 0          | GREENWICH VILLAGE-CENTRAL | 10012    | R4                             | 13  CONDOS - ELEVATOR APARTMENTS\n",
       "1 BOND STREET, 6A | 2     | 2012-12-12 | 3600000    | 1 BOND STREET                             | 6A               | 0          | GREENWICH VILLAGE-CENTRAL | 10012    | R4                             | 13  CONDOS - ELEVATOR APARTMENTS\n",
       "1 BOND STREET, 6A | 2     | 2017-09-06 | 5250000    | 1 BOND STREET                             | 6A               | 0          | GREENWICH VILLAGE-CENTRAL | 10012    | R4                             | 13 CONDOS - ELEVATOR APARTMENTS\n",
       "... (31129 rows omitted)"
      ]
     },
     "execution_count": 13,
     "metadata": {},
     "output_type": "execute_result"
    }
   ],
   "source": [
    "# Define condos with multiple sales. \n",
    "\n",
    "multi_sale_condos = multi_sale_condos.join('FULL ADDRESS', condos, 'FULL ADDRESS')\n",
    "multi_sale_condos.sort(0)"
   ]
  },
  {
   "cell_type": "code",
   "execution_count": 14,
   "metadata": {},
   "outputs": [
    {
     "data": {
      "text/html": [
       "<table border=\"1\" class=\"dataframe\">\n",
       "    <thead>\n",
       "        <tr>\n",
       "            <th>FULL ADDRESS</th> <th>SALE DATE min</th>\n",
       "        </tr>\n",
       "    </thead>\n",
       "    <tbody>\n",
       "        <tr>\n",
       "            <td>1 BOND STREET, 2C</td> <td>2010-12-15   </td>\n",
       "        </tr>\n",
       "    </tbody>\n",
       "        <tr>\n",
       "            <td>1 BOND STREET, 2D</td> <td>2009-04-24   </td>\n",
       "        </tr>\n",
       "    </tbody>\n",
       "        <tr>\n",
       "            <td>1 BOND STREET, 3A</td> <td>2008-06-06   </td>\n",
       "        </tr>\n",
       "    </tbody>\n",
       "        <tr>\n",
       "            <td>1 BOND STREET, 4D</td> <td>2006-08-30   </td>\n",
       "        </tr>\n",
       "    </tbody>\n",
       "        <tr>\n",
       "            <td>1 BOND STREET, 6A</td> <td>2012-12-12   </td>\n",
       "        </tr>\n",
       "    </tbody>\n",
       "</table>\n",
       "<p>... (14387 rows omitted)</p>"
      ],
      "text/plain": [
       "<IPython.core.display.HTML object>"
      ]
     },
     "metadata": {},
     "output_type": "execute_result"
    },
    {
     "data": {
      "text/html": [
       "<table border=\"1\" class=\"dataframe\">\n",
       "    <thead>\n",
       "        <tr>\n",
       "            <th>FULL ADDRESS</th> <th>SALE DATE max</th>\n",
       "        </tr>\n",
       "    </thead>\n",
       "    <tbody>\n",
       "        <tr>\n",
       "            <td>1 BOND STREET, 2C</td> <td>2017-08-18   </td>\n",
       "        </tr>\n",
       "    </tbody>\n",
       "        <tr>\n",
       "            <td>1 BOND STREET, 2D</td> <td>2014-01-07   </td>\n",
       "        </tr>\n",
       "    </tbody>\n",
       "        <tr>\n",
       "            <td>1 BOND STREET, 3A</td> <td>2013-06-14   </td>\n",
       "        </tr>\n",
       "    </tbody>\n",
       "        <tr>\n",
       "            <td>1 BOND STREET, 4D</td> <td>2013-08-20   </td>\n",
       "        </tr>\n",
       "    </tbody>\n",
       "        <tr>\n",
       "            <td>1 BOND STREET, 6A</td> <td>2017-09-06   </td>\n",
       "        </tr>\n",
       "    </tbody>\n",
       "</table>\n",
       "<p>... (14387 rows omitted)</p>"
      ],
      "text/plain": [
       "<IPython.core.display.HTML object>"
      ]
     },
     "metadata": {},
     "output_type": "execute_result"
    }
   ],
   "source": [
    "# Find the first and last Sale Dates\n",
    "\n",
    "first_sale_dates = multi_sale_condos.select(0, 2).group([0], min)\n",
    "last_sale_dates = multi_sale_condos.select(0, 2).group([0], max)\n",
    "\n",
    "# Spot check data\n",
    "first_sale_dates.show(5)\n",
    "last_sale_dates.show(5)"
   ]
  },
  {
   "cell_type": "code",
   "execution_count": 15,
   "metadata": {},
   "outputs": [],
   "source": [
    "# Update Labels\n",
    "\n",
    "first_sale_dates = first_sale_dates.relabel(1, 'FIRST SALE')\n",
    "last_sale_dates = last_sale_dates.relabel(1, 'LAST SALE')"
   ]
  },
  {
   "cell_type": "code",
   "execution_count": 16,
   "metadata": {},
   "outputs": [],
   "source": [
    "# Join with Condos to get the sale price\n",
    "first_sale_dates = first_sale_dates.join(\"FULL ADDRESS\", condos, 'FULL ADDRESS').where('SALE DATE', are.equal_to, 'FIRST SALE')\n",
    "first_sale_dates = first_sale_dates.select('FULL ADDRESS', 'FIRST SALE', 'SALE PRICE').relabel(2, 'FIRST PRICE')\n",
    "\n",
    "\n",
    "last_sale_dates = last_sale_dates.join(\"FULL ADDRESS\", condos, 'FULL ADDRESS').where('SALE DATE', are.equal_to, 'LAST SALE')\n",
    "last_sale_dates = last_sale_dates.select('FULL ADDRESS', 'LAST SALE', 'SALE PRICE').relabel(2, 'LAST PRICE')"
   ]
  },
  {
   "cell_type": "code",
   "execution_count": 17,
   "metadata": {},
   "outputs": [
    {
     "data": {
      "text/html": [
       "<table border=\"1\" class=\"dataframe\">\n",
       "    <thead>\n",
       "        <tr>\n",
       "            <th>FULL ADDRESS</th> <th>FIRST SALE</th> <th>FIRST PRICE</th>\n",
       "        </tr>\n",
       "    </thead>\n",
       "    <tbody>\n",
       "        <tr>\n",
       "            <td>1 BOND STREET, 2C</td> <td>2010-12-15</td> <td>600000     </td>\n",
       "        </tr>\n",
       "    </tbody>\n",
       "        <tr>\n",
       "            <td>1 BOND STREET, 2D</td> <td>2009-04-24</td> <td>1195000    </td>\n",
       "        </tr>\n",
       "    </tbody>\n",
       "        <tr>\n",
       "            <td>1 BOND STREET, 3A</td> <td>2008-06-06</td> <td>5030000    </td>\n",
       "        </tr>\n",
       "    </tbody>\n",
       "        <tr>\n",
       "            <td>1 BOND STREET, 4D</td> <td>2006-08-30</td> <td>1565000    </td>\n",
       "        </tr>\n",
       "    </tbody>\n",
       "        <tr>\n",
       "            <td>1 BOND STREET, 6A</td> <td>2012-12-12</td> <td>3600000    </td>\n",
       "        </tr>\n",
       "    </tbody>\n",
       "</table>\n",
       "<p>... (14685 rows omitted)</p>"
      ],
      "text/plain": [
       "<IPython.core.display.HTML object>"
      ]
     },
     "metadata": {},
     "output_type": "execute_result"
    },
    {
     "data": {
      "text/html": [
       "<table border=\"1\" class=\"dataframe\">\n",
       "    <thead>\n",
       "        <tr>\n",
       "            <th>FULL ADDRESS</th> <th>LAST SALE</th> <th>LAST PRICE</th>\n",
       "        </tr>\n",
       "    </thead>\n",
       "    <tbody>\n",
       "        <tr>\n",
       "            <td>1 BOND STREET, 2C</td> <td>2017-08-18</td> <td>5640000   </td>\n",
       "        </tr>\n",
       "    </tbody>\n",
       "        <tr>\n",
       "            <td>1 BOND STREET, 2D</td> <td>2014-01-07</td> <td>1925000   </td>\n",
       "        </tr>\n",
       "    </tbody>\n",
       "        <tr>\n",
       "            <td>1 BOND STREET, 3A</td> <td>2013-06-14</td> <td>7200000   </td>\n",
       "        </tr>\n",
       "    </tbody>\n",
       "        <tr>\n",
       "            <td>1 BOND STREET, 4D</td> <td>2013-08-20</td> <td>2415000   </td>\n",
       "        </tr>\n",
       "    </tbody>\n",
       "        <tr>\n",
       "            <td>1 BOND STREET, 6A</td> <td>2017-09-06</td> <td>5250000   </td>\n",
       "        </tr>\n",
       "    </tbody>\n",
       "</table>\n",
       "<p>... (14690 rows omitted)</p>"
      ],
      "text/plain": [
       "<IPython.core.display.HTML object>"
      ]
     },
     "metadata": {},
     "output_type": "execute_result"
    }
   ],
   "source": [
    "first_sale_dates.show(5)\n",
    "last_sale_dates.show(5)\n",
    "\n",
    "# Hmm earlier we had 14730 now we have more and they don't match. Could we have duplicates??"
   ]
  },
  {
   "cell_type": "code",
   "execution_count": 46,
   "metadata": {},
   "outputs": [
    {
     "data": {
      "text/html": [
       "<table border=\"1\" class=\"dataframe\">\n",
       "    <thead>\n",
       "        <tr>\n",
       "            <th>FULL ADDRESS</th> <th>FIRST SALE</th> <th>FIRST PRICE</th>\n",
       "        </tr>\n",
       "    </thead>\n",
       "    <tbody>\n",
       "        <tr>\n",
       "            <td>201 WEST 17TH   STREET, 7A</td> <td>2014-03-31</td> <td>999652     </td>\n",
       "        </tr>\n",
       "    </tbody>\n",
       "        <tr>\n",
       "            <td>201 WEST 17TH   STREET, 7A</td> <td>2014-03-31</td> <td>999652     </td>\n",
       "        </tr>\n",
       "    </tbody>\n",
       "        <tr>\n",
       "            <td>201 WEST 17TH   STREET, 7A</td> <td>2014-03-31</td> <td>999652     </td>\n",
       "        </tr>\n",
       "    </tbody>\n",
       "</table>"
      ],
      "text/plain": [
       "<IPython.core.display.HTML object>"
      ]
     },
     "metadata": {},
     "output_type": "execute_result"
    }
   ],
   "source": [
    "# Yep duplicate sales on the same day wtf!\n",
    "first_sale_dates.where(0, are.containing('201 WEST 17TH')).show()\n",
    "# first_sale_dates.groups([0,1]).sort(2, descending=True)"
   ]
  },
  {
   "cell_type": "code",
   "execution_count": 25,
   "metadata": {},
   "outputs": [
    {
     "data": {
      "text/html": [
       "<table border=\"1\" class=\"dataframe\">\n",
       "    <thead>\n",
       "        <tr>\n",
       "            <th>SALE DATE</th> <th>SALE PRICE</th> <th>ADDRESS</th> <th>APARTMENT NUMBER</th> <th>YEAR BUILT</th> <th>NEIGHBORHOOD</th> <th>ZIP CODE</th> <th>BUILDING CLASS AT TIME OF SALE</th> <th>BUILDING CLASS CATEGORY</th> <th>FULL ADDRESS</th>\n",
       "        </tr>\n",
       "    </thead>\n",
       "    <tbody>\n",
       "        <tr>\n",
       "            <td>2006-10-09</td> <td>467251    </td> <td>2 EAST 55 STREET                         </td> <td>921             </td> <td>1903      </td> <td>MIDTOWN CBD              </td> <td>10022   </td> <td>R4                            </td> <td>13  CONDOS - ELEVATOR APARTMENTS            </td> <td>2 EAST 55 STREET, 921</td>\n",
       "        </tr>\n",
       "    </tbody>\n",
       "        <tr>\n",
       "            <td>2006-10-09</td> <td>403977    </td> <td>2 EAST 55 STREET                         </td> <td>921             </td> <td>1903      </td> <td>MIDTOWN CBD              </td> <td>10022   </td> <td>R4                            </td> <td>13  CONDOS - ELEVATOR APARTMENTS            </td> <td>2 EAST 55 STREET, 921</td>\n",
       "        </tr>\n",
       "    </tbody>\n",
       "        <tr>\n",
       "            <td>2006-09-05</td> <td>451230    </td> <td>2 EAST 55 STREET                         </td> <td>921             </td> <td>1903      </td> <td>MIDTOWN CBD              </td> <td>10022   </td> <td>R4                            </td> <td>13  CONDOS - ELEVATOR APARTMENTS            </td> <td>2 EAST 55 STREET, 921</td>\n",
       "        </tr>\n",
       "    </tbody>\n",
       "        <tr>\n",
       "            <td>2006-08-22</td> <td>486720    </td> <td>2 EAST 55 STREET                         </td> <td>921             </td> <td>1903      </td> <td>MIDTOWN CBD              </td> <td>10022   </td> <td>R4                            </td> <td>13  CONDOS - ELEVATOR APARTMENTS            </td> <td>2 EAST 55 STREET, 921</td>\n",
       "        </tr>\n",
       "    </tbody>\n",
       "        <tr>\n",
       "            <td>2006-08-22</td> <td>496860    </td> <td>2 EAST 55 STREET                         </td> <td>921             </td> <td>1903      </td> <td>MIDTOWN CBD              </td> <td>10022   </td> <td>R4                            </td> <td>13  CONDOS - ELEVATOR APARTMENTS            </td> <td>2 EAST 55 STREET, 921</td>\n",
       "        </tr>\n",
       "    </tbody>\n",
       "        <tr>\n",
       "            <td>2006-08-22</td> <td>486922    </td> <td>2 EAST 55 STREET                         </td> <td>921             </td> <td>1903      </td> <td>MIDTOWN CBD              </td> <td>10022   </td> <td>R4                            </td> <td>13  CONDOS - ELEVATOR APARTMENTS            </td> <td>2 EAST 55 STREET, 921</td>\n",
       "        </tr>\n",
       "    </tbody>\n",
       "        <tr>\n",
       "            <td>2006-08-22</td> <td>412393    </td> <td>2 EAST 55 STREET                         </td> <td>921             </td> <td>1903      </td> <td>MIDTOWN CBD              </td> <td>10022   </td> <td>R4                            </td> <td>13  CONDOS - ELEVATOR APARTMENTS            </td> <td>2 EAST 55 STREET, 921</td>\n",
       "        </tr>\n",
       "    </tbody>\n",
       "</table>"
      ],
      "text/plain": [
       "<IPython.core.display.HTML object>"
      ]
     },
     "metadata": {},
     "output_type": "execute_result"
    },
    {
     "data": {
      "text/html": [
       "<table border=\"1\" class=\"dataframe\">\n",
       "    <thead>\n",
       "        <tr>\n",
       "            <th>FULL ADDRESS</th> <th>FIRST SALE</th> <th>FIRST PRICE</th>\n",
       "        </tr>\n",
       "    </thead>\n",
       "    <tbody>\n",
       "</table>"
      ],
      "text/plain": [
       "FULL ADDRESS | FIRST SALE | FIRST PRICE"
      ]
     },
     "execution_count": 25,
     "metadata": {},
     "output_type": "execute_result"
    }
   ],
   "source": [
    "condos.where('FULL ADDRESS', are.equal_to('2 EAST 55 STREET, 921')).show()\n",
    "first_sale_dates.where('FULL ADDRESS', are.containing('201 WEST 17TH STREET'))"
   ]
  },
  {
   "cell_type": "code",
   "execution_count": 20,
   "metadata": {},
   "outputs": [
    {
     "data": {
      "text/html": [
       "<table border=\"1\" class=\"dataframe\">\n",
       "    <thead>\n",
       "        <tr>\n",
       "            <th>SALE DATE</th> <th>SALE PRICE</th> <th>ADDRESS</th> <th>APARTMENT NUMBER</th> <th>YEAR BUILT</th> <th>NEIGHBORHOOD</th> <th>ZIP CODE</th> <th>BUILDING CLASS AT TIME OF SALE</th> <th>BUILDING CLASS CATEGORY</th> <th>FULL ADDRESS</th>\n",
       "        </tr>\n",
       "    </thead>\n",
       "    <tbody>\n",
       "        <tr>\n",
       "            <td>2016-01-26</td> <td>1934675   </td> <td>201 WEST 17TH STREET                     </td> <td>5C              </td> <td>0         </td> <td>CHELSEA                  </td> <td>10011   </td> <td>R4                            </td> <td>13  CONDOS - ELEVATOR APARTMENTS            </td> <td>201 WEST 17TH STREET, 5C  </td>\n",
       "        </tr>\n",
       "    </tbody>\n",
       "        <tr>\n",
       "            <td>2016-11-04</td> <td>5250000   </td> <td>201 WEST 17TH STREET                     </td> <td>PH-F            </td> <td>0         </td> <td>CHELSEA                  </td> <td>10011   </td> <td>R4                            </td> <td>13  CONDOS - ELEVATOR APARTMENTS            </td> <td>201 WEST 17TH STREET, PH-F</td>\n",
       "        </tr>\n",
       "    </tbody>\n",
       "        <tr>\n",
       "            <td>2004-12-01</td> <td>1350000   </td> <td>201 WEST 17TH STREET                     </td> <td>4C              </td> <td>0         </td> <td>CHELSEA                  </td> <td>10011   </td> <td>R4                            </td> <td>13  CONDOS - ELEVATOR APARTMENTS            </td> <td>201 WEST 17TH STREET, 4C  </td>\n",
       "        </tr>\n",
       "    </tbody>\n",
       "        <tr>\n",
       "            <td>2005-06-20</td> <td>2200000   </td> <td>201 WEST 17TH STREET                     </td> <td>9B              </td> <td>0         </td> <td>CHELSEA                  </td> <td>10011   </td> <td>R4                            </td> <td>13  CONDOS - ELEVATOR APARTMENTS            </td> <td>201 WEST 17TH STREET, 9B  </td>\n",
       "        </tr>\n",
       "    </tbody>\n",
       "        <tr>\n",
       "            <td>2010-04-23</td> <td>2100000   </td> <td>201 WEST 17TH STREET                     </td> <td>2B              </td> <td>0         </td> <td>CHELSEA                  </td> <td>10011   </td> <td>R4                            </td> <td>13  CONDOS - ELEVATOR APARTMENTS            </td> <td>201 WEST 17TH STREET, 2B  </td>\n",
       "        </tr>\n",
       "    </tbody>\n",
       "</table>"
      ],
      "text/plain": [
       "SALE DATE  | SALE PRICE | ADDRESS                                   | APARTMENT NUMBER | YEAR BUILT | NEIGHBORHOOD              | ZIP CODE | BUILDING CLASS AT TIME OF SALE | BUILDING CLASS CATEGORY                      | FULL ADDRESS\n",
       "2016-01-26 | 1934675    | 201 WEST 17TH STREET                      | 5C               | 0          | CHELSEA                   | 10011    | R4                             | 13  CONDOS - ELEVATOR APARTMENTS             | 201 WEST 17TH STREET, 5C\n",
       "2016-11-04 | 5250000    | 201 WEST 17TH STREET                      | PH-F             | 0          | CHELSEA                   | 10011    | R4                             | 13  CONDOS - ELEVATOR APARTMENTS             | 201 WEST 17TH STREET, PH-F\n",
       "2004-12-01 | 1350000    | 201 WEST 17TH STREET                      | 4C               | 0          | CHELSEA                   | 10011    | R4                             | 13  CONDOS - ELEVATOR APARTMENTS             | 201 WEST 17TH STREET, 4C\n",
       "2005-06-20 | 2200000    | 201 WEST 17TH STREET                      | 9B               | 0          | CHELSEA                   | 10011    | R4                             | 13  CONDOS - ELEVATOR APARTMENTS             | 201 WEST 17TH STREET, 9B\n",
       "2010-04-23 | 2100000    | 201 WEST 17TH STREET                      | 2B               | 0          | CHELSEA                   | 10011    | R4                             | 13  CONDOS - ELEVATOR APARTMENTS             | 201 WEST 17TH STREET, 2B"
      ]
     },
     "execution_count": 20,
     "metadata": {},
     "output_type": "execute_result"
    }
   ],
   "source": [
    "\n"
   ]
  }
 ],
 "metadata": {
  "kernelspec": {
   "display_name": "Python 3",
   "language": "python",
   "name": "python3"
  },
  "language_info": {
   "codemirror_mode": {
    "name": "ipython",
    "version": 3
   },
   "file_extension": ".py",
   "mimetype": "text/x-python",
   "name": "python",
   "nbconvert_exporter": "python",
   "pygments_lexer": "ipython3",
   "version": "3.6.5"
  }
 },
 "nbformat": 4,
 "nbformat_minor": 1
}
